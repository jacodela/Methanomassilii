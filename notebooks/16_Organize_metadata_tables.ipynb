{
 "cells": [
  {
   "cell_type": "markdown",
   "metadata": {},
   "source": [
    "# Goal\n",
    "\n",
    "Jacobo de la Cuesta. November 2018.\n",
    "\n",
    "The goal of this notebook is to gather and organize the metadata files for the association analyses of vadinCA11 and cardiovascular disease"
   ]
  },
  {
   "cell_type": "markdown",
   "metadata": {},
   "source": [
    "# Init"
   ]
  },
  {
   "cell_type": "code",
   "execution_count": 1,
   "metadata": {
    "ExecuteTime": {
     "end_time": "2018-12-12T09:42:50.140516Z",
     "start_time": "2018-12-12T09:42:44.870Z"
    }
   },
   "outputs": [
    {
     "name": "stderr",
     "output_type": "stream",
     "text": [
      "Loading tidyverse: ggplot2\n",
      "Loading tidyverse: tibble\n",
      "Loading tidyverse: tidyr\n",
      "Loading tidyverse: readr\n",
      "Loading tidyverse: purrr\n",
      "Loading tidyverse: dplyr\n",
      "Warning message:\n",
      "“package ‘ggplot2’ was built under R version 3.4.3”Warning message:\n",
      "“package ‘tibble’ was built under R version 3.4.3”Warning message:\n",
      "“package ‘tidyr’ was built under R version 3.4.3”Warning message:\n",
      "“package ‘purrr’ was built under R version 3.4.3”Warning message:\n",
      "“package ‘dplyr’ was built under R version 3.4.3”Conflicts with tidy packages ---------------------------------------------------\n",
      "filter(): dplyr, stats\n",
      "lag():    dplyr, stats\n"
     ]
    }
   ],
   "source": [
    "library(tidyverse)"
   ]
  },
  {
   "cell_type": "code",
   "execution_count": 2,
   "metadata": {
    "ExecuteTime": {
     "end_time": "2018-12-12T09:42:50.223613Z",
     "start_time": "2018-12-12T09:42:44.874Z"
    }
   },
   "outputs": [],
   "source": [
    "source(\"/ebio/abt3_projects/vadinCA11/data/V11/R_utils/utils.R\")"
   ]
  },
  {
   "cell_type": "markdown",
   "metadata": {},
   "source": [
    "# Var"
   ]
  },
  {
   "cell_type": "code",
   "execution_count": 3,
   "metadata": {
    "ExecuteTime": {
     "end_time": "2018-12-12T09:42:53.898308Z",
     "start_time": "2018-12-12T09:42:44.877Z"
    }
   },
   "outputs": [
    {
     "name": "stderr",
     "output_type": "stream",
     "text": [
      "Warning message:\n",
      "“package ‘bindrcpp’ was built under R version 3.4.3”"
     ]
    },
    {
     "name": "stdout",
     "output_type": "stream",
     "text": [
      "[1] 162575     13\n"
     ]
    },
    {
     "data": {
      "text/html": [
       "<table>\n",
       "<thead><tr><th scope=col>MicrobiomeID</th><th scope=col>DATE_BORN</th><th scope=col>SEX</th><th scope=col>ACTUAL_ZYGOSITY</th><th scope=col>Anomaly</th><th scope=col>Ethnic_Origin</th><th scope=col>Visit_Date</th><th scope=col>PhenID</th><th scope=col>Phen_value</th><th scope=col>FPBarcode</th><th scope=col>SequencingSpecificName</th><th scope=col>delta_days</th><th scope=col>calculated_age</th></tr></thead>\n",
       "<tbody>\n",
       "\t<tr><td>NA52071   </td><td>1931-07-15</td><td>F         </td><td>MZ        </td><td>NA        </td><td>White     </td><td>2008-05-07</td><td>P001394   </td><td>125       </td><td>1002741   </td><td>Plate6.49 </td><td>1042      </td><td>76        </td></tr>\n",
       "\t<tr><td>NA52071   </td><td>1931-07-15</td><td>F         </td><td>MZ        </td><td>NA        </td><td>White     </td><td>2008-05-07</td><td>P001395   </td><td>62        </td><td>1002741   </td><td>Plate6.49 </td><td>1042      </td><td>76        </td></tr>\n",
       "\t<tr><td>NA52071   </td><td>1931-07-15</td><td>F         </td><td>MZ        </td><td>NA        </td><td>White     </td><td>2008-05-07</td><td>P001396   </td><td>125       </td><td>1002741   </td><td>Plate6.49 </td><td>1042      </td><td>76        </td></tr>\n",
       "</tbody>\n",
       "</table>\n"
      ],
      "text/latex": [
       "\\begin{tabular}{r|lllllllllllll}\n",
       " MicrobiomeID & DATE\\_BORN & SEX & ACTUAL\\_ZYGOSITY & Anomaly & Ethnic\\_Origin & Visit\\_Date & PhenID & Phen\\_value & FPBarcode & SequencingSpecificName & delta\\_days & calculated\\_age\\\\\n",
       "\\hline\n",
       "\t NA52071    & 1931-07-15 & F          & MZ         & NA         & White      & 2008-05-07 & P001394    & 125        & 1002741    & Plate6.49  & 1042       & 76        \\\\\n",
       "\t NA52071    & 1931-07-15 & F          & MZ         & NA         & White      & 2008-05-07 & P001395    & 62         & 1002741    & Plate6.49  & 1042       & 76        \\\\\n",
       "\t NA52071    & 1931-07-15 & F          & MZ         & NA         & White      & 2008-05-07 & P001396    & 125        & 1002741    & Plate6.49  & 1042       & 76        \\\\\n",
       "\\end{tabular}\n"
      ],
      "text/markdown": [
       "\n",
       "MicrobiomeID | DATE_BORN | SEX | ACTUAL_ZYGOSITY | Anomaly | Ethnic_Origin | Visit_Date | PhenID | Phen_value | FPBarcode | SequencingSpecificName | delta_days | calculated_age | \n",
       "|---|---|---|\n",
       "| NA52071    | 1931-07-15 | F          | MZ         | NA         | White      | 2008-05-07 | P001394    | 125        | 1002741    | Plate6.49  | 1042       | 76         | \n",
       "| NA52071    | 1931-07-15 | F          | MZ         | NA         | White      | 2008-05-07 | P001395    | 62         | 1002741    | Plate6.49  | 1042       | 76         | \n",
       "| NA52071    | 1931-07-15 | F          | MZ         | NA         | White      | 2008-05-07 | P001396    | 125        | 1002741    | Plate6.49  | 1042       | 76         | \n",
       "\n",
       "\n"
      ],
      "text/plain": [
       "  MicrobiomeID DATE_BORN  SEX ACTUAL_ZYGOSITY Anomaly Ethnic_Origin Visit_Date\n",
       "1 NA52071      1931-07-15 F   MZ              NA      White         2008-05-07\n",
       "2 NA52071      1931-07-15 F   MZ              NA      White         2008-05-07\n",
       "3 NA52071      1931-07-15 F   MZ              NA      White         2008-05-07\n",
       "  PhenID  Phen_value FPBarcode SequencingSpecificName delta_days calculated_age\n",
       "1 P001394 125        1002741   Plate6.49              1042       76            \n",
       "2 P001395 62         1002741   Plate6.49              1042       76            \n",
       "3 P001396 125        1002741   Plate6.49              1042       76            "
      ]
     },
     "metadata": {},
     "output_type": "display_data"
    }
   ],
   "source": [
    "# Blood pressure data\n",
    "E788_16S_file = '/ebio/abt3_projects/TwinsUK/PhenotypeData/E788/E788_230317.1_16S.txt'\n",
    "\n",
    "E788 = read.delim(E788_16S_file, sep='\\t') %>%\n",
    "    mutate(DATE_BORN = DATE_BORN %>% as.Date(format='%Y-%m-%d'),\n",
    "           Visit_Date = Visit_Date %>% as.Date(foramt='%Y-%m-%d')) %>%\n",
    "    mutate(calculated_age = floor(difftime(Visit_Date, DATE_BORN)/365) %>% as.vector)\n",
    "E788 %>% dfhead"
   ]
  },
  {
   "cell_type": "code",
   "execution_count": 4,
   "metadata": {
    "ExecuteTime": {
     "end_time": "2018-12-12T09:42:53.999505Z",
     "start_time": "2018-12-12T09:42:44.881Z"
    }
   },
   "outputs": [
    {
     "name": "stdout",
     "output_type": "stream",
     "text": [
      "[1] 250  56\n"
     ]
    },
    {
     "data": {
      "text/html": [
       "<table>\n",
       "<thead><tr><th scope=col>BGI_ID</th><th scope=col>BGI_DNA_Concentration_ng_per_ul</th><th scope=col>BGI_DNA_Total_Quantity_ug</th><th scope=col>TwinsUK_ID_on_sample</th><th scope=col>CornellSampleBarcode</th><th scope=col>CollectionMethod</th><th scope=col>SampleShipmentNum</th><th scope=col>SampleTwinsUKReceiveDate</th><th scope=col>SampleCollectionDate</th><th scope=col>SampleCollectionTime</th><th scope=col>⋯</th><th scope=col>Anxiety_Q17A_12</th><th scope=col>Anxiety_Q17A_13</th><th scope=col>Anxiety_Q17A_14</th><th scope=col>Anxiety_Q17A_15</th><th scope=col>Anxiety_Q17A_16</th><th scope=col>Anxiety_Q17A_17</th><th scope=col>Anxiety_Q17A_18</th><th scope=col>Anxiety_Q17A_19</th><th scope=col>Anomaly</th><th scope=col>Ethnic_Origin</th></tr></thead>\n",
       "<tbody>\n",
       "\t<tr><td>35577    </td><td> 62.34100</td><td>3.117000 </td><td>10601    </td><td>1002409  </td><td>Visit    </td><td>2        </td><td>1/4/11   </td><td>1/3/11   </td><td>21:20    </td><td>⋯        </td><td>0        </td><td>1        </td><td>0        </td><td>3        </td><td>0        </td><td>0        </td><td>0        </td><td>0        </td><td>None     </td><td>White    </td></tr>\n",
       "\t<tr><td>35578    </td><td>135.40600</td><td>6.770000 </td><td>10602    </td><td>1002425  </td><td>Visit    </td><td>2        </td><td>1/4/11   </td><td>1/2/11   </td><td>11:10    </td><td>⋯        </td><td>0        </td><td>0        </td><td>0        </td><td>0        </td><td>0        </td><td>0        </td><td>0        </td><td>0        </td><td>None     </td><td>White    </td></tr>\n",
       "\t<tr><td>37096    </td><td> 31.06946</td><td>1.553473 </td><td> 1161    </td><td>1003428  </td><td>Visit    </td><td>5        </td><td>9/13/11  </td><td>9/12/11  </td><td>11:00    </td><td>⋯        </td><td>2        </td><td>2        </td><td>0        </td><td>0        </td><td>0        </td><td>1        </td><td>0        </td><td>0        </td><td>None     </td><td>White    </td></tr>\n",
       "</tbody>\n",
       "</table>\n"
      ],
      "text/latex": [
       "\\begin{tabular}{r|llllllllllllllllllllllllllllllllllllllllllllllllllllllll}\n",
       " BGI\\_ID & BGI\\_DNA\\_Concentration\\_ng\\_per\\_ul & BGI\\_DNA\\_Total\\_Quantity\\_ug & TwinsUK\\_ID\\_on\\_sample & CornellSampleBarcode & CollectionMethod & SampleShipmentNum & SampleTwinsUKReceiveDate & SampleCollectionDate & SampleCollectionTime & ⋯ & Anxiety\\_Q17A\\_12 & Anxiety\\_Q17A\\_13 & Anxiety\\_Q17A\\_14 & Anxiety\\_Q17A\\_15 & Anxiety\\_Q17A\\_16 & Anxiety\\_Q17A\\_17 & Anxiety\\_Q17A\\_18 & Anxiety\\_Q17A\\_19 & Anomaly & Ethnic\\_Origin\\\\\n",
       "\\hline\n",
       "\t 35577     &  62.34100 & 3.117000  & 10601     & 1002409   & Visit     & 2         & 1/4/11    & 1/3/11    & 21:20     & ⋯         & 0         & 1         & 0         & 3         & 0         & 0         & 0         & 0         & None      & White    \\\\\n",
       "\t 35578     & 135.40600 & 6.770000  & 10602     & 1002425   & Visit     & 2         & 1/4/11    & 1/2/11    & 11:10     & ⋯         & 0         & 0         & 0         & 0         & 0         & 0         & 0         & 0         & None      & White    \\\\\n",
       "\t 37096     &  31.06946 & 1.553473  &  1161     & 1003428   & Visit     & 5         & 9/13/11   & 9/12/11   & 11:00     & ⋯         & 2         & 2         & 0         & 0         & 0         & 1         & 0         & 0         & None      & White    \\\\\n",
       "\\end{tabular}\n"
      ],
      "text/markdown": [
       "\n",
       "BGI_ID | BGI_DNA_Concentration_ng_per_ul | BGI_DNA_Total_Quantity_ug | TwinsUK_ID_on_sample | CornellSampleBarcode | CollectionMethod | SampleShipmentNum | SampleTwinsUKReceiveDate | SampleCollectionDate | SampleCollectionTime | ⋯ | Anxiety_Q17A_12 | Anxiety_Q17A_13 | Anxiety_Q17A_14 | Anxiety_Q17A_15 | Anxiety_Q17A_16 | Anxiety_Q17A_17 | Anxiety_Q17A_18 | Anxiety_Q17A_19 | Anomaly | Ethnic_Origin | \n",
       "|---|---|---|\n",
       "| 35577     |  62.34100 | 3.117000  | 10601     | 1002409   | Visit     | 2         | 1/4/11    | 1/3/11    | 21:20     | ⋯         | 0         | 1         | 0         | 3         | 0         | 0         | 0         | 0         | None      | White     | \n",
       "| 35578     | 135.40600 | 6.770000  | 10602     | 1002425   | Visit     | 2         | 1/4/11    | 1/2/11    | 11:10     | ⋯         | 0         | 0         | 0         | 0         | 0         | 0         | 0         | 0         | None      | White     | \n",
       "| 37096     |  31.06946 | 1.553473  |  1161     | 1003428   | Visit     | 5         | 9/13/11   | 9/12/11   | 11:00     | ⋯         | 2         | 2         | 0         | 0         | 0         | 1         | 0         | 0         | None      | White     | \n",
       "\n",
       "\n"
      ],
      "text/plain": [
       "  BGI_ID BGI_DNA_Concentration_ng_per_ul BGI_DNA_Total_Quantity_ug\n",
       "1 35577   62.34100                       3.117000                 \n",
       "2 35578  135.40600                       6.770000                 \n",
       "3 37096   31.06946                       1.553473                 \n",
       "  TwinsUK_ID_on_sample CornellSampleBarcode CollectionMethod SampleShipmentNum\n",
       "1 10601                1002409              Visit            2                \n",
       "2 10602                1002425              Visit            2                \n",
       "3  1161                1003428              Visit            5                \n",
       "  SampleTwinsUKReceiveDate SampleCollectionDate SampleCollectionTime ⋯\n",
       "1 1/4/11                   1/3/11               21:20                ⋯\n",
       "2 1/4/11                   1/2/11               11:10                ⋯\n",
       "3 9/13/11                  9/12/11              11:00                ⋯\n",
       "  Anxiety_Q17A_12 Anxiety_Q17A_13 Anxiety_Q17A_14 Anxiety_Q17A_15\n",
       "1 0               1               0               3              \n",
       "2 0               0               0               0              \n",
       "3 2               2               0               0              \n",
       "  Anxiety_Q17A_16 Anxiety_Q17A_17 Anxiety_Q17A_18 Anxiety_Q17A_19 Anomaly\n",
       "1 0               0               0               0               None   \n",
       "2 0               0               0               0               None   \n",
       "3 0               1               0               0               None   \n",
       "  Ethnic_Origin\n",
       "1 White        \n",
       "2 White        \n",
       "3 White        "
      ]
     },
     "metadata": {},
     "output_type": "display_data"
    }
   ],
   "source": [
    "# BGI250 names and barcodes file\n",
    "BGI250_names_file = '/ebio/abt3_projects/TwinsUK/BGItwin250/2015-BGItwin250_sample_info_for_Ilana.txt'\n",
    "BGI250_names = read.delim(BGI250_names_file, sep='\\t')\n",
    "BGI250_names %>% dfhead"
   ]
  },
  {
   "cell_type": "code",
   "execution_count": 5,
   "metadata": {
    "ExecuteTime": {
     "end_time": "2018-12-12T09:42:54.116159Z",
     "start_time": "2018-12-12T09:42:44.884Z"
    }
   },
   "outputs": [
    {
     "name": "stdout",
     "output_type": "stream",
     "text": [
      "[1] 254  28\n"
     ]
    },
    {
     "data": {
      "text/html": [
       "<table>\n",
       "<thead><tr><th scope=col>BGI.ID</th><th scope=col>KCL.ID</th><th scope=col>Twin.Pair.Number</th><th scope=col>Zygosity</th><th scope=col>Sex</th><th scope=col>Age.at.metagenomics.sample</th><th scope=col>Age.at.twins.start.living.apart</th><th scope=col>Birth.Order</th><th scope=col>Type.of.delivery</th><th scope=col>BMI</th><th scope=col>⋯</th><th scope=col>Currently..how.many.minutes.per.week.do.you.spend.walking.briskly...gardening.vigorously.</th><th scope=col>Diabetes</th><th scope=col>Drugs.Diabetic.Tablets.</th><th scope=col>Drugs.Insulin.</th><th scope=col>FamilyID</th><th scope=col>TwinID</th><th scope=col>BirthDate</th><th scope=col>Age</th><th scope=col>Ethnic_Origin</th><th scope=col>X2008_AS</th></tr></thead>\n",
       "<tbody>\n",
       "\t<tr><td>35365             </td><td>81971             </td><td>89                </td><td>MZ                </td><td>FALSE             </td><td>62                </td><td>28                </td><td>NA                </td><td>NA                </td><td>38.35             </td><td>⋯                 </td><td>600               </td><td>Y                 </td><td>N                 </td><td>GLARGINE;NOVORAPID</td><td>NA8197            </td><td>NA81971           </td><td>11/12/48          </td><td>61                </td><td>White             </td><td> 3                </td></tr>\n",
       "\t<tr><td>35366             </td><td>81972             </td><td>89                </td><td>MZ                </td><td>FALSE             </td><td>62                </td><td>28                </td><td>NA                </td><td>NA                </td><td>40.99             </td><td>⋯                 </td><td> NA               </td><td>Y                 </td><td>N                 </td><td>N                 </td><td>NA8197            </td><td>NA81972           </td><td>11/12/48          </td><td>61                </td><td>White             </td><td> 2                </td></tr>\n",
       "\t<tr><td>35387             </td><td>21081             </td><td>18                </td><td>DZ                </td><td>FALSE             </td><td>50                </td><td>16                </td><td>Second            </td><td>Natural Birth     </td><td>19.69             </td><td>⋯                 </td><td>240               </td><td>N                 </td><td>N                 </td><td>N                 </td><td>NA                </td><td>NA                </td><td>NA                </td><td>NA                </td><td>NA                </td><td>NA                </td></tr>\n",
       "</tbody>\n",
       "</table>\n"
      ],
      "text/latex": [
       "\\begin{tabular}{r|llllllllllllllllllllllllllll}\n",
       " BGI.ID & KCL.ID & Twin.Pair.Number & Zygosity & Sex & Age.at.metagenomics.sample & Age.at.twins.start.living.apart & Birth.Order & Type.of.delivery & BMI & ⋯ & Currently..how.many.minutes.per.week.do.you.spend.walking.briskly...gardening.vigorously. & Diabetes & Drugs.Diabetic.Tablets. & Drugs.Insulin. & FamilyID & TwinID & BirthDate & Age & Ethnic\\_Origin & X2008\\_AS\\\\\n",
       "\\hline\n",
       "\t 35365              & 81971              & 89                 & MZ                 & FALSE              & 62                 & 28                 & NA                 & NA                 & 38.35              & ⋯                  & 600                & Y                  & N                  & GLARGINE;NOVORAPID & NA8197             & NA81971            & 11/12/48           & 61                 & White              &  3                \\\\\n",
       "\t 35366              & 81972              & 89                 & MZ                 & FALSE              & 62                 & 28                 & NA                 & NA                 & 40.99              & ⋯                  &  NA                & Y                  & N                  & N                  & NA8197             & NA81972            & 11/12/48           & 61                 & White              &  2                \\\\\n",
       "\t 35387              & 21081              & 18                 & DZ                 & FALSE              & 50                 & 16                 & Second             & Natural Birth      & 19.69              & ⋯                  & 240                & N                  & N                  & N                  & NA                 & NA                 & NA                 & NA                 & NA                 & NA                \\\\\n",
       "\\end{tabular}\n"
      ],
      "text/markdown": [
       "\n",
       "BGI.ID | KCL.ID | Twin.Pair.Number | Zygosity | Sex | Age.at.metagenomics.sample | Age.at.twins.start.living.apart | Birth.Order | Type.of.delivery | BMI | ⋯ | Currently..how.many.minutes.per.week.do.you.spend.walking.briskly...gardening.vigorously. | Diabetes | Drugs.Diabetic.Tablets. | Drugs.Insulin. | FamilyID | TwinID | BirthDate | Age | Ethnic_Origin | X2008_AS | \n",
       "|---|---|---|\n",
       "| 35365              | 81971              | 89                 | MZ                 | FALSE              | 62                 | 28                 | NA                 | NA                 | 38.35              | ⋯                  | 600                | Y                  | N                  | GLARGINE;NOVORAPID | NA8197             | NA81971            | 11/12/48           | 61                 | White              |  3                 | \n",
       "| 35366              | 81972              | 89                 | MZ                 | FALSE              | 62                 | 28                 | NA                 | NA                 | 40.99              | ⋯                  |  NA                | Y                  | N                  | N                  | NA8197             | NA81972            | 11/12/48           | 61                 | White              |  2                 | \n",
       "| 35387              | 21081              | 18                 | DZ                 | FALSE              | 50                 | 16                 | Second             | Natural Birth      | 19.69              | ⋯                  | 240                | N                  | N                  | N                  | NA                 | NA                 | NA                 | NA                 | NA                 | NA                 | \n",
       "\n",
       "\n"
      ],
      "text/plain": [
       "  BGI.ID KCL.ID Twin.Pair.Number Zygosity Sex   Age.at.metagenomics.sample\n",
       "1 35365  81971  89               MZ       FALSE 62                        \n",
       "2 35366  81972  89               MZ       FALSE 62                        \n",
       "3 35387  21081  18               DZ       FALSE 50                        \n",
       "  Age.at.twins.start.living.apart Birth.Order Type.of.delivery BMI   ⋯\n",
       "1 28                              NA          NA               38.35 ⋯\n",
       "2 28                              NA          NA               40.99 ⋯\n",
       "3 16                              Second      Natural Birth    19.69 ⋯\n",
       "  Currently..how.many.minutes.per.week.do.you.spend.walking.briskly...gardening.vigorously.\n",
       "1 600                                                                                      \n",
       "2  NA                                                                                      \n",
       "3 240                                                                                      \n",
       "  Diabetes Drugs.Diabetic.Tablets. Drugs.Insulin.     FamilyID TwinID \n",
       "1 Y        N                       GLARGINE;NOVORAPID NA8197   NA81971\n",
       "2 Y        N                       N                  NA8197   NA81972\n",
       "3 N        N                       N                  NA       NA     \n",
       "  BirthDate Age Ethnic_Origin X2008_AS\n",
       "1 11/12/48  61  White          3      \n",
       "2 11/12/48  61  White          2      \n",
       "3 NA        NA  NA            NA      "
      ]
     },
     "metadata": {},
     "output_type": "display_data"
    }
   ],
   "source": [
    "# BGI250 metadata\n",
    "# Load\n",
    "xu_metadata_file1 = '/ebio/abt3_projects/Anxiety_Twins_Metagenomes/data/metadata/Xu_BGI250MG_metadata1.txt'\n",
    "xu_metadata1 = read.delim(xu_metadata_file1, sep='\\t')\n",
    "\n",
    "xu_metadata_file2 = '/ebio/abt3_projects/Anxiety_Twins_Metagenomes/data/metadata/Xu_BGI250MG_metadata2.txt'\n",
    "xu_metadata2 = read.delim(xu_metadata_file2, sep='\\t')\n",
    "\n",
    "# Join by BGI_ID\n",
    "# \n",
    "BGI250_metadata = left_join(xu_metadata1, xu_metadata2, \n",
    "              by = c(\"BGI.ID\" = \"BGI.id\", \"Twin.Pair.Number\", \"Zygosity\", \"Sex\", \"Age.at.metagenomics.sample\"))\n",
    "BGI250_metadata %>% dfhead"
   ]
  },
  {
   "cell_type": "code",
   "execution_count": 6,
   "metadata": {
    "ExecuteTime": {
     "end_time": "2018-12-12T09:42:54.244729Z",
     "start_time": "2018-12-12T09:42:44.888Z"
    }
   },
   "outputs": [
    {
     "name": "stderr",
     "output_type": "stream",
     "text": [
      "Joining, by = \"BGI.ID\"\n"
     ]
    },
    {
     "name": "stdout",
     "output_type": "stream",
     "text": [
      "[1] 250  36\n"
     ]
    },
    {
     "data": {
      "text/html": [
       "<table>\n",
       "<thead><tr><th scope=col>BGI.ID</th><th scope=col>CornellSampleBarcode</th><th scope=col>IndividualID</th><th scope=col>IndividualGender</th><th scope=col>IndividualZygosity</th><th scope=col>IndividualFamilyID</th><th scope=col>IndividualTwinID</th><th scope=col>IndividualAge</th><th scope=col>IndividualBMI</th><th scope=col>KCL.ID</th><th scope=col>⋯</th><th scope=col>Currently..how.many.minutes.per.week.do.you.spend.walking.briskly...gardening.vigorously.</th><th scope=col>Diabetes</th><th scope=col>Drugs.Diabetic.Tablets.</th><th scope=col>Drugs.Insulin.</th><th scope=col>FamilyID</th><th scope=col>TwinID</th><th scope=col>BirthDate</th><th scope=col>Age</th><th scope=col>Ethnic_Origin</th><th scope=col>X2008_AS</th></tr></thead>\n",
       "<tbody>\n",
       "\t<tr><td>35577   </td><td>1002409 </td><td>NA10601 </td><td>FALSE   </td><td>MZ      </td><td>NA1060  </td><td>NA10601 </td><td>59      </td><td>38.04688</td><td>10601   </td><td>⋯       </td><td>240     </td><td>N       </td><td>N       </td><td>N       </td><td>NA1060  </td><td>NA10601 </td><td>7/17/51 </td><td>59      </td><td>White   </td><td>1       </td></tr>\n",
       "\t<tr><td>35578   </td><td>1002425 </td><td>NA10602 </td><td>FALSE   </td><td>MZ      </td><td>NA1060  </td><td>NA10602 </td><td>59      </td><td>31.79819</td><td>10602   </td><td>⋯       </td><td>  0     </td><td>N       </td><td>N       </td><td>N       </td><td>NA1060  </td><td>NA10602 </td><td>7/17/51 </td><td>59      </td><td>White   </td><td>1       </td></tr>\n",
       "\t<tr><td>37096   </td><td>1003428 </td><td>NA1161  </td><td>FALSE   </td><td>DZ      </td><td>NA116   </td><td>NA1161  </td><td>64      </td><td>35.74951</td><td> 1161   </td><td>⋯       </td><td> 80     </td><td>N       </td><td>N       </td><td>N       </td><td>NA116   </td><td>NA1161  </td><td>4/1/47  </td><td>64      </td><td>White   </td><td>1       </td></tr>\n",
       "</tbody>\n",
       "</table>\n"
      ],
      "text/latex": [
       "\\begin{tabular}{r|llllllllllllllllllllllllllllllllllll}\n",
       " BGI.ID & CornellSampleBarcode & IndividualID & IndividualGender & IndividualZygosity & IndividualFamilyID & IndividualTwinID & IndividualAge & IndividualBMI & KCL.ID & ⋯ & Currently..how.many.minutes.per.week.do.you.spend.walking.briskly...gardening.vigorously. & Diabetes & Drugs.Diabetic.Tablets. & Drugs.Insulin. & FamilyID & TwinID & BirthDate & Age & Ethnic\\_Origin & X2008\\_AS\\\\\n",
       "\\hline\n",
       "\t 35577    & 1002409  & NA10601  & FALSE    & MZ       & NA1060   & NA10601  & 59       & 38.04688 & 10601    & ⋯        & 240      & N        & N        & N        & NA1060   & NA10601  & 7/17/51  & 59       & White    & 1       \\\\\n",
       "\t 35578    & 1002425  & NA10602  & FALSE    & MZ       & NA1060   & NA10602  & 59       & 31.79819 & 10602    & ⋯        &   0      & N        & N        & N        & NA1060   & NA10602  & 7/17/51  & 59       & White    & 1       \\\\\n",
       "\t 37096    & 1003428  & NA1161   & FALSE    & DZ       & NA116    & NA1161   & 64       & 35.74951 &  1161    & ⋯        &  80      & N        & N        & N        & NA116    & NA1161   & 4/1/47   & 64       & White    & 1       \\\\\n",
       "\\end{tabular}\n"
      ],
      "text/markdown": [
       "\n",
       "BGI.ID | CornellSampleBarcode | IndividualID | IndividualGender | IndividualZygosity | IndividualFamilyID | IndividualTwinID | IndividualAge | IndividualBMI | KCL.ID | ⋯ | Currently..how.many.minutes.per.week.do.you.spend.walking.briskly...gardening.vigorously. | Diabetes | Drugs.Diabetic.Tablets. | Drugs.Insulin. | FamilyID | TwinID | BirthDate | Age | Ethnic_Origin | X2008_AS | \n",
       "|---|---|---|\n",
       "| 35577    | 1002409  | NA10601  | FALSE    | MZ       | NA1060   | NA10601  | 59       | 38.04688 | 10601    | ⋯        | 240      | N        | N        | N        | NA1060   | NA10601  | 7/17/51  | 59       | White    | 1        | \n",
       "| 35578    | 1002425  | NA10602  | FALSE    | MZ       | NA1060   | NA10602  | 59       | 31.79819 | 10602    | ⋯        |   0      | N        | N        | N        | NA1060   | NA10602  | 7/17/51  | 59       | White    | 1        | \n",
       "| 37096    | 1003428  | NA1161   | FALSE    | DZ       | NA116    | NA1161   | 64       | 35.74951 |  1161    | ⋯        |  80      | N        | N        | N        | NA116    | NA1161   | 4/1/47   | 64       | White    | 1        | \n",
       "\n",
       "\n"
      ],
      "text/plain": [
       "  BGI.ID CornellSampleBarcode IndividualID IndividualGender IndividualZygosity\n",
       "1 35577  1002409              NA10601      FALSE            MZ                \n",
       "2 35578  1002425              NA10602      FALSE            MZ                \n",
       "3 37096  1003428              NA1161       FALSE            DZ                \n",
       "  IndividualFamilyID IndividualTwinID IndividualAge IndividualBMI KCL.ID ⋯\n",
       "1 NA1060             NA10601          59            38.04688      10601  ⋯\n",
       "2 NA1060             NA10602          59            31.79819      10602  ⋯\n",
       "3 NA116              NA1161           64            35.74951       1161  ⋯\n",
       "  Currently..how.many.minutes.per.week.do.you.spend.walking.briskly...gardening.vigorously.\n",
       "1 240                                                                                      \n",
       "2   0                                                                                      \n",
       "3  80                                                                                      \n",
       "  Diabetes Drugs.Diabetic.Tablets. Drugs.Insulin. FamilyID TwinID  BirthDate\n",
       "1 N        N                       N              NA1060   NA10601 7/17/51  \n",
       "2 N        N                       N              NA1060   NA10602 7/17/51  \n",
       "3 N        N                       N              NA116    NA1161  4/1/47   \n",
       "  Age Ethnic_Origin X2008_AS\n",
       "1 59  White         1       \n",
       "2 59  White         1       \n",
       "3 64  White         1       "
      ]
     },
     "metadata": {},
     "output_type": "display_data"
    }
   ],
   "source": [
    "# Merge the two BGI250 tables\n",
    "BGI_tmp_names = BGI250_names %>% select(BGI.ID = BGI_ID, CornellSampleBarcode, IndividualID,\n",
    "                                  IndividualGender, IndividualZygosity, IndividualFamilyID, \n",
    "                                  IndividualTwinID, IndividualAge, IndividualBMI) \n",
    "\n",
    "BGI_merged = left_join(BGI_tmp_names, BGI250_metadata) \n",
    "BGI_merged %>% dfhead"
   ]
  },
  {
   "cell_type": "code",
   "execution_count": 7,
   "metadata": {
    "ExecuteTime": {
     "end_time": "2018-12-12T09:42:54.269632Z",
     "start_time": "2018-12-12T09:42:44.891Z"
    }
   },
   "outputs": [],
   "source": [
    "# # BGI250 metadata\n",
    "# BGI250_metadata_file = \"/ebio/abt3_projects/vadinCA11/data/V11/TUK_samples/BGI250_metadata.txt\"\n",
    "# BGI250_metadata = read.delim(BGI250_metadata_file, sep='\\t')\n",
    "# # Remove duplicated columns\n",
    "# duplicated_cols = colnames(BGI250_metadata) %>% grep(x = .,pattern =  \".y\", fixed = T)\n",
    "# BGI250_metadata = BGI250_metadata %>% select(-duplicated_cols)\n",
    "# # fix column names\n",
    "# colnames(BGI250_metadata) = colnames(BGI250_metadata) %>% \n",
    "#     sub(x = ., \".x\", \"\", fixed = T)\n",
    "\n",
    "# BGI250_metadata %>% dfhead"
   ]
  },
  {
   "cell_type": "code",
   "execution_count": 8,
   "metadata": {
    "ExecuteTime": {
     "end_time": "2018-12-12T09:42:54.337168Z",
     "start_time": "2018-12-12T09:42:44.894Z"
    }
   },
   "outputs": [
    {
     "name": "stdout",
     "output_type": "stream",
     "text": [
      "[1] 19 24\n"
     ]
    },
    {
     "data": {
      "text/html": [
       "<table>\n",
       "<thead><tr><th scope=col>s.NameOnSampleWithAnon</th><th scope=col>s.NameOnSampleWithOutAnon</th><th scope=col>Anxiety_score</th><th scope=col>i.IndividualID</th><th scope=col>i.TwinID</th><th scope=col>i.zygosity</th><th scope=col>age</th><th scope=col>i.DateOfBirth</th><th scope=col>i.FamilyID</th><th scope=col>i.gender</th><th scope=col>⋯</th><th scope=col>s.FPBarcode</th><th scope=col>s.IsNameOnSampleAnon</th><th scope=col>s.MapSampleToIndividualID</th><th scope=col>s.ShipmentNum</th><th scope=col>s.TwinsUKCollectionDate</th><th scope=col>s.TwinsUKCollectionTime</th><th scope=col>s.TwinsUKReceiveDate</th><th scope=col>s.TwinsUKReceiveTime</th><th scope=col>Extractedby</th><th scope=col>SequencingRunID</th></tr></thead>\n",
       "<tbody>\n",
       "\t<tr><td>61154         </td><td>61154         </td><td>3             </td><td>A61154        </td><td>A1202         </td><td>MZ            </td><td>44            </td><td>1967-09-07    </td><td>A120          </td><td>FALSE         </td><td>⋯             </td><td>1003127       </td><td>1             </td><td>A61154        </td><td>7             </td><td>2012-07-02    </td><td>14:00         </td><td>2012-07-02    </td><td>NA            </td><td>Jess          </td><td>TwinsUKPlate14</td></tr>\n",
       "\t<tr><td>49283         </td><td>49283         </td><td>1             </td><td>A49283        </td><td>A1201         </td><td>MZ            </td><td>44            </td><td>1967-09-07    </td><td>A120          </td><td>FALSE         </td><td>⋯             </td><td>1003130       </td><td>1             </td><td>A49283        </td><td>7             </td><td>2012-07-02    </td><td>9:15          </td><td>2012-07-02    </td><td>NA            </td><td>Jess          </td><td>TwinsUKPlate14</td></tr>\n",
       "\t<tr><td>31520         </td><td>31520         </td><td>3             </td><td>A31520        </td><td>A2601         </td><td>MZ            </td><td>58            </td><td>1954-04-21    </td><td>A260          </td><td>FALSE         </td><td>⋯             </td><td>1006101       </td><td>1             </td><td>A31520        </td><td>8             </td><td>2013-02-18    </td><td>4:40          </td><td>2013-02-18    </td><td>NA            </td><td>Jess          </td><td>TwinsUKPlate16</td></tr>\n",
       "</tbody>\n",
       "</table>\n"
      ],
      "text/latex": [
       "\\begin{tabular}{r|llllllllllllllllllllllll}\n",
       " s.NameOnSampleWithAnon & s.NameOnSampleWithOutAnon & Anxiety\\_score & i.IndividualID & i.TwinID & i.zygosity & age & i.DateOfBirth & i.FamilyID & i.gender & ⋯ & s.FPBarcode & s.IsNameOnSampleAnon & s.MapSampleToIndividualID & s.ShipmentNum & s.TwinsUKCollectionDate & s.TwinsUKCollectionTime & s.TwinsUKReceiveDate & s.TwinsUKReceiveTime & Extractedby & SequencingRunID\\\\\n",
       "\\hline\n",
       "\t 61154          & 61154          & 3              & A61154         & A1202          & MZ             & 44             & 1967-09-07     & A120           & FALSE          & ⋯              & 1003127        & 1              & A61154         & 7              & 2012-07-02     & 14:00          & 2012-07-02     & NA             & Jess           & TwinsUKPlate14\\\\\n",
       "\t 49283          & 49283          & 1              & A49283         & A1201          & MZ             & 44             & 1967-09-07     & A120           & FALSE          & ⋯              & 1003130        & 1              & A49283         & 7              & 2012-07-02     & 9:15           & 2012-07-02     & NA             & Jess           & TwinsUKPlate14\\\\\n",
       "\t 31520          & 31520          & 3              & A31520         & A2601          & MZ             & 58             & 1954-04-21     & A260           & FALSE          & ⋯              & 1006101        & 1              & A31520         & 8              & 2013-02-18     & 4:40           & 2013-02-18     & NA             & Jess           & TwinsUKPlate16\\\\\n",
       "\\end{tabular}\n"
      ],
      "text/markdown": [
       "\n",
       "s.NameOnSampleWithAnon | s.NameOnSampleWithOutAnon | Anxiety_score | i.IndividualID | i.TwinID | i.zygosity | age | i.DateOfBirth | i.FamilyID | i.gender | ⋯ | s.FPBarcode | s.IsNameOnSampleAnon | s.MapSampleToIndividualID | s.ShipmentNum | s.TwinsUKCollectionDate | s.TwinsUKCollectionTime | s.TwinsUKReceiveDate | s.TwinsUKReceiveTime | Extractedby | SequencingRunID | \n",
       "|---|---|---|\n",
       "| 61154          | 61154          | 3              | A61154         | A1202          | MZ             | 44             | 1967-09-07     | A120           | FALSE          | ⋯              | 1003127        | 1              | A61154         | 7              | 2012-07-02     | 14:00          | 2012-07-02     | NA             | Jess           | TwinsUKPlate14 | \n",
       "| 49283          | 49283          | 1              | A49283         | A1201          | MZ             | 44             | 1967-09-07     | A120           | FALSE          | ⋯              | 1003130        | 1              | A49283         | 7              | 2012-07-02     | 9:15           | 2012-07-02     | NA             | Jess           | TwinsUKPlate14 | \n",
       "| 31520          | 31520          | 3              | A31520         | A2601          | MZ             | 58             | 1954-04-21     | A260           | FALSE          | ⋯              | 1006101        | 1              | A31520         | 8              | 2013-02-18     | 4:40           | 2013-02-18     | NA             | Jess           | TwinsUKPlate16 | \n",
       "\n",
       "\n"
      ],
      "text/plain": [
       "  s.NameOnSampleWithAnon s.NameOnSampleWithOutAnon Anxiety_score i.IndividualID\n",
       "1 61154                  61154                     3             A61154        \n",
       "2 49283                  49283                     1             A49283        \n",
       "3 31520                  31520                     3             A31520        \n",
       "  i.TwinID i.zygosity age i.DateOfBirth i.FamilyID i.gender ⋯ s.FPBarcode\n",
       "1 A1202    MZ         44  1967-09-07    A120       FALSE    ⋯ 1003127    \n",
       "2 A1201    MZ         44  1967-09-07    A120       FALSE    ⋯ 1003130    \n",
       "3 A2601    MZ         58  1954-04-21    A260       FALSE    ⋯ 1006101    \n",
       "  s.IsNameOnSampleAnon s.MapSampleToIndividualID s.ShipmentNum\n",
       "1 1                    A61154                    7            \n",
       "2 1                    A49283                    7            \n",
       "3 1                    A31520                    8            \n",
       "  s.TwinsUKCollectionDate s.TwinsUKCollectionTime s.TwinsUKReceiveDate\n",
       "1 2012-07-02              14:00                   2012-07-02          \n",
       "2 2012-07-02              9:15                    2012-07-02          \n",
       "3 2013-02-18              4:40                    2013-02-18          \n",
       "  s.TwinsUKReceiveTime Extractedby SequencingRunID\n",
       "1 NA                   Jess        TwinsUKPlate14 \n",
       "2 NA                   Jess        TwinsUKPlate14 \n",
       "3 NA                   Jess        TwinsUKPlate16 "
      ]
     },
     "metadata": {},
     "output_type": "display_data"
    }
   ],
   "source": [
    "# Anxiety\n",
    "anxiety_file = '/ebio/abt3_projects/Anxiety_Twins_Metagenomes/data/metadata/TwinsUK_MZ-disAnx_metadata.txt'\n",
    "anxiety_metadata = read.delim(anxiety_file, sep='\\t') \n",
    "anxiety_metadata$s.NameOnSampleWithAnon = anxiety_metadata$s.NameOnSampleWithAnon %>% \n",
    "    as.character %>% \n",
    "    sub(x = ., pattern = \"^A\", replacement = \"\")\n",
    "anxiety_metadata  %>% dfhead"
   ]
  },
  {
   "cell_type": "code",
   "execution_count": 9,
   "metadata": {
    "ExecuteTime": {
     "end_time": "2018-12-12T09:42:54.603923Z",
     "start_time": "2018-12-12T09:42:44.897Z"
    }
   },
   "outputs": [
    {
     "name": "stdout",
     "output_type": "stream",
     "text": [
      "[1] 128   3\n"
     ]
    },
    {
     "data": {
      "text/html": [
       "<table>\n",
       "<thead><tr><th scope=col>old_name</th><th scope=col>new_name</th><th scope=col>changed</th></tr></thead>\n",
       "<tbody>\n",
       "\t<tr><td>50491  </td><td>1002428</td><td>TRUE   </td></tr>\n",
       "\t<tr><td> 1171  </td><td>1002424</td><td>TRUE   </td></tr>\n",
       "\t<tr><td>32031  </td><td>1002537</td><td>TRUE   </td></tr>\n",
       "</tbody>\n",
       "</table>\n"
      ],
      "text/latex": [
       "\\begin{tabular}{r|lll}\n",
       " old\\_name & new\\_name & changed\\\\\n",
       "\\hline\n",
       "\t 50491   & 1002428 & TRUE   \\\\\n",
       "\t  1171   & 1002424 & TRUE   \\\\\n",
       "\t 32031   & 1002537 & TRUE   \\\\\n",
       "\\end{tabular}\n"
      ],
      "text/markdown": [
       "\n",
       "old_name | new_name | changed | \n",
       "|---|---|---|\n",
       "| 50491   | 1002428 | TRUE    | \n",
       "|  1171   | 1002424 | TRUE    | \n",
       "| 32031   | 1002537 | TRUE    | \n",
       "\n",
       "\n"
      ],
      "text/plain": [
       "  old_name new_name changed\n",
       "1 50491    1002428  TRUE   \n",
       "2  1171    1002424  TRUE   \n",
       "3 32031    1002537  TRUE   "
      ]
     },
     "metadata": {},
     "output_type": "display_data"
    },
    {
     "name": "stdout",
     "output_type": "stream",
     "text": [
      "[1] 128  52\n"
     ]
    },
    {
     "data": {
      "text/html": [
       "<table>\n",
       "<thead><tr><th scope=col>Sample</th><th scope=col>s.NameOnSampleWithAnon</th><th scope=col>s.NameOnSampleWithOutAnon</th><th scope=col>s.IsNameOnSampleAnon</th><th scope=col>s.CollectionMethod</th><th scope=col>s.TwinsUKReceiveDate</th><th scope=col>s.TwinsUKReceiveTime</th><th scope=col>s.TwinsUKCollectionTime</th><th scope=col>s.TwinsUKCollectionDate</th><th scope=col>s.CornellRecordedCollectionDate</th><th scope=col>⋯</th><th scope=col>Extractedby</th><th scope=col>gDNAConcentration</th><th scope=col>ExtractionPlate</th><th scope=col>WellInExtractionPlate</th><th scope=col>NameOnExtractionPlate</th><th scope=col>ExtractionComments</th><th scope=col>SequencingRunID</th><th scope=col>FPBarcode</th><th scope=col>old_name</th><th scope=col>changed</th></tr></thead>\n",
       "<tbody>\n",
       "\t<tr><td>1002424      </td><td>NA1171       </td><td>1171         </td><td>0            </td><td>Visit        </td><td>2010-12-14   </td><td>NA           </td><td>NA           </td><td>NA           </td><td>2010-12-10   </td><td>⋯            </td><td>Jess         </td><td>209.42       </td><td>p10          </td><td>G12          </td><td>1171         </td><td>NA           </td><td>TwinsUKHigh1 </td><td>1002424      </td><td>1171         </td><td>TRUE         </td></tr>\n",
       "\t<tr><td>1002874      </td><td>NA4632       </td><td>4632         </td><td>0            </td><td>Visit        </td><td>2011-05-18   </td><td>NA           </td><td>NA           </td><td>NA           </td><td>2011-05-16   </td><td>⋯            </td><td>Nick         </td><td>    NA       </td><td>S4p2         </td><td>D4           </td><td>4632         </td><td>NA           </td><td>TwinsUKPlate8</td><td>1002874      </td><td>4632         </td><td>TRUE         </td></tr>\n",
       "\t<tr><td>1002875      </td><td>NA8571       </td><td>8571         </td><td>0            </td><td>Visit        </td><td>2011-05-19   </td><td>NA           </td><td>NA           </td><td>NA           </td><td>2011-05-17   </td><td>⋯            </td><td>Nick         </td><td>    NA       </td><td>S4p2         </td><td>C5           </td><td>8571         </td><td>NA           </td><td>TwinsUKPlate8</td><td>1002875      </td><td>8571         </td><td>TRUE         </td></tr>\n",
       "</tbody>\n",
       "</table>\n"
      ],
      "text/latex": [
       "\\begin{tabular}{r|llllllllllllllllllllllllllllllllllllllllllllllllllll}\n",
       " Sample & s.NameOnSampleWithAnon & s.NameOnSampleWithOutAnon & s.IsNameOnSampleAnon & s.CollectionMethod & s.TwinsUKReceiveDate & s.TwinsUKReceiveTime & s.TwinsUKCollectionTime & s.TwinsUKCollectionDate & s.CornellRecordedCollectionDate & ⋯ & Extractedby & gDNAConcentration & ExtractionPlate & WellInExtractionPlate & NameOnExtractionPlate & ExtractionComments & SequencingRunID & FPBarcode & old\\_name & changed\\\\\n",
       "\\hline\n",
       "\t 1002424       & NA1171        & 1171          & 0             & Visit         & 2010-12-14    & NA            & NA            & NA            & 2010-12-10    & ⋯             & Jess          & 209.42        & p10           & G12           & 1171          & NA            & TwinsUKHigh1  & 1002424       & 1171          & TRUE         \\\\\n",
       "\t 1002874       & NA4632        & 4632          & 0             & Visit         & 2011-05-18    & NA            & NA            & NA            & 2011-05-16    & ⋯             & Nick          &     NA        & S4p2          & D4            & 4632          & NA            & TwinsUKPlate8 & 1002874       & 4632          & TRUE         \\\\\n",
       "\t 1002875       & NA8571        & 8571          & 0             & Visit         & 2011-05-19    & NA            & NA            & NA            & 2011-05-17    & ⋯             & Nick          &     NA        & S4p2          & C5            & 8571          & NA            & TwinsUKPlate8 & 1002875       & 8571          & TRUE         \\\\\n",
       "\\end{tabular}\n"
      ],
      "text/markdown": [
       "\n",
       "Sample | s.NameOnSampleWithAnon | s.NameOnSampleWithOutAnon | s.IsNameOnSampleAnon | s.CollectionMethod | s.TwinsUKReceiveDate | s.TwinsUKReceiveTime | s.TwinsUKCollectionTime | s.TwinsUKCollectionDate | s.CornellRecordedCollectionDate | ⋯ | Extractedby | gDNAConcentration | ExtractionPlate | WellInExtractionPlate | NameOnExtractionPlate | ExtractionComments | SequencingRunID | FPBarcode | old_name | changed | \n",
       "|---|---|---|\n",
       "| 1002424       | NA1171        | 1171          | 0             | Visit         | 2010-12-14    | NA            | NA            | NA            | 2010-12-10    | ⋯             | Jess          | 209.42        | p10           | G12           | 1171          | NA            | TwinsUKHigh1  | 1002424       | 1171          | TRUE          | \n",
       "| 1002874       | NA4632        | 4632          | 0             | Visit         | 2011-05-18    | NA            | NA            | NA            | 2011-05-16    | ⋯             | Nick          |     NA        | S4p2          | D4            | 4632          | NA            | TwinsUKPlate8 | 1002874       | 4632          | TRUE          | \n",
       "| 1002875       | NA8571        | 8571          | 0             | Visit         | 2011-05-19    | NA            | NA            | NA            | 2011-05-17    | ⋯             | Nick          |     NA        | S4p2          | C5            | 8571          | NA            | TwinsUKPlate8 | 1002875       | 8571          | TRUE          | \n",
       "\n",
       "\n"
      ],
      "text/plain": [
       "  Sample  s.NameOnSampleWithAnon s.NameOnSampleWithOutAnon s.IsNameOnSampleAnon\n",
       "1 1002424 NA1171                 1171                      0                   \n",
       "2 1002874 NA4632                 4632                      0                   \n",
       "3 1002875 NA8571                 8571                      0                   \n",
       "  s.CollectionMethod s.TwinsUKReceiveDate s.TwinsUKReceiveTime\n",
       "1 Visit              2010-12-14           NA                  \n",
       "2 Visit              2011-05-18           NA                  \n",
       "3 Visit              2011-05-19           NA                  \n",
       "  s.TwinsUKCollectionTime s.TwinsUKCollectionDate\n",
       "1 NA                      NA                     \n",
       "2 NA                      NA                     \n",
       "3 NA                      NA                     \n",
       "  s.CornellRecordedCollectionDate ⋯ Extractedby gDNAConcentration\n",
       "1 2010-12-10                      ⋯ Jess        209.42           \n",
       "2 2011-05-16                      ⋯ Nick            NA           \n",
       "3 2011-05-17                      ⋯ Nick            NA           \n",
       "  ExtractionPlate WellInExtractionPlate NameOnExtractionPlate\n",
       "1 p10             G12                   1171                 \n",
       "2 S4p2            D4                    4632                 \n",
       "3 S4p2            C5                    8571                 \n",
       "  ExtractionComments SequencingRunID FPBarcode old_name changed\n",
       "1 NA                 TwinsUKHigh1    1002424   1171     TRUE   \n",
       "2 NA                 TwinsUKPlate8   1002874   4632     TRUE   \n",
       "3 NA                 TwinsUKPlate8   1002875   8571     TRUE   "
      ]
     },
     "metadata": {},
     "output_type": "display_data"
    }
   ],
   "source": [
    "# vadinCA11 TUK sample names file\n",
    "vadinCA11_names_file = \"/ebio/abt3_projects/vadinCA11/data/V11/TUK_samples/fixed_samplenames.txt\"\n",
    "v11_names = read.delim(vadinCA11_names_file, sep='\\t')\n",
    "v11_names %>% dfhead\n",
    "\n",
    "# Load vadinCA11 metadata\n",
    "vadinCA11_map_file = \"/ebio/abt3_projects/vadinCA11/data/metadata/HiSeqRuns83-91_TUK-metadata.tsv\"\n",
    "v11_map = read.delim(vadinCA11_map_file, sep='\\t')\n",
    "\n",
    "# Rename barcode column\n",
    "v11_map$FPBarcode = v11_map$s.FPBarcode\n",
    "v11_map$s.FPBarcode = NULL\n",
    "\n",
    "# Filter samples used for assembly and tax profile\n",
    "v11_map = inner_join(v11_map, v11_names, by = c(\"FPBarcode\" = \"new_name\")) %>%\n",
    "    group_by(Sample) %>% \n",
    "    filter(row_number(Sample) == 1)\n",
    "v11_map %>% dfhead"
   ]
  },
  {
   "cell_type": "code",
   "execution_count": 10,
   "metadata": {
    "ExecuteTime": {
     "end_time": "2018-12-12T09:42:54.645154Z",
     "start_time": "2018-12-12T09:42:44.901Z"
    }
   },
   "outputs": [
    {
     "name": "stdout",
     "output_type": "stream",
     "text": [
      "[1] 32  1\n"
     ]
    },
    {
     "data": {
      "text/html": [
       "<table>\n",
       "<thead><tr><th scope=col>FPBarcode</th></tr></thead>\n",
       "<tbody>\n",
       "\t<tr><td>1002372</td></tr>\n",
       "\t<tr><td>1003344</td></tr>\n",
       "\t<tr><td>1003430</td></tr>\n",
       "</tbody>\n",
       "</table>\n"
      ],
      "text/latex": [
       "\\begin{tabular}{r|l}\n",
       " FPBarcode\\\\\n",
       "\\hline\n",
       "\t 1002372\\\\\n",
       "\t 1003344\\\\\n",
       "\t 1003430\\\\\n",
       "\\end{tabular}\n"
      ],
      "text/markdown": [
       "\n",
       "FPBarcode | \n",
       "|---|---|---|\n",
       "| 1002372 | \n",
       "| 1003344 | \n",
       "| 1003430 | \n",
       "\n",
       "\n"
      ],
      "text/plain": [
       "  FPBarcode\n",
       "1 1002372  \n",
       "2 1003344  \n",
       "3 1003430  "
      ]
     },
     "metadata": {},
     "output_type": "display_data"
    }
   ],
   "source": [
    "# Flagellin metagenomes\n",
    "Flagellin_barcodes = c(1002372, 1003344, 1003430, 1003466, 1003585, 1005954, \n",
    "                      1005995, 1006002, 1006095, 1006102, 1006675, 1006723, \n",
    "                      1012268, 1012289, 1012307, 1012313, 1012485, 1012548, \n",
    "                      1012620, 1013576, 1013577, 1013662, 1013663, 1013861, \n",
    "                      1013862, 1014063, 1014064, 1014133, 1014134, 1014231, \n",
    "                      1014285, 1014291)\n",
    "\n",
    "Flagellin_samples = data.frame(FPBarcode = Flagellin_barcodes)\n",
    "Flagellin_samples %>% dfhead"
   ]
  },
  {
   "cell_type": "markdown",
   "metadata": {
    "ExecuteTime": {
     "end_time": "2018-11-05T12:24:10.703228Z",
     "start_time": "2018-11-05T12:24:10.634Z"
    }
   },
   "source": [
    "# Organize data"
   ]
  },
  {
   "cell_type": "markdown",
   "metadata": {
    "ExecuteTime": {
     "end_time": "2018-11-05T12:25:55.816879Z",
     "start_time": "2018-11-05T12:25:55.789Z"
    }
   },
   "source": [
    "## TUK blood pressure"
   ]
  },
  {
   "cell_type": "code",
   "execution_count": 11,
   "metadata": {
    "ExecuteTime": {
     "end_time": "2018-12-12T09:42:54.776102Z",
     "start_time": "2018-12-12T09:42:44.905Z"
    }
   },
   "outputs": [
    {
     "data": {
      "text/html": [
       "2576"
      ],
      "text/latex": [
       "2576"
      ],
      "text/markdown": [
       "2576"
      ],
      "text/plain": [
       "[1] 2576"
      ]
     },
     "metadata": {},
     "output_type": "display_data"
    }
   ],
   "source": [
    "# Number of individuals\n",
    "E788 %>% \n",
    "    distinct(MicrobiomeID) %>%\n",
    "    nrow"
   ]
  },
  {
   "cell_type": "code",
   "execution_count": 12,
   "metadata": {
    "ExecuteTime": {
     "end_time": "2018-12-12T09:42:54.919991Z",
     "start_time": "2018-12-12T09:42:44.908Z"
    }
   },
   "outputs": [
    {
     "data": {
      "text/html": [
       "960"
      ],
      "text/latex": [
       "960"
      ],
      "text/markdown": [
       "960"
      ],
      "text/plain": [
       "[1] 960"
      ]
     },
     "metadata": {},
     "output_type": "display_data"
    }
   ],
   "source": [
    "# Determine whether multiple measurements per visit\n",
    "# Replace BP codes for meassurement\n",
    "bp_ids = c('P001394','P001395','P001396','P001397')\n",
    "bp_text = c('BP_SYS_2', 'BP_DIAS_2', 'BP_SYS_3', 'BP_DIAS_3')\n",
    "df_bp = data.frame(bp_ids, bp_text)\n",
    "\n",
    "# Count the number of duplicate BP meassuements\n",
    "E788 %>%\n",
    "    filter(PhenID %in% df_bp$bp_ids) %>%\n",
    "    mutate(Phen_value = Phen_value %>% as.Num) %>%\n",
    "    group_by(MicrobiomeID, Visit_Date, PhenID) %>%\n",
    "    summarize(n=n()) %>%\n",
    "    ungroup() %>%\n",
    "    filter(n > 1) %>%\n",
    "    nrow"
   ]
  },
  {
   "cell_type": "code",
   "execution_count": 13,
   "metadata": {
    "ExecuteTime": {
     "end_time": "2018-12-12T09:42:54.976658Z",
     "start_time": "2018-12-12T09:42:44.911Z"
    }
   },
   "outputs": [
    {
     "name": "stderr",
     "output_type": "stream",
     "text": [
      "Warning message:\n",
      "“Column `PhenID`/`bp_ids` joining factors with different levels, coercing to character vector”"
     ]
    }
   ],
   "source": [
    "# Add column mapping phenotype IDs to blood pressure code\n",
    "TUK_BP = E788 %>%\n",
    "    inner_join(df_bp, c('PhenID'='bp_ids')) %>%\n",
    "    mutate(PhenID = PhenID %>% as.character,\n",
    "           Phen_value = Phen_value %>% as.Num)"
   ]
  },
  {
   "cell_type": "markdown",
   "metadata": {},
   "source": [
    "## VadinCA11 samples"
   ]
  },
  {
   "cell_type": "code",
   "execution_count": 14,
   "metadata": {
    "ExecuteTime": {
     "end_time": "2018-12-12T09:42:55.034924Z",
     "start_time": "2018-12-12T09:42:44.914Z"
    }
   },
   "outputs": [
    {
     "name": "stdout",
     "output_type": "stream",
     "text": [
      "[1] 472  65\n"
     ]
    },
    {
     "data": {
      "text/html": [
       "<table>\n",
       "<thead><tr><th scope=col>MicrobiomeID</th><th scope=col>DATE_BORN</th><th scope=col>SEX</th><th scope=col>ACTUAL_ZYGOSITY</th><th scope=col>Anomaly</th><th scope=col>Ethnic_Origin</th><th scope=col>Visit_Date</th><th scope=col>PhenID</th><th scope=col>Phen_value</th><th scope=col>FPBarcode</th><th scope=col>⋯</th><th scope=col>ExtractionPlateLoadedby</th><th scope=col>Extractedby</th><th scope=col>gDNAConcentration</th><th scope=col>ExtractionPlate</th><th scope=col>WellInExtractionPlate</th><th scope=col>NameOnExtractionPlate</th><th scope=col>ExtractionComments</th><th scope=col>SequencingRunID</th><th scope=col>old_name</th><th scope=col>changed</th></tr></thead>\n",
       "<tbody>\n",
       "\t<tr><td>A71040           </td><td>1944-11-25       </td><td>F                </td><td>DZ               </td><td>NA               </td><td>White            </td><td>2014-09-22       </td><td>P001394          </td><td>142              </td><td>1019314          </td><td>⋯                </td><td>Noah             </td><td>Jess             </td><td>NA               </td><td>Plate36          </td><td>C9               </td><td>1019314          </td><td>NA               </td><td>TwinsUKPlate35_36</td><td>1019314          </td><td>FALSE            </td></tr>\n",
       "\t<tr><td>A71040           </td><td>1944-11-25       </td><td>F                </td><td>DZ               </td><td>NA               </td><td>White            </td><td>2014-09-22       </td><td>P001395          </td><td> 72              </td><td>1019314          </td><td>⋯                </td><td>Noah             </td><td>Jess             </td><td>NA               </td><td>Plate36          </td><td>C9               </td><td>1019314          </td><td>NA               </td><td>TwinsUKPlate35_36</td><td>1019314          </td><td>FALSE            </td></tr>\n",
       "\t<tr><td>A71040           </td><td>1944-11-25       </td><td>F                </td><td>DZ               </td><td>NA               </td><td>White            </td><td>2014-09-22       </td><td>P001396          </td><td>137              </td><td>1019314          </td><td>⋯                </td><td>Noah             </td><td>Jess             </td><td>NA               </td><td>Plate36          </td><td>C9               </td><td>1019314          </td><td>NA               </td><td>TwinsUKPlate35_36</td><td>1019314          </td><td>FALSE            </td></tr>\n",
       "</tbody>\n",
       "</table>\n"
      ],
      "text/latex": [
       "\\begin{tabular}{r|lllllllllllllllllllllllllllllllllllllllllllllllllllllllllllllllll}\n",
       " MicrobiomeID & DATE\\_BORN & SEX & ACTUAL\\_ZYGOSITY & Anomaly & Ethnic\\_Origin & Visit\\_Date & PhenID & Phen\\_value & FPBarcode & ⋯ & ExtractionPlateLoadedby & Extractedby & gDNAConcentration & ExtractionPlate & WellInExtractionPlate & NameOnExtractionPlate & ExtractionComments & SequencingRunID & old\\_name & changed\\\\\n",
       "\\hline\n",
       "\t A71040              & 1944-11-25          & F                   & DZ                  & NA                  & White               & 2014-09-22          & P001394             & 142                 & 1019314             & ⋯                   & Noah                & Jess                & NA                  & Plate36             & C9                  & 1019314             & NA                  & TwinsUKPlate35\\_36 & 1019314             & FALSE              \\\\\n",
       "\t A71040              & 1944-11-25          & F                   & DZ                  & NA                  & White               & 2014-09-22          & P001395             &  72                 & 1019314             & ⋯                   & Noah                & Jess                & NA                  & Plate36             & C9                  & 1019314             & NA                  & TwinsUKPlate35\\_36 & 1019314             & FALSE              \\\\\n",
       "\t A71040              & 1944-11-25          & F                   & DZ                  & NA                  & White               & 2014-09-22          & P001396             & 137                 & 1019314             & ⋯                   & Noah                & Jess                & NA                  & Plate36             & C9                  & 1019314             & NA                  & TwinsUKPlate35\\_36 & 1019314             & FALSE              \\\\\n",
       "\\end{tabular}\n"
      ],
      "text/markdown": [
       "\n",
       "MicrobiomeID | DATE_BORN | SEX | ACTUAL_ZYGOSITY | Anomaly | Ethnic_Origin | Visit_Date | PhenID | Phen_value | FPBarcode | ⋯ | ExtractionPlateLoadedby | Extractedby | gDNAConcentration | ExtractionPlate | WellInExtractionPlate | NameOnExtractionPlate | ExtractionComments | SequencingRunID | old_name | changed | \n",
       "|---|---|---|\n",
       "| A71040            | 1944-11-25        | F                 | DZ                | NA                | White             | 2014-09-22        | P001394           | 142               | 1019314           | ⋯                 | Noah              | Jess              | NA                | Plate36           | C9                | 1019314           | NA                | TwinsUKPlate35_36 | 1019314           | FALSE             | \n",
       "| A71040            | 1944-11-25        | F                 | DZ                | NA                | White             | 2014-09-22        | P001395           |  72               | 1019314           | ⋯                 | Noah              | Jess              | NA                | Plate36           | C9                | 1019314           | NA                | TwinsUKPlate35_36 | 1019314           | FALSE             | \n",
       "| A71040            | 1944-11-25        | F                 | DZ                | NA                | White             | 2014-09-22        | P001396           | 137               | 1019314           | ⋯                 | Noah              | Jess              | NA                | Plate36           | C9                | 1019314           | NA                | TwinsUKPlate35_36 | 1019314           | FALSE             | \n",
       "\n",
       "\n"
      ],
      "text/plain": [
       "  MicrobiomeID DATE_BORN  SEX ACTUAL_ZYGOSITY Anomaly Ethnic_Origin Visit_Date\n",
       "1 A71040       1944-11-25 F   DZ              NA      White         2014-09-22\n",
       "2 A71040       1944-11-25 F   DZ              NA      White         2014-09-22\n",
       "3 A71040       1944-11-25 F   DZ              NA      White         2014-09-22\n",
       "  PhenID  Phen_value FPBarcode ⋯ ExtractionPlateLoadedby Extractedby\n",
       "1 P001394 142        1019314   ⋯ Noah                    Jess       \n",
       "2 P001395  72        1019314   ⋯ Noah                    Jess       \n",
       "3 P001396 137        1019314   ⋯ Noah                    Jess       \n",
       "  gDNAConcentration ExtractionPlate WellInExtractionPlate NameOnExtractionPlate\n",
       "1 NA                Plate36         C9                    1019314              \n",
       "2 NA                Plate36         C9                    1019314              \n",
       "3 NA                Plate36         C9                    1019314              \n",
       "  ExtractionComments SequencingRunID   old_name changed\n",
       "1 NA                 TwinsUKPlate35_36 1019314  FALSE  \n",
       "2 NA                 TwinsUKPlate35_36 1019314  FALSE  \n",
       "3 NA                 TwinsUKPlate35_36 1019314  FALSE  "
      ]
     },
     "metadata": {},
     "output_type": "display_data"
    }
   ],
   "source": [
    "# Subset TUK blood pressure table to include only vadinCA11 subjects\n",
    "# Identify samples with BP data\n",
    "v11_BP = inner_join(TUK_BP, v11_map, by = c(\"FPBarcode\"))\n",
    "v11_BP %>% dfhead"
   ]
  },
  {
   "cell_type": "code",
   "execution_count": 15,
   "metadata": {
    "ExecuteTime": {
     "end_time": "2018-12-12T09:42:55.097553Z",
     "start_time": "2018-12-12T09:42:44.916Z"
    }
   },
   "outputs": [],
   "source": [
    "# create data frame with mean BP of both meassurements\n",
    "v11_mBP = v11_BP%>%\n",
    "    mutate(PhenID = PhenID %>% as.character,\n",
    "           Phen_value = Phen_value %>% as.Num,\n",
    "           bp_group = gsub('_[23]$', '', bp_text)) %>%\n",
    "    group_by(FPBarcode, bp_group, ACTUAL_ZYGOSITY, \n",
    "             MicrobiomeID, calculated_age, s.BMI, age) %>%\n",
    "    summarize(mean_value = mean(Phen_value, na.rm=TRUE),\n",
    "              sd_value = sd(Phen_value, na.rm=TRUE)) %>%\n",
    "    ungroup()"
   ]
  },
  {
   "cell_type": "code",
   "execution_count": 16,
   "metadata": {
    "ExecuteTime": {
     "end_time": "2018-12-12T09:42:55.139150Z",
     "start_time": "2018-12-12T09:42:44.919Z"
    }
   },
   "outputs": [
    {
     "name": "stdout",
     "output_type": "stream",
     "text": [
      "[1] 236   9\n"
     ]
    },
    {
     "data": {
      "text/html": [
       "<table>\n",
       "<thead><tr><th scope=col>FPBarcode</th><th scope=col>bp_group</th><th scope=col>ACTUAL_ZYGOSITY</th><th scope=col>MicrobiomeID</th><th scope=col>calculated_age</th><th scope=col>s.BMI</th><th scope=col>age</th><th scope=col>mean_value</th><th scope=col>sd_value</th></tr></thead>\n",
       "<tbody>\n",
       "\t<tr><td>1002319 </td><td>BP_DIAS </td><td>MZ      </td><td>NA55891 </td><td>70      </td><td>37.84576</td><td>73      </td><td> 69.5   </td><td>2.121320</td></tr>\n",
       "\t<tr><td>1002319 </td><td>BP_SYS  </td><td>MZ      </td><td>NA55891 </td><td>70      </td><td>37.84576</td><td>73      </td><td>118.5   </td><td>2.121320</td></tr>\n",
       "\t<tr><td>1002320 </td><td>BP_DIAS </td><td>MZ      </td><td>NA55892 </td><td>70      </td><td>36.13234</td><td>73      </td><td> 77.0   </td><td>1.414214</td></tr>\n",
       "</tbody>\n",
       "</table>\n"
      ],
      "text/latex": [
       "\\begin{tabular}{r|lllllllll}\n",
       " FPBarcode & bp\\_group & ACTUAL\\_ZYGOSITY & MicrobiomeID & calculated\\_age & s.BMI & age & mean\\_value & sd\\_value\\\\\n",
       "\\hline\n",
       "\t 1002319   & BP\\_DIAS & MZ        & NA55891   & 70        & 37.84576  & 73        &  69.5     & 2.121320 \\\\\n",
       "\t 1002319   & BP\\_SYS  & MZ        & NA55891   & 70        & 37.84576  & 73        & 118.5     & 2.121320 \\\\\n",
       "\t 1002320   & BP\\_DIAS & MZ        & NA55892   & 70        & 36.13234  & 73        &  77.0     & 1.414214 \\\\\n",
       "\\end{tabular}\n"
      ],
      "text/markdown": [
       "\n",
       "FPBarcode | bp_group | ACTUAL_ZYGOSITY | MicrobiomeID | calculated_age | s.BMI | age | mean_value | sd_value | \n",
       "|---|---|---|\n",
       "| 1002319  | BP_DIAS  | MZ       | NA55891  | 70       | 37.84576 | 73       |  69.5    | 2.121320 | \n",
       "| 1002319  | BP_SYS   | MZ       | NA55891  | 70       | 37.84576 | 73       | 118.5    | 2.121320 | \n",
       "| 1002320  | BP_DIAS  | MZ       | NA55892  | 70       | 36.13234 | 73       |  77.0    | 1.414214 | \n",
       "\n",
       "\n"
      ],
      "text/plain": [
       "  FPBarcode bp_group ACTUAL_ZYGOSITY MicrobiomeID calculated_age s.BMI    age\n",
       "1 1002319   BP_DIAS  MZ              NA55891      70             37.84576 73 \n",
       "2 1002319   BP_SYS   MZ              NA55891      70             37.84576 73 \n",
       "3 1002320   BP_DIAS  MZ              NA55892      70             36.13234 73 \n",
       "  mean_value sd_value\n",
       "1  69.5      2.121320\n",
       "2 118.5      2.121320\n",
       "3  77.0      1.414214"
      ]
     },
     "metadata": {},
     "output_type": "display_data"
    }
   ],
   "source": [
    "v11_mBP %>% dfhead"
   ]
  },
  {
   "cell_type": "markdown",
   "metadata": {},
   "source": [
    "## Anxiety samples"
   ]
  },
  {
   "cell_type": "code",
   "execution_count": 17,
   "metadata": {
    "ExecuteTime": {
     "end_time": "2018-12-12T09:42:55.191687Z",
     "start_time": "2018-12-12T09:42:44.922Z"
    }
   },
   "outputs": [
    {
     "name": "stdout",
     "output_type": "stream",
     "text": [
      "[1] 36 37\n"
     ]
    },
    {
     "data": {
      "text/html": [
       "<table>\n",
       "<thead><tr><th scope=col>MicrobiomeID</th><th scope=col>DATE_BORN</th><th scope=col>SEX</th><th scope=col>ACTUAL_ZYGOSITY</th><th scope=col>Anomaly</th><th scope=col>Ethnic_Origin</th><th scope=col>Visit_Date</th><th scope=col>PhenID</th><th scope=col>Phen_value</th><th scope=col>FPBarcode</th><th scope=col>⋯</th><th scope=col>s.CollectionTime</th><th scope=col>s.IsNameOnSampleAnon</th><th scope=col>s.MapSampleToIndividualID</th><th scope=col>s.ShipmentNum</th><th scope=col>s.TwinsUKCollectionDate</th><th scope=col>s.TwinsUKCollectionTime</th><th scope=col>s.TwinsUKReceiveDate</th><th scope=col>s.TwinsUKReceiveTime</th><th scope=col>Extractedby</th><th scope=col>SequencingRunID</th></tr></thead>\n",
       "<tbody>\n",
       "\t<tr><td>A55827        </td><td>1946-11-20    </td><td>F             </td><td>MZ            </td><td>NA            </td><td>White         </td><td>2013-01-24    </td><td>P001394       </td><td>137           </td><td>1006002       </td><td>⋯             </td><td>8:30          </td><td>1             </td><td>A55827        </td><td>8             </td><td>2013-01-24    </td><td>8:30          </td><td>2013-01-24    </td><td>NA            </td><td>Jess          </td><td>TwinsUKPlate15</td></tr>\n",
       "\t<tr><td>A55827        </td><td>1946-11-20    </td><td>F             </td><td>MZ            </td><td>NA            </td><td>White         </td><td>2013-01-24    </td><td>P001395       </td><td> 85           </td><td>1006002       </td><td>⋯             </td><td>8:30          </td><td>1             </td><td>A55827        </td><td>8             </td><td>2013-01-24    </td><td>8:30          </td><td>2013-01-24    </td><td>NA            </td><td>Jess          </td><td>TwinsUKPlate15</td></tr>\n",
       "\t<tr><td>A55827        </td><td>1946-11-20    </td><td>F             </td><td>MZ            </td><td>NA            </td><td>White         </td><td>2013-01-24    </td><td>P001396       </td><td>140           </td><td>1006002       </td><td>⋯             </td><td>8:30          </td><td>1             </td><td>A55827        </td><td>8             </td><td>2013-01-24    </td><td>8:30          </td><td>2013-01-24    </td><td>NA            </td><td>Jess          </td><td>TwinsUKPlate15</td></tr>\n",
       "</tbody>\n",
       "</table>\n"
      ],
      "text/latex": [
       "\\begin{tabular}{r|lllllllllllllllllllllllllllllllllllll}\n",
       " MicrobiomeID & DATE\\_BORN & SEX & ACTUAL\\_ZYGOSITY & Anomaly & Ethnic\\_Origin & Visit\\_Date & PhenID & Phen\\_value & FPBarcode & ⋯ & s.CollectionTime & s.IsNameOnSampleAnon & s.MapSampleToIndividualID & s.ShipmentNum & s.TwinsUKCollectionDate & s.TwinsUKCollectionTime & s.TwinsUKReceiveDate & s.TwinsUKReceiveTime & Extractedby & SequencingRunID\\\\\n",
       "\\hline\n",
       "\t A55827         & 1946-11-20     & F              & MZ             & NA             & White          & 2013-01-24     & P001394        & 137            & 1006002        & ⋯              & 8:30           & 1              & A55827         & 8              & 2013-01-24     & 8:30           & 2013-01-24     & NA             & Jess           & TwinsUKPlate15\\\\\n",
       "\t A55827         & 1946-11-20     & F              & MZ             & NA             & White          & 2013-01-24     & P001395        &  85            & 1006002        & ⋯              & 8:30           & 1              & A55827         & 8              & 2013-01-24     & 8:30           & 2013-01-24     & NA             & Jess           & TwinsUKPlate15\\\\\n",
       "\t A55827         & 1946-11-20     & F              & MZ             & NA             & White          & 2013-01-24     & P001396        & 140            & 1006002        & ⋯              & 8:30           & 1              & A55827         & 8              & 2013-01-24     & 8:30           & 2013-01-24     & NA             & Jess           & TwinsUKPlate15\\\\\n",
       "\\end{tabular}\n"
      ],
      "text/markdown": [
       "\n",
       "MicrobiomeID | DATE_BORN | SEX | ACTUAL_ZYGOSITY | Anomaly | Ethnic_Origin | Visit_Date | PhenID | Phen_value | FPBarcode | ⋯ | s.CollectionTime | s.IsNameOnSampleAnon | s.MapSampleToIndividualID | s.ShipmentNum | s.TwinsUKCollectionDate | s.TwinsUKCollectionTime | s.TwinsUKReceiveDate | s.TwinsUKReceiveTime | Extractedby | SequencingRunID | \n",
       "|---|---|---|\n",
       "| A55827         | 1946-11-20     | F              | MZ             | NA             | White          | 2013-01-24     | P001394        | 137            | 1006002        | ⋯              | 8:30           | 1              | A55827         | 8              | 2013-01-24     | 8:30           | 2013-01-24     | NA             | Jess           | TwinsUKPlate15 | \n",
       "| A55827         | 1946-11-20     | F              | MZ             | NA             | White          | 2013-01-24     | P001395        |  85            | 1006002        | ⋯              | 8:30           | 1              | A55827         | 8              | 2013-01-24     | 8:30           | 2013-01-24     | NA             | Jess           | TwinsUKPlate15 | \n",
       "| A55827         | 1946-11-20     | F              | MZ             | NA             | White          | 2013-01-24     | P001396        | 140            | 1006002        | ⋯              | 8:30           | 1              | A55827         | 8              | 2013-01-24     | 8:30           | 2013-01-24     | NA             | Jess           | TwinsUKPlate15 | \n",
       "\n",
       "\n"
      ],
      "text/plain": [
       "  MicrobiomeID DATE_BORN  SEX ACTUAL_ZYGOSITY Anomaly Ethnic_Origin Visit_Date\n",
       "1 A55827       1946-11-20 F   MZ              NA      White         2013-01-24\n",
       "2 A55827       1946-11-20 F   MZ              NA      White         2013-01-24\n",
       "3 A55827       1946-11-20 F   MZ              NA      White         2013-01-24\n",
       "  PhenID  Phen_value FPBarcode ⋯ s.CollectionTime s.IsNameOnSampleAnon\n",
       "1 P001394 137        1006002   ⋯ 8:30             1                   \n",
       "2 P001395  85        1006002   ⋯ 8:30             1                   \n",
       "3 P001396 140        1006002   ⋯ 8:30             1                   \n",
       "  s.MapSampleToIndividualID s.ShipmentNum s.TwinsUKCollectionDate\n",
       "1 A55827                    8             2013-01-24             \n",
       "2 A55827                    8             2013-01-24             \n",
       "3 A55827                    8             2013-01-24             \n",
       "  s.TwinsUKCollectionTime s.TwinsUKReceiveDate s.TwinsUKReceiveTime Extractedby\n",
       "1 8:30                    2013-01-24           NA                   Jess       \n",
       "2 8:30                    2013-01-24           NA                   Jess       \n",
       "3 8:30                    2013-01-24           NA                   Jess       \n",
       "  SequencingRunID\n",
       "1 TwinsUKPlate15 \n",
       "2 TwinsUKPlate15 \n",
       "3 TwinsUKPlate15 "
      ]
     },
     "metadata": {},
     "output_type": "display_data"
    }
   ],
   "source": [
    "# Subset TUK blood pressure table to include only vadinCA11 subjects\n",
    "# Identify samples with BP data\n",
    "anx_BP = inner_join(TUK_BP, anxiety_metadata, by = c(\"FPBarcode\" = \"s.FPBarcode\"))\n",
    "anx_BP %>% dfhead"
   ]
  },
  {
   "cell_type": "code",
   "execution_count": 18,
   "metadata": {
    "ExecuteTime": {
     "end_time": "2018-12-12T09:42:55.249773Z",
     "start_time": "2018-12-12T09:42:44.924Z"
    }
   },
   "outputs": [],
   "source": [
    "# create data frame with mean BP of both meassurements\n",
    "anx_mBP = anx_BP%>%\n",
    "    mutate(PhenID = PhenID %>% as.character,\n",
    "           Phen_value = Phen_value %>% as.Num,\n",
    "           bp_group = gsub('_[23]$', '', bp_text)) %>%\n",
    "    group_by(FPBarcode, bp_group, ACTUAL_ZYGOSITY, MicrobiomeID, s.BMI, age, i.FamilyID) %>%\n",
    "    summarize(mean_value = mean(Phen_value, na.rm=TRUE),\n",
    "              sd_value = sd(Phen_value, na.rm=TRUE)) %>%\n",
    "    ungroup()"
   ]
  },
  {
   "cell_type": "code",
   "execution_count": 19,
   "metadata": {
    "ExecuteTime": {
     "end_time": "2018-12-12T09:42:55.288009Z",
     "start_time": "2018-12-12T09:42:44.927Z"
    }
   },
   "outputs": [
    {
     "name": "stdout",
     "output_type": "stream",
     "text": [
      "[1] 18  9\n"
     ]
    },
    {
     "data": {
      "text/html": [
       "<table>\n",
       "<thead><tr><th scope=col>FPBarcode</th><th scope=col>bp_group</th><th scope=col>ACTUAL_ZYGOSITY</th><th scope=col>MicrobiomeID</th><th scope=col>s.BMI</th><th scope=col>age</th><th scope=col>i.FamilyID</th><th scope=col>mean_value</th><th scope=col>sd_value</th></tr></thead>\n",
       "<tbody>\n",
       "\t<tr><td>1006002 </td><td>BP_DIAS </td><td>MZ      </td><td>A55827  </td><td>20.83471</td><td>66      </td><td>A259    </td><td> 82.5   </td><td>3.535534</td></tr>\n",
       "\t<tr><td>1006002 </td><td>BP_SYS  </td><td>MZ      </td><td>A55827  </td><td>20.83471</td><td>66      </td><td>A259    </td><td>138.5   </td><td>2.121320</td></tr>\n",
       "\t<tr><td>1006101 </td><td>BP_DIAS </td><td>MZ      </td><td>A31520  </td><td>27.01636</td><td>58      </td><td>A260    </td><td> 80.0   </td><td>2.828427</td></tr>\n",
       "</tbody>\n",
       "</table>\n"
      ],
      "text/latex": [
       "\\begin{tabular}{r|lllllllll}\n",
       " FPBarcode & bp\\_group & ACTUAL\\_ZYGOSITY & MicrobiomeID & s.BMI & age & i.FamilyID & mean\\_value & sd\\_value\\\\\n",
       "\\hline\n",
       "\t 1006002   & BP\\_DIAS & MZ        & A55827    & 20.83471  & 66        & A259      &  82.5     & 3.535534 \\\\\n",
       "\t 1006002   & BP\\_SYS  & MZ        & A55827    & 20.83471  & 66        & A259      & 138.5     & 2.121320 \\\\\n",
       "\t 1006101   & BP\\_DIAS & MZ        & A31520    & 27.01636  & 58        & A260      &  80.0     & 2.828427 \\\\\n",
       "\\end{tabular}\n"
      ],
      "text/markdown": [
       "\n",
       "FPBarcode | bp_group | ACTUAL_ZYGOSITY | MicrobiomeID | s.BMI | age | i.FamilyID | mean_value | sd_value | \n",
       "|---|---|---|\n",
       "| 1006002  | BP_DIAS  | MZ       | A55827   | 20.83471 | 66       | A259     |  82.5    | 3.535534 | \n",
       "| 1006002  | BP_SYS   | MZ       | A55827   | 20.83471 | 66       | A259     | 138.5    | 2.121320 | \n",
       "| 1006101  | BP_DIAS  | MZ       | A31520   | 27.01636 | 58       | A260     |  80.0    | 2.828427 | \n",
       "\n",
       "\n"
      ],
      "text/plain": [
       "  FPBarcode bp_group ACTUAL_ZYGOSITY MicrobiomeID s.BMI    age i.FamilyID\n",
       "1 1006002   BP_DIAS  MZ              A55827       20.83471 66  A259      \n",
       "2 1006002   BP_SYS   MZ              A55827       20.83471 66  A259      \n",
       "3 1006101   BP_DIAS  MZ              A31520       27.01636 58  A260      \n",
       "  mean_value sd_value\n",
       "1  82.5      3.535534\n",
       "2 138.5      2.121320\n",
       "3  80.0      2.828427"
      ]
     },
     "metadata": {},
     "output_type": "display_data"
    }
   ],
   "source": [
    "anx_mBP %>% dfhead"
   ]
  },
  {
   "cell_type": "markdown",
   "metadata": {},
   "source": [
    "## BGI250 data"
   ]
  },
  {
   "cell_type": "code",
   "execution_count": 20,
   "metadata": {
    "ExecuteTime": {
     "end_time": "2018-12-12T09:42:55.448234Z",
     "start_time": "2018-12-12T09:42:44.931Z"
    }
   },
   "outputs": [
    {
     "data": {
      "text/html": [
       "<table>\n",
       "<thead><tr><th scope=col>MicrobiomeID</th><th scope=col>n</th></tr></thead>\n",
       "<tbody>\n",
       "\t<tr><td>A12397 </td><td> 8     </td></tr>\n",
       "\t<tr><td>A19032 </td><td> 8     </td></tr>\n",
       "\t<tr><td>A23825 </td><td> 8     </td></tr>\n",
       "\t<tr><td>A28196 </td><td> 8     </td></tr>\n",
       "\t<tr><td>A49876 </td><td> 8     </td></tr>\n",
       "\t<tr><td>A68710 </td><td> 8     </td></tr>\n",
       "\t<tr><td>A82394 </td><td> 8     </td></tr>\n",
       "\t<tr><td>NA10321</td><td> 8     </td></tr>\n",
       "\t<tr><td>NA10601</td><td> 8     </td></tr>\n",
       "\t<tr><td>NA10602</td><td> 8     </td></tr>\n",
       "\t<tr><td>NA10691</td><td> 8     </td></tr>\n",
       "\t<tr><td>NA11011</td><td> 8     </td></tr>\n",
       "\t<tr><td>NA11012</td><td> 8     </td></tr>\n",
       "\t<tr><td>NA1162 </td><td> 8     </td></tr>\n",
       "\t<tr><td>NA1171 </td><td> 8     </td></tr>\n",
       "\t<tr><td>NA11711</td><td> 8     </td></tr>\n",
       "\t<tr><td>NA1172 </td><td> 8     </td></tr>\n",
       "\t<tr><td>NA1191 </td><td> 8     </td></tr>\n",
       "\t<tr><td>NA1192 </td><td> 8     </td></tr>\n",
       "\t<tr><td>NA1372 </td><td>12     </td></tr>\n",
       "\t<tr><td>NA1381 </td><td> 8     </td></tr>\n",
       "\t<tr><td>NA1382 </td><td> 8     </td></tr>\n",
       "\t<tr><td>NA14441</td><td> 8     </td></tr>\n",
       "\t<tr><td>NA14662</td><td> 8     </td></tr>\n",
       "\t<tr><td>NA14671</td><td> 8     </td></tr>\n",
       "\t<tr><td>NA14861</td><td> 8     </td></tr>\n",
       "\t<tr><td>NA14862</td><td> 8     </td></tr>\n",
       "\t<tr><td>NA14891</td><td> 8     </td></tr>\n",
       "\t<tr><td>NA15821</td><td> 8     </td></tr>\n",
       "\t<tr><td>NA15822</td><td> 8     </td></tr>\n",
       "\t<tr><td>⋮</td><td>⋮</td></tr>\n",
       "\t<tr><td>NA94532</td><td>8      </td></tr>\n",
       "\t<tr><td>NA94651</td><td>8      </td></tr>\n",
       "\t<tr><td>NA94652</td><td>8      </td></tr>\n",
       "\t<tr><td>NA95311</td><td>8      </td></tr>\n",
       "\t<tr><td>NA95501</td><td>8      </td></tr>\n",
       "\t<tr><td>NA95502</td><td>8      </td></tr>\n",
       "\t<tr><td>NA95611</td><td>8      </td></tr>\n",
       "\t<tr><td>NA95612</td><td>8      </td></tr>\n",
       "\t<tr><td>NA95671</td><td>8      </td></tr>\n",
       "\t<tr><td>NA95672</td><td>8      </td></tr>\n",
       "\t<tr><td>NA9591 </td><td>8      </td></tr>\n",
       "\t<tr><td>NA9592 </td><td>8      </td></tr>\n",
       "\t<tr><td>NA96731</td><td>8      </td></tr>\n",
       "\t<tr><td>NA96732</td><td>8      </td></tr>\n",
       "\t<tr><td>NA9682 </td><td>8      </td></tr>\n",
       "\t<tr><td>NA96891</td><td>8      </td></tr>\n",
       "\t<tr><td>NA96892</td><td>8      </td></tr>\n",
       "\t<tr><td>NA96922</td><td>8      </td></tr>\n",
       "\t<tr><td>NA96982</td><td>8      </td></tr>\n",
       "\t<tr><td>NA97052</td><td>8      </td></tr>\n",
       "\t<tr><td>NA971  </td><td>8      </td></tr>\n",
       "\t<tr><td>NA9721 </td><td>8      </td></tr>\n",
       "\t<tr><td>NA9731 </td><td>8      </td></tr>\n",
       "\t<tr><td>NA98452</td><td>8      </td></tr>\n",
       "\t<tr><td>NA99291</td><td>8      </td></tr>\n",
       "\t<tr><td>NA99292</td><td>8      </td></tr>\n",
       "\t<tr><td>NA9931 </td><td>8      </td></tr>\n",
       "\t<tr><td>NA9932 </td><td>8      </td></tr>\n",
       "\t<tr><td>NA99361</td><td>8      </td></tr>\n",
       "\t<tr><td>NA99492</td><td>8      </td></tr>\n",
       "</tbody>\n",
       "</table>\n"
      ],
      "text/latex": [
       "\\begin{tabular}{r|ll}\n",
       " MicrobiomeID & n\\\\\n",
       "\\hline\n",
       "\t A12397  &  8     \\\\\n",
       "\t A19032  &  8     \\\\\n",
       "\t A23825  &  8     \\\\\n",
       "\t A28196  &  8     \\\\\n",
       "\t A49876  &  8     \\\\\n",
       "\t A68710  &  8     \\\\\n",
       "\t A82394  &  8     \\\\\n",
       "\t NA10321 &  8     \\\\\n",
       "\t NA10601 &  8     \\\\\n",
       "\t NA10602 &  8     \\\\\n",
       "\t NA10691 &  8     \\\\\n",
       "\t NA11011 &  8     \\\\\n",
       "\t NA11012 &  8     \\\\\n",
       "\t NA1162  &  8     \\\\\n",
       "\t NA1171  &  8     \\\\\n",
       "\t NA11711 &  8     \\\\\n",
       "\t NA1172  &  8     \\\\\n",
       "\t NA1191  &  8     \\\\\n",
       "\t NA1192  &  8     \\\\\n",
       "\t NA1372  & 12     \\\\\n",
       "\t NA1381  &  8     \\\\\n",
       "\t NA1382  &  8     \\\\\n",
       "\t NA14441 &  8     \\\\\n",
       "\t NA14662 &  8     \\\\\n",
       "\t NA14671 &  8     \\\\\n",
       "\t NA14861 &  8     \\\\\n",
       "\t NA14862 &  8     \\\\\n",
       "\t NA14891 &  8     \\\\\n",
       "\t NA15821 &  8     \\\\\n",
       "\t NA15822 &  8     \\\\\n",
       "\t ⋮ & ⋮\\\\\n",
       "\t NA94532 & 8      \\\\\n",
       "\t NA94651 & 8      \\\\\n",
       "\t NA94652 & 8      \\\\\n",
       "\t NA95311 & 8      \\\\\n",
       "\t NA95501 & 8      \\\\\n",
       "\t NA95502 & 8      \\\\\n",
       "\t NA95611 & 8      \\\\\n",
       "\t NA95612 & 8      \\\\\n",
       "\t NA95671 & 8      \\\\\n",
       "\t NA95672 & 8      \\\\\n",
       "\t NA9591  & 8      \\\\\n",
       "\t NA9592  & 8      \\\\\n",
       "\t NA96731 & 8      \\\\\n",
       "\t NA96732 & 8      \\\\\n",
       "\t NA9682  & 8      \\\\\n",
       "\t NA96891 & 8      \\\\\n",
       "\t NA96892 & 8      \\\\\n",
       "\t NA96922 & 8      \\\\\n",
       "\t NA96982 & 8      \\\\\n",
       "\t NA97052 & 8      \\\\\n",
       "\t NA971   & 8      \\\\\n",
       "\t NA9721  & 8      \\\\\n",
       "\t NA9731  & 8      \\\\\n",
       "\t NA98452 & 8      \\\\\n",
       "\t NA99291 & 8      \\\\\n",
       "\t NA99292 & 8      \\\\\n",
       "\t NA9931  & 8      \\\\\n",
       "\t NA9932  & 8      \\\\\n",
       "\t NA99361 & 8      \\\\\n",
       "\t NA99492 & 8      \\\\\n",
       "\\end{tabular}\n"
      ],
      "text/markdown": [
       "\n",
       "MicrobiomeID | n | \n",
       "|---|---|---|---|---|---|---|---|---|---|---|---|---|---|---|---|---|---|---|---|---|---|---|---|---|---|---|---|---|---|---|---|---|---|---|---|---|---|---|---|---|---|---|---|---|---|---|---|---|---|---|---|---|---|---|---|---|---|---|---|---|\n",
       "| A12397  |  8      | \n",
       "| A19032  |  8      | \n",
       "| A23825  |  8      | \n",
       "| A28196  |  8      | \n",
       "| A49876  |  8      | \n",
       "| A68710  |  8      | \n",
       "| A82394  |  8      | \n",
       "| NA10321 |  8      | \n",
       "| NA10601 |  8      | \n",
       "| NA10602 |  8      | \n",
       "| NA10691 |  8      | \n",
       "| NA11011 |  8      | \n",
       "| NA11012 |  8      | \n",
       "| NA1162  |  8      | \n",
       "| NA1171  |  8      | \n",
       "| NA11711 |  8      | \n",
       "| NA1172  |  8      | \n",
       "| NA1191  |  8      | \n",
       "| NA1192  |  8      | \n",
       "| NA1372  | 12      | \n",
       "| NA1381  |  8      | \n",
       "| NA1382  |  8      | \n",
       "| NA14441 |  8      | \n",
       "| NA14662 |  8      | \n",
       "| NA14671 |  8      | \n",
       "| NA14861 |  8      | \n",
       "| NA14862 |  8      | \n",
       "| NA14891 |  8      | \n",
       "| NA15821 |  8      | \n",
       "| NA15822 |  8      | \n",
       "| ⋮ | ⋮ | \n",
       "| NA94532 | 8       | \n",
       "| NA94651 | 8       | \n",
       "| NA94652 | 8       | \n",
       "| NA95311 | 8       | \n",
       "| NA95501 | 8       | \n",
       "| NA95502 | 8       | \n",
       "| NA95611 | 8       | \n",
       "| NA95612 | 8       | \n",
       "| NA95671 | 8       | \n",
       "| NA95672 | 8       | \n",
       "| NA9591  | 8       | \n",
       "| NA9592  | 8       | \n",
       "| NA96731 | 8       | \n",
       "| NA96732 | 8       | \n",
       "| NA9682  | 8       | \n",
       "| NA96891 | 8       | \n",
       "| NA96892 | 8       | \n",
       "| NA96922 | 8       | \n",
       "| NA96982 | 8       | \n",
       "| NA97052 | 8       | \n",
       "| NA971   | 8       | \n",
       "| NA9721  | 8       | \n",
       "| NA9731  | 8       | \n",
       "| NA98452 | 8       | \n",
       "| NA99291 | 8       | \n",
       "| NA99292 | 8       | \n",
       "| NA9931  | 8       | \n",
       "| NA9932  | 8       | \n",
       "| NA99361 | 8       | \n",
       "| NA99492 | 8       | \n",
       "\n",
       "\n"
      ],
      "text/plain": [
       "    MicrobiomeID n \n",
       "1   A12397        8\n",
       "2   A19032        8\n",
       "3   A23825        8\n",
       "4   A28196        8\n",
       "5   A49876        8\n",
       "6   A68710        8\n",
       "7   A82394        8\n",
       "8   NA10321       8\n",
       "9   NA10601       8\n",
       "10  NA10602       8\n",
       "11  NA10691       8\n",
       "12  NA11011       8\n",
       "13  NA11012       8\n",
       "14  NA1162        8\n",
       "15  NA1171        8\n",
       "16  NA11711       8\n",
       "17  NA1172        8\n",
       "18  NA1191        8\n",
       "19  NA1192        8\n",
       "20  NA1372       12\n",
       "21  NA1381        8\n",
       "22  NA1382        8\n",
       "23  NA14441       8\n",
       "24  NA14662       8\n",
       "25  NA14671       8\n",
       "26  NA14861       8\n",
       "27  NA14862       8\n",
       "28  NA14891       8\n",
       "29  NA15821       8\n",
       "30  NA15822       8\n",
       "⋮   ⋮            ⋮ \n",
       "420 NA94532      8 \n",
       "421 NA94651      8 \n",
       "422 NA94652      8 \n",
       "423 NA95311      8 \n",
       "424 NA95501      8 \n",
       "425 NA95502      8 \n",
       "426 NA95611      8 \n",
       "427 NA95612      8 \n",
       "428 NA95671      8 \n",
       "429 NA95672      8 \n",
       "430 NA9591       8 \n",
       "431 NA9592       8 \n",
       "432 NA96731      8 \n",
       "433 NA96732      8 \n",
       "434 NA9682       8 \n",
       "435 NA96891      8 \n",
       "436 NA96892      8 \n",
       "437 NA96922      8 \n",
       "438 NA96982      8 \n",
       "439 NA97052      8 \n",
       "440 NA971        8 \n",
       "441 NA9721       8 \n",
       "442 NA9731       8 \n",
       "443 NA98452      8 \n",
       "444 NA99291      8 \n",
       "445 NA99292      8 \n",
       "446 NA9931       8 \n",
       "447 NA9932       8 \n",
       "448 NA99361      8 \n",
       "449 NA99492      8 "
      ]
     },
     "metadata": {},
     "output_type": "display_data"
    },
    {
     "data": {
      "text/html": [
       "<table>\n",
       "<thead><tr><th scope=col>MicrobiomeID</th><th scope=col>DATE_BORN</th><th scope=col>SEX</th><th scope=col>ACTUAL_ZYGOSITY</th><th scope=col>Anomaly</th><th scope=col>Ethnic_Origin</th><th scope=col>Visit_Date</th><th scope=col>PhenID</th><th scope=col>Phen_value</th><th scope=col>FPBarcode</th><th scope=col>SequencingSpecificName</th><th scope=col>delta_days</th><th scope=col>calculated_age</th><th scope=col>bp_text</th></tr></thead>\n",
       "<tbody>\n",
       "\t<tr><td>NA1372    </td><td>1959-04-05</td><td>F         </td><td>DZ        </td><td>NA        </td><td>White     </td><td>2009-03-09</td><td>P001394   </td><td>127       </td><td>1002896   </td><td>Low2.14   </td><td>812       </td><td>49        </td><td>BP_SYS_2  </td></tr>\n",
       "\t<tr><td>NA1372    </td><td>1959-04-05</td><td>F         </td><td>DZ        </td><td>NA        </td><td>White     </td><td>2009-03-09</td><td>P001394   </td><td>127       </td><td>1002858   </td><td>Plate8.30 </td><td>808       </td><td>49        </td><td>BP_SYS_2  </td></tr>\n",
       "\t<tr><td>NA1372    </td><td>1959-04-05</td><td>F         </td><td>DZ        </td><td>NA        </td><td>White     </td><td>2009-03-09</td><td>P001395   </td><td> 88       </td><td>1002896   </td><td>Low2.14   </td><td>812       </td><td>49        </td><td>BP_DIAS_2 </td></tr>\n",
       "\t<tr><td>NA1372    </td><td>1959-04-05</td><td>F         </td><td>DZ        </td><td>NA        </td><td>White     </td><td>2009-03-09</td><td>P001395   </td><td> 88       </td><td>1002858   </td><td>Plate8.30 </td><td>808       </td><td>49        </td><td>BP_DIAS_2 </td></tr>\n",
       "\t<tr><td>NA1372    </td><td>1959-04-05</td><td>F         </td><td>DZ        </td><td>NA        </td><td>White     </td><td>2009-03-09</td><td>P001396   </td><td>150       </td><td>1002896   </td><td>Low2.14   </td><td>812       </td><td>49        </td><td>BP_SYS_3  </td></tr>\n",
       "\t<tr><td>NA1372    </td><td>1959-04-05</td><td>F         </td><td>DZ        </td><td>NA        </td><td>White     </td><td>2009-03-09</td><td>P001396   </td><td>150       </td><td>1002858   </td><td>Plate8.30 </td><td>808       </td><td>49        </td><td>BP_SYS_3  </td></tr>\n",
       "\t<tr><td>NA1372    </td><td>1959-04-05</td><td>F         </td><td>DZ        </td><td>NA        </td><td>White     </td><td>2009-03-09</td><td>P001397   </td><td> 92       </td><td>1002896   </td><td>Low2.14   </td><td>812       </td><td>49        </td><td>BP_DIAS_3 </td></tr>\n",
       "\t<tr><td>NA1372    </td><td>1959-04-05</td><td>F         </td><td>DZ        </td><td>NA        </td><td>White     </td><td>2009-03-09</td><td>P001397   </td><td> 92       </td><td>1002858   </td><td>Plate8.30 </td><td>808       </td><td>49        </td><td>BP_DIAS_3 </td></tr>\n",
       "\t<tr><td>NA1372    </td><td>1959-04-05</td><td>F         </td><td>DZ        </td><td>NA        </td><td>White     </td><td>2014-04-14</td><td>P001394   </td><td>134       </td><td>1014073   </td><td>Plate30.89</td><td>  2       </td><td>55        </td><td>BP_SYS_2  </td></tr>\n",
       "\t<tr><td>NA1372    </td><td>1959-04-05</td><td>F         </td><td>DZ        </td><td>NA        </td><td>White     </td><td>2014-04-14</td><td>P001395   </td><td> 78       </td><td>1014073   </td><td>Plate30.89</td><td>  2       </td><td>55        </td><td>BP_DIAS_2 </td></tr>\n",
       "\t<tr><td>NA1372    </td><td>1959-04-05</td><td>F         </td><td>DZ        </td><td>NA        </td><td>White     </td><td>2014-04-14</td><td>P001396   </td><td>136       </td><td>1014073   </td><td>Plate30.89</td><td>  2       </td><td>55        </td><td>BP_SYS_3  </td></tr>\n",
       "\t<tr><td>NA1372    </td><td>1959-04-05</td><td>F         </td><td>DZ        </td><td>NA        </td><td>White     </td><td>2014-04-14</td><td>P001397   </td><td> 78       </td><td>1014073   </td><td>Plate30.89</td><td>  2       </td><td>55        </td><td>BP_DIAS_3 </td></tr>\n",
       "</tbody>\n",
       "</table>\n"
      ],
      "text/latex": [
       "\\begin{tabular}{r|llllllllllllll}\n",
       " MicrobiomeID & DATE\\_BORN & SEX & ACTUAL\\_ZYGOSITY & Anomaly & Ethnic\\_Origin & Visit\\_Date & PhenID & Phen\\_value & FPBarcode & SequencingSpecificName & delta\\_days & calculated\\_age & bp\\_text\\\\\n",
       "\\hline\n",
       "\t NA1372        & 1959-04-05    & F             & DZ            & NA            & White         & 2009-03-09    & P001394       & 127           & 1002896       & Low2.14       & 812           & 49            & BP\\_SYS\\_2 \\\\\n",
       "\t NA1372        & 1959-04-05    & F             & DZ            & NA            & White         & 2009-03-09    & P001394       & 127           & 1002858       & Plate8.30     & 808           & 49            & BP\\_SYS\\_2 \\\\\n",
       "\t NA1372        & 1959-04-05    & F             & DZ            & NA            & White         & 2009-03-09    & P001395       &  88           & 1002896       & Low2.14       & 812           & 49            & BP\\_DIAS\\_2\\\\\n",
       "\t NA1372        & 1959-04-05    & F             & DZ            & NA            & White         & 2009-03-09    & P001395       &  88           & 1002858       & Plate8.30     & 808           & 49            & BP\\_DIAS\\_2\\\\\n",
       "\t NA1372        & 1959-04-05    & F             & DZ            & NA            & White         & 2009-03-09    & P001396       & 150           & 1002896       & Low2.14       & 812           & 49            & BP\\_SYS\\_3 \\\\\n",
       "\t NA1372        & 1959-04-05    & F             & DZ            & NA            & White         & 2009-03-09    & P001396       & 150           & 1002858       & Plate8.30     & 808           & 49            & BP\\_SYS\\_3 \\\\\n",
       "\t NA1372        & 1959-04-05    & F             & DZ            & NA            & White         & 2009-03-09    & P001397       &  92           & 1002896       & Low2.14       & 812           & 49            & BP\\_DIAS\\_3\\\\\n",
       "\t NA1372        & 1959-04-05    & F             & DZ            & NA            & White         & 2009-03-09    & P001397       &  92           & 1002858       & Plate8.30     & 808           & 49            & BP\\_DIAS\\_3\\\\\n",
       "\t NA1372        & 1959-04-05    & F             & DZ            & NA            & White         & 2014-04-14    & P001394       & 134           & 1014073       & Plate30.89    &   2           & 55            & BP\\_SYS\\_2 \\\\\n",
       "\t NA1372        & 1959-04-05    & F             & DZ            & NA            & White         & 2014-04-14    & P001395       &  78           & 1014073       & Plate30.89    &   2           & 55            & BP\\_DIAS\\_2\\\\\n",
       "\t NA1372        & 1959-04-05    & F             & DZ            & NA            & White         & 2014-04-14    & P001396       & 136           & 1014073       & Plate30.89    &   2           & 55            & BP\\_SYS\\_3 \\\\\n",
       "\t NA1372        & 1959-04-05    & F             & DZ            & NA            & White         & 2014-04-14    & P001397       &  78           & 1014073       & Plate30.89    &   2           & 55            & BP\\_DIAS\\_3\\\\\n",
       "\\end{tabular}\n"
      ],
      "text/markdown": [
       "\n",
       "MicrobiomeID | DATE_BORN | SEX | ACTUAL_ZYGOSITY | Anomaly | Ethnic_Origin | Visit_Date | PhenID | Phen_value | FPBarcode | SequencingSpecificName | delta_days | calculated_age | bp_text | \n",
       "|---|---|---|---|---|---|---|---|---|---|---|---|\n",
       "| NA1372     | 1959-04-05 | F          | DZ         | NA         | White      | 2009-03-09 | P001394    | 127        | 1002896    | Low2.14    | 812        | 49         | BP_SYS_2   | \n",
       "| NA1372     | 1959-04-05 | F          | DZ         | NA         | White      | 2009-03-09 | P001394    | 127        | 1002858    | Plate8.30  | 808        | 49         | BP_SYS_2   | \n",
       "| NA1372     | 1959-04-05 | F          | DZ         | NA         | White      | 2009-03-09 | P001395    |  88        | 1002896    | Low2.14    | 812        | 49         | BP_DIAS_2  | \n",
       "| NA1372     | 1959-04-05 | F          | DZ         | NA         | White      | 2009-03-09 | P001395    |  88        | 1002858    | Plate8.30  | 808        | 49         | BP_DIAS_2  | \n",
       "| NA1372     | 1959-04-05 | F          | DZ         | NA         | White      | 2009-03-09 | P001396    | 150        | 1002896    | Low2.14    | 812        | 49         | BP_SYS_3   | \n",
       "| NA1372     | 1959-04-05 | F          | DZ         | NA         | White      | 2009-03-09 | P001396    | 150        | 1002858    | Plate8.30  | 808        | 49         | BP_SYS_3   | \n",
       "| NA1372     | 1959-04-05 | F          | DZ         | NA         | White      | 2009-03-09 | P001397    |  92        | 1002896    | Low2.14    | 812        | 49         | BP_DIAS_3  | \n",
       "| NA1372     | 1959-04-05 | F          | DZ         | NA         | White      | 2009-03-09 | P001397    |  92        | 1002858    | Plate8.30  | 808        | 49         | BP_DIAS_3  | \n",
       "| NA1372     | 1959-04-05 | F          | DZ         | NA         | White      | 2014-04-14 | P001394    | 134        | 1014073    | Plate30.89 |   2        | 55         | BP_SYS_2   | \n",
       "| NA1372     | 1959-04-05 | F          | DZ         | NA         | White      | 2014-04-14 | P001395    |  78        | 1014073    | Plate30.89 |   2        | 55         | BP_DIAS_2  | \n",
       "| NA1372     | 1959-04-05 | F          | DZ         | NA         | White      | 2014-04-14 | P001396    | 136        | 1014073    | Plate30.89 |   2        | 55         | BP_SYS_3   | \n",
       "| NA1372     | 1959-04-05 | F          | DZ         | NA         | White      | 2014-04-14 | P001397    |  78        | 1014073    | Plate30.89 |   2        | 55         | BP_DIAS_3  | \n",
       "\n",
       "\n"
      ],
      "text/plain": [
       "   MicrobiomeID DATE_BORN  SEX ACTUAL_ZYGOSITY Anomaly Ethnic_Origin Visit_Date\n",
       "1  NA1372       1959-04-05 F   DZ              NA      White         2009-03-09\n",
       "2  NA1372       1959-04-05 F   DZ              NA      White         2009-03-09\n",
       "3  NA1372       1959-04-05 F   DZ              NA      White         2009-03-09\n",
       "4  NA1372       1959-04-05 F   DZ              NA      White         2009-03-09\n",
       "5  NA1372       1959-04-05 F   DZ              NA      White         2009-03-09\n",
       "6  NA1372       1959-04-05 F   DZ              NA      White         2009-03-09\n",
       "7  NA1372       1959-04-05 F   DZ              NA      White         2009-03-09\n",
       "8  NA1372       1959-04-05 F   DZ              NA      White         2009-03-09\n",
       "9  NA1372       1959-04-05 F   DZ              NA      White         2014-04-14\n",
       "10 NA1372       1959-04-05 F   DZ              NA      White         2014-04-14\n",
       "11 NA1372       1959-04-05 F   DZ              NA      White         2014-04-14\n",
       "12 NA1372       1959-04-05 F   DZ              NA      White         2014-04-14\n",
       "   PhenID  Phen_value FPBarcode SequencingSpecificName delta_days\n",
       "1  P001394 127        1002896   Low2.14                812       \n",
       "2  P001394 127        1002858   Plate8.30              808       \n",
       "3  P001395  88        1002896   Low2.14                812       \n",
       "4  P001395  88        1002858   Plate8.30              808       \n",
       "5  P001396 150        1002896   Low2.14                812       \n",
       "6  P001396 150        1002858   Plate8.30              808       \n",
       "7  P001397  92        1002896   Low2.14                812       \n",
       "8  P001397  92        1002858   Plate8.30              808       \n",
       "9  P001394 134        1014073   Plate30.89               2       \n",
       "10 P001395  78        1014073   Plate30.89               2       \n",
       "11 P001396 136        1014073   Plate30.89               2       \n",
       "12 P001397  78        1014073   Plate30.89               2       \n",
       "   calculated_age bp_text  \n",
       "1  49             BP_SYS_2 \n",
       "2  49             BP_SYS_2 \n",
       "3  49             BP_DIAS_2\n",
       "4  49             BP_DIAS_2\n",
       "5  49             BP_SYS_3 \n",
       "6  49             BP_SYS_3 \n",
       "7  49             BP_DIAS_3\n",
       "8  49             BP_DIAS_3\n",
       "9  55             BP_SYS_2 \n",
       "10 55             BP_DIAS_2\n",
       "11 55             BP_SYS_3 \n",
       "12 55             BP_DIAS_3"
      ]
     },
     "metadata": {},
     "output_type": "display_data"
    }
   ],
   "source": [
    "# There are subjects with multiple samples (i.e. multiple barcodes), each with a blood pressure value\n",
    "# e.g. \n",
    "\n",
    "TUK_BP %>% group_by(MicrobiomeID) %>% summarize(n =  n()) %>% filter(n>4)\n",
    "TUK_BP %>% filter(MicrobiomeID == \"NA1372\")\n",
    "\n",
    "# Therefore, the BGI250 and the TUK_BP datasets should be joined by barcode"
   ]
  },
  {
   "cell_type": "code",
   "execution_count": 21,
   "metadata": {
    "ExecuteTime": {
     "end_time": "2018-12-12T09:42:55.697646Z",
     "start_time": "2018-12-12T09:42:44.934Z"
    },
    "scrolled": true
   },
   "outputs": [
    {
     "name": "stdout",
     "output_type": "stream",
     "text": [
      "[1] 452  13\n"
     ]
    },
    {
     "data": {
      "text/html": [
       "<table>\n",
       "<thead><tr><th scope=col>FPBarcode</th><th scope=col>BGI.ID</th><th scope=col>IndividualID</th><th scope=col>bp_group</th><th scope=col>BMI</th><th scope=col>age</th><th scope=col>vegetarian.or.Vegan</th><th scope=col>Smoking</th><th scope=col>Diabetes</th><th scope=col>IndividualZygosity</th><th scope=col>IndividualFamilyID</th><th scope=col>mean_value</th><th scope=col>sd_value</th></tr></thead>\n",
       "<tbody>\n",
       "\t<tr><td>1002314     </td><td>35391       </td><td>NA3241      </td><td>BP_DIAS     </td><td>21.42317    </td><td>65          </td><td>N           </td><td>Never Smoked</td><td>N           </td><td>DZ          </td><td>NA324       </td><td> 61         </td><td>1.414214    </td></tr>\n",
       "\t<tr><td>1002314     </td><td>35391       </td><td>NA3241      </td><td>BP_SYS      </td><td>21.42317    </td><td>65          </td><td>N           </td><td>Never Smoked</td><td>N           </td><td>DZ          </td><td>NA324       </td><td>124         </td><td>2.828427    </td></tr>\n",
       "\t<tr><td>1002317     </td><td>35387       </td><td>NA21081     </td><td>NA          </td><td>19.68891    </td><td>50          </td><td>N           </td><td>Never Smoked</td><td>N           </td><td>DZ          </td><td>NA2108      </td><td>NaN         </td><td>      NA    </td></tr>\n",
       "</tbody>\n",
       "</table>\n"
      ],
      "text/latex": [
       "\\begin{tabular}{r|lllllllllllll}\n",
       " FPBarcode & BGI.ID & IndividualID & bp\\_group & BMI & age & vegetarian.or.Vegan & Smoking & Diabetes & IndividualZygosity & IndividualFamilyID & mean\\_value & sd\\_value\\\\\n",
       "\\hline\n",
       "\t 1002314      & 35391        & NA3241       & BP\\_DIAS    & 21.42317     & 65           & N            & Never Smoked & N            & DZ           & NA324        &  61          & 1.414214    \\\\\n",
       "\t 1002314      & 35391        & NA3241       & BP\\_SYS     & 21.42317     & 65           & N            & Never Smoked & N            & DZ           & NA324        & 124          & 2.828427    \\\\\n",
       "\t 1002317      & 35387        & NA21081      & NA           & 19.68891     & 50           & N            & Never Smoked & N            & DZ           & NA2108       & NaN          &       NA    \\\\\n",
       "\\end{tabular}\n"
      ],
      "text/markdown": [
       "\n",
       "FPBarcode | BGI.ID | IndividualID | bp_group | BMI | age | vegetarian.or.Vegan | Smoking | Diabetes | IndividualZygosity | IndividualFamilyID | mean_value | sd_value | \n",
       "|---|---|---|\n",
       "| 1002314      | 35391        | NA3241       | BP_DIAS      | 21.42317     | 65           | N            | Never Smoked | N            | DZ           | NA324        |  61          | 1.414214     | \n",
       "| 1002314      | 35391        | NA3241       | BP_SYS       | 21.42317     | 65           | N            | Never Smoked | N            | DZ           | NA324        | 124          | 2.828427     | \n",
       "| 1002317      | 35387        | NA21081      | NA           | 19.68891     | 50           | N            | Never Smoked | N            | DZ           | NA2108       | NaN          |       NA     | \n",
       "\n",
       "\n"
      ],
      "text/plain": [
       "  FPBarcode BGI.ID IndividualID bp_group BMI      age vegetarian.or.Vegan\n",
       "1 1002314   35391  NA3241       BP_DIAS  21.42317 65  N                  \n",
       "2 1002314   35391  NA3241       BP_SYS   21.42317 65  N                  \n",
       "3 1002317   35387  NA21081      NA       19.68891 50  N                  \n",
       "  Smoking      Diabetes IndividualZygosity IndividualFamilyID mean_value\n",
       "1 Never Smoked N        DZ                 NA324               61       \n",
       "2 Never Smoked N        DZ                 NA324              124       \n",
       "3 Never Smoked N        DZ                 NA2108             NaN       \n",
       "  sd_value\n",
       "1 1.414214\n",
       "2 2.828427\n",
       "3       NA"
      ]
     },
     "metadata": {},
     "output_type": "display_data"
    }
   ],
   "source": [
    "# Join BGI250 and TUK BP data by barcode\n",
    "BP_data = TUK_BP %>% select(MicrobiomeID, Phen_value, FPBarcode, bp_text)\n",
    "\n",
    "BGI250_complete = left_join(BGI_merged, BP_data, \n",
    "               by = c(\"CornellSampleBarcode\" = \"FPBarcode\"))\n",
    "\n",
    "BGI250_BP = BGI250_complete %>% select(BGI.ID, age = Age.at.metagenomics.sample, \n",
    "                                       Type.of.delivery, vegetarian.or.Vegan, Smoking, Diabetes, \n",
    "                                       Drugs.Diabetic.Tablets., Drugs.Insulin., IndividualID, IndividualZygosity,\n",
    "                                       IndividualFamilyID, BMI = IndividualBMI, \n",
    "                                       Phen_value, FPBarcode = CornellSampleBarcode, bp_text)\n",
    "\n",
    "# Obtain the mean (sd) sys and dias blood pressure of each subject\n",
    "BGI250_mBP = BGI250_BP %>%\n",
    "    mutate(Phen_value = Phen_value %>% as.Num,\n",
    "           bp_group = gsub('_[23]$', '', bp_text)) %>%\n",
    "    group_by(FPBarcode, BGI.ID, IndividualID, bp_group, BMI, age, \n",
    "             vegetarian.or.Vegan, Smoking, Diabetes, \n",
    "             IndividualZygosity, IndividualFamilyID) %>%\n",
    "    summarize(mean_value = mean(Phen_value, na.rm=TRUE),\n",
    "              sd_value = sd(Phen_value, na.rm=TRUE)) %>%\n",
    "    ungroup()\n",
    "\n",
    "BGI250_mBP %>% dfhead"
   ]
  },
  {
   "cell_type": "code",
   "execution_count": 22,
   "metadata": {
    "ExecuteTime": {
     "end_time": "2018-12-12T09:42:55.743579Z",
     "start_time": "2018-12-12T09:42:44.936Z"
    },
    "scrolled": true
   },
   "outputs": [
    {
     "data": {
      "text/plain": [
       ".\n",
       "  1   2 \n",
       " 48 202 "
      ]
     },
     "metadata": {},
     "output_type": "display_data"
    }
   ],
   "source": [
    "# Number of individuals with and without BP data from the BGI250 dataset\n",
    "BGI250_mBP %>% group_by(FPBarcode) %>% summarize(n = n()) %>% pull(n) %>% table"
   ]
  },
  {
   "cell_type": "code",
   "execution_count": 23,
   "metadata": {
    "ExecuteTime": {
     "end_time": "2018-12-12T09:42:55.769809Z",
     "start_time": "2018-12-12T09:42:44.938Z"
    }
   },
   "outputs": [
    {
     "name": "stdout",
     "output_type": "stream",
     "text": [
      "[1] 1002409 1002424 1002474 1002503 1002521 1002774 1002868 1003472\n"
     ]
    }
   ],
   "source": [
    "# Intersect between vadinCA11 and BGI250\n",
    "overlap_v11_BGI = intersect(BGI250_mBP$FPBarcode, v11_names$new_name) %>% print"
   ]
  },
  {
   "cell_type": "code",
   "execution_count": 24,
   "metadata": {
    "ExecuteTime": {
     "end_time": "2018-12-12T09:42:55.820717Z",
     "start_time": "2018-12-12T09:42:44.940Z"
    }
   },
   "outputs": [
    {
     "name": "stdout",
     "output_type": "stream",
     "text": [
      "[1] 222   9\n"
     ]
    },
    {
     "data": {
      "text/html": [
       "<table>\n",
       "<thead><tr><th scope=col>FPBarcode</th><th scope=col>bp_group</th><th scope=col>ACTUAL_ZYGOSITY</th><th scope=col>MicrobiomeID</th><th scope=col>calculated_age</th><th scope=col>s.BMI</th><th scope=col>age</th><th scope=col>mean_value</th><th scope=col>sd_value</th></tr></thead>\n",
       "<tbody>\n",
       "\t<tr><td>1002319 </td><td>BP_DIAS </td><td>MZ      </td><td>NA55891 </td><td>70      </td><td>37.84576</td><td>73      </td><td> 69.5   </td><td>2.121320</td></tr>\n",
       "\t<tr><td>1002319 </td><td>BP_SYS  </td><td>MZ      </td><td>NA55891 </td><td>70      </td><td>37.84576</td><td>73      </td><td>118.5   </td><td>2.121320</td></tr>\n",
       "\t<tr><td>1002320 </td><td>BP_DIAS </td><td>MZ      </td><td>NA55892 </td><td>70      </td><td>36.13234</td><td>73      </td><td> 77.0   </td><td>1.414214</td></tr>\n",
       "</tbody>\n",
       "</table>\n"
      ],
      "text/latex": [
       "\\begin{tabular}{r|lllllllll}\n",
       " FPBarcode & bp\\_group & ACTUAL\\_ZYGOSITY & MicrobiomeID & calculated\\_age & s.BMI & age & mean\\_value & sd\\_value\\\\\n",
       "\\hline\n",
       "\t 1002319   & BP\\_DIAS & MZ        & NA55891   & 70        & 37.84576  & 73        &  69.5     & 2.121320 \\\\\n",
       "\t 1002319   & BP\\_SYS  & MZ        & NA55891   & 70        & 37.84576  & 73        & 118.5     & 2.121320 \\\\\n",
       "\t 1002320   & BP\\_DIAS & MZ        & NA55892   & 70        & 36.13234  & 73        &  77.0     & 1.414214 \\\\\n",
       "\\end{tabular}\n"
      ],
      "text/markdown": [
       "\n",
       "FPBarcode | bp_group | ACTUAL_ZYGOSITY | MicrobiomeID | calculated_age | s.BMI | age | mean_value | sd_value | \n",
       "|---|---|---|\n",
       "| 1002319  | BP_DIAS  | MZ       | NA55891  | 70       | 37.84576 | 73       |  69.5    | 2.121320 | \n",
       "| 1002319  | BP_SYS   | MZ       | NA55891  | 70       | 37.84576 | 73       | 118.5    | 2.121320 | \n",
       "| 1002320  | BP_DIAS  | MZ       | NA55892  | 70       | 36.13234 | 73       |  77.0    | 1.414214 | \n",
       "\n",
       "\n"
      ],
      "text/plain": [
       "  FPBarcode bp_group ACTUAL_ZYGOSITY MicrobiomeID calculated_age s.BMI    age\n",
       "1 1002319   BP_DIAS  MZ              NA55891      70             37.84576 73 \n",
       "2 1002319   BP_SYS   MZ              NA55891      70             37.84576 73 \n",
       "3 1002320   BP_DIAS  MZ              NA55892      70             36.13234 73 \n",
       "  mean_value sd_value\n",
       "1  69.5      2.121320\n",
       "2 118.5      2.121320\n",
       "3  77.0      1.414214"
      ]
     },
     "metadata": {},
     "output_type": "display_data"
    }
   ],
   "source": [
    "# Remove overlapping samples between vadinCA11 and BGI250 before merging\n",
    "v11_mBP = v11_mBP %>% filter(!(FPBarcode %in% overlap_v11_BGI))\n",
    "v11_mBP %>% dfhead"
   ]
  },
  {
   "cell_type": "markdown",
   "metadata": {},
   "source": [
    "## Flagellin samples"
   ]
  },
  {
   "cell_type": "code",
   "execution_count": 25,
   "metadata": {
    "ExecuteTime": {
     "end_time": "2018-12-12T09:42:55.868894Z",
     "start_time": "2018-12-12T09:42:44.943Z"
    }
   },
   "outputs": [
    {
     "name": "stdout",
     "output_type": "stream",
     "text": [
      "[1] 124  14\n"
     ]
    },
    {
     "data": {
      "text/html": [
       "<table>\n",
       "<thead><tr><th scope=col>MicrobiomeID</th><th scope=col>DATE_BORN</th><th scope=col>SEX</th><th scope=col>ACTUAL_ZYGOSITY</th><th scope=col>Anomaly</th><th scope=col>Ethnic_Origin</th><th scope=col>Visit_Date</th><th scope=col>PhenID</th><th scope=col>Phen_value</th><th scope=col>FPBarcode</th><th scope=col>SequencingSpecificName</th><th scope=col>delta_days</th><th scope=col>calculated_age</th><th scope=col>bp_text</th></tr></thead>\n",
       "<tbody>\n",
       "\t<tr><td>NA92292   </td><td>1947-01-23</td><td>F         </td><td>DZ        </td><td>NA        </td><td>White     </td><td>2012-10-16</td><td>P001394   </td><td>145       </td><td>1003430   </td><td>Plate8.60 </td><td>400       </td><td>65        </td><td>BP_SYS_2  </td></tr>\n",
       "\t<tr><td>NA92292   </td><td>1947-01-23</td><td>F         </td><td>DZ        </td><td>NA        </td><td>White     </td><td>2012-10-16</td><td>P001395   </td><td> 83       </td><td>1003430   </td><td>Plate8.60 </td><td>400       </td><td>65        </td><td>BP_DIAS_2 </td></tr>\n",
       "\t<tr><td>NA92292   </td><td>1947-01-23</td><td>F         </td><td>DZ        </td><td>NA        </td><td>White     </td><td>2012-10-16</td><td>P001396   </td><td>137       </td><td>1003430   </td><td>Plate8.60 </td><td>400       </td><td>65        </td><td>BP_SYS_3  </td></tr>\n",
       "</tbody>\n",
       "</table>\n"
      ],
      "text/latex": [
       "\\begin{tabular}{r|llllllllllllll}\n",
       " MicrobiomeID & DATE\\_BORN & SEX & ACTUAL\\_ZYGOSITY & Anomaly & Ethnic\\_Origin & Visit\\_Date & PhenID & Phen\\_value & FPBarcode & SequencingSpecificName & delta\\_days & calculated\\_age & bp\\_text\\\\\n",
       "\\hline\n",
       "\t NA92292       & 1947-01-23    & F             & DZ            & NA            & White         & 2012-10-16    & P001394       & 145           & 1003430       & Plate8.60     & 400           & 65            & BP\\_SYS\\_2 \\\\\n",
       "\t NA92292       & 1947-01-23    & F             & DZ            & NA            & White         & 2012-10-16    & P001395       &  83           & 1003430       & Plate8.60     & 400           & 65            & BP\\_DIAS\\_2\\\\\n",
       "\t NA92292       & 1947-01-23    & F             & DZ            & NA            & White         & 2012-10-16    & P001396       & 137           & 1003430       & Plate8.60     & 400           & 65            & BP\\_SYS\\_3 \\\\\n",
       "\\end{tabular}\n"
      ],
      "text/markdown": [
       "\n",
       "MicrobiomeID | DATE_BORN | SEX | ACTUAL_ZYGOSITY | Anomaly | Ethnic_Origin | Visit_Date | PhenID | Phen_value | FPBarcode | SequencingSpecificName | delta_days | calculated_age | bp_text | \n",
       "|---|---|---|\n",
       "| NA92292    | 1947-01-23 | F          | DZ         | NA         | White      | 2012-10-16 | P001394    | 145        | 1003430    | Plate8.60  | 400        | 65         | BP_SYS_2   | \n",
       "| NA92292    | 1947-01-23 | F          | DZ         | NA         | White      | 2012-10-16 | P001395    |  83        | 1003430    | Plate8.60  | 400        | 65         | BP_DIAS_2  | \n",
       "| NA92292    | 1947-01-23 | F          | DZ         | NA         | White      | 2012-10-16 | P001396    | 137        | 1003430    | Plate8.60  | 400        | 65         | BP_SYS_3   | \n",
       "\n",
       "\n"
      ],
      "text/plain": [
       "  MicrobiomeID DATE_BORN  SEX ACTUAL_ZYGOSITY Anomaly Ethnic_Origin Visit_Date\n",
       "1 NA92292      1947-01-23 F   DZ              NA      White         2012-10-16\n",
       "2 NA92292      1947-01-23 F   DZ              NA      White         2012-10-16\n",
       "3 NA92292      1947-01-23 F   DZ              NA      White         2012-10-16\n",
       "  PhenID  Phen_value FPBarcode SequencingSpecificName delta_days calculated_age\n",
       "1 P001394 145        1003430   Plate8.60              400        65            \n",
       "2 P001395  83        1003430   Plate8.60              400        65            \n",
       "3 P001396 137        1003430   Plate8.60              400        65            \n",
       "  bp_text  \n",
       "1 BP_SYS_2 \n",
       "2 BP_DIAS_2\n",
       "3 BP_SYS_3 "
      ]
     },
     "metadata": {},
     "output_type": "display_data"
    }
   ],
   "source": [
    "# Subset TUK blood pressure table to include only vadinCA11 subjects\n",
    "# Identify samples with BP data\n",
    "flag_BP = inner_join(TUK_BP, Flagellin_samples, by = c(\"FPBarcode\"))\n",
    "flag_BP %>% dfhead"
   ]
  },
  {
   "cell_type": "code",
   "execution_count": 26,
   "metadata": {
    "ExecuteTime": {
     "end_time": "2018-12-12T09:42:55.916521Z",
     "start_time": "2018-12-12T09:42:44.945Z"
    }
   },
   "outputs": [],
   "source": [
    "# create data frame with mean BP of both meassurements\n",
    "flag_mBP = flag_BP %>%\n",
    "    mutate(PhenID = PhenID %>% as.character,\n",
    "           Phen_value = Phen_value %>% as.Num,\n",
    "           bp_group = gsub('_[23]$', '', bp_text)) %>%\n",
    "    group_by(FPBarcode, bp_group, ACTUAL_ZYGOSITY, MicrobiomeID) %>%\n",
    "    summarize(mean_value = mean(Phen_value, na.rm=TRUE),\n",
    "              sd_value = sd(Phen_value, na.rm=TRUE)) %>%\n",
    "    ungroup()"
   ]
  },
  {
   "cell_type": "code",
   "execution_count": 27,
   "metadata": {
    "ExecuteTime": {
     "end_time": "2018-12-12T09:42:56.055292Z",
     "start_time": "2018-12-12T09:42:44.947Z"
    }
   },
   "outputs": [
    {
     "name": "stdout",
     "output_type": "stream",
     "text": [
      "[1] 62  6\n"
     ]
    },
    {
     "data": {
      "text/html": [
       "<table>\n",
       "<thead><tr><th scope=col>FPBarcode</th><th scope=col>bp_group</th><th scope=col>ACTUAL_ZYGOSITY</th><th scope=col>MicrobiomeID</th><th scope=col>mean_value</th><th scope=col>sd_value</th></tr></thead>\n",
       "<tbody>\n",
       "\t<tr><td>1002372  </td><td>BP_DIAS  </td><td>DZ       </td><td>NA59111  </td><td> 68.5    </td><td>0.7071068</td></tr>\n",
       "\t<tr><td>1002372  </td><td>BP_SYS   </td><td>DZ       </td><td>NA59111  </td><td>106.0    </td><td>4.2426407</td></tr>\n",
       "\t<tr><td>1003344  </td><td>BP_DIAS  </td><td>MZ       </td><td>NA81561  </td><td> 67.5    </td><td>0.7071068</td></tr>\n",
       "</tbody>\n",
       "</table>\n"
      ],
      "text/latex": [
       "\\begin{tabular}{r|llllll}\n",
       " FPBarcode & bp\\_group & ACTUAL\\_ZYGOSITY & MicrobiomeID & mean\\_value & sd\\_value\\\\\n",
       "\\hline\n",
       "\t 1002372   & BP\\_DIAS & DZ        & NA59111   &  68.5     & 0.7071068\\\\\n",
       "\t 1002372   & BP\\_SYS  & DZ        & NA59111   & 106.0     & 4.2426407\\\\\n",
       "\t 1003344   & BP\\_DIAS & MZ        & NA81561   &  67.5     & 0.7071068\\\\\n",
       "\\end{tabular}\n"
      ],
      "text/markdown": [
       "\n",
       "FPBarcode | bp_group | ACTUAL_ZYGOSITY | MicrobiomeID | mean_value | sd_value | \n",
       "|---|---|---|\n",
       "| 1002372   | BP_DIAS   | DZ        | NA59111   |  68.5     | 0.7071068 | \n",
       "| 1002372   | BP_SYS    | DZ        | NA59111   | 106.0     | 4.2426407 | \n",
       "| 1003344   | BP_DIAS   | MZ        | NA81561   |  67.5     | 0.7071068 | \n",
       "\n",
       "\n"
      ],
      "text/plain": [
       "  FPBarcode bp_group ACTUAL_ZYGOSITY MicrobiomeID mean_value sd_value \n",
       "1 1002372   BP_DIAS  DZ              NA59111       68.5      0.7071068\n",
       "2 1002372   BP_SYS   DZ              NA59111      106.0      4.2426407\n",
       "3 1003344   BP_DIAS  MZ              NA81561       67.5      0.7071068"
      ]
     },
     "metadata": {},
     "output_type": "display_data"
    }
   ],
   "source": [
    "flag_mBP %>% dfhead"
   ]
  },
  {
   "cell_type": "markdown",
   "metadata": {},
   "source": [
    "# Single table with age, BMI and BP data"
   ]
  },
  {
   "cell_type": "code",
   "execution_count": 28,
   "metadata": {
    "ExecuteTime": {
     "end_time": "2018-12-12T09:42:56.131275Z",
     "start_time": "2018-12-12T09:42:44.950Z"
    }
   },
   "outputs": [
    {
     "name": "stderr",
     "output_type": "stream",
     "text": [
      "Warning message:\n",
      "“Column `ACTUAL_ZYGOSITY`/`IndividualZygosity` joining factors with different levels, coercing to character vector”Warning message:\n",
      "“Column `MicrobiomeID`/`IndividualID` joining factors with different levels, coercing to character vector”"
     ]
    },
    {
     "data": {
      "text/html": [
       "361"
      ],
      "text/latex": [
       "361"
      ],
      "text/markdown": [
       "361"
      ],
      "text/plain": [
       "[1] 361"
      ]
     },
     "metadata": {},
     "output_type": "display_data"
    },
    {
     "name": "stdout",
     "output_type": "stream",
     "text": [
      "[1] 674  14\n"
     ]
    },
    {
     "data": {
      "text/html": [
       "<table>\n",
       "<thead><tr><th scope=col>Barcode</th><th scope=col>BP_measure</th><th scope=col>Zygosity</th><th scope=col>Subject_ID</th><th scope=col>calculated_age</th><th scope=col>BMI</th><th scope=col>Age</th><th scope=col>BP_mean_value</th><th scope=col>BP_sd_value</th><th scope=col>BGI_ID</th><th scope=col>Vegetarian_Vegan</th><th scope=col>Smoking</th><th scope=col>Diabetes</th><th scope=col>Family_ID</th></tr></thead>\n",
       "<tbody>\n",
       "\t<tr><td>1002319 </td><td>BP_DIAS </td><td>MZ      </td><td>NA55891 </td><td>70      </td><td>37.84576</td><td>73      </td><td> 69.5   </td><td>2.121320</td><td>NA      </td><td>NA      </td><td>NA      </td><td>NA      </td><td>NA      </td></tr>\n",
       "\t<tr><td>1002319 </td><td>BP_SYS  </td><td>MZ      </td><td>NA55891 </td><td>70      </td><td>37.84576</td><td>73      </td><td>118.5   </td><td>2.121320</td><td>NA      </td><td>NA      </td><td>NA      </td><td>NA      </td><td>NA      </td></tr>\n",
       "\t<tr><td>1002320 </td><td>BP_DIAS </td><td>MZ      </td><td>NA55892 </td><td>70      </td><td>36.13234</td><td>73      </td><td> 77.0   </td><td>1.414214</td><td>NA      </td><td>NA      </td><td>NA      </td><td>NA      </td><td>NA      </td></tr>\n",
       "</tbody>\n",
       "</table>\n"
      ],
      "text/latex": [
       "\\begin{tabular}{r|llllllllllllll}\n",
       " Barcode & BP\\_measure & Zygosity & Subject\\_ID & calculated\\_age & BMI & Age & BP\\_mean\\_value & BP\\_sd\\_value & BGI\\_ID & Vegetarian\\_Vegan & Smoking & Diabetes & Family\\_ID\\\\\n",
       "\\hline\n",
       "\t 1002319   & BP\\_DIAS & MZ        & NA55891   & 70        & 37.84576  & 73        &  69.5     & 2.121320  & NA        & NA        & NA        & NA        & NA       \\\\\n",
       "\t 1002319   & BP\\_SYS  & MZ        & NA55891   & 70        & 37.84576  & 73        & 118.5     & 2.121320  & NA        & NA        & NA        & NA        & NA       \\\\\n",
       "\t 1002320   & BP\\_DIAS & MZ        & NA55892   & 70        & 36.13234  & 73        &  77.0     & 1.414214  & NA        & NA        & NA        & NA        & NA       \\\\\n",
       "\\end{tabular}\n"
      ],
      "text/markdown": [
       "\n",
       "Barcode | BP_measure | Zygosity | Subject_ID | calculated_age | BMI | Age | BP_mean_value | BP_sd_value | BGI_ID | Vegetarian_Vegan | Smoking | Diabetes | Family_ID | \n",
       "|---|---|---|\n",
       "| 1002319  | BP_DIAS  | MZ       | NA55891  | 70       | 37.84576 | 73       |  69.5    | 2.121320 | NA       | NA       | NA       | NA       | NA       | \n",
       "| 1002319  | BP_SYS   | MZ       | NA55891  | 70       | 37.84576 | 73       | 118.5    | 2.121320 | NA       | NA       | NA       | NA       | NA       | \n",
       "| 1002320  | BP_DIAS  | MZ       | NA55892  | 70       | 36.13234 | 73       |  77.0    | 1.414214 | NA       | NA       | NA       | NA       | NA       | \n",
       "\n",
       "\n"
      ],
      "text/plain": [
       "  Barcode BP_measure Zygosity Subject_ID calculated_age BMI      Age\n",
       "1 1002319 BP_DIAS    MZ       NA55891    70             37.84576 73 \n",
       "2 1002319 BP_SYS     MZ       NA55891    70             37.84576 73 \n",
       "3 1002320 BP_DIAS    MZ       NA55892    70             36.13234 73 \n",
       "  BP_mean_value BP_sd_value BGI_ID Vegetarian_Vegan Smoking Diabetes Family_ID\n",
       "1  69.5         2.121320    NA     NA               NA      NA       NA       \n",
       "2 118.5         2.121320    NA     NA               NA      NA       NA       \n",
       "3  77.0         1.414214    NA     NA               NA      NA       NA       "
      ]
     },
     "metadata": {},
     "output_type": "display_data"
    }
   ],
   "source": [
    "# Merge vadinCA11 and BGI250 tables and rename variables\n",
    "TUK_merged_metadata = full_join(v11_mBP, BGI250_mBP, by = c(\"FPBarcode\", \"bp_group\", \n",
    "                                                            \"mean_value\", \"sd_value\", \n",
    "                                                            \"ACTUAL_ZYGOSITY\" = \"IndividualZygosity\",\n",
    "                                                            \"s.BMI\" = \"BMI\",\n",
    "                                                            \"MicrobiomeID\" = \"IndividualID\", \n",
    "                                                            \"age\")) %>%\n",
    "                      rename(Barcode = FPBarcode, \n",
    "                             BP_measure = bp_group, \n",
    "                             Zygosity = ACTUAL_ZYGOSITY, \n",
    "                             BP_mean_value = mean_value, \n",
    "                             BP_sd_value = sd_value, \n",
    "                             BGI_ID = BGI.ID, \n",
    "                             Subject_ID = MicrobiomeID, \n",
    "                             Age = age,  \n",
    "                             Vegetarian_Vegan = vegetarian.or.Vegan, \n",
    "                             Family_ID = IndividualFamilyID,\n",
    "                             BMI = s.BMI) \n",
    "\n",
    "TUK_merged_metadata %>% distinct(Barcode) %>% nrow\n",
    "TUK_merged_metadata %>% dfhead"
   ]
  },
  {
   "cell_type": "code",
   "execution_count": 29,
   "metadata": {
    "ExecuteTime": {
     "end_time": "2018-12-12T09:42:56.203068Z",
     "start_time": "2018-12-12T09:42:44.952Z"
    }
   },
   "outputs": [
    {
     "name": "stderr",
     "output_type": "stream",
     "text": [
      "Warning message:\n",
      "“Column `Zygosity`/`ACTUAL_ZYGOSITY` joining character vector and factor, coercing into character vector”Warning message:\n",
      "“Column `Subject_ID`/`MicrobiomeID` joining character vector and factor, coercing into character vector”Warning message:\n",
      "“Column `Family_ID`/`i.FamilyID` joining factors with different levels, coercing to character vector”"
     ]
    },
    {
     "data": {
      "text/html": [
       "370"
      ],
      "text/latex": [
       "370"
      ],
      "text/markdown": [
       "370"
      ],
      "text/plain": [
       "[1] 370"
      ]
     },
     "metadata": {},
     "output_type": "display_data"
    },
    {
     "name": "stdout",
     "output_type": "stream",
     "text": [
      "[1] 692  14\n"
     ]
    },
    {
     "data": {
      "text/html": [
       "<table>\n",
       "<thead><tr><th scope=col>Barcode</th><th scope=col>BP_measure</th><th scope=col>Zygosity</th><th scope=col>Subject_ID</th><th scope=col>calculated_age</th><th scope=col>BMI</th><th scope=col>Age</th><th scope=col>BP_mean_value</th><th scope=col>BP_sd_value</th><th scope=col>BGI_ID</th><th scope=col>Vegetarian_Vegan</th><th scope=col>Smoking</th><th scope=col>Diabetes</th><th scope=col>Family_ID</th></tr></thead>\n",
       "<tbody>\n",
       "\t<tr><td>1002319 </td><td>BP_DIAS </td><td>MZ      </td><td>NA55891 </td><td>70      </td><td>37.84576</td><td>73      </td><td> 69.5   </td><td>2.121320</td><td>NA      </td><td>NA      </td><td>NA      </td><td>NA      </td><td>NA      </td></tr>\n",
       "\t<tr><td>1002319 </td><td>BP_SYS  </td><td>MZ      </td><td>NA55891 </td><td>70      </td><td>37.84576</td><td>73      </td><td>118.5   </td><td>2.121320</td><td>NA      </td><td>NA      </td><td>NA      </td><td>NA      </td><td>NA      </td></tr>\n",
       "\t<tr><td>1002320 </td><td>BP_DIAS </td><td>MZ      </td><td>NA55892 </td><td>70      </td><td>36.13234</td><td>73      </td><td> 77.0   </td><td>1.414214</td><td>NA      </td><td>NA      </td><td>NA      </td><td>NA      </td><td>NA      </td></tr>\n",
       "</tbody>\n",
       "</table>\n"
      ],
      "text/latex": [
       "\\begin{tabular}{r|llllllllllllll}\n",
       " Barcode & BP\\_measure & Zygosity & Subject\\_ID & calculated\\_age & BMI & Age & BP\\_mean\\_value & BP\\_sd\\_value & BGI\\_ID & Vegetarian\\_Vegan & Smoking & Diabetes & Family\\_ID\\\\\n",
       "\\hline\n",
       "\t 1002319   & BP\\_DIAS & MZ        & NA55891   & 70        & 37.84576  & 73        &  69.5     & 2.121320  & NA        & NA        & NA        & NA        & NA       \\\\\n",
       "\t 1002319   & BP\\_SYS  & MZ        & NA55891   & 70        & 37.84576  & 73        & 118.5     & 2.121320  & NA        & NA        & NA        & NA        & NA       \\\\\n",
       "\t 1002320   & BP\\_DIAS & MZ        & NA55892   & 70        & 36.13234  & 73        &  77.0     & 1.414214  & NA        & NA        & NA        & NA        & NA       \\\\\n",
       "\\end{tabular}\n"
      ],
      "text/markdown": [
       "\n",
       "Barcode | BP_measure | Zygosity | Subject_ID | calculated_age | BMI | Age | BP_mean_value | BP_sd_value | BGI_ID | Vegetarian_Vegan | Smoking | Diabetes | Family_ID | \n",
       "|---|---|---|\n",
       "| 1002319  | BP_DIAS  | MZ       | NA55891  | 70       | 37.84576 | 73       |  69.5    | 2.121320 | NA       | NA       | NA       | NA       | NA       | \n",
       "| 1002319  | BP_SYS   | MZ       | NA55891  | 70       | 37.84576 | 73       | 118.5    | 2.121320 | NA       | NA       | NA       | NA       | NA       | \n",
       "| 1002320  | BP_DIAS  | MZ       | NA55892  | 70       | 36.13234 | 73       |  77.0    | 1.414214 | NA       | NA       | NA       | NA       | NA       | \n",
       "\n",
       "\n"
      ],
      "text/plain": [
       "  Barcode BP_measure Zygosity Subject_ID calculated_age BMI      Age\n",
       "1 1002319 BP_DIAS    MZ       NA55891    70             37.84576 73 \n",
       "2 1002319 BP_SYS     MZ       NA55891    70             37.84576 73 \n",
       "3 1002320 BP_DIAS    MZ       NA55892    70             36.13234 73 \n",
       "  BP_mean_value BP_sd_value BGI_ID Vegetarian_Vegan Smoking Diabetes Family_ID\n",
       "1  69.5         2.121320    NA     NA               NA      NA       NA       \n",
       "2 118.5         2.121320    NA     NA               NA      NA       NA       \n",
       "3  77.0         1.414214    NA     NA               NA      NA       NA       "
      ]
     },
     "metadata": {},
     "output_type": "display_data"
    }
   ],
   "source": [
    "# Merge Anx and merged tables and rename variables\n",
    "TUK_merged_metadata = full_join(TUK_merged_metadata, anx_mBP, by = c('Barcode' = 'FPBarcode', \n",
    "                                                                     'BP_measure' = 'bp_group', \n",
    "                                                                     'Zygosity' = 'ACTUAL_ZYGOSITY',\n",
    "                                                                     'Subject_ID' = 'MicrobiomeID', \n",
    "                                                                     'BP_mean_value' = 'mean_value', \n",
    "                                                                     'BP_sd_value' = 'sd_value', \n",
    "                                                                     'BMI' = 's.BMI', \n",
    "                                                                     'Age' = 'age',\n",
    "                                                                     'Family_ID' = 'i.FamilyID'))\n",
    "\n",
    "TUK_merged_metadata %>% distinct(Barcode) %>% nrow\n",
    "TUK_merged_metadata %>% dfhead"
   ]
  },
  {
   "cell_type": "code",
   "execution_count": 30,
   "metadata": {
    "ExecuteTime": {
     "end_time": "2018-12-12T09:42:56.264500Z",
     "start_time": "2018-12-12T09:42:44.955Z"
    }
   },
   "outputs": [
    {
     "name": "stderr",
     "output_type": "stream",
     "text": [
      "Warning message:\n",
      "“Column `Zygosity`/`ACTUAL_ZYGOSITY` joining character vector and factor, coercing into character vector”Warning message:\n",
      "“Column `Subject_ID`/`MicrobiomeID` joining character vector and factor, coercing into character vector”"
     ]
    },
    {
     "data": {
      "text/html": [
       "398"
      ],
      "text/latex": [
       "398"
      ],
      "text/markdown": [
       "398"
      ],
      "text/plain": [
       "[1] 398"
      ]
     },
     "metadata": {},
     "output_type": "display_data"
    },
    {
     "name": "stdout",
     "output_type": "stream",
     "text": [
      "[1] 748  14\n"
     ]
    },
    {
     "data": {
      "text/html": [
       "<table>\n",
       "<thead><tr><th scope=col>Barcode</th><th scope=col>BP_measure</th><th scope=col>Zygosity</th><th scope=col>Subject_ID</th><th scope=col>calculated_age</th><th scope=col>BMI</th><th scope=col>Age</th><th scope=col>BP_mean_value</th><th scope=col>BP_sd_value</th><th scope=col>BGI_ID</th><th scope=col>Vegetarian_Vegan</th><th scope=col>Smoking</th><th scope=col>Diabetes</th><th scope=col>Family_ID</th></tr></thead>\n",
       "<tbody>\n",
       "\t<tr><td>1002319 </td><td>BP_DIAS </td><td>MZ      </td><td>NA55891 </td><td>70      </td><td>37.84576</td><td>73      </td><td> 69.5   </td><td>2.121320</td><td>NA      </td><td>NA      </td><td>NA      </td><td>NA      </td><td>NA      </td></tr>\n",
       "\t<tr><td>1002319 </td><td>BP_SYS  </td><td>MZ      </td><td>NA55891 </td><td>70      </td><td>37.84576</td><td>73      </td><td>118.5   </td><td>2.121320</td><td>NA      </td><td>NA      </td><td>NA      </td><td>NA      </td><td>NA      </td></tr>\n",
       "\t<tr><td>1002320 </td><td>BP_DIAS </td><td>MZ      </td><td>NA55892 </td><td>70      </td><td>36.13234</td><td>73      </td><td> 77.0   </td><td>1.414214</td><td>NA      </td><td>NA      </td><td>NA      </td><td>NA      </td><td>NA      </td></tr>\n",
       "</tbody>\n",
       "</table>\n"
      ],
      "text/latex": [
       "\\begin{tabular}{r|llllllllllllll}\n",
       " Barcode & BP\\_measure & Zygosity & Subject\\_ID & calculated\\_age & BMI & Age & BP\\_mean\\_value & BP\\_sd\\_value & BGI\\_ID & Vegetarian\\_Vegan & Smoking & Diabetes & Family\\_ID\\\\\n",
       "\\hline\n",
       "\t 1002319   & BP\\_DIAS & MZ        & NA55891   & 70        & 37.84576  & 73        &  69.5     & 2.121320  & NA        & NA        & NA        & NA        & NA       \\\\\n",
       "\t 1002319   & BP\\_SYS  & MZ        & NA55891   & 70        & 37.84576  & 73        & 118.5     & 2.121320  & NA        & NA        & NA        & NA        & NA       \\\\\n",
       "\t 1002320   & BP\\_DIAS & MZ        & NA55892   & 70        & 36.13234  & 73        &  77.0     & 1.414214  & NA        & NA        & NA        & NA        & NA       \\\\\n",
       "\\end{tabular}\n"
      ],
      "text/markdown": [
       "\n",
       "Barcode | BP_measure | Zygosity | Subject_ID | calculated_age | BMI | Age | BP_mean_value | BP_sd_value | BGI_ID | Vegetarian_Vegan | Smoking | Diabetes | Family_ID | \n",
       "|---|---|---|\n",
       "| 1002319  | BP_DIAS  | MZ       | NA55891  | 70       | 37.84576 | 73       |  69.5    | 2.121320 | NA       | NA       | NA       | NA       | NA       | \n",
       "| 1002319  | BP_SYS   | MZ       | NA55891  | 70       | 37.84576 | 73       | 118.5    | 2.121320 | NA       | NA       | NA       | NA       | NA       | \n",
       "| 1002320  | BP_DIAS  | MZ       | NA55892  | 70       | 36.13234 | 73       |  77.0    | 1.414214 | NA       | NA       | NA       | NA       | NA       | \n",
       "\n",
       "\n"
      ],
      "text/plain": [
       "  Barcode BP_measure Zygosity Subject_ID calculated_age BMI      Age\n",
       "1 1002319 BP_DIAS    MZ       NA55891    70             37.84576 73 \n",
       "2 1002319 BP_SYS     MZ       NA55891    70             37.84576 73 \n",
       "3 1002320 BP_DIAS    MZ       NA55892    70             36.13234 73 \n",
       "  BP_mean_value BP_sd_value BGI_ID Vegetarian_Vegan Smoking Diabetes Family_ID\n",
       "1  69.5         2.121320    NA     NA               NA      NA       NA       \n",
       "2 118.5         2.121320    NA     NA               NA      NA       NA       \n",
       "3  77.0         1.414214    NA     NA               NA      NA       NA       "
      ]
     },
     "metadata": {},
     "output_type": "display_data"
    }
   ],
   "source": [
    "# Merge flagellin and merged tables and rename variables\n",
    "TUK_merged_metadata = full_join(TUK_merged_metadata, flag_mBP, by = c('Barcode' = 'FPBarcode', \n",
    "                                                                     'BP_measure' = 'bp_group', \n",
    "                                                                     'Zygosity' = 'ACTUAL_ZYGOSITY',\n",
    "                                                                     'Subject_ID' = 'MicrobiomeID', \n",
    "                                                                     'BP_mean_value' = 'mean_value', \n",
    "                                                                     'BP_sd_value' = 'sd_value'))\n",
    "\n",
    "TUK_merged_metadata %>% distinct(Barcode) %>% nrow\n",
    "TUK_merged_metadata %>% dfhead"
   ]
  },
  {
   "cell_type": "code",
   "execution_count": 31,
   "metadata": {
    "ExecuteTime": {
     "end_time": "2018-12-12T09:42:56.447279Z",
     "start_time": "2018-12-12T09:42:44.959Z"
    }
   },
   "outputs": [
    {
     "name": "stdout",
     "output_type": "stream",
     "text": [
      "[1] 350  15\n"
     ]
    },
    {
     "data": {
      "text/html": [
       "<table>\n",
       "<thead><tr><th scope=col>Barcode</th><th scope=col>Zygosity</th><th scope=col>Subject_ID</th><th scope=col>calculated_age</th><th scope=col>BMI</th><th scope=col>Age</th><th scope=col>BGI_ID</th><th scope=col>Vegetarian_Vegan</th><th scope=col>Smoking</th><th scope=col>Diabetes</th><th scope=col>Family_ID</th><th scope=col>sys_mean</th><th scope=col>sys_sd</th><th scope=col>dias_mean</th><th scope=col>dias_sd</th></tr></thead>\n",
       "<tbody>\n",
       "\t<tr><td>1002319  </td><td>MZ       </td><td>NA55891  </td><td>70       </td><td>37.84576 </td><td>73       </td><td>NA       </td><td>NA       </td><td>NA       </td><td>NA       </td><td>NA       </td><td>118.5    </td><td>2.1213203</td><td>69.5     </td><td>2.121320 </td></tr>\n",
       "\t<tr><td>1002320  </td><td>MZ       </td><td>NA55892  </td><td>70       </td><td>36.13234 </td><td>73       </td><td>NA       </td><td>NA       </td><td>NA       </td><td>NA       </td><td>NA       </td><td>139.5    </td><td>0.7071068</td><td>77.0     </td><td>1.414214 </td></tr>\n",
       "\t<tr><td>1002420  </td><td>MZ       </td><td>NA66981  </td><td>59       </td><td>21.60833 </td><td>57       </td><td>NA       </td><td>NA       </td><td>NA       </td><td>NA       </td><td>NA       </td><td>140.0    </td><td>5.6568542</td><td>79.0     </td><td>1.414214 </td></tr>\n",
       "</tbody>\n",
       "</table>\n"
      ],
      "text/latex": [
       "\\begin{tabular}{r|lllllllllllllll}\n",
       " Barcode & Zygosity & Subject\\_ID & calculated\\_age & BMI & Age & BGI\\_ID & Vegetarian\\_Vegan & Smoking & Diabetes & Family\\_ID & sys\\_mean & sys\\_sd & dias\\_mean & dias\\_sd\\\\\n",
       "\\hline\n",
       "\t 1002319   & MZ        & NA55891   & 70        & 37.84576  & 73        & NA        & NA        & NA        & NA        & NA        & 118.5     & 2.1213203 & 69.5      & 2.121320 \\\\\n",
       "\t 1002320   & MZ        & NA55892   & 70        & 36.13234  & 73        & NA        & NA        & NA        & NA        & NA        & 139.5     & 0.7071068 & 77.0      & 1.414214 \\\\\n",
       "\t 1002420   & MZ        & NA66981   & 59        & 21.60833  & 57        & NA        & NA        & NA        & NA        & NA        & 140.0     & 5.6568542 & 79.0      & 1.414214 \\\\\n",
       "\\end{tabular}\n"
      ],
      "text/markdown": [
       "\n",
       "Barcode | Zygosity | Subject_ID | calculated_age | BMI | Age | BGI_ID | Vegetarian_Vegan | Smoking | Diabetes | Family_ID | sys_mean | sys_sd | dias_mean | dias_sd | \n",
       "|---|---|---|\n",
       "| 1002319   | MZ        | NA55891   | 70        | 37.84576  | 73        | NA        | NA        | NA        | NA        | NA        | 118.5     | 2.1213203 | 69.5      | 2.121320  | \n",
       "| 1002320   | MZ        | NA55892   | 70        | 36.13234  | 73        | NA        | NA        | NA        | NA        | NA        | 139.5     | 0.7071068 | 77.0      | 1.414214  | \n",
       "| 1002420   | MZ        | NA66981   | 59        | 21.60833  | 57        | NA        | NA        | NA        | NA        | NA        | 140.0     | 5.6568542 | 79.0      | 1.414214  | \n",
       "\n",
       "\n"
      ],
      "text/plain": [
       "  Barcode Zygosity Subject_ID calculated_age BMI      Age BGI_ID\n",
       "1 1002319 MZ       NA55891    70             37.84576 73  NA    \n",
       "2 1002320 MZ       NA55892    70             36.13234 73  NA    \n",
       "3 1002420 MZ       NA66981    59             21.60833 57  NA    \n",
       "  Vegetarian_Vegan Smoking Diabetes Family_ID sys_mean sys_sd    dias_mean\n",
       "1 NA               NA      NA       NA        118.5    2.1213203 69.5     \n",
       "2 NA               NA      NA       NA        139.5    0.7071068 77.0     \n",
       "3 NA               NA      NA       NA        140.0    5.6568542 79.0     \n",
       "  dias_sd \n",
       "1 2.121320\n",
       "2 1.414214\n",
       "3 1.414214"
      ]
     },
     "metadata": {},
     "output_type": "display_data"
    },
    {
     "name": "stdout",
     "output_type": "stream",
     "text": [
      "[1] 398  15\n"
     ]
    },
    {
     "data": {
      "text/html": [
       "<table>\n",
       "<thead><tr><th scope=col>Barcode</th><th scope=col>Zygosity</th><th scope=col>Subject_ID</th><th scope=col>calculated_age</th><th scope=col>BMI</th><th scope=col>Age</th><th scope=col>BGI_ID</th><th scope=col>Vegetarian_Vegan</th><th scope=col>Smoking</th><th scope=col>Diabetes</th><th scope=col>Family_ID</th><th scope=col>sys_mean</th><th scope=col>sys_sd</th><th scope=col>dias_mean</th><th scope=col>dias_sd</th></tr></thead>\n",
       "<tbody>\n",
       "\t<tr><td>1002317            </td><td>DZ                 </td><td>NA21081            </td><td>NA                 </td><td>19.68891           </td><td>50                 </td><td>35387              </td><td>N                  </td><td>Never Smoked       </td><td>N                  </td><td>NA2108             </td><td>NA                 </td><td>NA                 </td><td>NA                 </td><td>NA                 </td></tr>\n",
       "\t<tr><td>1002357            </td><td>MZ                 </td><td>NA262              </td><td>NA                 </td><td>21.84265           </td><td>72                 </td><td>35520              </td><td>N                  </td><td>Ex-Cigarette Smoker</td><td>N                  </td><td>NA26               </td><td>NA                 </td><td>NA                 </td><td>NA                 </td><td>NA                 </td></tr>\n",
       "\t<tr><td>1002445            </td><td>MZ                 </td><td>NA30792            </td><td>NA                 </td><td>22.77945           </td><td>66                 </td><td>35636              </td><td>N                  </td><td>Ex-Cigarette Smoker</td><td>N                  </td><td>NA3079             </td><td>NA                 </td><td>NA                 </td><td>NA                 </td><td>NA                 </td></tr>\n",
       "</tbody>\n",
       "</table>\n"
      ],
      "text/latex": [
       "\\begin{tabular}{r|lllllllllllllll}\n",
       " Barcode & Zygosity & Subject\\_ID & calculated\\_age & BMI & Age & BGI\\_ID & Vegetarian\\_Vegan & Smoking & Diabetes & Family\\_ID & sys\\_mean & sys\\_sd & dias\\_mean & dias\\_sd\\\\\n",
       "\\hline\n",
       "\t 1002317             & DZ                  & NA21081             & NA                  & 19.68891            & 50                  & 35387               & N                   & Never Smoked        & N                   & NA2108              & NA                  & NA                  & NA                  & NA                 \\\\\n",
       "\t 1002357             & MZ                  & NA262               & NA                  & 21.84265            & 72                  & 35520               & N                   & Ex-Cigarette Smoker & N                   & NA26                & NA                  & NA                  & NA                  & NA                 \\\\\n",
       "\t 1002445             & MZ                  & NA30792             & NA                  & 22.77945            & 66                  & 35636               & N                   & Ex-Cigarette Smoker & N                   & NA3079              & NA                  & NA                  & NA                  & NA                 \\\\\n",
       "\\end{tabular}\n"
      ],
      "text/markdown": [
       "\n",
       "Barcode | Zygosity | Subject_ID | calculated_age | BMI | Age | BGI_ID | Vegetarian_Vegan | Smoking | Diabetes | Family_ID | sys_mean | sys_sd | dias_mean | dias_sd | \n",
       "|---|---|---|\n",
       "| 1002317             | DZ                  | NA21081             | NA                  | 19.68891            | 50                  | 35387               | N                   | Never Smoked        | N                   | NA2108              | NA                  | NA                  | NA                  | NA                  | \n",
       "| 1002357             | MZ                  | NA262               | NA                  | 21.84265            | 72                  | 35520               | N                   | Ex-Cigarette Smoker | N                   | NA26                | NA                  | NA                  | NA                  | NA                  | \n",
       "| 1002445             | MZ                  | NA30792             | NA                  | 22.77945            | 66                  | 35636               | N                   | Ex-Cigarette Smoker | N                   | NA3079              | NA                  | NA                  | NA                  | NA                  | \n",
       "\n",
       "\n"
      ],
      "text/plain": [
       "  Barcode Zygosity Subject_ID calculated_age BMI      Age BGI_ID\n",
       "1 1002317 DZ       NA21081    NA             19.68891 50  35387 \n",
       "2 1002357 MZ       NA262      NA             21.84265 72  35520 \n",
       "3 1002445 MZ       NA30792    NA             22.77945 66  35636 \n",
       "  Vegetarian_Vegan Smoking             Diabetes Family_ID sys_mean sys_sd\n",
       "1 N                Never Smoked        N        NA2108    NA       NA    \n",
       "2 N                Ex-Cigarette Smoker N        NA26      NA       NA    \n",
       "3 N                Ex-Cigarette Smoker N        NA3079    NA       NA    \n",
       "  dias_mean dias_sd\n",
       "1 NA        NA     \n",
       "2 NA        NA     \n",
       "3 NA        NA     "
      ]
     },
     "metadata": {},
     "output_type": "display_data"
    }
   ],
   "source": [
    "# One row per subject\n",
    "mean_sd_sys = TUK_merged_metadata %>%\n",
    "              filter(!is.na(BP_measure) & BP_measure == \"BP_SYS\") %>% \n",
    "              select(Barcode, BP_mean_value, BP_sd_value)\n",
    "\n",
    "\n",
    "mean_sd_dias = TUK_merged_metadata %>%\n",
    "              filter(!is.na(BP_measure) & BP_measure == \"BP_DIAS\") %>% \n",
    "              select(Barcode, BP_mean_value, BP_sd_value)\n",
    "\n",
    "TUK_merged_metadata_tmp = TUK_merged_metadata %>%\n",
    "    filter(!is.na(BP_measure)) %>%\n",
    "    select(-BP_measure, -BP_mean_value, -BP_sd_value) %>%\n",
    "    distinct(Barcode, .keep_all = T) %>%\n",
    "    inner_join(., mean_sd_sys, by = \"Barcode\") %>%\n",
    "    rename(sys_mean = BP_mean_value, sys_sd = BP_sd_value) %>%\n",
    "    inner_join(., mean_sd_dias, by = \"Barcode\") %>% \n",
    "    rename(dias_mean = BP_mean_value, dias_sd = BP_sd_value)\n",
    "\n",
    "TUK_merged_metadata_tmp %>% dfhead\n",
    "\n",
    "TUK_merged_metadata = TUK_merged_metadata %>% \n",
    "    filter(is.na(BP_measure)) %>% \n",
    "    select(-BP_measure, -BP_mean_value, -BP_sd_value) %>%\n",
    "    bind_rows(TUK_merged_metadata_tmp)\n",
    "\n",
    "TUK_merged_metadata %>% dfhead"
   ]
  },
  {
   "cell_type": "code",
   "execution_count": 32,
   "metadata": {
    "ExecuteTime": {
     "end_time": "2018-12-12T09:42:56.536605Z",
     "start_time": "2018-12-12T09:42:44.961Z"
    }
   },
   "outputs": [
    {
     "name": "stdout",
     "output_type": "stream",
     "text": [
      "[1] 398  14\n"
     ]
    },
    {
     "data": {
      "text/html": [
       "<table>\n",
       "<thead><tr><th scope=col>Barcode</th><th scope=col>Zygosity</th><th scope=col>Subject_ID</th><th scope=col>BMI</th><th scope=col>BGI_ID</th><th scope=col>Vegetarian_Vegan</th><th scope=col>Smoking</th><th scope=col>Diabetes</th><th scope=col>Family_ID</th><th scope=col>sys_mean</th><th scope=col>sys_sd</th><th scope=col>dias_mean</th><th scope=col>dias_sd</th><th scope=col>age</th></tr></thead>\n",
       "<tbody>\n",
       "\t<tr><td>1002317            </td><td>DZ                 </td><td>NA21081            </td><td>19.68891           </td><td>35387              </td><td>N                  </td><td>Never Smoked       </td><td>N                  </td><td>NA2108             </td><td>NA                 </td><td>NA                 </td><td>NA                 </td><td>NA                 </td><td>50                 </td></tr>\n",
       "\t<tr><td>1002357            </td><td>MZ                 </td><td>NA262              </td><td>21.84265           </td><td>35520              </td><td>N                  </td><td>Ex-Cigarette Smoker</td><td>N                  </td><td>NA26               </td><td>NA                 </td><td>NA                 </td><td>NA                 </td><td>NA                 </td><td>72                 </td></tr>\n",
       "\t<tr><td>1002445            </td><td>MZ                 </td><td>NA30792            </td><td>22.77945           </td><td>35636              </td><td>N                  </td><td>Ex-Cigarette Smoker</td><td>N                  </td><td>NA3079             </td><td>NA                 </td><td>NA                 </td><td>NA                 </td><td>NA                 </td><td>66                 </td></tr>\n",
       "</tbody>\n",
       "</table>\n"
      ],
      "text/latex": [
       "\\begin{tabular}{r|llllllllllllll}\n",
       " Barcode & Zygosity & Subject\\_ID & BMI & BGI\\_ID & Vegetarian\\_Vegan & Smoking & Diabetes & Family\\_ID & sys\\_mean & sys\\_sd & dias\\_mean & dias\\_sd & age\\\\\n",
       "\\hline\n",
       "\t 1002317             & DZ                  & NA21081             & 19.68891            & 35387               & N                   & Never Smoked        & N                   & NA2108              & NA                  & NA                  & NA                  & NA                  & 50                 \\\\\n",
       "\t 1002357             & MZ                  & NA262               & 21.84265            & 35520               & N                   & Ex-Cigarette Smoker & N                   & NA26                & NA                  & NA                  & NA                  & NA                  & 72                 \\\\\n",
       "\t 1002445             & MZ                  & NA30792             & 22.77945            & 35636               & N                   & Ex-Cigarette Smoker & N                   & NA3079              & NA                  & NA                  & NA                  & NA                  & 66                 \\\\\n",
       "\\end{tabular}\n"
      ],
      "text/markdown": [
       "\n",
       "Barcode | Zygosity | Subject_ID | BMI | BGI_ID | Vegetarian_Vegan | Smoking | Diabetes | Family_ID | sys_mean | sys_sd | dias_mean | dias_sd | age | \n",
       "|---|---|---|\n",
       "| 1002317             | DZ                  | NA21081             | 19.68891            | 35387               | N                   | Never Smoked        | N                   | NA2108              | NA                  | NA                  | NA                  | NA                  | 50                  | \n",
       "| 1002357             | MZ                  | NA262               | 21.84265            | 35520               | N                   | Ex-Cigarette Smoker | N                   | NA26                | NA                  | NA                  | NA                  | NA                  | 72                  | \n",
       "| 1002445             | MZ                  | NA30792             | 22.77945            | 35636               | N                   | Ex-Cigarette Smoker | N                   | NA3079              | NA                  | NA                  | NA                  | NA                  | 66                  | \n",
       "\n",
       "\n"
      ],
      "text/plain": [
       "  Barcode Zygosity Subject_ID BMI      BGI_ID Vegetarian_Vegan\n",
       "1 1002317 DZ       NA21081    19.68891 35387  N               \n",
       "2 1002357 MZ       NA262      21.84265 35520  N               \n",
       "3 1002445 MZ       NA30792    22.77945 35636  N               \n",
       "  Smoking             Diabetes Family_ID sys_mean sys_sd dias_mean dias_sd age\n",
       "1 Never Smoked        N        NA2108    NA       NA     NA        NA      50 \n",
       "2 Ex-Cigarette Smoker N        NA26      NA       NA     NA        NA      72 \n",
       "3 Ex-Cigarette Smoker N        NA3079    NA       NA     NA        NA      66 "
      ]
     },
     "metadata": {},
     "output_type": "display_data"
    }
   ],
   "source": [
    "# Retain one age column\n",
    "# If there is age from BGI250 use that\n",
    "# else, use the calculated age from TUK_BP data\n",
    "\n",
    "TUK_tmp_age = TUK_merged_metadata %>% \n",
    "    select(calculated_age, Age) %>% \n",
    "    apply(., MARGIN = 1, function(x) ifelse(is.na(x[1]), x[2], x[1]))\n",
    " \n",
    "          \n",
    "TUK_merged_metadata = TUK_merged_metadata %>% \n",
    "          select(-calculated_age, -Age) %>% \n",
    "          mutate(age = TUK_tmp_age)\n",
    "          \n",
    "TUK_merged_metadata %>% dfhead"
   ]
  },
  {
   "cell_type": "code",
   "execution_count": 33,
   "metadata": {
    "ExecuteTime": {
     "end_time": "2018-12-12T09:42:56.632067Z",
     "start_time": "2018-12-12T09:42:44.964Z"
    }
   },
   "outputs": [
    {
     "data": {
      "text/html": [
       "398"
      ],
      "text/latex": [
       "398"
      ],
      "text/markdown": [
       "398"
      ],
      "text/plain": [
       "[1] 398"
      ]
     },
     "metadata": {},
     "output_type": "display_data"
    },
    {
     "data": {
      "text/html": [
       "417"
      ],
      "text/latex": [
       "417"
      ],
      "text/markdown": [
       "417"
      ],
      "text/plain": [
       "[1] 417"
      ]
     },
     "metadata": {},
     "output_type": "display_data"
    },
    {
     "data": {
      "text/html": [
       "19"
      ],
      "text/latex": [
       "19"
      ],
      "text/markdown": [
       "19"
      ],
      "text/plain": [
       "[1] 19"
      ]
     },
     "metadata": {},
     "output_type": "display_data"
    },
    {
     "data": {
      "text/html": [],
      "text/latex": [],
      "text/markdown": [],
      "text/plain": [
       "numeric(0)"
      ]
     },
     "metadata": {},
     "output_type": "display_data"
    },
    {
     "data": {
      "text/html": [
       "<ol class=list-inline>\n",
       "\t<li>1002552</li>\n",
       "\t<li>1002802</li>\n",
       "\t<li>1006355</li>\n",
       "\t<li>1003254</li>\n",
       "\t<li>1003223</li>\n",
       "\t<li>1003116</li>\n",
       "\t<li>1003132</li>\n",
       "\t<li>1003190</li>\n",
       "\t<li>1013747</li>\n",
       "</ol>\n"
      ],
      "text/latex": [
       "\\begin{enumerate*}\n",
       "\\item 1002552\n",
       "\\item 1002802\n",
       "\\item 1006355\n",
       "\\item 1003254\n",
       "\\item 1003223\n",
       "\\item 1003116\n",
       "\\item 1003132\n",
       "\\item 1003190\n",
       "\\item 1013747\n",
       "\\end{enumerate*}\n"
      ],
      "text/markdown": [
       "1. 1002552\n",
       "2. 1002802\n",
       "3. 1006355\n",
       "4. 1003254\n",
       "5. 1003223\n",
       "6. 1003116\n",
       "7. 1003132\n",
       "8. 1003190\n",
       "9. 1013747\n",
       "\n",
       "\n"
      ],
      "text/plain": [
       "[1] 1002552 1002802 1006355 1003254 1003223 1003116 1003132 1003190 1013747"
      ]
     },
     "metadata": {},
     "output_type": "display_data"
    },
    {
     "data": {
      "text/html": [
       "<ol class=list-inline>\n",
       "\t<li>1003127</li>\n",
       "\t<li>1003130</li>\n",
       "\t<li>1003301</li>\n",
       "\t<li>1003302</li>\n",
       "\t<li>1005995</li>\n",
       "\t<li>1003304</li>\n",
       "\t<li>1003182</li>\n",
       "\t<li>1003183</li>\n",
       "\t<li>1003248</li>\n",
       "\t<li>1003249</li>\n",
       "</ol>\n"
      ],
      "text/latex": [
       "\\begin{enumerate*}\n",
       "\\item 1003127\n",
       "\\item 1003130\n",
       "\\item 1003301\n",
       "\\item 1003302\n",
       "\\item 1005995\n",
       "\\item 1003304\n",
       "\\item 1003182\n",
       "\\item 1003183\n",
       "\\item 1003248\n",
       "\\item 1003249\n",
       "\\end{enumerate*}\n"
      ],
      "text/markdown": [
       "1. 1003127\n",
       "2. 1003130\n",
       "3. 1003301\n",
       "4. 1003302\n",
       "5. 1005995\n",
       "6. 1003304\n",
       "7. 1003182\n",
       "8. 1003183\n",
       "9. 1003248\n",
       "10. 1003249\n",
       "\n",
       "\n"
      ],
      "text/plain": [
       " [1] 1003127 1003130 1003301 1003302 1005995 1003304 1003182 1003183 1003248\n",
       "[10] 1003249"
      ]
     },
     "metadata": {},
     "output_type": "display_data"
    },
    {
     "data": {
      "text/html": [
       "1005995"
      ],
      "text/latex": [
       "1005995"
      ],
      "text/markdown": [
       "1005995"
      ],
      "text/plain": [
       "[1] 1005995"
      ]
     },
     "metadata": {},
     "output_type": "display_data"
    }
   ],
   "source": [
    "# The final table does not contain the total number of samples\n",
    "# Find differences\n",
    "\n",
    "# Names in final table\n",
    "obs = TUK_merged_metadata %>% distinct(Barcode) %>% pull\n",
    "\n",
    "# Input samples (unique)\n",
    "exp = c(BGI_merged$CornellSampleBarcode, v11_names$new_name, \n",
    "    anxiety_metadata$s.FPBarcode, Flagellin_samples$FPBarcode) %>% unique\n",
    "\n",
    "# Lengths\n",
    "obs %>% length\n",
    "exp %>% length\n",
    "\n",
    "# Samples missing from final table\n",
    "dif = exp[!exp %in% obs] \n",
    "dif %>% length\n",
    "\n",
    "# Origin of missing samples\n",
    "\n",
    "# BGI250\n",
    "dif[dif %in% BGI250_metadata$CornellSampleBarcode]\n",
    "# vadinCA11\n",
    "dif[dif %in% v11_names$new_name]\n",
    "# Anxiety\n",
    "dif[dif %in% anxiety_metadata$s.FPBarcode]\n",
    "# Flagellin\n",
    "# Anxiety\n",
    "dif[dif %in% Flagellin_samples$FPBarcode]"
   ]
  },
  {
   "cell_type": "markdown",
   "metadata": {},
   "source": [
    "# Map file names to barcode"
   ]
  },
  {
   "cell_type": "code",
   "execution_count": 34,
   "metadata": {
    "ExecuteTime": {
     "end_time": "2018-12-12T09:42:56.676362Z",
     "start_time": "2018-12-12T09:42:44.967Z"
    }
   },
   "outputs": [],
   "source": [
    "# Old names, new names, dataset of origin and whether the name should be changed to barcode\n",
    "TUK_old_names = c(v11_names$old_name, BGI250_names$BGI_ID, \n",
    "                  anxiety_metadata$s.NameOnSampleWithAnon, Flagellin_samples$FPBarcode)\n",
    "\n",
    "TUK_new_names = c(v11_names$new_name, BGI250_names$CornellSampleBarcode, \n",
    "                  anxiety_metadata$s.FPBarcode, Flagellin_samples$FPBarcode)\n",
    "\n",
    "TUK_subset = rep(c(\"V11\", \"BGI250\", \"Anx\", \"Flagellin\"), \n",
    "                 times = c(nrow(v11_names), nrow(BGI250_names), \n",
    "                           nrow(anxiety_metadata), nrow(Flagellin_samples)))\n",
    "\n",
    "TUK_replace = c(v11_names$changed, \n",
    "                rep(TRUE, times = nrow(BGI250_names)), \n",
    "                rep(TRUE, times = nrow(anxiety_metadata)),\n",
    "                rep(FALSE, times = nrow(Flagellin_samples)))\n",
    "\n",
    "# Create a single table\n",
    "TUK_name_map = data.frame(old_name = TUK_old_names, \n",
    "                          new_name = TUK_new_names, \n",
    "                          subset = TUK_subset, \n",
    "                          change = TUK_replace)\n"
   ]
  },
  {
   "cell_type": "code",
   "execution_count": 35,
   "metadata": {
    "ExecuteTime": {
     "end_time": "2018-12-12T09:42:56.743636Z",
     "start_time": "2018-12-12T09:42:44.970Z"
    }
   },
   "outputs": [
    {
     "name": "stderr",
     "output_type": "stream",
     "text": [
      "Warning message:\n",
      "“Column `Subject_ID`/`old_name` joining character vector and factor, coercing into character vector”"
     ]
    }
   ],
   "source": [
    "# Append missing samples to table with NA in all fields\n",
    "# Samples without metadata\n",
    "no_metadata = data.frame(Barcode = c(dif[dif %in% v11_names$new_name], \n",
    "                                     dif[dif %in% anxiety_metadata$s.FPBarcode],\n",
    "                                     dif[dif %in% Flagellin_samples$FPBarcode]))\n",
    "\n",
    "no_metadata = no_metadata %>% unique\n",
    "\n",
    "no_metadata = left_join(no_metadata, TUK_name_map,  by = c(\"Barcode\" = \"new_name\")) %>%\n",
    "    select(Barcode, old_name) %>%\n",
    "    group_by(Barcode) %>% \n",
    "    filter(row_number(Barcode) == 1)\n",
    "\n",
    "# Join\n",
    "TUK_merged_metadata = full_join(TUK_merged_metadata, no_metadata, \n",
    "                                by = c(\"Barcode\", \"Subject_ID\" =\"old_name\"))\n"
   ]
  },
  {
   "cell_type": "code",
   "execution_count": 36,
   "metadata": {
    "ExecuteTime": {
     "end_time": "2018-12-12T09:42:56.783304Z",
     "start_time": "2018-12-12T09:42:44.972Z"
    }
   },
   "outputs": [
    {
     "name": "stdout",
     "output_type": "stream",
     "text": [
      "[1] 417  14\n"
     ]
    },
    {
     "data": {
      "text/html": [
       "<table>\n",
       "<thead><tr><th scope=col>Barcode</th><th scope=col>Zygosity</th><th scope=col>Subject_ID</th><th scope=col>BMI</th><th scope=col>BGI_ID</th><th scope=col>Vegetarian_Vegan</th><th scope=col>Smoking</th><th scope=col>Diabetes</th><th scope=col>Family_ID</th><th scope=col>sys_mean</th><th scope=col>sys_sd</th><th scope=col>dias_mean</th><th scope=col>dias_sd</th><th scope=col>age</th></tr></thead>\n",
       "<tbody>\n",
       "\t<tr><td>1002317            </td><td>DZ                 </td><td>NA21081            </td><td>19.68891           </td><td>35387              </td><td>N                  </td><td>Never Smoked       </td><td>N                  </td><td>NA2108             </td><td>NA                 </td><td>NA                 </td><td>NA                 </td><td>NA                 </td><td>50                 </td></tr>\n",
       "\t<tr><td>1002357            </td><td>MZ                 </td><td>NA262              </td><td>21.84265           </td><td>35520              </td><td>N                  </td><td>Ex-Cigarette Smoker</td><td>N                  </td><td>NA26               </td><td>NA                 </td><td>NA                 </td><td>NA                 </td><td>NA                 </td><td>72                 </td></tr>\n",
       "\t<tr><td>1002445            </td><td>MZ                 </td><td>NA30792            </td><td>22.77945           </td><td>35636              </td><td>N                  </td><td>Ex-Cigarette Smoker</td><td>N                  </td><td>NA3079             </td><td>NA                 </td><td>NA                 </td><td>NA                 </td><td>NA                 </td><td>66                 </td></tr>\n",
       "</tbody>\n",
       "</table>\n"
      ],
      "text/latex": [
       "\\begin{tabular}{r|llllllllllllll}\n",
       " Barcode & Zygosity & Subject\\_ID & BMI & BGI\\_ID & Vegetarian\\_Vegan & Smoking & Diabetes & Family\\_ID & sys\\_mean & sys\\_sd & dias\\_mean & dias\\_sd & age\\\\\n",
       "\\hline\n",
       "\t 1002317             & DZ                  & NA21081             & 19.68891            & 35387               & N                   & Never Smoked        & N                   & NA2108              & NA                  & NA                  & NA                  & NA                  & 50                 \\\\\n",
       "\t 1002357             & MZ                  & NA262               & 21.84265            & 35520               & N                   & Ex-Cigarette Smoker & N                   & NA26                & NA                  & NA                  & NA                  & NA                  & 72                 \\\\\n",
       "\t 1002445             & MZ                  & NA30792             & 22.77945            & 35636               & N                   & Ex-Cigarette Smoker & N                   & NA3079              & NA                  & NA                  & NA                  & NA                  & 66                 \\\\\n",
       "\\end{tabular}\n"
      ],
      "text/markdown": [
       "\n",
       "Barcode | Zygosity | Subject_ID | BMI | BGI_ID | Vegetarian_Vegan | Smoking | Diabetes | Family_ID | sys_mean | sys_sd | dias_mean | dias_sd | age | \n",
       "|---|---|---|\n",
       "| 1002317             | DZ                  | NA21081             | 19.68891            | 35387               | N                   | Never Smoked        | N                   | NA2108              | NA                  | NA                  | NA                  | NA                  | 50                  | \n",
       "| 1002357             | MZ                  | NA262               | 21.84265            | 35520               | N                   | Ex-Cigarette Smoker | N                   | NA26                | NA                  | NA                  | NA                  | NA                  | 72                  | \n",
       "| 1002445             | MZ                  | NA30792             | 22.77945            | 35636               | N                   | Ex-Cigarette Smoker | N                   | NA3079              | NA                  | NA                  | NA                  | NA                  | 66                  | \n",
       "\n",
       "\n"
      ],
      "text/plain": [
       "  Barcode Zygosity Subject_ID BMI      BGI_ID Vegetarian_Vegan\n",
       "1 1002317 DZ       NA21081    19.68891 35387  N               \n",
       "2 1002357 MZ       NA262      21.84265 35520  N               \n",
       "3 1002445 MZ       NA30792    22.77945 35636  N               \n",
       "  Smoking             Diabetes Family_ID sys_mean sys_sd dias_mean dias_sd age\n",
       "1 Never Smoked        N        NA2108    NA       NA     NA        NA      50 \n",
       "2 Ex-Cigarette Smoker N        NA26      NA       NA     NA        NA      72 \n",
       "3 Ex-Cigarette Smoker N        NA3079    NA       NA     NA        NA      66 "
      ]
     },
     "metadata": {},
     "output_type": "display_data"
    }
   ],
   "source": [
    "TUK_merged_metadata %>% dfhead"
   ]
  },
  {
   "cell_type": "markdown",
   "metadata": {},
   "source": [
    "# Write files "
   ]
  },
  {
   "cell_type": "code",
   "execution_count": 37,
   "metadata": {
    "ExecuteTime": {
     "end_time": "2018-12-12T09:42:56.824728Z",
     "start_time": "2018-12-12T09:42:44.974Z"
    },
    "deletable": false,
    "editable": false,
    "run_control": {
     "frozen": true
    }
   },
   "outputs": [],
   "source": [
    "# Write map file \n",
    "TUK_name_file = file.path(\"/ebio/abt3_projects/vadinCA11/data/V11/TUK_samples/TUK_name_map.txt\")\n",
    "write.table(TUK_name_map, file = TUK_name_file, quote = F, \n",
    "            row.names = F, col.names = T, sep = \"\\t\")"
   ]
  },
  {
   "cell_type": "code",
   "execution_count": 38,
   "metadata": {
    "ExecuteTime": {
     "end_time": "2018-12-12T09:42:56.860645Z",
     "start_time": "2018-12-12T09:42:44.976Z"
    },
    "deletable": false,
    "editable": false,
    "run_control": {
     "frozen": true
    }
   },
   "outputs": [],
   "source": [
    "# Write metadata file \n",
    "TUK_merged_metadata_file = file.path(\"/ebio/abt3_projects/vadinCA11/data/V11/TUK_samples/TUK_combined_metadata.txt\")\n",
    "write.table(TUK_merged_metadata, file = TUK_merged_metadata_file, \n",
    "            row.names = F, col.names = T, sep = \"\\t\", quote = F)\n"
   ]
  },
  {
   "cell_type": "markdown",
   "metadata": {
    "deletable": false,
    "editable": false,
    "run_control": {
     "frozen": true
    }
   },
   "source": [
    "# Session info"
   ]
  },
  {
   "cell_type": "code",
   "execution_count": 39,
   "metadata": {
    "ExecuteTime": {
     "end_time": "2018-12-12T09:42:56.957168Z",
     "start_time": "2018-12-12T09:42:44.979Z"
    }
   },
   "outputs": [
    {
     "data": {
      "text/plain": [
       "R version 3.4.1 (2017-06-30)\n",
       "Platform: x86_64-pc-linux-gnu (64-bit)\n",
       "Running under: Ubuntu 18.04.1 LTS\n",
       "\n",
       "Matrix products: default\n",
       "BLAS: /ebio/abt3_projects/software/miniconda3_gt4.4/envs/UpSetR/lib/R/lib/libRblas.so\n",
       "LAPACK: /ebio/abt3_projects/software/miniconda3_gt4.4/envs/UpSetR/lib/R/lib/libRlapack.so\n",
       "\n",
       "locale:\n",
       " [1] LC_CTYPE=en_US.UTF-8       LC_NUMERIC=C              \n",
       " [3] LC_TIME=en_US.UTF-8        LC_COLLATE=en_US.UTF-8    \n",
       " [5] LC_MONETARY=en_US.UTF-8    LC_MESSAGES=en_US.UTF-8   \n",
       " [7] LC_PAPER=en_US.UTF-8       LC_NAME=C                 \n",
       " [9] LC_ADDRESS=C               LC_TELEPHONE=C            \n",
       "[11] LC_MEASUREMENT=en_US.UTF-8 LC_IDENTIFICATION=C       \n",
       "\n",
       "attached base packages:\n",
       "[1] stats     graphics  grDevices utils     datasets  methods   base     \n",
       "\n",
       "other attached packages:\n",
       "[1] bindrcpp_0.2    dplyr_0.7.4     purrr_0.2.4     readr_1.1.1    \n",
       "[5] tidyr_0.7.2     tibble_1.4.1    ggplot2_2.2.1   tidyverse_1.1.1\n",
       "\n",
       "loaded via a namespace (and not attached):\n",
       " [1] Rcpp_0.12.14     cellranger_1.1.0 plyr_1.8.4       compiler_3.4.1  \n",
       " [5] pillar_1.0.1     bindr_0.1        forcats_0.2.0    base64enc_0.1-3 \n",
       " [9] tools_3.4.1      digest_0.6.13    uuid_0.1-2       lubridate_1.7.4 \n",
       "[13] jsonlite_1.5     evaluate_0.10.1  nlme_3.1-131     gtable_0.2.0    \n",
       "[17] lattice_0.20-34  pkgconfig_2.0.1  rlang_0.1.6      IRdisplay_0.4.4 \n",
       "[21] IRkernel_0.8.12  haven_1.0.0      xml2_1.1.1       httr_1.2.1      \n",
       "[25] repr_0.15.0      stringr_1.2.0    hms_0.4.2        grid_3.4.1      \n",
       "[29] glue_1.2.0       R6_2.2.2         readxl_1.1.0     pbdZMQ_0.3-2    \n",
       "[33] modelr_0.1.0     magrittr_1.5     scales_0.5.0     backports_1.1.2 \n",
       "[37] htmltools_0.3.6  rvest_0.3.2      assertthat_0.2.0 colorspace_1.3-2\n",
       "[41] stringi_1.1.6    lazyeval_0.2.1   munsell_0.4.3    broom_0.5.0     \n",
       "[45] crayon_1.3.4    "
      ]
     },
     "metadata": {},
     "output_type": "display_data"
    }
   ],
   "source": [
    "sessionInfo()"
   ]
  }
 ],
 "metadata": {
  "kernelspec": {
   "display_name": "R [conda env:UpSetR]",
   "language": "R",
   "name": "conda-env-UpSetR-r"
  },
  "language_info": {
   "codemirror_mode": "r",
   "file_extension": ".r",
   "mimetype": "text/x-r-source",
   "name": "R",
   "pygments_lexer": "r",
   "version": "3.4.1"
  },
  "toc": {
   "base_numbering": 1,
   "nav_menu": {},
   "number_sections": true,
   "sideBar": true,
   "skip_h1_title": false,
   "title_cell": "Table of Contents",
   "title_sidebar": "Contents",
   "toc_cell": false,
   "toc_position": {},
   "toc_section_display": true,
   "toc_window_display": false
  }
 },
 "nbformat": 4,
 "nbformat_minor": 2
}
