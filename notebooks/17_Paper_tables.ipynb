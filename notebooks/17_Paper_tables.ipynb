{
 "cells": [
  {
   "cell_type": "markdown",
   "metadata": {},
   "source": [
    "# Goal\n",
    "Jacobo de la Cuesta-Zuluaga, July 2019.\n",
    "\n",
    "The aim of this notebook is to generate the different tables to be included in the vadinCA11 manuscript"
   ]
  },
  {
   "cell_type": "markdown",
   "metadata": {},
   "source": [
    "# Init"
   ]
  },
  {
   "cell_type": "code",
   "execution_count": 65,
   "metadata": {
    "ExecuteTime": {
     "end_time": "2019-07-04T07:38:36.680236Z",
     "start_time": "2019-07-04T07:38:36.634Z"
    }
   },
   "outputs": [
    {
     "name": "stderr",
     "output_type": "stream",
     "text": [
      "Warning message:\n",
      "“package ‘stringr’ was built under R version 3.4.3”"
     ]
    }
   ],
   "source": [
    "library(tidyverse)\n",
    "library(stringr)"
   ]
  },
  {
   "cell_type": "code",
   "execution_count": 10,
   "metadata": {
    "ExecuteTime": {
     "end_time": "2019-07-04T07:04:20.109490Z",
     "start_time": "2019-07-04T07:04:20.077Z"
    }
   },
   "outputs": [],
   "source": [
    "# R util functions\n",
    "source(\"/ebio/abt3_projects/vadinCA11/data/V11/R_utils/utils.R\")"
   ]
  },
  {
   "cell_type": "markdown",
   "metadata": {},
   "source": [
    "# Var"
   ]
  },
  {
   "cell_type": "code",
   "execution_count": 4,
   "metadata": {
    "ExecuteTime": {
     "end_time": "2019-07-04T06:53:02.321937Z",
     "start_time": "2019-07-04T06:53:02.288Z"
    }
   },
   "outputs": [],
   "source": [
    "work_dir = \"/ebio/abt3_projects/vadinCA11/data/V11\"\n",
    "tables_dir = file.path(work_dir, \"manuscript_tables\")"
   ]
  },
  {
   "cell_type": "markdown",
   "metadata": {},
   "source": [
    "# Tables"
   ]
  },
  {
   "cell_type": "markdown",
   "metadata": {},
   "source": [
    "## Included genomes data"
   ]
  },
  {
   "cell_type": "code",
   "execution_count": 99,
   "metadata": {
    "ExecuteTime": {
     "end_time": "2019-07-04T09:05:14.356967Z",
     "start_time": "2019-07-04T09:05:14.238Z"
    }
   },
   "outputs": [
    {
     "name": "stderr",
     "output_type": "stream",
     "text": [
      "Warning message in bind_rows_(x, .id):\n",
      "“Unequal factor levels: coercing to character”Warning message in bind_rows_(x, .id):\n",
      "“binding character and factor vector, coercing into character vector”Warning message in bind_rows_(x, .id):\n",
      "“binding character and factor vector, coercing into character vector”Warning message in bind_rows_(x, .id):\n",
      "“Unequal factor levels: coercing to character”Warning message in bind_rows_(x, .id):\n",
      "“binding character and factor vector, coercing into character vector”Warning message in bind_rows_(x, .id):\n",
      "“binding character and factor vector, coercing into character vector”Warning message in bind_rows_(x, .id):\n",
      "“binding character and factor vector, coercing into character vector”Warning message in bind_rows_(x, .id):\n",
      "“binding character and factor vector, coercing into character vector”"
     ]
    },
    {
     "name": "stdout",
     "output_type": "stream",
     "text": [
      "[1] 72  2\n"
     ]
    },
    {
     "data": {
      "text/html": [
       "<table>\n",
       "<thead><tr><th scope=col>Accession_short</th><th scope=col>clade</th></tr></thead>\n",
       "<tbody>\n",
       "\t<tr><td>GCA_002504405</td><td>HA           </td></tr>\n",
       "\t<tr><td>GCA_002506175</td><td>HA           </td></tr>\n",
       "\t<tr><td>GCA_002504495</td><td>HA           </td></tr>\n",
       "</tbody>\n",
       "</table>\n"
      ],
      "text/latex": [
       "\\begin{tabular}{r|ll}\n",
       " Accession\\_short & clade\\\\\n",
       "\\hline\n",
       "\t GCA\\_002504405 & HA             \\\\\n",
       "\t GCA\\_002506175 & HA             \\\\\n",
       "\t GCA\\_002504495 & HA             \\\\\n",
       "\\end{tabular}\n"
      ],
      "text/markdown": [
       "\n",
       "Accession_short | clade | \n",
       "|---|---|---|\n",
       "| GCA_002504405 | HA            | \n",
       "| GCA_002506175 | HA            | \n",
       "| GCA_002504495 | HA            | \n",
       "\n",
       "\n"
      ],
      "text/plain": [
       "  Accession_short clade\n",
       "1 GCA_002504405   HA   \n",
       "2 GCA_002506175   HA   \n",
       "3 GCA_002504495   HA   "
      ]
     },
     "metadata": {},
     "output_type": "display_data"
    }
   ],
   "source": [
    "# Clade membership\n",
    "# Host Associated, Free Living and EXternal\n",
    "HA_clade = c(\"GCA_002504405\", \"GCA_002506175\", \"GCA_002504495\", \"GCA_002506425\", \n",
    "             \"GCA_002503925\", \"GCA_002494805\", \"GCA_002498545\", \"GCA_002497475\", \n",
    "             \"GCA_002508595\", \"GCA_000800805\", \"GCA_002506905\", \"GCA_002496945\", \n",
    "             \"GCA_002495325\", \"GCA_002503545\", \"GCA_000300255\", \"V11_RL001\", \n",
    "             \"GCA_001481295\", \"GCA_900313075\", \"GCA_900314325\", \"GCA_002505245\", \n",
    "             \"GCA_002503785\", \"GCA_002506865\", \"GCA_002502545\", \"GCA_002509415\", \n",
    "             \"GCA_002498765\", \"GCA_002498785\", \"GCA_001421175\", \"GCA_002502965\", \n",
    "             \"GCA_002497155\", \"GCA_002509425\", \"GCA_002496785\", \"GCA_002505275\", \n",
    "             \"GCA_002506325\", \"GCA_002498605\", \"GCA_002509405\", \"GCA_002505345\", \n",
    "             \"GCA_002504645\", \"GCA_002502765\", \"GCA_002495665\", \"GCA_002506565\", \n",
    "             \"GCA_002508625\", \"GCA_002498425\", \"GCA_002498805\", \"GCA_002502925\", \n",
    "             \"GCA_002502465\", \"GCA_002498365\", \"GCA_002506995\", \"GCA_002494585\", \n",
    "             \"GCA_002509465\", \"GCA_002495495\")\n",
    "\n",
    "FL_clade = c(\"GCA_003153895\", \"GCA_003135935\", \"GCA_002506985\", \"GCA_002497075\", \n",
    "             \"GCA_000404225\", \"GCA_000308215\", \"GCA_002508545\", \"GCA_002494705\", \n",
    "             \"GCA_001421185\", \"GCA_002498285\", \"GCA_002495585\", \"GCA_002497995\", \n",
    "             \"GCA_002504525\", \"GCA_002496345\", \"GCA_002508585\", \"GCA_002508555\", \n",
    "             \"GCA_002502005\", \"GCA_002503495\", \"GCA_002505225\", \"GCA_002503645\")\n",
    "\n",
    "EX_clade = c(\"GCA_002496385\", \"GCA_002499085\")\n",
    "\n",
    "df_HA = data.frame(Accession_short = HA_clade, \n",
    "                   clade = gsub(pattern = \".*\", replacement = \"HA\", x = HA_clade, perl = T))\n",
    "df_FL = data.frame(Accession_short = FL_clade, \n",
    "                   clade = gsub(pattern = \".*\", replacement = \"FL\", x = FL_clade, perl = T))\n",
    "df_EX = data.frame(Accession_short = EX_clade, \n",
    "                   clade = gsub(pattern = \".*\", replacement = \"EX\", x = EX_clade, perl = T))\n",
    "\n",
    "df_Clade = bind_rows(df_HA, df_FL, df_EX)\n",
    "\n",
    "df_Clade %>% dfhead"
   ]
  },
  {
   "cell_type": "code",
   "execution_count": 47,
   "metadata": {
    "ExecuteTime": {
     "end_time": "2019-07-04T07:29:42.777294Z",
     "start_time": "2019-07-04T07:29:42.706Z"
    }
   },
   "outputs": [
    {
     "name": "stderr",
     "output_type": "stream",
     "text": [
      "Warning message:\n",
      "“Missing column names filled in: 'X1' [1]”Parsed with column specification:\n",
      "cols(\n",
      "  X1 = col_integer(),\n",
      "  Accession = col_character(),\n",
      "  Assembly = col_character(),\n",
      "  Organism = col_character()\n",
      ")\n"
     ]
    },
    {
     "name": "stdout",
     "output_type": "stream",
     "text": [
      "[1] 78  3\n"
     ]
    },
    {
     "data": {
      "text/html": [
       "<table>\n",
       "<thead><tr><th scope=col>Accession</th><th scope=col>Assembly</th><th scope=col>Organism</th></tr></thead>\n",
       "<tbody>\n",
       "\t<tr><td>GCA_000308215.1                                          </td><td>ASM30821v1                                               </td><td>Methanomassiliicoccus luminyensis B10                    </td></tr>\n",
       "\t<tr><td>GCA_000300255.2                                          </td><td>ASM30025v2                                               </td><td>Candidatus Methanomethylophilus alvus Mx1201             </td></tr>\n",
       "\t<tr><td>GCA_000404225.1                                          </td><td>ASM40422v1                                               </td><td>Candidatus Methanomassiliicoccus intestinalis Issoire-Mx1</td></tr>\n",
       "</tbody>\n",
       "</table>\n"
      ],
      "text/latex": [
       "\\begin{tabular}{r|lll}\n",
       " Accession & Assembly & Organism\\\\\n",
       "\\hline\n",
       "\t GCA\\_000308215.1                                         & ASM30821v1                                                & Methanomassiliicoccus luminyensis B10                    \\\\\n",
       "\t GCA\\_000300255.2                                         & ASM30025v2                                                & Candidatus Methanomethylophilus alvus Mx1201             \\\\\n",
       "\t GCA\\_000404225.1                                         & ASM40422v1                                                & Candidatus Methanomassiliicoccus intestinalis Issoire-Mx1\\\\\n",
       "\\end{tabular}\n"
      ],
      "text/markdown": [
       "\n",
       "Accession | Assembly | Organism | \n",
       "|---|---|---|\n",
       "| GCA_000308215.1                                           | ASM30821v1                                                | Methanomassiliicoccus luminyensis B10                     | \n",
       "| GCA_000300255.2                                           | ASM30025v2                                                | Candidatus Methanomethylophilus alvus Mx1201              | \n",
       "| GCA_000404225.1                                           | ASM40422v1                                                | Candidatus Methanomassiliicoccus intestinalis Issoire-Mx1 | \n",
       "\n",
       "\n"
      ],
      "text/plain": [
       "  Accession       Assembly  \n",
       "1 GCA_000308215.1 ASM30821v1\n",
       "2 GCA_000300255.2 ASM30025v2\n",
       "3 GCA_000404225.1 ASM40422v1\n",
       "  Organism                                                 \n",
       "1 Methanomassiliicoccus luminyensis B10                    \n",
       "2 Candidatus Methanomethylophilus alvus Mx1201             \n",
       "3 Candidatus Methanomassiliicoccus intestinalis Issoire-Mx1"
      ]
     },
     "metadata": {},
     "output_type": "display_data"
    }
   ],
   "source": [
    "# Included genomes accessions and names\n",
    "included_accessions = file.path(work_dir, \"genomes/Methanomassiliicoccales.csv\") %>%\n",
    "    read_csv() %>%\n",
    "    select(-X1)\n",
    "\n",
    "included_accessions %>% dfhead"
   ]
  },
  {
   "cell_type": "code",
   "execution_count": 82,
   "metadata": {
    "ExecuteTime": {
     "end_time": "2019-07-04T07:53:03.839809Z",
     "start_time": "2019-07-04T07:53:03.726Z"
    }
   },
   "outputs": [
    {
     "name": "stderr",
     "output_type": "stream",
     "text": [
      "Warning message:\n",
      "“Missing column names filled in: 'X1' [1]”Parsed with column specification:\n",
      "cols(\n",
      "  X1 = col_character(),\n",
      "  Assembly = col_character(),\n",
      "  GC = col_double(),\n",
      "  Len = col_integer(),\n",
      "  Genes = col_integer(),\n",
      "  source_1 = col_character(),\n",
      "  source_2 = col_character(),\n",
      "  source_3 = col_character(),\n",
      "  location = col_character()\n",
      ")\n"
     ]
    },
    {
     "name": "stdout",
     "output_type": "stream",
     "text": [
      "[1] 72  9\n"
     ]
    },
    {
     "data": {
      "text/html": [
       "<table>\n",
       "<thead><tr><th scope=col>Organism</th><th scope=col>Accession_short</th><th scope=col>GC</th><th scope=col>Len</th><th scope=col>Genes</th><th scope=col>source_1</th><th scope=col>source_2</th><th scope=col>source_3</th><th scope=col>location</th></tr></thead>\n",
       "<tbody>\n",
       "\t<tr><td>Candidatus Methanomethylophilus alvus Mx1201             </td><td>GCA_000300255                                            </td><td>55.59                                                    </td><td>1666795                                                  </td><td>1636                                                     </td><td>Host-associated                                          </td><td>Feces                                                    </td><td>Human                                                    </td><td>NA                                                       </td></tr>\n",
       "\t<tr><td>Methanomassiliicoccus luminyensis B10                    </td><td>GCA_000308215                                            </td><td>60.48                                                    </td><td>2620233                                                  </td><td>2607                                                     </td><td>Host-associated                                          </td><td>Feces                                                    </td><td>Human                                                    </td><td>NA                                                       </td></tr>\n",
       "\t<tr><td>Candidatus Methanomassiliicoccus intestinalis Issoire Mx1</td><td>GCA_000404225                                            </td><td>41.26                                                    </td><td>1931651                                                  </td><td>1855                                                     </td><td>Host-associated                                          </td><td>Feces                                                    </td><td>Human                                                    </td><td>NA                                                       </td></tr>\n",
       "</tbody>\n",
       "</table>\n"
      ],
      "text/latex": [
       "\\begin{tabular}{r|lllllllll}\n",
       " Organism & Accession\\_short & GC & Len & Genes & source\\_1 & source\\_2 & source\\_3 & location\\\\\n",
       "\\hline\n",
       "\t Candidatus Methanomethylophilus alvus Mx1201              & GCA\\_000300255                                           & 55.59                                                     & 1666795                                                   & 1636                                                      & Host-associated                                           & Feces                                                     & Human                                                     & NA                                                       \\\\\n",
       "\t Methanomassiliicoccus luminyensis B10                     & GCA\\_000308215                                           & 60.48                                                     & 2620233                                                   & 2607                                                      & Host-associated                                           & Feces                                                     & Human                                                     & NA                                                       \\\\\n",
       "\t Candidatus Methanomassiliicoccus intestinalis Issoire Mx1 & GCA\\_000404225                                           & 41.26                                                     & 1931651                                                   & 1855                                                      & Host-associated                                           & Feces                                                     & Human                                                     & NA                                                       \\\\\n",
       "\\end{tabular}\n"
      ],
      "text/markdown": [
       "\n",
       "Organism | Accession_short | GC | Len | Genes | source_1 | source_2 | source_3 | location | \n",
       "|---|---|---|\n",
       "| Candidatus Methanomethylophilus alvus Mx1201              | GCA_000300255                                             | 55.59                                                     | 1666795                                                   | 1636                                                      | Host-associated                                           | Feces                                                     | Human                                                     | NA                                                        | \n",
       "| Methanomassiliicoccus luminyensis B10                     | GCA_000308215                                             | 60.48                                                     | 2620233                                                   | 2607                                                      | Host-associated                                           | Feces                                                     | Human                                                     | NA                                                        | \n",
       "| Candidatus Methanomassiliicoccus intestinalis Issoire Mx1 | GCA_000404225                                             | 41.26                                                     | 1931651                                                   | 1855                                                      | Host-associated                                           | Feces                                                     | Human                                                     | NA                                                        | \n",
       "\n",
       "\n"
      ],
      "text/plain": [
       "  Organism                                                  Accession_short\n",
       "1 Candidatus Methanomethylophilus alvus Mx1201              GCA_000300255  \n",
       "2 Methanomassiliicoccus luminyensis B10                     GCA_000308215  \n",
       "3 Candidatus Methanomassiliicoccus intestinalis Issoire Mx1 GCA_000404225  \n",
       "  GC    Len     Genes source_1        source_2 source_3 location\n",
       "1 55.59 1666795 1636  Host-associated Feces    Human    NA      \n",
       "2 60.48 2620233 2607  Host-associated Feces    Human    NA      \n",
       "3 41.26 1931651 1855  Host-associated Feces    Human    NA      "
      ]
     },
     "metadata": {},
     "output_type": "display_data"
    }
   ],
   "source": [
    "raw_methanomassilii_data = \"/ebio/abt3_projects/vadinCA11/data/V11/assemblies_metadata/Assembly_metadata_curated.txt\" %>%\n",
    "    read_tsv %>%\n",
    "    as.data.frame %>%\n",
    "    rename(\"Organism\" = \"X1\", \"Accession_short\" = \"Assembly\") %>% \n",
    "    mutate_at(vars(starts_with(\"source\"), location), factor) %>%\n",
    "    mutate(Organism = str_replace_all(Organism, \"\\\\_\", \" \")) %>%\n",
    "    mutate(GC = round(GC*100, 2))\n",
    "\n",
    "raw_methanomassilii_data %>% dfhead"
   ]
  },
  {
   "cell_type": "code",
   "execution_count": 83,
   "metadata": {
    "ExecuteTime": {
     "end_time": "2019-07-04T07:53:08.786161Z",
     "start_time": "2019-07-04T07:53:08.609Z"
    }
   },
   "outputs": [
    {
     "name": "stderr",
     "output_type": "stream",
     "text": [
      "Parsed with column specification:\n",
      "cols(\n",
      "  .default = col_character()\n",
      ")\n",
      "See spec(...) for full column specifications.\n"
     ]
    },
    {
     "name": "stdout",
     "output_type": "stream",
     "text": [
      "[1] 72  4\n"
     ]
    },
    {
     "data": {
      "text/html": [
       "<table>\n",
       "<thead><tr><th scope=col>Accession</th><th scope=col>Completeness</th><th scope=col>Contamination</th><th scope=col>Accession_short</th></tr></thead>\n",
       "<tbody>\n",
       "\t<tr><td>GCA_000300255.2</td><td>98.39          </td><td>0.81           </td><td>GCA_000300255  </td></tr>\n",
       "\t<tr><td>GCA_000308215.1</td><td>98.39          </td><td>0.00           </td><td>GCA_000308215  </td></tr>\n",
       "\t<tr><td>GCA_000404225.1</td><td>98.79          </td><td>0.81           </td><td>GCA_000404225  </td></tr>\n",
       "</tbody>\n",
       "</table>\n"
      ],
      "text/latex": [
       "\\begin{tabular}{r|llll}\n",
       " Accession & Completeness & Contamination & Accession\\_short\\\\\n",
       "\\hline\n",
       "\t GCA\\_000300255.2 & 98.39             & 0.81              & GCA\\_000300255  \\\\\n",
       "\t GCA\\_000308215.1 & 98.39             & 0.00              & GCA\\_000308215  \\\\\n",
       "\t GCA\\_000404225.1 & 98.79             & 0.81              & GCA\\_000404225  \\\\\n",
       "\\end{tabular}\n"
      ],
      "text/markdown": [
       "\n",
       "Accession | Completeness | Contamination | Accession_short | \n",
       "|---|---|---|\n",
       "| GCA_000300255.2 | 98.39           | 0.81            | GCA_000300255   | \n",
       "| GCA_000308215.1 | 98.39           | 0.00            | GCA_000308215   | \n",
       "| GCA_000404225.1 | 98.79           | 0.81            | GCA_000404225   | \n",
       "\n",
       "\n"
      ],
      "text/plain": [
       "  Accession       Completeness Contamination Accession_short\n",
       "1 GCA_000300255.2 98.39        0.81          GCA_000300255  \n",
       "2 GCA_000308215.1 98.39        0.00          GCA_000308215  \n",
       "3 GCA_000404225.1 98.79        0.81          GCA_000404225  "
      ]
     },
     "metadata": {},
     "output_type": "display_data"
    }
   ],
   "source": [
    "assembly_stats =  file.path(work_dir, \"genomes/included_stats.txt\") %>%\n",
    "    read_tsv()%>% \n",
    "    filter(Stat %in% c(\"Completeness\", \"Contamination\")) %>%\n",
    "    gather(variable, value, -Stat) %>%\n",
    "    spread(Stat, value) %>%\n",
    "    rename(\"Accession\" = \"variable\") %>%\n",
    "    mutate_at(vars(Completeness, Contamination), as.numeric) %>%\n",
    "    mutate_at(vars(Completeness, Contamination), function(x) round(x, 2)) %>%\n",
    "    mutate(Accession_short = str_replace(Accession, \"\\\\.[0-9]\", \"\"))\n",
    "\n",
    "assembly_stats %>% dfhead"
   ]
  },
  {
   "cell_type": "code",
   "execution_count": 101,
   "metadata": {
    "ExecuteTime": {
     "end_time": "2019-07-04T09:05:28.679368Z",
     "start_time": "2019-07-04T09:05:28.597Z"
    }
   },
   "outputs": [],
   "source": [
    "# Join tables and organize columns\n",
    "Included_Genomes_Table = left_join(assembly_stats, raw_methanomassilii_data, by = \"Accession_short\") %>% \n",
    "    left_join(., df_Clade, by = \"Accession_short\") %>%\n",
    "    select(-Accession_short) %>%\n",
    "    select(Organism, Accession, everything())\n"
   ]
  },
  {
   "cell_type": "code",
   "execution_count": 102,
   "metadata": {
    "ExecuteTime": {
     "end_time": "2019-07-04T09:05:29.049799Z",
     "start_time": "2019-07-04T09:05:29.017Z"
    }
   },
   "outputs": [],
   "source": [
    "Included_Genomes_File = file.path(tables_dir, \"Included_Genomes.tsv\")\n",
    "write_tsv(Included_Genomes_Table, Included_Genomes_File, col_names = T)"
   ]
  },
  {
   "cell_type": "markdown",
   "metadata": {},
   "source": [
    "# Session info"
   ]
  },
  {
   "cell_type": "code",
   "execution_count": 3,
   "metadata": {
    "ExecuteTime": {
     "end_time": "2019-07-04T06:50:22.689917Z",
     "start_time": "2019-07-04T06:50:22.573Z"
    }
   },
   "outputs": [
    {
     "data": {
      "text/plain": [
       "R version 3.4.1 (2017-06-30)\n",
       "Platform: x86_64-pc-linux-gnu (64-bit)\n",
       "Running under: Ubuntu 18.04.1 LTS\n",
       "\n",
       "Matrix products: default\n",
       "BLAS: /ebio/abt3_projects/software/miniconda3_gt4.4/envs/UpSetR/lib/R/lib/libRblas.so\n",
       "LAPACK: /ebio/abt3_projects/software/miniconda3_gt4.4/envs/UpSetR/lib/R/lib/libRlapack.so\n",
       "\n",
       "locale:\n",
       " [1] LC_CTYPE=en_US.UTF-8       LC_NUMERIC=C              \n",
       " [3] LC_TIME=en_US.UTF-8        LC_COLLATE=en_US.UTF-8    \n",
       " [5] LC_MONETARY=en_US.UTF-8    LC_MESSAGES=en_US.UTF-8   \n",
       " [7] LC_PAPER=en_US.UTF-8       LC_NAME=C                 \n",
       " [9] LC_ADDRESS=C               LC_TELEPHONE=C            \n",
       "[11] LC_MEASUREMENT=en_US.UTF-8 LC_IDENTIFICATION=C       \n",
       "\n",
       "attached base packages:\n",
       "[1] stats     graphics  grDevices utils     datasets  methods   base     \n",
       "\n",
       "other attached packages:\n",
       "[1] dplyr_0.7.4     purrr_0.2.4     readr_1.1.1     tidyr_0.7.2    \n",
       "[5] tibble_1.4.1    ggplot2_2.2.1   tidyverse_1.1.1\n",
       "\n",
       "loaded via a namespace (and not attached):\n",
       " [1] Rcpp_0.12.14     cellranger_1.1.0 plyr_1.8.4       compiler_3.4.1  \n",
       " [5] pillar_1.0.1     bindr_0.1        forcats_0.2.0    base64enc_0.1-3 \n",
       " [9] tools_3.4.1      digest_0.6.13    uuid_0.1-2       lubridate_1.7.4 \n",
       "[13] jsonlite_1.5     evaluate_0.10.1  nlme_3.1-131     gtable_0.2.0    \n",
       "[17] lattice_0.20-34  pkgconfig_2.0.1  rlang_0.1.6      IRdisplay_0.4.4 \n",
       "[21] IRkernel_0.8.12  haven_1.0.0      bindrcpp_0.2     xml2_1.1.1      \n",
       "[25] httr_1.2.1       repr_0.15.0      stringr_1.2.0    hms_0.4.2       \n",
       "[29] grid_3.4.1       glue_1.2.0       R6_2.2.2         readxl_1.1.0    \n",
       "[33] pbdZMQ_0.3-2     modelr_0.1.0     magrittr_1.5     scales_0.5.0    \n",
       "[37] backports_1.1.2  htmltools_0.3.6  rvest_0.3.2      assertthat_0.2.0\n",
       "[41] colorspace_1.3-2 stringi_1.1.6    lazyeval_0.2.1   munsell_0.4.3   \n",
       "[45] broom_0.5.0      crayon_1.3.4    "
      ]
     },
     "metadata": {},
     "output_type": "display_data"
    }
   ],
   "source": [
    "sessionInfo()"
   ]
  },
  {
   "cell_type": "code",
   "execution_count": null,
   "metadata": {},
   "outputs": [],
   "source": []
  }
 ],
 "metadata": {
  "kernelspec": {
   "display_name": "R [conda env:UpSetR]",
   "language": "R",
   "name": "conda-env-UpSetR-r"
  },
  "language_info": {
   "codemirror_mode": "r",
   "file_extension": ".r",
   "mimetype": "text/x-r-source",
   "name": "R",
   "pygments_lexer": "r",
   "version": "3.4.1"
  },
  "toc": {
   "base_numbering": 1,
   "nav_menu": {},
   "number_sections": true,
   "sideBar": true,
   "skip_h1_title": false,
   "title_cell": "Table of Contents",
   "title_sidebar": "Contents",
   "toc_cell": false,
   "toc_position": {},
   "toc_section_display": true,
   "toc_window_display": false
  }
 },
 "nbformat": 4,
 "nbformat_minor": 2
}
