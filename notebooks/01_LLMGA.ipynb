{
 "cells": [
  {
   "cell_type": "markdown",
   "metadata": {},
   "source": [
    "# Goal\n",
    "\n",
    "* metagenome assembly of combined reads from HiSeq runs:\n",
    "  * 0083\n",
    "  * 0091\n"
   ]
  },
  {
   "cell_type": "markdown",
   "metadata": {},
   "source": [
    "# Var"
   ]
  },
  {
   "cell_type": "code",
   "execution_count": 141,
   "metadata": {
    "ExecuteTime": {
     "end_time": "2018-03-17T12:11:20.575330Z",
     "start_time": "2018-03-17T12:11:20.517Z"
    }
   },
   "outputs": [],
   "source": [
    "work_dir = '/ebio/abt3_projects/vadinCA11/data/metagenome/LLMGA/HiSeqRun83-91/'\n",
    "\n",
    "run83_dir = '/ebio/abt3_projects/vadinCA11/data/metagenome/HiSeqRun0083/LLMGQC/'\n",
    "run91_dir = '/ebio/abt3_projects/vadinCA11/data/metagenome/HiSeqRun0091/LLMGQC/'\n",
    "\n",
    "run83_samp_file = file.path(run83_dir, 'final', 'samples.txt')\n",
    "run91_samp_file = file.path(run91_dir, 'final', 'samples.txt')\n",
    "\n",
    "run83_report_file = file.path(run83_dir, 'reports/multiqc_report_filter/multiqc_data/', 'multiqc_general_stats.txt')\n",
    "run91_report_file = file.path(run91_dir, 'reports/multiqc_report_filter/multiqc_data/', 'multiqc_general_stats.txt')"
   ]
  },
  {
   "cell_type": "markdown",
   "metadata": {},
   "source": [
    "# Init"
   ]
  },
  {
   "cell_type": "code",
   "execution_count": 75,
   "metadata": {
    "ExecuteTime": {
     "end_time": "2018-03-17T11:55:56.481904Z",
     "start_time": "2018-03-17T11:55:56.422Z"
    }
   },
   "outputs": [],
   "source": [
    "library(dplyr)\n",
    "library(tidyr)\n",
    "library(ggplot2)\n",
    "source('/ebio/abt3_projects/vadinCA11/code/init.R')"
   ]
  },
  {
   "cell_type": "code",
   "execution_count": 142,
   "metadata": {
    "ExecuteTime": {
     "end_time": "2018-03-17T12:11:22.781397Z",
     "start_time": "2018-03-17T12:11:22.734Z"
    }
   },
   "outputs": [
    {
     "name": "stdout",
     "output_type": "stream",
     "text": [
      "Created directory: /ebio/abt3_projects/vadinCA11/data/metagenome/LLMGA/HiSeqRun83-91/ \n"
     ]
    }
   ],
   "source": [
    "make_dir(work_dir)"
   ]
  },
  {
   "cell_type": "markdown",
   "metadata": {},
   "source": [
    "# Load"
   ]
  },
  {
   "cell_type": "markdown",
   "metadata": {},
   "source": [
    "## Sample files"
   ]
  },
  {
   "cell_type": "code",
   "execution_count": 120,
   "metadata": {
    "ExecuteTime": {
     "end_time": "2018-03-17T12:08:02.359862Z",
     "start_time": "2018-03-17T12:08:02.250Z"
    }
   },
   "outputs": [
    {
     "name": "stdout",
     "output_type": "stream",
     "text": [
      "[1] 131   3\n"
     ]
    },
    {
     "data": {
      "text/html": [
       "<table>\n",
       "<thead><tr><th scope=col>Sample</th><th scope=col>Read1</th><th scope=col>Read2</th></tr></thead>\n",
       "<tbody>\n",
       "\t<tr><td>ID50491                                                                                               </td><td>/ebio/abt3_projects/vadinCA11/data/metagenome/HiSeqRun0083/LLMGQC/final/50491/R1_dedup_qual_filt.fq.gz</td><td>/ebio/abt3_projects/vadinCA11/data/metagenome/HiSeqRun0083/LLMGQC/final/50491/R2_dedup_qual_filt.fq.gz</td></tr>\n",
       "\t<tr><td>ID1171                                                                                                </td><td>/ebio/abt3_projects/vadinCA11/data/metagenome/HiSeqRun0083/LLMGQC/final/1171/R1_dedup_qual_filt.fq.gz </td><td>/ebio/abt3_projects/vadinCA11/data/metagenome/HiSeqRun0083/LLMGQC/final/1171/R2_dedup_qual_filt.fq.gz </td></tr>\n",
       "\t<tr><td>ID32031                                                                                               </td><td>/ebio/abt3_projects/vadinCA11/data/metagenome/HiSeqRun0083/LLMGQC/final/32031/R1_dedup_qual_filt.fq.gz</td><td>/ebio/abt3_projects/vadinCA11/data/metagenome/HiSeqRun0083/LLMGQC/final/32031/R2_dedup_qual_filt.fq.gz</td></tr>\n",
       "</tbody>\n",
       "</table>\n"
      ],
      "text/latex": [
       "\\begin{tabular}{r|lll}\n",
       " Sample & Read1 & Read2\\\\\n",
       "\\hline\n",
       "\t ID50491                                                                                                        & /ebio/abt3\\_projects/vadinCA11/data/metagenome/HiSeqRun0083/LLMGQC/final/50491/R1\\_dedup\\_qual\\_filt.fq.gz & /ebio/abt3\\_projects/vadinCA11/data/metagenome/HiSeqRun0083/LLMGQC/final/50491/R2\\_dedup\\_qual\\_filt.fq.gz\\\\\n",
       "\t ID1171                                                                                                         & /ebio/abt3\\_projects/vadinCA11/data/metagenome/HiSeqRun0083/LLMGQC/final/1171/R1\\_dedup\\_qual\\_filt.fq.gz  & /ebio/abt3\\_projects/vadinCA11/data/metagenome/HiSeqRun0083/LLMGQC/final/1171/R2\\_dedup\\_qual\\_filt.fq.gz \\\\\n",
       "\t ID32031                                                                                                        & /ebio/abt3\\_projects/vadinCA11/data/metagenome/HiSeqRun0083/LLMGQC/final/32031/R1\\_dedup\\_qual\\_filt.fq.gz & /ebio/abt3\\_projects/vadinCA11/data/metagenome/HiSeqRun0083/LLMGQC/final/32031/R2\\_dedup\\_qual\\_filt.fq.gz\\\\\n",
       "\\end{tabular}\n"
      ],
      "text/markdown": [
       "\n",
       "Sample | Read1 | Read2 | \n",
       "|---|---|---|\n",
       "| ID50491                                                                                                | /ebio/abt3_projects/vadinCA11/data/metagenome/HiSeqRun0083/LLMGQC/final/50491/R1_dedup_qual_filt.fq.gz | /ebio/abt3_projects/vadinCA11/data/metagenome/HiSeqRun0083/LLMGQC/final/50491/R2_dedup_qual_filt.fq.gz | \n",
       "| ID1171                                                                                                 | /ebio/abt3_projects/vadinCA11/data/metagenome/HiSeqRun0083/LLMGQC/final/1171/R1_dedup_qual_filt.fq.gz  | /ebio/abt3_projects/vadinCA11/data/metagenome/HiSeqRun0083/LLMGQC/final/1171/R2_dedup_qual_filt.fq.gz  | \n",
       "| ID32031                                                                                                | /ebio/abt3_projects/vadinCA11/data/metagenome/HiSeqRun0083/LLMGQC/final/32031/R1_dedup_qual_filt.fq.gz | /ebio/abt3_projects/vadinCA11/data/metagenome/HiSeqRun0083/LLMGQC/final/32031/R2_dedup_qual_filt.fq.gz | \n",
       "\n",
       "\n"
      ],
      "text/plain": [
       "  Sample \n",
       "1 ID50491\n",
       "2 ID1171 \n",
       "3 ID32031\n",
       "  Read1                                                                                                 \n",
       "1 /ebio/abt3_projects/vadinCA11/data/metagenome/HiSeqRun0083/LLMGQC/final/50491/R1_dedup_qual_filt.fq.gz\n",
       "2 /ebio/abt3_projects/vadinCA11/data/metagenome/HiSeqRun0083/LLMGQC/final/1171/R1_dedup_qual_filt.fq.gz \n",
       "3 /ebio/abt3_projects/vadinCA11/data/metagenome/HiSeqRun0083/LLMGQC/final/32031/R1_dedup_qual_filt.fq.gz\n",
       "  Read2                                                                                                 \n",
       "1 /ebio/abt3_projects/vadinCA11/data/metagenome/HiSeqRun0083/LLMGQC/final/50491/R2_dedup_qual_filt.fq.gz\n",
       "2 /ebio/abt3_projects/vadinCA11/data/metagenome/HiSeqRun0083/LLMGQC/final/1171/R2_dedup_qual_filt.fq.gz \n",
       "3 /ebio/abt3_projects/vadinCA11/data/metagenome/HiSeqRun0083/LLMGQC/final/32031/R2_dedup_qual_filt.fq.gz"
      ]
     },
     "metadata": {},
     "output_type": "display_data"
    }
   ],
   "source": [
    "run83_samp = read.delim(run83_samp_file, sep='\\t') %>%\n",
    "    mutate(Sample = gsub('^([0-9]+)', 'ID\\\\1', Sample))\n",
    "run83_samp %>% status"
   ]
  },
  {
   "cell_type": "code",
   "execution_count": 121,
   "metadata": {
    "ExecuteTime": {
     "end_time": "2018-03-17T12:08:06.033917Z",
     "start_time": "2018-03-17T12:08:05.922Z"
    }
   },
   "outputs": [
    {
     "name": "stdout",
     "output_type": "stream",
     "text": [
      "[1] 131   3\n"
     ]
    },
    {
     "data": {
      "text/html": [
       "<table>\n",
       "<thead><tr><th scope=col>Sample</th><th scope=col>Read1</th><th scope=col>Read2</th></tr></thead>\n",
       "<tbody>\n",
       "\t<tr><td>ID1014299                                                                                               </td><td>/ebio/abt3_projects/vadinCA11/data/metagenome/HiSeqRun0091/LLMGQC/final/1014299/R1_dedup_qual_filt.fq.gz</td><td>/ebio/abt3_projects/vadinCA11/data/metagenome/HiSeqRun0091/LLMGQC/final/1014299/R2_dedup_qual_filt.fq.gz</td></tr>\n",
       "\t<tr><td>ID1014313                                                                                               </td><td>/ebio/abt3_projects/vadinCA11/data/metagenome/HiSeqRun0091/LLMGQC/final/1014313/R1_dedup_qual_filt.fq.gz</td><td>/ebio/abt3_projects/vadinCA11/data/metagenome/HiSeqRun0091/LLMGQC/final/1014313/R2_dedup_qual_filt.fq.gz</td></tr>\n",
       "\t<tr><td>ID1019011                                                                                               </td><td>/ebio/abt3_projects/vadinCA11/data/metagenome/HiSeqRun0091/LLMGQC/final/1019011/R1_dedup_qual_filt.fq.gz</td><td>/ebio/abt3_projects/vadinCA11/data/metagenome/HiSeqRun0091/LLMGQC/final/1019011/R2_dedup_qual_filt.fq.gz</td></tr>\n",
       "</tbody>\n",
       "</table>\n"
      ],
      "text/latex": [
       "\\begin{tabular}{r|lll}\n",
       " Sample & Read1 & Read2\\\\\n",
       "\\hline\n",
       "\t ID1014299                                                                                                        & /ebio/abt3\\_projects/vadinCA11/data/metagenome/HiSeqRun0091/LLMGQC/final/1014299/R1\\_dedup\\_qual\\_filt.fq.gz & /ebio/abt3\\_projects/vadinCA11/data/metagenome/HiSeqRun0091/LLMGQC/final/1014299/R2\\_dedup\\_qual\\_filt.fq.gz\\\\\n",
       "\t ID1014313                                                                                                        & /ebio/abt3\\_projects/vadinCA11/data/metagenome/HiSeqRun0091/LLMGQC/final/1014313/R1\\_dedup\\_qual\\_filt.fq.gz & /ebio/abt3\\_projects/vadinCA11/data/metagenome/HiSeqRun0091/LLMGQC/final/1014313/R2\\_dedup\\_qual\\_filt.fq.gz\\\\\n",
       "\t ID1019011                                                                                                        & /ebio/abt3\\_projects/vadinCA11/data/metagenome/HiSeqRun0091/LLMGQC/final/1019011/R1\\_dedup\\_qual\\_filt.fq.gz & /ebio/abt3\\_projects/vadinCA11/data/metagenome/HiSeqRun0091/LLMGQC/final/1019011/R2\\_dedup\\_qual\\_filt.fq.gz\\\\\n",
       "\\end{tabular}\n"
      ],
      "text/markdown": [
       "\n",
       "Sample | Read1 | Read2 | \n",
       "|---|---|---|\n",
       "| ID1014299                                                                                                | /ebio/abt3_projects/vadinCA11/data/metagenome/HiSeqRun0091/LLMGQC/final/1014299/R1_dedup_qual_filt.fq.gz | /ebio/abt3_projects/vadinCA11/data/metagenome/HiSeqRun0091/LLMGQC/final/1014299/R2_dedup_qual_filt.fq.gz | \n",
       "| ID1014313                                                                                                | /ebio/abt3_projects/vadinCA11/data/metagenome/HiSeqRun0091/LLMGQC/final/1014313/R1_dedup_qual_filt.fq.gz | /ebio/abt3_projects/vadinCA11/data/metagenome/HiSeqRun0091/LLMGQC/final/1014313/R2_dedup_qual_filt.fq.gz | \n",
       "| ID1019011                                                                                                | /ebio/abt3_projects/vadinCA11/data/metagenome/HiSeqRun0091/LLMGQC/final/1019011/R1_dedup_qual_filt.fq.gz | /ebio/abt3_projects/vadinCA11/data/metagenome/HiSeqRun0091/LLMGQC/final/1019011/R2_dedup_qual_filt.fq.gz | \n",
       "\n",
       "\n"
      ],
      "text/plain": [
       "  Sample   \n",
       "1 ID1014299\n",
       "2 ID1014313\n",
       "3 ID1019011\n",
       "  Read1                                                                                                   \n",
       "1 /ebio/abt3_projects/vadinCA11/data/metagenome/HiSeqRun0091/LLMGQC/final/1014299/R1_dedup_qual_filt.fq.gz\n",
       "2 /ebio/abt3_projects/vadinCA11/data/metagenome/HiSeqRun0091/LLMGQC/final/1014313/R1_dedup_qual_filt.fq.gz\n",
       "3 /ebio/abt3_projects/vadinCA11/data/metagenome/HiSeqRun0091/LLMGQC/final/1019011/R1_dedup_qual_filt.fq.gz\n",
       "  Read2                                                                                                   \n",
       "1 /ebio/abt3_projects/vadinCA11/data/metagenome/HiSeqRun0091/LLMGQC/final/1014299/R2_dedup_qual_filt.fq.gz\n",
       "2 /ebio/abt3_projects/vadinCA11/data/metagenome/HiSeqRun0091/LLMGQC/final/1014313/R2_dedup_qual_filt.fq.gz\n",
       "3 /ebio/abt3_projects/vadinCA11/data/metagenome/HiSeqRun0091/LLMGQC/final/1019011/R2_dedup_qual_filt.fq.gz"
      ]
     },
     "metadata": {},
     "output_type": "display_data"
    }
   ],
   "source": [
    "run91_samp = read.delim(run91_samp_file, sep='\\t') %>%\n",
    "    mutate(Sample = gsub('^([0-9]+)', 'ID\\\\1', Sample))\n",
    "run91_samp %>% status"
   ]
  },
  {
   "cell_type": "code",
   "execution_count": 122,
   "metadata": {
    "ExecuteTime": {
     "end_time": "2018-03-17T12:08:06.764838Z",
     "start_time": "2018-03-17T12:08:06.696Z"
    }
   },
   "outputs": [
    {
     "name": "stdout",
     "output_type": "stream",
     "text": [
      "character(0)\n",
      "character(0)\n"
     ]
    }
   ],
   "source": [
    "# checking overlap of samples\n",
    "setdiff(run83_samp$Sample, run91_samp$Sample) %>% print\n",
    "setdiff(run91_samp$Sample, run83_samp$Sample) %>% print"
   ]
  },
  {
   "cell_type": "markdown",
   "metadata": {},
   "source": [
    "## fastQC reports"
   ]
  },
  {
   "cell_type": "code",
   "execution_count": 123,
   "metadata": {
    "ExecuteTime": {
     "end_time": "2018-03-17T12:08:07.103842Z",
     "start_time": "2018-03-17T12:08:06.985Z"
    }
   },
   "outputs": [
    {
     "name": "stdout",
     "output_type": "stream",
     "text": [
      "[1] 262   8\n"
     ]
    },
    {
     "data": {
      "text/html": [
       "<table>\n",
       "<thead><tr><th scope=col>Sample</th><th scope=col>FastQC_mqc.generalstats.avg_sequence_length</th><th scope=col>FastQC_mqc.generalstats.percent_fails</th><th scope=col>FastQC_mqc.generalstats.percent_gc</th><th scope=col>FastQC_mqc.generalstats.total_sequences</th><th scope=col>FastQC_mqc.generalstats.percent_duplicates</th><th scope=col>SampleID</th><th scope=col>RunID</th></tr></thead>\n",
       "<tbody>\n",
       "\t<tr><td>1006624 | fastqc_per_sample | R1_dedup_qual_filt</td><td>149.1878                                        </td><td>9.090909                                        </td><td>45                                              </td><td>3481090                                         </td><td>7.372846                                        </td><td>ID1006624                                       </td><td>Run0083                                         </td></tr>\n",
       "\t<tr><td>1006624 | fastqc_per_sample | R2_dedup_qual_filt</td><td>148.9133                                        </td><td>9.090909                                        </td><td>45                                              </td><td>3481090                                         </td><td>7.327216                                        </td><td>ID1006624                                       </td><td>Run0083                                         </td></tr>\n",
       "\t<tr><td>1006625 | fastqc_per_sample | R1_dedup_qual_filt</td><td>148.9882                                        </td><td>9.090909                                        </td><td>46                                              </td><td>2126869                                         </td><td>6.647899                                        </td><td>ID1006625                                       </td><td>Run0083                                         </td></tr>\n",
       "</tbody>\n",
       "</table>\n"
      ],
      "text/latex": [
       "\\begin{tabular}{r|llllllll}\n",
       " Sample & FastQC\\_mqc.generalstats.avg\\_sequence\\_length & FastQC\\_mqc.generalstats.percent\\_fails & FastQC\\_mqc.generalstats.percent\\_gc & FastQC\\_mqc.generalstats.total\\_sequences & FastQC\\_mqc.generalstats.percent\\_duplicates & SampleID & RunID\\\\\n",
       "\\hline\n",
       "\t 1006624 \\textbar{} fastqc\\_per\\_sample \\textbar{} R1\\_dedup\\_qual\\_filt & 149.1878                                                                       & 9.090909                                                                       & 45                                                                             & 3481090                                                                        & 7.372846                                                                       & ID1006624                                                                      & Run0083                                                                       \\\\\n",
       "\t 1006624 \\textbar{} fastqc\\_per\\_sample \\textbar{} R2\\_dedup\\_qual\\_filt & 148.9133                                                                       & 9.090909                                                                       & 45                                                                             & 3481090                                                                        & 7.327216                                                                       & ID1006624                                                                      & Run0083                                                                       \\\\\n",
       "\t 1006625 \\textbar{} fastqc\\_per\\_sample \\textbar{} R1\\_dedup\\_qual\\_filt & 148.9882                                                                       & 9.090909                                                                       & 46                                                                             & 2126869                                                                        & 6.647899                                                                       & ID1006625                                                                      & Run0083                                                                       \\\\\n",
       "\\end{tabular}\n"
      ],
      "text/markdown": [
       "\n",
       "Sample | FastQC_mqc.generalstats.avg_sequence_length | FastQC_mqc.generalstats.percent_fails | FastQC_mqc.generalstats.percent_gc | FastQC_mqc.generalstats.total_sequences | FastQC_mqc.generalstats.percent_duplicates | SampleID | RunID | \n",
       "|---|---|---|\n",
       "| 1006624 | fastqc_per_sample | R1_dedup_qual_filt | 149.1878                                         | 9.090909                                         | 45                                               | 3481090                                          | 7.372846                                         | ID1006624                                        | Run0083                                          | \n",
       "| 1006624 | fastqc_per_sample | R2_dedup_qual_filt | 148.9133                                         | 9.090909                                         | 45                                               | 3481090                                          | 7.327216                                         | ID1006624                                        | Run0083                                          | \n",
       "| 1006625 | fastqc_per_sample | R1_dedup_qual_filt | 148.9882                                         | 9.090909                                         | 46                                               | 2126869                                          | 6.647899                                         | ID1006625                                        | Run0083                                          | \n",
       "\n",
       "\n"
      ],
      "text/plain": [
       "  Sample                                          \n",
       "1 1006624 | fastqc_per_sample | R1_dedup_qual_filt\n",
       "2 1006624 | fastqc_per_sample | R2_dedup_qual_filt\n",
       "3 1006625 | fastqc_per_sample | R1_dedup_qual_filt\n",
       "  FastQC_mqc.generalstats.avg_sequence_length\n",
       "1 149.1878                                   \n",
       "2 148.9133                                   \n",
       "3 148.9882                                   \n",
       "  FastQC_mqc.generalstats.percent_fails FastQC_mqc.generalstats.percent_gc\n",
       "1 9.090909                              45                                \n",
       "2 9.090909                              45                                \n",
       "3 9.090909                              46                                \n",
       "  FastQC_mqc.generalstats.total_sequences\n",
       "1 3481090                                \n",
       "2 3481090                                \n",
       "3 2126869                                \n",
       "  FastQC_mqc.generalstats.percent_duplicates SampleID  RunID  \n",
       "1 7.372846                                   ID1006624 Run0083\n",
       "2 7.327216                                   ID1006624 Run0083\n",
       "3 6.647899                                   ID1006625 Run0083"
      ]
     },
     "metadata": {},
     "output_type": "display_data"
    }
   ],
   "source": [
    "run83_report = read.delim(run83_report_file, sep='\\t') %>%\n",
    "    mutate(SampleID = gsub('\\\\|.+', '', Sample),\n",
    "           SampleID = gsub('^([0-9]+)', 'ID\\\\1', SampleID),\n",
    "           SampleID = gsub(' ', '', SampleID),\n",
    "           RunID = 'Run0083') \n",
    "run83_report %>% status"
   ]
  },
  {
   "cell_type": "code",
   "execution_count": 124,
   "metadata": {
    "ExecuteTime": {
     "end_time": "2018-03-17T12:08:07.743861Z",
     "start_time": "2018-03-17T12:08:07.627Z"
    }
   },
   "outputs": [
    {
     "name": "stdout",
     "output_type": "stream",
     "text": [
      "[1] 262   8\n"
     ]
    },
    {
     "data": {
      "text/html": [
       "<table>\n",
       "<thead><tr><th scope=col>Sample</th><th scope=col>FastQC_mqc.generalstats.total_sequences</th><th scope=col>FastQC_mqc.generalstats.percent_gc</th><th scope=col>FastQC_mqc.generalstats.percent_fails</th><th scope=col>FastQC_mqc.generalstats.percent_duplicates</th><th scope=col>FastQC_mqc.generalstats.avg_sequence_length</th><th scope=col>SampleID</th><th scope=col>RunID</th></tr></thead>\n",
       "<tbody>\n",
       "\t<tr><td>1006624 | fastqc_per_sample | R1_dedup_qual_filt</td><td>11139372                                        </td><td>46                                              </td><td>9.090909                                        </td><td>15.02083                                        </td><td>149.1375                                        </td><td>ID1006624                                       </td><td>Run0091                                         </td></tr>\n",
       "\t<tr><td>1006624 | fastqc_per_sample | R2_dedup_qual_filt</td><td>11139372                                        </td><td>46                                              </td><td>9.090909                                        </td><td>15.31624                                        </td><td>148.8655                                        </td><td>ID1006624                                       </td><td>Run0091                                         </td></tr>\n",
       "\t<tr><td>1006625 | fastqc_per_sample | R1_dedup_qual_filt</td><td> 6763718                                        </td><td>46                                              </td><td>9.090909                                        </td><td>14.94901                                        </td><td>148.9407                                        </td><td>ID1006625                                       </td><td>Run0091                                         </td></tr>\n",
       "</tbody>\n",
       "</table>\n"
      ],
      "text/latex": [
       "\\begin{tabular}{r|llllllll}\n",
       " Sample & FastQC\\_mqc.generalstats.total\\_sequences & FastQC\\_mqc.generalstats.percent\\_gc & FastQC\\_mqc.generalstats.percent\\_fails & FastQC\\_mqc.generalstats.percent\\_duplicates & FastQC\\_mqc.generalstats.avg\\_sequence\\_length & SampleID & RunID\\\\\n",
       "\\hline\n",
       "\t 1006624 \\textbar{} fastqc\\_per\\_sample \\textbar{} R1\\_dedup\\_qual\\_filt & 11139372                                                                       & 46                                                                             & 9.090909                                                                       & 15.02083                                                                       & 149.1375                                                                       & ID1006624                                                                      & Run0091                                                                       \\\\\n",
       "\t 1006624 \\textbar{} fastqc\\_per\\_sample \\textbar{} R2\\_dedup\\_qual\\_filt & 11139372                                                                       & 46                                                                             & 9.090909                                                                       & 15.31624                                                                       & 148.8655                                                                       & ID1006624                                                                      & Run0091                                                                       \\\\\n",
       "\t 1006625 \\textbar{} fastqc\\_per\\_sample \\textbar{} R1\\_dedup\\_qual\\_filt &  6763718                                                                       & 46                                                                             & 9.090909                                                                       & 14.94901                                                                       & 148.9407                                                                       & ID1006625                                                                      & Run0091                                                                       \\\\\n",
       "\\end{tabular}\n"
      ],
      "text/markdown": [
       "\n",
       "Sample | FastQC_mqc.generalstats.total_sequences | FastQC_mqc.generalstats.percent_gc | FastQC_mqc.generalstats.percent_fails | FastQC_mqc.generalstats.percent_duplicates | FastQC_mqc.generalstats.avg_sequence_length | SampleID | RunID | \n",
       "|---|---|---|\n",
       "| 1006624 | fastqc_per_sample | R1_dedup_qual_filt | 11139372                                         | 46                                               | 9.090909                                         | 15.02083                                         | 149.1375                                         | ID1006624                                        | Run0091                                          | \n",
       "| 1006624 | fastqc_per_sample | R2_dedup_qual_filt | 11139372                                         | 46                                               | 9.090909                                         | 15.31624                                         | 148.8655                                         | ID1006624                                        | Run0091                                          | \n",
       "| 1006625 | fastqc_per_sample | R1_dedup_qual_filt |  6763718                                         | 46                                               | 9.090909                                         | 14.94901                                         | 148.9407                                         | ID1006625                                        | Run0091                                          | \n",
       "\n",
       "\n"
      ],
      "text/plain": [
       "  Sample                                          \n",
       "1 1006624 | fastqc_per_sample | R1_dedup_qual_filt\n",
       "2 1006624 | fastqc_per_sample | R2_dedup_qual_filt\n",
       "3 1006625 | fastqc_per_sample | R1_dedup_qual_filt\n",
       "  FastQC_mqc.generalstats.total_sequences FastQC_mqc.generalstats.percent_gc\n",
       "1 11139372                                46                                \n",
       "2 11139372                                46                                \n",
       "3  6763718                                46                                \n",
       "  FastQC_mqc.generalstats.percent_fails\n",
       "1 9.090909                             \n",
       "2 9.090909                             \n",
       "3 9.090909                             \n",
       "  FastQC_mqc.generalstats.percent_duplicates\n",
       "1 15.02083                                  \n",
       "2 15.31624                                  \n",
       "3 14.94901                                  \n",
       "  FastQC_mqc.generalstats.avg_sequence_length SampleID  RunID  \n",
       "1 149.1375                                    ID1006624 Run0091\n",
       "2 148.8655                                    ID1006624 Run0091\n",
       "3 148.9407                                    ID1006625 Run0091"
      ]
     },
     "metadata": {},
     "output_type": "display_data"
    }
   ],
   "source": [
    "run91_report = read.delim(run91_report_file, sep='\\t') %>%\n",
    "    mutate(SampleID = gsub('\\\\|.+', '', Sample),\n",
    "           SampleID = gsub('^([0-9]+)', 'ID\\\\1', SampleID),\n",
    "           SampleID = gsub(' ', '', SampleID),\n",
    "           RunID = 'Run0091')\n",
    "run91_report %>% status"
   ]
  },
  {
   "cell_type": "markdown",
   "metadata": {},
   "source": [
    "## Format"
   ]
  },
  {
   "cell_type": "code",
   "execution_count": 125,
   "metadata": {
    "ExecuteTime": {
     "end_time": "2018-03-17T12:08:08.770795Z",
     "start_time": "2018-03-17T12:08:08.665Z"
    }
   },
   "outputs": [
    {
     "name": "stdout",
     "output_type": "stream",
     "text": [
      "[1] 524   8\n"
     ]
    },
    {
     "data": {
      "text/html": [
       "<table>\n",
       "<thead><tr><th scope=col>Sample</th><th scope=col>FastQC_avg_sequence_length</th><th scope=col>FastQC_percent_fails</th><th scope=col>FastQC_percent_gc</th><th scope=col>FastQC_total_sequences</th><th scope=col>FastQC_percent_duplicates</th><th scope=col>SampleID</th><th scope=col>RunID</th></tr></thead>\n",
       "<tbody>\n",
       "\t<tr><td>1006624 | fastqc_per_sample | R1_dedup_qual_filt</td><td>149.1878                                        </td><td>9.090909                                        </td><td>45                                              </td><td>3481090                                         </td><td>7.372846                                        </td><td>ID1006624                                       </td><td>Run0083                                         </td></tr>\n",
       "\t<tr><td>1006624 | fastqc_per_sample | R2_dedup_qual_filt</td><td>148.9133                                        </td><td>9.090909                                        </td><td>45                                              </td><td>3481090                                         </td><td>7.327216                                        </td><td>ID1006624                                       </td><td>Run0083                                         </td></tr>\n",
       "\t<tr><td>1006625 | fastqc_per_sample | R1_dedup_qual_filt</td><td>148.9882                                        </td><td>9.090909                                        </td><td>46                                              </td><td>2126869                                         </td><td>6.647899                                        </td><td>ID1006625                                       </td><td>Run0083                                         </td></tr>\n",
       "</tbody>\n",
       "</table>\n"
      ],
      "text/latex": [
       "\\begin{tabular}{r|llllllll}\n",
       " Sample & FastQC\\_avg\\_sequence\\_length & FastQC\\_percent\\_fails & FastQC\\_percent\\_gc & FastQC\\_total\\_sequences & FastQC\\_percent\\_duplicates & SampleID & RunID\\\\\n",
       "\\hline\n",
       "\t 1006624 \\textbar{} fastqc\\_per\\_sample \\textbar{} R1\\_dedup\\_qual\\_filt & 149.1878                                                                       & 9.090909                                                                       & 45                                                                             & 3481090                                                                        & 7.372846                                                                       & ID1006624                                                                      & Run0083                                                                       \\\\\n",
       "\t 1006624 \\textbar{} fastqc\\_per\\_sample \\textbar{} R2\\_dedup\\_qual\\_filt & 148.9133                                                                       & 9.090909                                                                       & 45                                                                             & 3481090                                                                        & 7.327216                                                                       & ID1006624                                                                      & Run0083                                                                       \\\\\n",
       "\t 1006625 \\textbar{} fastqc\\_per\\_sample \\textbar{} R1\\_dedup\\_qual\\_filt & 148.9882                                                                       & 9.090909                                                                       & 46                                                                             & 2126869                                                                        & 6.647899                                                                       & ID1006625                                                                      & Run0083                                                                       \\\\\n",
       "\\end{tabular}\n"
      ],
      "text/markdown": [
       "\n",
       "Sample | FastQC_avg_sequence_length | FastQC_percent_fails | FastQC_percent_gc | FastQC_total_sequences | FastQC_percent_duplicates | SampleID | RunID | \n",
       "|---|---|---|\n",
       "| 1006624 | fastqc_per_sample | R1_dedup_qual_filt | 149.1878                                         | 9.090909                                         | 45                                               | 3481090                                          | 7.372846                                         | ID1006624                                        | Run0083                                          | \n",
       "| 1006624 | fastqc_per_sample | R2_dedup_qual_filt | 148.9133                                         | 9.090909                                         | 45                                               | 3481090                                          | 7.327216                                         | ID1006624                                        | Run0083                                          | \n",
       "| 1006625 | fastqc_per_sample | R1_dedup_qual_filt | 148.9882                                         | 9.090909                                         | 46                                               | 2126869                                          | 6.647899                                         | ID1006625                                        | Run0083                                          | \n",
       "\n",
       "\n"
      ],
      "text/plain": [
       "  Sample                                           FastQC_avg_sequence_length\n",
       "1 1006624 | fastqc_per_sample | R1_dedup_qual_filt 149.1878                  \n",
       "2 1006624 | fastqc_per_sample | R2_dedup_qual_filt 148.9133                  \n",
       "3 1006625 | fastqc_per_sample | R1_dedup_qual_filt 148.9882                  \n",
       "  FastQC_percent_fails FastQC_percent_gc FastQC_total_sequences\n",
       "1 9.090909             45                3481090               \n",
       "2 9.090909             45                3481090               \n",
       "3 9.090909             46                2126869               \n",
       "  FastQC_percent_duplicates SampleID  RunID  \n",
       "1 7.372846                  ID1006624 Run0083\n",
       "2 7.327216                  ID1006624 Run0083\n",
       "3 6.647899                  ID1006625 Run0083"
      ]
     },
     "metadata": {},
     "output_type": "display_data"
    }
   ],
   "source": [
    "report = rbind(run83_report, run91_report) %>%\n",
    "    mutate(SampleID = gsub('^([0-9]+)', 'ID\\\\1', SampleID))\n",
    "colnames(report) = gsub('mqc\\\\.generalstats\\\\.', '', colnames(report))\n",
    "report %>% status"
   ]
  },
  {
   "cell_type": "code",
   "execution_count": 126,
   "metadata": {
    "ExecuteTime": {
     "end_time": "2018-03-17T12:08:08.899183Z",
     "start_time": "2018-03-17T12:08:08.812Z"
    }
   },
   "outputs": [
    {
     "name": "stdout",
     "output_type": "stream",
     "text": [
      "[1] 131\n",
      "[1] 131\n",
      "[1] 131\n"
     ]
    }
   ],
   "source": [
    "# checking number of samples\n",
    "run83_report$SampleID %>% unique %>% length %>% print\n",
    "run91_report$SampleID %>% unique %>% length %>% print\n",
    "report$SampleID %>% unique %>% length %>% print"
   ]
  },
  {
   "cell_type": "code",
   "execution_count": 127,
   "metadata": {
    "ExecuteTime": {
     "end_time": "2018-03-17T12:08:09.104903Z",
     "start_time": "2018-03-17T12:08:09.000Z"
    }
   },
   "outputs": [
    {
     "name": "stdout",
     "output_type": "stream",
     "text": [
      "character(0)\n",
      "character(0)\n",
      "----\n",
      "character(0)\n",
      "character(0)\n"
     ]
    }
   ],
   "source": [
    "setdiff(report$SampleID, run83_report$SampleID) %>% print\n",
    "setdiff(report$SampleID, run91_report$SampleID) %>% print\n",
    "cat('----\\n')\n",
    "setdiff(run83_report$SampleID, run91_report$SampleID) %>% print\n",
    "setdiff(run91_report$SampleID, run83_report$SampleID) %>% print"
   ]
  },
  {
   "cell_type": "markdown",
   "metadata": {},
   "source": [
    "## Filter"
   ]
  },
  {
   "cell_type": "code",
   "execution_count": 128,
   "metadata": {
    "ExecuteTime": {
     "end_time": "2018-03-17T12:08:10.324686Z",
     "start_time": "2018-03-17T12:08:10.234Z"
    }
   },
   "outputs": [
    {
     "name": "stdout",
     "output_type": "stream",
     "text": [
      "[1] 516   8\n"
     ]
    },
    {
     "data": {
      "text/html": [
       "<table>\n",
       "<thead><tr><th scope=col>Sample</th><th scope=col>FastQC_avg_sequence_length</th><th scope=col>FastQC_percent_fails</th><th scope=col>FastQC_percent_gc</th><th scope=col>FastQC_total_sequences</th><th scope=col>FastQC_percent_duplicates</th><th scope=col>SampleID</th><th scope=col>RunID</th></tr></thead>\n",
       "<tbody>\n",
       "\t<tr><td>1006624 | fastqc_per_sample | R1_dedup_qual_filt</td><td>149.1878                                        </td><td>9.090909                                        </td><td>45                                              </td><td>3481090                                         </td><td>7.372846                                        </td><td>ID1006624                                       </td><td>Run0083                                         </td></tr>\n",
       "\t<tr><td>1006624 | fastqc_per_sample | R2_dedup_qual_filt</td><td>148.9133                                        </td><td>9.090909                                        </td><td>45                                              </td><td>3481090                                         </td><td>7.327216                                        </td><td>ID1006624                                       </td><td>Run0083                                         </td></tr>\n",
       "\t<tr><td>1006625 | fastqc_per_sample | R1_dedup_qual_filt</td><td>148.9882                                        </td><td>9.090909                                        </td><td>46                                              </td><td>2126869                                         </td><td>6.647899                                        </td><td>ID1006625                                       </td><td>Run0083                                         </td></tr>\n",
       "</tbody>\n",
       "</table>\n"
      ],
      "text/latex": [
       "\\begin{tabular}{r|llllllll}\n",
       " Sample & FastQC\\_avg\\_sequence\\_length & FastQC\\_percent\\_fails & FastQC\\_percent\\_gc & FastQC\\_total\\_sequences & FastQC\\_percent\\_duplicates & SampleID & RunID\\\\\n",
       "\\hline\n",
       "\t 1006624 \\textbar{} fastqc\\_per\\_sample \\textbar{} R1\\_dedup\\_qual\\_filt & 149.1878                                                                       & 9.090909                                                                       & 45                                                                             & 3481090                                                                        & 7.372846                                                                       & ID1006624                                                                      & Run0083                                                                       \\\\\n",
       "\t 1006624 \\textbar{} fastqc\\_per\\_sample \\textbar{} R2\\_dedup\\_qual\\_filt & 148.9133                                                                       & 9.090909                                                                       & 45                                                                             & 3481090                                                                        & 7.327216                                                                       & ID1006624                                                                      & Run0083                                                                       \\\\\n",
       "\t 1006625 \\textbar{} fastqc\\_per\\_sample \\textbar{} R1\\_dedup\\_qual\\_filt & 148.9882                                                                       & 9.090909                                                                       & 46                                                                             & 2126869                                                                        & 6.647899                                                                       & ID1006625                                                                      & Run0083                                                                       \\\\\n",
       "\\end{tabular}\n"
      ],
      "text/markdown": [
       "\n",
       "Sample | FastQC_avg_sequence_length | FastQC_percent_fails | FastQC_percent_gc | FastQC_total_sequences | FastQC_percent_duplicates | SampleID | RunID | \n",
       "|---|---|---|\n",
       "| 1006624 | fastqc_per_sample | R1_dedup_qual_filt | 149.1878                                         | 9.090909                                         | 45                                               | 3481090                                          | 7.372846                                         | ID1006624                                        | Run0083                                          | \n",
       "| 1006624 | fastqc_per_sample | R2_dedup_qual_filt | 148.9133                                         | 9.090909                                         | 45                                               | 3481090                                          | 7.327216                                         | ID1006624                                        | Run0083                                          | \n",
       "| 1006625 | fastqc_per_sample | R1_dedup_qual_filt | 148.9882                                         | 9.090909                                         | 46                                               | 2126869                                          | 6.647899                                         | ID1006625                                        | Run0083                                          | \n",
       "\n",
       "\n"
      ],
      "text/plain": [
       "  Sample                                           FastQC_avg_sequence_length\n",
       "1 1006624 | fastqc_per_sample | R1_dedup_qual_filt 149.1878                  \n",
       "2 1006624 | fastqc_per_sample | R2_dedup_qual_filt 148.9133                  \n",
       "3 1006625 | fastqc_per_sample | R1_dedup_qual_filt 148.9882                  \n",
       "  FastQC_percent_fails FastQC_percent_gc FastQC_total_sequences\n",
       "1 9.090909             45                3481090               \n",
       "2 9.090909             45                3481090               \n",
       "3 9.090909             46                2126869               \n",
       "  FastQC_percent_duplicates SampleID  RunID  \n",
       "1 7.372846                  ID1006624 Run0083\n",
       "2 7.327216                  ID1006624 Run0083\n",
       "3 6.647899                  ID1006625 Run0083"
      ]
     },
     "metadata": {},
     "output_type": "display_data"
    }
   ],
   "source": [
    "# filtering out controls\n",
    "is_control = c('mock', 'water') \n",
    "report = report %>%\n",
    "    filter(!SampleID %in% is_control)\n",
    "report %>% status"
   ]
  },
  {
   "cell_type": "markdown",
   "metadata": {},
   "source": [
    "# Summary"
   ]
  },
  {
   "cell_type": "markdown",
   "metadata": {},
   "source": [
    "## Total sequence"
   ]
  },
  {
   "cell_type": "code",
   "execution_count": 129,
   "metadata": {
    "ExecuteTime": {
     "end_time": "2018-03-17T12:08:11.443132Z",
     "start_time": "2018-03-17T12:08:11.368Z"
    }
   },
   "outputs": [
    {
     "name": "stdout",
     "output_type": "stream",
     "text": [
      "Total bp of sequence: 3.77235e+11 \n"
     ]
    }
   ],
   "source": [
    "total_bp = report %>% \n",
    "    mutate(bp = FastQC_total_sequences * FastQC_avg_sequence_length) %>%\n",
    "    .$bp %>% sum\n",
    "\n",
    "cat('Total bp of sequence:', total_bp, '\\n')"
   ]
  },
  {
   "cell_type": "code",
   "execution_count": 130,
   "metadata": {
    "ExecuteTime": {
     "end_time": "2018-03-17T12:08:12.603424Z",
     "start_time": "2018-03-17T12:08:12.544Z"
    }
   },
   "outputs": [
    {
     "name": "stdout",
     "output_type": "stream",
     "text": [
      "Total Mbp of sequence: 377235 \n"
     ]
    }
   ],
   "source": [
    "cat('Total Mbp of sequence:', total_bp / 1e6, '\\n')"
   ]
  },
  {
   "cell_type": "code",
   "execution_count": 131,
   "metadata": {
    "ExecuteTime": {
     "end_time": "2018-03-17T12:08:12.850348Z",
     "start_time": "2018-03-17T12:08:12.795Z"
    }
   },
   "outputs": [
    {
     "name": "stdout",
     "output_type": "stream",
     "text": [
      "Total Tbp of sequence: 0.377235 \n"
     ]
    }
   ],
   "source": [
    "cat('Total Tbp of sequence:', total_bp / 1e12, '\\n')"
   ]
  },
  {
   "cell_type": "markdown",
   "metadata": {},
   "source": [
    "## Total post-QC reads"
   ]
  },
  {
   "cell_type": "code",
   "execution_count": 147,
   "metadata": {
    "ExecuteTime": {
     "end_time": "2018-03-17T15:56:54.868278Z",
     "start_time": "2018-03-17T15:56:54.795Z"
    }
   },
   "outputs": [
    {
     "name": "stdout",
     "output_type": "stream",
     "text": [
      "Number of post-QC paired-end reads: 1266473914 \n"
     ]
    }
   ],
   "source": [
    "x = report$FastQC_total_sequences %>% sum\n",
    "cat('Number of post-QC paired-end reads:', x / 2, '\\n')"
   ]
  },
  {
   "cell_type": "code",
   "execution_count": 132,
   "metadata": {
    "ExecuteTime": {
     "end_time": "2018-03-17T12:08:15.184720Z",
     "start_time": "2018-03-17T12:08:14.041Z"
    }
   },
   "outputs": [
    {
     "name": "stderr",
     "output_type": "stream",
     "text": [
      "`stat_bin()` using `bins = 30`. Pick better value with `binwidth`.\n"
     ]
    },
    {
     "name": "stdout",
     "output_type": "stream",
     "text": [
      "File written: /ebio/abt3_projects/vadinCA11/notebooks/metagenome/assembly/HiSeqRuns83-91/.figures/fig-18998139450035f1694efed0.pdf \n"
     ]
    },
    {
     "name": "stderr",
     "output_type": "stream",
     "text": [
      "`stat_bin()` using `bins = 30`. Pick better value with `binwidth`.\n"
     ]
    },
    {
     "data": {
      "image/png": "[encoded data removed]",
      "text/plain": [
       "plot without title"
      ]
     },
     "metadata": {},
     "output_type": "display_data"
    }
   ],
   "source": [
    "p = ggplot(report, aes(FastQC_total_sequences / 2)) +\n",
    "    geom_histogram() +\n",
    "    labs(x='# of paired-end reads', y='# of samples') +\n",
    "    theme_bw()\n",
    "\n",
    "options(repr.plot.width=5, repr.plot.height=3)\n",
    "plot_write(p)"
   ]
  },
  {
   "cell_type": "markdown",
   "metadata": {},
   "source": [
    "# Creating samples file for assembly"
   ]
  },
  {
   "cell_type": "code",
   "execution_count": 133,
   "metadata": {
    "ExecuteTime": {
     "end_time": "2018-03-17T12:08:15.419428Z",
     "start_time": "2018-03-17T12:08:15.347Z"
    }
   },
   "outputs": [
    {
     "name": "stdout",
     "output_type": "stream",
     "text": [
      "[1] 262   4\n"
     ]
    },
    {
     "data": {
      "text/html": [
       "<table>\n",
       "<thead><tr><th scope=col>Sample</th><th scope=col>Read1</th><th scope=col>Read2</th><th scope=col>RunID</th></tr></thead>\n",
       "<tbody>\n",
       "\t<tr><td>ID50491                                                                                               </td><td>/ebio/abt3_projects/vadinCA11/data/metagenome/HiSeqRun0083/LLMGQC/final/50491/R1_dedup_qual_filt.fq.gz</td><td>/ebio/abt3_projects/vadinCA11/data/metagenome/HiSeqRun0083/LLMGQC/final/50491/R2_dedup_qual_filt.fq.gz</td><td>83                                                                                                    </td></tr>\n",
       "\t<tr><td>ID1171                                                                                                </td><td>/ebio/abt3_projects/vadinCA11/data/metagenome/HiSeqRun0083/LLMGQC/final/1171/R1_dedup_qual_filt.fq.gz </td><td>/ebio/abt3_projects/vadinCA11/data/metagenome/HiSeqRun0083/LLMGQC/final/1171/R2_dedup_qual_filt.fq.gz </td><td>83                                                                                                    </td></tr>\n",
       "\t<tr><td>ID32031                                                                                               </td><td>/ebio/abt3_projects/vadinCA11/data/metagenome/HiSeqRun0083/LLMGQC/final/32031/R1_dedup_qual_filt.fq.gz</td><td>/ebio/abt3_projects/vadinCA11/data/metagenome/HiSeqRun0083/LLMGQC/final/32031/R2_dedup_qual_filt.fq.gz</td><td>83                                                                                                    </td></tr>\n",
       "</tbody>\n",
       "</table>\n"
      ],
      "text/latex": [
       "\\begin{tabular}{r|llll}\n",
       " Sample & Read1 & Read2 & RunID\\\\\n",
       "\\hline\n",
       "\t ID50491                                                                                                        & /ebio/abt3\\_projects/vadinCA11/data/metagenome/HiSeqRun0083/LLMGQC/final/50491/R1\\_dedup\\_qual\\_filt.fq.gz & /ebio/abt3\\_projects/vadinCA11/data/metagenome/HiSeqRun0083/LLMGQC/final/50491/R2\\_dedup\\_qual\\_filt.fq.gz & 83                                                                                                            \\\\\n",
       "\t ID1171                                                                                                         & /ebio/abt3\\_projects/vadinCA11/data/metagenome/HiSeqRun0083/LLMGQC/final/1171/R1\\_dedup\\_qual\\_filt.fq.gz  & /ebio/abt3\\_projects/vadinCA11/data/metagenome/HiSeqRun0083/LLMGQC/final/1171/R2\\_dedup\\_qual\\_filt.fq.gz  & 83                                                                                                            \\\\\n",
       "\t ID32031                                                                                                        & /ebio/abt3\\_projects/vadinCA11/data/metagenome/HiSeqRun0083/LLMGQC/final/32031/R1\\_dedup\\_qual\\_filt.fq.gz & /ebio/abt3\\_projects/vadinCA11/data/metagenome/HiSeqRun0083/LLMGQC/final/32031/R2\\_dedup\\_qual\\_filt.fq.gz & 83                                                                                                            \\\\\n",
       "\\end{tabular}\n"
      ],
      "text/markdown": [
       "\n",
       "Sample | Read1 | Read2 | RunID | \n",
       "|---|---|---|\n",
       "| ID50491                                                                                                | /ebio/abt3_projects/vadinCA11/data/metagenome/HiSeqRun0083/LLMGQC/final/50491/R1_dedup_qual_filt.fq.gz | /ebio/abt3_projects/vadinCA11/data/metagenome/HiSeqRun0083/LLMGQC/final/50491/R2_dedup_qual_filt.fq.gz | 83                                                                                                     | \n",
       "| ID1171                                                                                                 | /ebio/abt3_projects/vadinCA11/data/metagenome/HiSeqRun0083/LLMGQC/final/1171/R1_dedup_qual_filt.fq.gz  | /ebio/abt3_projects/vadinCA11/data/metagenome/HiSeqRun0083/LLMGQC/final/1171/R2_dedup_qual_filt.fq.gz  | 83                                                                                                     | \n",
       "| ID32031                                                                                                | /ebio/abt3_projects/vadinCA11/data/metagenome/HiSeqRun0083/LLMGQC/final/32031/R1_dedup_qual_filt.fq.gz | /ebio/abt3_projects/vadinCA11/data/metagenome/HiSeqRun0083/LLMGQC/final/32031/R2_dedup_qual_filt.fq.gz | 83                                                                                                     | \n",
       "\n",
       "\n"
      ],
      "text/plain": [
       "  Sample \n",
       "1 ID50491\n",
       "2 ID1171 \n",
       "3 ID32031\n",
       "  Read1                                                                                                 \n",
       "1 /ebio/abt3_projects/vadinCA11/data/metagenome/HiSeqRun0083/LLMGQC/final/50491/R1_dedup_qual_filt.fq.gz\n",
       "2 /ebio/abt3_projects/vadinCA11/data/metagenome/HiSeqRun0083/LLMGQC/final/1171/R1_dedup_qual_filt.fq.gz \n",
       "3 /ebio/abt3_projects/vadinCA11/data/metagenome/HiSeqRun0083/LLMGQC/final/32031/R1_dedup_qual_filt.fq.gz\n",
       "  Read2                                                                                                 \n",
       "1 /ebio/abt3_projects/vadinCA11/data/metagenome/HiSeqRun0083/LLMGQC/final/50491/R2_dedup_qual_filt.fq.gz\n",
       "2 /ebio/abt3_projects/vadinCA11/data/metagenome/HiSeqRun0083/LLMGQC/final/1171/R2_dedup_qual_filt.fq.gz \n",
       "3 /ebio/abt3_projects/vadinCA11/data/metagenome/HiSeqRun0083/LLMGQC/final/32031/R2_dedup_qual_filt.fq.gz\n",
       "  RunID\n",
       "1 83   \n",
       "2 83   \n",
       "3 83   "
      ]
     },
     "metadata": {},
     "output_type": "display_data"
    }
   ],
   "source": [
    "samples = rbind(run83_samp %>% mutate(RunID = 83), \n",
    "                run91_samp %>% mutate(RunID = 91))\n",
    "samples %>% status"
   ]
  },
  {
   "cell_type": "code",
   "execution_count": 134,
   "metadata": {
    "ExecuteTime": {
     "end_time": "2018-03-17T12:08:17.154046Z",
     "start_time": "2018-03-17T12:08:17.089Z"
    }
   },
   "outputs": [
    {
     "data": {
      "text/plain": [
       "   Min. 1st Qu.  Median    Mean 3rd Qu.    Max. \n",
       "      2       2       2       2       2       2 "
      ]
     },
     "metadata": {},
     "output_type": "display_data"
    }
   ],
   "source": [
    "# should be 2 samples (1 per run)\n",
    "samples$Sample %>% table %>% as.vector %>% summary"
   ]
  },
  {
   "cell_type": "code",
   "execution_count": 137,
   "metadata": {
    "ExecuteTime": {
     "end_time": "2018-03-17T12:08:43.452207Z",
     "start_time": "2018-03-17T12:08:43.400Z"
    }
   },
   "outputs": [
    {
     "name": "stdout",
     "output_type": "stream",
     "text": [
      "character(0)\n",
      "[1] \"water\" \"mock\" \n"
     ]
    }
   ],
   "source": [
    "# overlap of sample IDs\n",
    "setdiff(report$SampleID, samples$Sample) %>% print\n",
    "setdiff(samples$Sample, report$SampleID) %>% print"
   ]
  },
  {
   "cell_type": "code",
   "execution_count": 139,
   "metadata": {
    "ExecuteTime": {
     "end_time": "2018-03-17T12:09:58.020119Z",
     "start_time": "2018-03-17T12:09:57.447Z"
    }
   },
   "outputs": [
    {
     "name": "stdout",
     "output_type": "stream",
     "text": [
      "   Min. 1st Qu.  Median    Mean 3rd Qu.    Max. \n",
      "      2       2       2       2       2       2 \n",
      "[1] 258   4\n"
     ]
    },
    {
     "data": {
      "text/html": [
       "<table>\n",
       "<thead><tr><th scope=col>Sample</th><th scope=col>Read1</th><th scope=col>Read2</th><th scope=col>RunID</th></tr></thead>\n",
       "<tbody>\n",
       "\t<tr><td>ID1006624                                                                                               </td><td>/ebio/abt3_projects/vadinCA11/data/metagenome/HiSeqRun0083/LLMGQC/final/1006624/R1_dedup_qual_filt.fq.gz</td><td>/ebio/abt3_projects/vadinCA11/data/metagenome/HiSeqRun0083/LLMGQC/final/1006624/R2_dedup_qual_filt.fq.gz</td><td>83                                                                                                      </td></tr>\n",
       "\t<tr><td>ID1006624                                                                                               </td><td>/ebio/abt3_projects/vadinCA11/data/metagenome/HiSeqRun0091/LLMGQC/final/1006624/R1_dedup_qual_filt.fq.gz</td><td>/ebio/abt3_projects/vadinCA11/data/metagenome/HiSeqRun0091/LLMGQC/final/1006624/R2_dedup_qual_filt.fq.gz</td><td>91                                                                                                      </td></tr>\n",
       "\t<tr><td>ID1006625                                                                                               </td><td>/ebio/abt3_projects/vadinCA11/data/metagenome/HiSeqRun0083/LLMGQC/final/1006625/R1_dedup_qual_filt.fq.gz</td><td>/ebio/abt3_projects/vadinCA11/data/metagenome/HiSeqRun0083/LLMGQC/final/1006625/R2_dedup_qual_filt.fq.gz</td><td>83                                                                                                      </td></tr>\n",
       "</tbody>\n",
       "</table>\n"
      ],
      "text/latex": [
       "\\begin{tabular}{r|llll}\n",
       " Sample & Read1 & Read2 & RunID\\\\\n",
       "\\hline\n",
       "\t ID1006624                                                                                                        & /ebio/abt3\\_projects/vadinCA11/data/metagenome/HiSeqRun0083/LLMGQC/final/1006624/R1\\_dedup\\_qual\\_filt.fq.gz & /ebio/abt3\\_projects/vadinCA11/data/metagenome/HiSeqRun0083/LLMGQC/final/1006624/R2\\_dedup\\_qual\\_filt.fq.gz & 83                                                                                                              \\\\\n",
       "\t ID1006624                                                                                                        & /ebio/abt3\\_projects/vadinCA11/data/metagenome/HiSeqRun0091/LLMGQC/final/1006624/R1\\_dedup\\_qual\\_filt.fq.gz & /ebio/abt3\\_projects/vadinCA11/data/metagenome/HiSeqRun0091/LLMGQC/final/1006624/R2\\_dedup\\_qual\\_filt.fq.gz & 91                                                                                                              \\\\\n",
       "\t ID1006625                                                                                                        & /ebio/abt3\\_projects/vadinCA11/data/metagenome/HiSeqRun0083/LLMGQC/final/1006625/R1\\_dedup\\_qual\\_filt.fq.gz & /ebio/abt3\\_projects/vadinCA11/data/metagenome/HiSeqRun0083/LLMGQC/final/1006625/R2\\_dedup\\_qual\\_filt.fq.gz & 83                                                                                                              \\\\\n",
       "\\end{tabular}\n"
      ],
      "text/markdown": [
       "\n",
       "Sample | Read1 | Read2 | RunID | \n",
       "|---|---|---|\n",
       "| ID1006624                                                                                                | /ebio/abt3_projects/vadinCA11/data/metagenome/HiSeqRun0083/LLMGQC/final/1006624/R1_dedup_qual_filt.fq.gz | /ebio/abt3_projects/vadinCA11/data/metagenome/HiSeqRun0083/LLMGQC/final/1006624/R2_dedup_qual_filt.fq.gz | 83                                                                                                       | \n",
       "| ID1006624                                                                                                | /ebio/abt3_projects/vadinCA11/data/metagenome/HiSeqRun0091/LLMGQC/final/1006624/R1_dedup_qual_filt.fq.gz | /ebio/abt3_projects/vadinCA11/data/metagenome/HiSeqRun0091/LLMGQC/final/1006624/R2_dedup_qual_filt.fq.gz | 91                                                                                                       | \n",
       "| ID1006625                                                                                                | /ebio/abt3_projects/vadinCA11/data/metagenome/HiSeqRun0083/LLMGQC/final/1006625/R1_dedup_qual_filt.fq.gz | /ebio/abt3_projects/vadinCA11/data/metagenome/HiSeqRun0083/LLMGQC/final/1006625/R2_dedup_qual_filt.fq.gz | 83                                                                                                       | \n",
       "\n",
       "\n"
      ],
      "text/plain": [
       "  Sample   \n",
       "1 ID1006624\n",
       "2 ID1006624\n",
       "3 ID1006625\n",
       "  Read1                                                                                                   \n",
       "1 /ebio/abt3_projects/vadinCA11/data/metagenome/HiSeqRun0083/LLMGQC/final/1006624/R1_dedup_qual_filt.fq.gz\n",
       "2 /ebio/abt3_projects/vadinCA11/data/metagenome/HiSeqRun0091/LLMGQC/final/1006624/R1_dedup_qual_filt.fq.gz\n",
       "3 /ebio/abt3_projects/vadinCA11/data/metagenome/HiSeqRun0083/LLMGQC/final/1006625/R1_dedup_qual_filt.fq.gz\n",
       "  Read2                                                                                                   \n",
       "1 /ebio/abt3_projects/vadinCA11/data/metagenome/HiSeqRun0083/LLMGQC/final/1006624/R2_dedup_qual_filt.fq.gz\n",
       "2 /ebio/abt3_projects/vadinCA11/data/metagenome/HiSeqRun0091/LLMGQC/final/1006624/R2_dedup_qual_filt.fq.gz\n",
       "3 /ebio/abt3_projects/vadinCA11/data/metagenome/HiSeqRun0083/LLMGQC/final/1006625/R2_dedup_qual_filt.fq.gz\n",
       "  RunID\n",
       "1 83   \n",
       "2 91   \n",
       "3 83   "
      ]
     },
     "metadata": {},
     "output_type": "display_data"
    }
   ],
   "source": [
    "samples = samples %>%\n",
    "    semi_join(report, c('Sample'='SampleID'))\n",
    "\n",
    "samples$Sample %>% table %>% unique %>% as.vector %>% summary %>% print\n",
    "samples %>% status"
   ]
  },
  {
   "cell_type": "markdown",
   "metadata": {},
   "source": [
    "## Writing samples file"
   ]
  },
  {
   "cell_type": "code",
   "execution_count": 144,
   "metadata": {
    "ExecuteTime": {
     "end_time": "2018-03-17T12:11:51.583937Z",
     "start_time": "2018-03-17T12:11:51.533Z"
    }
   },
   "outputs": [
    {
     "name": "stdout",
     "output_type": "stream",
     "text": [
      "File written: /ebio/abt3_projects/vadinCA11/data/metagenome/LLMGA/HiSeqRun83-91//samples.txt \n"
     ]
    }
   ],
   "source": [
    "out_file = file.path(work_dir, 'samples.txt')\n",
    "write.table(samples, file=out_file, sep='\\t', quote=FALSE, row.names=FALSE)\n",
    "cat('File written:', out_file, '\\n')"
   ]
  },
  {
   "cell_type": "markdown",
   "metadata": {},
   "source": [
    "# Assessed memory needed"
   ]
  },
  {
   "cell_type": "markdown",
   "metadata": {},
   "source": [
    "Used `est_norm_mem.py` to estimate the memory needed\n",
    "\n",
    "All samples combined: \n",
    "\n",
    "```\n",
    "Sample\tkmers\tmem_Gb\n",
    "all\t41290793438\t496\n",
    "```\n",
    "\n",
    "Each sample (min/max):\n",
    "```\n",
    "min = 4\n",
    "max = 18\n",
    "```"
   ]
  },
  {
   "cell_type": "markdown",
   "metadata": {},
   "source": [
    "# LLMGA run"
   ]
  },
  {
   "cell_type": "markdown",
   "metadata": {},
   "source": [
    "Ran `llmga` from command line (easier for documentation). Process:\n",
    "\n",
    "* cloned llmga repo\n",
    "  * `git clone git@gitlab.tuebingen.mpg.de:leylabmpi/llmga.git`\n",
    "  * version: 0.1.1\n",
    "* created config:\n",
    "  * `config_HiSeqRun83-91.yaml`\n",
    "* ran `llmga`\n",
    "  * `screen -L -S llmga_va ./snakemake_sge.sh config_HiSeqRun83-91.yaml cluster.json $HOME/tmp/LLMGA/SGE_log 20`"
   ]
  },
  {
   "cell_type": "markdown",
   "metadata": {},
   "source": [
    "# sessionInfo"
   ]
  },
  {
   "cell_type": "code",
   "execution_count": 94,
   "metadata": {
    "ExecuteTime": {
     "end_time": "2018-03-17T12:01:44.879225Z",
     "start_time": "2018-03-17T12:01:41.807Z"
    }
   },
   "outputs": [
    {
     "data": {
      "text/plain": [
       "R version 3.3.2 (2016-10-31)\n",
       "Platform: x86_64-pc-linux-gnu (64-bit)\n",
       "Running under: Ubuntu 16.04.4 LTS\n",
       "\n",
       "locale:\n",
       " [1] LC_CTYPE=en_US.UTF-8       LC_NUMERIC=C              \n",
       " [3] LC_TIME=en_US.UTF-8        LC_COLLATE=en_US.UTF-8    \n",
       " [5] LC_MONETARY=en_US.UTF-8    LC_MESSAGES=en_US.UTF-8   \n",
       " [7] LC_PAPER=en_US.UTF-8       LC_NAME=C                 \n",
       " [9] LC_ADDRESS=C               LC_TELEPHONE=C            \n",
       "[11] LC_MEASUREMENT=en_US.UTF-8 LC_IDENTIFICATION=C       \n",
       "\n",
       "attached base packages:\n",
       "[1] stats     graphics  grDevices utils     datasets  methods   base     \n",
       "\n",
       "other attached packages:\n",
       "[1] ggplot2_2.2.1 tidyr_0.6.1   dplyr_0.5.0  \n",
       "\n",
       "loaded via a namespace (and not attached):\n",
       " [1] Rcpp_0.12.13     magrittr_1.5     munsell_0.4.3    uuid_0.1-2      \n",
       " [5] colorspace_1.3-2 R6_2.2.0         stringr_1.2.0    plyr_1.8.4      \n",
       " [9] tools_3.3.2      grid_3.3.2       gtable_0.2.0     DBI_0.6-1       \n",
       "[13] lazyeval_0.2.0   assertthat_0.1   digest_0.6.12    tibble_1.2      \n",
       "[17] crayon_1.3.2     IRdisplay_0.4.4  repr_0.10        IRkernel_0.8.11 \n",
       "[21] evaluate_0.10.1  labeling_0.3     pbdZMQ_0.2-4     stringi_1.1.2   \n",
       "[25] scales_0.4.1     jsonlite_0.9.19 "
      ]
     },
     "metadata": {},
     "output_type": "display_data"
    }
   ],
   "source": [
    "sessionInfo()"
   ]
  },
  {
   "cell_type": "code",
   "execution_count": null,
   "metadata": {},
   "outputs": [],
   "source": []
  }
 ],
 "metadata": {
  "kernelspec": {
   "display_name": "R [conda env:py3_physeq]",
   "language": "R",
   "name": "conda-env-py3_physeq-r"
  },
  "language_info": {
   "codemirror_mode": "r",
   "file_extension": ".r",
   "mimetype": "text/x-r-source",
   "name": "R",
   "pygments_lexer": "r",
   "version": "3.4.1"
  },
  "notify_time": "30",
  "toc": {
   "base_numbering": 1,
   "nav_menu": {},
   "number_sections": true,
   "sideBar": true,
   "skip_h1_title": false,
   "title_cell": "Table of Contents",
   "title_sidebar": "Contents",
   "toc_cell": false,
   "toc_position": {},
   "toc_section_display": "block",
   "toc_window_display": false
  }
 },
 "nbformat": 4,
 "nbformat_minor": 2
}
