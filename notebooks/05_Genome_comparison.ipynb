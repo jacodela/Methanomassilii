{
 "cells": [
  {
   "cell_type": "markdown",
   "metadata": {},
   "source": [
    "# Goal\n",
    "Jacobo de la Cuesta-Zuluaga.\n",
    "\n",
    "Previously, I downloaded all the available *Methanomassiliicoccales* assemblies from NCBI, and ran `CheckM` to determine which were considered at least *substantially complete genomes* (>= 70%) *with low contamination* (<= 5%). Next, I will determine how similar are these assemblies to the **vadinCA11** bin. In this notebook I will do overall similitude tests, using `sourmash` and comparing the average nucleotide identity (ANI) or the average aminoacid identity (AAI). Functional analyses will be performed in a separate notebook."
   ]
  },
  {
   "cell_type": "markdown",
   "metadata": {},
   "source": [
    "# Var"
   ]
  },
  {
   "cell_type": "code",
   "execution_count": 3,
   "metadata": {
    "ExecuteTime": {
     "end_time": "2019-06-05T19:11:19.664275Z",
     "start_time": "2019-06-05T19:11:19.656875Z"
    }
   },
   "outputs": [],
   "source": [
    "# Work dir\n",
    "work_dir = \"/ebio/abt3_projects/vadinCA11/data/V11\"\n",
    "genomes_dir = os.path.join(work_dir, \"genomes\")\n",
    "\n",
    "# vadinCA11 genome bin\n",
    "V11_bin = \"/ebio/abt3_projects/vadinCA11/data/metagenome/LLMGA/HiSeqRun83-91/bin_refine/DAS_Tool//bins_DASTool_bins/metabat2_low_PE.478.contigs.fa\"\n",
    "V11_folder = \"/ebio/abt3_projects/vadinCA11/data/metagenome/LLMGA/HiSeqRun83-91/bin_refine/DAS_Tool//bins_DASTool_bins/\"\n",
    "\n",
    "# List of included genomes and V11\n",
    "included_genomes_file =  os.path.join(work_dir, \"genomes\", \"included_genomes.txt\")\n",
    "included_genomes_dir = os.path.join(work_dir, \"included_genomes\")\n",
    "\n",
    "# Misc\n",
    "quality_env = \"py2_genome_quality\"\n",
    "metacompass_env = \"metacompass\""
   ]
  },
  {
   "cell_type": "markdown",
   "metadata": {},
   "source": [
    "# Init"
   ]
  },
  {
   "cell_type": "code",
   "execution_count": 4,
   "metadata": {
    "ExecuteTime": {
     "end_time": "2019-06-05T19:11:22.004192Z",
     "start_time": "2019-06-05T19:11:21.998332Z"
    }
   },
   "outputs": [],
   "source": [
    "import os\n",
    "import pandas as pd\n",
    "import subprocess"
   ]
  },
  {
   "cell_type": "code",
   "execution_count": 113,
   "metadata": {
    "ExecuteTime": {
     "end_time": "2018-06-18T15:57:54.780473Z",
     "start_time": "2018-06-18T15:57:54.768878Z"
    }
   },
   "outputs": [
    {
     "name": "stdout",
     "output_type": "stream",
     "text": [
      "/ebio/abt3_projects/vadinCA11/data/metagenome/LLMGA/HiSeqRun83-91/bin_refine/DAS_Tool//bins_DASTool_bins/metabat2_low_PE.478.contigs.fa /ebio/abt3_projects/vadinCA11/data/V11/genomes/GCA_000300255.2.fna /ebio/abt3_projects/vadinCA11/data/V11/genomes/GCA_002503545.1.fna /ebio/abt3_projects/vadinCA11/data/V11/genomes/GCA_002495495.1.fna /ebio/abt3_projects/vadinCA11/data/V11/genomes/GCA_002506865.1.fna /ebio/abt3_projects/vadinCA11/data/V11/genomes/GCA_002499085.1.fna /ebio/abt3_projects/vadinCA11/data/V11/genomes/GCA_002494805.1.fna /ebio/abt3_projects/vadinCA11/data/V11/genomes/GCA_002502545.1.fna /ebio/abt3_projects/vadinCA11/data/V11/genomes/GCA_003135935.1_20110800.fna /ebio/abt3_projects/vadinCA11/data/V11/genomes/GCA_000404225.1.fna /ebio/abt3_projects/vadinCA11/data/V11/genomes/GCA_002498765.1.fna /ebio/abt3_projects/vadinCA11/data/V11/genomes/GCA_000800805.1.fna /ebio/abt3_projects/vadinCA11/data/V11/genomes/GCA_002498545.1.fna /ebio/abt3_projects/vadinCA11/data/V11/genomes/GCA_002508625.1.fna /ebio/abt3_projects/vadinCA11/data/V11/genomes/GCA_002497995.1.fna /ebio/abt3_projects/vadinCA11/data/V11/genomes/GCA_002498805.1.fna /ebio/abt3_projects/vadinCA11/data/V11/genomes/GCA_002502465.1.fna /ebio/abt3_projects/vadinCA11/data/V11/genomes/GCA_002495665.1.fna /ebio/abt3_projects/vadinCA11/data/V11/genomes/GCA_002503925.1.fna /ebio/abt3_projects/vadinCA11/data/V11/genomes/GCA_002494705.1.fna /ebio/abt3_projects/vadinCA11/data/V11/genomes/GCA_002496385.1.fna /ebio/abt3_projects/vadinCA11/data/V11/genomes/GCA_001421175.1.fna /ebio/abt3_projects/vadinCA11/data/V11/genomes/GCA_002503495.1.fna /ebio/abt3_projects/vadinCA11/data/V11/genomes/GCA_002494585.1.fna /ebio/abt3_projects/vadinCA11/data/V11/genomes/GCA_002505275.1.fna /ebio/abt3_projects/vadinCA11/data/V11/genomes/GCA_002506175.1.fna /ebio/abt3_projects/vadinCA11/data/V11/genomes/GCA_002504525.1.fna /ebio/abt3_projects/vadinCA11/data/V11/genomes/GCA_002496785.1.fna /ebio/abt3_projects/vadinCA11/data/V11/genomes/GCA_002498785.1.fna /ebio/abt3_projects/vadinCA11/data/V11/genomes/GCA_002502965.1.fna /ebio/abt3_projects/vadinCA11/data/V11/genomes/GCA_002503645.1.fna /ebio/abt3_projects/vadinCA11/data/V11/genomes/GCA_002497475.1.fna /ebio/abt3_projects/vadinCA11/data/V11/genomes/GCA_002508555.1.fna /ebio/abt3_projects/vadinCA11/data/V11/genomes/GCA_002498605.1.fna /ebio/abt3_projects/vadinCA11/data/V11/genomes/GCA_002509425.1.fna /ebio/abt3_projects/vadinCA11/data/V11/genomes/GCA_001421185.1.fna /ebio/abt3_projects/vadinCA11/data/V11/genomes/GCA_002502925.1.fna /ebio/abt3_projects/vadinCA11/data/V11/genomes/GCA_002505225.1.fna /ebio/abt3_projects/vadinCA11/data/V11/genomes/GCA_002497075.1.fna /ebio/abt3_projects/vadinCA11/data/V11/genomes/GCA_002495325.1.fna /ebio/abt3_projects/vadinCA11/data/V11/genomes/GCA_000308215.1.fna /ebio/abt3_projects/vadinCA11/data/V11/genomes/GCA_002506325.1.fna /ebio/abt3_projects/vadinCA11/data/V11/genomes/GCA_003153895.1_20120700.fna /ebio/abt3_projects/vadinCA11/data/V11/genomes/GCA_002506565.1.fna /ebio/abt3_projects/vadinCA11/data/V11/genomes/GCA_002502005.1.fna /ebio/abt3_projects/vadinCA11/data/V11/genomes/GCA_002509405.1.fna /ebio/abt3_projects/vadinCA11/data/V11/genomes/GCA_002506425.1.fna /ebio/abt3_projects/vadinCA11/data/V11/genomes/GCA_001481295.1.fna /ebio/abt3_projects/vadinCA11/data/V11/genomes/GCA_002506985.1.fna /ebio/abt3_projects/vadinCA11/data/V11/genomes/GCA_002504645.1.fna /ebio/abt3_projects/vadinCA11/data/V11/genomes/GCA_002504495.1.fna /ebio/abt3_projects/vadinCA11/data/V11/genomes/GCA_002495585.1.fna /ebio/abt3_projects/vadinCA11/data/V11/genomes/GCA_002508595.1.fna /ebio/abt3_projects/vadinCA11/data/V11/genomes/GCA_002504405.1.fna /ebio/abt3_projects/vadinCA11/data/V11/genomes/GCA_002497155.1.fna /ebio/abt3_projects/vadinCA11/data/V11/genomes/GCA_002496345.1.fna /ebio/abt3_projects/vadinCA11/data/V11/genomes/GCA_002506995.1.fna /ebio/abt3_projects/vadinCA11/data/V11/genomes/GCA_002505345.1.fna /ebio/abt3_projects/vadinCA11/data/V11/genomes/GCA_002502765.1.fna /ebio/abt3_projects/vadinCA11/data/V11/genomes/GCA_002498365.1.fna /ebio/abt3_projects/vadinCA11/data/V11/genomes/GCA_900314325.1.fna /ebio/abt3_projects/vadinCA11/data/V11/genomes/GCA_002506905.1.fna /ebio/abt3_projects/vadinCA11/data/V11/genomes/GCA_002498285.1.fna /ebio/abt3_projects/vadinCA11/data/V11/genomes/GCA_002509465.1.fna /ebio/abt3_projects/vadinCA11/data/V11/genomes/GCA_002503785.1.fna /ebio/abt3_projects/vadinCA11/data/V11/genomes/GCA_900313075.1.fna /ebio/abt3_projects/vadinCA11/data/V11/genomes/GCA_002505245.1.fna /ebio/abt3_projects/vadinCA11/data/V11/genomes/GCA_002508585.1.fna /ebio/abt3_projects/vadinCA11/data/V11/genomes/GCA_002508545.1.fna /ebio/abt3_projects/vadinCA11/data/V11/genomes/GCA_002509415.1.fna /ebio/abt3_projects/vadinCA11/data/V11/genomes/GCA_002498425.1.fna /ebio/abt3_projects/vadinCA11/data/V11/genomes/GCA_002496945.1.fna \n"
     ]
    }
   ],
   "source": [
    "# I will create a folder with all included genomes to facilitate further work\n",
    "with open(included_genomes_file, \"r\") as genomes:\n",
    "    inclusions = [line.rstrip('\\n') for line in genomes]\n",
    "\n",
    "genomes_input = \"\"\n",
    "for i in inclusions:\n",
    "    genomes_input = \"{0}{1} \".format(genomes_input, i)\n",
    "    \n",
    "!cp $genomes_input $included_genomes_dir"
   ]
  },
  {
   "cell_type": "code",
   "execution_count": 186,
   "metadata": {
    "ExecuteTime": {
     "end_time": "2018-06-29T08:51:06.880528Z",
     "start_time": "2018-06-29T08:51:06.751576Z"
    }
   },
   "outputs": [
    {
     "name": "stdout",
     "output_type": "stream",
     "text": [
      "-rw-r--r-- 1 jdelacuesta abt3 1.6M Jun 18 17:55 V11_RL001.fna\r\n"
     ]
    }
   ],
   "source": [
    "# Rename the V11 file to something more clear\n",
    "# It will be named V11_RL001.fna - from VadinCA11 Ruth Ley 001\n",
    "!cd $included_genomes_dir; mv metabat2_low_PE.478.contigs.fa V11_RL001.fna\n",
    "!cd $included_genomes_dir; ls -lh V11_RL001.fna"
   ]
  },
  {
   "cell_type": "markdown",
   "metadata": {
    "heading_collapsed": true
   },
   "source": [
    "# Compare genomes with Sourmash"
   ]
  },
  {
   "cell_type": "code",
   "execution_count": 42,
   "metadata": {
    "ExecuteTime": {
     "end_time": "2018-06-09T15:52:45.184431Z",
     "start_time": "2018-06-09T15:52:45.177827Z"
    },
    "hidden": true
   },
   "outputs": [],
   "source": [
    "# Select kmer size to run sourmash"
   ]
  },
  {
   "cell_type": "code",
   "execution_count": 114,
   "metadata": {
    "ExecuteTime": {
     "end_time": "2018-06-18T15:59:17.760581Z",
     "start_time": "2018-06-18T15:59:12.143675Z"
    },
    "hidden": true
   },
   "outputs": [
    {
     "name": "stdout",
     "output_type": "stream",
     "text": [
      "bash -c \"source activate metacompass; cd /ebio/abt3_projects/vadinCA11/data/V11/sourmash_output; sourmash compute --scaled 1000 -k 21,31,51 /ebio/abt3_projects/vadinCA11/data/metagenome/LLMGA/HiSeqRun83-91/bin_refine/DAS_Tool//bins_DASTool_bins/metabat2_low_PE.478.contigs.fa /ebio/abt3_projects/vadinCA11/data/V11/genomes/GCA_000300255.2.fna /ebio/abt3_projects/vadinCA11/data/V11/genomes/GCA_002503545.1.fna /ebio/abt3_projects/vadinCA11/data/V11/genomes/GCA_002495495.1.fna /ebio/abt3_projects/vadinCA11/data/V11/genomes/GCA_002506865.1.fna /ebio/abt3_projects/vadinCA11/data/V11/genomes/GCA_002499085.1.fna /ebio/abt3_projects/vadinCA11/data/V11/genomes/GCA_002494805.1.fna /ebio/abt3_projects/vadinCA11/data/V11/genomes/GCA_002502545.1.fna /ebio/abt3_projects/vadinCA11/data/V11/genomes/GCA_003135935.1_20110800.fna /ebio/abt3_projects/vadinCA11/data/V11/genomes/GCA_000404225.1.fna /ebio/abt3_projects/vadinCA11/data/V11/genomes/GCA_002498765.1.fna /ebio/abt3_projects/vadinCA11/data/V11/genomes/GCA_000800805.1.fna /ebio/abt3_projects/vadinCA11/data/V11/genomes/GCA_002498545.1.fna /ebio/abt3_projects/vadinCA11/data/V11/genomes/GCA_002508625.1.fna /ebio/abt3_projects/vadinCA11/data/V11/genomes/GCA_002497995.1.fna /ebio/abt3_projects/vadinCA11/data/V11/genomes/GCA_002498805.1.fna /ebio/abt3_projects/vadinCA11/data/V11/genomes/GCA_002502465.1.fna /ebio/abt3_projects/vadinCA11/data/V11/genomes/GCA_002495665.1.fna /ebio/abt3_projects/vadinCA11/data/V11/genomes/GCA_002503925.1.fna /ebio/abt3_projects/vadinCA11/data/V11/genomes/GCA_002494705.1.fna /ebio/abt3_projects/vadinCA11/data/V11/genomes/GCA_002496385.1.fna /ebio/abt3_projects/vadinCA11/data/V11/genomes/GCA_001421175.1.fna /ebio/abt3_projects/vadinCA11/data/V11/genomes/GCA_002503495.1.fna /ebio/abt3_projects/vadinCA11/data/V11/genomes/GCA_002494585.1.fna /ebio/abt3_projects/vadinCA11/data/V11/genomes/GCA_002505275.1.fna /ebio/abt3_projects/vadinCA11/data/V11/genomes/GCA_002506175.1.fna /ebio/abt3_projects/vadinCA11/data/V11/genomes/GCA_002504525.1.fna /ebio/abt3_projects/vadinCA11/data/V11/genomes/GCA_002496785.1.fna /ebio/abt3_projects/vadinCA11/data/V11/genomes/GCA_002498785.1.fna /ebio/abt3_projects/vadinCA11/data/V11/genomes/GCA_002502965.1.fna /ebio/abt3_projects/vadinCA11/data/V11/genomes/GCA_002503645.1.fna /ebio/abt3_projects/vadinCA11/data/V11/genomes/GCA_002497475.1.fna /ebio/abt3_projects/vadinCA11/data/V11/genomes/GCA_002508555.1.fna /ebio/abt3_projects/vadinCA11/data/V11/genomes/GCA_002498605.1.fna /ebio/abt3_projects/vadinCA11/data/V11/genomes/GCA_002509425.1.fna /ebio/abt3_projects/vadinCA11/data/V11/genomes/GCA_001421185.1.fna /ebio/abt3_projects/vadinCA11/data/V11/genomes/GCA_002502925.1.fna /ebio/abt3_projects/vadinCA11/data/V11/genomes/GCA_002505225.1.fna /ebio/abt3_projects/vadinCA11/data/V11/genomes/GCA_002497075.1.fna /ebio/abt3_projects/vadinCA11/data/V11/genomes/GCA_002495325.1.fna /ebio/abt3_projects/vadinCA11/data/V11/genomes/GCA_000308215.1.fna /ebio/abt3_projects/vadinCA11/data/V11/genomes/GCA_002506325.1.fna /ebio/abt3_projects/vadinCA11/data/V11/genomes/GCA_003153895.1_20120700.fna /ebio/abt3_projects/vadinCA11/data/V11/genomes/GCA_002506565.1.fna /ebio/abt3_projects/vadinCA11/data/V11/genomes/GCA_002502005.1.fna /ebio/abt3_projects/vadinCA11/data/V11/genomes/GCA_002509405.1.fna /ebio/abt3_projects/vadinCA11/data/V11/genomes/GCA_002506425.1.fna /ebio/abt3_projects/vadinCA11/data/V11/genomes/GCA_001481295.1.fna /ebio/abt3_projects/vadinCA11/data/V11/genomes/GCA_002506985.1.fna /ebio/abt3_projects/vadinCA11/data/V11/genomes/GCA_002504645.1.fna /ebio/abt3_projects/vadinCA11/data/V11/genomes/GCA_002504495.1.fna /ebio/abt3_projects/vadinCA11/data/V11/genomes/GCA_002495585.1.fna /ebio/abt3_projects/vadinCA11/data/V11/genomes/GCA_002508595.1.fna /ebio/abt3_projects/vadinCA11/data/V11/genomes/GCA_002504405.1.fna /ebio/abt3_projects/vadinCA11/data/V11/genomes/GCA_002497155.1.fna /ebio/abt3_projects/vadinCA11/data/V11/genomes/GCA_002496345.1.fna /ebio/abt3_projects/vadinCA11/data/V11/genomes/GCA_002506995.1.fna /ebio/abt3_projects/vadinCA11/data/V11/genomes/GCA_002505345.1.fna /ebio/abt3_projects/vadinCA11/data/V11/genomes/GCA_002502765.1.fna /ebio/abt3_projects/vadinCA11/data/V11/genomes/GCA_002498365.1.fna /ebio/abt3_projects/vadinCA11/data/V11/genomes/GCA_900314325.1.fna /ebio/abt3_projects/vadinCA11/data/V11/genomes/GCA_002506905.1.fna /ebio/abt3_projects/vadinCA11/data/V11/genomes/GCA_002498285.1.fna /ebio/abt3_projects/vadinCA11/data/V11/genomes/GCA_002509465.1.fna /ebio/abt3_projects/vadinCA11/data/V11/genomes/GCA_002503785.1.fna /ebio/abt3_projects/vadinCA11/data/V11/genomes/GCA_900313075.1.fna /ebio/abt3_projects/vadinCA11/data/V11/genomes/GCA_002505245.1.fna /ebio/abt3_projects/vadinCA11/data/V11/genomes/GCA_002508585.1.fna /ebio/abt3_projects/vadinCA11/data/V11/genomes/GCA_002508545.1.fna /ebio/abt3_projects/vadinCA11/data/V11/genomes/GCA_002509415.1.fna /ebio/abt3_projects/vadinCA11/data/V11/genomes/GCA_002498425.1.fna /ebio/abt3_projects/vadinCA11/data/V11/genomes/GCA_002496945.1.fna \"\n",
      "\u001b[Ksetting num_hashes to 0 because --scaled is set\n",
      "\u001b[Kcomputing signatures for files: /ebio/abt3_projects/vadinCA11/data/metagenome/LLMGA/HiSeqRun83-91/bin_refine/DAS_Tool//bins_DASTool_bins/metabat2_low_PE.478.contigs.fa, /ebio/abt3_projects/vadinCA11/data/V11/genomes/GCA_000300255.2.fna, /ebio/abt3_projects/vadinCA11/data/V11/genomes/GCA_002503545.1.fna, /ebio/abt3_projects/vadinCA11/data/V11/genomes/GCA_002495495.1.fna, /ebio/abt3_projects/vadinCA11/data/V11/genomes/GCA_002506865.1.fna, /ebio/abt3_projects/vadinCA11/data/V11/genomes/GCA_002499085.1.fna, /ebio/abt3_projects/vadinCA11/data/V11/genomes/GCA_002494805.1.fna, /ebio/abt3_projects/vadinCA11/data/V11/genomes/GCA_002502545.1.fna, /ebio/abt3_projects/vadinCA11/data/V11/genomes/GCA_003135935.1_20110800.fna, /ebio/abt3_projects/vadinCA11/data/V11/genomes/GCA_000404225.1.fna, /ebio/abt3_projects/vadinCA11/data/V11/genomes/GCA_002498765.1.fna, /ebio/abt3_projects/vadinCA11/data/V11/genomes/GCA_000800805.1.fna, /ebio/abt3_projects/vadinCA11/data/V11/genomes/GCA_002498545.1.fna, /ebio/abt3_projects/vadinCA11/data/V11/genomes/GCA_002508625.1.fna, /ebio/abt3_projects/vadinCA11/data/V11/genomes/GCA_002497995.1.fna, /ebio/abt3_projects/vadinCA11/data/V11/genomes/GCA_002498805.1.fna, /ebio/abt3_projects/vadinCA11/data/V11/genomes/GCA_002502465.1.fna, /ebio/abt3_projects/vadinCA11/data/V11/genomes/GCA_002495665.1.fna, /ebio/abt3_projects/vadinCA11/data/V11/genomes/GCA_002503925.1.fna, /ebio/abt3_projects/vadinCA11/data/V11/genomes/GCA_002494705.1.fna, /ebio/abt3_projects/vadinCA11/data/V11/genomes/GCA_002496385.1.fna, /ebio/abt3_projects/vadinCA11/data/V11/genomes/GCA_001421175.1.fna, /ebio/abt3_projects/vadinCA11/data/V11/genomes/GCA_002503495.1.fna, /ebio/abt3_projects/vadinCA11/data/V11/genomes/GCA_002494585.1.fna, /ebio/abt3_projects/vadinCA11/data/V11/genomes/GCA_002505275.1.fna, /ebio/abt3_projects/vadinCA11/data/V11/genomes/GCA_002506175.1.fna, /ebio/abt3_projects/vadinCA11/data/V11/genomes/GCA_002504525.1.fna, /ebio/abt3_projects/vadinCA11/data/V11/genomes/GCA_002496785.1.fna, /ebio/abt3_projects/vadinCA11/data/V11/genomes/GCA_002498785.1.fna, /ebio/abt3_projects/vadinCA11/data/V11/genomes/GCA_002502965.1.fna, /ebio/abt3_projects/vadinCA11/data/V11/genomes/GCA_002503645.1.fna, /ebio/abt3_projects/vadinCA11/data/V11/genomes/GCA_002497475.1.fna, /ebio/abt3_projects/vadinCA11/data/V11/genomes/GCA_002508555.1.fna, /ebio/abt3_projects/vadinCA11/data/V11/genomes/GCA_002498605.1.fna, /ebio/abt3_projects/vadinCA11/data/V11/genomes/GCA_002509425.1.fna, /ebio/abt3_projects/vadinCA11/data/V11/genomes/GCA_001421185.1.fna, /ebio/abt3_projects/vadinCA11/data/V11/genomes/GCA_002502925.1.fna, /ebio/abt3_projects/vadinCA11/data/V11/genomes/GCA_002505225.1.fna, /ebio/abt3_projects/vadinCA11/data/V11/genomes/GCA_002497075.1.fna, /ebio/abt3_projects/vadinCA11/data/V11/genomes/GCA_002495325.1.fna, /ebio/abt3_projects/vadinCA11/data/V11/genomes/GCA_000308215.1.fna, /ebio/abt3_projects/vadinCA11/data/V11/genomes/GCA_002506325.1.fna, /ebio/abt3_projects/vadinCA11/data/V11/genomes/GCA_003153895.1_20120700.fna, /ebio/abt3_projects/vadinCA11/data/V11/genomes/GCA_002506565.1.fna, /ebio/abt3_projects/vadinCA11/data/V11/genomes/GCA_002502005.1.fna, /ebio/abt3_projects/vadinCA11/data/V11/genomes/GCA_002509405.1.fna, /ebio/abt3_projects/vadinCA11/data/V11/genomes/GCA_002506425.1.fna, /ebio/abt3_projects/vadinCA11/data/V11/genomes/GCA_001481295.1.fna, /ebio/abt3_projects/vadinCA11/data/V11/genomes/GCA_002506985.1.fna, /ebio/abt3_projects/vadinCA11/data/V11/genomes/GCA_002504645.1.fna, /ebio/abt3_projects/vadinCA11/data/V11/genomes/GCA_002504495.1.fna, /ebio/abt3_projects/vadinCA11/data/V11/genomes/GCA_002495585.1.fna, /ebio/abt3_projects/vadinCA11/data/V11/genomes/GCA_002508595.1.fna, /ebio/abt3_projects/vadinCA11/data/V11/genomes/GCA_002504405.1.fna, /ebio/abt3_projects/vadinCA11/data/V11/genomes/GCA_002497155.1.fna, /ebio/abt3_projects/vadinCA11/data/V11/genomes/GCA_002496345.1.fna, /ebio/abt3_projects/vadinCA11/data/V11/genomes/GCA_002506995.1.fna, /ebio/abt3_projects/vadinCA11/data/V11/genomes/GCA_002505345.1.fna, /ebio/abt3_projects/vadinCA11/data/V11/genomes/GCA_002502765.1.fna, /ebio/abt3_projects/vadinCA11/data/V11/genomes/GCA_002498365.1.fna, /ebio/abt3_projects/vadinCA11/data/V11/genomes/GCA_900314325.1.fna, /ebio/abt3_projects/vadinCA11/data/V11/genomes/GCA_002506905.1.fna, /ebio/abt3_projects/vadinCA11/data/V11/genomes/GCA_002498285.1.fna, /ebio/abt3_projects/vadinCA11/data/V11/genomes/GCA_002509465.1.fna, /ebio/abt3_projects/vadinCA11/data/V11/genomes/GCA_002503785.1.fna, /ebio/abt3_projects/vadinCA11/data/V11/genomes/GCA_900313075.1.fna, /ebio/abt3_projects/vadinCA11/data/V11/genomes/GCA_002505245.1.fna, /ebio/abt3_projects/vadinCA11/data/V11/genomes/GCA_002508585.1.fna, /ebio/abt3_projects/vadinCA11/data/V11/genomes/GCA_002508545.1.fna, /ebio/abt3_projects/vadinCA11/data/V11/genomes/GCA_002509415.1.fna, /ebio/abt3_"
     ]
    },
    {
     "data": {
      "text/html": [
       "<b>limit_output extension: Maximum message size of 10000 exceeded with 17270 characters</b>"
      ]
     },
     "metadata": {},
     "output_type": "display_data"
    }
   ],
   "source": [
    "# Compute signatures for all genomes with sourmash\n",
    "signature_file = os.path.join(work_dir, \"sourmash_output\") # \"genomes.sig\n",
    "compute_cmd = \"cd {0}; sourmash compute --scaled 1000 -k 21,31,51 {1}\"\n",
    "compute_cmd = compute_cmd.format(signature_file, genomes_input)\n",
    "compute_job = 'bash -c \"source activate {0}; {1}\"'\n",
    "compute_job = compute_job.format(metacompass_env, compute_cmd)\n",
    "print(compute_job)\n",
    "!$compute_job"
   ]
  },
  {
   "cell_type": "code",
   "execution_count": 151,
   "metadata": {
    "ExecuteTime": {
     "end_time": "2018-06-21T13:02:41.916578Z",
     "start_time": "2018-06-21T13:02:29.721336Z"
    },
    "hidden": true
   },
   "outputs": [
    {
     "name": "stdout",
     "output_type": "stream",
     "text": [
      "bash -c \"source activate metacompass; cd /ebio/abt3_projects/vadinCA11/data/V11/sourmash_output; sourmash compare *.sig --csv v11.cmp.csv -k 21\"\n",
      "\u001b[Kloaded 72 signatures total.                                                    \n",
      "\u001b[Kdownsampling to scaled value of 1000\n",
      "\u001b[K\n",
      "min similarity in matrix: 0.000\n"
     ]
    }
   ],
   "source": [
    "# Compare all signatures with each other\n",
    "# See http://sourmash.readthedocs.io/en/latest/using-sourmash-a-guide.html#what-k-mer-size-s-should-i-use\n",
    "kmer_size = 21\n",
    "compare_file = os.path.join(work_dir, \"sourmash_output\", \"genome_compare.csv\")\n",
    "compare_cmd = \"cd {0}; sourmash compare *.sig --csv v11.cmp.csv -k {2}\"\n",
    "compare_cmd = compare_cmd.format(signature_file, compare_file, kmer_size)\n",
    "compare_job = 'bash -c \"source activate {0}; {1}\"'\n",
    "compare_job = compare_job.format(metacompass_env, compare_cmd)\n",
    "print(compare_job)\n",
    "!$compare_job"
   ]
  },
  {
   "cell_type": "markdown",
   "metadata": {
    "hidden": true
   },
   "source": [
    "I will perform the plotting of the `sourmash` output using R in a [separate notebook](/notebooks/notebooks/metagenome/assembly/HiSeqRuns83-91/5.1_Plots_genome_comparison.ipynb). In case that the plot generated by sourmash is desired, instead of plotting it in R, use the following commands"
   ]
  },
  {
   "cell_type": "markdown",
   "metadata": {
    "ExecuteTime": {
     "end_time": "2018-06-18T10:16:17.492532Z",
     "start_time": "2018-06-18T10:16:06.266908Z"
    },
    "hidden": true
   },
   "source": [
    "```python\n",
    "# Plot dendrogram\n",
    "plot_cmd = \"cd {0}; sourmash plot {1}\"\n",
    "plot_cmd = plot_cmd.format(signature_file, compare_file)\n",
    "plot_job = 'bash -c \"source activate {0}; {1}\"'\n",
    "plot_job = plot_job.format(metacompass_env, plot_cmd)\n",
    "print(plot_job)\n",
    "!$plot_job\n",
    "```"
   ]
  },
  {
   "cell_type": "markdown",
   "metadata": {},
   "source": [
    "# Calculate the average nucleotide identity (ANI)\n",
    "The result from `sourmash` allows to rapidly identify the closest genomes to that of the genome of interest, however, it does not works very well with large evolutionary distances (anything beyond genus level). This can be seen in the obtained heatmap, where the Jaccard index between most genomes was close to zero. Considering that I am comparing genomes at the order level, I will calculate the average nucleotide identity between all downloaded genomes. I will use the `pyani` software."
   ]
  },
  {
   "cell_type": "code",
   "execution_count": 142,
   "metadata": {
    "ExecuteTime": {
     "end_time": "2018-06-19T11:44:26.612484Z",
     "start_time": "2018-06-19T11:44:26.603277Z"
    }
   },
   "outputs": [],
   "source": [
    "# Create bash script to submit to cluster\n",
    "script_pyani = \"\"\"#!/bin/bash\n",
    "#$ -N {0}\n",
    "#$ -pe parallel 8\n",
    "#$ -l h_vmem=32G\n",
    "#$ -l h_rt=72:0:0\n",
    "#$ -o $HOME/tmp/SGE/job_stdout\n",
    "#$ -j y\n",
    "#$ -wd {1}\n",
    "#$ -m ea\n",
    "#$ -M jdelacuesta@tuebingen.mpg.de\n",
    "\n",
    "export PATH='{1}':$PATH\n",
    "\n",
    "./average_nucleotide_identity.py -i {2} \\\n",
    "    -o {3} \\\n",
    "    -m ANIb \\\n",
    "    --workers 8 \\\n",
    "    --force \\\n",
    "    --seed 2112\n",
    "    \n",
    "\"\"\""
   ]
  },
  {
   "cell_type": "code",
   "execution_count": 143,
   "metadata": {
    "ExecuteTime": {
     "end_time": "2018-06-19T11:44:27.736500Z",
     "start_time": "2018-06-19T11:44:27.719493Z"
    }
   },
   "outputs": [],
   "source": [
    "# Prepare the parameters to run in the cluster\n",
    "job_name = \"Methanomasilii_ANI\"\n",
    "metacompass_bin = \"/ebio/abt3_projects/software/miniconda3/envs/metacompass/bin\"\n",
    "pyani_dir = \"{0}/pyani_output\".format(work_dir) #os.path.join(work_dir, \"pyani_output\")\n",
    "pyani_log = \"{0}/pyani_log.txt\".format(pyani_dir) #os.path.join(work_dir, \"pyani_log.txt\")\n",
    "\n",
    "script_fn = os.path.join(work_dir, \"cluster_jobs\", job_name + \".sh\")\n",
    "fh = open(script_fn, \"w\")\n",
    "fh.write(script_pyani.format(job_name, metacompass_bin, included_genomes_dir, pyani_dir))\n",
    "fh.close()"
   ]
  },
  {
   "cell_type": "code",
   "execution_count": 144,
   "metadata": {
    "ExecuteTime": {
     "end_time": "2018-06-19T11:44:28.596543Z",
     "start_time": "2018-06-19T11:44:28.539755Z"
    }
   },
   "outputs": [
    {
     "data": {
      "text/plain": [
       "CompletedProcess(args=['qsub', '/ebio/abt3_projects/vadinCA11/data/V11/cluster_jobs/Methanomasilii_ANI.sh'], returncode=0)"
      ]
     },
     "execution_count": 144,
     "metadata": {},
     "output_type": "execute_result"
    }
   ],
   "source": [
    "# Submit\n",
    "subprocess.run([\"qsub\", script_fn])"
   ]
  },
  {
   "cell_type": "markdown",
   "metadata": {},
   "source": [
    "# Drep method\n",
    "Drep uses a combination of what I already did: it first estimates the MASH distance (an estimate of ANI) between all pairs of genomes and then calculates the ANIm only between genomes with a MASH distance greater than a given threshold. This way it can compare a great number of genomes efficiently."
   ]
  },
  {
   "cell_type": "markdown",
   "metadata": {},
   "source": [
    "## Drep compare"
   ]
  },
  {
   "cell_type": "code",
   "execution_count": 28,
   "metadata": {
    "ExecuteTime": {
     "end_time": "2019-06-05T19:21:38.012231Z",
     "start_time": "2019-06-05T19:21:38.003521Z"
    }
   },
   "outputs": [],
   "source": [
    "drep_output = os.path.join(work_dir, \"drep\")\n",
    "if not os.path.exists(drep_output):\n",
    "    os.makedirs(drep_output)"
   ]
  },
  {
   "cell_type": "code",
   "execution_count": 191,
   "metadata": {
    "ExecuteTime": {
     "end_time": "2018-06-29T09:11:57.352636Z",
     "start_time": "2018-06-29T09:01:00.969444Z"
    }
   },
   "outputs": [
    {
     "name": "stdout",
     "output_type": "stream",
     "text": [
      "bash -c \"source activate metacompass; dRep compare --P_ani 0.80 --S_ani 0.95 /ebio/abt3_projects/vadinCA11/data/V11/drep -g /ebio/abt3_projects/vadinCA11/data/V11/included_genomes/*\"\n",
      "***************************************************\n",
      "    ..:: dRep compare Step 1. Cluster ::..\n",
      "***************************************************\n",
      "    \n",
      "Clustering Step 1. Parse Arguments\n",
      "Clustering Step 2. Perform MASH (primary) clustering\n",
      "2a. Run pair-wise MASH clustering\n",
      "2b. Cluster pair-wise MASH clustering\n",
      "19 primary clusters made\n",
      "Step 3. Perform secondary clustering\n",
      "Running 704 ANImf comparisons- should take ~ 58.7 min\n",
      "Step 4. Return output\n",
      "***************************************************\n",
      "    ..:: dRep compare Step 2. Bonus ::..\n",
      "***************************************************\n",
      "    \n",
      "Loading work directory\n",
      "***************************************************\n",
      "    ..:: dRep compare Step 3. Evaluate ::..\n",
      "***************************************************\n",
      "    \n",
      "will provide warnings about clusters\n",
      "1 warnings generated: saved to /ebio/abt3_projects/vadinCA11/data/V11/drep/log/warnings.txt\n",
      "***************************************************\n",
      "    ..:: dRep compare Step 4. Analyze ::..\n",
      "***************************************************\n",
      "    \n",
      "making plots 1, 2, 3, 4\n",
      "Plotting primary dendrogram\n",
      "Plotting secondary dendrograms\n",
      "Plotting MDS plot\n",
      "Plotting scatterplots\n",
      "/ebio/abt3_projects/software/miniconda3/envs/metacompass/lib/python3.5/site-packages/matplotlib/axes/_axes.py:6462: UserWarning: The 'normed' kwarg is deprecated, and has been replaced by the 'density' kwarg.\n",
      "  warnings.warn(\"The 'normed' kwarg is deprecated, and has been \"\n",
      "/ebio/abt3_projects/software/miniconda3/envs/metacompass/lib/python3.5/site-packages/matplotlib/axes/_axes.py:6462: UserWarning: The 'normed' kwarg is deprecated, and has been replaced by the 'density' kwarg.\n",
      "  warnings.warn(\"The 'normed' kwarg is deprecated, and has been \"\n",
      "/ebio/abt3_projects/software/miniconda3/envs/metacompass/lib/python3.5/site-packages/matplotlib/axes/_axes.py:6462: UserWarning: The 'normed' kwarg is deprecated, and has been replaced by the 'density' kwarg.\n",
      "  warnings.warn(\"The 'normed' kwarg is deprecated, and has been \"\n",
      "/ebio/abt3_projects/software/miniconda3/envs/metacompass/lib/python3.5/site-packages/matplotlib/axes/_axes.py:6462: UserWarning: The 'normed' kwarg is deprecated, and has been replaced by the 'density' kwarg.\n",
      "  warnings.warn(\"The 'normed' kwarg is deprecated, and has been \"\n",
      "/ebio/abt3_projects/software/miniconda3/envs/metacompass/lib/python3.5/site-packages/matplotlib/axes/_axes.py:6462: UserWarning: The 'normed' kwarg is deprecated, and has been replaced by the 'density' kwarg.\n",
      "  warnings.warn(\"The 'normed' kwarg is deprecated, and has been \"\n",
      "/ebio/abt3_projects/software/miniconda3/envs/metacompass/lib/python3.5/site-packages/matplotlib/axes/_axes.py:6462: UserWarning: The 'normed' kwarg is deprecated, and has been replaced by the 'density' kwarg.\n",
      "  warnings.warn(\"The 'normed' kwarg is deprecated, and has been \"\n",
      "/ebio/abt3_projects/software/miniconda3/envs/metacompass/lib/python3.5/site-packages/matplotlib/axes/_axes.py:6462: UserWarning: The 'normed' kwarg is deprecated, and has been replaced by the 'density' kwarg.\n",
      "  warnings.warn(\"The 'normed' kwarg is deprecated, and has been \"\n",
      "/ebio/abt3_projects/software/miniconda3/envs/metacompass/lib/python3.5/site-packages/matplotlib/axes/_axes.py:6462: UserWarning: The 'normed' kwarg is deprecated, and has been replaced by the 'density' kwarg.\n",
      "  warnings.warn(\"The 'normed' kwarg is deprecated, and has been \"\n",
      "/ebio/abt3_projects/software/miniconda3/envs/metacompass/lib/python3.5/site-packages/matplotlib/axes/_axes.py:6462: UserWarning: The 'normed' kwarg is deprecated, and has been replaced by the 'density' kwarg.\n",
      "  warnings.warn(\"The 'normed' kwarg is deprecated, and has been \"\n",
      "/ebio/abt3_projects/software/miniconda3/envs/metacompass/lib/python3.5/site-packages/matplotlib/axes/_axes.py:6462: UserWarning: The 'normed' kwarg is deprecated, and has been replaced by the 'density' kwarg.\n",
      "  warnings.warn(\"The 'normed' kwarg is deprecated, and has been \"\n",
      "/ebio/abt3_projects/software/miniconda3/envs/metacompass/lib/python3.5/site-packages/matplotlib/axes/_axes.py:6462: UserWarning: The 'normed' kwarg is deprecated, and has been replaced by the 'density' kwarg.\n",
      "  warnings.warn(\"The 'normed' kwarg is deprecated, and has been \"\n",
      "/ebio/abt3_projects/software/miniconda3/envs/metacompass/lib/python3.5/site-packages/matplotlib/axes/_axes.py:6462: UserWarning: The 'normed' kwarg is deprecated, and has been replaced by the 'density' kwarg.\n",
      "  warnings.warn(\"The 'normed' kwarg is deprecated, and has been \"\n",
      "\n",
      "$$$$$$$$$$$$$$$$$$$$$$$$$$$$$$$$$$$$$$$$$$$$$$$$$$$$$$$$$$$$$$$$$$$$$$$$$$$$$$$$\n",
      "\n",
      "    ..:: dRep compare finished ::..\n",
      "\n",
      "Genome comparison data............... /ebio/abt3_projects/vadinCA11/data/V11/drep/data_tables/\n",
      "Figures.............................. /ebio/abt3_projects/vadinCA11/data/V11/drep/figures/\n",
      "Warnings............................. /ebio/abt3_projects/vadinCA11/data/V11/drep/log/warnings.txt\n",
      "\n",
      "$$$$$$$$$$$$$$$$$$$$$$$$$$$$$$$$$$$$$$$$$$$$$$$$$$$$$$$$$$$$$$$$$$$$$$$$$$$$$$$$\n",
      "    \n"
     ]
    }
   ],
   "source": [
    "#Running Drep\n",
    "# I'm using a genus definition of MASH >= 80% and a species definition of ANIm >= 0.95\n",
    "drep_cmd = \"dRep compare --P_ani 0.80 --S_ani 0.95 {0} -g {1}\"\n",
    "drep_cmd = drep_cmd.format(drep_output, included_genomes_dir+\"/*\")\n",
    "drep_job = 'bash -c \"source activate {0}; {1}\"'\n",
    "drep_job = drep_job.format(metacompass_env, drep_cmd)\n",
    "print(drep_job)\n",
    "!$drep_job"
   ]
  },
  {
   "cell_type": "markdown",
   "metadata": {},
   "source": [
    "## Drep dereplicate\n",
    "\n",
    "In addition, I will dereplicate the genomes with `dRep`. Because of issues with python versions, `CheckM` and `dRep`, I will use the already obtained values of completeness and contamination of the included genomes."
   ]
  },
  {
   "cell_type": "markdown",
   "metadata": {},
   "source": [
    "### Create CheckM stats table"
   ]
  },
  {
   "cell_type": "code",
   "execution_count": 24,
   "metadata": {
    "ExecuteTime": {
     "end_time": "2019-06-05T19:20:12.028177Z",
     "start_time": "2019-06-05T19:20:11.981779Z"
    }
   },
   "outputs": [
    {
     "data": {
      "text/html": [
       "<div>\n",
       "<style scoped>\n",
       "    .dataframe tbody tr th:only-of-type {\n",
       "        vertical-align: middle;\n",
       "    }\n",
       "\n",
       "    .dataframe tbody tr th {\n",
       "        vertical-align: top;\n",
       "    }\n",
       "\n",
       "    .dataframe thead th {\n",
       "        text-align: right;\n",
       "    }\n",
       "</style>\n",
       "<table border=\"1\" class=\"dataframe\">\n",
       "  <thead>\n",
       "    <tr style=\"text-align: right;\">\n",
       "      <th></th>\n",
       "      <th>Stat</th>\n",
       "      <th>V11_RL001</th>\n",
       "      <th>GCA_000300255.2</th>\n",
       "      <th>GCA_002503545.1</th>\n",
       "      <th>GCA_002495495.1</th>\n",
       "      <th>GCA_002506865.1</th>\n",
       "      <th>GCA_002499085.1</th>\n",
       "      <th>GCA_002494805.1</th>\n",
       "      <th>GCA_002502545.1</th>\n",
       "      <th>GCA_000404225.1</th>\n",
       "      <th>...</th>\n",
       "      <th>GCA_002498285.1</th>\n",
       "      <th>GCA_002509465.1</th>\n",
       "      <th>GCA_002503785.1</th>\n",
       "      <th>GCA_900313075.1</th>\n",
       "      <th>GCA_002505245.1</th>\n",
       "      <th>GCA_002508585.1</th>\n",
       "      <th>GCA_002508545.1</th>\n",
       "      <th>GCA_002509415.1</th>\n",
       "      <th>GCA_002498425.1</th>\n",
       "      <th>GCA_002496945.1</th>\n",
       "    </tr>\n",
       "  </thead>\n",
       "  <tbody>\n",
       "    <tr>\n",
       "      <th>0</th>\n",
       "      <td>Completeness</td>\n",
       "      <td>98.38709677419355</td>\n",
       "      <td>98.38709677419355</td>\n",
       "      <td>88.37882547559967</td>\n",
       "      <td>86.20684776457271</td>\n",
       "      <td>83.36326237429802</td>\n",
       "      <td>76.8</td>\n",
       "      <td>92.33870967741936</td>\n",
       "      <td>88.4903791737408</td>\n",
       "      <td>98.79032258064517</td>\n",
       "      <td>...</td>\n",
       "      <td>84.71768751904575</td>\n",
       "      <td>84.74554873536196</td>\n",
       "      <td>96.90860215053763</td>\n",
       "      <td>82.25806451612904</td>\n",
       "      <td>95.56451612903226</td>\n",
       "      <td>88.30024813895781</td>\n",
       "      <td>97.31182795698926</td>\n",
       "      <td>88.93604980192417</td>\n",
       "      <td>90.7258064516129</td>\n",
       "      <td>97.13497453310696</td>\n",
       "    </tr>\n",
       "    <tr>\n",
       "      <th>1</th>\n",
       "      <td>Contamination</td>\n",
       "      <td>0.0</td>\n",
       "      <td>0.8064516129032258</td>\n",
       "      <td>0.9408602150537635</td>\n",
       "      <td>0.4032258064516129</td>\n",
       "      <td>4.032258064516129</td>\n",
       "      <td>2.4</td>\n",
       "      <td>0.8064516129032258</td>\n",
       "      <td>0.0</td>\n",
       "      <td>0.8064516129032258</td>\n",
       "      <td>...</td>\n",
       "      <td>0.0</td>\n",
       "      <td>0.0</td>\n",
       "      <td>0.0</td>\n",
       "      <td>2.4193548387096775</td>\n",
       "      <td>0.0</td>\n",
       "      <td>0.8064516129032258</td>\n",
       "      <td>0.8064516129032258</td>\n",
       "      <td>0.0</td>\n",
       "      <td>0.0</td>\n",
       "      <td>0.0</td>\n",
       "    </tr>\n",
       "    <tr>\n",
       "      <th>2</th>\n",
       "      <td>Genome size</td>\n",
       "      <td>1590932</td>\n",
       "      <td>1666795</td>\n",
       "      <td>1249378</td>\n",
       "      <td>1063745</td>\n",
       "      <td>1104259</td>\n",
       "      <td>1749312</td>\n",
       "      <td>1648656</td>\n",
       "      <td>1115929</td>\n",
       "      <td>1931651</td>\n",
       "      <td>...</td>\n",
       "      <td>1827384</td>\n",
       "      <td>969311</td>\n",
       "      <td>1308604</td>\n",
       "      <td>1262884</td>\n",
       "      <td>1175704</td>\n",
       "      <td>1883692</td>\n",
       "      <td>2360299</td>\n",
       "      <td>1123872</td>\n",
       "      <td>1224361</td>\n",
       "      <td>1401758</td>\n",
       "    </tr>\n",
       "    <tr>\n",
       "      <th>3</th>\n",
       "      <td># ambiguous bases</td>\n",
       "      <td>0</td>\n",
       "      <td>0</td>\n",
       "      <td>1306</td>\n",
       "      <td>6646</td>\n",
       "      <td>20303</td>\n",
       "      <td>479</td>\n",
       "      <td>790</td>\n",
       "      <td>17388</td>\n",
       "      <td>0</td>\n",
       "      <td>...</td>\n",
       "      <td>98446</td>\n",
       "      <td>5047</td>\n",
       "      <td>383</td>\n",
       "      <td>0</td>\n",
       "      <td>5963</td>\n",
       "      <td>74196</td>\n",
       "      <td>2392</td>\n",
       "      <td>23022</td>\n",
       "      <td>5065</td>\n",
       "      <td>6936</td>\n",
       "    </tr>\n",
       "    <tr>\n",
       "      <th>4</th>\n",
       "      <td># contigs</td>\n",
       "      <td>48</td>\n",
       "      <td>1</td>\n",
       "      <td>56</td>\n",
       "      <td>107</td>\n",
       "      <td>175</td>\n",
       "      <td>46</td>\n",
       "      <td>47</td>\n",
       "      <td>135</td>\n",
       "      <td>1</td>\n",
       "      <td>...</td>\n",
       "      <td>572</td>\n",
       "      <td>104</td>\n",
       "      <td>22</td>\n",
       "      <td>192</td>\n",
       "      <td>49</td>\n",
       "      <td>464</td>\n",
       "      <td>111</td>\n",
       "      <td>138</td>\n",
       "      <td>38</td>\n",
       "      <td>60</td>\n",
       "    </tr>\n",
       "  </tbody>\n",
       "</table>\n",
       "<p>5 rows × 73 columns</p>\n",
       "</div>"
      ],
      "text/plain": [
       "                Stat          V11_RL001     GCA_000300255.2  \\\n",
       "0       Completeness  98.38709677419355   98.38709677419355   \n",
       "1      Contamination                0.0  0.8064516129032258   \n",
       "2        Genome size            1590932             1666795   \n",
       "3  # ambiguous bases                  0                   0   \n",
       "4          # contigs                 48                   1   \n",
       "\n",
       "      GCA_002503545.1     GCA_002495495.1    GCA_002506865.1 GCA_002499085.1  \\\n",
       "0   88.37882547559967   86.20684776457271  83.36326237429802            76.8   \n",
       "1  0.9408602150537635  0.4032258064516129  4.032258064516129             2.4   \n",
       "2             1249378             1063745            1104259         1749312   \n",
       "3                1306                6646              20303             479   \n",
       "4                  56                 107                175              46   \n",
       "\n",
       "      GCA_002494805.1   GCA_002502545.1     GCA_000404225.1  \\\n",
       "0   92.33870967741936  88.4903791737408   98.79032258064517   \n",
       "1  0.8064516129032258               0.0  0.8064516129032258   \n",
       "2             1648656           1115929             1931651   \n",
       "3                 790             17388                   0   \n",
       "4                  47               135                   1   \n",
       "\n",
       "         ...            GCA_002498285.1    GCA_002509465.1    GCA_002503785.1  \\\n",
       "0        ...          84.71768751904575  84.74554873536196  96.90860215053763   \n",
       "1        ...                        0.0                0.0                0.0   \n",
       "2        ...                    1827384             969311            1308604   \n",
       "3        ...                      98446               5047                383   \n",
       "4        ...                        572                104                 22   \n",
       "\n",
       "      GCA_900313075.1    GCA_002505245.1     GCA_002508585.1  \\\n",
       "0   82.25806451612904  95.56451612903226   88.30024813895781   \n",
       "1  2.4193548387096775                0.0  0.8064516129032258   \n",
       "2             1262884            1175704             1883692   \n",
       "3                   0               5963               74196   \n",
       "4                 192                 49                 464   \n",
       "\n",
       "      GCA_002508545.1    GCA_002509415.1   GCA_002498425.1    GCA_002496945.1  \n",
       "0   97.31182795698926  88.93604980192417  90.7258064516129  97.13497453310696  \n",
       "1  0.8064516129032258                0.0               0.0                0.0  \n",
       "2             2360299            1123872           1224361            1401758  \n",
       "3                2392              23022              5065               6936  \n",
       "4                 111                138                38                 60  \n",
       "\n",
       "[5 rows x 73 columns]"
      ]
     },
     "execution_count": 24,
     "metadata": {},
     "output_type": "execute_result"
    }
   ],
   "source": [
    "# Read included genomes checkM data\n",
    "tab_cM_raw = pd.read_csv(\"/ebio/abt3_projects/vadinCA11/data/V11/genomes/included_stats.txt\", delimiter=\"\\t\")\n",
    "\n",
    "# Select completeness and contamination tables and transpose\n",
    "tab_cM = tab_cM_raw.loc[0:1,:].transpose()\n",
    "tab_cM_raw.head()"
   ]
  },
  {
   "cell_type": "code",
   "execution_count": 25,
   "metadata": {
    "ExecuteTime": {
     "end_time": "2019-06-05T19:20:15.256184Z",
     "start_time": "2019-06-05T19:20:15.245876Z"
    }
   },
   "outputs": [],
   "source": [
    "# Select genomes, completeness and contamination as lists\n",
    "genome_raw = list(tab_cM.index)[1:]\n",
    "genome = []\n",
    "for file in genome_raw:\n",
    "    newname = file + \".fna\"\n",
    "    genome.append(newname)  \n",
    "\n",
    "completeness = list(tab_cM.iloc[1:, 0])\n",
    "contamination = list(tab_cM.iloc[1:, 1])\n",
    "# Create dictionary and then data frame\n",
    "genome_dict = {\"genome\": genome, \"completeness\": completeness, \"contamination\": contamination}\n",
    "dRep_cM = pd.DataFrame(genome_dict)"
   ]
  },
  {
   "cell_type": "code",
   "execution_count": 27,
   "metadata": {
    "ExecuteTime": {
     "end_time": "2019-06-05T19:20:21.600223Z",
     "start_time": "2019-06-05T19:20:21.591894Z"
    }
   },
   "outputs": [],
   "source": [
    "# Export table\n",
    "dRep_cM_file = \"/ebio/abt3_projects/vadinCA11/data/V11/genomes/CheckM_dRep.txt\"\n",
    "dRep_cM.to_csv(dRep_cM_file, sep=\",\", index=False)"
   ]
  },
  {
   "cell_type": "markdown",
   "metadata": {},
   "source": [
    "### Dereplicate"
   ]
  },
  {
   "cell_type": "code",
   "execution_count": 49,
   "metadata": {
    "ExecuteTime": {
     "end_time": "2019-06-06T09:02:28.308174Z",
     "start_time": "2019-06-06T09:02:28.300534Z"
    }
   },
   "outputs": [],
   "source": [
    "dereplication_output = os.path.join(drep_output, \"dereplication\")\n",
    "if not os.path.exists(dereplication_output):\n",
    "    os.makedirs(dereplication_output)"
   ]
  },
  {
   "cell_type": "code",
   "execution_count": 50,
   "metadata": {
    "ExecuteTime": {
     "end_time": "2019-06-06T09:02:28.648203Z",
     "start_time": "2019-06-06T09:02:28.643287Z"
    }
   },
   "outputs": [
    {
     "name": "stdout",
     "output_type": "stream",
     "text": [
      "bash -c \"source activate metacompass; dRep dereplicate --P_ani 0.80 --S_ani 0.95 --genomeInfo /ebio/abt3_projects/vadinCA11/data/V11/genomes/CheckM_dRep.txt /ebio/abt3_projects/vadinCA11/data/V11/drep/dereplication -g /ebio/abt3_projects/vadinCA11/data/V11/included_genomes/*\"\n"
     ]
    }
   ],
   "source": [
    "drep_cmd = \"dRep dereplicate --P_ani 0.80 --S_ani 0.95 --genomeInfo {0} {1} -g {2}\"\n",
    "drep_cmd = drep_cmd.format(dRep_cM_file, dereplication_output, included_genomes_dir+\"/*\")\n",
    "drep_job = 'bash -c \"source activate {0}; {1}\"'\n",
    "drep_job = drep_job.format(metacompass_env, drep_cmd)\n",
    "print(drep_job)\n",
    "#!$drep_job"
   ]
  },
  {
   "cell_type": "code",
   "execution_count": 47,
   "metadata": {
    "ExecuteTime": {
     "end_time": "2019-06-06T08:46:41.348233Z",
     "start_time": "2019-06-06T08:46:41.221785Z"
    }
   },
   "outputs": [
    {
     "name": "stdout",
     "output_type": "stream",
     "text": [
      "/ebio/abt3_projects/small_projects/jdelacuesta/vadinCA11/notebooks/metagenome/assembly/HiSeqRuns83-91\r\n"
     ]
    }
   ],
   "source": [
    "!pwd"
   ]
  },
  {
   "cell_type": "markdown",
   "metadata": {},
   "source": [
    "# Phylogeny using universal markers"
   ]
  },
  {
   "cell_type": "markdown",
   "metadata": {},
   "source": [
    "In addition to the ANI dendrogram I obtained using `drep`, I will generate a phylogeny using a series of universal markers. For this, I will use the `anvio` package. Instructions can be found [here](http://merenlab.org/2017/06/07/phylogenomics/)"
   ]
  },
  {
   "cell_type": "code",
   "execution_count": 5,
   "metadata": {
    "ExecuteTime": {
     "end_time": "2018-07-11T11:49:06.656553Z",
     "start_time": "2018-07-11T11:49:06.644050Z"
    }
   },
   "outputs": [],
   "source": [
    "anvio_output = os.path.join(work_dir, \"anvio_output\")\n",
    "if not os.path.exists(anvio_output):\n",
    "    os.makedirs(anvio_output)"
   ]
  },
  {
   "cell_type": "code",
   "execution_count": 6,
   "metadata": {
    "ExecuteTime": {
     "end_time": "2018-07-11T11:49:23.004614Z",
     "start_time": "2018-07-11T11:49:07.429515Z"
    }
   },
   "outputs": [],
   "source": [
    "for genome in os.listdir(included_genomes_dir):\n",
    "    # create a tmp file with .fa extension\n",
    "    basename = genome.split(os.extsep)[0]\n",
    "    basename = os.path.join(anvio_output, basename+\".fa\")\n",
    "    in_genome = os.path.join(included_genomes_dir, genome)\n",
    "    !cat $in_genome > $basename"
   ]
  },
  {
   "cell_type": "markdown",
   "metadata": {
    "ExecuteTime": {
     "end_time": "2018-06-29T14:43:48.824572Z",
     "start_time": "2018-06-29T14:43:48.800730Z"
    }
   },
   "source": [
    "```python\n",
    "# Create anvio db\n",
    "anvio_db_cmd = \"anvi-script-FASTA-to-contigs-db {0}\"\n",
    "anvio_db_job = 'bash -c \"source activate {0}; {1}\"'\n",
    "for genome in os.listdir(anvio_output):\n",
    "    # Prepare anvio job\n",
    "    anvio_db_cmd = anvio_db_cmd.format(genome)\n",
    "    anvio_db_job = anvio_db_job.format(metacompass_env, anvio_db_cmd)\n",
    "    print(anvio_db_job)\n",
    "    \n",
    "    # Execute job and remove temp file\n",
    "    #!$anvio_db_job  \n",
    "```"
   ]
  },
  {
   "cell_type": "code",
   "execution_count": 15,
   "metadata": {
    "ExecuteTime": {
     "end_time": "2018-06-29T16:15:38.972571Z",
     "start_time": "2018-06-29T14:47:33.948546Z"
    }
   },
   "outputs": [
    {
     "name": "stdout",
     "output_type": "stream",
     "text": [
      "\n",
      "\n",
      "\u001b[1;30m\u001b[47m:: INPUT DIR: /ebio/abt3_projects/vadinCA11/data/V11/anvio_output, FNAME: GCA_000300255 ...\u001b[0m\n",
      "\n",
      "\n",
      "\n",
      "\u001b[1;30m\u001b[47m:: RENAMING CONTIGS ...\u001b[0m\n",
      "\n",
      "\n",
      "\n",
      "\u001b[1;30m\u001b[47m:: GENERATING THE CONTIGS DB ...\u001b[0m\n",
      "\n",
      "\n",
      "\n",
      "\u001b[1;30m\u001b[47m:: RUNNING HMMs ...\u001b[0m\n",
      "\n",
      "\n",
      "\n",
      "\u001b[1;30m\u001b[47m:: INPUT DIR: /ebio/abt3_projects/vadinCA11/data/V11/anvio_output, FNAME: GCA_000308215 ...\u001b[0m\n",
      "\n",
      "\n",
      "\n",
      "\u001b[1;30m\u001b[47m:: RENAMING CONTIGS ...\u001b[0m\n",
      "\n",
      "\n",
      "\n",
      "\u001b[1;30m\u001b[47m:: GENERATING THE CONTIGS DB ...\u001b[0m\n",
      "\n",
      "\n",
      "\n",
      "\u001b[1;30m\u001b[47m:: RUNNING HMMs ...\u001b[0m\n",
      "\n",
      "\n",
      "\n",
      "\u001b[1;30m\u001b[47m:: INPUT DIR: /ebio/abt3_projects/vadinCA11/data/V11/anvio_output, FNAME: GCA_000404225 ...\u001b[0m\n",
      "\n",
      "\n",
      "\n",
      "\u001b[1;30m\u001b[47m:: RENAMING CONTIGS ...\u001b[0m\n",
      "\n",
      "\n",
      "\n",
      "\u001b[1;30m\u001b[47m:: GENERATING THE CONTIGS DB ...\u001b[0m\n",
      "\n",
      "\n",
      "\n",
      "\u001b[1;30m\u001b[47m:: RUNNING HMMs ...\u001b[0m\n",
      "\n",
      "\n",
      "\n",
      "\u001b[1;30m\u001b[47m:: INPUT DIR: /ebio/abt3_projects/vadinCA11/data/V11/anvio_output, FNAME: GCA_000800805 ...\u001b[0m\n",
      "\n",
      "\n",
      "\n",
      "\u001b[1;30m\u001b[47m:: RENAMING CONTIGS ...\u001b[0m\n",
      "\n",
      "\n",
      "\n",
      "\u001b[1;30m\u001b[47m:: GENERATING THE CONTIGS DB ...\u001b[0m\n",
      "\n",
      "\n",
      "\n",
      "\u001b[1;30m\u001b[47m:: RUNNING HMMs ...\u001b[0m\n",
      "\n",
      "\n",
      "\n",
      "\u001b[1;30m\u001b[47m:: INPUT DIR: /ebio/abt3_projects/vadinCA11/data/V11/anvio_output, FNAME: GCA_001421175 ...\u001b[0m\n",
      "\n",
      "\n",
      "\n",
      "\u001b[1;30m\u001b[47m:: RENAMING CONTIGS ...\u001b[0m\n",
      "\n",
      "\n",
      "\n",
      "\u001b[1;30m\u001b[47m:: GENERATING THE CONTIGS DB ...\u001b[0m\n",
      "\n",
      "\n",
      "\n",
      "\u001b[1;30m\u001b[47m:: RUNNING HMMs ...\u001b[0m\n",
      "\n",
      "\n",
      "\n",
      "\u001b[1;30m\u001b[47m:: INPUT DIR: /ebio/abt3_projects/vadinCA11/data/V11/anvio_output, FNAME: GCA_001421185 ...\u001b[0m\n",
      "\n",
      "\n",
      "\n",
      "\u001b[1;30m\u001b[47m:: RENAMING CONTIGS ...\u001b[0m\n",
      "\n",
      "\n",
      "\n",
      "\u001b[1;30m\u001b[47m:: GENERATING THE CONTIGS DB ...\u001b[0m\n",
      "\n",
      "\n",
      "\n",
      "\u001b[1;30m\u001b[47m:: RUNNING HMMs ...\u001b[0m\n",
      "\n",
      "\n",
      "\n",
      "\u001b[1;30m\u001b[47m:: INPUT DIR: /ebio/abt3_projects/vadinCA11/data/V11/anvio_output, FNAME: GCA_001481295 ...\u001b[0m\n",
      "\n",
      "\n",
      "\n",
      "\u001b[1;30m\u001b[47m:: RENAMING CONTIGS ...\u001b[0m\n",
      "\n",
      "\n",
      "\n",
      "\u001b[1;30m\u001b[47m:: GENERATING THE CONTIGS DB ...\u001b[0m\n",
      "\n",
      "\n",
      "\n",
      "\u001b[1;30m\u001b[47m:: RUNNING HMMs ...\u001b[0m\n",
      "\n",
      "\n",
      "\n",
      "\u001b[1;30m\u001b[47m:: INPUT DIR: /ebio/abt3_projects/vadinCA11/data/V11/anvio_output, FNAME: GCA_002494585 ...\u001b[0m\n",
      "\n",
      "\n",
      "\n",
      "\u001b[1;30m\u001b[47m:: RENAMING CONTIGS ...\u001b[0m\n",
      "\n",
      "\n",
      "\n",
      "\u001b[1;30m\u001b[47m:: GENERATING THE CONTIGS DB ...\u001b[0m\n",
      "\n",
      "\n",
      "\n",
      "\u001b[1;30m\u001b[47m:: RUNNING HMMs ...\u001b[0m\n",
      "\n",
      "\n",
      "\n",
      "\u001b[1;30m\u001b[47m:: INPUT DIR: /ebio/abt3_projects/vadinCA11/data/V11/anvio_output, FNAME: GCA_002494705 ...\u001b[0m\n",
      "\n",
      "\n",
      "\n",
      "\u001b[1;30m\u001b[47m:: RENAMING CONTIGS ...\u001b[0m\n",
      "\n",
      "\n",
      "\n",
      "\u001b[1;30m\u001b[47m:: GENERATING THE CONTIGS DB ...\u001b[0m\n",
      "\n",
      "\n",
      "\n",
      "\u001b[1;30m\u001b[47m:: RUNNING HMMs ...\u001b[0m\n",
      "\n",
      "\n",
      "\n",
      "\u001b[1;30m\u001b[47m:: INPUT DIR: /ebio/abt3_projects/vadinCA11/data/V11/anvio_output, FNAME: GCA_002494805 ...\u001b[0m\n",
      "\n",
      "\n",
      "\n",
      "\u001b[1;30m\u001b[47m:: RENAMING CONTIGS ...\u001b[0m\n",
      "\n",
      "\n",
      "\n",
      "\u001b[1;30m\u001b[47m:: GENERATING THE CONTIGS DB ...\u001b[0m\n",
      "\n",
      "\n",
      "\n",
      "\u001b[1;30m\u001b[47m:: RUNNING HMMs ...\u001b[0m\n",
      "\n",
      "\n",
      "\n",
      "\u001b[1;30m\u001b[47m:: INPUT DIR: /ebio/abt3_projects/vadinCA11/data/V11/anvio_output, FNAME: GCA_002495325 ...\u001b[0m\n",
      "\n",
      "\n",
      "\n",
      "\u001b[1;30m\u001b[47m:: RENAMING CONTIGS ...\u001b[0m\n",
      "\n",
      "\n",
      "\n",
      "\u001b[1;30m\u001b[47m:: GENERATING THE CONTIGS DB ...\u001b[0m\n",
      "\n",
      "\n",
      "\n",
      "\u001b[1;30m\u001b[47m:: RUNNING HMMs ...\u001b[0m\n",
      "\n",
      "\n",
      "\n",
      "\u001b[1;30m\u001b[47m:: INPUT DIR: /ebio/abt3_projects/vadinCA11/data/V11/anvio_output, FNAME: GCA_002495495 ...\u001b[0m\n",
      "\n",
      "\n",
      "\n",
      "\u001b[1;30m\u001b[47m:: RENAMING CONTIGS ...\u001b[0m\n",
      "\n",
      "\n",
      "\n",
      "\u001b[1;30m\u001b[47m:: GENERATING THE CONTIGS DB ...\u001b[0m\n",
      "\n",
      "\n",
      "\n",
      "\u001b[1;30m\u001b[47m:: RUNNING HMMs ...\u001b[0m\n",
      "\n",
      "\n",
      "\n",
      "\u001b[1;30m\u001b[47m:: INPUT DIR: /ebio/abt3_projects/vadinCA11/data/V11/anvio_output, FNAME: GCA_002495585 ...\u001b[0m\n",
      "\n",
      "\n",
      "\n",
      "\u001b[1;30m\u001b[47m:: RENAMING CONTIGS ...\u001b[0m\n",
      "\n",
      "\n",
      "\n",
      "\u001b[1;30m\u001b[47m:: GENERATING THE CONTIGS DB ...\u001b[0m\n",
      "\n",
      "\n",
      "\n",
      "\u001b[1;30m\u001b[47m:: RUNNING HMMs ...\u001b[0m\n",
      "\n",
      "\n",
      "\n",
      "\u001b[1;30m\u001b[47m:: INPUT DIR: /ebio/abt3_projects/vadinCA11/data/V11/anvio_output, FNAME: GCA_002495665 ...\u001b[0m\n",
      "\n",
      "\n",
      "\n",
      "\u001b[1;30m\u001b[47m:: RENAMING CONTIGS ...\u001b[0m\n",
      "\n",
      "\n",
      "\n",
      "\u001b[1;30m\u001b[47m:: GENERATING THE CONTIGS DB ...\u001b[0m\n",
      "\n",
      "\n",
      "\n",
      "\u001b[1;30m\u001b[47m:: RUNNING HMMs ...\u001b[0m\n",
      "\n",
      "\n",
      "\n",
      "\u001b[1;30m\u001b[47m:: INPUT DIR: /ebio/abt3_projects/vadinCA11/data/V11/anvio_output, FNAME: GCA_002496345 ...\u001b[0m\n",
      "\n",
      "\n",
      "\n",
      "\u001b[1;30m\u001b[47m:: RENAMING CONTIGS ...\u001b[0m\n",
      "\n",
      "\n",
      "\n",
      "\u001b[1;30m\u001b[47m:: GENERATING THE CONTIGS DB ...\u001b[0m\n",
      "\n",
      "\n",
      "\n",
      "\u001b[1;30m\u001b[47m:: RUNNING HMMs ...\u001b[0m\n",
      "\n",
      "\n",
      "\n",
      "\u001b[1;30m\u001b[47m:: INPUT DIR: /ebio/abt3_projects/vadinCA11/data/V11/anvio_output, FNAME: GCA_002496385 ...\u001b[0m\n",
      "\n",
      "\n",
      "\n",
      "\u001b[1;30m\u001b[47m:: RENAMING CONTIGS ...\u001b[0m\n",
      "\n",
      "\n",
      "\n",
      "\u001b[1;30m\u001b[47m:: GENERATING THE CONTIGS DB ...\u001b[0m\n",
      "\n",
      "\n",
      "\n",
      "\u001b[1;30m\u001b[47m:: RUNNING HMMs ...\u001b[0m\n",
      "\n",
      "\n",
      "\n",
      "\u001b[1;30m\u001b[47m:: INPUT DIR: /ebio/abt3_projects/vadinCA11/data/V11/anvio_output, FNAME: GCA_002496785 ...\u001b[0m\n",
      "\n",
      "\n",
      "\n",
      "\u001b[1;30m\u001b[47m:: RENAMING CONTIGS ...\u001b[0m\n",
      "\n",
      "\n",
      "\n",
      "\u001b[1;30m\u001b[47m:: GENERATING THE CONTIGS DB ...\u001b[0m\n",
      "\n",
      "\n",
      "\n",
      "\u001b[1;30m\u001b[47m:: RUNNING HMMs ...\u001b[0m\n",
      "\n",
      "\n",
      "\n",
      "\u001b[1;30m\u001b[47m:: INPUT DIR: /ebio/abt3_projects/vadinCA11/data/V11/anvio_output, FNAME: GCA_002496945 ...\u001b[0m\n",
      "\n",
      "\n",
      "\n",
      "\u001b[1;30m\u001b[47m:: RENAMING CONTIGS ...\u001b[0m\n",
      "\n",
      "\n",
      "\n",
      "\u001b[1;30m\u001b[47m:: GENERATING THE CONTIGS DB ...\u001b[0m\n",
      "\n",
      "\n",
      "\n",
      "\u001b[1;30m\u001b[47m:: RUNNING HMMs ...\u001b[0m\n",
      "\n",
      "\n",
      "\n",
      "\u001b[1;30m\u001b[47m:: INPUT DIR: /ebio/abt3_projects/vadinCA11/data/V11/anvio_output, FNAME: GCA_002497075 ...\u001b[0m\n",
      "\n",
      "\n",
      "\n",
      "\u001b[1;30m\u001b[47m:: RENAMING CONTIGS ...\u001b[0m\n",
      "\n",
      "\n",
      "\n",
      "\u001b[1;30m\u001b[47m:: GENERATING THE CONTIGS DB ...\u001b[0m\n",
      "\n",
      "\n",
      "\n",
      "\u001b[1;30m\u001b[47m:: RUNNING HMMs ...\u001b[0m\n",
      "\n",
      "\n",
      "\n",
      "\u001b[1;30m\u001b[47m:: INPUT DIR: /ebio/abt3_projects/vadinCA11/data/V11/anvio_output, FNAME: GCA_002497155 ...\u001b[0m\n",
      "\n",
      "\n",
      "\n",
      "\u001b[1;30m\u001b[47m:: RENAMING CONTIGS ...\u001b[0m\n",
      "\n",
      "\n",
      "\n",
      "\u001b[1;30m\u001b[47m:: GENERATING THE CONTIGS DB ...\u001b[0m\n",
      "\n",
      "\n",
      "\n",
      "\u001b[1;30m\u001b[47m:: RUNNING HMMs ...\u001b[0m\n",
      "\n",
      "\n",
      "\n",
      "\u001b[1;30m\u001b[47m:: INPUT DIR: /ebio/abt3_projects/vadinCA11/data/V11/anvio_output, FNAME: GCA_002497475 ...\u001b[0m\n",
      "\n",
      "\n",
      "\n",
      "\u001b[1;30m\u001b[47m:: RENAMING CONTIGS ...\u001b[0m\n",
      "\n",
      "\n",
      "\n",
      "\u001b[1;30m\u001b[47m:: GENERATING THE CONTIGS DB ...\u001b[0m\n",
      "\n",
      "\n",
      "\n",
      "\u001b[1;30m\u001b[47m:: RUNNING HMMs ...\u001b[0m\n",
      "\n",
      "\n",
      "\n",
      "\u001b[1;30m\u001b[47m:: INPUT DIR: /ebio/abt3_projects/vadinCA11/data/V11/anvio_output, FNAME: GCA_002497995 ...\u001b[0m\n",
      "\n",
      "\n",
      "\n",
      "\u001b[1;30m\u001b[47m:: RENAMING CONTIGS ...\u001b[0m\n",
      "\n",
      "\n",
      "\n",
      "\u001b[1;30m\u001b[47m:: GENERATING THE CONTIGS DB ...\u001b[0m\n",
      "\n",
      "\n",
      "\n",
      "\u001b[1;30m\u001b[47m:: RUNNING HMMs ...\u001b[0m\n",
      "\n",
      "\n",
      "\n",
      "\u001b[1;30m\u001b[47m:: INPUT DIR: /ebio/abt3_projects/vadinCA11/data/V11/anvio_output, FNAME: GCA_002498285 ...\u001b[0m\n",
      "\n",
      "\n",
      "\n",
      "\u001b[1;30m\u001b[47m:: RENAMING CONTIGS ...\u001b[0m\n",
      "\n",
      "\n",
      "\n",
      "\u001b[1;30m\u001b[47m:: GENERATING THE CONTIGS DB ...\u001b[0m\n",
      "\n",
      "\n",
      "\n",
      "\u001b[1;30m\u001b[47m:: RUNNING HMMs ...\u001b[0m\n",
      "\n",
      "\n",
      "\n",
      "\u001b[1;30m\u001b[47m:: INPUT DIR: /ebio/abt3_projects/vadinCA11/data/V11/anvio_output, FNAME: GCA_002498365 ...\u001b[0m\n",
      "\n",
      "\n",
      "\n",
      "\u001b[1;30m\u001b[47m:: RENAMING CONTIGS ...\u001b[0m\n",
      "\n",
      "\n",
      "\n",
      "\u001b[1;30m\u001b[47m:: GENERATING THE CONTIGS DB ...\u001b[0m\n",
      "\n",
      "\n",
      "\n",
      "\u001b[1;30m\u001b[47m:: RUNNING HMMs ...\u001b[0m\n",
      "\n",
      "\n",
      "\n",
      "\u001b[1;30m\u001b[47m:: INPUT DIR: /ebio/abt3_projects/vadinCA11/data/V11/anvio_output, FNAME: GCA_002498425 ...\u001b[0m\n",
      "\n",
      "\n",
      "\n",
      "\u001b[1;30m\u001b[47m:: RENAMING CONTIGS ...\u001b[0m\n",
      "\n",
      "\n",
      "\n",
      "\u001b[1;30m\u001b[47m:: GENERATING THE CONTIGS DB ...\u001b[0m\n",
      "\n",
      "\n",
      "\n",
      "\u001b[1;30m\u001b[47m:: RUNNING HMMs ...\u001b[0m\n",
      "\n",
      "\n",
      "\n",
      "\u001b[1;30m\u001b[47m:: INPUT DIR: /ebio/abt3_projects/vadinCA11/data/V11/anvio_output, FNAME: GCA_002498545 ...\u001b[0m\n",
      "\n",
      "\n",
      "\n",
      "\u001b[1;30m\u001b[47m:: RENAMING CONTIGS ...\u001b[0m\n",
      "\n",
      "\n",
      "\n",
      "\u001b[1;30m\u001b[47m:: GENERATING THE CONTIGS DB ...\u001b[0m\n",
      "\n",
      "\n",
      "\n",
      "\u001b[1;30m\u001b[47m:: RUNNING HMMs ...\u001b[0m\n",
      "\n",
      "\n",
      "\n",
      "\u001b[1;30m\u001b[47m:: INPUT DIR: /ebio/abt3_projects/vadinCA11/data/V11/anvio_output, FNAME: GCA_002498605 ...\u001b[0m\n",
      "\n",
      "\n",
      "\n",
      "\u001b[1;30m\u001b[47m:: RENAMING CONTIGS ...\u001b[0m\n",
      "\n",
      "\n",
      "\n",
      "\u001b[1;30m\u001b[47m:: GENERATING THE CONTIGS DB ...\u001b[0m\n",
      "\n",
      "\n",
      "\n",
      "\u001b[1;30m\u001b[47m:: RUNNING HMMs ...\u001b[0m\n",
      "\n",
      "\n",
      "\n",
      "\u001b[1;30m\u001b[47m:: INPUT DIR: /ebio/abt3_projects/vadinCA11/data/V11/anvio_output, FNAME: GCA_002498765 ...\u001b[0m\n",
      "\n",
      "\n",
      "\n",
      "\u001b[1;30m\u001b[47m:: RENAMING CONTIGS ...\u001b[0m\n",
      "\n",
      "\n",
      "\n",
      "\u001b[1;30m\u001b[47m:: GENERATING THE CONTIGS DB ...\u001b[0m\n",
      "\n",
      "\n",
      "\n",
      "\u001b[1;30m\u001b[47m:: RUNNING HMMs ...\u001b[0m\n",
      "\n",
      "\n",
      "\n",
      "\u001b[1;30m\u001b[47m:: INPUT DIR: /ebio/abt3_projects/vadinCA11/data/V11/anvio_output, FNAME: GCA_002498785 ...\u001b[0m\n",
      "\n",
      "\n",
      "\n",
      "\u001b[1;30m\u001b[47m:: RENAMING CONTIGS ...\u001b[0m\n",
      "\n",
      "\n",
      "\n",
      "\u001b[1;30m\u001b[47m:: GENERATING THE CONTIGS DB ...\u001b[0m\n",
      "\n",
      "\n",
      "\n",
      "\u001b[1;30m\u001b[47m:: RUNNING HMMs ...\u001b[0m\n",
      "\n",
      "\n",
      "\n",
      "\u001b[1;30m\u001b[47m:: INPUT DIR: /ebio/abt3_projects/vadinCA11/data/V11/anvio_output, FNAME: GCA_002498805 ...\u001b[0m\n",
      "\n",
      "\n",
      "\n",
      "\u001b[1;30m\u001b[47m:: RENAMING CONTIGS ...\u001b[0m\n",
      "\n",
      "\n",
      "\n",
      "\u001b[1;30m\u001b[47m:: GENERATING THE CONTIGS DB ...\u001b[0m\n",
      "\n",
      "\n",
      "\n",
      "\u001b[1;30m\u001b[47m:: RUNNING HMMs ...\u001b[0m\n",
      "\n",
      "\n",
      "\n",
      "\u001b[1;30m\u001b[47m:: INPUT DIR: /ebio/abt3_projects/vadinCA11/data/V11/anvio_output, FNAME: GCA_002499085 ...\u001b[0m\n",
      "\n",
      "\n",
      "\n",
      "\u001b[1;30m\u001b[47m:: RENAMING CONTIGS ...\u001b[0m\n",
      "\n",
      "\n",
      "\n",
      "\u001b[1;30m\u001b[47m:: GENERATING THE CONTIGS DB ...\u001b[0m\n",
      "\n",
      "\n",
      "\n",
      "\u001b[1;30m\u001b[47m:: RUNNING HMMs ...\u001b[0m\n",
      "\n",
      "\n",
      "\n",
      "\u001b[1;30m\u001b[47m:: INPUT DIR: /ebio/abt3_projects/vadinCA11/data/V11/anvio_output, FNAME: GCA_002502005 ...\u001b[0m\n",
      "\n",
      "\n",
      "\n",
      "\u001b[1;30m\u001b[47m:: RENAMING CONTIGS ...\u001b[0m\n",
      "\n",
      "\n",
      "\n",
      "\u001b[1;30m\u001b[47m:: GENERATING THE CONTIGS DB ...\u001b[0m\n",
      "\n",
      "\n",
      "\n",
      "\u001b[1;30m\u001b[47m:: RUNNING HMMs ...\u001b[0m\n",
      "\n",
      "\n",
      "\n",
      "\u001b[1;30m\u001b[47m:: INPUT DIR: /ebio/abt3_projects/vadinCA11/data/V11/anvio_output, FNAME: GCA_002502465 ...\u001b[0m\n",
      "\n",
      "\n",
      "\n",
      "\u001b[1;30m\u001b[47m:: RENAMING CONTIGS ...\u001b[0m\n",
      "\n",
      "\n",
      "\n",
      "\u001b[1;30m\u001b[47m:: GENERATING THE CONTIGS DB ...\u001b[0m\n",
      "\n",
      "\n",
      "\n",
      "\u001b[1;30m\u001b[47m:: RUNNING HMMs ...\u001b[0m\n",
      "\n",
      "\n",
      "\n",
      "\u001b[1;30m\u001b[47m:: INPUT DIR: /ebio/abt3_projects/vadinCA11/data/V11/anvio_output, FNAME: GCA_002502545 ...\u001b[0m\n",
      "\n",
      "\n",
      "\n",
      "\u001b[1;30m\u001b[47m:: RENAMING CONTIGS ...\u001b[0m\n",
      "\n",
      "\n",
      "\n",
      "\u001b[1;30m\u001b[47m:: GENERATING THE CONTIGS DB ...\u001b[0m\n",
      "\n",
      "\n",
      "\n",
      "\u001b[1;30m\u001b[47m:: RUNNING HMMs ...\u001b[0m\n",
      "\n",
      "\n",
      "\n",
      "\u001b[1;30m\u001b[47m:: INPUT DIR: /ebio/abt3_projects/vadinCA11/data/V11/anvio_output, FNAME: GCA_002502765 ...\u001b[0m\n",
      "\n",
      "\n",
      "\n",
      "\u001b[1;30m\u001b[47m:: RENAMING CONTIGS ...\u001b[0m\n",
      "\n",
      "\n",
      "\n",
      "\u001b[1;30m\u001b[47m:: GENERATING THE CONTIGS DB ...\u001b[0m\n",
      "\n",
      "\n",
      "\n",
      "\u001b[1;30m\u001b[47m:: RUNNING HMMs ...\u001b[0m\n",
      "\n",
      "\n",
      "\n",
      "\u001b[1;30m\u001b[47m:: INPUT DIR: /ebio/abt3_projects/vadinCA11/data/V11/anvio_output, FNAME: GCA_002502925 ...\u001b[0m\n",
      "\n",
      "\n",
      "\n",
      "\u001b[1;30m\u001b[47m:: RENAMING CONTIGS ...\u001b[0m\n",
      "\n",
      "\n",
      "\n",
      "\u001b[1;30m\u001b[47m:: GENERATING THE CONTIGS DB ...\u001b[0m\n",
      "\n",
      "\n",
      "\n",
      "\u001b[1;30m\u001b[47m:: RUNNING HMMs ...\u001b[0m\n",
      "\n",
      "\n",
      "\n",
      "\u001b[1;30m\u001b[47m:: INPUT DIR: /ebio/abt3_projects/vadinCA11/data/V11/anvio_output, FNAME: GCA_002502965 ...\u001b[0m\n",
      "\n",
      "\n",
      "\n",
      "\u001b[1;30m\u001b[47m:: RENAMING CONTIGS ...\u001b[0m\n",
      "\n",
      "\n",
      "\n",
      "\u001b[1;30m\u001b[47m:: GENERATING THE CONTIGS DB ...\u001b[0m\n",
      "\n",
      "\n",
      "\n",
      "\u001b[1;30m\u001b[47m:: RUNNING HMMs ...\u001b[0m\n",
      "\n",
      "\n",
      "\n",
      "\u001b[1;30m\u001b[47m:: INPUT DIR: /ebio/abt3_projects/vadinCA11/data/V11/anvio_output, FNAME: GCA_002503495 ...\u001b[0m\n",
      "\n",
      "\n",
      "\n",
      "\u001b[1;30m\u001b[47m:: RENAMING CONTIGS ...\u001b[0m\n",
      "\n",
      "\n",
      "\n",
      "\u001b[1;30m\u001b[47m:: GENERATING THE CONTIGS DB ...\u001b[0m\n",
      "\n",
      "\n",
      "\n",
      "\u001b[1;30m\u001b[47m:: RUNNING HMMs ...\u001b[0m\n",
      "\n",
      "\n",
      "\n",
      "\u001b[1;30m\u001b[47m:: INPUT DIR: /ebio/abt3_projects/vadinCA11/data/V11/anvio_output, FNAME: GCA_002503545 ...\u001b[0m\n",
      "\n",
      "\n",
      "\n",
      "\u001b[1;30m\u001b[47m:: RENAMING CONTIGS ...\u001b[0m\n",
      "\n",
      "\n",
      "\n",
      "\u001b[1;30m\u001b[47m:: GENERATING THE CONTIGS DB ...\u001b[0m\n",
      "\n",
      "\n",
      "\n",
      "\u001b[1;30m\u001b[47m:: RUNNING HMMs ...\u001b[0m\n",
      "\n",
      "\n",
      "\n",
      "\u001b[1;30m\u001b[47m:: INPUT DIR: /ebio/abt3_projects/vadinCA11/data/V11/anvio_output, FNAME: GCA_002503645 ...\u001b[0m\n",
      "\n",
      "\n",
      "\n",
      "\u001b[1;30m\u001b[47m:: RENAMING CONTIGS ...\u001b[0m\n",
      "\n",
      "\n",
      "\n",
      "\u001b[1;30m\u001b[47m:: GENERATING THE CONTIGS DB ...\u001b[0m\n",
      "\n",
      "\n",
      "\n",
      "\u001b[1;30m\u001b[47m:: RUNNING HMMs ...\u001b[0m\n",
      "\n",
      "\n",
      "\n",
      "\u001b[1;30m\u001b[47m:: INPUT DIR: /ebio/abt3_projects/vadinCA11/data/V11/anvio_output, FNAME: GCA_002503785 ...\u001b[0m\n",
      "\n",
      "\n",
      "\n",
      "\u001b[1;30m\u001b[47m:: RENAMING CONTIGS ...\u001b[0m\n",
      "\n",
      "\n",
      "\n",
      "\u001b[1;30m\u001b[47m:: GENERATING THE CONTIGS DB ..."
     ]
    },
    {
     "data": {
      "text/html": [
       "<b>limit_output extension: Maximum message size of 10000 exceeded with 17636 characters</b>"
      ]
     },
     "metadata": {},
     "output_type": "display_data"
    }
   ],
   "source": [
    "%%bash\n",
    "# Create anvio dbs\n",
    "source activate metacompass\n",
    "for i in /ebio/abt3_projects/vadinCA11/data/V11/anvio_output/*fa\n",
    "do\n",
    "    anvi-script-FASTA-to-contigs-db $i\n",
    "done"
   ]
  },
  {
   "cell_type": "code",
   "execution_count": 17,
   "metadata": {
    "ExecuteTime": {
     "end_time": "2018-06-29T16:18:12.448542Z",
     "start_time": "2018-06-29T16:18:12.102899Z"
    }
   },
   "outputs": [
    {
     "name": "stdout",
     "output_type": "stream",
     "text": [
      "/ebio/abt3_projects/vadinCA11/data/V11/anvio_output/*.fa\n"
     ]
    }
   ],
   "source": [
    "# Remove all temporary .fa files\n",
    "tmp_fa_files = os.path.join(anvio_output, \"*.fa\")\n",
    "print(tmp_fa_files)\n",
    "!rm $tmp_fa_files"
   ]
  },
  {
   "cell_type": "code",
   "execution_count": 7,
   "metadata": {
    "ExecuteTime": {
     "end_time": "2018-07-11T11:49:33.633925Z",
     "start_time": "2018-07-11T11:49:33.618874Z"
    }
   },
   "outputs": [
    {
     "name": "stdout",
     "output_type": "stream",
     "text": [
      "bash -c \"source activate metacompass; anvi-get-sequences-for-hmm-hits --external-genomes /ebio/abt3_projects/vadinCA11/data/V11/anvio_output/external_genomes.txt --list-hmm-sources\"\n"
     ]
    }
   ],
   "source": [
    "# List available single copy core genes\n",
    "# Run this command on the terminal because the character limit\n",
    "# won't show all the output\n",
    "external_genomes = os.path.join(anvio_output, \"external_genomes.txt\")\n",
    "hmm_cmd = \"anvi-get-sequences-for-hmm-hits --external-genomes {0} --list-hmm-sources\"\n",
    "hmm_cmd = hmm_cmd.format(external_genomes)\n",
    "hmm_job = 'bash -c \"source activate {0}; {1}\"'\n",
    "hmm_job = hmm_job.format(metacompass_env, hmm_cmd)\n",
    "print(hmm_job)\n",
    "#!$hmm_job"
   ]
  },
  {
   "cell_type": "markdown",
   "metadata": {},
   "source": [
    "The available marker sets are\n",
    "\n",
    "*HMM Sources common to all 71 genomes*\n",
    "* [Rinke et al](https://www.nature.com/articles/nature12352) [type: singlecopy] [num genes: 162]\n",
    "* [Campbell et al](http://www.pnas.org/content/110/14/5540.short) [type: singlecopy] [num genes: 139]\n",
    "* Ribosomal RNAs [type: Ribosomal_RNAs] [num genes: 12]\n",
    "\n",
    "The Rinke et al dataset is an rchaeal single-copy core core gene collection. Thus, I will use this in the analysis\n"
   ]
  },
  {
   "cell_type": "code",
   "execution_count": 8,
   "metadata": {
    "ExecuteTime": {
     "end_time": "2018-07-11T11:49:35.984516Z",
     "start_time": "2018-07-11T11:49:35.971814Z"
    }
   },
   "outputs": [
    {
     "name": "stdout",
     "output_type": "stream",
     "text": [
      "bash -c \"source activate metacompass; anvi-get-sequences-for-hmm-hits --external-genomes /ebio/abt3_projects/vadinCA11/data/V11/anvio_output/external_genomes.txt     --hmm-source Ribosomal_RNAs     --list-available-gene-names\"\n"
     ]
    }
   ],
   "source": [
    "# List the genes included in the Rinke marker set\n",
    "# Run this command on the terminal\n",
    "hmm_cmd = \"anvi-get-sequences-for-hmm-hits --external-genomes {0} \\\n",
    "    --hmm-source Rinke_et_al \\\n",
    "    --list-available-gene-names\"\n",
    "hmm_cmd = hmm_cmd.format(external_genomes)\n",
    "hmm_job = 'bash -c \"source activate {0}; {1}\"'\n",
    "hmm_job = hmm_job.format(metacompass_env, hmm_cmd)\n",
    "print(hmm_job)"
   ]
  },
  {
   "cell_type": "markdown",
   "metadata": {},
   "source": [
    "**Rinke_et_al: single copy genes**: ATP-synt_C, ATP-synt_D, ATP-synt_F,\n",
    "Adenylsucc_synt, AdoHcyase, AdoHcyase_NAD, AdoMet_Synthase, Archease, B5, CTP-\n",
    "dep_RFKase, CTP_synth_N, DALR_1, DFP, DHO_dh, DKCLD, DNA_binding_1,\n",
    "DNA_primase_S, DNA_primase_lrg, DUF137, DUF357, DUF359, DUF46, DUF655, DUF814,\n",
    "DUF99, Diphthamide_syn, EF1_GNE, EFG_C, EFG_IV, EIF_2_alpha, Enolase_C,\n",
    "Fibrillarin, GAD, GCD14, GMP_synt_C, HMG-CoA_red, Ham1p_like, IF-2, LigT_PEase,\n",
    "MAF_flag10, MoaC, Mob_synth_C, NAC, NDK, NMD3, Nop, Nop10p, PGK, PTH2, PcrB,\n",
    "Plug_translocon, Prefoldin, Prefoldin_2, PyrI, PyrI_C, RNA_pol_A_bac, RNA_pol_N,\n",
    "RNA_pol_Rpb1_1, RNA_pol_Rpb1_2, RNA_pol_Rpb1_3, RNA_pol_Rpb1_4, RNA_pol_Rpb2_1,\n",
    "RNA_pol_Rpb2_2, RNA_pol_Rpb2_3, RNA_pol_Rpb2_4, RNA_pol_Rpb2_5, RNA_pol_Rpb2_6,\n",
    "RNA_pol_Rpb2_7, RNA_pol_Rpb4, RNA_pol_Rpb5_C, RNA_pol_Rpb6, RNase_HII, RS4NT,\n",
    "Rib_5-P_isom_A, Ribosom_S12_S23, Ribosomal_L1, Ribosomal_L10, Ribosomal_L11,\n",
    "Ribosomal_L11_N, Ribosomal_L13, Ribosomal_L14, Ribosomal_L15e, Ribosomal_L16,\n",
    "Ribosomal_L18p, Ribosomal_L19e, Ribosomal_L2, Ribosomal_L21e, Ribosomal_L22,\n",
    "Ribosomal_L23, Ribosomal_L24e, Ribosomal_L29, Ribosomal_L2_C, Ribosomal_L3,\n",
    "Ribosomal_L30, Ribosomal_L31e, Ribosomal_L32e, Ribosomal_L37ae, Ribosomal_L37e,\n",
    "Ribosomal_L39, Ribosomal_L4, Ribosomal_L44, Ribosomal_L5, Ribosomal_L5_C,\n",
    "Ribosomal_L6, Ribosomal_S11, Ribosomal_S13, Ribosomal_S13_N, Ribosomal_S14,\n",
    "Ribosomal_S15, Ribosomal_S17, Ribosomal_S17e, Ribosomal_S19, Ribosomal_S19e,\n",
    "Ribosomal_S2, Ribosomal_S24e, Ribosomal_S27, Ribosomal_S27e, Ribosomal_S28e,\n",
    "Ribosomal_S3Ae, Ribosomal_S3_C, Ribosomal_S4e, Ribosomal_S5, Ribosomal_S5_C,\n",
    "Ribosomal_S6e, Ribosomal_S7, Ribosomal_S8, Ribosomal_S8e, Ribosomal_S9, RtcB,\n",
    "SBDS, SBDS_C, SHS2_Rpb7-N, SNO, SRP19, SRP_SPB, SUI1, Sec61_beta, SecY, Spt4,\n",
    "Spt5-NGN, TIM, TP6A_N, TRM, Topo-VIb_trans, TruB_N, UPF0004, UPF0086,\n",
    "V_ATPase_I, Wyosine_form, XPG_I, XPG_N, YjeF_N, dsDNA_bind, eIF-5a, eIF-6,\n",
    "eIF2_C, tRNA-synt_1c, tRNA-synt_1c_C, tRNA-synt_1d, tRNA_NucTransf2,\n",
    "tRNA_deacylase, vATP-synt_E"
   ]
  },
  {
   "cell_type": "code",
   "execution_count": 11,
   "metadata": {
    "ExecuteTime": {
     "end_time": "2018-07-11T12:26:37.784485Z",
     "start_time": "2018-07-11T12:26:37.773702Z"
    }
   },
   "outputs": [
    {
     "name": "stdout",
     "output_type": "stream",
     "text": [
      "bash -c \"source activate metacompass; anvi-get-sequences-for-hmm-hits --external-genomes /ebio/abt3_projects/vadinCA11/data/V11/anvio_output/external_genomes.txt     -o /ebio/abt3_projects/vadinCA11/data/V11/anvio_output/concatenated_proteins.fa     --hmm-source Rinke_et_al     --return-best-hit     --get-aa-sequences     --concatenate     --min-num-bins-gene-occurs 50\"\n"
     ]
    }
   ],
   "source": [
    "# Obtain concatenated sequence of genes\n",
    "# Keep genes that are in at least 50 genomes\n",
    "concatenated_file = os.path.join(anvio_output, \"concatenated_proteins.fa\")\n",
    "concat_cmd = \"anvi-get-sequences-for-hmm-hits --external-genomes {0} \\\n",
    "    -o {1} \\\n",
    "    --hmm-source Rinke_et_al \\\n",
    "    --return-best-hit \\\n",
    "    --get-aa-sequences \\\n",
    "    --concatenate \\\n",
    "    --min-num-bins-gene-occurs 50\"\n",
    "concat_cmd = concat_cmd.format(external_genomes, concatenated_file)\n",
    "concat_job = 'bash -c \"source activate {0}; {1}\"'\n",
    "concat_job = concat_job.format(metacompass_env, concat_cmd)\n",
    "print(concat_job)\n",
    "#!$concat_job"
   ]
  },
  {
   "cell_type": "code",
   "execution_count": 12,
   "metadata": {
    "ExecuteTime": {
     "end_time": "2018-07-11T12:34:01.360480Z",
     "start_time": "2018-07-11T12:34:01.351537Z"
    }
   },
   "outputs": [
    {
     "name": "stdout",
     "output_type": "stream",
     "text": [
      "bash -c \"source activate metacompass; anvi-gen-phylogenomic-tree -f /ebio/abt3_projects/vadinCA11/data/V11/anvio_output/concatenated_proteins.fa     -o /ebio/abt3_projects/vadinCA11/data/V11/anvio_output/phylogenomic_tree.txt\"\n"
     ]
    }
   ],
   "source": [
    "# Construct tree using the concatenated alignment\n",
    "phylogenome_file = os.path.join(anvio_output, \"phylogenomic_tree.txt\")\n",
    "phylogenome_cmd = \"anvi-gen-phylogenomic-tree -f {0} \\\n",
    "    -o {1}\"\n",
    "phylogenome_cmd = phylogenome_cmd.format(concatenated_file, phylogenome_file)\n",
    "phylogenome_job = 'bash -c \"source activate {0}; {1}\"'\n",
    "phylogenome_job = phylogenome_job.format(metacompass_env, phylogenome_cmd)\n",
    "print(phylogenome_job)\n",
    "#!$phylogenome_job"
   ]
  },
  {
   "cell_type": "markdown",
   "metadata": {},
   "source": [
    "```\n",
    "Alignment sequence length ....................: 69,674\n",
    "Version ......................................: FastTree Version 2.1.10 Double precision (No SSE3)\n",
    "Alignment ....................................: standard input\n",
    "Info .........................................: Amino acid distances: BLOSUM45 Joins: balanced Support: SH-like 1000\n",
    "Search .......................................: Normal +NNI +SPR (2 rounds range 10) +ML-NNI opt-each=1\n",
    "TopHits ......................................: 1.00*sqrtN close=default refresh=0.80\n",
    "ML Model .....................................: Jones-Taylor-Thorton, CAT approximation with 20 rate categories\n",
    "Info .........................................: Ignored unknown character X (seen 50197 times)\n",
    "Refining topology ............................: 25 rounds ME-NNIs, 2 rounds ME-SPRs, 12 rounds ML-NNIs\n",
    "Info .........................................: Total branch-length 3.633 after 61.65 sec\n",
    "ML-NNI round 1 ...............................: LogLk = -1234633.807 NNIs 16 max delta 105.55 Time 226.66\n",
    "Info .........................................: Switched to using 20 rate categories (CAT approximation)\n",
    "Info .........................................: Rate categories were divided by 0.826 so that average rate = 1.0\n",
    "Info .........................................: CAT-based log-likelihoods may not be comparable across runs\n",
    "Info .........................................: Use -gamma for approximate but comparable Gamma(20) log-likelihoods\n",
    "ML-NNI round 2 ...............................: LogLk = -1130849.645 NNIs 5 max delta 134.62 Time 357.87\n",
    "ML-NNI round 3 ...............................: LogLk = -1130820.348 NNIs 2 max delta 6.39 Time 385.20\n",
    "ML-NNI round 4 ...............................: LogLk = -1130785.069 NNIs 2 max delta 30.91 Time 405.16\n",
    "ML-NNI round 5 ...............................: LogLk = -1130784.853 NNIs 0 max delta 0.00 Time 416.05\n",
    "Info .........................................: Turning off heuristics for final round of ML NNIs (converged)\n",
    "ML-NNI round 6 ...............................: LogLk = -1130692.015 NNIs 2 max delta 16.25 Time 536.72 (final)\n",
    "Optimize all lengths .........................: LogLk = -1130690.891 Time 574.36\n",
    "```"
   ]
  },
  {
   "cell_type": "markdown",
   "metadata": {},
   "source": [
    "# Session info"
   ]
  },
  {
   "cell_type": "code",
   "execution_count": 196,
   "metadata": {
    "ExecuteTime": {
     "end_time": "2018-06-29T10:53:56.980600Z",
     "start_time": "2018-06-29T10:53:46.033150Z"
    },
    "scrolled": false
   },
   "outputs": [
    {
     "name": "stdout",
     "output_type": "stream",
     "text": [
      "# packages in environment at /ebio/abt3_projects/software/miniconda3/envs/metacompass:\n",
      "#\n",
      "anvio                     4.0.0                    py35_2    bioconda\n",
      "aragorn                   1.2.38                        1    bioconda\n",
      "asn1crypto                0.24.0                   py35_0  \n",
      "atomicwrites              1.1.5                    py35_0  \n",
      "attrs                     18.1.0                   py35_0  \n",
      "backcall                  0.1.0                    py35_0  \n",
      "barrnap                   0.9                           0    bioconda\n",
      "bcftools                  1.4.1                         0    bioconda\n",
      "bcrypt                    3.1.4            py35ha35c455_0  \n",
      "bedtools                  2.27.1                        1    bioconda\n",
      "biopython                 1.68                     py35_0    bioconda\n",
      "blast                     2.5.0                h3727419_3    bioconda\n",
      "blast-legacy              2.2.26                        0    bioconda\n",
      "bleach                    2.1.3                    py35_0  \n",
      "boost                     1.66.0                   py35_1    conda-forge\n",
      "boost-cpp                 1.66.0                        1    conda-forge\n",
      "bottle                    0.12.13                  py35_0    conda-forge\n",
      "bowtie2                   2.3.0                    py35_1    bioconda\n",
      "bwa                       0.7.17               ha92aebf_3    bioconda\n",
      "bz2file                   0.98                     py35_0  \n",
      "bzip2                     1.0.6                h9a117a8_4  \n",
      "ca-certificates           2018.03.07                    0  \n",
      "cairo                     1.14.12              h77bcde2_0  \n",
      "capnproto                 0.6.1                         0    conda-forge\n",
      "centrifuge                1.0.4_beta       py35pl5.22.0_0    bioconda\n",
      "certifi                   2018.4.16                py35_0  \n",
      "cffi                      1.11.5           py35h9745a5d_0  \n",
      "cherrypy                  8.0.0                    py35_0    conda-forge\n",
      "cryptography              2.2.2            py35h14c3975_0  \n",
      "curl                      7.59.0               h84994c4_0  \n",
      "cycler                    0.10.0           py35hc4d5149_0  \n",
      "cython                    0.28.3           py35h14c3975_0  \n",
      "dbus                      1.13.2               hc3f9b76_0  \n",
      "decorator                 4.3.0                    py35_0  \n",
      "dendropy                  4.2.0                    py35_0    bioconda\n",
      "diamond                   0.9.22               h065a656_0    bioconda\n",
      "django                    2.0.2            py35hd476221_0  \n",
      "docutils                  0.14             py35hd11081d_0  \n",
      "drep                      2.0.5                    py35_0    bioconda\n",
      "dropbox                   5.2.1                    py35_0    bioconda\n",
      "entrypoints               0.2.3            py35h48174a2_2  \n",
      "ete3                      3.1.1                    py35_0    bioconda\n",
      "expat                     2.2.5                he0dffb1_0  \n",
      "filechunkio               1.6                      py35_0    bioconda\n",
      "fontconfig                2.12.6               h49f89f6_0  \n",
      "freetype                  2.8                  hab7d2ae_1  \n",
      "ftputil                   3.2                      py35_0    bioconda\n",
      "glib                      2.53.6               h5d9569c_2  \n",
      "gmp                       6.1.2                h6c8ec71_1  \n",
      "gnutls                    3.5.17                        0    conda-forge\n",
      "graphite2                 1.3.11               h16798f4_2  \n",
      "gsl                       2.2.1                h0c605f7_3  \n",
      "gst-plugins-base          1.12.4               h33fb286_0  \n",
      "gstreamer                 1.12.4               hb53b477_0  \n",
      "h5py                      2.8.0            py35ha1f6525_0  \n",
      "harfbuzz                  1.7.6                hc5b324e_0  \n",
      "hdf5                      1.10.2               hba1933b_1  \n",
      "hmmer                     3.1b2                         0    biocore\n",
      "html5lib                  1.0.1            py35h2f9c1c0_0  \n",
      "htslib                    1.4.1                         0    bioconda\n",
      "icu                       58.2                 h9c2bf20_1  \n",
      "idna                      2.6              py35h8605a33_1  \n",
      "ijson                     2.3                      py35_0    conda-forge\n",
      "infernal                  1.1.2                         0    bioconda\n",
      "intel-openmp              2018.0.0                      8  \n",
      "ipykernel                 4.8.2                    py35_0  \n",
      "ipython                   6.4.0                    py35_0  \n",
      "ipython_genutils          0.2.0            py35hc9e07d0_0  \n",
      "jedi                      0.12.0                   py35_1  \n",
      "jinja2                    2.10             py35h480ab6d_0  \n",
      "jpeg                      9b                   h024ee3a_2  \n",
      "jsonschema                2.6.0            py35h4395190_0  \n",
      "jupyter_client            5.2.3                    py35_0  \n",
      "jupyter_core              4.4.0            py35ha89e94b_0  \n",
      "khmer                     2.1.2                    py35_0    bioconda\n",
      "kiwisolver                1.0.1            py35hcb1117a_0  \n",
      "libcurl                   7.59.0               h1ad7b7a_0  \n",
      "libdeflate                0.8                           0    bioconda\n",
      "libedit                   3.1.20170329                  0    conda-forge\n",
      "libffi                    3.2.1                hd88cf55_4  \n",
      "libgcc                    7.2.0                h69d50b8_2  \n",
      "libgcc-ng                 7.2.0                hdf63c60_3  \n",
      "libgfortran-ng            7.2.0                hdf63c60_3  \n",
      "libidn11                  1.33                          0    conda-forge\n",
      "libopenblas               0.2.20               h9ac9557_7  \n",
      "libpng                    1.6.34               hb9fc6fc_0  \n",
      "libsodium                 1.0.16               h1bed415_0  \n",
      "libssh2                   1.8.0                h9cfc8f7_4  \n",
      "libstdcxx-ng              7.2.0                hdf63c60_3  \n",
      "libtiff                   4.0.9                he85c1e1_1  \n",
      "libuuid                   1.0.3                h1bed415_2  \n",
      "libxcb                    1.13                 h1bed415_1  \n",
      "libxml2                   2.9.8                hf84eae3_0  \n",
      "libxslt                   1.1.32               h1312cb7_0  \n",
      "lxml                      4.2.2            py35hf71bdeb_0  \n",
      "markupsafe                1.0              py35h4f4fcf6_1  \n",
      "mash                      2.0                    gsl2.2_2    bioconda\n",
      "matplotlib                2.2.2            py35h0e671d2_1  \n",
      "mcl                       14.137               h470a237_3    bioconda\n",
      "megahit                   1.0.6                    py35_1    bioconda\n",
      "meryl                     2013                          0    bioconda\n",
      "minced                    0.3.0                         0    bioconda\n",
      "mistune                   0.7.4            py35hfd0f961_0  \n",
      "mkl                       2018.0.2                      1  \n",
      "mkl_fft                   1.0.1            py35h3010b51_0  \n",
      "mkl_random                1.0.1            py35h629b387_0  \n",
      "mmtf-python               1.0.2                    py35_0    bioconda\n",
      "more-itertools            4.2.0                    py35_0  \n",
      "msgpack-python            0.5.6            py35h6bb024c_0  \n",
      "mummer                    3.23                 pl5.22.0_5    bioconda\n",
      "muscle                    3.8.1551                      2    bioconda\n",
      "nbconvert                 5.3.1            py35hc5194e3_0  \n",
      "nbformat                  4.4.0            py35h12e6e07_0  \n",
      "ncbi-genome-download      0.2.6                    py35_0    bioconda\n",
      "ncbi-ngs-sdk              2.9.0                         0    bioconda\n",
      "ncbi-vdb                  2.9.0                         0    bioconda\n",
      "ncurses                   5.9                          10  \n",
      "nettle                    3.3                           0    conda-forge\n",
      "nonpareil                 3.2                    r3.4.1_0    bioconda\n",
      "notebook                  5.5.0                    py35_0  \n",
      "numpy                     1.12.1           py35hca0bb5e_1  \n",
      "numpy-base                1.14.3           py35hdbf6ddf_0  \n",
      "olefile                   0.45.1                   py35_0  \n",
      "openblas                  0.2.20                        4  \n",
      "openblas-devel            0.2.20                        7  \n",
      "openjdk                   8.0.121                       1  \n",
      "openssl                   1.0.2o               h20670df_0  \n",
      "pandas                    0.20.1              np112py35_0  \n",
      "pandoc                    1.19.2.1             hea2e7c5_1  \n",
      "pandocfilters             1.4.2            py35h1565a15_1  \n",
      "pango                     1.40.11              h8191d47_0  \n",
      "parallel                  20170422             pl5.22.0_0    bioconda\n",
      "paramiko                  2.4.1                    py35_0  \n",
      "parso                     0.2.1                    py35_0  \n",
      "patsy                     0.5.0                    py35_0  \n",
      "pcre                      8.39                          1  \n",
      "perl                      5.22.0.1                      0    conda-forge\n",
      "perl-app-cpanminus        1.7043               pl5.22.0_0    bioconda\n",
      "perl-archive-tar          2.18                 pl5.22.0_2    bioconda\n",
      "perl-bioperl              1.6.924                       4    bioconda\n",
      "perl-carp                 1.38                 pl5.22.0_0    bioconda\n",
      "perl-compress-raw-bzip2   2.069                         1    bioconda\n",
      "perl-compress-raw-zlib    2.069                         3    bioconda\n",
      "perl-data-dumper          2.161                pl5.22.0_0    bioconda\n",
      "perl-digest-hmac          1.03                 pl5.22.0_1    bioconda\n",
      "perl-encode-locale        1.05                 pl5.22.0_4    bioconda\n",
      "perl-exporter             5.72                 pl5.22.0_0    bioconda\n",
      "perl-exporter-tiny        0.042                         1    bioconda\n",
      "perl-extutils-makemaker   7.24                 pl5.22.0_1    bioconda\n",
      "perl-file-listing         6.04                          0    bioconda\n",
      "perl-html-parser          3.72                 pl5.22.0_1    bioconda\n",
      "perl-html-tagset          3.20                 pl5.22.0_"
     ]
    },
    {
     "data": {
      "text/html": [
       "<b>limit_output extension: Maximum message size of 10000 exceeded with 16091 characters</b>"
      ]
     },
     "metadata": {},
     "output_type": "display_data"
    }
   ],
   "source": [
    "!conda list -n metacompass"
   ]
  },
  {
   "cell_type": "code",
   "execution_count": null,
   "metadata": {},
   "outputs": [],
   "source": []
  }
 ],
 "metadata": {
  "kernelspec": {
   "display_name": "Python [conda env:metacompass]",
   "language": "python",
   "name": "conda-env-metacompass-py"
  },
  "language_info": {
   "codemirror_mode": {
    "name": "ipython",
    "version": 3
   },
   "file_extension": ".py",
   "mimetype": "text/x-python",
   "name": "python",
   "nbconvert_exporter": "python",
   "pygments_lexer": "ipython3",
   "version": "3.6.6"
  },
  "toc": {
   "base_numbering": 1,
   "nav_menu": {},
   "number_sections": true,
   "sideBar": true,
   "skip_h1_title": false,
   "title_cell": "Table of Contents",
   "title_sidebar": "Contents",
   "toc_cell": false,
   "toc_position": {},
   "toc_section_display": "block",
   "toc_window_display": false
  }
 },
 "nbformat": 4,
 "nbformat_minor": 2
}
