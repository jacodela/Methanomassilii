{
 "cells": [
  {
   "cell_type": "markdown",
   "metadata": {},
   "source": [
    "# Goal\n",
    "Jacobo de la Cuesta-Zuluaga, May 2019.\n",
    "\n",
    "Now that I have the gene clusters from `panX`, I can obtain a better annotation of them using `InterproScan` and `eggNOG mapper`."
   ]
  },
  {
   "cell_type": "markdown",
   "metadata": {},
   "source": [
    "# Init"
   ]
  },
  {
   "cell_type": "code",
   "execution_count": 3,
   "metadata": {
    "ExecuteTime": {
     "end_time": "2019-08-21T12:12:04.112383Z",
     "start_time": "2019-08-21T12:12:02.887558Z"
    }
   },
   "outputs": [
    {
     "name": "stderr",
     "output_type": "stream",
     "text": [
      "/ebio/abt3_projects/software/miniconda3_gt4.4/envs/py3/lib/python3.6/importlib/_bootstrap.py:219: RuntimeWarning: numpy.dtype size changed, may indicate binary incompatibility. Expected 96, got 88\n",
      "  return f(*args, **kwds)\n"
     ]
    }
   ],
   "source": [
    "import os\n",
    "import pandas as pd\n",
    "import subprocess\n",
    "import json\n",
    "from collections import Counter"
   ]
  },
  {
   "cell_type": "markdown",
   "metadata": {},
   "source": [
    "# Var"
   ]
  },
  {
   "cell_type": "code",
   "execution_count": 4,
   "metadata": {
    "ExecuteTime": {
     "end_time": "2019-08-21T12:12:04.328211Z",
     "start_time": "2019-08-21T12:12:04.114998Z"
    }
   },
   "outputs": [],
   "source": [
    "# Work dir\n",
    "work_dir = \"/ebio/abt3_projects/vadinCA11/data/V11\"\n",
    "panX_dir = os.path.join(work_dir, \"panx_output/pan-genome-analysis/data/Methanomassilii/vis/geneCluster\")\n",
    "annotation_dir = os.path.join(work_dir, \"cluster_annot\")\n",
    "if not os.path.exists(annotation_dir):\n",
    "    os.makedirs(annotation_dir)\n",
    "# Misc\n",
    "metacompass_env = \"metacompass\"\n",
    "panx_env = \"py2_panX\"\n",
    "\n",
    "# eggNOG database\n",
    "eggnog_db = \"/ebio/abt3_projects/databases_no-backup/Eggnog\"\n",
    "\n",
    "# interpro executable_dir\n",
    "interpro_bin = \"/ebio/abt3_projects/vadinCA11/bin/interpro/interproscan_5\"\n",
    "interpro_sh = os.path.join(interpro_bin, \"interproscan.sh\")\n",
    "\n",
    "# ALPs\n",
    "ALP_dir = os.path.join(work_dir, \"ALPs/Mbrevi_alp/unaligned\")\n",
    "\n",
    "# PanX gene cluster table\n",
    "Gene_clust = pd.read_csv(\"/ebio/abt3_projects/vadinCA11/data/V11/panx_output/tables/gene_clust_summary.txt\", \n",
    "                         sep='\\t', header=0)"
   ]
  },
  {
   "cell_type": "markdown",
   "metadata": {
    "ExecuteTime": {
     "end_time": "2019-05-24T12:58:12.428192Z",
     "start_time": "2019-05-24T12:58:12.422213Z"
    }
   },
   "source": [
    "# Annotate gene clusters"
   ]
  },
  {
   "cell_type": "markdown",
   "metadata": {},
   "source": [
    "## Consensus sequence of gene clusters\n",
    "\n",
    "For `eggNOG` and `Interpro` I will use the consensus sequence of each gene cluster. I will first create a fasta file with the consensus of all clusters"
   ]
  },
  {
   "cell_type": "code",
   "execution_count": 112,
   "metadata": {
    "ExecuteTime": {
     "end_time": "2019-05-27T12:35:48.468259Z",
     "start_time": "2019-05-27T12:35:48.426269Z"
    }
   },
   "outputs": [],
   "source": [
    "# Create list of name of resulting clusters from PanX table\n",
    "# and add name of aa alignment file\n",
    "cluster_names = Gene_clust[\"MSA\"].tolist()\n",
    "cluster_files = []\n",
    "for name in cluster_names:\n",
    "    file = os.path.join(panX_dir, name + \"_aa_aln_reduced.fa.gz\")\n",
    "    cluster_files.append(file)"
   ]
  },
  {
   "cell_type": "code",
   "execution_count": 120,
   "metadata": {
    "ExecuteTime": {
     "end_time": "2019-05-27T12:49:29.464265Z",
     "start_time": "2019-05-27T12:49:29.457917Z"
    }
   },
   "outputs": [],
   "source": [
    "# panX_output = os.listdir(panX_dir)\n",
    "# cluster_aligns = [fasta for fasta in panX_output if \"_aa_aln_reduced.fa.gz\" in fasta]\n",
    "cluster_files = cluster_files"
   ]
  },
  {
   "cell_type": "code",
   "execution_count": null,
   "metadata": {
    "ExecuteTime": {
     "start_time": "2019-05-27T12:50:36.497Z"
    }
   },
   "outputs": [
    {
     "name": "stdout",
     "output_type": "stream",
     "text": [
      "\n",
      "gzip: stdout: Broken pipe\n",
      "\n",
      "gzip: stdout: Broken pipe\n",
      "\n",
      "gzip: stdout: Broken pipe\n",
      "\n",
      "gzip: stdout: Broken pipe\n",
      "\n",
      "gzip: stdout: Broken pipe\n",
      "\n",
      "gzip: stdout: Broken pipe\n",
      "\n",
      "gzip: stdout: Broken pipe\n",
      "\n",
      "gzip: stdout: Broken pipe\n",
      "\n",
      "gzip: stdout: Broken pipe\n",
      "\n",
      "gzip: stdout: Broken pipe\n",
      "\n",
      "gzip: stdout: Broken pipe\n",
      "\n",
      "gzip: stdout: Broken pipe\n",
      "\n",
      "gzip: stdout: Broken pipe\n",
      "\n",
      "gzip: stdout: Broken pipe\n",
      "\n",
      "gzip: stdout: Broken pipe\n",
      "\n",
      "gzip: stdout: Broken pipe\n",
      "\n",
      "gzip: stdout: Broken pipe\n",
      "\n",
      "gzip: stdout: Broken pipe\n",
      "\n",
      "gzip: stdout: Broken pipe\n",
      "\n",
      "gzip: stdout: Broken pipe\n",
      "\n",
      "gzip: stdout: Broken pipe\n",
      "\n",
      "gzip: stdout: Broken pipe\n",
      "\n",
      "gzip: stdout: Broken pipe\n",
      "\n",
      "gzip: stdout: Broken pipe\n",
      "\n",
      "gzip: stdout: Broken pipe\n",
      "\n",
      "gzip: stdout: Broken pipe\n",
      "\n",
      "gzip: stdout: Broken pipe\n",
      "\n",
      "gzip: stdout: Broken pipe\n",
      "\n",
      "gzip: stdout: Broken pipe\n",
      "\n",
      "gzip: stdout: Broken pipe\n",
      "\n",
      "gzip: stdout: Broken pipe\n",
      "\n",
      "gzip: stdout: Broken pipe\n",
      "\n",
      "gzip: stdout: Broken pipe\n",
      "\n",
      "gzip: stdout: Broken pipe\n",
      "\n",
      "gzip: stdout: Broken pipe\n",
      "\n",
      "gzip: stdout: Broken pipe\n",
      "\n",
      "gzip: stdout: Broken pipe\n",
      "\n",
      "gzip: stdout: Broken pipe\n",
      "\n",
      "gzip: stdout: Broken pipe\n",
      "\n",
      "gzip: stdout: Broken pipe\n",
      "\n",
      "gzip: stdout: Broken pipe\n",
      "\n",
      "gzip: stdout: Broken pipe\n",
      "\n",
      "gzip: stdout: Broken pipe\n",
      "\n",
      "gzip: stdout: Broken pipe\n",
      "\n",
      "gzip: stdout: Broken pipe\n",
      "\n",
      "gzip: stdout: Broken pipe\n",
      "\n",
      "gzip: stdout: Broken pipe\n",
      "\n",
      "gzip: stdout: Broken pipe\n",
      "\n",
      "gzip: stdout: Broken pipe\n",
      "\n",
      "gzip: stdout: Broken pipe\n",
      "\n",
      "gzip: stdout: Broken pipe\n",
      "\n",
      "gzip: stdout: Broken pipe\n",
      "\n",
      "gzip: stdout: Broken pipe\n",
      "\n",
      "gzip: stdout: Broken pipe\n",
      "\n",
      "gzip: stdout: Broken pipe\n",
      "\n",
      "gzip: stdout: Broken pipe\n",
      "\n",
      "gzip: stdout: Broken pipe\n",
      "\n",
      "gzip: stdout: Broken pipe\n",
      "\n",
      "gzip: stdout: Broken pipe\n",
      "\n",
      "gzip: stdout: Broken pipe\n",
      "\n",
      "gzip: stdout: Broken pipe\n",
      "\n",
      "gzip: stdout: Broken pipe\n",
      "\n",
      "gzip: stdout: Broken pipe\n",
      "\n",
      "gzip: stdout: Broken pipe\n",
      "\n",
      "gzip: stdout: Broken pipe\n",
      "\n",
      "gzip: stdout: Broken pipe\n",
      "\n",
      "gzip: stdout: Broken pipe\n",
      "\n",
      "gzip: stdout: Broken pipe\n",
      "\n",
      "gzip: stdout: Broken pipe\n",
      "\n",
      "gzip: stdout: Broken pipe\n",
      "\n",
      "gzip: stdout: Broken pipe\n",
      "\n",
      "gzip: stdout: Broken pipe\n",
      "\n",
      "gzip: stdout: Broken pipe\n",
      "\n",
      "gzip: stdout: Broken pipe\n",
      "\n",
      "gzip: stdout: Broken pipe\n",
      "\n",
      "gzip: stdout: Broken pipe\n",
      "\n",
      "gzip: stdout: Broken pipe\n",
      "\n",
      "gzip: stdout: Broken pipe\n",
      "\n",
      "gzip: stdout: Broken pipe\n",
      "\n",
      "gzip: stdout: Broken pipe\n",
      "\n",
      "gzip: stdout: Broken pipe\n",
      "\n",
      "gzip: stdout: Broken pipe\n",
      "\n",
      "gzip: stdout: Broken pipe\n",
      "\n",
      "gzip: stdout: Broken pipe\n",
      "\n",
      "gzip: stdout: Broken pipe\n",
      "\n",
      "gzip: stdout: Broken pipe\n",
      "\n",
      "gzip: stdout: Broken pipe\n",
      "\n",
      "gzip: stdout: Broken pipe\n",
      "\n",
      "gzip: stdout: Broken pipe\n",
      "\n",
      "gzip: stdout: Broken pipe\n",
      "\n",
      "gzip: stdout: Broken pipe\n",
      "\n",
      "gzip: stdout: Broken pipe\n",
      "\n",
      "gzip: stdout: Broken pipe\n",
      "\n",
      "gzip: stdout: Broken pipe\n",
      "\n",
      "gzip: stdout: Broken pipe\n",
      "\n",
      "gzip: stdout: Broken pipe\n",
      "\n",
      "gzip: stdout: Broken pipe\n",
      "\n",
      "gzip: stdout: Broken pipe\n",
      "\n",
      "gzip: stdout: Broken pipe\n",
      "\n",
      "gzip: stdout: Broken pipe\n",
      "\n",
      "gzip: stdout: Broken pipe\n",
      "\n",
      "gzip: stdout: Broken pipe\n",
      "\n",
      "gzip: stdout: Broken pipe\n",
      "\n",
      "gzip: stdout: Broken pipe\n",
      "\n",
      "gzip: stdout: Broken pipe\n",
      "\n",
      "gzip: stdout: Broken pipe\n",
      "\n",
      "gzip: stdout: Broken pipe\n",
      "\n",
      "gzip: stdout: Broken pipe\n",
      "\n",
      "gzip: stdout: Broken pipe\n",
      "\n",
      "gzip: stdout: Broken pipe\n",
      "\n",
      "gzip: stdout: Broken pipe\n",
      "\n",
      "gzip: stdout: Broken pipe\n",
      "\n",
      "gzip: stdout: Broken pipe\n",
      "\n",
      "gzip: stdout: Broken pipe\n",
      "\n",
      "gzip: stdout: Broken pipe\n",
      "\n",
      "gzip: stdout: Broken pipe\n",
      "\n",
      "gzip: stdout: Broken pipe\n",
      "\n",
      "gzip: stdout: Broken pipe\n",
      "\n",
      "gzip: stdout: Broken pipe\n",
      "\n",
      "gzip: stdout: Broken pipe\n",
      "\n",
      "gzip: stdout: Broken pipe\n",
      "\n",
      "gzip: stdout: Broken pipe\n",
      "\n",
      "gzip: stdout: Broken pipe\n",
      "\n",
      "gzip: stdout: Broken pipe\n",
      "\n",
      "gzip: stdout: Broken pipe\n",
      "\n",
      "gzip: stdout: Broken pipe\n",
      "\n",
      "gzip: stdout: Broken pipe\n",
      "\n",
      "gzip: stdout: Broken pipe\n",
      "\n",
      "gzip: stdout: Broken pipe\n",
      "\n",
      "gzip: stdout: Broken pipe\n",
      "\n",
      "gzip: stdout: Broken pipe\n",
      "\n",
      "gzip: stdout: Broken pipe\n",
      "\n",
      "gzip: stdout: Broken pipe\n",
      "\n",
      "gzip: stdout: Broken pipe\n",
      "\n",
      "gzip: stdout: Broken pipe\n",
      "\n",
      "gzip: stdout: Broken pipe\n",
      "\n",
      "gzip: stdout: Broken pipe\n",
      "\n",
      "gzip: stdout: Broken pipe\n",
      "\n",
      "gzip: stdout: Broken pipe\n",
      "\n",
      "gzip: stdout: Broken pipe\n",
      "\n",
      "gzip: stdout: Broken pipe\n",
      "\n",
      "gzip: stdout: Broken pipe\n",
      "\n",
      "gzip: stdout: Broken pipe\n",
      "\n",
      "gzip: stdout: Broken pipe\n",
      "\n",
      "gzip: stdout: Broken pipe\n",
      "\n",
      "gzip: stdout: Broken pipe\n",
      "\n",
      "gzip: stdout: Broken pipe\n",
      "\n",
      "gzip: stdout: Broken pipe\n",
      "\n",
      "gzip: stdout: Broken pipe\n",
      "\n",
      "gzip: stdout: Broken pipe\n",
      "\n",
      "gzip: stdout: Broken pipe\n",
      "\n",
      "gzip: stdout: Broken pipe\n",
      "\n",
      "gzip: stdout: Broken pipe\n",
      "\n",
      "gzip: stdout: Broken pipe\n",
      "\n",
      "gzip: stdout: Broken pipe\n",
      "\n",
      "gzip: stdout: Broken pipe\n",
      "\n",
      "gzip: stdout: Broken pipe\n",
      "\n",
      "gzip: stdout: Broken pipe\n",
      "\n",
      "gzip: stdout: Broken pipe\n",
      "\n",
      "gzip: stdout: Broken pipe\n",
      "\n",
      "gzip: stdout: Broken pipe\n",
      "\n",
      "gzip: stdout: Broken pipe\n",
      "\n",
      "gzip: stdout: Broken pipe\n",
      "\n",
      "gzip: stdout: Broken pipe\n",
      "\n",
      "gzip: stdout: Broken pipe\n",
      "\n",
      "gzip: stdout: Broken pipe\n",
      "\n",
      "gzip: stdout: Broken pipe\n",
      "\n",
      "gzip: stdout: Broken pipe\n",
      "\n",
      "gzip: stdout: Broken pipe\n",
      "\n",
      "gzip: stdout: Broken pipe\n",
      "\n",
      "gzip: stdout: Broken pipe\n",
      "\n",
      "gzip: stdout: Broken pipe\n",
      "\n",
      "gzip: stdout: Broken pipe\n",
      "\n",
      "gzip: stdout: Broken pipe\n",
      "\n",
      "gzip: stdout: Broken pipe\n",
      "\n",
      "gzip: stdout: Broken pipe\n",
      "\n",
      "gzip: stdout: Broken pipe\n",
      "\n",
      "gzip: stdout: Broken pipe\n",
      "\n",
      "gzip: stdout: Broken pipe\n",
      "\n",
      "gzip: stdout: Broken pipe\n",
      "\n",
      "gzip: stdout: Broken pipe\n",
      "\n",
      "gzip: stdout: Broken pipe\n",
      "\n",
      "gzip: stdout: Broken pipe\n"
     ]
    }
   ],
   "source": [
    "# Create a single file with all consensus sequences\n",
    "# File path\n",
    "consensus_gapped_file = os.path.join(annotation_dir, \"consensus_gapped.fasta\")\n",
    "!touch $consensus_gapped_file\n",
    "for fasta in cluster_aligns:\n",
    "    fasta_path = os.path.join(panX_dir, fasta)\n",
    "    # Change header of sequence to cluster name\n",
    "    cluster_name = fasta.replace(\"_aa_aln_reduced.fa.gz\", \"\")\n",
    "    header = \">{cluster}\".format(cluster = cluster_name)\n",
    "    # Extract first sequence from cluster align file\n",
    "    zcat_cmd = 'zcat {file} | awk \"/^>/ {{n++}} n>1 {{exit}} {{print}}\"'.format(file = fasta_path)\n",
    "    # Replace header\n",
    "    sed_cmd = \"{zcat} | sed 's/^>.*$/{header}/' >> {out_file}\".format(zcat = zcat_cmd, \n",
    "                                                                  header = header, \n",
    "                                                                  out_file =  consensus_gapped_file)\n",
    "\n",
    "    !$sed_cmd"
   ]
  },
  {
   "cell_type": "code",
   "execution_count": 70,
   "metadata": {
    "ExecuteTime": {
     "end_time": "2019-05-24T13:23:09.852220Z",
     "start_time": "2019-05-24T13:23:09.845640Z"
    }
   },
   "outputs": [
    {
     "name": "stdout",
     "output_type": "stream",
     "text": [
      "bash -c \"source activate metacompass; cat /ebio/abt3_projects/vadinCA11/data/V11/cluster_annot/consensus_gapped.fasta | seqtk seq -A | tr -d -  > /ebio/abt3_projects/vadinCA11/data/V11/cluster_annot/consensus.fasta\"\n"
     ]
    }
   ],
   "source": [
    "# Ungap consensus sequences and format\n",
    "consensus_file = os.path.join(annotation_dir, \"consensus.fasta\")\n",
    "ungap_cmd = \"cat {in_fasta} | seqtk seq -A | tr -d -  > {out_fasta}\".format(in_fasta = consensus_gapped_file, \n",
    "                                                                           out_fasta = consensus_file)\n",
    "\n",
    "ungap_job = 'bash -c \"source activate {0}; {1}\"'.format(metacompass_env, ungap_cmd)\n",
    "print(ungap_job)\n",
    "#!$ungap_job"
   ]
  },
  {
   "cell_type": "markdown",
   "metadata": {
    "ExecuteTime": {
     "end_time": "2019-05-24T12:58:12.376142Z",
     "start_time": "2019-05-24T12:58:12.371120Z"
    }
   },
   "source": [
    "## Execute InterproScan"
   ]
  },
  {
   "cell_type": "code",
   "execution_count": 71,
   "metadata": {
    "ExecuteTime": {
     "end_time": "2019-05-24T13:23:16.304178Z",
     "start_time": "2019-05-24T13:23:16.297235Z"
    }
   },
   "outputs": [
    {
     "name": "stdout",
     "output_type": "stream",
     "text": [
      "bash -c \"source activate metacompass; /ebio/abt3_projects/vadinCA11/bin/interpro/interproscan_5/interproscan.sh -i /ebio/abt3_projects/vadinCA11/data/V11/cluster_annot/consensus.fasta     --output-dir /ebio/abt3_projects/vadinCA11/data/V11/cluster_annot     --cpu 20     --tempdir  /tmp/global2/jdelacuesta     --formats tsv\"\n"
     ]
    }
   ],
   "source": [
    "interpro_cmd = \"{interpro} -i {in_fasta} \\\n",
    "    --output-dir {out_dir} \\\n",
    "    --cpu {cpu} \\\n",
    "    --tempdir {tmp} \\\n",
    "    --formats tsv\"\n",
    "interpro_cmd = interpro_cmd.format(interpro = interpro_sh, \n",
    "                                   in_fasta = consensus_file, \n",
    "                                   out_dir = annotation_dir, \n",
    "                                   tmp =\" /tmp/global2/jdelacuesta\",\n",
    "                                   cpu = 20)\n",
    "\n",
    "interpro_job = 'bash -c \"source activate {0}; {1}\"'.format(\"metacompass\", interpro_cmd)\n",
    "print(interpro_job)\n",
    "#!$interpro_job"
   ]
  },
  {
   "cell_type": "markdown",
   "metadata": {},
   "source": [
    "## Execute eggNOG mapper"
   ]
  },
  {
   "cell_type": "code",
   "execution_count": 122,
   "metadata": {
    "ExecuteTime": {
     "end_time": "2019-05-27T14:06:43.512236Z",
     "start_time": "2019-05-27T14:06:43.503284Z"
    }
   },
   "outputs": [],
   "source": [
    "eggnog_cluster = \"\"\"#!/bin/bash\n",
    "#$ -N {name}\n",
    "#$ -pe parallel {cpu}\n",
    "#$ -l h_vmem=10G\n",
    "#$ -l h_rt=200:0:0\n",
    "#$ -o /ebio/abt3_projects/vadinCA11/data/V11/eggnog/cluster_jobs/logs\n",
    "#$ -j y\n",
    "#$ -wd {workdir}\n",
    "#$ -m ea\n",
    "#$ -M jdelacuesta@tuebingen.mpg.de\n",
    "\n",
    "export PATH='/ebio/abt3_projects/software/miniconda3_gt4.4/envs/eggNOG/bin':$PATH\n",
    "\n",
    "emapper.py -i {input_file} \\\n",
    "    --database {DB_type} \\\n",
    "    --data_dir {eggnog_database}  \\\n",
    "    --target_orthologs all \\\n",
    "    --output_dir {output_dir} \\\n",
    "    --output {base_name} \\\n",
    "    --scratch_dir {tmp_folder} \\\n",
    "    --temp_dir {tmp_folder} \\\n",
    "    --go_evidence non-electronic \\\n",
    "    --cpu {cpu} \\\n",
    "    --usemem \\\n",
    "    --override \\\n",
    "    -m {method}\n",
    "\"\"\""
   ]
  },
  {
   "cell_type": "code",
   "execution_count": 128,
   "metadata": {
    "ExecuteTime": {
     "end_time": "2019-05-27T14:07:30.072191Z",
     "start_time": "2019-05-27T14:07:30.061985Z"
    }
   },
   "outputs": [],
   "source": [
    "job_name = \"eggnog_clusters.sh\"\n",
    "\n",
    "eggnog_output = os.path.join(annotation_dir, \"eggNOG\")\n",
    "script_eggnog = os.path.join(eggnog_output, job_name)\n",
    "\n",
    "\n",
    "if not os.path.exists(eggnog_output):\n",
    "    os.makedirs(eggnog_output)\n",
    "\n",
    "prot_eggnog = eggnog_cluster.format(name = job_name, \n",
    "                                    cpu = 20, \n",
    "                                    input_file = consensus_file, \n",
    "                                    DB_type = \"arch\", \n",
    "                                    workdir = eggnog_output, \n",
    "                                    eggnog_database = eggnog_db, \n",
    "                                    output_dir = eggnog_output, \n",
    "                                    base_name = \"Clusters\", \n",
    "                                    tmp_folder = \"/tmp/global/jdelacuesta/\", \n",
    "                                    method = \"diamond\")"
   ]
  },
  {
   "cell_type": "code",
   "execution_count": 129,
   "metadata": {
    "ExecuteTime": {
     "end_time": "2019-05-27T14:07:31.212406Z",
     "start_time": "2019-05-27T14:07:31.023945Z"
    }
   },
   "outputs": [
    {
     "name": "stdout",
     "output_type": "stream",
     "text": [
      "Your job 4633871 (\"eggnog_clusters.sh\") has been submitted\r\n"
     ]
    }
   ],
   "source": [
    "fh = open(script_eggnog, \"w\")\n",
    "fh.write(prot_eggnog)\n",
    "fh.close()\n",
    "!qsub $script_eggnog"
   ]
  },
  {
   "cell_type": "markdown",
   "metadata": {},
   "source": [
    "# Annotate *M. smithii* ALPs"
   ]
  },
  {
   "cell_type": "markdown",
   "metadata": {},
   "source": [
    "## Consensus sequence of *M. smithii* ALPs"
   ]
  },
  {
   "cell_type": "code",
   "execution_count": 96,
   "metadata": {
    "ExecuteTime": {
     "end_time": "2019-05-24T13:59:58.708161Z",
     "start_time": "2019-05-24T13:59:58.703730Z"
    }
   },
   "outputs": [],
   "source": [
    "ALP_files = os.listdir(ALP_dir)\n",
    "ALP_seqs = [fasta for fasta in ALP_files if \"faa\" in fasta]"
   ]
  },
  {
   "cell_type": "code",
   "execution_count": 101,
   "metadata": {
    "ExecuteTime": {
     "end_time": "2019-05-24T14:02:48.804311Z",
     "start_time": "2019-05-24T14:02:47.022876Z"
    }
   },
   "outputs": [
    {
     "name": "stdout",
     "output_type": "stream",
     "text": [
      "cat: write error: Broken pipe\r\n"
     ]
    }
   ],
   "source": [
    "# Create a single file with all consensus sequences\n",
    "# File path\n",
    "ALPs_file = os.path.join(annotation_dir, \"Msmithii_ALPs.fasta\")\n",
    "!touch $ALPs_file\n",
    "for fasta in ALP_seqs:\n",
    "    fasta_path = os.path.join(ALP_dir, fasta)\n",
    "    # Change header of sequence to cluster name\n",
    "    cluster_name = fasta.replace(\".faa\", \"\")\n",
    "    header = \">{cluster}\".format(cluster = cluster_name)\n",
    "    # Extract first sequence from cluster align file\n",
    "    cat_cmd = 'cat {file} | awk \"/^>/ {{n++}} n>1 {{exit}} {{print}}\"'.format(file = fasta_path)\n",
    "    # Replace header\n",
    "    sed_cmd = \"{cat} | sed 's/^>.*$/{header}/' >> {out_file}\".format(cat = cat_cmd, \n",
    "                                                                  header = header, \n",
    "                                                                  out_file =  ALPs_file)\n",
    "#     print(sed_cmd)\n",
    "    !$sed_cmd"
   ]
  },
  {
   "cell_type": "markdown",
   "metadata": {
    "ExecuteTime": {
     "end_time": "2019-05-24T12:58:12.436162Z",
     "start_time": "2019-05-24T12:58:12.430300Z"
    }
   },
   "source": [
    "## Execute InterproScan"
   ]
  },
  {
   "cell_type": "code",
   "execution_count": 102,
   "metadata": {
    "ExecuteTime": {
     "end_time": "2019-05-24T14:03:26.176219Z",
     "start_time": "2019-05-24T14:03:26.167733Z"
    }
   },
   "outputs": [
    {
     "name": "stdout",
     "output_type": "stream",
     "text": [
      "bash -c \"source activate metacompass; /ebio/abt3_projects/vadinCA11/bin/interpro/interproscan_5/interproscan.sh -i /ebio/abt3_projects/vadinCA11/data/V11/cluster_annot/Msmithii_ALPs.fasta     --output-dir /ebio/abt3_projects/vadinCA11/data/V11/cluster_annot     --cpu 20     --tempdir  /tmp/global2/jdelacuesta     --formats tsv\"\n"
     ]
    }
   ],
   "source": [
    "interpro_cmd = \"{interpro} -i {in_fasta} \\\n",
    "    --output-dir {out_dir} \\\n",
    "    --cpu {cpu} \\\n",
    "    --tempdir {tmp} \\\n",
    "    --formats tsv\"\n",
    "interpro_cmd = interpro_cmd.format(interpro = interpro_sh, \n",
    "                                   in_fasta = ALPs_file, \n",
    "                                   out_dir = annotation_dir, \n",
    "                                   tmp =\" /tmp/global2/jdelacuesta\",\n",
    "                                   cpu = 20)\n",
    "\n",
    "interpro_job = 'bash -c \"source activate {0}; {1}\"'.format(\"metacompass\", interpro_cmd)\n",
    "print(interpro_job)\n",
    "#!$interpro_job"
   ]
  },
  {
   "cell_type": "code",
   "execution_count": null,
   "metadata": {},
   "outputs": [],
   "source": []
  }
 ],
 "metadata": {
  "kernelspec": {
   "display_name": "Python [conda env:py3]",
   "language": "python",
   "name": "conda-env-py3-py"
  },
  "language_info": {
   "codemirror_mode": {
    "name": "ipython",
    "version": 3
   },
   "file_extension": ".py",
   "mimetype": "text/x-python",
   "name": "python",
   "nbconvert_exporter": "python",
   "pygments_lexer": "ipython3",
   "version": "3.6.6"
  },
  "toc": {
   "base_numbering": 1,
   "nav_menu": {},
   "number_sections": true,
   "sideBar": true,
   "skip_h1_title": false,
   "title_cell": "Table of Contents",
   "title_sidebar": "Contents",
   "toc_cell": false,
   "toc_position": {},
   "toc_section_display": true,
   "toc_window_display": false
  }
 },
 "nbformat": 4,
 "nbformat_minor": 2
}
