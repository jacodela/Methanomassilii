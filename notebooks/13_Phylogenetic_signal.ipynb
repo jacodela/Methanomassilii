{
 "cells": [
  {
   "cell_type": "markdown",
   "metadata": {},
   "source": [
    "# Goal\n",
    "\n",
    "Jacobo de la Cuesta-Zuluaga, July 2018."
   ]
  },
  {
   "cell_type": "markdown",
   "metadata": {},
   "source": [
    "# Init"
   ]
  },
  {
   "cell_type": "code",
   "execution_count": 62,
   "metadata": {
    "ExecuteTime": {
     "end_time": "2020-08-31T10:34:24.171376Z",
     "start_time": "2020-08-31T10:34:24.006Z"
    }
   },
   "outputs": [
    {
     "name": "stderr",
     "output_type": "stream",
     "text": [
      "Loading required package: maps\n",
      "\n",
      "Attaching package: ‘maps’\n",
      "\n",
      "The following object is masked from ‘package:purrr’:\n",
      "\n",
      "    map\n",
      "\n"
     ]
    }
   ],
   "source": [
    "library(tidyverse)\n",
    "library(reshape2)\n",
    "library(ape)\n",
    "library(phylobase)\n",
    "library(phangorn)\n",
    "library(phylosignal)\n",
    "library(geiger)\n",
    "library(caret)\n",
    "library(furrr)\n",
    "library(micropan)\n",
    "library(cowplot)\n",
    "library(phytools)"
   ]
  },
  {
   "cell_type": "code",
   "execution_count": 28,
   "metadata": {
    "ExecuteTime": {
     "end_time": "2020-08-31T10:28:45.453530Z",
     "start_time": "2020-08-31T10:28:45.336Z"
    }
   },
   "outputs": [],
   "source": [
    "# R misc functions\n",
    "source(\"/ebio/abt3_projects/vadinCA11/data/V11/R_utils/utils.R\")"
   ]
  },
  {
   "cell_type": "code",
   "execution_count": 29,
   "metadata": {
    "ExecuteTime": {
     "end_time": "2020-08-31T10:28:45.487849Z",
     "start_time": "2020-08-31T10:28:45.339Z"
    }
   },
   "outputs": [],
   "source": [
    "# Load itol scripts\n",
    "itol_dir = \"/ebio/abt3_projects/vadinCA11/data/V11/itol\"\n",
    "itol_code = file.path(itol_dir, \"itol.R\") \n",
    "source(file = itol_code)"
   ]
  },
  {
   "cell_type": "markdown",
   "metadata": {},
   "source": [
    "# Var"
   ]
  },
  {
   "cell_type": "code",
   "execution_count": 30,
   "metadata": {
    "ExecuteTime": {
     "end_time": "2020-08-31T10:28:45.808480Z",
     "start_time": "2020-08-31T10:28:45.343Z"
    }
   },
   "outputs": [
    {
     "name": "stderr",
     "output_type": "stream",
     "text": [
      "Warning message:\n",
      "“Missing column names filled in: 'X1' [1]”Parsed with column specification:\n",
      "cols(\n",
      "  X1 = \u001b[31mcol_character()\u001b[39m,\n",
      "  Assembly = \u001b[31mcol_character()\u001b[39m,\n",
      "  GC = \u001b[32mcol_double()\u001b[39m,\n",
      "  Len = \u001b[32mcol_double()\u001b[39m,\n",
      "  Genes = \u001b[32mcol_double()\u001b[39m,\n",
      "  source_1 = \u001b[31mcol_character()\u001b[39m,\n",
      "  source_2 = \u001b[31mcol_character()\u001b[39m,\n",
      "  source_3 = \u001b[31mcol_character()\u001b[39m,\n",
      "  source_manual = \u001b[31mcol_character()\u001b[39m,\n",
      "  location = \u001b[31mcol_character()\u001b[39m\n",
      ")\n",
      "Parsed with column specification:\n",
      "cols(\n",
      "  Assembly = \u001b[31mcol_character()\u001b[39m,\n",
      "  ALP = \u001b[32mcol_double()\u001b[39m,\n",
      "  ANK = \u001b[32mcol_double()\u001b[39m,\n",
      "  FN3 = \u001b[32mcol_double()\u001b[39m,\n",
      "  Ig_like = \u001b[32mcol_double()\u001b[39m,\n",
      "  List_Bact = \u001b[32mcol_double()\u001b[39m,\n",
      "  LRR = \u001b[32mcol_double()\u001b[39m,\n",
      "  Sel1 = \u001b[32mcol_double()\u001b[39m,\n",
      "  TPR = \u001b[32mcol_double()\u001b[39m,\n",
      "  YadA = \u001b[32mcol_double()\u001b[39m\n",
      ")\n",
      "Parsed with column specification:\n",
      "cols(\n",
      "  .default = col_double(),\n",
      "  MSA = \u001b[31mcol_character()\u001b[39m,\n",
      "  Gene_Name = \u001b[31mcol_character()\u001b[39m,\n",
      "  Annotation = \u001b[31mcol_character()\u001b[39m,\n",
      "  NOG = \u001b[31mcol_character()\u001b[39m,\n",
      "  COG_1 = \u001b[31mcol_character()\u001b[39m,\n",
      "  eggNOG_annot = \u001b[31mcol_character()\u001b[39m,\n",
      "  Interpro_accession = \u001b[31mcol_character()\u001b[39m,\n",
      "  Interpro_annot = \u001b[31mcol_character()\u001b[39m\n",
      ")\n",
      "See spec(...) for full column specifications.\n"
     ]
    }
   ],
   "source": [
    "# Load phylogenomic tree\n",
    "#phylo_tree_file = file.path(\"/ebio/abt3_projects/vadinCA11/data/V11/anvio_output/phylogenomic_tree.txt\")\n",
    "phylo_tree_file = file.path(\"/ebio/abt3_projects/vadinCA11/data/V11/phylophlan/trees/RAxML_bipartitions.methanomassilii.tre\")\n",
    "phylogenomic_tree_raw = read.tree(phylo_tree_file)\n",
    "phylogenomic_tree_raw$node.label = c() # solves the \"Labels are not unique\" message\n",
    "\n",
    "\n",
    "# Root tree and remove root for downstream analyses\n",
    "outgroup_clades = c(\"GCA_900090055\", \"GCA_000195915\", \"GCA_900176435\", \"GCA_000152265\", \"GCA_001402945\")\n",
    "phylogenomic_tree_raw = phylogenomic_tree_raw %>% root(., outgroup = outgroup_clades)\n",
    "phylogenomic_tree = phylogenomic_tree_raw %>% drop.tip(., outgroup_clades)\n",
    "\n",
    "\n",
    "# Load metadata\n",
    "raw_methanomassilii_data = \"/ebio/abt3_projects/vadinCA11/data/V11/assemblies_metadata/Assembly_metadata_curated.txt\" %>%\n",
    "    read_tsv %>%\n",
    "    as.data.frame %>%\n",
    "    rename(\"Label\" = \"X1\") %>% \n",
    "    mutate_at(vars(starts_with(\"source\"), location), factor)\n",
    "\n",
    "ELPs_table = \"/ebio/abt3_projects/vadinCA11/data/V11/itol/ELPs.tsv\" %>%\n",
    "    read_tsv() %>%\n",
    "    as.data.frame\n",
    "\n",
    "# Load Annotated cluster table\n",
    "Annot_clusters = \"/ebio/abt3_projects/vadinCA11/data/V11/cluster_annot/Gene_cluster_annots.tsv\" %>%\n",
    "    read_delim(delim = \"\\t\")\n",
    "\n",
    "\n",
    "# Import Mash ANI table\n",
    "Mdb = read.csv(\"/ebio/abt3_projects/vadinCA11/data/V11/drep/data_tables/Mdb.csv\")\n",
    "\n",
    "# Organize label names\n",
    "# It is important to import them as char and not as factor\n",
    "label_table = read.table(\"/ebio/abt3_projects/vadinCA11/data/V11/anvio_output/external_genomes.txt\",\n",
    "                       header = T, sep = \"\\t\", as.is = T)"
   ]
  },
  {
   "cell_type": "code",
   "execution_count": 31,
   "metadata": {
    "ExecuteTime": {
     "end_time": "2020-08-31T10:28:45.827735Z",
     "start_time": "2020-08-31T10:28:45.347Z"
    }
   },
   "outputs": [],
   "source": [
    "# Plots out dir\n",
    "plots_dir = \"/ebio/abt3_projects/vadinCA11/data/V11/out_plots/\""
   ]
  },
  {
   "cell_type": "code",
   "execution_count": 32,
   "metadata": {
    "ExecuteTime": {
     "end_time": "2020-08-31T10:28:45.875175Z",
     "start_time": "2020-08-31T10:28:45.352Z"
    }
   },
   "outputs": [
    {
     "name": "stdout",
     "output_type": "stream",
     "text": [
      "[1] 72 18\n"
     ]
    },
    {
     "data": {
      "text/html": [
       "<table>\n",
       "<caption>A data.frame: 3 × 18</caption>\n",
       "<thead>\n",
       "\t<tr><th></th><th scope=col>Label</th><th scope=col>GC</th><th scope=col>Len</th><th scope=col>Genes</th><th scope=col>source_1</th><th scope=col>source_2</th><th scope=col>source_3</th><th scope=col>source_manual</th><th scope=col>location</th><th scope=col>ALP</th><th scope=col>ANK</th><th scope=col>FN3</th><th scope=col>Ig_like</th><th scope=col>List_Bact</th><th scope=col>LRR</th><th scope=col>Sel1</th><th scope=col>TPR</th><th scope=col>YadA</th></tr>\n",
       "\t<tr><th></th><th scope=col>&lt;chr&gt;</th><th scope=col>&lt;dbl&gt;</th><th scope=col>&lt;dbl&gt;</th><th scope=col>&lt;dbl&gt;</th><th scope=col>&lt;fct&gt;</th><th scope=col>&lt;fct&gt;</th><th scope=col>&lt;fct&gt;</th><th scope=col>&lt;fct&gt;</th><th scope=col>&lt;fct&gt;</th><th scope=col>&lt;dbl&gt;</th><th scope=col>&lt;dbl&gt;</th><th scope=col>&lt;dbl&gt;</th><th scope=col>&lt;dbl&gt;</th><th scope=col>&lt;dbl&gt;</th><th scope=col>&lt;dbl&gt;</th><th scope=col>&lt;dbl&gt;</th><th scope=col>&lt;dbl&gt;</th><th scope=col>&lt;dbl&gt;</th></tr>\n",
       "</thead>\n",
       "<tbody>\n",
       "\t<tr><th scope=row>GCA_000300255</th><td>Candidatus_Methanomethylophilus_alvus_Mx1201             </td><td>0.5559482</td><td>1666795</td><td>1636</td><td>Host-associated</td><td>Feces</td><td>Human</td><td>Human_feces</td><td>NA</td><td>0</td><td>0</td><td>0</td><td>0</td><td> 6</td><td>1</td><td>28</td><td>37</td><td>0</td></tr>\n",
       "\t<tr><th scope=row>GCA_000308215</th><td>Methanomassiliicoccus_luminyensis_B10                    </td><td>0.6047886</td><td>2620233</td><td>2607</td><td>Host-associated</td><td>Feces</td><td>Human</td><td>Human_feces</td><td>NA</td><td>2</td><td>0</td><td>5</td><td>1</td><td> 2</td><td>5</td><td> 1</td><td>11</td><td>0</td></tr>\n",
       "\t<tr><th scope=row>GCA_000404225</th><td>Candidatus_Methanomassiliicoccus_intestinalis_Issoire_Mx1</td><td>0.4125543</td><td>1931651</td><td>1855</td><td>Host-associated</td><td>Feces</td><td>Human</td><td>Human_feces</td><td>NA</td><td>1</td><td>1</td><td>0</td><td>1</td><td>26</td><td>7</td><td> 6</td><td>15</td><td>0</td></tr>\n",
       "</tbody>\n",
       "</table>\n"
      ],
      "text/latex": [
       "A data.frame: 3 × 18\n",
       "\\begin{tabular}{r|llllllllllllllllll}\n",
       "  & Label & GC & Len & Genes & source\\_1 & source\\_2 & source\\_3 & source\\_manual & location & ALP & ANK & FN3 & Ig\\_like & List\\_Bact & LRR & Sel1 & TPR & YadA\\\\\n",
       "  & <chr> & <dbl> & <dbl> & <dbl> & <fct> & <fct> & <fct> & <fct> & <fct> & <dbl> & <dbl> & <dbl> & <dbl> & <dbl> & <dbl> & <dbl> & <dbl> & <dbl>\\\\\n",
       "\\hline\n",
       "\tGCA\\_000300255 & Candidatus\\_Methanomethylophilus\\_alvus\\_Mx1201              & 0.5559482 & 1666795 & 1636 & Host-associated & Feces & Human & Human\\_feces & NA & 0 & 0 & 0 & 0 &  6 & 1 & 28 & 37 & 0\\\\\n",
       "\tGCA\\_000308215 & Methanomassiliicoccus\\_luminyensis\\_B10                     & 0.6047886 & 2620233 & 2607 & Host-associated & Feces & Human & Human\\_feces & NA & 2 & 0 & 5 & 1 &  2 & 5 &  1 & 11 & 0\\\\\n",
       "\tGCA\\_000404225 & Candidatus\\_Methanomassiliicoccus\\_intestinalis\\_Issoire\\_Mx1 & 0.4125543 & 1931651 & 1855 & Host-associated & Feces & Human & Human\\_feces & NA & 1 & 1 & 0 & 1 & 26 & 7 &  6 & 15 & 0\\\\\n",
       "\\end{tabular}\n"
      ],
      "text/markdown": [
       "\n",
       "A data.frame: 3 × 18\n",
       "\n",
       "| <!--/--> | Label &lt;chr&gt; | GC &lt;dbl&gt; | Len &lt;dbl&gt; | Genes &lt;dbl&gt; | source_1 &lt;fct&gt; | source_2 &lt;fct&gt; | source_3 &lt;fct&gt; | source_manual &lt;fct&gt; | location &lt;fct&gt; | ALP &lt;dbl&gt; | ANK &lt;dbl&gt; | FN3 &lt;dbl&gt; | Ig_like &lt;dbl&gt; | List_Bact &lt;dbl&gt; | LRR &lt;dbl&gt; | Sel1 &lt;dbl&gt; | TPR &lt;dbl&gt; | YadA &lt;dbl&gt; |\n",
       "|---|---|---|---|---|---|---|---|---|---|---|---|---|---|---|---|---|---|---|\n",
       "| GCA_000300255 | Candidatus_Methanomethylophilus_alvus_Mx1201              | 0.5559482 | 1666795 | 1636 | Host-associated | Feces | Human | Human_feces | NA | 0 | 0 | 0 | 0 |  6 | 1 | 28 | 37 | 0 |\n",
       "| GCA_000308215 | Methanomassiliicoccus_luminyensis_B10                     | 0.6047886 | 2620233 | 2607 | Host-associated | Feces | Human | Human_feces | NA | 2 | 0 | 5 | 1 |  2 | 5 |  1 | 11 | 0 |\n",
       "| GCA_000404225 | Candidatus_Methanomassiliicoccus_intestinalis_Issoire_Mx1 | 0.4125543 | 1931651 | 1855 | Host-associated | Feces | Human | Human_feces | NA | 1 | 1 | 0 | 1 | 26 | 7 |  6 | 15 | 0 |\n",
       "\n"
      ],
      "text/plain": [
       "              Label                                                    \n",
       "GCA_000300255 Candidatus_Methanomethylophilus_alvus_Mx1201             \n",
       "GCA_000308215 Methanomassiliicoccus_luminyensis_B10                    \n",
       "GCA_000404225 Candidatus_Methanomassiliicoccus_intestinalis_Issoire_Mx1\n",
       "              GC        Len     Genes source_1        source_2 source_3\n",
       "GCA_000300255 0.5559482 1666795 1636  Host-associated Feces    Human   \n",
       "GCA_000308215 0.6047886 2620233 2607  Host-associated Feces    Human   \n",
       "GCA_000404225 0.4125543 1931651 1855  Host-associated Feces    Human   \n",
       "              source_manual location ALP ANK FN3 Ig_like List_Bact LRR Sel1 TPR\n",
       "GCA_000300255 Human_feces   NA       0   0   0   0        6        1   28   37 \n",
       "GCA_000308215 Human_feces   NA       2   0   5   1        2        5    1   11 \n",
       "GCA_000404225 Human_feces   NA       1   1   0   1       26        7    6   15 \n",
       "              YadA\n",
       "GCA_000300255 0   \n",
       "GCA_000308215 0   \n",
       "GCA_000404225 0   "
      ]
     },
     "metadata": {},
     "output_type": "display_data"
    }
   ],
   "source": [
    "# Add ELP data to Methanomassilii table\n",
    "methanomassilii_data = raw_methanomassilii_data %>% \n",
    "    left_join(., ELPs_table, by = \"Assembly\") %>%\n",
    "    column_to_rownames(\"Assembly\") \n",
    "\n",
    "methanomassilii_data %>% dfhead"
   ]
  },
  {
   "cell_type": "code",
   "execution_count": 33,
   "metadata": {
    "ExecuteTime": {
     "end_time": "2020-08-31T10:28:45.966859Z",
     "start_time": "2020-08-31T10:28:45.362Z"
    }
   },
   "outputs": [
    {
     "name": "stderr",
     "output_type": "stream",
     "text": [
      "Parsed with column specification:\n",
      "cols(\n",
      "  .default = col_double(),\n",
      "  Genome = \u001b[31mcol_character()\u001b[39m,\n",
      "  clade = \u001b[31mcol_character()\u001b[39m\n",
      ")\n",
      "See spec(...) for full column specifications.\n"
     ]
    },
    {
     "data": {
      "text/html": [
       "<table>\n",
       "<caption>A data.frame: 6 × 24</caption>\n",
       "<thead>\n",
       "\t<tr><th scope=col>Genome</th><th scope=col>B</th><th scope=col>C</th><th scope=col>D</th><th scope=col>E</th><th scope=col>F</th><th scope=col>G</th><th scope=col>H</th><th scope=col>I</th><th scope=col>J</th><th scope=col>⋯</th><th scope=col>O</th><th scope=col>P</th><th scope=col>Q</th><th scope=col>S</th><th scope=col>T</th><th scope=col>U</th><th scope=col>V</th><th scope=col>X</th><th scope=col>Z</th><th scope=col>clade</th></tr>\n",
       "\t<tr><th scope=col>&lt;chr&gt;</th><th scope=col>&lt;dbl&gt;</th><th scope=col>&lt;dbl&gt;</th><th scope=col>&lt;dbl&gt;</th><th scope=col>&lt;dbl&gt;</th><th scope=col>&lt;dbl&gt;</th><th scope=col>&lt;dbl&gt;</th><th scope=col>&lt;dbl&gt;</th><th scope=col>&lt;dbl&gt;</th><th scope=col>&lt;dbl&gt;</th><th scope=col>⋯</th><th scope=col>&lt;dbl&gt;</th><th scope=col>&lt;dbl&gt;</th><th scope=col>&lt;dbl&gt;</th><th scope=col>&lt;dbl&gt;</th><th scope=col>&lt;dbl&gt;</th><th scope=col>&lt;dbl&gt;</th><th scope=col>&lt;dbl&gt;</th><th scope=col>&lt;dbl&gt;</th><th scope=col>&lt;dbl&gt;</th><th scope=col>&lt;chr&gt;</th></tr>\n",
       "</thead>\n",
       "<tbody>\n",
       "\t<tr><td>GCA_000300255</td><td>0.0000000000</td><td>0.07718121</td><td>0.006711409</td><td>0.09955257</td><td>0.04362416</td><td>0.03691275</td><td>0.07941834</td><td>0.01118568</td><td>0.15212528</td><td>⋯</td><td>0.04362416</td><td>0.04138702</td><td>0.001118568</td><td>0.1554810</td><td>0.012304251</td><td>0.008948546</td><td>0.03467562</td><td>0.07494407</td><td>0</td><td>HA</td></tr>\n",
       "\t<tr><td>GCA_000308215</td><td>0.0007241130</td><td>0.09123823</td><td>0.009413469</td><td>0.09413469</td><td>0.03403331</td><td>0.02606807</td><td>0.05648081</td><td>0.01230992</td><td>0.09847936</td><td>⋯</td><td>0.04127444</td><td>0.06517017</td><td>0.002896452</td><td>0.1585807</td><td>0.021723389</td><td>0.006517017</td><td>0.04996379</td><td>0.10282404</td><td>0</td><td>FL</td></tr>\n",
       "\t<tr><td>GCA_000404225</td><td>0.0000000000</td><td>0.11948529</td><td>0.011029412</td><td>0.06985294</td><td>0.05698529</td><td>0.02941176</td><td>0.06250000</td><td>0.02022059</td><td>0.16360294</td><td>⋯</td><td>0.04963235</td><td>0.05147059</td><td>0.000000000</td><td>0.1268382</td><td>0.003676471</td><td>0.009191176</td><td>0.06617647</td><td>0.06801471</td><td>0</td><td>FL</td></tr>\n",
       "\t<tr><td>GCA_000800805</td><td>0.0000000000</td><td>0.07808564</td><td>0.005037783</td><td>0.09823678</td><td>0.05163728</td><td>0.03400504</td><td>0.07052897</td><td>0.01259446</td><td>0.17002519</td><td>⋯</td><td>0.04534005</td><td>0.03400504</td><td>0.001259446</td><td>0.1561713</td><td>0.006297229</td><td>0.010075567</td><td>0.02518892</td><td>0.07934509</td><td>0</td><td>HA</td></tr>\n",
       "\t<tr><td>GCA_001421175</td><td>0.0000000000</td><td>0.07660021</td><td>0.008394544</td><td>0.10073452</td><td>0.04826863</td><td>0.03462749</td><td>0.08079748</td><td>0.01154250</td><td>0.15215110</td><td>⋯</td><td>0.04826863</td><td>0.03357817</td><td>0.001049318</td><td>0.1469045</td><td>0.008394544</td><td>0.009443861</td><td>0.03147954</td><td>0.07764953</td><td>0</td><td>HA</td></tr>\n",
       "\t<tr><td>GCA_001421185</td><td>0.0007173601</td><td>0.09182209</td><td>0.012195122</td><td>0.10258250</td><td>0.03658537</td><td>0.02941176</td><td>0.05954089</td><td>0.01362984</td><td>0.09827834</td><td>⋯</td><td>0.04160689</td><td>0.04806313</td><td>0.003586801</td><td>0.1535151</td><td>0.029411765</td><td>0.005021521</td><td>0.03443329</td><td>0.10473458</td><td>0</td><td>FL</td></tr>\n",
       "</tbody>\n",
       "</table>\n"
      ],
      "text/latex": [
       "A data.frame: 6 × 24\n",
       "\\begin{tabular}{r|llllllllllllllllllllllll}\n",
       " Genome & B & C & D & E & F & G & H & I & J & K & L & M & N & O & P & Q & S & T & U & V & X & Z & clade\\\\\n",
       " <chr> & <dbl> & <dbl> & <dbl> & <dbl> & <dbl> & <dbl> & <dbl> & <dbl> & <dbl> & <dbl> & <dbl> & <dbl> & <dbl> & <dbl> & <dbl> & <dbl> & <dbl> & <dbl> & <dbl> & <dbl> & <dbl> & <dbl> & <chr>\\\\\n",
       "\\hline\n",
       "\t GCA\\_000300255 & 0.0000000000 & 0.07718121 & 0.006711409 & 0.09955257 & 0.04362416 & 0.03691275 & 0.07941834 & 0.01118568 & 0.15212528 & 0.04697987 & 0.05480984 & 0.017897092 & 0.001118568 & 0.04362416 & 0.04138702 & 0.001118568 & 0.1554810 & 0.012304251 & 0.008948546 & 0.03467562 & 0.07494407 & 0 & HA\\\\\n",
       "\t GCA\\_000308215 & 0.0007241130 & 0.09123823 & 0.009413469 & 0.09413469 & 0.03403331 & 0.02606807 & 0.05648081 & 0.01230992 & 0.09847936 & 0.05648081 & 0.03837799 & 0.028240406 & 0.005068791 & 0.04127444 & 0.06517017 & 0.002896452 & 0.1585807 & 0.021723389 & 0.006517017 & 0.04996379 & 0.10282404 & 0 & FL\\\\\n",
       "\t GCA\\_000404225 & 0.0000000000 & 0.11948529 & 0.011029412 & 0.06985294 & 0.05698529 & 0.02941176 & 0.06250000 & 0.02022059 & 0.16360294 & 0.04779412 & 0.03492647 & 0.009191176 & 0.000000000 & 0.04963235 & 0.05147059 & 0.000000000 & 0.1268382 & 0.003676471 & 0.009191176 & 0.06617647 & 0.06801471 & 0 & FL\\\\\n",
       "\t GCA\\_000800805 & 0.0000000000 & 0.07808564 & 0.005037783 & 0.09823678 & 0.05163728 & 0.03400504 & 0.07052897 & 0.01259446 & 0.17002519 & 0.04911839 & 0.05541562 & 0.016372796 & 0.001259446 & 0.04534005 & 0.03400504 & 0.001259446 & 0.1561713 & 0.006297229 & 0.010075567 & 0.02518892 & 0.07934509 & 0 & HA\\\\\n",
       "\t GCA\\_001421175 & 0.0000000000 & 0.07660021 & 0.008394544 & 0.10073452 & 0.04826863 & 0.03462749 & 0.08079748 & 0.01154250 & 0.15215110 & 0.05351522 & 0.05876180 & 0.015739769 & 0.002098636 & 0.04826863 & 0.03357817 & 0.001049318 & 0.1469045 & 0.008394544 & 0.009443861 & 0.03147954 & 0.07764953 & 0 & HA\\\\\n",
       "\t GCA\\_001421185 & 0.0007173601 & 0.09182209 & 0.012195122 & 0.10258250 & 0.03658537 & 0.02941176 & 0.05954089 & 0.01362984 & 0.09827834 & 0.05810617 & 0.04375897 & 0.029411765 & 0.003586801 & 0.04160689 & 0.04806313 & 0.003586801 & 0.1535151 & 0.029411765 & 0.005021521 & 0.03443329 & 0.10473458 & 0 & FL\\\\\n",
       "\\end{tabular}\n"
      ],
      "text/markdown": [
       "\n",
       "A data.frame: 6 × 24\n",
       "\n",
       "| Genome &lt;chr&gt; | B &lt;dbl&gt; | C &lt;dbl&gt; | D &lt;dbl&gt; | E &lt;dbl&gt; | F &lt;dbl&gt; | G &lt;dbl&gt; | H &lt;dbl&gt; | I &lt;dbl&gt; | J &lt;dbl&gt; | ⋯ ⋯ | O &lt;dbl&gt; | P &lt;dbl&gt; | Q &lt;dbl&gt; | S &lt;dbl&gt; | T &lt;dbl&gt; | U &lt;dbl&gt; | V &lt;dbl&gt; | X &lt;dbl&gt; | Z &lt;dbl&gt; | clade &lt;chr&gt; |\n",
       "|---|---|---|---|---|---|---|---|---|---|---|---|---|---|---|---|---|---|---|---|---|\n",
       "| GCA_000300255 | 0.0000000000 | 0.07718121 | 0.006711409 | 0.09955257 | 0.04362416 | 0.03691275 | 0.07941834 | 0.01118568 | 0.15212528 | ⋯ | 0.04362416 | 0.04138702 | 0.001118568 | 0.1554810 | 0.012304251 | 0.008948546 | 0.03467562 | 0.07494407 | 0 | HA |\n",
       "| GCA_000308215 | 0.0007241130 | 0.09123823 | 0.009413469 | 0.09413469 | 0.03403331 | 0.02606807 | 0.05648081 | 0.01230992 | 0.09847936 | ⋯ | 0.04127444 | 0.06517017 | 0.002896452 | 0.1585807 | 0.021723389 | 0.006517017 | 0.04996379 | 0.10282404 | 0 | FL |\n",
       "| GCA_000404225 | 0.0000000000 | 0.11948529 | 0.011029412 | 0.06985294 | 0.05698529 | 0.02941176 | 0.06250000 | 0.02022059 | 0.16360294 | ⋯ | 0.04963235 | 0.05147059 | 0.000000000 | 0.1268382 | 0.003676471 | 0.009191176 | 0.06617647 | 0.06801471 | 0 | FL |\n",
       "| GCA_000800805 | 0.0000000000 | 0.07808564 | 0.005037783 | 0.09823678 | 0.05163728 | 0.03400504 | 0.07052897 | 0.01259446 | 0.17002519 | ⋯ | 0.04534005 | 0.03400504 | 0.001259446 | 0.1561713 | 0.006297229 | 0.010075567 | 0.02518892 | 0.07934509 | 0 | HA |\n",
       "| GCA_001421175 | 0.0000000000 | 0.07660021 | 0.008394544 | 0.10073452 | 0.04826863 | 0.03462749 | 0.08079748 | 0.01154250 | 0.15215110 | ⋯ | 0.04826863 | 0.03357817 | 0.001049318 | 0.1469045 | 0.008394544 | 0.009443861 | 0.03147954 | 0.07764953 | 0 | HA |\n",
       "| GCA_001421185 | 0.0007173601 | 0.09182209 | 0.012195122 | 0.10258250 | 0.03658537 | 0.02941176 | 0.05954089 | 0.01362984 | 0.09827834 | ⋯ | 0.04160689 | 0.04806313 | 0.003586801 | 0.1535151 | 0.029411765 | 0.005021521 | 0.03443329 | 0.10473458 | 0 | FL |\n",
       "\n"
      ],
      "text/plain": [
       "  Genome        B            C          D           E          F         \n",
       "1 GCA_000300255 0.0000000000 0.07718121 0.006711409 0.09955257 0.04362416\n",
       "2 GCA_000308215 0.0007241130 0.09123823 0.009413469 0.09413469 0.03403331\n",
       "3 GCA_000404225 0.0000000000 0.11948529 0.011029412 0.06985294 0.05698529\n",
       "4 GCA_000800805 0.0000000000 0.07808564 0.005037783 0.09823678 0.05163728\n",
       "5 GCA_001421175 0.0000000000 0.07660021 0.008394544 0.10073452 0.04826863\n",
       "6 GCA_001421185 0.0007173601 0.09182209 0.012195122 0.10258250 0.03658537\n",
       "  G          H          I          J          ⋯ O          P         \n",
       "1 0.03691275 0.07941834 0.01118568 0.15212528 ⋯ 0.04362416 0.04138702\n",
       "2 0.02606807 0.05648081 0.01230992 0.09847936 ⋯ 0.04127444 0.06517017\n",
       "3 0.02941176 0.06250000 0.02022059 0.16360294 ⋯ 0.04963235 0.05147059\n",
       "4 0.03400504 0.07052897 0.01259446 0.17002519 ⋯ 0.04534005 0.03400504\n",
       "5 0.03462749 0.08079748 0.01154250 0.15215110 ⋯ 0.04826863 0.03357817\n",
       "6 0.02941176 0.05954089 0.01362984 0.09827834 ⋯ 0.04160689 0.04806313\n",
       "  Q           S         T           U           V          X          Z clade\n",
       "1 0.001118568 0.1554810 0.012304251 0.008948546 0.03467562 0.07494407 0 HA   \n",
       "2 0.002896452 0.1585807 0.021723389 0.006517017 0.04996379 0.10282404 0 FL   \n",
       "3 0.000000000 0.1268382 0.003676471 0.009191176 0.06617647 0.06801471 0 FL   \n",
       "4 0.001259446 0.1561713 0.006297229 0.010075567 0.02518892 0.07934509 0 HA   \n",
       "5 0.001049318 0.1469045 0.008394544 0.009443861 0.03147954 0.07764953 0 HA   \n",
       "6 0.003586801 0.1535151 0.029411765 0.005021521 0.03443329 0.10473458 0 FL   "
      ]
     },
     "metadata": {},
     "output_type": "display_data"
    },
    {
     "name": "stderr",
     "output_type": "stream",
     "text": [
      "Parsed with column specification:\n",
      "cols(\n",
      "  COG_1 = \u001b[31mcol_character()\u001b[39m,\n",
      "  n = \u001b[32mcol_double()\u001b[39m,\n",
      "  Proportion = \u001b[32mcol_double()\u001b[39m,\n",
      "  Clade = \u001b[31mcol_character()\u001b[39m\n",
      ")\n"
     ]
    },
    {
     "name": "stdout",
     "output_type": "stream",
     "text": [
      "[1] 82  4\n"
     ]
    },
    {
     "data": {
      "text/html": [
       "<table>\n",
       "<caption>A data.frame: 3 × 4</caption>\n",
       "<thead>\n",
       "\t<tr><th scope=col>COG_1</th><th scope=col>n</th><th scope=col>Proportion</th><th scope=col>Clade</th></tr>\n",
       "\t<tr><th scope=col>&lt;chr&gt;</th><th scope=col>&lt;dbl&gt;</th><th scope=col>&lt;dbl&gt;</th><th scope=col>&lt;chr&gt;</th></tr>\n",
       "</thead>\n",
       "<tbody>\n",
       "\t<tr><td>B</td><td>  6</td><td>0.2782931</td><td>EX</td></tr>\n",
       "\t<tr><td>C</td><td>121</td><td>5.6122449</td><td>EX</td></tr>\n",
       "\t<tr><td>D</td><td> 22</td><td>1.0204082</td><td>EX</td></tr>\n",
       "</tbody>\n",
       "</table>\n"
      ],
      "text/latex": [
       "A data.frame: 3 × 4\n",
       "\\begin{tabular}{r|llll}\n",
       " COG\\_1 & n & Proportion & Clade\\\\\n",
       " <chr> & <dbl> & <dbl> & <chr>\\\\\n",
       "\\hline\n",
       "\t B &   6 & 0.2782931 & EX\\\\\n",
       "\t C & 121 & 5.6122449 & EX\\\\\n",
       "\t D &  22 & 1.0204082 & EX\\\\\n",
       "\\end{tabular}\n"
      ],
      "text/markdown": [
       "\n",
       "A data.frame: 3 × 4\n",
       "\n",
       "| COG_1 &lt;chr&gt; | n &lt;dbl&gt; | Proportion &lt;dbl&gt; | Clade &lt;chr&gt; |\n",
       "|---|---|---|---|\n",
       "| B |   6 | 0.2782931 | EX |\n",
       "| C | 121 | 5.6122449 | EX |\n",
       "| D |  22 | 1.0204082 | EX |\n",
       "\n"
      ],
      "text/plain": [
       "  COG_1 n   Proportion Clade\n",
       "1 B       6 0.2782931  EX   \n",
       "2 C     121 5.6122449  EX   \n",
       "3 D      22 1.0204082  EX   "
      ]
     },
     "metadata": {},
     "output_type": "display_data"
    }
   ],
   "source": [
    "# COG relabund of core per clade\n",
    "cores_COG_relabund = \"/ebio/abt3_projects/vadinCA11/data/V11/COG_tables/COG_cores_relabund.tsv\" %>%\n",
    "    read_tsv() %>%\n",
    "    as.data.frame\n",
    "\n",
    "cores_COG_relabund %>% head\n",
    "\n",
    "\n",
    "# COG relabund of core per clade\n",
    "COG_cores_clade = \"/ebio/abt3_projects/vadinCA11/data/V11/COG_tables/COG_cores_clade.tsv\" %>%\n",
    "    read_tsv() %>%\n",
    "    as.data.frame\n",
    "\n",
    "COG_cores_clade %>% dfhead"
   ]
  },
  {
   "cell_type": "markdown",
   "metadata": {},
   "source": [
    "# Clean and order tables"
   ]
  },
  {
   "cell_type": "markdown",
   "metadata": {},
   "source": [
    "## Mash-ANI dendrogram"
   ]
  },
  {
   "cell_type": "code",
   "execution_count": 34,
   "metadata": {
    "ExecuteTime": {
     "end_time": "2020-08-31T10:28:46.071363Z",
     "start_time": "2020-08-31T10:28:45.368Z"
    }
   },
   "outputs": [],
   "source": [
    "# Mdb is in long format, needs to be cast\n",
    "Mash_cast = dcast(genome1 ~ genome2, data = Mdb, value.var = \"dist\")\n",
    "\n",
    "# Add genome name column as rownames and convert to distance matrix\n",
    "row.names(Mash_cast) = Mash_cast[, 1]\n",
    "Mash_cast = Mash_cast[, -1]\n",
    "Mash_dist = Mash_cast %>% as.dist()\n",
    "\n",
    "# Note that the y-axis plots the distance, need to fi\n",
    "Mash_hclust = Mash_dist %>% hclust(., method = \"average\")\n",
    "\n",
    "label_table$contigs_db_path = label_table$contigs_db_path %>% \n",
    "  as.vector %>% lapply(. , function(x) basename(x) %>% strsplit(., \".db\", fixed = T)) %>%\n",
    "  unlist\n",
    "\n",
    "Mash_labels = Mash_hclust$labels %>% strsplit(., \"\\\\..*\", perl =  T) %>% unlist\n",
    "\n",
    "ord_label_table = label_table[match(Mash_labels,label_table$contigs_db_path), ]\n",
    "\n",
    "Mash_hclust$labels = ord_label_table$name %>% as.character()"
   ]
  },
  {
   "cell_type": "code",
   "execution_count": 35,
   "metadata": {
    "ExecuteTime": {
     "end_time": "2020-08-31T10:28:46.356215Z",
     "start_time": "2020-08-31T10:28:45.372Z"
    }
   },
   "outputs": [
    {
     "data": {
      "image/png": "[encoded data removed]",
      "text/plain": [
       "Plot with title “Cluster Dendrogram”"
      ]
     },
     "metadata": {},
     "output_type": "display_data"
    }
   ],
   "source": [
    "# Set options and plot\n",
    "options(repr.plot.width = 20, repr.plot.height = 12)\n",
    "Mash_hclust %>% plot(., hang = -1, y = \"MASH ANI\", yaxt=\"n\")\n",
    "\n",
    "# Invert the labels in the y-axis \n",
    "# From 100% to 0% identity\n",
    "axis(2, at = seq(0,1,0.2), labels = seq(100, 0, -20))\n",
    "abline(h = 0.2, lty = 2) # 80% ANI Genus cutoff\n",
    "abline(h = 0.05, lty = 3) # 95% ANI species cutoff"
   ]
  },
  {
   "cell_type": "markdown",
   "metadata": {},
   "source": [
    "## Metadata "
   ]
  },
  {
   "cell_type": "code",
   "execution_count": 36,
   "metadata": {
    "ExecuteTime": {
     "end_time": "2020-08-31T10:28:46.386698Z",
     "start_time": "2020-08-31T10:28:45.376Z"
    }
   },
   "outputs": [],
   "source": [
    "# GC content as percentage and genome length in Kb\n",
    "methanomassilii_data$GC = methanomassilii_data$GC*100\n",
    "methanomassilii_data$Len = methanomassilii_data$Len/1000\n",
    "methanomassilii_data$source_1 = methanomassilii_data$source_1 %>% factor() #%>% as.numeric()\n",
    "methanomassilii_data$source_2 = methanomassilii_data$source_2 %>% factor()\n",
    "methanomassilii_data$source_3 = methanomassilii_data$source_3 %>% factor()\n",
    "methanomassilii_data$location = methanomassilii_data$location %>% factor()\n",
    "\n",
    "# single ALP column as sum of all ALP NOGs\n",
    "ALP_NOGs =  c(\"NOG_COG3420\", \"NOG_COG3210\", \"NOG_0ZWMD\", \"NOG_COG4870\", \"NOG_COG1305\", \n",
    "    \"NOG_0ZJ40\", \"NOG_COG5295\", \"NOG_1079A\", \"NOG_0XNUF\", \"NOG_12BI9\", \"NOG_0ZW39\", \n",
    "    \"NOG_0YRJ4\", \"NOG_COG1520\", \"NOG_0XQ8S\", \"NOG_0YYP1\", \"NOG_COG3291\", \"NOG_1285U\")\n",
    "\n",
    "\n",
    "\n",
    "# Add species name and order the data \n",
    "# methanomassilii_data = methanomassilii_data[match(ord_label_table$contigs_db_path,\n",
    "#                                                   methanomassilii_data$Assembly),]"
   ]
  },
  {
   "cell_type": "markdown",
   "metadata": {},
   "source": [
    "### Create table with clade, source and ELP information"
   ]
  },
  {
   "cell_type": "code",
   "execution_count": 37,
   "metadata": {
    "ExecuteTime": {
     "end_time": "2020-08-31T10:28:46.466088Z",
     "start_time": "2020-08-31T10:28:45.380Z"
    }
   },
   "outputs": [
    {
     "name": "stderr",
     "output_type": "stream",
     "text": [
      "Warning message in bind_rows_(x, .id):\n",
      "“Unequal factor levels: coercing to character”Warning message in bind_rows_(x, .id):\n",
      "“binding character and factor vector, coercing into character vector”Warning message in bind_rows_(x, .id):\n",
      "“binding character and factor vector, coercing into character vector”Warning message in bind_rows_(x, .id):\n",
      "“Unequal factor levels: coercing to character”Warning message in bind_rows_(x, .id):\n",
      "“binding character and factor vector, coercing into character vector”Warning message in bind_rows_(x, .id):\n",
      "“binding character and factor vector, coercing into character vector”Warning message in bind_rows_(x, .id):\n",
      "“binding character and factor vector, coercing into character vector”Warning message in bind_rows_(x, .id):\n",
      "“binding character and factor vector, coercing into character vector”"
     ]
    },
    {
     "name": "stdout",
     "output_type": "stream",
     "text": [
      "[1] 72 20\n"
     ]
    },
    {
     "data": {
      "text/html": [
       "<table>\n",
       "<caption>A data.frame: 3 × 20</caption>\n",
       "<thead>\n",
       "\t<tr><th scope=col>Assembly</th><th scope=col>Label</th><th scope=col>GC</th><th scope=col>Len</th><th scope=col>Genes</th><th scope=col>source_1</th><th scope=col>source_2</th><th scope=col>source_3</th><th scope=col>source_manual</th><th scope=col>location</th><th scope=col>ALP</th><th scope=col>ANK</th><th scope=col>FN3</th><th scope=col>Ig_like</th><th scope=col>List_Bact</th><th scope=col>LRR</th><th scope=col>Sel1</th><th scope=col>TPR</th><th scope=col>YadA</th><th scope=col>clade</th></tr>\n",
       "\t<tr><th scope=col>&lt;chr&gt;</th><th scope=col>&lt;chr&gt;</th><th scope=col>&lt;dbl&gt;</th><th scope=col>&lt;dbl&gt;</th><th scope=col>&lt;dbl&gt;</th><th scope=col>&lt;fct&gt;</th><th scope=col>&lt;fct&gt;</th><th scope=col>&lt;fct&gt;</th><th scope=col>&lt;fct&gt;</th><th scope=col>&lt;fct&gt;</th><th scope=col>&lt;dbl&gt;</th><th scope=col>&lt;dbl&gt;</th><th scope=col>&lt;dbl&gt;</th><th scope=col>&lt;dbl&gt;</th><th scope=col>&lt;dbl&gt;</th><th scope=col>&lt;dbl&gt;</th><th scope=col>&lt;dbl&gt;</th><th scope=col>&lt;dbl&gt;</th><th scope=col>&lt;dbl&gt;</th><th scope=col>&lt;fct&gt;</th></tr>\n",
       "</thead>\n",
       "<tbody>\n",
       "\t<tr><td>GCA_000300255</td><td>Candidatus_Methanomethylophilus_alvus_Mx1201             </td><td>55.59482</td><td>1666.795</td><td>1636</td><td>Host-associated</td><td>Feces</td><td>Human</td><td>Human_feces</td><td>NA</td><td>0</td><td>0</td><td>0</td><td>0</td><td> 6</td><td>1</td><td>28</td><td>37</td><td>0</td><td>HA</td></tr>\n",
       "\t<tr><td>GCA_000308215</td><td>Methanomassiliicoccus_luminyensis_B10                    </td><td>60.47886</td><td>2620.233</td><td>2607</td><td>Host-associated</td><td>Feces</td><td>Human</td><td>Human_feces</td><td>NA</td><td>2</td><td>0</td><td>5</td><td>1</td><td> 2</td><td>5</td><td> 1</td><td>11</td><td>0</td><td>FL</td></tr>\n",
       "\t<tr><td>GCA_000404225</td><td>Candidatus_Methanomassiliicoccus_intestinalis_Issoire_Mx1</td><td>41.25543</td><td>1931.651</td><td>1855</td><td>Host-associated</td><td>Feces</td><td>Human</td><td>Human_feces</td><td>NA</td><td>1</td><td>1</td><td>0</td><td>1</td><td>26</td><td>7</td><td> 6</td><td>15</td><td>0</td><td>FL</td></tr>\n",
       "</tbody>\n",
       "</table>\n"
      ],
      "text/latex": [
       "A data.frame: 3 × 20\n",
       "\\begin{tabular}{r|llllllllllllllllllll}\n",
       " Assembly & Label & GC & Len & Genes & source\\_1 & source\\_2 & source\\_3 & source\\_manual & location & ALP & ANK & FN3 & Ig\\_like & List\\_Bact & LRR & Sel1 & TPR & YadA & clade\\\\\n",
       " <chr> & <chr> & <dbl> & <dbl> & <dbl> & <fct> & <fct> & <fct> & <fct> & <fct> & <dbl> & <dbl> & <dbl> & <dbl> & <dbl> & <dbl> & <dbl> & <dbl> & <dbl> & <fct>\\\\\n",
       "\\hline\n",
       "\t GCA\\_000300255 & Candidatus\\_Methanomethylophilus\\_alvus\\_Mx1201              & 55.59482 & 1666.795 & 1636 & Host-associated & Feces & Human & Human\\_feces & NA & 0 & 0 & 0 & 0 &  6 & 1 & 28 & 37 & 0 & HA\\\\\n",
       "\t GCA\\_000308215 & Methanomassiliicoccus\\_luminyensis\\_B10                     & 60.47886 & 2620.233 & 2607 & Host-associated & Feces & Human & Human\\_feces & NA & 2 & 0 & 5 & 1 &  2 & 5 &  1 & 11 & 0 & FL\\\\\n",
       "\t GCA\\_000404225 & Candidatus\\_Methanomassiliicoccus\\_intestinalis\\_Issoire\\_Mx1 & 41.25543 & 1931.651 & 1855 & Host-associated & Feces & Human & Human\\_feces & NA & 1 & 1 & 0 & 1 & 26 & 7 &  6 & 15 & 0 & FL\\\\\n",
       "\\end{tabular}\n"
      ],
      "text/markdown": [
       "\n",
       "A data.frame: 3 × 20\n",
       "\n",
       "| Assembly &lt;chr&gt; | Label &lt;chr&gt; | GC &lt;dbl&gt; | Len &lt;dbl&gt; | Genes &lt;dbl&gt; | source_1 &lt;fct&gt; | source_2 &lt;fct&gt; | source_3 &lt;fct&gt; | source_manual &lt;fct&gt; | location &lt;fct&gt; | ALP &lt;dbl&gt; | ANK &lt;dbl&gt; | FN3 &lt;dbl&gt; | Ig_like &lt;dbl&gt; | List_Bact &lt;dbl&gt; | LRR &lt;dbl&gt; | Sel1 &lt;dbl&gt; | TPR &lt;dbl&gt; | YadA &lt;dbl&gt; | clade &lt;fct&gt; |\n",
       "|---|---|---|---|---|---|---|---|---|---|---|---|---|---|---|---|---|---|---|---|\n",
       "| GCA_000300255 | Candidatus_Methanomethylophilus_alvus_Mx1201              | 55.59482 | 1666.795 | 1636 | Host-associated | Feces | Human | Human_feces | NA | 0 | 0 | 0 | 0 |  6 | 1 | 28 | 37 | 0 | HA |\n",
       "| GCA_000308215 | Methanomassiliicoccus_luminyensis_B10                     | 60.47886 | 2620.233 | 2607 | Host-associated | Feces | Human | Human_feces | NA | 2 | 0 | 5 | 1 |  2 | 5 |  1 | 11 | 0 | FL |\n",
       "| GCA_000404225 | Candidatus_Methanomassiliicoccus_intestinalis_Issoire_Mx1 | 41.25543 | 1931.651 | 1855 | Host-associated | Feces | Human | Human_feces | NA | 1 | 1 | 0 | 1 | 26 | 7 |  6 | 15 | 0 | FL |\n",
       "\n"
      ],
      "text/plain": [
       "  Assembly      Label                                                    \n",
       "1 GCA_000300255 Candidatus_Methanomethylophilus_alvus_Mx1201             \n",
       "2 GCA_000308215 Methanomassiliicoccus_luminyensis_B10                    \n",
       "3 GCA_000404225 Candidatus_Methanomassiliicoccus_intestinalis_Issoire_Mx1\n",
       "  GC       Len      Genes source_1        source_2 source_3 source_manual\n",
       "1 55.59482 1666.795 1636  Host-associated Feces    Human    Human_feces  \n",
       "2 60.47886 2620.233 2607  Host-associated Feces    Human    Human_feces  \n",
       "3 41.25543 1931.651 1855  Host-associated Feces    Human    Human_feces  \n",
       "  location ALP ANK FN3 Ig_like List_Bact LRR Sel1 TPR YadA clade\n",
       "1 NA       0   0   0   0        6        1   28   37  0    HA   \n",
       "2 NA       2   0   5   1        2        5    1   11  0    FL   \n",
       "3 NA       1   1   0   1       26        7    6   15  0    FL   "
      ]
     },
     "metadata": {},
     "output_type": "display_data"
    }
   ],
   "source": [
    "# Add Clade data to the metadata table and save\n",
    "# Host Associated, Free Living and EXternal\n",
    "HA_clade = c(\"GCA_002504405\", \"GCA_002506175\", \"GCA_002504495\", \"GCA_002506425\", \n",
    "             \"GCA_002503925\", \"GCA_002494805\", \"GCA_002498545\", \"GCA_002497475\", \n",
    "             \"GCA_002508595\", \"GCA_000800805\", \"GCA_002506905\", \"GCA_002496945\", \n",
    "             \"GCA_002495325\", \"GCA_002503545\", \"GCA_000300255\", \"V11_RL001\", \n",
    "             \"GCA_001481295\", \"GCA_900313075\", \"GCA_900314325\", \"GCA_002505245\", \n",
    "             \"GCA_002503785\", \"GCA_002506865\", \"GCA_002502545\", \"GCA_002509415\", \n",
    "             \"GCA_002498765\", \"GCA_002498785\", \"GCA_001421175\", \"GCA_002502965\", \n",
    "             \"GCA_002497155\", \"GCA_002509425\", \"GCA_002496785\", \"GCA_002505275\", \n",
    "             \"GCA_002506325\", \"GCA_002498605\", \"GCA_002509405\", \"GCA_002505345\", \n",
    "             \"GCA_002504645\", \"GCA_002502765\", \"GCA_002495665\", \"GCA_002506565\", \n",
    "             \"GCA_002508625\", \"GCA_002498425\", \"GCA_002498805\", \"GCA_002502925\", \n",
    "             \"GCA_002502465\", \"GCA_002498365\", \"GCA_002506995\", \"GCA_002494585\", \n",
    "             \"GCA_002509465\", \"GCA_002495495\")\n",
    "\n",
    "FL_clade = c(\"GCA_003153895\", \"GCA_003135935\", \"GCA_002506985\", \"GCA_002497075\", \n",
    "             \"GCA_000404225\", \"GCA_000308215\", \"GCA_002508545\", \"GCA_002494705\", \n",
    "             \"GCA_001421185\", \"GCA_002498285\", \"GCA_002495585\", \"GCA_002497995\", \n",
    "             \"GCA_002504525\", \"GCA_002496345\", \"GCA_002508585\", \"GCA_002508555\", \n",
    "             \"GCA_002502005\", \"GCA_002503495\", \"GCA_002505225\", \"GCA_002503645\")\n",
    "\n",
    "EX_clade = c(\"GCA_002496385\", \"GCA_002499085\")\n",
    "\n",
    "df_HA = data.frame(Assembly = HA_clade, \n",
    "                   clade = gsub(pattern = \".*\", replacement = \"HA\", x = HA_clade, perl = T))\n",
    "df_FL = data.frame(Assembly = FL_clade, \n",
    "                   clade = gsub(pattern = \".*\", replacement = \"FL\", x = FL_clade, perl = T))\n",
    "df_EX = data.frame(Assembly = EX_clade, \n",
    "                   clade = gsub(pattern = \".*\", replacement = \"EX\", x = EX_clade, perl = T))\n",
    "\n",
    "df_Clade = bind_rows(df_HA, df_FL, df_EX)\n",
    "\n",
    "\n",
    "traits_df = methanomassilii_data %>% \n",
    "    #select(traits, source_1, source_2, source_3) %>%\n",
    "    rownames_to_column(var = \"Assembly\") %>%\n",
    "    left_join(df_Clade, by = \"Assembly\") %>%\n",
    "    mutate(clade = factor(clade))\n",
    "\n",
    "traits_df %>% dfhead"
   ]
  },
  {
   "cell_type": "markdown",
   "metadata": {},
   "source": [
    "# Phylogenetic Signal"
   ]
  },
  {
   "cell_type": "markdown",
   "metadata": {},
   "source": [
    "## Using marker protein tree"
   ]
  },
  {
   "cell_type": "markdown",
   "metadata": {},
   "source": [
    "### Moran's I"
   ]
  },
  {
   "cell_type": "markdown",
   "metadata": {},
   "source": [
    "Recall that the eukaryote-like proteins I used were:\n",
    "\n",
    "* Adhesin-like proteins (ALPs): `Parallel beta-helix repeat`\n",
    "* Sel1 containing proteins (Sel1): `Sel1`\n",
    "* Listeria-Bacteroides repeat containing proteins (List-Bact): `Listeria-Bacteroides`\n",
    "* Tetratrico peptide repeats (TPRs): `Tetratrico` \n",
    "* Ankyrin repeats (ANKs): `Ankyrin`\n",
    "* Leucine-rich repeats (LRRs): `Leucine-rich`\n",
    "* Fibronectin type III (fn3) domains: `Fibronectin type III`\n",
    "* Laminin G domain: `Laminin G`\n",
    "* Bacterial Ig-like domains: `Ig-like`\n",
    "* YadA-like domain (Yersinia adhesin A): `YadA` \n",
    "* TadE-like domain: `TadE` \n",
    "* Invasion protein B (ialB): `Invasion protein B`"
   ]
  },
  {
   "cell_type": "code",
   "execution_count": 38,
   "metadata": {
    "ExecuteTime": {
     "end_time": "2020-08-31T10:28:46.800492Z",
     "start_time": "2020-08-31T10:28:45.389Z"
    },
    "scrolled": false
   },
   "outputs": [
    {
     "data": {
      "text/html": [
       "<table>\n",
       "<caption>A data.frame: 12 × 4</caption>\n",
       "<thead>\n",
       "\t<tr><th scope=col>Variable</th><th scope=col>Moran_I</th><th scope=col>p_value</th><th scope=col>p_adjust</th></tr>\n",
       "\t<tr><th scope=col>&lt;chr&gt;</th><th scope=col>&lt;dbl&gt;</th><th scope=col>&lt;dbl&gt;</th><th scope=col>&lt;dbl&gt;</th></tr>\n",
       "</thead>\n",
       "<tbody>\n",
       "\t<tr><td>GC       </td><td> 0.211</td><td>0.001</td><td>0.002</td></tr>\n",
       "\t<tr><td>Len      </td><td> 0.392</td><td>0.001</td><td>0.002</td></tr>\n",
       "\t<tr><td>Genes    </td><td> 0.416</td><td>0.001</td><td>0.002</td></tr>\n",
       "\t<tr><td>ALP      </td><td> 0.183</td><td>0.001</td><td>0.002</td></tr>\n",
       "\t<tr><td>ANK      </td><td> 0.003</td><td>0.133</td><td>0.145</td></tr>\n",
       "\t<tr><td>FN3      </td><td> 0.107</td><td>0.007</td><td>0.008</td></tr>\n",
       "\t<tr><td>Ig_like  </td><td> 0.097</td><td>0.004</td><td>0.005</td></tr>\n",
       "\t<tr><td>List_Bact</td><td> 0.146</td><td>0.001</td><td>0.002</td></tr>\n",
       "\t<tr><td>LRR      </td><td> 0.107</td><td>0.002</td><td>0.003</td></tr>\n",
       "\t<tr><td>Sel1     </td><td> 0.283</td><td>0.001</td><td>0.002</td></tr>\n",
       "\t<tr><td>TPR      </td><td> 0.197</td><td>0.001</td><td>0.002</td></tr>\n",
       "\t<tr><td>YadA     </td><td>-0.012</td><td>0.346</td><td>0.346</td></tr>\n",
       "</tbody>\n",
       "</table>\n"
      ],
      "text/latex": [
       "A data.frame: 12 × 4\n",
       "\\begin{tabular}{r|llll}\n",
       " Variable & Moran\\_I & p\\_value & p\\_adjust\\\\\n",
       " <chr> & <dbl> & <dbl> & <dbl>\\\\\n",
       "\\hline\n",
       "\t GC        &  0.211 & 0.001 & 0.002\\\\\n",
       "\t Len       &  0.392 & 0.001 & 0.002\\\\\n",
       "\t Genes     &  0.416 & 0.001 & 0.002\\\\\n",
       "\t ALP       &  0.183 & 0.001 & 0.002\\\\\n",
       "\t ANK       &  0.003 & 0.133 & 0.145\\\\\n",
       "\t FN3       &  0.107 & 0.007 & 0.008\\\\\n",
       "\t Ig\\_like   &  0.097 & 0.004 & 0.005\\\\\n",
       "\t List\\_Bact &  0.146 & 0.001 & 0.002\\\\\n",
       "\t LRR       &  0.107 & 0.002 & 0.003\\\\\n",
       "\t Sel1      &  0.283 & 0.001 & 0.002\\\\\n",
       "\t TPR       &  0.197 & 0.001 & 0.002\\\\\n",
       "\t YadA      & -0.012 & 0.346 & 0.346\\\\\n",
       "\\end{tabular}\n"
      ],
      "text/markdown": [
       "\n",
       "A data.frame: 12 × 4\n",
       "\n",
       "| Variable &lt;chr&gt; | Moran_I &lt;dbl&gt; | p_value &lt;dbl&gt; | p_adjust &lt;dbl&gt; |\n",
       "|---|---|---|---|\n",
       "| GC        |  0.211 | 0.001 | 0.002 |\n",
       "| Len       |  0.392 | 0.001 | 0.002 |\n",
       "| Genes     |  0.416 | 0.001 | 0.002 |\n",
       "| ALP       |  0.183 | 0.001 | 0.002 |\n",
       "| ANK       |  0.003 | 0.133 | 0.145 |\n",
       "| FN3       |  0.107 | 0.007 | 0.008 |\n",
       "| Ig_like   |  0.097 | 0.004 | 0.005 |\n",
       "| List_Bact |  0.146 | 0.001 | 0.002 |\n",
       "| LRR       |  0.107 | 0.002 | 0.003 |\n",
       "| Sel1      |  0.283 | 0.001 | 0.002 |\n",
       "| TPR       |  0.197 | 0.001 | 0.002 |\n",
       "| YadA      | -0.012 | 0.346 | 0.346 |\n",
       "\n"
      ],
      "text/plain": [
       "   Variable  Moran_I p_value p_adjust\n",
       "1  GC         0.211  0.001   0.002   \n",
       "2  Len        0.392  0.001   0.002   \n",
       "3  Genes      0.416  0.001   0.002   \n",
       "4  ALP        0.183  0.001   0.002   \n",
       "5  ANK        0.003  0.133   0.145   \n",
       "6  FN3        0.107  0.007   0.008   \n",
       "7  Ig_like    0.097  0.004   0.005   \n",
       "8  List_Bact  0.146  0.001   0.002   \n",
       "9  LRR        0.107  0.002   0.003   \n",
       "10 Sel1       0.283  0.001   0.002   \n",
       "11 TPR        0.197  0.001   0.002   \n",
       "12 YadA      -0.012  0.346   0.346   "
      ]
     },
     "metadata": {},
     "output_type": "display_data"
    }
   ],
   "source": [
    "# Create new object with tree and metadata\n",
    "traits = c(\"GC\",\"Len\",\"Genes\", \"ALP\", \"ANK\", \"FN3\", \"Ig_like\", \n",
    "           \"List_Bact\", \"LRR\", \"Sel1\", \"TPR\", \"YadA\")\n",
    "\n",
    "methanomassilii_p4d = phylo4d(x = phylogenomic_tree, \n",
    "                              methanomassilii_data[, traits])\n",
    "\n",
    "# Calculate Moran's I\n",
    "methanomassilii_moran = phyloSignal(methanomassilii_p4d, method = \"I\")\n",
    "methanomassilii_moran = cbind(methanomassilii_moran$stat,\n",
    "                              methanomassilii_moran$pvalue)\n",
    "colnames(methanomassilii_moran) = c(\"Moran_I\", \"p_value\")\n",
    "\n",
    "# Adjust p-values for multiple comparisons\n",
    "methanomassilii_moran = methanomassilii_moran %>%\n",
    "    rownames_to_column(\"Variable\") %>%\n",
    "    mutate(p_adjust = p.adjust(p_value, method = \"fdr\"))\n",
    "\n",
    "methanomassilii_moran %>% mutate_if(is.numeric, function(x) round(x, 3))"
   ]
  },
  {
   "cell_type": "markdown",
   "metadata": {},
   "source": [
    "## Phylogenetic ANOVA on genome length, gene count and GC content"
   ]
  },
  {
   "cell_type": "code",
   "execution_count": 39,
   "metadata": {
    "ExecuteTime": {
     "end_time": "2020-08-31T10:28:46.840404Z",
     "start_time": "2020-08-31T10:28:45.395Z"
    }
   },
   "outputs": [
    {
     "name": "stdout",
     "output_type": "stream",
     "text": [
      "[1] 72  5\n"
     ]
    },
    {
     "data": {
      "text/html": [
       "<table>\n",
       "<caption>A data.frame: 3 × 5</caption>\n",
       "<thead>\n",
       "\t<tr><th scope=col>Assembly</th><th scope=col>GC</th><th scope=col>Len</th><th scope=col>Genes</th><th scope=col>clade</th></tr>\n",
       "\t<tr><th scope=col>&lt;chr&gt;</th><th scope=col>&lt;dbl&gt;</th><th scope=col>&lt;dbl&gt;</th><th scope=col>&lt;dbl&gt;</th><th scope=col>&lt;fct&gt;</th></tr>\n",
       "</thead>\n",
       "<tbody>\n",
       "\t<tr><td>GCA_000300255</td><td>55.59482</td><td>1666.795</td><td>1636</td><td>HA</td></tr>\n",
       "\t<tr><td>GCA_000308215</td><td>60.47886</td><td>2620.233</td><td>2607</td><td>FL</td></tr>\n",
       "\t<tr><td>GCA_000404225</td><td>41.25543</td><td>1931.651</td><td>1855</td><td>FL</td></tr>\n",
       "</tbody>\n",
       "</table>\n"
      ],
      "text/latex": [
       "A data.frame: 3 × 5\n",
       "\\begin{tabular}{r|lllll}\n",
       " Assembly & GC & Len & Genes & clade\\\\\n",
       " <chr> & <dbl> & <dbl> & <dbl> & <fct>\\\\\n",
       "\\hline\n",
       "\t GCA\\_000300255 & 55.59482 & 1666.795 & 1636 & HA\\\\\n",
       "\t GCA\\_000308215 & 60.47886 & 2620.233 & 2607 & FL\\\\\n",
       "\t GCA\\_000404225 & 41.25543 & 1931.651 & 1855 & FL\\\\\n",
       "\\end{tabular}\n"
      ],
      "text/markdown": [
       "\n",
       "A data.frame: 3 × 5\n",
       "\n",
       "| Assembly &lt;chr&gt; | GC &lt;dbl&gt; | Len &lt;dbl&gt; | Genes &lt;dbl&gt; | clade &lt;fct&gt; |\n",
       "|---|---|---|---|---|\n",
       "| GCA_000300255 | 55.59482 | 1666.795 | 1636 | HA |\n",
       "| GCA_000308215 | 60.47886 | 2620.233 | 2607 | FL |\n",
       "| GCA_000404225 | 41.25543 | 1931.651 | 1855 | FL |\n",
       "\n"
      ],
      "text/plain": [
       "  Assembly      GC       Len      Genes clade\n",
       "1 GCA_000300255 55.59482 1666.795 1636  HA   \n",
       "2 GCA_000308215 60.47886 2620.233 2607  FL   \n",
       "3 GCA_000404225 41.25543 1931.651 1855  FL   "
      ]
     },
     "metadata": {},
     "output_type": "display_data"
    }
   ],
   "source": [
    "Features_df = traits_df %>%\n",
    "    select(Assembly, GC, Len, Genes, clade)\n",
    "\n",
    "Features_df %>% dfhead\n",
    "\n",
    "Feature_traits = c(\"GC\", \"Len\", \"Genes\")"
   ]
  },
  {
   "cell_type": "code",
   "execution_count": 40,
   "metadata": {
    "ExecuteTime": {
     "end_time": "2020-08-31T10:28:56.129352Z",
     "start_time": "2020-08-31T10:28:45.400Z"
    }
   },
   "outputs": [
    {
     "name": "stdout",
     "output_type": "stream",
     "text": [
      "[1] \"GC\"\n",
      "Analysis of Variance Table\n",
      "\n",
      "Response: dat\n",
      "          Df Sum-Sq Mean-Sq F-value    Pr(>F) Pr(>F) given phy\n",
      "group      2 167.30  83.649  7.2691 0.0013653           0.5974\n",
      "Residuals 69 794.01  11.507                                   \n",
      "[1] \"Len\"\n",
      "Analysis of Variance Table\n",
      "\n",
      "Response: dat\n",
      "          Df  Sum-Sq Mean-Sq F-value     Pr(>F) Pr(>F) given phy  \n",
      "group      2 6608744 3304372   78.89 1.4859e-18          0.03197 *\n",
      "Residuals 69 2890138   41886                                      \n",
      "---\n",
      "Signif. codes:  0 ‘***’ 0.001 ‘**’ 0.01 ‘*’ 0.05 ‘.’ 0.1 ‘ ’ 1\n",
      "[1] \"Genes\"\n",
      "Analysis of Variance Table\n",
      "\n",
      "Response: dat\n",
      "          Df  Sum-Sq Mean-Sq F-value     Pr(>F) Pr(>F) given phy  \n",
      "group      2 8590797 4295398  106.94 7.2355e-22          0.01798 *\n",
      "Residuals 69 2771350   40164                                      \n",
      "---\n",
      "Signif. codes:  0 ‘***’ 0.001 ‘**’ 0.01 ‘*’ 0.05 ‘.’ 0.1 ‘ ’ 1\n"
     ]
    },
    {
     "data": {
      "text/html": [
       "<table>\n",
       "<caption>A data.frame: 3 × 8</caption>\n",
       "<thead>\n",
       "\t<tr><th scope=col>Df</th><th scope=col>Sum-Sq</th><th scope=col>Mean-Sq</th><th scope=col>F-value</th><th scope=col>p_val</th><th scope=col>p_phyl</th><th scope=col>p_phyl_adjust</th><th scope=col>Trait</th></tr>\n",
       "\t<tr><th scope=col>&lt;int&gt;</th><th scope=col>&lt;dbl&gt;</th><th scope=col>&lt;dbl&gt;</th><th scope=col>&lt;dbl&gt;</th><th scope=col>&lt;dbl&gt;</th><th scope=col>&lt;dbl&gt;</th><th scope=col>&lt;dbl&gt;</th><th scope=col>&lt;chr&gt;</th></tr>\n",
       "</thead>\n",
       "<tbody>\n",
       "\t<tr><td>2</td><td>    167.2978</td><td>     83.6489</td><td>  7.269138</td><td>1.365348e-03</td><td>0.59740260</td><td>0.59740260</td><td>GC   </td></tr>\n",
       "\t<tr><td>2</td><td>6608744.3333</td><td>3304372.1667</td><td> 78.889556</td><td>1.485896e-18</td><td>0.03196803</td><td>0.04795205</td><td>Len  </td></tr>\n",
       "\t<tr><td>2</td><td>8590796.7311</td><td>4295398.3656</td><td>106.945171</td><td>7.235498e-22</td><td>0.01798202</td><td>0.04795205</td><td>Genes</td></tr>\n",
       "</tbody>\n",
       "</table>\n"
      ],
      "text/latex": [
       "A data.frame: 3 × 8\n",
       "\\begin{tabular}{r|llllllll}\n",
       " Df & Sum-Sq & Mean-Sq & F-value & p\\_val & p\\_phyl & p\\_phyl\\_adjust & Trait\\\\\n",
       " <int> & <dbl> & <dbl> & <dbl> & <dbl> & <dbl> & <dbl> & <chr>\\\\\n",
       "\\hline\n",
       "\t 2 &     167.2978 &      83.6489 &   7.269138 & 1.365348e-03 & 0.59740260 & 0.59740260 & GC   \\\\\n",
       "\t 2 & 6608744.3333 & 3304372.1667 &  78.889556 & 1.485896e-18 & 0.03196803 & 0.04795205 & Len  \\\\\n",
       "\t 2 & 8590796.7311 & 4295398.3656 & 106.945171 & 7.235498e-22 & 0.01798202 & 0.04795205 & Genes\\\\\n",
       "\\end{tabular}\n"
      ],
      "text/markdown": [
       "\n",
       "A data.frame: 3 × 8\n",
       "\n",
       "| Df &lt;int&gt; | Sum-Sq &lt;dbl&gt; | Mean-Sq &lt;dbl&gt; | F-value &lt;dbl&gt; | p_val &lt;dbl&gt; | p_phyl &lt;dbl&gt; | p_phyl_adjust &lt;dbl&gt; | Trait &lt;chr&gt; |\n",
       "|---|---|---|---|---|---|---|---|\n",
       "| 2 |     167.2978 |      83.6489 |   7.269138 | 1.365348e-03 | 0.59740260 | 0.59740260 | GC    |\n",
       "| 2 | 6608744.3333 | 3304372.1667 |  78.889556 | 1.485896e-18 | 0.03196803 | 0.04795205 | Len   |\n",
       "| 2 | 8590796.7311 | 4295398.3656 | 106.945171 | 7.235498e-22 | 0.01798202 | 0.04795205 | Genes |\n",
       "\n"
      ],
      "text/plain": [
       "  Df Sum-Sq       Mean-Sq      F-value    p_val        p_phyl     p_phyl_adjust\n",
       "1 2      167.2978      83.6489   7.269138 1.365348e-03 0.59740260 0.59740260   \n",
       "2 2  6608744.3333 3304372.1667  78.889556 1.485896e-18 0.03196803 0.04795205   \n",
       "3 2  8590796.7311 4295398.3656 106.945171 7.235498e-22 0.01798202 0.04795205   \n",
       "  Trait\n",
       "1 GC   \n",
       "2 Len  \n",
       "3 Genes"
      ]
     },
     "metadata": {},
     "output_type": "display_data"
    }
   ],
   "source": [
    "# Empty result list\n",
    "aov_list = list()\n",
    "summary_list = list()\n",
    "\n",
    "# Create named vector of clades\n",
    "group = Features_df$clade\n",
    "names(group) = Features_df$Assembly\n",
    "    \n",
    "for(trait in Feature_traits){\n",
    "    trait %>% print\n",
    "    # Create named vector of variable\n",
    "    variable = Features_df[, trait]\n",
    "    names(variable) = Features_df$Assembly\n",
    "    # Run phylogenetic anova\n",
    "    aov_result = aov.phylo(variable ~ group, phylogenomic_tree, nsim = 1000)\n",
    "    aov_list[[trait]] = aov_result  \n",
    "}\n",
    "\n",
    "feature_phylaov = map_dfr(aov_list, function(x) attributes(x)$summary[1,]) %>% \n",
    "       rename(\"p_phyl\" = \"Pr(>F) given phy\", \"p_val\" = \"Pr(>F)\") %>% \n",
    "       mutate(p_phyl_adjust = p.adjust(p_phyl, method = \"fdr\"), Trait = Feature_traits) \n",
    "\n",
    "feature_phylaov"
   ]
  },
  {
   "cell_type": "code",
   "execution_count": 41,
   "metadata": {
    "ExecuteTime": {
     "end_time": "2020-08-31T10:28:56.164624Z",
     "start_time": "2020-08-31T10:28:45.405Z"
    }
   },
   "outputs": [
    {
     "data": {
      "text/html": [
       "<table>\n",
       "<caption>A tibble: 3 × 3</caption>\n",
       "<thead>\n",
       "\t<tr><th scope=col>clade</th><th scope=col>GC_mean</th><th scope=col>GC_sd</th></tr>\n",
       "\t<tr><th scope=col>&lt;fct&gt;</th><th scope=col>&lt;dbl&gt;</th><th scope=col>&lt;dbl&gt;</th></tr>\n",
       "</thead>\n",
       "<tbody>\n",
       "\t<tr><td>EX</td><td>54.36767</td><td>0.5418268</td></tr>\n",
       "\t<tr><td>FL</td><td>59.09300</td><td>4.8331061</td></tr>\n",
       "\t<tr><td>HA</td><td>55.78365</td><td>2.6722223</td></tr>\n",
       "</tbody>\n",
       "</table>\n"
      ],
      "text/latex": [
       "A tibble: 3 × 3\n",
       "\\begin{tabular}{r|lll}\n",
       " clade & GC\\_mean & GC\\_sd\\\\\n",
       " <fct> & <dbl> & <dbl>\\\\\n",
       "\\hline\n",
       "\t EX & 54.36767 & 0.5418268\\\\\n",
       "\t FL & 59.09300 & 4.8331061\\\\\n",
       "\t HA & 55.78365 & 2.6722223\\\\\n",
       "\\end{tabular}\n"
      ],
      "text/markdown": [
       "\n",
       "A tibble: 3 × 3\n",
       "\n",
       "| clade &lt;fct&gt; | GC_mean &lt;dbl&gt; | GC_sd &lt;dbl&gt; |\n",
       "|---|---|---|\n",
       "| EX | 54.36767 | 0.5418268 |\n",
       "| FL | 59.09300 | 4.8331061 |\n",
       "| HA | 55.78365 | 2.6722223 |\n",
       "\n"
      ],
      "text/plain": [
       "  clade GC_mean  GC_sd    \n",
       "1 EX    54.36767 0.5418268\n",
       "2 FL    59.09300 4.8331061\n",
       "3 HA    55.78365 2.6722223"
      ]
     },
     "metadata": {},
     "output_type": "display_data"
    }
   ],
   "source": [
    "Features_df %>%\n",
    "    group_by(clade) %>%\n",
    "    summarise_if(is.numeric, list(mean = mean, sd = sd)) %>%\n",
    "    select(clade, starts_with(\"GC_\"))"
   ]
  },
  {
   "cell_type": "markdown",
   "metadata": {},
   "source": [
    "# Phylogenetic ANOVA on ELPs"
   ]
  },
  {
   "cell_type": "markdown",
   "metadata": {},
   "source": [
    "## Perform phyloANOVA\n",
    "I will compare the number of ELPs by source of isolation and by clade"
   ]
  },
  {
   "cell_type": "code",
   "execution_count": 42,
   "metadata": {
    "ExecuteTime": {
     "end_time": "2020-08-31T10:28:56.189853Z",
     "start_time": "2020-08-31T10:28:45.410Z"
    }
   },
   "outputs": [],
   "source": [
    "ELP_df = traits_df %>%\n",
    "    select(-GC, -Len, -Genes)\n",
    "\n",
    "ELP_traits = c(\"ALP\", \"ANK\", \"FN3\", \"Ig_like\", \"List_Bact\", \"LRR\", \"Sel1\", \"TPR\", \"YadA\")"
   ]
  },
  {
   "cell_type": "code",
   "execution_count": 43,
   "metadata": {
    "ExecuteTime": {
     "end_time": "2020-08-31T10:28:56.207157Z",
     "start_time": "2020-08-31T10:28:45.414Z"
    }
   },
   "outputs": [],
   "source": [
    "# # Empty result list\n",
    "# aov_list = list()\n",
    "# summary_list = list()\n",
    "\n",
    "# # Create named vector of clades\n",
    "# group = ELP_df$clade\n",
    "# names(group) = ELP_df$Assembly\n",
    "    \n",
    "# for(trait in ELP_traits){\n",
    "#     trait %>% print\n",
    "#     # Create named vector of variable\n",
    "#     variable = ELP_df[, trait]\n",
    "#     names(variable) = ELP_df$Assembly\n",
    "#     # Run phylogenetic anova\n",
    "#     aov_result = aov.phylo(variable ~ group, phylogenomic_tree, nsim = 1000)\n",
    "#     aov_list[[trait]] = aov_result  \n",
    "# }\n",
    "\n",
    "# plan(multicore, workers=20)\n",
    "# clade_phylaov = future_map_dfr(aov_list, function(x) attributes(x)$summary[1,]) %>% \n",
    "#        rename(\"p_phyl\" = \"Pr(>F) given phy\", \"p_val\" = \"Pr(>F)\") %>% \n",
    "#        mutate(p_phyl_adjust = p.adjust(p_phyl, method = \"fdr\"), Trait = ELP_traits) \n"
   ]
  },
  {
   "cell_type": "code",
   "execution_count": 44,
   "metadata": {
    "ExecuteTime": {
     "end_time": "2020-08-31T10:29:31.544460Z",
     "start_time": "2020-08-31T10:28:45.418Z"
    }
   },
   "outputs": [],
   "source": [
    "# Per clade\n",
    "# Empty result list\n",
    "aov_clust_ELPs = list()\n",
    "summary_list = list()\n",
    "\n",
    "# Create named vector of clades\n",
    "group = factor(ELP_df$clade)\n",
    "names(group) = ELP_df$Assembly\n",
    "\n",
    "\n",
    "# Run phylogenetic AOV on each gene cluster\n",
    "for(ID in ELP_traits){\n",
    "    # Create named vector of variable\n",
    "    variable = ELP_df[, ID]\n",
    "    names(variable) = ELP_df$Assembly\n",
    "\n",
    "    # Run phylogenetic anova\n",
    "    aov_result = phytools::phylANOVA(phylogenomic_tree, group, variable, nsim = 1000)\n",
    "    aov_clust_ELPs[[ID]] = aov_result  \n",
    "}"
   ]
  },
  {
   "cell_type": "code",
   "execution_count": 45,
   "metadata": {
    "ExecuteTime": {
     "end_time": "2020-08-31T10:29:31.757078Z",
     "start_time": "2020-08-31T10:28:45.423Z"
    }
   },
   "outputs": [
    {
     "data": {
      "text/html": [
       "<table>\n",
       "<caption>A tibble: 9 × 3</caption>\n",
       "<thead>\n",
       "\t<tr><th scope=col>cluster</th><th scope=col>p_val</th><th scope=col>p_adj</th></tr>\n",
       "\t<tr><th scope=col>&lt;chr&gt;</th><th scope=col>&lt;dbl&gt;</th><th scope=col>&lt;dbl&gt;</th></tr>\n",
       "</thead>\n",
       "<tbody>\n",
       "\t<tr><td>ALP      </td><td>0.022</td><td>0.099</td></tr>\n",
       "\t<tr><td>ANK      </td><td>0.997</td><td>0.997</td></tr>\n",
       "\t<tr><td>FN3      </td><td>0.275</td><td>0.495</td></tr>\n",
       "\t<tr><td>Ig_like  </td><td>0.008</td><td>0.072</td></tr>\n",
       "\t<tr><td>List_Bact</td><td>0.851</td><td>0.997</td></tr>\n",
       "\t<tr><td>LRR      </td><td>0.954</td><td>0.997</td></tr>\n",
       "\t<tr><td>Sel1     </td><td>0.217</td><td>0.495</td></tr>\n",
       "\t<tr><td>TPR      </td><td>0.237</td><td>0.495</td></tr>\n",
       "\t<tr><td>YadA     </td><td>0.992</td><td>0.997</td></tr>\n",
       "</tbody>\n",
       "</table>\n"
      ],
      "text/latex": [
       "A tibble: 9 × 3\n",
       "\\begin{tabular}{r|lll}\n",
       " cluster & p\\_val & p\\_adj\\\\\n",
       " <chr> & <dbl> & <dbl>\\\\\n",
       "\\hline\n",
       "\t ALP       & 0.022 & 0.099\\\\\n",
       "\t ANK       & 0.997 & 0.997\\\\\n",
       "\t FN3       & 0.275 & 0.495\\\\\n",
       "\t Ig\\_like   & 0.008 & 0.072\\\\\n",
       "\t List\\_Bact & 0.851 & 0.997\\\\\n",
       "\t LRR       & 0.954 & 0.997\\\\\n",
       "\t Sel1      & 0.217 & 0.495\\\\\n",
       "\t TPR       & 0.237 & 0.495\\\\\n",
       "\t YadA      & 0.992 & 0.997\\\\\n",
       "\\end{tabular}\n"
      ],
      "text/markdown": [
       "\n",
       "A tibble: 9 × 3\n",
       "\n",
       "| cluster &lt;chr&gt; | p_val &lt;dbl&gt; | p_adj &lt;dbl&gt; |\n",
       "|---|---|---|\n",
       "| ALP       | 0.022 | 0.099 |\n",
       "| ANK       | 0.997 | 0.997 |\n",
       "| FN3       | 0.275 | 0.495 |\n",
       "| Ig_like   | 0.008 | 0.072 |\n",
       "| List_Bact | 0.851 | 0.997 |\n",
       "| LRR       | 0.954 | 0.997 |\n",
       "| Sel1      | 0.217 | 0.495 |\n",
       "| TPR       | 0.237 | 0.495 |\n",
       "| YadA      | 0.992 | 0.997 |\n",
       "\n"
      ],
      "text/plain": [
       "  cluster   p_val p_adj\n",
       "1 ALP       0.022 0.099\n",
       "2 ANK       0.997 0.997\n",
       "3 FN3       0.275 0.495\n",
       "4 Ig_like   0.008 0.072\n",
       "5 List_Bact 0.851 0.997\n",
       "6 LRR       0.954 0.997\n",
       "7 Sel1      0.217 0.495\n",
       "8 TPR       0.237 0.495\n",
       "9 YadA      0.992 0.997"
      ]
     },
     "metadata": {},
     "output_type": "display_data"
    }
   ],
   "source": [
    "# Extract P values and adjust using FDR\n",
    "plan(multicore, workers = 5)\n",
    "clusters_phylaov_ELPs = future_map_dfr(aov_clust_ELPs, function(x) x$Pf) %>%\n",
    "    gather(cluster, p_val) %>%\n",
    "    mutate(p_adj = p.adjust(p_val, method = \"fdr\"))\n",
    "                                       \n",
    "clusters_phylaov_ELPs\n",
    "                                         \n",
    "# Extract significant clusters\n",
    "clusters_significant_ELPs = clusters_phylaov_ELPs %>%\n",
    "    filter(p_adj <= 0.1) %>%\n",
    "    pull(cluster)"
   ]
  },
  {
   "cell_type": "code",
   "execution_count": 46,
   "metadata": {
    "ExecuteTime": {
     "end_time": "2020-08-31T10:29:31.867523Z",
     "start_time": "2020-08-31T10:28:45.429Z"
    }
   },
   "outputs": [
    {
     "data": {
      "text/html": [
       "<table>\n",
       "<caption>A data.frame: 27 × 5</caption>\n",
       "<thead>\n",
       "\t<tr><th scope=col>Clade</th><th scope=col>EX</th><th scope=col>FL</th><th scope=col>HA</th><th scope=col>Clust</th></tr>\n",
       "\t<tr><th scope=col>&lt;chr&gt;</th><th scope=col>&lt;dbl&gt;</th><th scope=col>&lt;dbl&gt;</th><th scope=col>&lt;dbl&gt;</th><th scope=col>&lt;chr&gt;</th></tr>\n",
       "</thead>\n",
       "<tbody>\n",
       "\t<tr><td>EX</td><td>1.000</td><td>0.008</td><td>0.003</td><td>ALP      </td></tr>\n",
       "\t<tr><td>FL</td><td>0.008</td><td>1.000</td><td>0.167</td><td>ALP      </td></tr>\n",
       "\t<tr><td>HA</td><td>0.003</td><td>0.167</td><td>1.000</td><td>ALP      </td></tr>\n",
       "\t<tr><td>EX</td><td>1.000</td><td>1.000</td><td>1.000</td><td>ANK      </td></tr>\n",
       "\t<tr><td>FL</td><td>1.000</td><td>1.000</td><td>1.000</td><td>ANK      </td></tr>\n",
       "\t<tr><td>HA</td><td>1.000</td><td>1.000</td><td>1.000</td><td>ANK      </td></tr>\n",
       "\t<tr><td>EX</td><td>1.000</td><td>0.585</td><td>0.567</td><td>FN3      </td></tr>\n",
       "\t<tr><td>FL</td><td>0.585</td><td>1.000</td><td>0.567</td><td>FN3      </td></tr>\n",
       "\t<tr><td>HA</td><td>0.567</td><td>0.567</td><td>1.000</td><td>FN3      </td></tr>\n",
       "\t<tr><td>EX</td><td>1.000</td><td>0.003</td><td>0.003</td><td>Ig_like  </td></tr>\n",
       "\t<tr><td>FL</td><td>0.003</td><td>1.000</td><td>0.273</td><td>Ig_like  </td></tr>\n",
       "\t<tr><td>HA</td><td>0.003</td><td>0.273</td><td>1.000</td><td>Ig_like  </td></tr>\n",
       "\t<tr><td>EX</td><td>1.000</td><td>1.000</td><td>1.000</td><td>List_Bact</td></tr>\n",
       "\t<tr><td>FL</td><td>1.000</td><td>1.000</td><td>1.000</td><td>List_Bact</td></tr>\n",
       "\t<tr><td>HA</td><td>1.000</td><td>1.000</td><td>1.000</td><td>List_Bact</td></tr>\n",
       "\t<tr><td>EX</td><td>1.000</td><td>1.000</td><td>1.000</td><td>LRR      </td></tr>\n",
       "\t<tr><td>FL</td><td>1.000</td><td>1.000</td><td>1.000</td><td>LRR      </td></tr>\n",
       "\t<tr><td>HA</td><td>1.000</td><td>1.000</td><td>1.000</td><td>LRR      </td></tr>\n",
       "\t<tr><td>EX</td><td>1.000</td><td>0.974</td><td>0.618</td><td>Sel1     </td></tr>\n",
       "\t<tr><td>FL</td><td>0.974</td><td>1.000</td><td>0.582</td><td>Sel1     </td></tr>\n",
       "\t<tr><td>HA</td><td>0.618</td><td>0.582</td><td>1.000</td><td>Sel1     </td></tr>\n",
       "\t<tr><td>EX</td><td>1.000</td><td>0.078</td><td>0.166</td><td>TPR      </td></tr>\n",
       "\t<tr><td>FL</td><td>0.078</td><td>1.000</td><td>0.411</td><td>TPR      </td></tr>\n",
       "\t<tr><td>HA</td><td>0.166</td><td>0.411</td><td>1.000</td><td>TPR      </td></tr>\n",
       "\t<tr><td>EX</td><td>1.000</td><td>1.000</td><td>1.000</td><td>YadA     </td></tr>\n",
       "\t<tr><td>FL</td><td>1.000</td><td>1.000</td><td>1.000</td><td>YadA     </td></tr>\n",
       "\t<tr><td>HA</td><td>1.000</td><td>1.000</td><td>1.000</td><td>YadA     </td></tr>\n",
       "</tbody>\n",
       "</table>\n"
      ],
      "text/latex": [
       "A data.frame: 27 × 5\n",
       "\\begin{tabular}{r|lllll}\n",
       " Clade & EX & FL & HA & Clust\\\\\n",
       " <chr> & <dbl> & <dbl> & <dbl> & <chr>\\\\\n",
       "\\hline\n",
       "\t EX & 1.000 & 0.008 & 0.003 & ALP      \\\\\n",
       "\t FL & 0.008 & 1.000 & 0.167 & ALP      \\\\\n",
       "\t HA & 0.003 & 0.167 & 1.000 & ALP      \\\\\n",
       "\t EX & 1.000 & 1.000 & 1.000 & ANK      \\\\\n",
       "\t FL & 1.000 & 1.000 & 1.000 & ANK      \\\\\n",
       "\t HA & 1.000 & 1.000 & 1.000 & ANK      \\\\\n",
       "\t EX & 1.000 & 0.585 & 0.567 & FN3      \\\\\n",
       "\t FL & 0.585 & 1.000 & 0.567 & FN3      \\\\\n",
       "\t HA & 0.567 & 0.567 & 1.000 & FN3      \\\\\n",
       "\t EX & 1.000 & 0.003 & 0.003 & Ig\\_like  \\\\\n",
       "\t FL & 0.003 & 1.000 & 0.273 & Ig\\_like  \\\\\n",
       "\t HA & 0.003 & 0.273 & 1.000 & Ig\\_like  \\\\\n",
       "\t EX & 1.000 & 1.000 & 1.000 & List\\_Bact\\\\\n",
       "\t FL & 1.000 & 1.000 & 1.000 & List\\_Bact\\\\\n",
       "\t HA & 1.000 & 1.000 & 1.000 & List\\_Bact\\\\\n",
       "\t EX & 1.000 & 1.000 & 1.000 & LRR      \\\\\n",
       "\t FL & 1.000 & 1.000 & 1.000 & LRR      \\\\\n",
       "\t HA & 1.000 & 1.000 & 1.000 & LRR      \\\\\n",
       "\t EX & 1.000 & 0.974 & 0.618 & Sel1     \\\\\n",
       "\t FL & 0.974 & 1.000 & 0.582 & Sel1     \\\\\n",
       "\t HA & 0.618 & 0.582 & 1.000 & Sel1     \\\\\n",
       "\t EX & 1.000 & 0.078 & 0.166 & TPR      \\\\\n",
       "\t FL & 0.078 & 1.000 & 0.411 & TPR      \\\\\n",
       "\t HA & 0.166 & 0.411 & 1.000 & TPR      \\\\\n",
       "\t EX & 1.000 & 1.000 & 1.000 & YadA     \\\\\n",
       "\t FL & 1.000 & 1.000 & 1.000 & YadA     \\\\\n",
       "\t HA & 1.000 & 1.000 & 1.000 & YadA     \\\\\n",
       "\\end{tabular}\n"
      ],
      "text/markdown": [
       "\n",
       "A data.frame: 27 × 5\n",
       "\n",
       "| Clade &lt;chr&gt; | EX &lt;dbl&gt; | FL &lt;dbl&gt; | HA &lt;dbl&gt; | Clust &lt;chr&gt; |\n",
       "|---|---|---|---|---|\n",
       "| EX | 1.000 | 0.008 | 0.003 | ALP       |\n",
       "| FL | 0.008 | 1.000 | 0.167 | ALP       |\n",
       "| HA | 0.003 | 0.167 | 1.000 | ALP       |\n",
       "| EX | 1.000 | 1.000 | 1.000 | ANK       |\n",
       "| FL | 1.000 | 1.000 | 1.000 | ANK       |\n",
       "| HA | 1.000 | 1.000 | 1.000 | ANK       |\n",
       "| EX | 1.000 | 0.585 | 0.567 | FN3       |\n",
       "| FL | 0.585 | 1.000 | 0.567 | FN3       |\n",
       "| HA | 0.567 | 0.567 | 1.000 | FN3       |\n",
       "| EX | 1.000 | 0.003 | 0.003 | Ig_like   |\n",
       "| FL | 0.003 | 1.000 | 0.273 | Ig_like   |\n",
       "| HA | 0.003 | 0.273 | 1.000 | Ig_like   |\n",
       "| EX | 1.000 | 1.000 | 1.000 | List_Bact |\n",
       "| FL | 1.000 | 1.000 | 1.000 | List_Bact |\n",
       "| HA | 1.000 | 1.000 | 1.000 | List_Bact |\n",
       "| EX | 1.000 | 1.000 | 1.000 | LRR       |\n",
       "| FL | 1.000 | 1.000 | 1.000 | LRR       |\n",
       "| HA | 1.000 | 1.000 | 1.000 | LRR       |\n",
       "| EX | 1.000 | 0.974 | 0.618 | Sel1      |\n",
       "| FL | 0.974 | 1.000 | 0.582 | Sel1      |\n",
       "| HA | 0.618 | 0.582 | 1.000 | Sel1      |\n",
       "| EX | 1.000 | 0.078 | 0.166 | TPR       |\n",
       "| FL | 0.078 | 1.000 | 0.411 | TPR       |\n",
       "| HA | 0.166 | 0.411 | 1.000 | TPR       |\n",
       "| EX | 1.000 | 1.000 | 1.000 | YadA      |\n",
       "| FL | 1.000 | 1.000 | 1.000 | YadA      |\n",
       "| HA | 1.000 | 1.000 | 1.000 | YadA      |\n",
       "\n"
      ],
      "text/plain": [
       "   Clade EX    FL    HA    Clust    \n",
       "1  EX    1.000 0.008 0.003 ALP      \n",
       "2  FL    0.008 1.000 0.167 ALP      \n",
       "3  HA    0.003 0.167 1.000 ALP      \n",
       "4  EX    1.000 1.000 1.000 ANK      \n",
       "5  FL    1.000 1.000 1.000 ANK      \n",
       "6  HA    1.000 1.000 1.000 ANK      \n",
       "7  EX    1.000 0.585 0.567 FN3      \n",
       "8  FL    0.585 1.000 0.567 FN3      \n",
       "9  HA    0.567 0.567 1.000 FN3      \n",
       "10 EX    1.000 0.003 0.003 Ig_like  \n",
       "11 FL    0.003 1.000 0.273 Ig_like  \n",
       "12 HA    0.003 0.273 1.000 Ig_like  \n",
       "13 EX    1.000 1.000 1.000 List_Bact\n",
       "14 FL    1.000 1.000 1.000 List_Bact\n",
       "15 HA    1.000 1.000 1.000 List_Bact\n",
       "16 EX    1.000 1.000 1.000 LRR      \n",
       "17 FL    1.000 1.000 1.000 LRR      \n",
       "18 HA    1.000 1.000 1.000 LRR      \n",
       "19 EX    1.000 0.974 0.618 Sel1     \n",
       "20 FL    0.974 1.000 0.582 Sel1     \n",
       "21 HA    0.618 0.582 1.000 Sel1     \n",
       "22 EX    1.000 0.078 0.166 TPR      \n",
       "23 FL    0.078 1.000 0.411 TPR      \n",
       "24 HA    0.166 0.411 1.000 TPR      \n",
       "25 EX    1.000 1.000 1.000 YadA     \n",
       "26 FL    1.000 1.000 1.000 YadA     \n",
       "27 HA    1.000 1.000 1.000 YadA     "
      ]
     },
     "metadata": {},
     "output_type": "display_data"
    }
   ],
   "source": [
    "# Function to create single table of pairwise P values\n",
    "extract_posthoc = function(Pt, clst){\n",
    "    Pt_df = as.data.frame(Pt)\n",
    "    Pt_df %>% rownames_to_column(\"Clade\") %>%\n",
    "        mutate(., Clust = clst)\n",
    "}\n",
    "\n",
    "# Obtain single table of pairwise P values on significant clusters by phylAOV\n",
    "Pairwise_pvals_ELPs = aov_clust_ELPs[ELP_traits] %>%\n",
    "    purrr::map2_df(., names(.), function(Pt_table, clst) extract_posthoc(Pt_table$Pt, clst))\n",
    "\n",
    "Pairwise_pvals_ELPs"
   ]
  },
  {
   "cell_type": "markdown",
   "metadata": {},
   "source": [
    "## Summary of ELPs per clade and source"
   ]
  },
  {
   "cell_type": "code",
   "execution_count": 47,
   "metadata": {
    "ExecuteTime": {
     "end_time": "2020-08-31T10:29:31.948007Z",
     "start_time": "2020-08-31T10:28:45.434Z"
    },
    "scrolled": false
   },
   "outputs": [
    {
     "data": {
      "text/html": [
       "<table>\n",
       "<caption>A tibble: 2 × 19</caption>\n",
       "<thead>\n",
       "\t<tr><th scope=col>clade</th><th scope=col>ALP_mean</th><th scope=col>ALP_sd</th><th scope=col>ANK_mean</th><th scope=col>ANK_sd</th><th scope=col>FN3_mean</th><th scope=col>FN3_sd</th><th scope=col>Ig_like_mean</th><th scope=col>Ig_like_sd</th><th scope=col>List_Bact_mean</th><th scope=col>List_Bact_sd</th><th scope=col>LRR_mean</th><th scope=col>LRR_sd</th><th scope=col>Sel1_mean</th><th scope=col>Sel1_sd</th><th scope=col>TPR_mean</th><th scope=col>TPR_sd</th><th scope=col>YadA_mean</th><th scope=col>YadA_sd</th></tr>\n",
       "\t<tr><th scope=col>&lt;fct&gt;</th><th scope=col>&lt;dbl&gt;</th><th scope=col>&lt;dbl&gt;</th><th scope=col>&lt;dbl&gt;</th><th scope=col>&lt;dbl&gt;</th><th scope=col>&lt;dbl&gt;</th><th scope=col>&lt;dbl&gt;</th><th scope=col>&lt;dbl&gt;</th><th scope=col>&lt;dbl&gt;</th><th scope=col>&lt;dbl&gt;</th><th scope=col>&lt;dbl&gt;</th><th scope=col>&lt;dbl&gt;</th><th scope=col>&lt;dbl&gt;</th><th scope=col>&lt;dbl&gt;</th><th scope=col>&lt;dbl&gt;</th><th scope=col>&lt;dbl&gt;</th><th scope=col>&lt;dbl&gt;</th><th scope=col>&lt;dbl&gt;</th><th scope=col>&lt;dbl&gt;</th></tr>\n",
       "</thead>\n",
       "<tbody>\n",
       "\t<tr><td>FL</td><td>2.25</td><td>1.48</td><td>0.1</td><td>0.31</td><td>4.55</td><td>5.09</td><td>1.55</td><td>1.32</td><td>1.65</td><td>5.78</td><td>1.1</td><td>2.02</td><td>0.35</td><td>1.35</td><td> 9.55</td><td>1.70</td><td>0.00</td><td>0.00</td></tr>\n",
       "\t<tr><td>HA</td><td>0.14</td><td>0.61</td><td>0.1</td><td>0.51</td><td>0.32</td><td>0.62</td><td>0.20</td><td>0.53</td><td>3.68</td><td>3.76</td><td>1.5</td><td>2.15</td><td>9.32</td><td>5.69</td><td>16.30</td><td>6.56</td><td>0.02</td><td>0.14</td></tr>\n",
       "</tbody>\n",
       "</table>\n"
      ],
      "text/latex": [
       "A tibble: 2 × 19\n",
       "\\begin{tabular}{r|lllllllllllllllllll}\n",
       " clade & ALP\\_mean & ALP\\_sd & ANK\\_mean & ANK\\_sd & FN3\\_mean & FN3\\_sd & Ig\\_like\\_mean & Ig\\_like\\_sd & List\\_Bact\\_mean & List\\_Bact\\_sd & LRR\\_mean & LRR\\_sd & Sel1\\_mean & Sel1\\_sd & TPR\\_mean & TPR\\_sd & YadA\\_mean & YadA\\_sd\\\\\n",
       " <fct> & <dbl> & <dbl> & <dbl> & <dbl> & <dbl> & <dbl> & <dbl> & <dbl> & <dbl> & <dbl> & <dbl> & <dbl> & <dbl> & <dbl> & <dbl> & <dbl> & <dbl> & <dbl>\\\\\n",
       "\\hline\n",
       "\t FL & 2.25 & 1.48 & 0.1 & 0.31 & 4.55 & 5.09 & 1.55 & 1.32 & 1.65 & 5.78 & 1.1 & 2.02 & 0.35 & 1.35 &  9.55 & 1.70 & 0.00 & 0.00\\\\\n",
       "\t HA & 0.14 & 0.61 & 0.1 & 0.51 & 0.32 & 0.62 & 0.20 & 0.53 & 3.68 & 3.76 & 1.5 & 2.15 & 9.32 & 5.69 & 16.30 & 6.56 & 0.02 & 0.14\\\\\n",
       "\\end{tabular}\n"
      ],
      "text/markdown": [
       "\n",
       "A tibble: 2 × 19\n",
       "\n",
       "| clade &lt;fct&gt; | ALP_mean &lt;dbl&gt; | ALP_sd &lt;dbl&gt; | ANK_mean &lt;dbl&gt; | ANK_sd &lt;dbl&gt; | FN3_mean &lt;dbl&gt; | FN3_sd &lt;dbl&gt; | Ig_like_mean &lt;dbl&gt; | Ig_like_sd &lt;dbl&gt; | List_Bact_mean &lt;dbl&gt; | List_Bact_sd &lt;dbl&gt; | LRR_mean &lt;dbl&gt; | LRR_sd &lt;dbl&gt; | Sel1_mean &lt;dbl&gt; | Sel1_sd &lt;dbl&gt; | TPR_mean &lt;dbl&gt; | TPR_sd &lt;dbl&gt; | YadA_mean &lt;dbl&gt; | YadA_sd &lt;dbl&gt; |\n",
       "|---|---|---|---|---|---|---|---|---|---|---|---|---|---|---|---|---|---|---|\n",
       "| FL | 2.25 | 1.48 | 0.1 | 0.31 | 4.55 | 5.09 | 1.55 | 1.32 | 1.65 | 5.78 | 1.1 | 2.02 | 0.35 | 1.35 |  9.55 | 1.70 | 0.00 | 0.00 |\n",
       "| HA | 0.14 | 0.61 | 0.1 | 0.51 | 0.32 | 0.62 | 0.20 | 0.53 | 3.68 | 3.76 | 1.5 | 2.15 | 9.32 | 5.69 | 16.30 | 6.56 | 0.02 | 0.14 |\n",
       "\n"
      ],
      "text/plain": [
       "  clade ALP_mean ALP_sd ANK_mean ANK_sd FN3_mean FN3_sd Ig_like_mean Ig_like_sd\n",
       "1 FL    2.25     1.48   0.1      0.31   4.55     5.09   1.55         1.32      \n",
       "2 HA    0.14     0.61   0.1      0.51   0.32     0.62   0.20         0.53      \n",
       "  List_Bact_mean List_Bact_sd LRR_mean LRR_sd Sel1_mean Sel1_sd TPR_mean TPR_sd\n",
       "1 1.65           5.78         1.1      2.02   0.35      1.35     9.55    1.70  \n",
       "2 3.68           3.76         1.5      2.15   9.32      5.69    16.30    6.56  \n",
       "  YadA_mean YadA_sd\n",
       "1 0.00      0.00   \n",
       "2 0.02      0.14   "
      ]
     },
     "metadata": {},
     "output_type": "display_data"
    }
   ],
   "source": [
    "# By clade\n",
    "ELPs_clade_mean = traits_df %>% \n",
    "    select(clade, ELP_traits) %>% \n",
    "    group_by(clade) %>% \n",
    "    summarise_all(function(x) round(mean(x), 2))\n",
    "\n",
    "ELPs_clade_sd = traits_df %>% \n",
    "    select(clade, ELP_traits) %>% \n",
    "    group_by(clade) %>% \n",
    "    summarise_all(function(x) round(sd(x), 2))\n",
    "                  \n",
    "ELP_summary_df = full_join(ELPs_clade_mean, ELPs_clade_sd, by = \"clade\")\n",
    "                  \n",
    "                  \n",
    "names(ELP_summary_df) = names(ELP_summary_df) %>% \n",
    "                  str_replace_all(\"\\\\.x\", \"_mean\")\n",
    "                  \n",
    "names(ELP_summary_df) = names(ELP_summary_df) %>% \n",
    "                  str_replace_all(\"\\\\.y\", \"_sd\")\n",
    "                  \n",
    "ELP_summary_df %>%\n",
    "    select(sort(names(ELP_summary_df))) %>%\n",
    "    select(clade, everything()) %>%\n",
    "    filter(clade != \"EX\")"
   ]
  },
  {
   "cell_type": "code",
   "execution_count": 48,
   "metadata": {
    "ExecuteTime": {
     "end_time": "2020-08-31T10:29:31.986850Z",
     "start_time": "2020-08-31T10:28:45.439Z"
    }
   },
   "outputs": [
    {
     "data": {
      "text/html": [
       "<table>\n",
       "<caption>A tibble: 2 × 3</caption>\n",
       "<thead>\n",
       "\t<tr><th scope=col>clade</th><th scope=col>Ig_like_mean</th><th scope=col>Ig_like_sd</th></tr>\n",
       "\t<tr><th scope=col>&lt;fct&gt;</th><th scope=col>&lt;dbl&gt;</th><th scope=col>&lt;dbl&gt;</th></tr>\n",
       "</thead>\n",
       "<tbody>\n",
       "\t<tr><td>FL</td><td>1.55</td><td>1.32</td></tr>\n",
       "\t<tr><td>HA</td><td>0.20</td><td>0.53</td></tr>\n",
       "</tbody>\n",
       "</table>\n"
      ],
      "text/latex": [
       "A tibble: 2 × 3\n",
       "\\begin{tabular}{r|lll}\n",
       " clade & Ig\\_like\\_mean & Ig\\_like\\_sd\\\\\n",
       " <fct> & <dbl> & <dbl>\\\\\n",
       "\\hline\n",
       "\t FL & 1.55 & 1.32\\\\\n",
       "\t HA & 0.20 & 0.53\\\\\n",
       "\\end{tabular}\n"
      ],
      "text/markdown": [
       "\n",
       "A tibble: 2 × 3\n",
       "\n",
       "| clade &lt;fct&gt; | Ig_like_mean &lt;dbl&gt; | Ig_like_sd &lt;dbl&gt; |\n",
       "|---|---|---|\n",
       "| FL | 1.55 | 1.32 |\n",
       "| HA | 0.20 | 0.53 |\n",
       "\n"
      ],
      "text/plain": [
       "  clade Ig_like_mean Ig_like_sd\n",
       "1 FL    1.55         1.32      \n",
       "2 HA    0.20         0.53      "
      ]
     },
     "metadata": {},
     "output_type": "display_data"
    }
   ],
   "source": [
    "ELP_summary_df %>%\n",
    "    select(sort(names(ELP_summary_df))) %>%\n",
    "    select(clade, starts_with(\"Ig\")) %>%\n",
    "    filter(clade != \"EX\")"
   ]
  },
  {
   "cell_type": "code",
   "execution_count": 49,
   "metadata": {
    "ExecuteTime": {
     "end_time": "2020-08-31T10:29:32.031203Z",
     "start_time": "2020-08-31T10:28:45.443Z"
    }
   },
   "outputs": [
    {
     "data": {
      "text/html": [
       "<table>\n",
       "<caption>A data.frame: 5 × 6</caption>\n",
       "<thead>\n",
       "\t<tr><th scope=col>Label</th><th scope=col>source_manual</th><th scope=col>List_Bact</th><th scope=col>Sel1</th><th scope=col>TPR</th><th scope=col>LRR</th></tr>\n",
       "\t<tr><th scope=col>&lt;chr&gt;</th><th scope=col>&lt;fct&gt;</th><th scope=col>&lt;dbl&gt;</th><th scope=col>&lt;dbl&gt;</th><th scope=col>&lt;dbl&gt;</th><th scope=col>&lt;dbl&gt;</th></tr>\n",
       "</thead>\n",
       "<tbody>\n",
       "\t<tr><td>Methanomassiliicoccus_luminyensis_B10                    </td><td>Human_feces         </td><td> 2</td><td>1</td><td>11</td><td>5</td></tr>\n",
       "\t<tr><td>Candidatus_Methanomassiliicoccus_intestinalis_Issoire_Mx1</td><td>Human_feces         </td><td>26</td><td>6</td><td>15</td><td>7</td></tr>\n",
       "\t<tr><td>Methanomassiliicoccales_archaeon_RumEn_M1                </td><td>Cow_rumen           </td><td> 2</td><td>0</td><td>11</td><td>0</td></tr>\n",
       "\t<tr><td>Methanomassiliicoccus_sp_UBA386                          </td><td>Fermentation_reactor</td><td> 0</td><td>0</td><td>10</td><td>0</td></tr>\n",
       "\t<tr><td>Methanomassiliicoccus_sp_UBA6                            </td><td>Rice_paddy_fuel_cell</td><td> 0</td><td>0</td><td> 9</td><td>0</td></tr>\n",
       "</tbody>\n",
       "</table>\n"
      ],
      "text/latex": [
       "A data.frame: 5 × 6\n",
       "\\begin{tabular}{r|llllll}\n",
       " Label & source\\_manual & List\\_Bact & Sel1 & TPR & LRR\\\\\n",
       " <chr> & <fct> & <dbl> & <dbl> & <dbl> & <dbl>\\\\\n",
       "\\hline\n",
       "\t Methanomassiliicoccus\\_luminyensis\\_B10                     & Human\\_feces          &  2 & 1 & 11 & 5\\\\\n",
       "\t Candidatus\\_Methanomassiliicoccus\\_intestinalis\\_Issoire\\_Mx1 & Human\\_feces          & 26 & 6 & 15 & 7\\\\\n",
       "\t Methanomassiliicoccales\\_archaeon\\_RumEn\\_M1                 & Cow\\_rumen            &  2 & 0 & 11 & 0\\\\\n",
       "\t Methanomassiliicoccus\\_sp\\_UBA386                           & Fermentation\\_reactor &  0 & 0 & 10 & 0\\\\\n",
       "\t Methanomassiliicoccus\\_sp\\_UBA6                             & Rice\\_paddy\\_fuel\\_cell &  0 & 0 &  9 & 0\\\\\n",
       "\\end{tabular}\n"
      ],
      "text/markdown": [
       "\n",
       "A data.frame: 5 × 6\n",
       "\n",
       "| Label &lt;chr&gt; | source_manual &lt;fct&gt; | List_Bact &lt;dbl&gt; | Sel1 &lt;dbl&gt; | TPR &lt;dbl&gt; | LRR &lt;dbl&gt; |\n",
       "|---|---|---|---|---|---|\n",
       "| Methanomassiliicoccus_luminyensis_B10                     | Human_feces          |  2 | 1 | 11 | 5 |\n",
       "| Candidatus_Methanomassiliicoccus_intestinalis_Issoire_Mx1 | Human_feces          | 26 | 6 | 15 | 7 |\n",
       "| Methanomassiliicoccales_archaeon_RumEn_M1                 | Cow_rumen            |  2 | 0 | 11 | 0 |\n",
       "| Methanomassiliicoccus_sp_UBA386                           | Fermentation_reactor |  0 | 0 | 10 | 0 |\n",
       "| Methanomassiliicoccus_sp_UBA6                             | Rice_paddy_fuel_cell |  0 | 0 |  9 | 0 |\n",
       "\n"
      ],
      "text/plain": [
       "  Label                                                    \n",
       "1 Methanomassiliicoccus_luminyensis_B10                    \n",
       "2 Candidatus_Methanomassiliicoccus_intestinalis_Issoire_Mx1\n",
       "3 Methanomassiliicoccales_archaeon_RumEn_M1                \n",
       "4 Methanomassiliicoccus_sp_UBA386                          \n",
       "5 Methanomassiliicoccus_sp_UBA6                            \n",
       "  source_manual        List_Bact Sel1 TPR LRR\n",
       "1 Human_feces           2        1    11  5  \n",
       "2 Human_feces          26        6    15  7  \n",
       "3 Cow_rumen             2        0    11  0  \n",
       "4 Fermentation_reactor  0        0    10  0  \n",
       "5 Rice_paddy_fuel_cell  0        0     9  0  "
      ]
     },
     "metadata": {},
     "output_type": "display_data"
    }
   ],
   "source": [
    "# Check outlier taxa from FL\n",
    "outliers = c('GCA_001421185', 'GCA_002508545', 'GCA_000404225', 'GCA_000308215', 'GCA_002498285', 'GCA_000800805')\n",
    "\n",
    "ELP_df %>%\n",
    "    filter(Assembly %in% outliers, clade == \"FL\") %>%\n",
    "    select(Label, source_manual, one_of(\"List_Bact\", \"Sel1\", \"TPR\", \"LRR\"))"
   ]
  },
  {
   "cell_type": "markdown",
   "metadata": {},
   "source": [
    "# Phylogenetic ANOVA on all clusters\n",
    "See https://doi.org/10.1007/s00248-019-01324-8\n",
    "\n",
    "Note that I am only performing the comparison between the HA and the FL clades"
   ]
  },
  {
   "cell_type": "markdown",
   "metadata": {},
   "source": [
    "## Filtering clusters by Moran's I"
   ]
  },
  {
   "cell_type": "code",
   "execution_count": 50,
   "metadata": {
    "ExecuteTime": {
     "end_time": "2020-08-31T10:32:13.713081Z",
     "start_time": "2020-08-31T10:28:45.450Z"
    }
   },
   "outputs": [],
   "source": [
    "# Create new object with tree and metadata\n",
    "clusters_I = Annot_clusters %>% \n",
    "    select(MSA, starts_with(\"GCA\"), \"V11_RL001\") %>%\n",
    "    column_to_rownames(\"MSA\") %>%\n",
    "    t %>%\n",
    "    as.data.frame \n",
    "\n",
    "clusters_p4d = phylo4d(x = phylogenomic_tree, clusters_I)\n",
    "\n",
    "# Calculate Moran's I\n",
    "clusters_moran = phyloSignal(clusters_p4d, method = \"I\")\n",
    "clusters_moran = cbind(clusters_moran$stat,\n",
    "                              clusters_moran$pvalue)\n",
    "colnames(clusters_moran) = c(\"Moran_I\", \"p_value\")"
   ]
  },
  {
   "cell_type": "code",
   "execution_count": 51,
   "metadata": {
    "ExecuteTime": {
     "end_time": "2020-08-31T10:32:13.770476Z",
     "start_time": "2020-08-31T10:28:45.454Z"
    }
   },
   "outputs": [],
   "source": [
    "# Adjust p-values for multiple comparisons\n",
    "clusters_moran = clusters_moran %>%\n",
    "    rownames_to_column(\"Variable\") %>%\n",
    "    mutate(p_adjust = p.adjust(p_value, method = \"fdr\"))\n",
    "\n",
    "Moran_filtered_clusters = clusters_moran %>% \n",
    "    filter(p_adjust < 0.1 & !is.nan(Moran_I))\n",
    "\n",
    "retain_moran = Moran_filtered_clusters %>% pull(Variable)"
   ]
  },
  {
   "cell_type": "code",
   "execution_count": 52,
   "metadata": {
    "ExecuteTime": {
     "end_time": "2020-08-31T10:32:13.826285Z",
     "start_time": "2020-08-31T10:28:45.460Z"
    }
   },
   "outputs": [
    {
     "name": "stdout",
     "output_type": "stream",
     "text": [
      "[1] 5078   82\n"
     ]
    },
    {
     "data": {
      "text/html": [
       "<table>\n",
       "<caption>A tibble: 3 × 82</caption>\n",
       "<thead>\n",
       "\t<tr><th scope=col>Gene_ID</th><th scope=col>MSA</th><th scope=col>Gene_Name</th><th scope=col>Annotation</th><th scope=col>Count</th><th scope=col>NOG</th><th scope=col>COG_1</th><th scope=col>eggNOG_annot</th><th scope=col>Interpro_accession</th><th scope=col>Interpro_annot</th><th scope=col>⋯</th><th scope=col>GCA_002508625</th><th scope=col>GCA_002509405</th><th scope=col>GCA_002509415</th><th scope=col>GCA_002509425</th><th scope=col>GCA_002509465</th><th scope=col>GCA_003135935</th><th scope=col>GCA_003153895</th><th scope=col>GCA_900313075</th><th scope=col>GCA_900314325</th><th scope=col>V11_RL001</th></tr>\n",
       "\t<tr><th scope=col>&lt;dbl&gt;</th><th scope=col>&lt;chr&gt;</th><th scope=col>&lt;chr&gt;</th><th scope=col>&lt;chr&gt;</th><th scope=col>&lt;dbl&gt;</th><th scope=col>&lt;chr&gt;</th><th scope=col>&lt;chr&gt;</th><th scope=col>&lt;chr&gt;</th><th scope=col>&lt;chr&gt;</th><th scope=col>&lt;chr&gt;</th><th scope=col>⋯</th><th scope=col>&lt;dbl&gt;</th><th scope=col>&lt;dbl&gt;</th><th scope=col>&lt;dbl&gt;</th><th scope=col>&lt;dbl&gt;</th><th scope=col>&lt;dbl&gt;</th><th scope=col>&lt;dbl&gt;</th><th scope=col>&lt;dbl&gt;</th><th scope=col>&lt;dbl&gt;</th><th scope=col>&lt;dbl&gt;</th><th scope=col>&lt;dbl&gt;</th></tr>\n",
       "</thead>\n",
       "<tbody>\n",
       "\t<tr><td>11</td><td>GC00000071_r1_1</td><td>suhB  </td><td>Fructose-1, 6-bisphosphatase/inositol-1-monophosphatase</td><td>72</td><td>COG0483@NOG</td><td>G</td><td>bifunctional inositol-1 monophosphatase fructose-1,6-bisphosphatase                                                                 </td><td>IPR000760</td><td>Inositol monophosphatase-like                                                 </td><td>⋯</td><td>2</td><td>2</td><td>1</td><td>1</td><td>1</td><td>2</td><td>2</td><td>3</td><td>3</td><td>3</td></tr>\n",
       "\t<tr><td>13</td><td>GC00000038_r1_1</td><td>aspS_2</td><td>Aspartate--tRNA(Asp) ligase                            </td><td>72</td><td>COG0017@NOG</td><td>J</td><td>Aspartyl-tRNA synthetase                                                                                                            </td><td>IPR002312</td><td>Aspartyl/Asparaginyl-tRNA synthetase, class IIb                               </td><td>⋯</td><td>2</td><td>3</td><td>2</td><td>1</td><td>2</td><td>2</td><td>4</td><td>2</td><td>1</td><td>2</td></tr>\n",
       "\t<tr><td>14</td><td>GC00000024_r1_1</td><td>leuC  </td><td>Isopropylmalate/citramalate isomerase large subunit    </td><td>72</td><td>COG0065@NOG</td><td>E</td><td>Catalyzes the isomerization between 2-isopropylmalate and 3-isopropylmalate, via the formation of 2-isopropylmaleate (By similarity)</td><td>IPR001030</td><td>Aconitase/3-isopropylmalate dehydratase large subunit, alpha/beta/alpha domain</td><td>⋯</td><td>3</td><td>3</td><td>3</td><td>2</td><td>2</td><td>3</td><td>3</td><td>1</td><td>2</td><td>2</td></tr>\n",
       "</tbody>\n",
       "</table>\n"
      ],
      "text/latex": [
       "A tibble: 3 × 82\n",
       "\\begin{tabular}{r|llllllllllllllllllllllllllllllllllllllllllllllllllllllllllllllllllllllllllllllllll}\n",
       " Gene\\_ID & MSA & Gene\\_Name & Annotation & Count & NOG & COG\\_1 & eggNOG\\_annot & Interpro\\_accession & Interpro\\_annot & GCA\\_000300255 & GCA\\_000308215 & GCA\\_000404225 & GCA\\_000800805 & GCA\\_001421175 & GCA\\_001421185 & GCA\\_001481295 & GCA\\_002494585 & GCA\\_002494705 & GCA\\_002494805 & GCA\\_002495325 & GCA\\_002495495 & GCA\\_002495585 & GCA\\_002495665 & GCA\\_002496345 & GCA\\_002496385 & GCA\\_002496785 & GCA\\_002496945 & GCA\\_002497075 & GCA\\_002497155 & GCA\\_002497475 & GCA\\_002497995 & GCA\\_002498285 & GCA\\_002498365 & GCA\\_002498425 & GCA\\_002498545 & GCA\\_002498605 & GCA\\_002498765 & GCA\\_002498785 & GCA\\_002498805 & GCA\\_002499085 & GCA\\_002502005 & GCA\\_002502465 & GCA\\_002502545 & GCA\\_002502765 & GCA\\_002502925 & GCA\\_002502965 & GCA\\_002503495 & GCA\\_002503545 & GCA\\_002503645 & GCA\\_002503785 & GCA\\_002503925 & GCA\\_002504405 & GCA\\_002504495 & GCA\\_002504525 & GCA\\_002504645 & GCA\\_002505225 & GCA\\_002505245 & GCA\\_002505275 & GCA\\_002505345 & GCA\\_002506175 & GCA\\_002506325 & GCA\\_002506425 & GCA\\_002506565 & GCA\\_002506865 & GCA\\_002506905 & GCA\\_002506985 & GCA\\_002506995 & GCA\\_002508545 & GCA\\_002508555 & GCA\\_002508585 & GCA\\_002508595 & GCA\\_002508625 & GCA\\_002509405 & GCA\\_002509415 & GCA\\_002509425 & GCA\\_002509465 & GCA\\_003135935 & GCA\\_003153895 & GCA\\_900313075 & GCA\\_900314325 & V11\\_RL001\\\\\n",
       " <dbl> & <chr> & <chr> & <chr> & <dbl> & <chr> & <chr> & <chr> & <chr> & <chr> & <dbl> & <dbl> & <dbl> & <dbl> & <dbl> & <dbl> & <dbl> & <dbl> & <dbl> & <dbl> & <dbl> & <dbl> & <dbl> & <dbl> & <dbl> & <dbl> & <dbl> & <dbl> & <dbl> & <dbl> & <dbl> & <dbl> & <dbl> & <dbl> & <dbl> & <dbl> & <dbl> & <dbl> & <dbl> & <dbl> & <dbl> & <dbl> & <dbl> & <dbl> & <dbl> & <dbl> & <dbl> & <dbl> & <dbl> & <dbl> & <dbl> & <dbl> & <dbl> & <dbl> & <dbl> & <dbl> & <dbl> & <dbl> & <dbl> & <dbl> & <dbl> & <dbl> & <dbl> & <dbl> & <dbl> & <dbl> & <dbl> & <dbl> & <dbl> & <dbl> & <dbl> & <dbl> & <dbl> & <dbl> & <dbl> & <dbl> & <dbl> & <dbl> & <dbl> & <dbl> & <dbl> & <dbl>\\\\\n",
       "\\hline\n",
       "\t 11 & GC00000071\\_r1\\_1 & suhB   & Fructose-1, 6-bisphosphatase/inositol-1-monophosphatase & 72 & COG0483@NOG & G & bifunctional inositol-1 monophosphatase fructose-1,6-bisphosphatase                                                                  & IPR000760 & Inositol monophosphatase-like                                                  & 3 & 2 & 1 & 1 & 1 & 2 & 2 & 2 & 2 & 3 & 2 & 2 & 2 & 2 & 2 & 2 & 1 & 2 & 2 & 1 & 2 & 2 & 2 & 2 & 2 & 3 & 2 & 1 & 1 & 2 & 2 & 2 & 2 & 1 & 2 & 1 & 1 & 2 & 3 & 2 & 1 & 3 & 3 & 2 & 2 & 2 & 2 & 1 & 1 & 2 & 2 & 1 & 3 & 2 & 1 & 2 & 1 & 2 & 2 & 2 & 2 & 3 & 2 & 2 & 1 & 1 & 1 & 2 & 2 & 3 & 3 & 3\\\\\n",
       "\t 13 & GC00000038\\_r1\\_1 & aspS\\_2 & Aspartate--tRNA(Asp) ligase                             & 72 & COG0017@NOG & J & Aspartyl-tRNA synthetase                                                                                                             & IPR002312 & Aspartyl/Asparaginyl-tRNA synthetase, class IIb                                & 2 & 3 & 2 & 2 & 2 & 3 & 2 & 1 & 3 & 2 & 2 & 2 & 3 & 2 & 3 & 2 & 1 & 2 & 4 & 2 & 2 & 3 & 3 & 2 & 2 & 2 & 2 & 2 & 2 & 2 & 2 & 3 & 2 & 2 & 2 & 2 & 2 & 2 & 2 & 3 & 2 & 2 & 2 & 2 & 3 & 2 & 3 & 2 & 2 & 2 & 2 & 2 & 2 & 2 & 2 & 2 & 3 & 2 & 3 & 3 & 3 & 2 & 2 & 3 & 2 & 1 & 2 & 2 & 4 & 2 & 1 & 2\\\\\n",
       "\t 14 & GC00000024\\_r1\\_1 & leuC   & Isopropylmalate/citramalate isomerase large subunit     & 72 & COG0065@NOG & E & Catalyzes the isomerization between 2-isopropylmalate and 3-isopropylmalate, via the formation of 2-isopropylmaleate (By similarity) & IPR001030 & Aconitase/3-isopropylmalate dehydratase large subunit, alpha/beta/alpha domain & 2 & 3 & 2 & 2 & 3 & 4 & 3 & 3 & 3 & 2 & 2 & 4 & 3 & 3 & 3 & 2 & 3 & 2 & 3 & 3 & 2 & 3 & 3 & 3 & 3 & 2 & 2 & 2 & 3 & 3 & 2 & 3 & 3 & 3 & 2 & 3 & 3 & 3 & 1 & 2 & 3 & 2 & 2 & 2 & 3 & 2 & 3 & 3 & 3 & 3 & 1 & 3 & 2 & 3 & 1 & 2 & 3 & 3 & 3 & 3 & 3 & 2 & 3 & 3 & 3 & 2 & 2 & 3 & 3 & 1 & 2 & 2\\\\\n",
       "\\end{tabular}\n"
      ],
      "text/markdown": [
       "\n",
       "A tibble: 3 × 82\n",
       "\n",
       "| Gene_ID &lt;dbl&gt; | MSA &lt;chr&gt; | Gene_Name &lt;chr&gt; | Annotation &lt;chr&gt; | Count &lt;dbl&gt; | NOG &lt;chr&gt; | COG_1 &lt;chr&gt; | eggNOG_annot &lt;chr&gt; | Interpro_accession &lt;chr&gt; | Interpro_annot &lt;chr&gt; | ⋯ ⋯ | GCA_002508625 &lt;dbl&gt; | GCA_002509405 &lt;dbl&gt; | GCA_002509415 &lt;dbl&gt; | GCA_002509425 &lt;dbl&gt; | GCA_002509465 &lt;dbl&gt; | GCA_003135935 &lt;dbl&gt; | GCA_003153895 &lt;dbl&gt; | GCA_900313075 &lt;dbl&gt; | GCA_900314325 &lt;dbl&gt; | V11_RL001 &lt;dbl&gt; |\n",
       "|---|---|---|---|---|---|---|---|---|---|---|---|---|---|---|---|---|---|---|---|---|\n",
       "| 11 | GC00000071_r1_1 | suhB   | Fructose-1, 6-bisphosphatase/inositol-1-monophosphatase | 72 | COG0483@NOG | G | bifunctional inositol-1 monophosphatase fructose-1,6-bisphosphatase                                                                  | IPR000760 | Inositol monophosphatase-like                                                  | ⋯ | 2 | 2 | 1 | 1 | 1 | 2 | 2 | 3 | 3 | 3 |\n",
       "| 13 | GC00000038_r1_1 | aspS_2 | Aspartate--tRNA(Asp) ligase                             | 72 | COG0017@NOG | J | Aspartyl-tRNA synthetase                                                                                                             | IPR002312 | Aspartyl/Asparaginyl-tRNA synthetase, class IIb                                | ⋯ | 2 | 3 | 2 | 1 | 2 | 2 | 4 | 2 | 1 | 2 |\n",
       "| 14 | GC00000024_r1_1 | leuC   | Isopropylmalate/citramalate isomerase large subunit     | 72 | COG0065@NOG | E | Catalyzes the isomerization between 2-isopropylmalate and 3-isopropylmalate, via the formation of 2-isopropylmaleate (By similarity) | IPR001030 | Aconitase/3-isopropylmalate dehydratase large subunit, alpha/beta/alpha domain | ⋯ | 3 | 3 | 3 | 2 | 2 | 3 | 3 | 1 | 2 | 2 |\n",
       "\n"
      ],
      "text/plain": [
       "  Gene_ID MSA             Gene_Name\n",
       "1 11      GC00000071_r1_1 suhB     \n",
       "2 13      GC00000038_r1_1 aspS_2   \n",
       "3 14      GC00000024_r1_1 leuC     \n",
       "  Annotation                                              Count NOG        \n",
       "1 Fructose-1, 6-bisphosphatase/inositol-1-monophosphatase 72    COG0483@NOG\n",
       "2 Aspartate--tRNA(Asp) ligase                             72    COG0017@NOG\n",
       "3 Isopropylmalate/citramalate isomerase large subunit     72    COG0065@NOG\n",
       "  COG_1\n",
       "1 G    \n",
       "2 J    \n",
       "3 E    \n",
       "  eggNOG_annot                                                                                                                        \n",
       "1 bifunctional inositol-1 monophosphatase fructose-1,6-bisphosphatase                                                                 \n",
       "2 Aspartyl-tRNA synthetase                                                                                                            \n",
       "3 Catalyzes the isomerization between 2-isopropylmalate and 3-isopropylmalate, via the formation of 2-isopropylmaleate (By similarity)\n",
       "  Interpro_accession\n",
       "1 IPR000760         \n",
       "2 IPR002312         \n",
       "3 IPR001030         \n",
       "  Interpro_annot                                                                \n",
       "1 Inositol monophosphatase-like                                                 \n",
       "2 Aspartyl/Asparaginyl-tRNA synthetase, class IIb                               \n",
       "3 Aconitase/3-isopropylmalate dehydratase large subunit, alpha/beta/alpha domain\n",
       "  ⋯ GCA_002508625 GCA_002509405 GCA_002509415 GCA_002509425 GCA_002509465\n",
       "1 ⋯ 2             2             1             1             1            \n",
       "2 ⋯ 2             3             2             1             2            \n",
       "3 ⋯ 3             3             3             2             2            \n",
       "  GCA_003135935 GCA_003153895 GCA_900313075 GCA_900314325 V11_RL001\n",
       "1 2             2             3             3             3        \n",
       "2 2             4             2             1             2        \n",
       "3 3             3             1             2             2        "
      ]
     },
     "metadata": {},
     "output_type": "display_data"
    }
   ],
   "source": [
    "filt_clusters_Moran = Annot_clusters %>% \n",
    "    filter(MSA %in% retain_moran)\n",
    "filt_clusters_Moran %>% dfhead"
   ]
  },
  {
   "cell_type": "markdown",
   "metadata": {
    "ExecuteTime": {
     "end_time": "2019-08-20T09:12:26.042727Z",
     "start_time": "2019-08-20T09:12:26.015Z"
    }
   },
   "source": [
    "## Filtering clusters by Near Zero Variance"
   ]
  },
  {
   "cell_type": "code",
   "execution_count": 53,
   "metadata": {
    "ExecuteTime": {
     "end_time": "2020-08-31T10:32:19.075036Z",
     "start_time": "2020-08-31T10:28:45.466Z"
    }
   },
   "outputs": [
    {
     "name": "stdout",
     "output_type": "stream",
     "text": [
      "[1] 13695     5\n"
     ]
    },
    {
     "data": {
      "text/html": [
       "<table>\n",
       "<caption>A data.frame: 3 × 5</caption>\n",
       "<thead>\n",
       "\t<tr><th scope=col>MSA</th><th scope=col>freqRatio</th><th scope=col>percentUnique</th><th scope=col>zeroVar</th><th scope=col>nzv</th></tr>\n",
       "\t<tr><th scope=col>&lt;chr&gt;</th><th scope=col>&lt;dbl&gt;</th><th scope=col>&lt;dbl&gt;</th><th scope=col>&lt;lgl&gt;</th><th scope=col>&lt;lgl&gt;</th></tr>\n",
       "</thead>\n",
       "<tbody>\n",
       "\t<tr><td>GC00000267</td><td>0</td><td>1.388889</td><td>TRUE</td><td>TRUE</td></tr>\n",
       "\t<tr><td>GC00000268</td><td>0</td><td>1.388889</td><td>TRUE</td><td>TRUE</td></tr>\n",
       "\t<tr><td>GC00000291</td><td>0</td><td>1.388889</td><td>TRUE</td><td>TRUE</td></tr>\n",
       "</tbody>\n",
       "</table>\n"
      ],
      "text/latex": [
       "A data.frame: 3 × 5\n",
       "\\begin{tabular}{r|lllll}\n",
       " MSA & freqRatio & percentUnique & zeroVar & nzv\\\\\n",
       " <chr> & <dbl> & <dbl> & <lgl> & <lgl>\\\\\n",
       "\\hline\n",
       "\t GC00000267 & 0 & 1.388889 & TRUE & TRUE\\\\\n",
       "\t GC00000268 & 0 & 1.388889 & TRUE & TRUE\\\\\n",
       "\t GC00000291 & 0 & 1.388889 & TRUE & TRUE\\\\\n",
       "\\end{tabular}\n"
      ],
      "text/markdown": [
       "\n",
       "A data.frame: 3 × 5\n",
       "\n",
       "| MSA &lt;chr&gt; | freqRatio &lt;dbl&gt; | percentUnique &lt;dbl&gt; | zeroVar &lt;lgl&gt; | nzv &lt;lgl&gt; |\n",
       "|---|---|---|---|---|\n",
       "| GC00000267 | 0 | 1.388889 | TRUE | TRUE |\n",
       "| GC00000268 | 0 | 1.388889 | TRUE | TRUE |\n",
       "| GC00000291 | 0 | 1.388889 | TRUE | TRUE |\n",
       "\n"
      ],
      "text/plain": [
       "  MSA        freqRatio percentUnique zeroVar nzv \n",
       "1 GC00000267 0         1.388889      TRUE    TRUE\n",
       "2 GC00000268 0         1.388889      TRUE    TRUE\n",
       "3 GC00000291 0         1.388889      TRUE    TRUE"
      ]
     },
     "metadata": {},
     "output_type": "display_data"
    }
   ],
   "source": [
    "# Filter table by features with near zero variance\n",
    "nzv_table = Annot_clusters %>%\n",
    "    column_to_rownames(\"MSA\") %>%\n",
    "    select(starts_with(\"GCA\"), \"V11_RL001\") %>%\n",
    "    t %>%\n",
    "    as.data.frame %>%\n",
    "    nearZeroVar(., saveMetrics = T) %>% \n",
    "    rownames_to_column(\"MSA\")\n",
    "nzv_table %>% dfhead"
   ]
  },
  {
   "cell_type": "code",
   "execution_count": 54,
   "metadata": {
    "ExecuteTime": {
     "end_time": "2020-08-31T10:32:19.132263Z",
     "start_time": "2020-08-31T10:28:45.471Z"
    }
   },
   "outputs": [
    {
     "name": "stdout",
     "output_type": "stream",
     "text": [
      "[1] 2935   82\n"
     ]
    },
    {
     "data": {
      "text/html": [
       "<table>\n",
       "<caption>A tibble: 3 × 82</caption>\n",
       "<thead>\n",
       "\t<tr><th scope=col>Gene_ID</th><th scope=col>MSA</th><th scope=col>Gene_Name</th><th scope=col>Annotation</th><th scope=col>Count</th><th scope=col>NOG</th><th scope=col>COG_1</th><th scope=col>eggNOG_annot</th><th scope=col>Interpro_accession</th><th scope=col>Interpro_annot</th><th scope=col>⋯</th><th scope=col>GCA_002508625</th><th scope=col>GCA_002509405</th><th scope=col>GCA_002509415</th><th scope=col>GCA_002509425</th><th scope=col>GCA_002509465</th><th scope=col>GCA_003135935</th><th scope=col>GCA_003153895</th><th scope=col>GCA_900313075</th><th scope=col>GCA_900314325</th><th scope=col>V11_RL001</th></tr>\n",
       "\t<tr><th scope=col>&lt;dbl&gt;</th><th scope=col>&lt;chr&gt;</th><th scope=col>&lt;chr&gt;</th><th scope=col>&lt;chr&gt;</th><th scope=col>&lt;dbl&gt;</th><th scope=col>&lt;chr&gt;</th><th scope=col>&lt;chr&gt;</th><th scope=col>&lt;chr&gt;</th><th scope=col>&lt;chr&gt;</th><th scope=col>&lt;chr&gt;</th><th scope=col>⋯</th><th scope=col>&lt;dbl&gt;</th><th scope=col>&lt;dbl&gt;</th><th scope=col>&lt;dbl&gt;</th><th scope=col>&lt;dbl&gt;</th><th scope=col>&lt;dbl&gt;</th><th scope=col>&lt;dbl&gt;</th><th scope=col>&lt;dbl&gt;</th><th scope=col>&lt;dbl&gt;</th><th scope=col>&lt;dbl&gt;</th><th scope=col>&lt;dbl&gt;</th></tr>\n",
       "</thead>\n",
       "<tbody>\n",
       "\t<tr><td>11</td><td>GC00000071_r1_1      </td><td>suhB  </td><td>Fructose-1, 6-bisphosphatase/inositol-1-monophosphatase</td><td>72</td><td>COG0483@NOG</td><td>G</td><td>bifunctional inositol-1 monophosphatase fructose-1,6-bisphosphatase</td><td>IPR000760</td><td>Inositol monophosphatase-like                  </td><td>⋯</td><td>2</td><td>2</td><td>1</td><td>1</td><td>1</td><td>2</td><td>2</td><td>3</td><td>3</td><td>3</td></tr>\n",
       "\t<tr><td>12</td><td>GC00000018_r1_r1_1_p2</td><td>vat_1 </td><td>VCP-like ATPase                                        </td><td>72</td><td>COG0464@NOG</td><td>O</td><td>AAA family ATPase, CDC48 subfamily                                 </td><td>IPR003338</td><td>CDC48, N-terminal subdomain                    </td><td>⋯</td><td>2</td><td>2</td><td>1</td><td>2</td><td>2</td><td>2</td><td>2</td><td>2</td><td>2</td><td>2</td></tr>\n",
       "\t<tr><td>13</td><td>GC00000038_r1_1      </td><td>aspS_2</td><td>Aspartate--tRNA(Asp) ligase                            </td><td>72</td><td>COG0017@NOG</td><td>J</td><td>Aspartyl-tRNA synthetase                                           </td><td>IPR002312</td><td>Aspartyl/Asparaginyl-tRNA synthetase, class IIb</td><td>⋯</td><td>2</td><td>3</td><td>2</td><td>1</td><td>2</td><td>2</td><td>4</td><td>2</td><td>1</td><td>2</td></tr>\n",
       "</tbody>\n",
       "</table>\n"
      ],
      "text/latex": [
       "A tibble: 3 × 82\n",
       "\\begin{tabular}{r|llllllllllllllllllllllllllllllllllllllllllllllllllllllllllllllllllllllllllllllllll}\n",
       " Gene\\_ID & MSA & Gene\\_Name & Annotation & Count & NOG & COG\\_1 & eggNOG\\_annot & Interpro\\_accession & Interpro\\_annot & GCA\\_000300255 & GCA\\_000308215 & GCA\\_000404225 & GCA\\_000800805 & GCA\\_001421175 & GCA\\_001421185 & GCA\\_001481295 & GCA\\_002494585 & GCA\\_002494705 & GCA\\_002494805 & GCA\\_002495325 & GCA\\_002495495 & GCA\\_002495585 & GCA\\_002495665 & GCA\\_002496345 & GCA\\_002496385 & GCA\\_002496785 & GCA\\_002496945 & GCA\\_002497075 & GCA\\_002497155 & GCA\\_002497475 & GCA\\_002497995 & GCA\\_002498285 & GCA\\_002498365 & GCA\\_002498425 & GCA\\_002498545 & GCA\\_002498605 & GCA\\_002498765 & GCA\\_002498785 & GCA\\_002498805 & GCA\\_002499085 & GCA\\_002502005 & GCA\\_002502465 & GCA\\_002502545 & GCA\\_002502765 & GCA\\_002502925 & GCA\\_002502965 & GCA\\_002503495 & GCA\\_002503545 & GCA\\_002503645 & GCA\\_002503785 & GCA\\_002503925 & GCA\\_002504405 & GCA\\_002504495 & GCA\\_002504525 & GCA\\_002504645 & GCA\\_002505225 & GCA\\_002505245 & GCA\\_002505275 & GCA\\_002505345 & GCA\\_002506175 & GCA\\_002506325 & GCA\\_002506425 & GCA\\_002506565 & GCA\\_002506865 & GCA\\_002506905 & GCA\\_002506985 & GCA\\_002506995 & GCA\\_002508545 & GCA\\_002508555 & GCA\\_002508585 & GCA\\_002508595 & GCA\\_002508625 & GCA\\_002509405 & GCA\\_002509415 & GCA\\_002509425 & GCA\\_002509465 & GCA\\_003135935 & GCA\\_003153895 & GCA\\_900313075 & GCA\\_900314325 & V11\\_RL001\\\\\n",
       " <dbl> & <chr> & <chr> & <chr> & <dbl> & <chr> & <chr> & <chr> & <chr> & <chr> & <dbl> & <dbl> & <dbl> & <dbl> & <dbl> & <dbl> & <dbl> & <dbl> & <dbl> & <dbl> & <dbl> & <dbl> & <dbl> & <dbl> & <dbl> & <dbl> & <dbl> & <dbl> & <dbl> & <dbl> & <dbl> & <dbl> & <dbl> & <dbl> & <dbl> & <dbl> & <dbl> & <dbl> & <dbl> & <dbl> & <dbl> & <dbl> & <dbl> & <dbl> & <dbl> & <dbl> & <dbl> & <dbl> & <dbl> & <dbl> & <dbl> & <dbl> & <dbl> & <dbl> & <dbl> & <dbl> & <dbl> & <dbl> & <dbl> & <dbl> & <dbl> & <dbl> & <dbl> & <dbl> & <dbl> & <dbl> & <dbl> & <dbl> & <dbl> & <dbl> & <dbl> & <dbl> & <dbl> & <dbl> & <dbl> & <dbl> & <dbl> & <dbl> & <dbl> & <dbl> & <dbl> & <dbl>\\\\\n",
       "\\hline\n",
       "\t 11 & GC00000071\\_r1\\_1       & suhB   & Fructose-1, 6-bisphosphatase/inositol-1-monophosphatase & 72 & COG0483@NOG & G & bifunctional inositol-1 monophosphatase fructose-1,6-bisphosphatase & IPR000760 & Inositol monophosphatase-like                   & 3 & 2 & 1 & 1 & 1 & 2 & 2 & 2 & 2 & 3 & 2 & 2 & 2 & 2 & 2 & 2 & 1 & 2 & 2 & 1 & 2 & 2 & 2 & 2 & 2 & 3 & 2 & 1 & 1 & 2 & 2 & 2 & 2 & 1 & 2 & 1 & 1 & 2 & 3 & 2 & 1 & 3 & 3 & 2 & 2 & 2 & 2 & 1 & 1 & 2 & 2 & 1 & 3 & 2 & 1 & 2 & 1 & 2 & 2 & 2 & 2 & 3 & 2 & 2 & 1 & 1 & 1 & 2 & 2 & 3 & 3 & 3\\\\\n",
       "\t 12 & GC00000018\\_r1\\_r1\\_1\\_p2 & vat\\_1  & VCP-like ATPase                                         & 72 & COG0464@NOG & O & AAA family ATPase, CDC48 subfamily                                  & IPR003338 & CDC48, N-terminal subdomain                     & 3 & 3 & 2 & 2 & 2 & 2 & 5 & 2 & 2 & 2 & 2 & 2 & 2 & 2 & 2 & 1 & 1 & 2 & 2 & 2 & 2 & 2 & 2 & 2 & 2 & 2 & 1 & 2 & 2 & 2 & 1 & 1 & 3 & 2 & 2 & 2 & 2 & 1 & 3 & 2 & 2 & 2 & 2 & 2 & 2 & 1 & 2 & 2 & 2 & 2 & 2 & 2 & 2 & 2 & 1 & 2 & 2 & 2 & 2 & 2 & 2 & 2 & 2 & 2 & 1 & 2 & 2 & 2 & 2 & 2 & 2 & 2\\\\\n",
       "\t 13 & GC00000038\\_r1\\_1       & aspS\\_2 & Aspartate--tRNA(Asp) ligase                             & 72 & COG0017@NOG & J & Aspartyl-tRNA synthetase                                            & IPR002312 & Aspartyl/Asparaginyl-tRNA synthetase, class IIb & 2 & 3 & 2 & 2 & 2 & 3 & 2 & 1 & 3 & 2 & 2 & 2 & 3 & 2 & 3 & 2 & 1 & 2 & 4 & 2 & 2 & 3 & 3 & 2 & 2 & 2 & 2 & 2 & 2 & 2 & 2 & 3 & 2 & 2 & 2 & 2 & 2 & 2 & 2 & 3 & 2 & 2 & 2 & 2 & 3 & 2 & 3 & 2 & 2 & 2 & 2 & 2 & 2 & 2 & 2 & 2 & 3 & 2 & 3 & 3 & 3 & 2 & 2 & 3 & 2 & 1 & 2 & 2 & 4 & 2 & 1 & 2\\\\\n",
       "\\end{tabular}\n"
      ],
      "text/markdown": [
       "\n",
       "A tibble: 3 × 82\n",
       "\n",
       "| Gene_ID &lt;dbl&gt; | MSA &lt;chr&gt; | Gene_Name &lt;chr&gt; | Annotation &lt;chr&gt; | Count &lt;dbl&gt; | NOG &lt;chr&gt; | COG_1 &lt;chr&gt; | eggNOG_annot &lt;chr&gt; | Interpro_accession &lt;chr&gt; | Interpro_annot &lt;chr&gt; | ⋯ ⋯ | GCA_002508625 &lt;dbl&gt; | GCA_002509405 &lt;dbl&gt; | GCA_002509415 &lt;dbl&gt; | GCA_002509425 &lt;dbl&gt; | GCA_002509465 &lt;dbl&gt; | GCA_003135935 &lt;dbl&gt; | GCA_003153895 &lt;dbl&gt; | GCA_900313075 &lt;dbl&gt; | GCA_900314325 &lt;dbl&gt; | V11_RL001 &lt;dbl&gt; |\n",
       "|---|---|---|---|---|---|---|---|---|---|---|---|---|---|---|---|---|---|---|---|---|\n",
       "| 11 | GC00000071_r1_1       | suhB   | Fructose-1, 6-bisphosphatase/inositol-1-monophosphatase | 72 | COG0483@NOG | G | bifunctional inositol-1 monophosphatase fructose-1,6-bisphosphatase | IPR000760 | Inositol monophosphatase-like                   | ⋯ | 2 | 2 | 1 | 1 | 1 | 2 | 2 | 3 | 3 | 3 |\n",
       "| 12 | GC00000018_r1_r1_1_p2 | vat_1  | VCP-like ATPase                                         | 72 | COG0464@NOG | O | AAA family ATPase, CDC48 subfamily                                  | IPR003338 | CDC48, N-terminal subdomain                     | ⋯ | 2 | 2 | 1 | 2 | 2 | 2 | 2 | 2 | 2 | 2 |\n",
       "| 13 | GC00000038_r1_1       | aspS_2 | Aspartate--tRNA(Asp) ligase                             | 72 | COG0017@NOG | J | Aspartyl-tRNA synthetase                                            | IPR002312 | Aspartyl/Asparaginyl-tRNA synthetase, class IIb | ⋯ | 2 | 3 | 2 | 1 | 2 | 2 | 4 | 2 | 1 | 2 |\n",
       "\n"
      ],
      "text/plain": [
       "  Gene_ID MSA                   Gene_Name\n",
       "1 11      GC00000071_r1_1       suhB     \n",
       "2 12      GC00000018_r1_r1_1_p2 vat_1    \n",
       "3 13      GC00000038_r1_1       aspS_2   \n",
       "  Annotation                                              Count NOG        \n",
       "1 Fructose-1, 6-bisphosphatase/inositol-1-monophosphatase 72    COG0483@NOG\n",
       "2 VCP-like ATPase                                         72    COG0464@NOG\n",
       "3 Aspartate--tRNA(Asp) ligase                             72    COG0017@NOG\n",
       "  COG_1 eggNOG_annot                                                       \n",
       "1 G     bifunctional inositol-1 monophosphatase fructose-1,6-bisphosphatase\n",
       "2 O     AAA family ATPase, CDC48 subfamily                                 \n",
       "3 J     Aspartyl-tRNA synthetase                                           \n",
       "  Interpro_accession Interpro_annot                                  ⋯\n",
       "1 IPR000760          Inositol monophosphatase-like                   ⋯\n",
       "2 IPR003338          CDC48, N-terminal subdomain                     ⋯\n",
       "3 IPR002312          Aspartyl/Asparaginyl-tRNA synthetase, class IIb ⋯\n",
       "  GCA_002508625 GCA_002509405 GCA_002509415 GCA_002509425 GCA_002509465\n",
       "1 2             2             1             1             1            \n",
       "2 2             2             1             2             2            \n",
       "3 2             3             2             1             2            \n",
       "  GCA_003135935 GCA_003153895 GCA_900313075 GCA_900314325 V11_RL001\n",
       "1 2             2             3             3             3        \n",
       "2 2             2             2             2             2        \n",
       "3 2             4             2             1             2        "
      ]
     },
     "metadata": {},
     "output_type": "display_data"
    }
   ],
   "source": [
    "retain_nzv = nzv_table %>% \n",
    "    filter(zeroVar == FALSE & nzv == FALSE) %>% \n",
    "    pull(MSA)\n",
    "filt_clusters_nzv = Annot_clusters %>% \n",
    "    filter(MSA %in% retain_nzv)\n",
    "filt_clusters_nzv %>% dfhead"
   ]
  },
  {
   "cell_type": "markdown",
   "metadata": {},
   "source": [
    "## Combine both filterings"
   ]
  },
  {
   "cell_type": "code",
   "execution_count": 55,
   "metadata": {
    "ExecuteTime": {
     "end_time": "2020-08-31T10:32:19.166188Z",
     "start_time": "2020-08-31T10:28:45.476Z"
    }
   },
   "outputs": [
    {
     "data": {
      "text/html": [
       "<table>\n",
       "<caption>A data.frame: 4 × 2</caption>\n",
       "<thead>\n",
       "\t<tr><th scope=col>Category</th><th scope=col>n</th></tr>\n",
       "\t<tr><th scope=col>&lt;fct&gt;</th><th scope=col>&lt;int&gt;</th></tr>\n",
       "</thead>\n",
       "<tbody>\n",
       "\t<tr><td>NZV         </td><td>2935</td></tr>\n",
       "\t<tr><td>Moran       </td><td>5078</td></tr>\n",
       "\t<tr><td>Union       </td><td>5637</td></tr>\n",
       "\t<tr><td>Intersection</td><td>2376</td></tr>\n",
       "</tbody>\n",
       "</table>\n"
      ],
      "text/latex": [
       "A data.frame: 4 × 2\n",
       "\\begin{tabular}{r|ll}\n",
       " Category & n\\\\\n",
       " <fct> & <int>\\\\\n",
       "\\hline\n",
       "\t NZV          & 2935\\\\\n",
       "\t Moran        & 5078\\\\\n",
       "\t Union        & 5637\\\\\n",
       "\t Intersection & 2376\\\\\n",
       "\\end{tabular}\n"
      ],
      "text/markdown": [
       "\n",
       "A data.frame: 4 × 2\n",
       "\n",
       "| Category &lt;fct&gt; | n &lt;int&gt; |\n",
       "|---|---|\n",
       "| NZV          | 2935 |\n",
       "| Moran        | 5078 |\n",
       "| Union        | 5637 |\n",
       "| Intersection | 2376 |\n",
       "\n"
      ],
      "text/plain": [
       "  Category     n   \n",
       "1 NZV          2935\n",
       "2 Moran        5078\n",
       "3 Union        5637\n",
       "4 Intersection 2376"
      ]
     },
     "metadata": {},
     "output_type": "display_data"
    }
   ],
   "source": [
    "# Number of clusters after filtering\n",
    "n_filtered_clusters = c(length(retain_nzv), \n",
    "                        length(retain_moran), \n",
    "                        length(union(retain_nzv, retain_moran)), \n",
    "                        length(intersect(retain_nzv, retain_moran)))\n",
    "filt_category = c(\"NZV\", \"Moran\", \"Union\", \"Intersection\")\n",
    "\n",
    "data.frame(Category = filt_category, n = n_filtered_clusters)\n",
    "\n",
    "retain_clust = union(retain_nzv, retain_moran)"
   ]
  },
  {
   "cell_type": "code",
   "execution_count": 56,
   "metadata": {
    "ExecuteTime": {
     "end_time": "2020-08-31T10:32:21.564175Z",
     "start_time": "2020-08-31T10:28:45.483Z"
    }
   },
   "outputs": [
    {
     "name": "stdout",
     "output_type": "stream",
     "text": [
      "[1]   72 5639\n"
     ]
    },
    {
     "data": {
      "text/html": [
       "<table>\n",
       "<caption>A data.frame: 3 × 5639</caption>\n",
       "<thead>\n",
       "\t<tr><th scope=col>Assembly</th><th scope=col>GC00000071_r1_1</th><th scope=col>GC00000018_r1_r1_1_p2</th><th scope=col>GC00000038_r1_1</th><th scope=col>GC00000024_r1_1</th><th scope=col>GC00000017_r1_1</th><th scope=col>GC00000014_r1_r1_r1_1</th><th scope=col>GC00000012_r1_r1_r1_1</th><th scope=col>GC00000001_50</th><th scope=col>GC00000228</th><th scope=col>⋯</th><th scope=col>GC00002853_r1_1</th><th scope=col>GC00004000</th><th scope=col>GC00003094_r1_1</th><th scope=col>GC00002945_r1_1</th><th scope=col>GC00001642_2</th><th scope=col>GC00003085</th><th scope=col>GC00003292</th><th scope=col>GC00000677_r1_1</th><th scope=col>GC00002225_r1_1</th><th scope=col>clade</th></tr>\n",
       "\t<tr><th scope=col>&lt;chr&gt;</th><th scope=col>&lt;dbl&gt;</th><th scope=col>&lt;dbl&gt;</th><th scope=col>&lt;dbl&gt;</th><th scope=col>&lt;dbl&gt;</th><th scope=col>&lt;dbl&gt;</th><th scope=col>&lt;dbl&gt;</th><th scope=col>&lt;dbl&gt;</th><th scope=col>&lt;dbl&gt;</th><th scope=col>&lt;dbl&gt;</th><th scope=col>⋯</th><th scope=col>&lt;dbl&gt;</th><th scope=col>&lt;dbl&gt;</th><th scope=col>&lt;dbl&gt;</th><th scope=col>&lt;dbl&gt;</th><th scope=col>&lt;dbl&gt;</th><th scope=col>&lt;dbl&gt;</th><th scope=col>&lt;dbl&gt;</th><th scope=col>&lt;dbl&gt;</th><th scope=col>&lt;dbl&gt;</th><th scope=col>&lt;chr&gt;</th></tr>\n",
       "</thead>\n",
       "<tbody>\n",
       "\t<tr><td>GCA_000300255</td><td>3</td><td>3</td><td>2</td><td>2</td><td>3</td><td>2</td><td>4</td><td>25</td><td>1</td><td>⋯</td><td>0</td><td>0</td><td>0</td><td>0</td><td>0</td><td>0</td><td>0</td><td>0</td><td>0</td><td>HA</td></tr>\n",
       "\t<tr><td>GCA_000308215</td><td>2</td><td>3</td><td>3</td><td>3</td><td>3</td><td>6</td><td>4</td><td>60</td><td>1</td><td>⋯</td><td>0</td><td>0</td><td>0</td><td>0</td><td>0</td><td>0</td><td>0</td><td>0</td><td>0</td><td>FL</td></tr>\n",
       "\t<tr><td>GCA_000404225</td><td>1</td><td>2</td><td>2</td><td>2</td><td>3</td><td>3</td><td>1</td><td>32</td><td>1</td><td>⋯</td><td>0</td><td>0</td><td>2</td><td>0</td><td>0</td><td>3</td><td>0</td><td>0</td><td>0</td><td>FL</td></tr>\n",
       "</tbody>\n",
       "</table>\n"
      ],
      "text/latex": [
       "A data.frame: 3 × 5639\n",
       "\\begin{tabular}{r|lllllllllllllllllllllllllllllllllllllllllllllllllllllllllllllllllllllllllllllllllllllllllllllllllllllllllllllllllllllllllllllllllllllllllllllllllllllllllllllllllllllllllllllllllllllllllllllllllllllllllllllllllllllllllllllllllllllllllllllllllllllllllllllllllllllllllllllllllllllllllllllllllllllllllllllllllllllllllllllllllllllllllllllllllllllllllllllllllllllllllllllllllllllllllllllllllllllllllllllllllllllllllllllllllllllllllllllllllllllllllllllllllllllllllllllllllllllllllllllllllllllllllllllllllllllllllllllllllllllllllllllllllllllllllllllllllllllllllllllllllllllllllllllllllllllllllllllllllllllllllllllllllllllllllllllllllllllllllllllllllllllllllllllllllllllllllllllllllllllllllllllllllllllllllllllllllllllllllllllllllllllllllllllllllllllllllllllllllllllllllllllllllllllllllllllllllllllllllllllllllllllllllllllllllllllllllllllllllllllllllllllllllllllllllllllllllllllllllllllllllllllllllllllllllllllllllllllllllllllllllllllllllllllllllllllllllllllllllllllllllllllllllllllllllllllllllllllllllllllllllllllllllllllllllllllllllllllllllllllllllllllllllllllllllllllllllllllllllllllllllllllllllllllllllllllllllllllllllllllllllllllllllllllllllllllllllllllllllllllllllllllllllllllllllllllllllllllllllllllllllllllllllllllllllllllllllllllllllllllllllllllllllllllllllllllllllllllllllllllllllllllllllllllllllllllllllllllllllllllllllllllllllllllllllllllllllllllllllllllllllllllllllllllllllllllllllllllllllllllllllllllllllllllllllllllllllllllllllllllllllllllllllllllllllllllllllllllllllllllllllllllllllllllllllllllllllllllllllllllllllllllllllllllllllllllllllllllllllllllllllllllllllllllllllllllllllllllllllllllllllllllllllllllllllllllllllllllllllllllllllllllllllllllllllllllllllllllllllllllllllllllllllllllllllllllllllllllllllllllllllllllllllllllllllllllllllllllllllllllllllllllllllllllllllllllllllllllllllllllllllllllllllllllllllllllllllllllllllllllllllllllllllllllllllllllllllllllllllllllllllllllllllllllllllllllllllllllllllllllllllllllllllllllllllllllllllllllllllllllllllllllllllllllllllllllllllllllllllllllllllllllllllllllllllllllllllllllllllllllllllllllllllllllllllllllllllllllllllllllllllllllllllllllllllllllllllllllllllllllllllllllllllllllllllllllllllllllllllllllllllllllllllllllllllllllllllllllllllllllllllllllllllllllllllllllllllllllllllllllllllllllllllllllllllllllllllllllllllllllllllllllllllllllllllllllllllllllllllllllllllllllllllllllllllllllllllllllllllllllllllllllllllllllllllllllllllllllllllllllllllllllllllllllllllllllllllllllllllllllllllllllllllllllllllllllllllllllllllllllllllllllllllllllllllllllllllllllllllllllllllllllllllllllllllllllllllllllllllllllllllllllllllllllllllllllllllllllllllllllllllllllllllllllllllllllllllllllllllllllllllllllllllllllllllllllllllllllllllllllllllllllllllllllllllllllllllllllllllllllllllllllllllllllllllllllllllllllllllllllllllllllllllllllllllllllllllllllllllllllllllllllllllllllllllllllllllllllllllllllllllllllllllllllllllllllllllllllllllllllllllllllllllllllllllllllllllllllllllllllllllllllllllllllllllllllllllllllllllllllllllllllllllllllllllllllllllllllllllllllllllllllllllllllllllllllllllllllllllllllllllllllllllllllllllllllllllllllllllllllllllllllllllllllllllllllllllllllllllllllllllllllllllllllllllllllllllllllllllllllllllllllllllllllllllllllllllllllllllllllllllllllllllllllllllllllllllllllllllllllllllllllllllllllllllllllllllllllllllllllllllllllllllllllllllllllllllllllllllllllllllllllllllllllllllllllllllllllllllllllllllllllllllllllllllllllllllllllllllllllllllllllllllllllllllllllllllllllllllllllllllllllllllllllllllllllllllllllllllllllllllllllllllllllllllllllllllllllllllllllllllllllllllllllllllllllllllllllllllllllllllllllllllllllllllllllllllllllllllllllllllllllllllllllllllllllllllllllllllllllllllllllllllllllllllllllllllllllllllllllllllllllllllllllllllllllllllllllllllllllllllllllllllllllllllllllllllllllllllllllllllllllllllllllllllllllllllllllllllllllllllllllllllllllllllllllllllllllllllllllllllllllllllllllllllllllllllllllllllllllllllllllllllllllllllllllllllllllllllllllllllllllllllllllllllllllllllllllllllllllllllllllllllllllllllllllllllllllllllllllllllllllllllllllllllllllllllllllllllllllllllllllllllllllllllllllllllllllllllllllllllllllllllllllllllllllllllllllllllllllllllllllllllllllllllllllllllllllllllllllllllllllllllllllllllllllllllllllllllllllllllllllllllllllllllllllllllllllllllllllllllllllllllllllllllllllllllllllllllllllllllllllllllllllllllllllllllllllllllllllllllllllllllllllllllllllllllllllllllllllllllllllllllllllllllllllllllllllllllllllllllllllllllllllllllllllllllllllllllllllllllllllllllllllllllllllllllllllllllllllllllllllllllllllllllllllllllllllllllllllllllllllllllllllllllllllllllllllllllllllllllllllllllllllllllllllllllllllllllllllllllllllllllllllllllllllllllllllllllllllllllllllllllllllllllllllllllllllllllllllllllllllllllllllllllllllllllllllllllllllllllllllllllllllllllllllllllllllllllllllllllllllllllllllllllllllllllllllllllllllllllllllllllllllllllllllllllllllllllllllllllllllllllllllllllllllllllllllllllllllllllllllllllllllllllllllllllllllllllllllllllllllllllllllllllllllllllllllllllllllllllllllllllllllllllllllllllllllllllllllllllllllllllllllllllllllllllllllllllllllllllllllllllllllllllllllllllllllllllllllllllllllllllllllllllllllllllllllllllllllllllllllllllllllllllllllllllllllllllllllllllllllllllllllllllllllllllllllllllllllllllllllllllllllllllllllllllllllllllllllllllllllllllllllllllllllllllllllllllllllllllllllllllllllllllllllllllllllllllllllllllllllllllllllllllllllllllllllllllllllllllllllllllllllllllllllllllllllllllllllllllllllllllllllllllllllllllllllllllllllllllllllllllllllllllllllllllllllllllllllllllllllllllllllllllllllllllllllllllllllllllllllllllllllllllllllllllllllllllllllllllllllllllllllllllllllllllllllllllllllllllllllllllllllllllllllllllllllllllllllll}\n",
       " Assembly & GC00000071\\_r1\\_1 & GC00000018\\_r1\\_r1\\_1\\_p2 & GC00000038\\_r1\\_1 & GC00000024\\_r1\\_1 & GC00000017\\_r1\\_1 & GC00000014\\_r1\\_r1\\_r1\\_1 & GC00000012\\_r1\\_r1\\_r1\\_1 & GC00000001\\_50 & GC00000228 & GC00000215 & GC00000208\\_r1\\_1 & GC00000183\\_r1\\_1 & GC00000111\\_r1\\_1 & GC00000100\\_3 & GC00000085\\_r1\\_1 & GC00000081\\_r1\\_1 & GC00000043\\_r1\\_1 & GC00000042\\_r1\\_1 & GC00000008\\_10 & GC00000374 & GC00000233\\_r1\\_1 & GC00000035\\_r1\\_r1\\_1\\_p1 & GC00000217\\_r1\\_1 & GC00000058\\_p2 & GC00000027\\_r1\\_r1\\_r1\\_1\\_p2 & GC00000159 & GC00000033\\_2 & GC00000087\\_r1\\_1 & GC00000088 & GC00000065\\_r1\\_1 & GC00000016\\_r1\\_r1\\_1\\_p2 & GC00000011\\_r1\\_r1\\_1 & GC00000007\\_r1\\_r1\\_1 & GC00000005\\_r1\\_1 & GC00000004\\_r1\\_r1\\_1 & GC00000003\\_6 & GC00000002\\_r1\\_r1\\_r1\\_1 & GC00000293\\_p2 & GC00000419 & GC00000341\\_r1\\_r1\\_1 & GC00000345\\_2 & GC00000468 & GC00000070\\_p2 & GC00000075\\_3\\_p2 & GC00000266\\_r1\\_1 & GC00000321\\_r1\\_1 & GC00000239\\_2 & GC00000058\\_p1 & GC00000230 & GC00000115\\_r1\\_1\\_p2 & GC00000061\\_r1\\_1\\_p2 & GC00000040\\_r1\\_1\\_p1 & GC00000135\\_r1\\_r1\\_r1\\_1 & GC00000140\\_r1\\_1 & GC00000125\\_r1\\_1 & GC00000124\\_r1\\_1 & GC00000131 & GC00000102\\_r1\\_r1\\_1 & GC00000089\\_2 & GC00000062\\_r1\\_1 & GC00000019\\_r1\\_3 & GC00000015\\_4 & GC00000414\\_r1\\_1 & GC00000479 & GC00000426\\_r1\\_1 & GC00000534 & GC00000470\\_r1\\_1 & GC00000400\\_r1\\_1 & GC00000456\\_r1\\_1 & GC00000441\\_r1\\_1 & GC00000521 & GC00000474\\_r1\\_1 & GC00000516 & GC00000517 & GC00000432\\_r1\\_1 & GC00000070\\_p1 & GC00000406\\_r1\\_1 & GC00000446\\_r1\\_1 & GC00000117\\_p2 & GC00000476\\_r1\\_1 & GC00000365\\_r1\\_1 & GC00000186\\_p2 & GC00000418\\_r1\\_1 & GC00000530 & GC00000531 & GC00000298\\_r1\\_2 & GC00000073\\_p1 & GC00000467\\_2 & GC00000528 & GC00000523 & GC00000520 & GC00000527 & GC00000524 & GC00000178\\_r1\\_1\\_p2 & GC00000525 & GC00000452\\_r1\\_1 & GC00000067\\_r1\\_1\\_p2 & GC00000067\\_r1\\_1\\_p1 & GC00000469\\_r1\\_1 & GC00000181\\_p2 & GC00000537 & GC00000484 & GC00000486 & GC00000487 & GC00000378\\_r1\\_1 & GC00000138\\_r1\\_r1\\_1\\_p2 & GC00000454 & GC00000434 & GC00000431 & GC00000284\\_r1\\_1 & GC00000380\\_r1\\_1 & GC00000372\\_r1\\_1 & GC00000395\\_2 & GC00000276\\_r1\\_1 & GC00000416\\_r1\\_1 & GC00000010\\_7\\_p2\\_p1 & GC00000369\\_r1\\_1 & GC00000465 & GC00000295\\_r1\\_1 & GC00000318\\_r1\\_1 & GC00000402\\_r1\\_1 & GC00000389\\_r1\\_1 & GC00000386\\_r1\\_1 & GC00000294\\_r1\\_1 & GC00000319\\_r1\\_1 & GC00000214\\_r1\\_r1\\_1\\_p2 & GC00000278\\_r1\\_r1\\_1 & GC00000001\\_39 & GC00000398 & GC00000373 & GC00000303\\_r1\\_1 & GC00000252\\_r1\\_r1\\_1 & GC00000290\\_r1\\_1 & GC00000136\\_p2 & GC00000056\\_6\\_p1 & GC00000226\\_r1\\_1 & GC00000337 & GC00000316 & GC00000257\\_r1\\_1 & GC00000231\\_r1\\_1 & GC00000238\\_r1\\_1 & GC00000126\\_r1\\_1 & GC00000161\\_r1\\_1 & GC00000143\\_r1\\_r1\\_r1\\_1 & GC00000034\\_r1\\_r1\\_r1\\_r1\\_1 & GC00000047\\_r1\\_1 & GC00000020\\_r1\\_1 & GC00000009\\_r1\\_r1\\_r1\\_r1\\_1 & GC00000577 & GC00000429\\_r1\\_1 & GC00000346\\_r1\\_1 & GC00000363\\_r1\\_1 & GC00000573 & GC00000576 & GC00000461\\_r1\\_1 & GC00000481\\_r1\\_1 & GC00000464\\_r1\\_1 & GC00000473\\_r1\\_1 & GC00000513\\_r1\\_1 & GC00000504\\_r1\\_1 & GC00000590 & GC00000509\\_r1\\_1 & GC00000555 & GC00000552 & GC00000514\\_r1\\_1 & GC00000381\\_r1\\_1 & GC00000046\\_r1\\_r1\\_1\\_p1 & GC00000591 & GC00000538\\_r1\\_1 & GC00000423\\_3 & GC00000526\\_r1\\_1 & GC00000232\\_p2 & GC00000588 & GC00000583 & GC00000585 & GC00000584 & GC00000586 & GC00000529\\_r1\\_1 & GC00000466\\_r1\\_1 & GC00000503\\_r1\\_1 & GC00000437\\_r1\\_1 & GC00000171\\_r1\\_1\\_p2 & GC00000549 & GC00000547 & GC00000541 & GC00000540 & GC00000542 & GC00000427\\_r1\\_1 & GC00000496 & GC00000490 & GC00000224\\_r1\\_r1\\_r1\\_1\\_p2 & GC00000424\\_r1\\_1 & GC00000347\\_r1\\_1 & GC00000453\\_r1\\_1 & GC00000317\\_r1\\_1 & GC00000383\\_3 & GC00000535 & GC00000533 & GC00000069\\_r1\\_1\\_p1 & GC00000412\\_r1\\_r1\\_1 & GC00000445\\_r1\\_1 & GC00000249\\_r1\\_1 & GC00000360\\_3 & GC00000396\\_3 & GC00000061\\_r1\\_1\\_p1 & GC00000485 & GC00000377\\_3 & GC00000501 & GC00000338\\_r1\\_1 & GC00000438\\_r1\\_1 & GC00000158\\_r1\\_1\\_p2 & GC00000409\\_r1\\_1 & GC00000436 & GC00000331\\_r1\\_1 & GC00000204\\_r1\\_r1\\_r1\\_2 & GC00000370\\_r1\\_1 & GC00000463 & GC00000444 & GC00000443 & GC00000387\\_r1\\_1 & GC00000073\\_p2 & GC00000332\\_r1\\_1 & GC00000417 & GC00000413 & GC00000411 & GC00000388 & GC00000222\\_4 & GC00000026\\_r1\\_r1\\_1\\_p2 & GC00000201\\_r1\\_1 & GC00000029\\_r1\\_r1\\_1\\_p2 & GC00000144\\_8 & GC00000155\\_r1\\_1 & GC00000148 & GC00000120\\_r1\\_1 & GC00000116\\_r1\\_1 & GC00000112\\_r1\\_1 & GC00000023\\_r1\\_r1\\_1 & GC00000512\\_r1\\_1 & GC00000553\\_r1\\_1 & GC00000608 & GC00000609 & GC00000603 & GC00000600 & GC00000606 & GC00000607 & GC00000605 & GC00000494\\_r1\\_1 & GC00000598 & GC00000599 & GC00000455\\_r1\\_1 & GC00000629 & GC00000625 & GC00000626 & GC00000641 & GC00000104\\_r1\\_r1\\_1\\_p2 & GC00000010\\_7\\_p2\\_p2\\_p1 & GC00000311\\_r1\\_r1\\_1 & GC00000505\\_r1\\_1 & GC00000595\\_r1\\_1 & GC00000497\\_r1\\_r1\\_1 & GC00000051\\_8\\_p2 & GC00000493\\_r1\\_r1\\_1 & GC00000021\\_r1\\_r1\\_r1\\_1\\_p1 & GC00000566\\_r1\\_1 & GC00000548\\_r1\\_1 & GC00000433\\_4 & GC00000614 & GC00000616 & GC00000633 & GC00000631 & GC00000630 & GC00000636 & GC00000635 & GC00000638 & GC00000428\\_r1\\_1 & GC00000565 & GC00000480\\_r1\\_1 & GC00000508\\_2 & GC00000442\\_r1\\_1 & GC00000499\\_r1\\_1 & GC00000488\\_r1\\_1 & GC00000439\\_r1\\_1 & GC00000558 & GC00000551 & GC00000511\\_r1\\_1 & GC00000371\\_r1\\_1 & GC00000518\\_r1\\_1 & GC00000327\\_4 & GC00000587 & GC00000500\\_r1\\_1 & GC00000519\\_r1\\_1 & GC00000544 & GC00000543 & GC00000449\\_r1\\_1 & GC00000072\\_r1\\_r1\\_1\\_p2 & GC00000029\\_r1\\_r1\\_1\\_p1 & GC00000401\\_r1\\_1 & GC00000507 & GC00000049\\_r1\\_1\\_p1 & GC00000350\\_r1\\_1 & GC00000297\\_r1\\_1 & GC00000223\\_r1\\_1 & GC00000184\\_2 & GC00000141\\_r1\\_1 & GC00000130\\_4 & GC00000113\\_r1\\_1 & GC00000108\\_r1\\_r1\\_1 & GC00000106\\_5 & GC00000099\\_r1\\_1 & GC00000084\\_r1\\_3 & GC00000064\\_r1\\_r1\\_1 & GC00000037\\_r1\\_r1\\_1 & GC00000044\\_r1\\_r1\\_1 & GC00000036\\_r1\\_1 & GC00000564\\_r1\\_1 & GC00000669 & GC00000617\\_r1\\_1 & GC00000676 & GC00000624\\_r1\\_1 & GC00000649 & GC00000640\\_r1\\_1 & GC00000639\\_r1\\_1 & GC00000561\\_r1\\_1 & GC00000580\\_r1\\_1 & GC00000086\\_r1\\_2 & GC00000472\\_r1\\_1 & GC00000066\\_r1\\_1\\_p2 & GC00000659 & GC00000618\\_r1\\_1 & GC00000451\\_r1\\_r1\\_1 & GC00000483\\_r1\\_1 & GC00000582\\_2 & GC00000592\\_r1\\_1 & GC00000251\\_4 & GC00000557\\_r1\\_1 & GC00000593\\_r1\\_1 & GC00000491\\_2 & GC00000568\\_r1\\_1 & GC00000589\\_r1\\_1 & GC00000578\\_r1\\_1 & GC00000611 & GC00000632 & GC00000546\\_r1\\_1 & GC00000596\\_r1\\_1 & GC00000536\\_r1\\_1 & GC00000489\\_r1\\_1 & GC00000079\\_r1\\_1\\_p2 & GC00000554 & GC00000550 & GC00000502\\_r1\\_1 & GC00000522\\_r1\\_1 & GC00000495\\_2 & GC00000254\\_r1\\_1 & GC00000478 & GC00000397\\_r1\\_1 & GC00000299\\_r1\\_1 & GC00000420 & GC00000356\\_r1\\_1 & GC00000069\\_r1\\_1\\_p2 & GC00000160\\_r1\\_r1\\_1 & GC00000328 & GC00000107\\_r1\\_1\\_p2 & GC00000122\\_r1\\_1 & GC00000180\\_r1\\_1 & GC00000156\\_r1\\_1 & GC00000027\\_r1\\_r1\\_r1\\_1\\_p1 & GC00000133\\_r1\\_1 & GC00000601\\_r1\\_1 & GC00000667\\_r1\\_1 & GC00000644\\_r1\\_1 & GC00000655\\_r1\\_1 & GC00000680 & GC00000091\\_r1\\_1\\_p2 & GC00000672\\_r1\\_1 & GC00000194\\_3 & GC00000692 & GC00000602\\_r1\\_1 & GC00000660\\_r1\\_1 & GC00000068\\_r1\\_1\\_p1 & GC00000075\\_3\\_p1 & GC00000563\\_r1\\_1 & GC00000668\\_r1\\_1 & GC00000658\\_r1\\_1 & GC00000693 & GC00000695 & GC00000674\\_r1\\_1 & GC00000121\\_r1\\_1\\_p2 & GC00000620\\_3 & GC00000670\\_r1\\_1 & GC00000671 & GC00000647 & GC00000666 & GC00000621\\_r1\\_1 & GC00000506\\_r1\\_1 & GC00000559\\_r1\\_1 & GC00000615\\_r1\\_1 & GC00000678 & GC00000562\\_r1\\_1 & GC00000123\\_r1\\_1\\_p2 & GC00000612\\_2 & GC00000579\\_r1\\_1 & GC00000385\\_r1\\_1 & GC00000560\\_r1\\_1 & GC00000390\\_r1\\_1 & GC00000340\\_r1\\_1 & GC00000498\\_r1\\_1 & GC00000046\\_r1\\_r1\\_1\\_p2 & GC00000422\\_r1\\_1 & GC00000242\\_r1\\_r1\\_1 & GC00000287\\_3 & GC00000202\\_r1\\_1 & GC00000196\\_r1\\_1 & GC00000127\\_r1\\_r1\\_r1\\_1 & GC00000173\\_r1\\_1 & GC00000152\\_r1\\_1 & GC00000101\\_r1\\_1 & GC00000080\\_r1\\_r1\\_1 & GC00000090\\_r1\\_r1\\_r1\\_1 & GC00000050\\_6 & GC00000054\\_r1\\_1 & GC00000057\\_r1\\_1 & GC00000022\\_r1\\_r1\\_1 & GC00000650\\_r1\\_1 & GC00000355\\_r1\\_1\\_p2 & GC00000083\\_2 & GC00000686\\_r1\\_1 & GC00000701 & GC00000704 & GC00000708 & GC00000570\\_r1\\_1 & GC00000664\\_r1\\_r1\\_1 & GC00000675\\_r1\\_1 & GC00000569\\_r1\\_r1\\_1 & GC00000689\\_r1\\_1 & GC00000653\\_r1\\_1 & GC00000713 & GC00000714 & GC00000710 & GC00000681 & GC00000687 & GC00000684 & GC00000510\\_r1\\_1 & GC00000086\\_r1\\_1 & GC00000066\\_r1\\_1\\_p1 & GC00000673\\_r1\\_1 & GC00000637\\_3 & GC00000545\\_p2 & GC00000567\\_r1\\_r1\\_1 & GC00000168\\_r1\\_r1\\_1\\_p2 & GC00000645 & GC00000182\\_3 & GC00000440\\_r1\\_r1\\_1 & GC00000642\\_r1\\_1 & GC00000652 & GC00000556\\_r1\\_1 & GC00000051\\_8\\_p1 & GC00000532\\_r1\\_1 & GC00000334\\_r1\\_1 & GC00000149\\_r1\\_1\\_p2 & GC00000092\\_r1\\_1\\_p2\\_p2 & GC00000384\\_r1\\_1 & GC00000220\\_r1\\_1 & GC00000304\\_r1\\_1 & GC00000225\\_r1\\_1 & GC00000197\\_r1\\_1 & GC00000190\\_r1\\_1 & GC00000052\\_r1\\_r1\\_1 & GC00000712\\_r1\\_1 & GC00000711\\_r1\\_1 & GC00000696\\_3 & GC00000646\\_p2 & GC00000079\\_r1\\_1\\_p1 & GC00000725 & GC00000700\\_r1\\_1 & GC00000694\\_r1\\_1 & GC00000726 & GC00000737 & GC00000719 & GC00000717 & GC00000447\\_p2 & GC00000665\\_r1\\_1 & GC00000604\\_r1\\_r1\\_1 & GC00000039\\_r1\\_r1\\_1\\_p2 & GC00000688\\_r1\\_1 & GC00000619\\_r1\\_1 & GC00000661\\_r1\\_1 & GC00000683\\_r1\\_1 & GC00000462\\_r1\\_1 & GC00000021\\_r1\\_r1\\_r1\\_1\\_p2\\_p1 & GC00000041\\_r1\\_1\\_p2\\_p2 & GC00000256\\_r1\\_r1\\_1 & GC00000098\\_4 & GC00000209\\_3 & GC00000253\\_r1\\_1 & GC00000118\\_r1\\_r1\\_r1\\_1\\_p2 & GC00000751 & GC00000732\\_r1\\_1 & GC00000731\\_r1\\_1 & GC00000742 & GC00000103\\_5 & GC00000729\\_r1\\_1 & GC00000697\\_r1\\_r1\\_1 & GC00000691\\_3 & GC00000739 & GC00000699\\_2 & GC00000702\\_r1\\_1 & GC00000703\\_r1\\_1 & GC00000679\\_r1\\_1 & GC00000721 & GC00000722 & GC00000715 & GC00000706\\_r1\\_1 & GC00000705 & GC00000072\\_r1\\_r1\\_1\\_p1 & GC00000657\\_r1\\_1 & GC00000382\\_r1\\_r1\\_1 & GC00000097\\_r1\\_1\\_p2 & GC00000179\\_r1\\_1 & GC00000137\\_r1\\_r1\\_1 & GC00000758 & GC00000759 & GC00000748\\_r1\\_1 & GC00000743\\_r1\\_1 & GC00000718\\_r1\\_1 & GC00000707\\_r1\\_r1\\_1 & GC00000078\\_3\\_p1 & GC00000724\\_r1\\_r1\\_1 & GC00000162\\_r1\\_r1\\_1\\_p2 & GC00000716\\_r1\\_1 & GC00000733\\_r1\\_1 & GC00000110\\_r1\\_r1\\_1\\_p2 & GC00000720\\_r1\\_1 & GC00000169\\_r1\\_r1\\_r1\\_1 & GC00000728 & GC00000727 & GC00000685\\_r1\\_1 & GC00000192\\_r1\\_1 & GC00000150 & GC00000095\\_p1 & GC00000096\\_1 & GC00000738\\_r1\\_1 & GC00000755\\_r1\\_1 & GC00000761 & GC00000746\\_r1\\_1 & GC00000735\\_r1\\_1 & GC00000749\\_r1\\_1 & GC00000095\\_p2 & GC00000723\\_r1\\_1 & GC00000492\\_r1\\_r1\\_1 & GC00000259\\_r1\\_r1\\_1 & GC00000205\\_r1\\_r1\\_1 & GC00000049\\_r1\\_1\\_p2 & GC00000757\\_r1\\_1 & GC00000762\\_r1\\_1 & GC00000752\\_r1\\_1 & GC00000736\\_r1\\_1 & GC00000764\\_r1\\_1 & GC00000770 & GC00000765 & GC00000768 & GC00000575\\_r1\\_r1\\_r1\\_1 & GC00000096\\_2 & GC00000082 & GC00000772\\_2 & GC00000780 & GC00000730\\_5 & GC00000393\\_r1\\_r1\\_r1\\_1 & GC00000779 & GC00000698\\_r1\\_r1\\_1 & GC00000623\\_r1\\_r1\\_1 & GC00000539\\_r1\\_r1\\_1 & GC00000235\\_r1\\_1 & GC00000791 & GC00000153\\_3 & GC00000784\\_r1\\_1 & GC00000756\\_r1\\_1 & GC00000654\\_r1\\_2 & GC00000041\\_r1\\_1\\_p1 & GC00000109\\_r1\\_1\\_p2 & GC00000142\\_r1\\_1\\_p2 & GC00000040\\_r1\\_1\\_p2 & GC00000740\\_r1\\_r1\\_1 & GC00000053\\_r1\\_1\\_p2\\_p2 & GC00000785\\_r1\\_1 & GC00000165\\_r1\\_r1\\_r1\\_1\\_p2 & GC00000769\\_r1\\_r1\\_1 & GC00000778\\_r1\\_1 & GC00000091\\_r1\\_1\\_p1 & GC00000613 & GC00000026\\_r1\\_r1\\_1\\_p1 & GC00000013\\_r1\\_r1\\_r1\\_r1\\_1 & GC00000055\\_r1\\_1\\_p2\\_p2 & GC00000797\\_r1\\_1 & GC00000790\\_r1\\_1 & GC00000798\\_r1\\_1 & GC00000292\\_r1\\_1 & GC00000783\\_r1\\_1 & GC00000775 & GC00000105\\_r1\\_1\\_p2 & GC00000176\\_r1\\_1 & GC00000048\\_r1\\_1 & GC00000039\\_r1\\_1 & GC00000811\\_r1\\_1 & GC00000822 & GC00000824 & GC00000827 & GC00000515\\_r1\\_1 & GC00000823 & GC00000789\\_r1\\_r1\\_r1\\_1 & GC00000809 & GC00000146 & GC00000025\\_r1\\_r1\\_r1\\_1 & GC00000803\\_r1\\_1 & GC00000829 & GC00000774\\_r1\\_r1\\_r1\\_1 & GC00000813\\_r1\\_1 & GC00000745\\_r1\\_r1\\_1 & GC00000399\\_r1\\_1 & GC00000031\\_r1\\_r1\\_r1\\_r1\\_1 & GC00000835 & GC00000781\\_r1\\_r1\\_1 & GC00000838 & GC00000807\\_r1\\_1 & GC00000627\\_r1\\_1\\_p2 & GC00000421\\_r1\\_1 & GC00000690\\_r1\\_r1\\_r1\\_1 & GC00000753\\_r1\\_1 & GC00000848 & GC00000842\\_r1\\_1 & GC00000199\\_r1\\_1\\_p2 & GC00000448\\_r1\\_1 & GC00000796\\_r1\\_r1\\_2 & GC00000174\\_r1\\_r1\\_1\\_p2 & GC00000854 & GC00000828\\_r1\\_1 & GC00000840 & GC00000841 & GC00000030\\_r1\\_r1\\_4 & GC00000830\\_r1\\_1 & GC00000103\\_r1\\_1 & GC00000814\\_r1\\_1 & GC00000109\\_r1\\_1\\_p1 & GC00000806 & GC00000812 & GC00000786 & GC00000648\\_r1\\_1 & GC00000211\\_r1\\_1 & GC00000628\\_r1\\_1 & GC00000175\\_r1\\_1\\_p2 & GC00000865 & GC00000862 & GC00000867 & GC00000094\\_r1\\_1\\_p1 & GC00000866 & GC00000879 & GC00000839\\_r1\\_1 & GC00000877 & GC00000849\\_r1\\_1 & GC00000033\\_1 & GC00000850 & GC00000825\\_r1\\_1 & GC00000571\\_r1\\_3 & GC00000234\\_r1\\_r1\\_1 & GC00000110\\_r1\\_r1\\_1\\_p1 & GC00000810\\_r1\\_1 & GC00000855\\_r1\\_1 & GC00000741\\_2 & GC00000846\\_r1\\_1 & GC00000477\\_r1\\_1\\_p2 & GC00000895 & GC00000893 & GC00000891 & GC00000868 & GC00000097\\_r1\\_1\\_p1 & GC00000878 & GC00000858 & GC00000818\\_r1\\_1 & GC00000808\\_r1\\_r1\\_1 & GC00000213\\_5 & GC00000236\\_r1\\_1 & GC00000074\\_r1\\_r1\\_r1\\_1\\_p2 & GC00000188\\_r1\\_r1\\_1 & GC00000157 & GC00000873\\_3 & GC00000913 & GC00000074\\_r1\\_r1\\_r1\\_1\\_p1 & GC00000897\\_2 & GC00000907 & GC00000906 & GC00000901 & GC00000900 & GC00000651\\_r1\\_r1\\_1 & GC00000905 & GC00000747\\_r1\\_1 & GC00000777\\_r1\\_r1\\_1 & GC00000869\\_r1\\_1 & GC00000864\\_r1\\_1 & GC00000874\\_r1\\_1 & GC00000834\\_r1\\_1 & GC00000892 & GC00000831\\_r1\\_1 & GC00000871\\_r1\\_1 & GC00000821\\_r1\\_r1\\_1 & GC00000837\\_r1\\_1 & GC00000145\\_r1\\_r1\\_1\\_p2 & GC00000820\\_r1\\_1 & GC00000816 & GC00000597\\_r1\\_r1\\_r1\\_1 & GC00000170 & GC00000006\\_r1\\_r1\\_1 & GC00000916 & GC00000908\\_r1\\_1 & GC00000922 & GC00000909\\_r1\\_1 & GC00000872\\_r1\\_1 & GC00000904 & GC00000826\\_r1\\_r1\\_r1\\_1 & GC00000844\\_r1\\_1 & GC00000574\\_r1\\_r1\\_1 & GC00000851 & GC00000744\\_r1\\_r1\\_1 & GC00000572\\_r1\\_1 & GC00000114\\_r1\\_1\\_p2 & GC00000931 & GC00000929 & GC00000910\\_2 & GC00000853\\_r1\\_1 & GC00000241\\_r1\\_r1\\_1 & GC00000889\\_2 & GC00000104\\_r1\\_r1\\_1\\_p1 & GC00000763\\_r1\\_1 & GC00000938 & GC00000939 & GC00000941 & GC00000902\\_r1\\_1 & GC00000128\\_r1\\_1\\_p1 & GC00000923\\_r1\\_1 & GC00000898\\_r1\\_r1\\_1 & GC00000927\\_2 & GC00000917\\_r1\\_1 & GC00000021\\_r1\\_r1\\_r1\\_1\\_p2\\_p2 & GC00000788\\_r1\\_1 & GC00000750 & GC00000195 & GC00000937\\_r1\\_1 & GC00000949 & GC00000951 & GC00000709\\_r1\\_r1\\_1 & GC00000392\\_r1\\_r1\\_1 & GC00000943\\_r1\\_1 & GC00000959 & GC00000940\\_r1\\_1 & GC00000952 & GC00000886\\_r1\\_1 & GC00000154\\_r1\\_r1\\_r1\\_r1\\_1 & GC00000890 & GC00000326\\_r1\\_1 & GC00000045\\_r1\\_r1\\_1 & GC00000177\\_r1\\_1\\_p1 & GC00000968 & GC00000955\\_2 & GC00000177\\_r1\\_1\\_p2 & GC00000960 & GC00000852\\_r1\\_1 & GC00000946 & GC00000792\\_2 & GC00000845\\_r1\\_r1\\_1 & GC00000933\\_r1\\_1 & GC00000903\\_r1\\_1 & GC00000754\\_r1\\_r1\\_1 & GC00000966\\_r1\\_1 & GC00000117\\_p1 & GC00000961\\_r1\\_1 & GC00000914\\_r1\\_1 & GC00000114\\_r1\\_1\\_p1 & GC00000663\\_r1\\_r1\\_r1\\_r1\\_1 & GC00000856\\_r1\\_1\\_p2 & GC00000128\\_r1\\_1\\_p2 & GC00000986 & GC00000988 & GC00000996 & GC00000805\\_r1\\_1\\_p2 & GC00000948\\_r1\\_1 & GC00000804\\_r1\\_2 & GC00000634\\_r1\\_r1\\_r1\\_r1\\_1 & GC00000925\\_r1\\_1 & GC00000581 & GC00000991\\_r1\\_1 & GC00000983\\_r1\\_1 & GC00000984\\_r1\\_1 & GC00000964\\_r1\\_r1\\_1 & GC00001000 & GC00000815\\_r1\\_1 & GC00000092\\_r1\\_1\\_p1 & GC00000998 & GC00000981 & GC00000819\\_r1\\_1 & GC00000954\\_r1\\_1 & GC00000766 & GC00001009\\_r1\\_1 & GC00000997\\_r1\\_1 & GC00000989\\_r1\\_1 & GC00001013 & GC00001007\\_r1\\_1 & GC00000881\\_r1\\_1 & GC00000142\\_r1\\_1\\_p1 & GC00000145\\_r1\\_r1\\_1\\_p1 & GC00000801 & GC00000132\\_r1\\_r1\\_r1\\_r1\\_1 & GC00000134\\_r1\\_1 & GC00001018 & GC00001021 & GC00001010 & GC00000985\\_3 & GC00000977\\_r1\\_r1\\_1 & GC00000993\\_r1\\_1 & GC00001003\\_r1\\_1 & GC00000105\\_r1\\_1\\_p1 & GC00000221\\_r1\\_r1\\_r1\\_r1\\_1 & GC00000887 & GC00000187\\_r1\\_1 & GC00001025 & GC00001029 & GC00000610\\_p2 & GC00000863\\_r1\\_r1\\_1 & GC00001012\\_3 & GC00001023 & GC00001022 & GC00001024 & GC00001019 & GC00000994\\_r1\\_1 & GC00000800\\_r1\\_r1\\_r1\\_1 & GC00000734\\_r1\\_r1\\_1\\_p2 & GC00000928 & GC00000912\\_r1\\_1 & GC00000885\\_r1\\_1 & GC00000882\\_r1\\_1 & GC00000832 & GC00000172\\_r1\\_1 & GC00001042 & GC00001037 & GC00001026\\_2 & GC00001030 & GC00001034 & GC00000782\\_r1\\_r1\\_1 & GC00000198\\_r1\\_r1\\_1 & GC00000847\\_r1\\_1 & GC00000945\\_r1\\_r1\\_1 & GC00000802\\_11 & GC00000219\\_r1\\_r1\\_r1\\_r1\\_r1\\_1 & GC00000077\\_r1\\_r1\\_r1\\_r1\\_1 & GC00000189 & GC00000795\\_4 & GC00001036\\_r1\\_1 & GC00000870\\_r1\\_r1\\_1 & GC00000894\\_r1\\_1 & GC00000876\\_r1\\_r1\\_1 & GC00001053 & GC00001041\\_r1\\_1 & GC00001056 & GC00001035\\_r1\\_1 & GC00001048\\_r1\\_1 & GC00000115\\_r1\\_1\\_p1 & GC00001039 & GC00001027\\_r1\\_1 & GC00000930\\_r1\\_r1\\_1 & GC00001015\\_r1\\_1 & GC00001005\\_r1\\_1 & GC00000817\\_r1\\_r1\\_1 & GC00000911\\_r1\\_1 & GC00001069 & GC00001068 & GC00001064 & GC00000175\\_r1\\_1\\_p1 & GC00001067 & GC00001066 & GC00001061 & GC00001063 & GC00001062 & GC00001051\\_r1\\_1 & GC00000843\\_r1\\_r1\\_1 & GC00000041\\_r1\\_1\\_p2\\_p1 & GC00000880\\_r1\\_r1\\_1 & GC00000962\\_5 & GC00001028\\_r1\\_1 & GC00000935\\_r1\\_1 & GC00001002\\_r1\\_r1\\_1 & GC00000610\\_p1 & GC00001049 & GC00000656\\_r1\\_r1\\_r1\\_1\\_p2 & GC00000119\\_r1\\_1 & GC00000119\\_r1\\_2 & GC00000662\\_r1\\_r1\\_1 & GC00001082 & GC00001086 & GC00001085 & GC00001084 & GC00000924\\_r1\\_1 & GC00000857\\_r1\\_1 & GC00000787\\_r1\\_1\\_p2 & GC00000926\\_r1\\_1 & GC00001074 & GC00001033\\_r1\\_r1\\_1 & GC00001001\\_r1\\_r1\\_r1\\_1 & GC00000107\\_r1\\_1\\_p1 & GC00001040\\_r1\\_1 & GC00000932\\_r1\\_1 & GC00000861\\_7 & GC00000394\\_r1\\_r1\\_1 & GC00000076\\_r1\\_r1\\_r1\\_r1\\_r1\\_r1\\_1 & GC00001054\\_r1\\_1 & GC00000963\\_r1\\_1 & GC00001038\\_4 & GC00001091 & GC00001075\\_r1\\_r1\\_1 & GC00001101 & GC00001072 & GC00001076 & GC00000482\\_r1\\_r1\\_r1\\_1 & GC00001004\\_r1\\_1 & GC00001110 & GC00000972\\_r1\\_1\\_p2 & GC00000836\\_r1\\_r1\\_r1\\_r1\\_1 & GC00001089 & GC00001090 & GC00001093 & GC00001102 & GC00000915\\_r1\\_1 & GC00000799\\_r1\\_1 & GC00000210\\_r1\\_1\\_p2 & GC00000760\\_r1\\_1 & GC00001119 & GC00000920\\_r1\\_1 & GC00000039\\_r1\\_r1\\_1\\_p1 & GC00001113 & GC00001100\\_r1\\_1 & GC00000950\\_r1\\_1 & GC00001120 & GC00001060\\_r1\\_1 & GC00000207\\_r1\\_1\\_p2 & GC00000953 & GC00000833\\_r1\\_1 & GC00000093\\_r1\\_r1\\_r1\\_r1\\_1 & GC00001094\\_r1\\_1 & GC00000957\\_r1\\_1 & GC00000934\\_r1\\_r1\\_1 & GC00001130 & GC00000174\\_r1\\_r1\\_1\\_p1 & GC00001129 & GC00000029\\_3 & GC00000956\\_r1\\_1\\_p2 & GC00000199\\_r1\\_1\\_p1 & GC00001052\\_r1\\_r1\\_1 & GC00000191\\_5 & GC00001111 & GC00001050 & GC00000936\\_r1\\_1 & GC00000888\\_r1\\_1 & GC00000942\\_r1\\_1 & GC00001131 & GC00000787\\_r1\\_1\\_p1 & GC00001141 & GC00001144 & GC00001140 & GC00000999\\_7 & GC00000918\\_r1\\_r1\\_1 & GC00000682\\_r1\\_r1\\_1 & GC00001157 & GC00001152 & GC00000055\\_r1\\_1\\_p2\\_p1 & GC00000975\\_r1\\_r1\\_r1\\_r1\\_1 & GC00000995\\_r1\\_1 & GC00000899\\_r1\\_r1\\_r1\\_1 & GC00000166\\_r1\\_r1\\_1 & GC00000028\\_r1\\_r1\\_1 & GC00000979\\_r1\\_r1\\_1 & GC00000965\\_p2 & GC00001158\\_r1\\_1 & GC00000021\\_r1\\_2 & GC00000990\\_r1\\_r1\\_1 & GC00001151\\_r1\\_1 & GC00001178 & GC00001183 & GC00000138\\_r1\\_r1\\_1\\_p1 & GC00001073\\_r1\\_r1\\_1 & GC00001143\\_r1\\_1 & GC00000210\\_r1\\_1\\_p1 & GC00000976\\_r1\\_1 & GC00000884\\_r1\\_1 & GC00001167\\_r1\\_1 & GC00001193 & GC00000795\\_1 & GC00000026\\_9 & GC00001153\\_2 & GC00001134 & GC00000919\\_r1\\_r1\\_r1\\_r1\\_1 & GC00000203\\_r1\\_r1\\_r1\\_1 & GC00000971\\_r1\\_1 & GC00000032\\_r1\\_r1\\_r1\\_1 & GC00001191\\_r1\\_1 & GC00001229 & GC00001228 & GC00001240 & GC00001155\\_r1\\_1\\_p2 & GC00001236 & GC00001219 & GC00001230 & GC00001232 & GC00000643\\_r1\\_r1\\_1\\_p2 & GC00001186\\_r1\\_1 & GC00000944\\_r1\\_r1\\_r1\\_1\\_p2 & GC00001189\\_r1\\_1 & GC00001150\\_r1\\_1 & GC00001217 & GC00001205\\_r1\\_1 & GC00001200 & GC00001168 & GC00001136\\_r1\\_1 & GC00001117 & GC00000875\\_r1\\_r1\\_r1\\_1 & GC00001014\\_r1\\_1 & GC00000793\\_r1\\_r1\\_r1\\_1 & GC00000921 & GC00000098\\_3 & GC00000776\\_r1\\_1 & GC00000059\\_r1\\_r1\\_1 & GC00001298 & GC00000622\\_r1\\_r1\\_r1\\_1\\_p2 & GC00001195\\_3 & GC00000477\\_r1\\_1\\_p1 & GC00001280 & GC00001288 & GC00001269 & GC00001265 & GC00001264 & GC00001263 & GC00001283 & GC00000153\\_1 & GC00001242\\_r1\\_1 & GC00001182\\_r1\\_1\\_p2 & GC00001273 & GC00001253 & GC00001234\\_r1\\_1 & GC00001259 & GC00001235\\_r1\\_1 & GC00001226\\_2 & GC00001278 & GC00001279 & GC00001255 & GC00001292 & GC00001295 & GC00001270 & GC00001275 & GC00001274 & GC00001208 & GC00001241 & GC00001187\\_2 & GC00001196\\_r1\\_1 & GC00001231 & GC00000023\\_r1\\_1 & GC00001210 & GC00001126\\_r1\\_r1\\_1 & GC00001198 & GC00001154\\_r1\\_r1\\_1 & GC00001114\\_r1\\_1 & GC00001258\\_r1\\_1 & GC00001190\\_r1\\_1 & GC00001304 & GC00001341 & GC00001349 & GC00001238\\_r1\\_r1\\_1 & GC00001328 & GC00001327 & GC00001323 & GC00001017\\_r1\\_r1\\_1 & GC00001199\\_r1\\_1 & GC00001302 & GC00001305 & GC00001256\\_r1\\_1 & GC00001188\\_r1\\_1 & GC00001250\\_r1\\_1 & GC00001225\\_p2 & GC00001213\\_r1\\_1 & GC00001351 & GC00001335 & GC00001334 & GC00001336 & GC00001331 & GC00001330 & GC00000123\\_r1\\_1\\_p1 & GC00001314 & GC00001313 & GC00001310 & GC00000169\\_1 & GC00001106\\_r1\\_1\\_p2 & GC00001245\\_2 & GC00001350 & GC00001355 & GC00001266 & GC00001262 & GC00000978\\_r1\\_1\\_p2 & GC00001148\\_r1\\_1 & GC00001070\\_r1\\_r1\\_r1\\_1 & GC00000158\\_r1\\_1\\_p1 & GC00001011\\_r1\\_1\\_p2 & GC00001177\\_r1\\_1 & GC00001239 & GC00001170\\_r1\\_1 & GC00001116\\_r1\\_r1\\_r1\\_1 & GC00001166\\_r1\\_1 & GC00001135\\_3 & GC00001142\\_r1\\_1 & GC00001125\\_r1\\_1 & GC00001095\\_r1\\_1 & GC00000594\\_r1\\_r1\\_r1\\_1 & GC00001099 & GC00001055 & GC00000992\\_r1\\_1 & GC00000121\\_r1\\_1\\_p1 & GC00000973\\_r1\\_r1\\_1 & GC00000129\\_r1\\_r1\\_r1\\_r1\\_1 & GC00000164\\_r1\\_1 & GC00001407 & GC00001233\\_3 & GC00001297\\_r1\\_2 & GC00001261\\_r1\\_1 & GC00001206\\_r1\\_1 & GC00001291\\_3 & GC00001380 & GC00001381 & GC00001384 & GC00001386 & GC00001097\\_p2 & GC00001362 & GC00001363 & GC00001360 & GC00001367 & GC00001365 & GC00001368 & GC00001308\\_r1\\_1 & GC00001408 & GC00001404 & GC00000771\\_r1\\_r1\\_r1\\_1\\_p2\\_p2 & GC00001303\\_2 & GC00001306\\_r1\\_1 & GC00001398 & GC00001396 & GC00001395 & GC00001373 & GC00001376 & GC00001176\\_r1\\_1\\_p2 & GC00001227\\_r1\\_1 & GC00001282\\_3 & GC00001317\\_r1\\_1 & GC00001220\\_r1\\_r1\\_1 & GC00001343\\_r1\\_1 & GC00000136\\_p1\\_p2 & GC00001081\\_r1\\_1\\_p2 & GC00001104\\_r1\\_1 & GC00001342 & GC00001348 & GC00000165\\_r1\\_r1\\_r1\\_1\\_p1 & GC00001290\\_r1\\_1 & GC00001252\\_r1\\_1 & GC00001337 & GC00001315 & GC00001311 & GC00001318 & GC00001249 & GC00001286 & GC00001065\\_r1\\_r1\\_r1\\_1 & GC00001296 & GC00001237 & GC00001201\\_r1\\_1 & GC00001032\\_r1\\_r1\\_1 & GC00001043 & GC00000207\\_r1\\_1\\_p1 & GC00000958\\_r1\\_1 & GC00001285\\_r1\\_1 & GC00001171\\_r1\\_r1\\_1\\_p2 & GC00001387\\_r1\\_1 & GC00001393\\_r1\\_1 & GC00001172\\_r1\\_1\\_p2\\_p2 & GC00001218\\_p2 & GC00001347\\_r1\\_1 & GC00001468 & GC00001463 & GC00001465 & GC00001464 & GC00001466 & GC00001441 & GC00001449 & GC00001448 & GC00001424 & GC00001421 & GC00001423 & GC00001458 & GC00001370\\_2 & GC00001132\\_r1\\_1 & GC00001379\\_2 & GC00001185\\_r1\\_1 & GC00001319\\_r1\\_1 & GC00001161\\_p2 & GC00001354\\_p2 & GC00001322\\_2 & GC00001169\\_r1\\_1\\_p2 & GC00001333\\_r1\\_1 & GC00001432 & GC00001433 & GC00001209\\_r1\\_1 & GC00001277\\_r1\\_1 & GC00001212\\_r1\\_1 & GC00001248\\_r1\\_1 & GC00000771\\_r1\\_r1\\_r1\\_1\\_p1 & GC00001293\\_r1\\_1 & GC00001107\\_r1\\_r1\\_1\\_p2 & GC00001410\\_r1\\_1 & GC00000019\\_1 & GC00001472 & GC00001470 & GC00001456 & GC00001457 & GC00001450 & GC00001452 & GC00001453 & GC00001436 & GC00001437 & GC00001434 & GC00001435 & GC00001430 & GC00001417 & GC00000092\\_r1\\_1\\_p2\\_p1 & GC00001271\\_r1\\_1 & GC00001309\\_r1\\_1 & GC00000734\\_r1\\_r1\\_1\\_p1 & GC00001307\\_r1\\_1 & GC00001389 & GC00001369 & GC00001294\\_r1\\_1 & GC00001406 & GC00001403 & GC00001401 & GC00000019\\_r1\\_2 & GC00001272\\_r1\\_1 & GC00001405 & GC00000860\\_r1\\_r1\\_1\\_p2 & GC00001391 & GC00001320\\_r1\\_1 & GC00001287\\_r1\\_1 & GC00001411 & GC00001192\\_3 & GC00001133\\_r1\\_r1\\_r1\\_1 & GC00001145\\_r1\\_r1\\_1 & GC00001146 & GC00001080\\_r1\\_1 & GC00001108\\_r1\\_r1\\_1 & GC00001044\\_r1\\_r1\\_r1\\_1 & GC00001047\\_r1\\_r1\\_1 & GC00001083\\_4 & GC00001045\\_r1\\_r1\\_1 & GC00000191\\_r1\\_r1\\_r1\\_1 & GC00000974\\_r1\\_r1\\_1 & GC00000859\\_r1\\_r1\\_1 & GC00000883\\_r1\\_1 & GC00000634\\_r1\\_r1\\_2 & GC00001251\\_4 & GC00000077\\_r1\\_r1\\_r1\\_1 & GC00001490 & GC00001493 & GC00001494 & GC00001499 & GC00001087\\_p2 & GC00001531 & GC00001548 & GC00001543 & GC00001540 & GC00001541 & GC00001547 & GC00001545 & GC00001400\\_r1\\_1 & GC00000037\\_r1\\_1 & GC00001506 & GC00001502 & GC00001503 & GC00001501 & GC00000978\\_r1\\_1\\_p1 & GC00001340\\_3 & GC00001521 & GC00001523 & GC00001525 & GC00001527 & GC00001559 & GC00001558 & GC00001552 & GC00001016\\_3 & GC00001419\\_r1\\_1 & GC00001378\\_r1\\_1 & GC00001413\\_r1\\_1 & GC00000934\\_r1\\_1 & GC00001427\\_r1\\_1 & GC00000643\\_2 & GC00001339\\_r1\\_1\\_p2 & GC00000163\\_1 & GC00001483 & GC00001482 & GC00001480 & GC00001352\\_r1\\_1 & GC00001399\\_p2 & GC00001103\\_3 & GC00001416\\_r1\\_1 & GC00000149\\_1 & GC00001440\\_r1\\_1 & GC00001551 & GC00001550 & GC00001555 & GC00001059\\_r1\\_r1\\_1 & GC00001372\\_r1\\_1 & GC00001515 & GC00001514 & GC00001516 & GC00001511 & GC00001510 & GC00001519 & GC00001535 & GC00001534 & GC00001532 & GC00001530 & GC00001528 & GC00001520 & GC00001526 & GC00001478 & GC00001477 & GC00001414\\_r1\\_1 & GC00001057\\_r1\\_1\\_p2 & GC00001539 & GC00001556 & GC00001557 & GC00000171\\_r1\\_1\\_p1 & GC00001447\\_r1\\_1 & GC00001284\\_r1\\_r1\\_1 & GC00001260\\_r1\\_r1\\_1 & GC00001382\\_r1\\_1 & GC00001469 & GC00001467 & GC00001115\\_r1\\_r1\\_1 & GC00001425 & GC00001426 & GC00001429 & GC00001223\\_r1\\_1 & GC00001324\\_r1\\_1 & GC00001459 & GC00001455 & GC00001431 & GC00001224\\_r1\\_1 & GC00001162\\_r1\\_r1\\_r1\\_1 & GC00001122\\_r1\\_r1\\_1 & GC00000965\\_p1 & GC00001289 & GC00001221 & GC00001079\\_r1\\_r1\\_1 & GC00000013\\_r1\\_3 & GC00001121 & GC00001071\\_r1\\_1 & GC00001006\\_r1\\_r1\\_1 & GC00000980\\_r1\\_1 & GC00001621 & GC00001620 & GC00000162\\_r1\\_1 & GC00000160\\_r1\\_1 & GC00001137\\_r1\\_r1\\_r1\\_1\\_p2 & GC00000035\\_r1\\_r1\\_1\\_p2\\_p1 & GC00000168\\_r1\\_r1\\_1\\_p1 & GC00000022\\_7 & GC00001546\\_r1\\_1 & GC00001267\\_r1\\_1 & GC00001397\\_r1\\_1 & GC00001563 & GC00001332\\_r1\\_1 & GC00001096\\_p2 & GC00000182\\_2 & GC00001175\\_p2 & GC00001589 & GC00001584 & GC00001583 & GC00001568 & GC00001564 & GC00001619 & GC00001615 & GC00001613 & GC00001611 & GC00001513\\_2 & GC00001344\\_r1\\_1 & GC00001392\\_r1\\_1 & GC00001588 & GC00001582 & GC00000656\\_2 & GC00001572 & GC00001571 & GC00001570 & GC00001574 & GC00001246\\_r1\\_r1\\_1 & GC00001418\\_r1\\_r1\\_1 & GC00001444\\_r1\\_1 & GC00000030\\_r1\\_3 & GC00000860\\_r1\\_r1\\_1\\_p1 & GC00001008\\_r1\\_r1\\_1 & GC00001257\\_r1\\_1 & GC00001578 & GC00001164\\_4 & GC00001445\\_r1\\_1 & GC00001394\\_r1\\_1 & GC00001385\\_r1\\_1 & GC00001579 & GC00001057\\_r1\\_1\\_p1 & GC00001016\\_r1\\_r1\\_1 & GC00000203\\_2 & GC00000193\\_r1\\_3 & GC00001599 & GC00001598 & GC00001597 & GC00001596 & GC00001591 & GC00001590 & GC00001592 & GC00001495\\_r1\\_1 & GC00001438\\_r1\\_r1\\_1 & GC00001604 & GC00001606 & GC00001601 & GC00001600 & GC00001602 & GC00001254\\_r1\\_1 & GC00000950\\_1 & GC00001281\\_r1\\_1 & GC00001077\\_r1\\_r1\\_1 & GC00001364\\_r1\\_1 & GC00001497 & GC00001325\\_r1\\_2 & GC00001316\\_r1\\_1 & GC00001338\\_4 & GC00001544 & GC00001549 & GC00001321\\_r1\\_1 & GC00001504 & GC00001500 & GC00001361\\_r1\\_2 & GC00001486 & GC00001485 & GC00001489 & GC00001488 & GC00001326\\_r1\\_r1\\_1 & GC00001554 & GC00001517 & GC00001538 & GC00000118\\_r1\\_r1\\_r1\\_1\\_p1 & GC00001529 & GC00001443\\_r1\\_1 & GC00001553 & GC00001058\\_p2 & GC00001149\\_r1\\_r1\\_1 & GC00001462 & GC00001375\\_r1\\_1 & GC00001471 & GC00001374 & GC00001088\\_r1\\_r1\\_1 & GC00001078\\_r1\\_r1\\_1 & GC00001299 & GC00001020\\_r1\\_1 & GC00001174 & GC00001109\\_r1\\_1 & GC00000969\\_r1\\_r1\\_1 & GC00001098\\_r1\\_1 & GC00000982\\_r1\\_2 & GC00000773\\_r1\\_r1\\_r1\\_1 & GC00000947\\_r1\\_1 & GC00000151\\_r1\\_1 & GC00001627 & GC00001625 & GC00001624 & GC00001628 & GC00000023\\_5 & GC00000894\\_3 & GC00001371\\_r1\\_r1\\_1 & GC00000127\\_r1\\_r1\\_1 & GC00001647 & GC00001697 & GC00001690 & GC00000043\\_2 & GC00001475\\_r1\\_1 & GC00000154\\_r1\\_r1\\_r1\\_1 & GC00001612\\_r1\\_1 & GC00000926\\_2 & GC00000957\\_2 & GC00000515\\_2 & GC00001087\\_p1 & GC00001017\\_3 & GC00001726 & GC00001725 & GC00001718 & GC00001713 & GC00001712 & GC00001711 & GC00001710 & GC00001717 & GC00001714 & GC00000843\\_3 & GC00001657 & GC00000292\\_3 & GC00001696 & GC00001695 & GC00001692 & GC00001691 & GC00001698 & GC00001533\\_r1\\_1 & GC00000037\\_3 & GC00000870\\_1 & GC00001667 & GC00001723 & GC00001180\\_r1\\_1\\_p2 & GC00000594\\_r1\\_2 & GC00001652 & GC00001653 & GC00001654 & GC00001655 & GC00001659 & GC00000044\\_2 & GC00001645 & GC00001674 & GC00001670 & GC00001671 & GC00001672 & GC00001673 & GC00001678 & GC00001679 & GC00001724 & GC00000815\\_1 & GC00000211\\_1 & GC00001390\\_r1\\_1 & GC00000979\\_r1\\_1 & GC00001524\\_r1\\_1 & GC00000048\\_2 & GC00001631 & GC00001632 & GC00001633 & GC00001634 & GC00001637 & GC00001638 & GC00000448\\_5 & GC00001595\\_r1\\_1 & GC00000990\\_r1\\_1 & GC00000030\\_r1\\_r1\\_1 & GC00001567\\_r1\\_1 & GC00000915\\_2 & GC00000019\\_r1\\_1 & GC00001518\\_r1\\_1 & GC00001585\\_r1\\_1 & GC00001668 & GC00000876\\_3 & GC00001460\\_r1\\_r1\\_1 & GC00000153\\_2 & GC00000077\\_r1\\_7 & GC00000594\\_7 & GC00001492\\_r1\\_1 & GC00000880\\_1 & GC00000663\\_3 & GC00001722 & GC00001721 & GC00000421\\_3 & GC00001487\\_r1\\_1 & GC00001704 & GC00001705 & GC00001707 & GC00001700 & GC00001701 & GC00001702 & GC00001703 & GC00001708 & GC00001709 & GC00001498\\_r1\\_r1\\_1 & GC00000054\\_2 & GC00001105\\_r1\\_2 & GC00000574\\_r1\\_1 & GC00000012\\_r1\\_1 & GC00000628\\_1 & GC00001096\\_p1 & GC00000643\\_r1\\_1 & GC00001687 & GC00001686 & GC00001681 & GC00001689 & GC00001688 & GC00001694 & GC00001693 & GC00001699 & GC00001214\\_3 & GC00001641 & GC00001649 & GC00001648 & GC00001630 & GC00001581\\_r1\\_1 & GC00000819\\_1 & GC00000203\\_3 & GC00001669 & GC00001663 & GC00001662 & GC00001660 & GC00001666 & GC00001665 & GC00001664 & GC00001684 & GC00000213\\_4 & GC00000782\\_4 & GC00001346\\_r1\\_1 & GC00001522\\_r1\\_1 & GC00001165\\_r1\\_1 & GC00001216\\_r1\\_r1\\_1 & GC00001569 & GC00001614 & GC00001610 & GC00000040\\_2 & GC00001211\\_r1\\_r1\\_1 & GC00001580 & GC00001573 & GC00001577 & GC00001575 & GC00001276\\_r1\\_1 & GC00001442\\_r1\\_2 & GC00001268\\_r1\\_r1\\_1 & GC00000020\\_4 & GC00001594 & GC00001593 & GC00001609 & GC00001608 & GC00001605 & GC00001607 & GC00001603 & GC00001197\\_r1\\_1 & GC00001439\\_r1\\_1 & GC00001412\\_r1\\_1 & GC00001092\\_r1\\_r1\\_r1\\_1 & GC00001388 & GC00001383 & GC00001353\\_r1\\_1 & GC00001181\\_r1\\_2 & GC00001173\\_r1\\_1 & GC00001139\\_r1\\_1 & GC00000212\\_r1\\_r1\\_r1\\_r1\\_1 & GC00001118 & GC00001031\\_r1\\_1 & GC00000193\\_r1\\_r1\\_r1\\_1 & GC00000767\\_r1\\_r1\\_1 & GC00001646\\_r1\\_1 & GC00001011\\_r1\\_1\\_p1 & GC00001587\\_r1\\_1 & GC00001685\\_2 & GC00001159\\_p2 & GC00000074\\_r1\\_r1\\_1 & GC00001799 & GC00001798 & GC00001643\\_r1\\_1 & GC00000045\\_r1\\_4 & GC00000771\\_r1\\_r1\\_r1\\_1\\_p2\\_p1 & GC00001730 & GC00001737 & GC00000151\\_5 & GC00001124\\_r1\\_1\\_p2 & GC00001474\\_r1\\_1 & GC00000050\\_2 & GC00001778 & GC00001775 & GC00001774 & GC00001771 & GC00001773 & GC00001476\\_r1\\_1 & GC00001757 & GC00001756 & GC00001755 & GC00001753 & GC00001750 & GC00001759 & GC00001758 & GC00001810 & GC00001811 & GC00001812 & GC00000920\\_4 & GC00000046\\_r1\\_1 & GC00001244\\_r1\\_2 & GC00001789 & GC00001787 & GC00000935\\_1 & GC00001676\\_r1\\_1 & GC00001788 & GC00000627\\_r1\\_1\\_p1 & GC00001512\\_r1\\_1 & GC00001784 & GC00001785 & GC00001782 & GC00001783 & GC00000186\\_p1 & GC00001769 & GC00001761 & GC00000651\\_r1\\_1 & GC00001795 & GC00001794 & GC00001792 & GC00001790 & GC00001728 & GC00001729 & GC00001768 & GC00001766 & GC00001762 & GC00001760 & GC00001796 & GC00001138\\_p2 & GC00001743 & GC00001744 & GC00001745 & GC00001746 & GC00001747 & GC00001748 & GC00000076\\_r1\\_r1\\_r1\\_r1\\_r1\\_1 & GC00000013\\_r1\\_5 & GC00001749 & GC00000076\\_r1\\_1 & GC00001496\\_r1\\_1 & GC00001803 & GC00001802 & GC00001801 & GC00001800 & GC00001807 & GC00001806 & GC00001804 & GC00001809 & GC00001808 & GC00000805\\_1 & GC00001791 & GC00000792\\_1 & GC00001797 & GC00001156\\_r1\\_r1\\_1 & GC00000881\\_1 & GC00001491\\_r1\\_1 & GC00001409\\_r1\\_1\\_p2 & GC00000836\\_r1\\_r1\\_r1\\_1 & GC00001716 & GC00000194\\_1 & GC00001656 & GC00001680 & GC00001586\\_r1\\_1 & GC00001639 & GC00000799\\_7 & GC00000847\\_2 & GC00000643\\_r1\\_r1\\_1\\_p1 & GC00000178\\_r1\\_1\\_p1 & GC00000241\\_4 & GC00000064\\_r1\\_1 & GC00000181\\_p1 & GC00001640 & GC00001682 & GC00001222\\_r1\\_r1\\_1 & GC00001366\\_r1\\_r1\\_r1\\_1 & GC00001402\\_r1\\_r1\\_r1\\_1 & GC00001359\\_r1\\_1 & GC00001446\\_1 & GC00001058\\_p1 & GC00001358\\_2 & GC00001473 & GC00001147\\_4 & GC00001204 & GC00001207 & GC00001160 & GC00000794\\_r1\\_r1\\_r1\\_1 & GC00001163\\_r1\\_1\\_p2 & GC00001779\\_2 & GC00000126\\_2 & GC00001715\\_p2 & GC00001855 & GC00000050\\_3 & GC00001565\\_r1\\_2 & GC00000053\\_r1\\_1\\_p2\\_p1 & GC00000051\\_5 & GC00001838 & GC00001839 & GC00001833 & GC00001830 & GC00001831 & GC00001834 & GC00001814 & GC00001815 & GC00001816 & GC00001763\\_2 & GC00001243\\_p2 & GC00001876 & GC00001874 & GC00001872 & GC00001858 & GC00001859 & GC00001853 & GC00001854 & GC00001179\\_r1\\_2 & GC00001851 & GC00001852 & GC00001856 & GC00001857 & GC00000741\\_3 & GC00001843 & GC00000800\\_r1\\_1 & GC00001841 & GC00000009\\_r1\\_8 & GC00000122\\_2 & GC00001846 & GC00001845 & GC00001842 & GC00001560\\_r1\\_r1\\_1 & GC00000972\\_r1\\_1\\_p1 & GC00000185\\_1 & GC00001650\\_2 & GC00001683\\_r1\\_1 & GC00001862 & GC00001138\\_p1 & GC00001828 & GC00001821 & GC00001820 & GC00001822 & GC00001825 & GC00001824 & GC00001827 & GC00001826 & GC00001677\\_r1\\_1 & GC00001865 & GC00001864 & GC00001867 & GC00001866 & GC00001861 & GC00001860 & GC00001863 & GC00001869 & GC00001868 & GC00001848 & GC00001847 & GC00001844 & GC00001840 & GC00000219\\_r1\\_r1\\_r1\\_r1\\_1 & GC00000167\\_3 & GC00001509\\_r1\\_r1\\_r1\\_1 & GC00001536\\_r1\\_1 & GC00001616\\_3 & GC00001786 & GC00001781 & GC00001793 & GC00001765 & GC00001805 & GC00001651 & GC00001675 & GC00001329\\_r1\\_r1\\_1 & GC00001345\\_r1\\_1 & GC00001128\\_r1\\_1 & GC00001046\\_r1\\_r1\\_1 & GC00000987\\_r1\\_r1\\_1 & GC00000139\\_r1\\_1 & GC00000924\\_5 & GC00001215\\_r1\\_1 & GC00000045\\_r1\\_1 & GC00001919 & GC00001918 & GC00001913 & GC00001915 & GC00001914 & GC00001917 & GC00001897 & GC00001932 & GC00001937 & GC00001935 & GC00001934 & GC00001938 & GC00000863\\_2 & GC00001740\\_r1\\_1 & GC00001735\\_r1\\_r1\\_1 & GC00001124\\_r1\\_1\\_p1 & GC00001008\\_r1\\_1 & GC00001097\\_p1 & GC00001301\\_p2 & GC00001020\\_2 & GC00001159\\_p1 & GC00001077\\_r1\\_1 & GC00001894 & GC00000105\\_2 & GC00001461\\_r1\\_r1\\_1\\_p2 & GC00000963\\_3 & GC00001770\\_r1\\_r1\\_1 & GC00001059\\_3 & GC00001908 & GC00001903 & GC00001906 & GC00001904 & GC00001202\\_p1 & GC00001928 & GC00001924 & GC00001926 & GC00001927 & GC00001920 & GC00001921 & GC00001922 & GC00001923 & GC00001764\\_r1\\_r1\\_1 & GC00001720\\_r1\\_1 & GC00000039\\_1 & GC00001946 & GC00001944 & GC00001945 & GC00001943 & GC00001940 & GC00001948 & GC00001078\\_r1\\_1 & GC00000930\\_1 & GC00001733\\_r1\\_1 & GC00001357\\_r1\\_1 & GC00001837\\_r1\\_1 & GC00001776\\_r1\\_1 & GC00001898 & GC00001896 & GC00001780\\_r1\\_1 & GC00001832 & GC00001878 & GC00001623\\_r1\\_r1\\_1 & GC00001850 & GC00000860\\_2 & GC00000857\\_1 & GC00001732 & GC00000147\\_r1\\_1\\_p1 & GC00000093\\_4 & GC00001626\\_r1\\_1 & GC00001719 & GC00001507\\_r1\\_1 & GC00001481\\_r1\\_1 & GC00001247\\_r1\\_1 & GC00001184\\_r1\\_1 & GC00001203\\_r1\\_1 & GC00001194 & GC00001484\\_r1\\_1 & GC00000191\\_6 & GC00000763\\_1 & GC00000136\\_p1\\_p1 & GC00001618\\_r1\\_1 & GC00001953 & GC00001959 & GC00001958 & GC00001976 & GC00001975 & GC00001972 & GC00001971 & GC00001941\\_2 & GC00000034\\_10 & GC00000009\\_18 & GC00001992 & GC00001995 & GC00001997 & GC00001999 & GC00001998 & GC00000008\\_8 & GC00001884\\_r1\\_1 & GC00002008 & GC00002009 & GC00002002 & GC00002006 & GC00002007 & GC00002004 & GC00002005 & GC00001962 & GC00001963 & GC00000009\\_31 & GC00001900\\_r1\\_1 & GC00001629\\_r1\\_2 & GC00001970 & GC00001890\\_r1\\_1 & GC00001929\\_r1\\_1 & GC00001772\\_r1\\_2 & GC00001983 & GC00001989 & GC00001985 & GC00001156\\_r1\\_1 & GC00000123\\_4 & GC00001835\\_r1\\_1 & GC00001969 & GC00001960 & GC00001965 & GC00001966 & GC00001967 & GC00001991 & GC00001990 & GC00001993 & GC00001996 & GC00001986 & GC00001987 & GC00001984 & GC00000969\\_r1\\_1 & GC00001942\\_2 & GC00001767\\_2 & GC00001873\\_p2 & GC00002018 & GC00002015 & GC00002014 & GC00002017 & GC00001451\\_r1\\_1 & GC00001562\\_r1\\_1\\_p2 & GC00001105\\_r1\\_r1\\_1 & GC00001415\\_r1\\_r1\\_3 & GC00001939 & GC00000122\\_3 & GC00001202\\_p2 & GC00001947 & GC00001817\\_2 & GC00001508\\_r1\\_r1\\_1 & GC00001905 & GC00001895 & GC00001875 & GC00001731\\_r1\\_1 & GC00001127\\_r1\\_r1\\_1 & GC00000221\\_r1\\_r1\\_r1\\_1 & GC00000967\\_r1\\_r1\\_r1\\_1 & GC00000896\\_r1\\_r1\\_r1\\_1 & GC00002055 & GC00002056 & GC00002050 & GC00002053 & GC00002052 & GC00002059 & GC00002058 & GC00001980\\_r1\\_1 & GC00002079 & GC00002078 & GC00002075 & GC00002073 & GC00002072 & GC00002071 & GC00002070 & GC00000622\\_r1\\_r1\\_1 & GC00000025\\_r1\\_r1\\_1 & GC00001888\\_1 & GC00001955\\_r1\\_1 & GC00000856\\_r1\\_1\\_p1 & GC00000053\\_r1\\_1\\_p1\\_p1 & GC00001243\\_p1 & GC00001936\\_r1\\_1 & GC00001301\\_p1 & GC00002029 & GC00002023 & GC00002047 & GC00002044 & GC00002045 & GC00002042 & GC00002040 & GC00001636\\_r1\\_r1\\_1 & GC00002069 & GC00002060 & GC00002061 & GC00002062 & GC00002063 & GC00002064 & GC00002066 & GC00002080 & GC00002081 & GC00002084 & GC00000773\\_r1\\_r1\\_1 & GC00001088\\_1 & GC00001742\\_r1\\_r1\\_1 & GC00001881\\_r1\\_1 & GC00000944\\_r1\\_r1\\_r1\\_1\\_p1 & GC00000234\\_r1\\_1 & GC00001988\\_r1\\_1 & GC00000622\\_r1\\_2 & GC00000198\\_5 & GC00000066\\_3 & GC00002036 & GC00002038 & GC00002000\\_r1\\_1 & GC00000193\\_7 & GC00001977 & GC00001974 & GC00001994 & GC00002001 & GC00001886\\_r1\\_1 & GC00001741\\_r1\\_1 & GC00002011 & GC00002010 & GC00001880 & GC00001879\\_2 & GC00001930 & GC00001949 & GC00001871 & GC00001537\\_r1\\_1 & GC00001561 & GC00002090 & GC00002093 & GC00002092 & GC00002097 & GC00002096 & GC00002099 & GC00001961\\_r1\\_1 & GC00002138 & GC00002139 & GC00002132 & GC00002133 & GC00002131 & GC00002136 & GC00000045\\_r1\\_3 & GC00002118 & GC00002114 & GC00002113 & GC00002151 & GC00002152 & GC00002156 & GC00001925\\_r1\\_1\\_p2 & GC00002027\\_r1\\_1 & GC00002158 & GC00001127\\_r1\\_2 & GC00002022\\_r1\\_1 & GC00002140 & GC00002031\\_r1\\_1 & GC00000172\\_2 & GC00002026\\_2 & GC00001893\\_r1\\_1 & GC00001175\\_p1 & GC00000198\\_r1\\_2 & GC00002048\\_r1\\_1 & GC00002068\\_r1\\_1 & GC00002051\\_r1\\_1 & GC00001738\\_r1\\_1 & GC00001104\\_3 & GC00002089 & GC00002129 & GC00002128 & GC00001727\\_p2 & GC00002101 & GC00002105 & GC00002108 & GC00000074\\_1 & GC00000962\\_4 & GC00002127 & GC00002165 & GC00002164 & GC00002166 & GC00002161 & GC00002160 & GC00002163 & GC00002162 & GC00002148 & GC00002145 & GC00002143 & GC00002142 & GC00001823\\_r1\\_r1\\_1 & GC00000236\\_5 & GC00002154 & GC00000149\\_r1\\_1\\_p1 & GC00001954\\_r1\\_1 & GC00002141 & GC00000135\\_r1\\_r1\\_1 & GC00002003\\_r1\\_1 & GC00002020\\_r1\\_1 & GC00001106\\_r1\\_1\\_p1 & GC00000656\\_r1\\_r1\\_r1\\_1\\_p1 & GC00002077 & GC00002076 & GC00002074 & GC00001428\\_r1\\_r1\\_1 & GC00002028 & GC00002046 & GC00002013\\_r1\\_1 & GC00001952\\_2 & GC00000030\\_r1\\_2 & GC00001706\\_r1\\_r1\\_r1\\_1 & GC00001829\\_r1\\_r1\\_1 & GC00000162\\_r1\\_r1\\_1\\_p1 & GC00000747\\_2 & GC00002037 & GC00001891\\_r1\\_1 & GC00001836\\_r1\\_1 & GC00001887\\_r1\\_1 & GC00001576\\_r1\\_1 & GC00001819\\_r1\\_1 & GC00001658 & GC00001300\\_r1\\_1 & GC00002280 & GC00002281 & GC00002282 & GC00002283 & GC00002284 & GC00001377\\_r1\\_1 & GC00001892\\_r1\\_r1\\_1 & GC00002174 & GC00002175 & GC00002179 & GC00002121\\_r1\\_1 & GC00002202 & GC00002197 & GC00002192 & GC00002193 & GC00002270 & GC00002275 & GC00002277 & GC00000232\\_p1 & GC00002150\\_2 & GC00002252 & GC00002251 & GC00002250 & GC00002258 & GC00002107\\_r1\\_1 & GC00002211 & GC00002235 & GC00002234 & GC00002231 & GC00002218 & GC00002215 & GC00002213 & GC00000187\\_1 & GC00001982\\_r1\\_r1\\_1 & GC00001950\\_r1\\_r1\\_1 & GC00000119\\_2 & GC00002157\\_r1\\_1 & GC00001161\\_p1 & GC00002253 & GC00000154\\_r1\\_r1\\_2 & GC00002262 & GC00002263 & GC00002261 & GC00002266 & GC00002267 & GC00002264 & GC00000057\\_4 & GC00001163\\_r1\\_1\\_p1 & GC00000032\\_r1\\_2 & GC00002159\\_r1\\_1 & GC00002181 & GC00002273 & GC00002276 & GC00002147\\_r1\\_1 & GC00002189 & GC00002188 & GC00002183 & GC00002185 & GC00002088\\_r1\\_1 & GC00002248 & GC00002244 & GC00002246 & GC00002247 & GC00002240 & GC00002241 & GC00002242 & GC00000210\\_3 & GC00002117\\_2 & GC00002245 & GC00002221 & GC00002034\\_r1\\_1 & GC00001377\\_5 & GC00002249 & GC00002257 & GC00002256 & GC00002255 & GC00001081\\_r1\\_1\\_p1 & GC00002269 & GC00000690\\_r1\\_r1\\_1 & GC00002110\\_r1\\_1 & GC00002135 & GC00002155 & GC00001957\\_r1\\_1 & GC00000013\\_15 & GC00001180\\_r1\\_1\\_p1 & GC00002067\\_r1\\_1 & GC00002087 & GC00002126 & GC00002102 & GC00002167 & GC00002033\\_r1\\_1 & GC00000857\\_2 & GC00001899\\_r1\\_r1\\_1 & GC00001882\\_r1\\_r1\\_1 & GC00000129\\_13 & GC00002012 & GC00002016 & GC00001910 & GC00001420\\_r1\\_r1\\_1 & GC00001622 & GC00001112\\_r1\\_r1\\_r1\\_1 & GC00002286 & GC00002287 & GC00002288 & GC00001931\\_3 & GC00000107\\_4 & GC00000896\\_r1\\_r1\\_2 & GC00000622\\_r1\\_r1\\_r1\\_1\\_p1 & GC00001132\\_3 & GC00000193\\_4 & GC00000017\\_6 & GC00002302 & GC00002305 & GC00002304 & GC00002307 & GC00002309 & GC00000010\\_4 & GC00002323 & GC00002320 & GC00002326 & GC00002325 & GC00002324 & GC00002371 & GC00002375 & GC00002144\\_r1\\_2 & GC00002194\\_r1\\_1 & GC00002349 & GC00002348 & GC00002345 & GC00002347 & GC00002346 & GC00002341 & GC00002343 & GC00001107\\_1 & GC00000447\\_p1 & GC00002403 & GC00002149\\_r1\\_2 & GC00002367 & GC00002363 & GC00002362 & GC00002361 & GC00002360 & GC00002368 & GC00000132\\_12 & GC00002366 & GC00002365 & GC00000355\\_r1\\_1\\_p1 & GC00001727\\_p1 & GC00001215\\_5 & GC00000077\\_14 & GC00001635\\_r1\\_r1\\_1 & GC00001505\\_r1\\_r1\\_2 & GC00002408 & GC00002406 & GC00002407 & GC00002404 & GC00002405 & GC00002402 & GC00000919\\_r1\\_r1\\_r1\\_1 & GC00002400 & GC00002401 & GC00000120\\_1 & GC00002035\\_4 & GC00002196\\_r1\\_1 & GC00002153\\_r1\\_1 & GC00002399 & GC00002391 & GC00002394 & GC00002395 & GC00000077\\_9 & GC00002065\\_p2 & GC00001968\\_r1\\_1 & GC00002393 & GC00002137\\_r1\\_r1\\_1 & GC00000052\\_4 & GC00002274\\_r1\\_1 & GC00002294 & GC00002291 & GC00002290 & GC00002299 & GC00002296 & GC00002095\\_2 & GC00002313 & GC00002310 & GC00002311 & GC00002314 & GC00002318 & GC00002383 & GC00002134\\_r1\\_1 & GC00002382 & GC00002335 & GC00002336 & GC00002337 & GC00002385 & GC00002359 & GC00002356 & GC00002355 & GC00002350 & GC00002351 & GC00002392 & GC00002390 & GC00002396 & GC00002397 & GC00002190\\_r1\\_1 & GC00002370 & GC00002373 & GC00002374 & GC00002376 & GC00002378 & GC00002379 & GC00001179\\_r1\\_1 & GC00000080\\_9 & GC00002272\\_2 & GC00002232\\_r1\\_1 & GC00002380 & GC00002387 & GC00002120\\_r1\\_1 & GC00002116\\_r1\\_r1\\_1 & GC00000045\\_4 & GC00002418 & GC00002415 & GC00002416 & GC00002411 & GC00002413 & GC00001907\\_p2 & GC00000393\\_r1\\_1 & GC00000734\\_2 & GC00002030\\_r1\\_2 & GC00000944\\_r1\\_r1\\_1 & GC00002389 & GC00002388 & GC00002381 & GC00002384 & GC00002386 & GC00000001\\_43 & GC00002019\\_r1\\_2 & GC00000044\\_3 & GC00000125\\_1 & GC00002285 & GC00002115\\_2 & GC00002176 & GC00002201 & GC00002206 & GC00002191 & GC00002279 & GC00002217 & GC00002230 & GC00002233 & GC00002024\\_r1\\_1 & GC00001661\\_r1\\_1\\_p2 & GC00000259\\_2 & GC00000006\\_r1\\_1 & GC00000139\\_3 & GC00002182 & GC00002054\\_r1\\_1 & GC00002184 & GC00002100\\_r1\\_1 & GC00002041\\_3 & GC00000482\\_r1\\_5\\_p2 & GC00002229 & GC00002091 & GC00000884\\_2 & GC00002130 & GC00002170 & GC00001956\\_r1\\_1 & GC00001978\\_r1\\_1 & GC00002123 & GC00002125 & GC00000139\\_4 & GC00001356\\_r1\\_r1\\_r1\\_1 & GC00002021 & GC00001933\\_r1\\_1 & GC00001964 & GC00001883 & GC00001736\\_r1\\_1 & GC00001312\\_r1\\_r1\\_1 & GC00002538 & GC00002539 & GC00002536 & GC00002537 & GC00002534 & GC00002535 & GC00002532 & GC00002533 & GC00002531 & GC00000209\\_1 & GC00002510 & GC00002511 & GC00002514 & GC00002515 & GC00002516 & GC00002517 & GC00002518 & GC00002338\\_r1\\_1 & GC00002582 & GC00002530 & GC00000003\\_2 & GC00001103\\_r1\\_1 & GC00001870\\_5 & GC00000147\\_3 & GC00002483 & GC00000817\\_r1\\_2 & GC00002488 & GC00002622 & GC00002623 & GC00002620 & GC00002621 & GC00002626 & GC00002624 & GC00002425 & GC00002426 & GC00002608 & GC00002604 & GC00002605 & GC00002606 & GC00002607 & GC00002600 & GC00002601 & GC00002603 & GC00000804\\_r1\\_1 & GC00002443 & GC00002441 & GC00002444 & GC00002445 & GC00002448 & GC00002452 & GC00002455 & GC00002334\\_r1\\_1 & GC00000251\\_3 & GC00002464 & GC00002465 & GC00002466 & GC00002460 & GC00002462 & GC00002463 & GC00002468 & GC00002469 & GC00002573 & GC00002570 & GC00001813\\_1 & GC00002551 & GC00000776\\_1 & GC00002364\\_r1\\_1 & GC00002301\\_2 & GC00002595 & GC00002344\\_r1\\_1 & GC00002423 & GC00002424 & GC00002427 & GC00002428 & GC00000206\\_r1\\_r1\\_1\\_p1 & GC00000154\\_r1\\_3 & GC00002588 & GC00002587 & GC00002586 & GC00002585 & GC00002580 & GC00001422\\_r1\\_5 & GC00002377\\_2 & GC00002596 & GC00001912\\_r1\\_r1\\_1 & GC00002563 & GC00002562 & GC00002565 & GC00002564 & GC00002567 & GC00002566 & GC00002569 & GC00002568 & GC00002575 & GC00002119\\_r1\\_r1\\_1 & GC00002549 & GC00002543 & GC00002542 & GC00002541 & GC00002540 & GC00002547 & GC00002546 & GC00002545 & GC00000648\\_1 & GC00002236\\_r1\\_r1\\_1 & GC00002353\\_r1\\_1 & GC00002529 & GC00002528 & GC00002525 & GC00002524 & GC00002527 & GC00002521 & GC00002520 & GC00002523 & GC00001813\\_r1\\_1 & GC00000656\\_r1\\_1 & GC00001661\\_r1\\_1\\_p1 & GC00002584 & GC00002507 & GC00002506 & GC00002504 & GC00002502 & GC00002501 & GC00002500 & GC00002509 & GC00002254\\_r1\\_2 & GC00002590 & GC00002332\\_r1\\_1 & GC00002597 & GC00000077\\_r1\\_5 & GC00002572 & GC00002571 & GC00002577 & GC00002574 & GC00001169\\_r1\\_1\\_p1 & GC00002508 & GC00000622\\_9 & GC00002450 & GC00002453 & GC00002495 & GC00002494 & GC00002497 & GC00002499 & GC00000833\\_2 & GC00002613 & GC00002612 & GC00002611 & GC00002610 & GC00002617 & GC00002615 & GC00002619 & GC00002618 & GC00000999\\_3 & GC00002025\\_r1\\_1 & GC00002561 & GC00002560 & GC00002479 & GC00002470 & GC00002475 & GC00002553 & GC00001907\\_p1 & GC00002435 & GC00002433 & GC00002432 & GC00002431 & GC00002430 & GC00002478 & GC00002476 & GC00002599 & GC00002451 & GC00000145\\_r1\\_1 & GC00002177\\_r1\\_1 & GC00002456 & GC00002578 & GC00002579 & GC00001357\\_2 & GC00002308\\_r1\\_1 & GC00002548 & GC00001916\\_r1\\_1 & GC00002268\\_r1\\_2 & GC00002554 & GC00002550 & GC00002552 & GC00002558 & GC00002559 & GC00002204\\_r1\\_1 & GC00002303 & GC00002328 & GC00002321 & GC00002372 & GC00002342 & GC00002414 & GC00002369 & GC00000956\\_r1\\_1\\_p1 & GC00001849\\_r1\\_r1\\_1 & GC00001566\\_r1\\_r1\\_1 & GC00002198\\_2 & GC00002106\\_r1\\_1 & GC00001092\\_r1\\_1 & GC00002420 & GC00000198\\_r1\\_4 & GC00002398 & GC00002295 & GC00002224\\_r1\\_1 & GC00002316 & GC00002315 & GC00001981\\_r1\\_1 & GC00002354 & GC00002352 & GC00001103\\_2 & GC00001951\\_p2 & GC00002409 & GC00002419 & GC00002057\\_r1\\_r1\\_1 & GC00002049\\_r1\\_r1\\_1 & GC00002203 & GC00002207 & GC00002238 & GC00002187 & GC00002186 & GC00002243 & GC00002228 & GC00001734\\_r1\\_1 & GC00001542\\_r1\\_r1\\_1 & GC00001739\\_r1\\_r1\\_1 & GC00000174\\_r1\\_1 & GC00002043\\_r1\\_r1\\_1 & GC00002899 & GC00002898 & GC00002891 & GC00002890 & GC00002893 & GC00002892 & GC00002894 & GC00002897 & GC00002896 & GC00002926 & GC00002292\\_r1\\_1 & GC00002806 & GC00002298\\_r1\\_1 & GC00002798 & GC00002799 & GC00002796 & GC00002797 & GC00002794 & GC00002795 & GC00002792 & GC00002793 & GC00002790 & GC00002791 & GC00000995\\_3 & GC00001176\\_r1\\_1\\_p1 & GC00002472\\_r1\\_1 & GC00000156\\_2 & GC00002802 & GC00002801 & GC00002809 & GC00001454\\_7 & GC00000896\\_4 & GC00002522\\_r1\\_1 & GC00002629 & GC00002810 & GC00002813 & GC00002812 & GC00002819 & GC00002438\\_r1\\_1 & GC00002930 & GC00002931 & GC00002935 & GC00002747 & GC00002486\\_2 & GC00002180\\_r1\\_1 & GC00002839 & GC00002838 & GC00002833 & GC00002832 & GC00002831 & GC00002830 & GC00002836 & GC00002835 & GC00002811 & GC00002815 & GC00002814 & GC00002817 & GC00002664 & GC00002662 & GC00002668 & GC00002635 & GC00002858 & GC00002648 & GC00002649 & GC00002641 & GC00002642 & GC00002643 & GC00002645 & GC00002882 & GC00002886 & GC00002887 & GC00002884 & GC00002874 & GC00002873 & GC00002871 & GC00002870 & GC00002879 & GC00002878 & GC00002922 & GC00002925 & GC00002924 & GC00000013\\_12 & GC00001505\\_r1\\_r1\\_1 & GC00002695 & GC00002473\\_r1\\_1 & GC00002933 & GC00002934 & GC00002938 & GC00002939 & GC00002685 & GC00002680 & GC00002682 & GC00002683 & GC00002688 & GC00002689 & GC00002226\\_p2 & GC00001356\\_3 & GC00002749 & GC00002741 & GC00002740 & GC00002746 & GC00002122\\_r1\\_r1\\_2 & GC00002914 & GC00002915 & GC00002916 & GC00002917 & GC00002910 & GC00002911 & GC00002913 & GC00002919 & GC00001973\\_r1\\_r1\\_r1\\_1 & GC00002763 & GC00002762 & GC00002761 & GC00002760 & GC00002765 & GC00002764 & GC00002769 & GC00002768 & GC00002457\\_2 & GC00002770 & GC00002705 & GC00002704 & GC00002707 & GC00002706 & GC00002701 & GC00002702 & GC00002583\\_r1\\_1 & GC00000236\\_7 & GC00002951 & GC00002954 & GC00002956 & GC00002745 & GC00002729 & GC00002728 & GC00002727 & GC00002725 & GC00002724 & GC00002723 & GC00002722 & GC00001901\\_2 & GC00000052\\_6 & GC00000191\\_3 & GC00002442\\_r1\\_1 & GC00002889 & GC00002883 & GC00002885 & GC00002955 & GC00002357\\_r1\\_1 & GC00002665 & GC00002663 & GC00000193\\_r1\\_1 & GC00001951\\_p1 & GC00002789 & GC00002788 & GC00002785 & GC00002787 & GC00002786 & GC00002781 & GC00002783 & GC00002782 & GC00002691 & GC00002690 & GC00002306\\_r1\\_1 & GC00002124\\_p2 & GC00002124\\_p1 & GC00002556\\_r1\\_1 & GC00002711 & GC00000682\\_1 & GC00002227\\_p2 & GC00002803 & GC00002800 & GC00002807 & GC00002808 & GC00002639 & GC00002638 & GC00002631 & GC00002630 & GC00002637 & GC00002636 & GC00002519\\_2 & GC00002824 & GC00002826 & GC00002820 & GC00002821 & GC00002823 & GC00002828 & GC00002829 & GC00002491\\_r1\\_1 & GC00000016\\_r1\\_r1\\_1\\_p1\\_p1 & GC00002109\\_r1\\_1 & GC00002848 & GC00002846 & GC00002847 & GC00002845 & GC00002842 & GC00002843 & GC00002841 & GC00002675 & GC00002674 & GC00002671 & GC00002673 & GC00002679 & GC00000001\\_45 & GC00002863 & GC00002864 & GC00002868 & GC00002869 & GC00002862 & GC00002171\\_r1\\_1 & GC00002656 & GC00002655 & GC00002654 & GC00002653 & GC00002650 & GC00002172\\_r1\\_1 & GC00002169\\_p1 & GC00000045\\_3 & GC00002223\\_2 & GC00002738 & GC00002733 & GC00002758 & GC00002752 & GC00002753 & GC00002750 & GC00002751 & GC00002754 & GC00002755 & GC00002921 & GC00002920 & GC00002929 & GC00002928 & GC00002699 & GC00002698 & GC00000198\\_r1\\_1 & GC00002778 & GC00002779 & GC00002774 & GC00002775 & GC00002776 & GC00002777 & GC00002772 & GC00002773 & GC00002909 & GC00002908 & GC00002903 & GC00002902 & GC00002901 & GC00002900 & GC00002907 & GC00002906 & GC00002904 & GC00002716 & GC00002715 & GC00002712 & GC00002718 & GC00002719 & GC00002696 & GC00002459\\_r1\\_1 & GC00000001\\_46 & GC00002219\\_p2 & GC00001979\\_r1\\_r1\\_1 & GC00002739 & GC00002730 & GC00002732 & GC00002734 & GC00002737 & GC00002947 & GC00002946 & GC00002943 & GC00002942 & GC00002941 & GC00002949 & GC00002948 & GC00002169\\_p2 & GC00000045\\_r1\\_2 & GC00002609 & GC00002602 & GC00002447 & GC00002111\\_r1\\_1 & GC00002492 & GC00002498 & GC00002458 & GC00002471 & GC00002220\\_r1\\_1 & GC00002436 & GC00000571\\_6 & GC00002289 & GC00000076\\_r1\\_r1\\_2 & GC00000032\\_r1\\_r1\\_1 & GC00002039\\_2 & GC00000013\\_4 & GC00002098\\_r1\\_r1\\_1 & GC00002331 & GC00002417 & GC00002032\\_r1\\_1 & GC00001617\\_p2 & GC00003228 & GC00003221 & GC00003223 & GC00003222 & GC00003224 & GC00003227 & GC00003226 & GC00003034 & GC00003032 & GC00003293 & GC00003203 & GC00003202 & GC00003200 & GC00003207 & GC00003206 & GC00003204 & GC00003208 & GC00003160 & GC00003054 & GC00003052 & GC00003050 & GC00001635\\_r1\\_2 & GC00000139\\_5 & GC00003265 & GC00003264 & GC00003267 & GC00003266 & GC00003261 & GC00003260 & GC00003263 & GC00003262 & GC00003269 & GC00003268 & GC00003305 & GC00001211\\_r1\\_1 & GC00003070 & GC00003071 & GC00003072 & GC00003073 & GC00003074 & GC00002219\\_p1 & GC00002322\\_r1\\_1 & GC00002180\\_1 & GC00000831\\_2 & GC00002449\\_r1\\_1 & GC00003400 & GC00003403 & GC00003249 & GC00003248 & GC00003247 & GC00003245 & GC00003244 & GC00003241 & GC00003240 & GC00002576\\_r1\\_1 & GC00001052\\_r1\\_1 & GC00000790\\_1 & GC00001454\\_5 & GC00003168 & GC00003169 & GC00003163 & GC00003161 & GC00003167 & GC00003164 & GC00003165 & GC00000214\\_r1\\_r1\\_1\\_p1 & GC00003282 & GC00003281 & GC00003280 & GC00002982 & GC00000428\\_1 & GC00000782\\_3 & GC00002984 & GC00002496\\_r1\\_1 & GC00003148 & GC00003149 & GC00003147 & GC00003140 & GC00003142 & GC00000967\\_r1\\_r1\\_1 & GC00002555\\_r1\\_1 & GC00000137\\_4 & GC00000771\\_5 & GC00003123 & GC00003120 & GC00003128 & GC00002439\\_p2 & GC00001149\\_r1\\_2 & GC00000967\\_r1\\_2 & GC00001209\\_1 & GC00000646\\_p1 & GC00000709\\_r1\\_1 & GC00003313 & GC00003312 & GC00003315 & GC00000745\\_1 & GC00003416 & GC00003417 & GC00003414 & GC00003415 & GC00003412 & GC00003410 & GC00003411 & GC00003419 & GC00003081 & GC00003082 & GC00003086 & GC00003337 & GC00003339 & GC00002172\\_1 & GC00000046\\_4 & GC00003439 & GC00003435 & GC00000920\\_5 & GC00003356 & GC00003351 & GC00003350 & GC00003353 & GC00003352 & GC00003359 & GC00003358 & GC00000154\\_r1\\_2 & GC00003182 & GC00003184 & GC00003186 & GC00002932\\_2 & GC00002592\\_r1\\_1 & GC00002513\\_p2 & GC00002974 & GC00002975 & GC00002972 & GC00002971 & GC00003379 & GC00003377 & GC00003376 & GC00003375 & GC00003374 & GC00003373 & GC00003371 & GC00002065\\_p1 & GC00000025\\_3 & GC00003391 & GC00003390 & GC00003397 & GC00003396 & GC00003399 & GC00003398 & GC00003129 & GC00003233 & GC00003230 & GC00003231 & GC00003236 & GC00002461\\_r1\\_1 & GC00003000 & GC00003002 & GC00003005 & GC00003004 & GC00003007 & GC00003006 & GC00003024 & GC00000623\\_4 & GC00003360 & GC00002646\\_r1\\_1 & GC00001916\\_1 & GC00001916\\_2 & GC00001752\\_r1\\_r1\\_r1\\_1\\_p2 & GC00003274 & GC00003275 & GC00003272 & GC00003273 & GC00003270 & GC00003271 & GC00003278 & GC00003045 & GC00003046 & GC00002998 & GC00002999 & GC00002996 & GC00002731\\_r1\\_1 & GC00003258 & GC00003259 & GC00003250 & GC00003251 & GC00003252 & GC00003253 & GC00003254 & GC00003255 & GC00003256 & GC00000154\\_r1\\_r1\\_1 & GC00003064 & GC00000204\\_r1\\_r1\\_2 & GC00000999\\_4 & GC00003257 & GC00001114\\_1 & GC00000198\\_3 & GC00003181 & GC00001165\\_3 & GC00000919\\_r1\\_1 & GC00002227\\_p1 & GC00002968 & GC00000044\\_r1\\_3 & GC00003297 & GC00002983 & GC00003105 & GC00003171 & GC00003170 & GC00003173 & GC00003172 & GC00003174 & GC00003177 & GC00000039\\_5 & GC00000663\\_r1\\_2 & GC00002994 & GC00003277 & GC00003456 & GC00003455 & GC00003152 & GC00003151 & GC00003150 & GC00003157 & GC00003156 & GC00003155 & GC00003154 & GC00003159 & GC00003158 & GC00003242 & GC00001618\\_1 & GC00001081\\_1 & GC00000015\\_1 & GC00003135 & GC00003134 & GC00002300\\_p2 & GC00000028\\_2 & GC00002989 & GC00002988 & GC00001901\\_r1\\_r1\\_r1\\_1 & GC00000198\\_8 & GC00003441 & GC00003114 & GC00003119 & GC00003117 & GC00003440 & GC00003100 & GC00000919\\_r1\\_r1\\_1 & GC00003101 & GC00003102 & GC00003303 & GC00003300 & GC00001508\\_2 & GC00001566\\_6 & GC00001420\\_1 & GC00003461 & GC00003460 & GC00003466 & GC00003465 & GC00003468 & GC00001165\\_4 & GC00000011\\_r1\\_1 & GC00000165\\_1 & GC00003328 & GC00003329 & GC00003325 & GC00003326 & GC00003321 & GC00003323 & GC00001054\\_1 & GC00003405 & GC00003404 & GC00003407 & GC00003406 & GC00003402 & GC00003409 & GC00003408 & GC00002985 & GC00003346 & GC00003347 & GC00003344 & GC00003345 & GC00003340 & GC00003341 & GC00003348 & GC00003349 & GC00000964\\_1 & GC00002429\\_r1\\_r1\\_1 & GC00001046\\_2 & GC00000249\\_2 & GC00003428 & GC00003424 & GC00003423 & GC00003422 & GC00003420 & GC00000654\\_4 & GC00003309 & GC00003368 & GC00003369 & GC00003361 & GC00003363 & GC00003196 & GC00003195 & GC00003190 & GC00003118 & GC00003199 & GC00003198 & GC00000709\\_3 & GC00001028\\_1 & GC00002965 & GC00002964 & GC00002967 & GC00002966 & GC00002961 & GC00002960 & GC00002962 & GC00003382 & GC00003380 & GC00003387 & GC00003389 & GC00000224\\_r1\\_r1\\_r1\\_1\\_p1 & GC00001300\\_1 & GC00000154\\_6 & GC00002195\\_r1\\_r1\\_1 & GC00000836\\_3 & GC00000570\\_2 & GC00003010 & GC00003011 & GC00002721\\_2 & GC00000034\\_8 & GC00002837 & GC00002647 & GC00002880 & GC00002877 & GC00000008\\_6 & GC00002743 & GC00002687 & GC00002748 & GC00002744 & GC00002703 & GC00002950 & GC00002958 & GC00002726 & GC00002888 & GC00002825 & GC00002866 & GC00002657 & GC00002652 & GC00002759 & GC00002905 & GC00001115\\_r1\\_2 & GC00002146\\_r1\\_1 & GC00002627 & GC00000077\\_r1\\_4 & GC00002297\\_r1\\_1 & GC00002086\\_r1\\_r1\\_1 & GC00002412 & GC00001617\\_p1 & GC00002410 & GC00002222 & GC00001902 & GC00000001\\_21 & GC00001371\\_r1\\_1 & GC00000993\\_1 & GC00000059\\_1 & GC00000059\\_3 & GC00000059\\_2 & GC00000969\\_3 & GC00004327 & GC00000127\\_r1\\_1 & GC00004450 & GC00002330\\_2 & GC00003959 & GC00003958 & GC00003953 & GC00003952 & GC00003950 & GC00003957 & GC00003956 & GC00003955 & GC00003954 & GC00004073 & GC00004072 & GC00004075 & GC00004074 & GC00004077 & GC00003489 & GC00003488 & GC00003485 & GC00003484 & GC00003487 & GC00003486 & GC00003481 & GC00003483 & GC00003482 & GC00000243\\_2 & GC00000143\\_2 & GC00001936\\_1 & GC00004517 & GC00004515 & GC00004511 & GC00000023\\_6 & GC00004518 & GC00003433\\_2 & GC00000767\\_r1\\_2 & GC00004660 & GC00004661 & GC00004663 & GC00000924\\_4 & GC00004448 & GC00004449 & GC00001261\\_1 & GC00004440 & GC00004441 & GC00004442 & GC00004445 & GC00004446 & GC00004447 & GC00001047\\_2 & GC00001047\\_1 & GC00000179\\_2 & GC00003940 & GC00001251\\_3 & GC00000911\\_1 & GC00004801 & GC00003939 & GC00003938 & GC00003935 & GC00003934 & GC00003937 & GC00003936 & GC00003931 & GC00003930 & GC00003933 & GC00003932 & GC00004053 & GC00004052 & GC00004051 & GC00004050 & GC00004057 & GC00004056 & GC00004055 & GC00004054 & GC00004059 & GC00004058 & GC00000918\\_2 & GC00000294\\_2 & GC00003738 & GC00001981\\_3 & GC00001476\\_2 & GC00004802 & GC00001260\\_r1\\_1 & GC00004475 & GC00001170\\_1 & GC00004474 & GC00004477 & GC00004476 & GC00004473 & GC00004472 & GC00004479 & GC00000771\\_3 & GC00004478 & GC00004008 & GC00000034\\_1 & GC00000174\\_2 & GC00000429\\_1 & GC00004603 & GC00004600 & GC00004079 & GC00002865\\_p2 & GC00004078 & GC00004071 & GC00001392\\_1 & GC00004076 & GC00003966 & GC00003308\\_2 & GC00004828 & GC00004829 & GC00003480 & GC00003916 & GC00003915 & GC00003914 & GC00003913 & GC00003912 & GC00003911 & GC00003910 & GC00000077\\_4 & GC00003919 & GC00004825 & GC00004034 & GC00004037 & GC00004036 & GC00004031 & GC00004033 & GC00004032 & GC00004039 & GC00004038 & GC00001931\\_1 & GC00000139\\_1 & GC00000220\\_3 & GC00000220\\_2 & GC00000220\\_1 & GC00004130 & GC00004826 & GC00004827 & GC00002106\\_1 & GC00001233\\_2 & GC00000346\\_2 & GC00000014\\_11 & GC00000212\\_r1\\_r1\\_6 & GC00004627 & GC00004628 & GC00001016\\_r1\\_1 & GC00004484 & GC00004485 & GC00004480 & GC00004481 & GC00004482 & GC00004483 & GC00004488 & GC00004489 & GC00002686\\_2 & GC00000126\\_6 & GC00000126\\_3 & GC00000298\\_r1\\_1 & GC00002340\\_r1\\_1 & GC00000622\\_7 & GC00004466 & GC00004465 & GC00004462 & GC00004319 & GC00004463 & GC00004460 & GC00004461 & GC00004019 & GC00004017 & GC00004016 & GC00004014 & GC00004013 & GC00004011 & GC00004010 & GC00003795 & GC00003790 & GC00003983 & GC00001222\\_3 & GC00001222\\_1 & GC00002085\\_4 & GC00000010\\_2 & GC00000010\\_3 & GC00000213\\_3 & GC00000213\\_2 & GC00002591\\_2\\_p1 & GC00002591\\_2\\_p2 & GC00001533\\_1 & GC00004509 & GC00002260\\_r1\\_1\\_p1 & GC00002260\\_r1\\_1\\_p2 & GC00000053\\_1 & GC00000118\\_5 & GC00000118\\_4 & GC00000118\\_1 & GC00003970 & GC00000803\\_1 & GC00000899\\_r1\\_1 & GC00002644\\_1 & GC00001002\\_2 & GC00004350 & GC00004208 & GC00004209 & GC00004202 & GC00004203 & GC00004200 & GC00004201 & GC00004206 & GC00004207 & GC00004204 & GC00004205 & GC00000156\\_1 & GC00004183 & GC00001870\\_2 & GC00003201\\_r1\\_1 & GC00001321\\_2 & GC00002333\\_1 & GC00000093\\_r1\\_r1\\_1 & GC00004784 & GC00004783 & GC00004782 & GC00004780 & GC00004569 & GC00000242\\_1 & GC00003977 & GC00004662 & GC00000281\\_1 & GC00002043\\_1 & GC00000203\\_7 & GC00003513 & GC00003512 & GC00003511 & GC00003510 & GC00003517 & GC00003516 & GC00003515 & GC00003514 & GC00003519 & GC00003518 & GC00003976 & GC00000022\\_2 & GC00000022\\_8 & GC00001254\\_4 & GC00001188\\_2 & GC00000147\\_1 & GC00002714\\_r1\\_1 & GC00000853\\_3 & GC00002936\\_p1 & GC00004198 & GC00004199 & GC00004192 & GC00004193 & GC00004191 & GC00004196 & GC00004197 & GC00004194 & GC00004195 & GC00004228 & GC00004229 & GC00003927 & GC00004224 & GC00004225 & GC00004226 & GC00004227 & GC00004220 & GC00004221 & GC00004222 & GC00004223 & GC00001371\\_1 & GC00001100\\_1 & GC00001560\\_1 & GC00000918\\_r1\\_1 & GC00001079\\_4 & GC00004540 & GC00004443 & GC00004839 & GC00004838 & GC00004508 & GC00003751 & GC00003750 & GC00003753 & GC00003752 & GC00003759 & GC00003038\\_2 & GC00003578 & GC00000736\\_1 & GC00004246 & GC00004247 & GC00004244 & GC00004245 & GC00004242 & GC00004243 & GC00004240 & GC00004241 & GC00004248 & GC00004249 & GC00002872\\_p2 & GC00002872\\_p1 & GC00000473\\_1 & GC00004126 & GC00002634\\_1 & GC00003525 & GC00002260\\_2 & GC00004305 & GC00001155\\_r1\\_1\\_p1 & GC00000027\\_r1\\_r1\\_1 & GC00001285\\_1 & GC00004743 & GC00004740 & GC00004746 & GC00004745 & GC00004744 & GC00000002\\_3 & GC00003809 & GC00003808 & GC00000275\\_1 & GC00001644\\_r1\\_1 & GC00000164\\_4 & GC00000127\\_1 & GC00000767\\_4 & GC00004268 & GC00004269 & GC00004260 & GC00004262 & GC00004264 & GC00004265 & GC00004266 & GC00004267 & GC00000769\\_r1\\_1 & GC00000539\\_2 & GC00000539\\_6 & GC00001706\\_r1\\_r1\\_1 & GC00004539 & GC00004530 & GC00004532 & GC00004533 & GC00004535 & GC00003810 & GC00003816 & GC00000799\\_8 & GC00002439\\_p1 & GC00003715 & GC00004096 & GC00004095 & GC00004094 & GC00004093 & GC00004092 & GC00004091 & GC00004090 & GC00000018\\_3 & GC00004099 & GC00004098 & GC00003820 & GC00003824 & GC00000002\\_7 & GC00000051\\_1 & GC00000994\\_1 & GC00000011\\_9 & GC00000011\\_3 & GC00000011\\_4 & GC00004712 & GC00000116\\_1 & GC00000843\\_r1\\_1 & GC00002834\\_p1 & GC00002834\\_p2 & GC00001877\\_2 & GC00004282 & GC00004283 & GC00004280 & GC00004281 & GC00004286 & GC00004287 & GC00004284 & GC00004288 & GC00004289 & GC00002195\\_r1\\_2 & GC00000224\\_r1\\_r1\\_1 & GC00001246\\_r1\\_1 & GC00000077\\_17 & GC00004354 & GC00004355 & GC00004456 & GC00004356 & GC00004454 & GC00004808 & GC00004809 & GC00004878 & GC00003735 & GC00003470\\_r1\\_1 & GC00004155 & GC00003844 & GC00003846 & GC00000292\\_2 & GC00003593 & GC00001340\\_2 & GC00000100\\_2 & GC00000031\\_2 & GC00000031\\_8 & GC00001276\\_2 & GC00000091\\_3 & GC00004873 & GC00001172\\_1 & GC00000392\\_2 & GC00004112 & GC00004113 & GC00004110 & GC00004111 & GC00004116 & GC00004114 & GC00004115 & GC00004118 & GC00004119 & GC00001172\\_r1\\_1\\_p2\\_p1 & GC00003698 & GC00003695 & GC00004875 & GC00001171\\_r1\\_1 & GC00004150 & GC00004151 & GC00000140\\_2 & GC00000845\\_3 & GC00000013\\_13 & GC00004376 & GC00002095\\_1 & GC00004794 & GC00004859 & GC00004858 & GC00004853 & GC00004852 & GC00004850 & GC00004857 & GC00004856 & GC00004854 & GC00004589 & GC00004588 & GC00004585 & GC00004586 & GC00004580 & GC00004583 & GC00004582 & GC00000882\\_1 & GC00004329 & GC00003454\\_2 & GC00004320 & GC00004323 & GC00004322 & GC00004324 & GC00004372 & GC00003868 & GC00003866 & GC00003860 & GC00001016\\_1 & GC00000860\\_r1\\_1 & GC00002708\\_r1\\_2 & GC00000041\\_3 & GC00004134 & GC00004135 & GC00004136 & GC00004137 & GC00004131 & GC00004132 & GC00004138 & GC00004139 & GC00000340\\_1 & GC00003673 & GC00003676 & GC00003677 & GC00002816\\_p1 & GC00002816\\_p2 & GC00001137\\_r1\\_r1\\_1 & GC00000129\\_10 & GC00003095\\_2 & GC00004529 & GC00004528 & GC00004527 & GC00004526 & GC00000241\\_r1\\_1 & GC00003805 & GC00003552 & GC00000037\\_1 & GC00004837 & GC00004836 & GC00004831 & GC00004830 & GC00004833 & GC00004832 & GC00000234\\_2 & GC00001002\\_r1\\_1 & GC00004303 & GC00004302 & GC00004301 & GC00004300 & GC00004307 & GC00004306 & GC00004304 & GC00004309 & GC00004308 & GC00000371\\_2 & GC00002867\\_1 & GC00002867\\_2 & GC00001031\\_1 & GC00003650 & GC00003653 & GC00004158 & GC00004159 & GC00004154 & GC00004152 & GC00004153 & GC00003089\\_2 & GC00001004\\_6 & GC00001004\\_7 & GC00000138\\_r1\\_1 & GC00000093\\_11 & GC00000034\\_r1\\_3 & GC00001734\\_4 & GC00004815 & GC00004814 & GC00004813 & GC00004810 & GC00000047\\_4 & GC00004361 & GC00004360 & GC00004363 & GC00004362 & GC00004368 & GC00004070 & GC00000024\\_1 & GC00000987\\_3 & GC00000108\\_2 & GC00003647 & GC00004331 & GC00003988 & GC00003989 & GC00003980 & GC00003981 & GC00003982 & GC00003984 & GC00003985 & GC00003986 & GC00003987 & GC00000418\\_1 & GC00004170 & GC00004171 & GC00004172 & GC00004173 & GC00004175 & GC00004176 & GC00004177 & GC00004178 & GC00004179 & GC00000559\\_1 & GC00000197\\_1 & GC00004146 & GC00004143 & GC00004142 & GC00001444\\_1 & GC00001116\\_2 & GC00001206\\_3 & GC00001244\\_r1\\_1 & GC00004806 & GC00001020\\_1 & GC00004190 & GC00000027\\_r1\\_2 & GC00000065\\_1 & GC00004695 & GC00004690 & GC00004693 & GC00004692 & GC00004439 & GC00004438 & GC00004349 & GC00004348 & GC00004431 & GC00004344 & GC00004343 & GC00004434 & GC00004340 & GC00000826\\_r1\\_r1\\_1 & GC00000451\\_r1\\_1 & GC00000072\\_3 & GC00000012\\_r1\\_r1\\_1 & GC00000175\\_1 & GC00000663\\_r1\\_r1\\_1 & GC00002025\\_2 & GC00002025\\_1 & GC00004880 & GC00004881 & GC00004882 & GC00004735 & GC00004884 & GC00004885 & GC00000738\\_1 & GC00003962 & GC00003963 & GC00003960 & GC00003961 & GC00003967 & GC00003964 & GC00003965 & GC00003618 & GC00003968 & GC00003969 & GC00001115\\_2 & GC00001893\\_2 & GC00000345\\_1 & GC00004081 & GC00001329\\_r1\\_1 & GC00000226\\_1 & GC00002082\\_r1\\_1\\_p2\\_p1 & GC00003554 & GC00002333\\_r1\\_1 & GC00002171\\_2 & GC00000229\\_2 & GC00000885\\_1 & GC00001128\\_3 & GC00001128\\_2 & GC00000040\\_4 & GC00000898\\_r1\\_1 & GC00000569\\_r1\\_2 & GC00000575\\_2 & GC00000575\\_1 & GC00003944 & GC00003946 & GC00003947 & GC00003941 & GC00003942 & GC00003943 & GC00003948 & GC00003949 & GC00002317\\_1 & GC00001364\\_1 & GC00000077\\_7 & GC00001150\\_2 & GC00004068 & GC00004062 & GC00004063 & GC00004060 & GC00004061 & GC00004066 & GC00004067 & GC00004064 & GC00004065 & GC00004035 & GC00003498 & GC00003499 & GC00003494 & GC00003495 & GC00003492 & GC00003493 & GC00003490 & GC00000051\\_2 & GC00001271\\_1 & GC00001901\\_1 & GC00000448\\_3 & GC00000997\\_1 & GC00000510\\_1 & GC00004651 & GC00004650 & GC00004653 & GC00004655 & GC00004654 & GC00004656 & GC00001461\\_r1\\_r1\\_1\\_p1 & GC00000276\\_2 & GC00004382 & GC00004380 & GC00004385 & GC00000800\\_4 & GC00002767\\_2 & GC00003632 & GC00001038\\_2 & GC00002651\\_r1\\_2 & GC00003459\\_2 & GC00002694\\_r1\\_2 & GC00000026\\_1 & GC00003928 & GC00003926 & GC00004174 & GC00003924 & GC00003925 & GC00003922 & GC00003923 & GC00003920 & GC00003921 & GC00004049 & GC00004044 & GC00004045 & GC00004046 & GC00004047 & GC00004040 & GC00004042 & GC00004043 & GC00000003\\_5 & GC00000677\\_r1\\_4 & GC00000677\\_r1\\_2 & GC00001644\\_r1\\_r1\\_1 & GC00001268\\_2 & GC00000098\\_2 & GC00002667\\_p2 & GC00004679 & GC00004672 & GC00004671 & GC00004677 & GC00004676 & GC00004458 & GC00004455 & GC00004452 & GC00003106\\_2 & GC00001190\\_1 & GC00002265\\_r1\\_1\\_p1 & GC00002265\\_r1\\_1\\_p2 & GC00000037\\_4 & GC00003973 & GC00001199\\_1 & GC00002111\\_2 & GC00001973\\_r1\\_r1\\_1 & GC00001246\\_1 & GC00001629\\_r1\\_1 & GC00000781\\_1 & GC00003903 & GC00003904 & GC00003905 & GC00003909 & GC00004026 & GC00004024 & GC00004025 & GC00004022 & GC00004023 & GC00004020 & GC00004021 & GC00004028 & GC00004029 & GC00001739\\_r1\\_1 & GC00001752\\_r1\\_r1\\_r1\\_1\\_p1 & GC00004835 & GC00001818\\_1 & GC00004834 & GC00001015\\_1 & GC00004619 & GC00004615 & GC00004617 & GC00004613 & GC00001060\\_1 & GC00001982\\_r1\\_1 & GC00000007\\_1 & GC00000007\\_4 & GC00000777\\_4 & GC00000193\\_r1\\_2 & GC00004552 & GC00004009 & GC00000221\\_3 & GC00004553 & GC00000837\\_1 & GC00000006\\_r1\\_6 & GC00000006\\_r1\\_7 & GC00003786 & GC00003787 & GC00003789 & GC00001339\\_r1\\_1\\_p1 & GC00000491\\_1 & GC00004487 & GC00000978\\_1 & GC00000132\\_r1\\_4 & GC00000027\\_r1\\_1 & GC00004637 & GC00004636 & GC00004635 & GC00004634 & GC00004633 & GC00004632 & GC00004631 & GC00004630 & GC00004639 & GC00004638 & GC00004498 & GC00004493 & GC00004492 & GC00004491 & GC00004490 & GC00004497 & GC00004495 & GC00004494 & GC00004467 & GC00004464 & GC00003522 & GC00003523 & GC00003520 & GC00000014\\_4 & GC00000014\\_1 & GC00000014\\_2 & GC00003997 & GC00003524 & GC00003996 & GC00003995 & GC00003994 & GC00003993 & GC00003992 & GC00003623 & GC00003990 & GC00000802\\_7 & GC00000802\\_6 & GC00001192\\_1 & GC00001565\\_r1\\_1 & GC00000334\\_2 & GC00004798 & GC00004799 & GC00004790 & GC00004791 & GC00004792 & GC00004793 & GC00004796 & GC00004797 & GC00000060\\_1 & GC00000025\\_5 & GC00000129\\_r1\\_3 & GC00000129\\_r1\\_1 & GC00000025\\_1 & GC00004579 & GC00000077\\_r1\\_6 & GC00003506 & GC00003507 & GC00003500 & GC00003501 & GC00003502 & GC00003503 & GC00000074\\_5 & GC00001325\\_1 & GC00002082\\_r1\\_1\\_p1 & GC00000022\\_9 & GC00002094\\_1 & GC00000654\\_3 & GC00000781\\_r1\\_1 & GC00004871 & GC00001047\\_r1\\_1 & GC00000169\\_r1\\_r1\\_1 & GC00004219 & GC00004218 & GC00004211 & GC00004210 & GC00004213 & GC00004212 & GC00004215 & GC00001185\\_1 & GC00004217 & GC00001293\\_2 & GC00002865\\_p1 & GC00000207\\_1 & GC00003009\\_2 & GC00000970\\_r1\\_3 & GC00004874 & GC00000985\\_2 & GC00004877 & GC00004459 & GC00002861\\_p2 & GC00002861\\_p1 & GC00004876 & GC00004715 & GC00004457 & GC00000032\\_r1\\_4 & GC00000032\\_r1\\_1 & GC00004451 & GC00004772 & GC00004777 & GC00000032\\_8 & GC00004512 & GC00004513 & GC00000032\\_6 & GC00003743 & GC00003740 & GC00003741 & GC00003746 & GC00003747 & GC00003744 & GC00003745 & GC00003748 & GC00003749 & GC00000980\\_6 & GC00000980\\_4 & GC00004433 & GC00003584 & GC00004432 & GC00004435 & GC00000022\\_r1\\_1 & GC00000973\\_r1\\_1 & GC00004437 & GC00004436 & GC00000622\\_5 & GC00000191\\_r1\\_1 & GC00004189 & GC00004188 & GC00000084\\_6 & GC00004181 & GC00004180 & GC00004182 & GC00004184 & GC00004187 & GC00004186 & GC00004233 & GC00004232 & GC00004231 & GC00004230 & GC00004237 & GC00004236 & GC00004235 & GC00001052\\_1 & GC00000948\\_2 & GC00000318\\_1 & GC00000663\\_r1\\_1 & GC00000677\\_10 & GC00004755 & GC00004757 & GC00004018 & GC00004015 & GC00004012 & GC00004547 & GC00004554 & GC00003767 & GC00003762 & GC00003768 & GC00000133\\_1 & GC00004531 & GC00004536 & GC00003819 & GC00003811 & GC00003817 & GC00003814 & GC00003815 & GC00000347\\_1 & GC00000651\\_2 & GC00004496 & GC00000810\\_3 & GC00000888\\_4 & GC00001733\\_1 & GC00002205\\_r1\\_r1\\_1\\_p2 & GC00000266\\_1 & GC00002771\\_r1\\_2 & GC00001281\\_1 & GC00004255 & GC00004254 & GC00004257 & GC00004253 & GC00004252 & GC00001650\\_1 & GC00004259 & GC00004258 & GC00000087\\_1 & GC00000421\\_2 & GC00000730\\_3 & GC00003532 & GC00000028\\_r1\\_2 & GC00001088\\_2 & GC00000028\\_r1\\_1 & GC00004674 & GC00002876\\_p2 & GC00002876\\_p1 & GC00000956\\_6 & GC00000006\\_10 & GC00000123\\_7 & GC00000123\\_5 & GC00004738 & GC00004739 & GC00004736 & GC00004737 & GC00004734 & GC00004883 & GC00004732 & GC00003709 & GC00003704 & GC00000080\\_3 & GC00004168 & GC00004080 & GC00004082 & GC00004083 & GC00004084 & GC00004085 & GC00004086 & GC00004087 & GC00004088 & GC00004089 & GC00003834 & GC00002177\\_1 & GC00000945\\_r1\\_1 & GC00004107 & GC00001257\\_2 & GC00001115\\_1 & GC00002271\\_r1\\_1\\_p1 & GC00000014\\_7 & GC00000014\\_3 & GC00001227\\_2 & GC00004621 & GC00004279 & GC00004278 & GC00004277 & GC00004275 & GC00004274 & GC00004272 & GC00004270 & GC00000619\\_2 & GC00004626 & GC00000774\\_r1\\_r1\\_1 & GC00000241\\_1 & GC00000241\\_3 & GC00000241\\_7 & GC00001006\\_1 & GC00004870 & GC00004872 & GC00004879 & GC00004346 & GC00004345 & GC00000143\\_r1\\_1 & GC00001032\\_4 & GC00001172\\_r1\\_1\\_p1 & GC00000745\\_r1\\_2 & GC00004342 & GC00001122\\_r1\\_1 & GC00001542\\_r1\\_2 & GC00000360\\_1 & GC00004860 & GC00004866 & GC00004867 & GC00004868 & GC00004869 & GC00003727 & GC00003729 & GC00000327\\_2 & GC00003582 & GC00004140 & GC00003858 & GC00001267\\_3 & GC00001267\\_1 & GC00000810\\_1 & GC00002851\\_p2 & GC00001108\\_r1\\_1 & GC00001257\\_1 & GC00000295\\_2 & GC00004001 & GC00004291 & GC00004290 & GC00004293 & GC00004292 & GC00004295 & GC00004294 & GC00004297 & GC00004296 & GC00004299 & GC00004298 & GC00004002 & GC00004003 & GC00004004 & GC00004005 & GC00004006 & GC00000093\\_7 & GC00004007 & GC00002205\\_r1\\_r1\\_1\\_p1 & GC00003687 & GC00001077\\_2 & GC00000707\\_r1\\_1 & GC00004578 & GC00004574 & GC00000190\\_3 & GC00004575 & GC00004576 & GC00004577 & GC00004571 & GC00004572 & GC00000205\\_r1\\_1 & GC00004844 & GC00001347\\_1 & GC00004846 & GC00004847 & GC00004840 & GC00004841 & GC00004843 & GC00004848 & GC00004849 & GC00004596 & GC00004597 & GC00004594 & GC00004595 & GC00004590 & GC00004591 & GC00001332\\_2 & GC00004333 & GC00004336 & GC00004334 & GC00004335 & GC00002692\\_1 & GC00003870 & GC00003874 & GC00003877 & GC00000836\\_r1\\_r1\\_1 & GC00001390\\_3 & GC00000979\\_1 & GC00002212\\_2 & GC00000747\\_1 & GC00001294\\_1 & GC00004101 & GC00004103 & GC00004102 & GC00004106 & GC00004108 & GC00000880\\_r1\\_1 & GC00000014\\_5 & GC00000079\\_3 & GC00004144 & GC00003509 & GC00003504 & GC00003972 & GC00003505 & GC00003974 & GC00000967\\_r1\\_1 & GC00000212\\_r1\\_12 & GC00002146\\_1 & GC00004353 & GC00000970\\_r1\\_r1\\_r1\\_r1\\_1\\_p1 & GC00004824 & GC00002667\\_p1 & GC00002104\\_3 & GC00001496\\_1 & GC00004310 & GC00004311 & GC00004312 & GC00003892 & GC00003890 & GC00003891 & GC00000007\\_r1\\_2 & GC00001225\\_p1 & GC00004811 & GC00001399\\_p1 & GC00004129 & GC00004128 & GC00004123 & GC00004122 & GC00004121 & GC00004120 & GC00004127 & GC00004125 & GC00004124 & GC00004842 & GC00000016\\_1 & GC00001212\\_2 & GC00001487\\_1 & GC00002912\\_r1\\_2 & GC00004804 & GC00004805 & GC00000575\\_r1\\_1 & GC00001276\\_1 & GC00003327\\_2 & GC00003788 & GC00002851\\_p1 & GC00004041 & GC00001214\\_1 & GC00000166\\_r1\\_1 & GC00003287\\_2 & GC00000698\\_1 & GC00001332\\_1 & GC00000288\\_1 & GC00001107\\_r1\\_1 & GC00000691\\_2 & GC00004326 & GC00003649 & GC00004149 & GC00004148 & GC00004145 & GC00004147 & GC00004141 & GC00004781 & GC00000203\\_r1\\_2 & GC00000203\\_r1\\_1 & GC00001135\\_2 & GC00002544\\_r1\\_1\\_p1 & GC00002544\\_r1\\_1\\_p2 & GC00004185 & GC00000109\\_1 & GC00002480\\_1 & GC00004069 & GC00004570 & GC00004684 & GC00004682 & GC00004688 & GC00001518\\_1 & GC00000031\\_r1\\_r1\\_1 & GC00000455\\_1 & GC00004358 & GC00004352 & GC00004357 & GC00000168\\_r1\\_1 & GC00002298\\_1 & GC00000802\\_8 & GC00003818 & GC00001385\\_2 & GC00000118\\_r1\\_r1\\_1 & GC00000914\\_5 & GC00002757\\_1 & GC00000982\\_3 & GC00003999 & GC00003626 & GC00003621 & GC00003991 & GC00004167 & GC00004166 & GC00004165 & GC00004164 & GC00004163 & GC00004162 & GC00004161 & GC00004160 & GC00004169 & GC00001197\\_4 & GC00001197\\_2 & GC00001326\\_r1\\_1 & GC00000076\\_5 & GC00004453 & GC00000740\\_2 & GC00000036\\_3 & GC00000482\\_r1\\_5\\_p1 & GC00004214 & GC00001185\\_2 & GC00002119\\_r1\\_1 & GC00000970\\_r1\\_1 & GC00004216 & GC00004234 & GC00003633 & GC00000788\\_2 & GC00001428\\_r1\\_1 & GC00000022\\_4 & GC00000317\\_1 & GC00003108\\_2 & GC00002480\\_r1\\_2 & GC00000472\\_1 & GC00002875\\_p2 & GC00004395 & GC00000381\\_1 & GC00004392 & GC00000062\\_2 & GC00001397\\_1 & GC00002875\\_p1 & GC00000597\\_r1\\_r1\\_1 & GC00001105\\_r1\\_1 & GC00002421\\_r1\\_r1\\_1 & GC00003971 & GC00003975 & GC00003600 & GC00003979 & GC00003978 & GC00002271\\_r1\\_1\\_p2\\_p2 & GC00002271\\_r1\\_1\\_p2\\_p1 & GC00003497 & GC00003929 & GC00002019\\_r1\\_1 & GC00003491 & GC00004855 & GC00003872 & GC00002856\\_p1 & GC00002856\\_p2 & GC00004100 & GC00000944\\_r1\\_1 & GC00004104 & GC00000363\\_1 & GC00004584 & GC00004642 & GC00004643 & GC00004640 & GC00004641 & GC00004647 & GC00004644 & GC00004649 & GC00004398 & GC00000971\\_1 & GC00000113\\_2 & GC00001636\\_r1\\_1 & GC00000074\\_r1\\_1 & GC00000740\\_r1\\_1 & GC00000113\\_1 & GC00000265\\_1 & GC00001145\\_r1\\_1 & GC00003209 & GC00003075 & GC00003076 & GC00000254\\_1 & GC00000293\\_p1 & GC00002854\\_r1\\_1 & GC00001454\\_4 & GC00003289 & GC00003288 & GC00003285 & GC00003284 & GC00001147\\_3 & GC00000896\\_5 & GC00002990 & GC00002993 & GC00003109 & GC00003103 & GC00003478 & GC00003474 & GC00003475 & GC00003476 & GC00003477 & GC00003471 & GC00003473 & GC00000013\\_16 & GC00003310 & GC00003317 & GC00003316 & GC00003084 & GC00000042\\_5 & GC00003187 & GC00003189 & GC00002709\\_2 & GC00002977 & GC00002970 & GC00003001 & GC00003003 & GC00000852\\_2 & GC00003041 & GC00003040 & GC00000545\\_p1 & GC00000198\\_10 & GC00000144\\_6 & GC00003295 & GC00003296 & GC00003290 & GC00003298 & GC00003299 & GC00002986 & GC00003175 & GC00000188\\_2 & GC00000080\\_7 & GC00000054\\_4 & GC00002300\\_p1 & GC00003111 & GC00003307 & GC00003304 & GC00003469 & GC00002505\\_r1\\_1 & GC00001244\\_4 & GC00002969 & GC00003383 & GC00003381 & GC00003388 & GC00000143\\_r1\\_r1\\_1 & GC00001428\\_2 & GC00002895 & GC00002855 & GC00002850 & GC00002881 & GC00002082\\_r1\\_1\\_p2\\_p2 & GC00002959 & GC00002852 & GC00000006\\_r1\\_4 & GC00002849 & GC00002844 & GC00002677 & GC00002678 & GC00002860 & GC00001484\\_3 & GC00002628 & GC00002589 & GC00002593 & GC00002594 & GC00002173\\_r1\\_1 & GC00002083\\_r1\\_r1\\_1 & GC00002200\\_r1\\_1 & GC00002339 & GC00001877\\_r1\\_1 & GC00002168 & GC00001479\\_r1\\_r1\\_r1\\_1 & GC00001751\\_r1\\_r1\\_1 & GC00001642\\_r1\\_1 & GC00000970\\_r1\\_r1\\_r1\\_r1\\_1\\_p2 & GC00000677\\_r1\\_r1\\_1 & GC00000001\\_23 & GC00005256 & GC00001428\\_1 & GC00000679\\_1 & GC00000961\\_1 & GC00000056\\_2 & GC00006448 & GC00001182\\_1 & GC00001979\\_2 & GC00002085\\_2 & GC00000804\\_3 & GC00000023\\_7 & GC00001950\\_r1\\_1 & GC00005259 & GC00006440 & GC00007131 & GC00007133 & GC00007132 & GC00007135 & GC00007134 & GC00007137 & GC00007136 & GC00007139 & GC00007138 & GC00000634\\_r1\\_r1\\_1 & GC00001164\\_r1\\_1 & GC00001779\\_1 & GC00000068\\_4 & GC00005279 & GC00000067\\_1 & GC00001451\\_4 & GC00001451\\_5 & GC00004561\\_1 & GC00005253 & GC00002098\\_1 & GC00006415 & GC00000102\\_3 & GC00001171\\_1 & GC00000497\\_1 & GC00000856\\_1 & GC00000034\\_2 & GC00000034\\_3 & GC00000034\\_7 & GC00000034\\_4 & GC00007119 & GC00007118 & GC00007113 & GC00007112 & GC00007111 & GC00007110 & GC00007117 & GC00007116 & GC00007115 & GC00007114 & GC00001073\\_r1\\_1 & GC00000017\\_4 & GC00000006\\_2 & GC00000634\\_4 & GC00000774\\_1 & GC00000774\\_3 & GC00005334 & GC00001065\\_2 & GC00002109\\_1 & GC00002109\\_3 & GC00002109\\_2 & GC00002109\\_4 & GC00002859\\_1 & GC00000346\\_3 & GC00000346\\_1 & GC00002780\\_r1\\_1 & GC00003093\\_1 & GC00007179 & GC00007178 & GC00007175 & GC00007174 & GC00007177 & GC00007176 & GC00007171 & GC00007170 & GC00007173 & GC00007172 & GC00000974\\_3 & GC00000974\\_1 & GC00000934\\_3 & GC00001112\\_r1\\_r1\\_1 & GC00007122 & GC00001070\\_r1\\_r1\\_1 & GC00007120 & GC00007121 & GC00007127 & GC00007124 & GC00007125 & GC00005232 & GC00005237 & GC00006297 & GC00000956\\_2 & GC00000187\\_2 & GC00007099 & GC00000254\\_2 & GC00000723\\_1 & GC00000010\\_5 & GC00000311\\_3 & GC00000118\\_7 & GC00000118\\_6 & GC00000118\\_3 & GC00000118\\_8 & GC00001223\\_4 & GC00001223\\_3 & GC00000899\\_r1\\_2 & GC00000014\\_r1\\_1 & GC00003568\\_2 & GC00003095\\_1 & GC00007157 & GC00000992\\_1 & GC00007153 & GC00007152 & GC00007151 & GC00007150 & GC00000970\\_r1\\_r1\\_r1\\_1 & GC00002780\\_1 & GC00000966\\_1 & GC00001297\\_r1\\_1 & GC00003287\\_1 & GC00000697\\_1 & GC00001258\\_1 & GC00002205\\_1 & GC00000562\\_1 & GC00000798\\_1 & GC00002327\\_1 & GC00000341\\_r1\\_1 & GC00000393\\_1 & GC00000393\\_4 & GC00000039\\_4 & GC00002110\\_1 & GC00000957\\_3 & GC00003586\\_2 & GC00001414\\_1 & GC00001474\\_1 & GC00002210\\_2 & GC00000677\\_24 & GC00000677\\_25 & GC00000677\\_22 & GC00000677\\_23 & GC00000677\\_20 & GC00000677\\_21 & GC00002859\\_r1\\_1 & GC00002859\\_r1\\_2 & GC00002329\\_r1\\_1 & GC00000192\\_1 & GC00001345\\_2 & GC00001345\\_3 & GC00000743\\_1 & GC00001338\\_3 & GC00001338\\_1 & GC00000667\\_1 & GC00001147\\_1 & GC00000970\\_r1\\_r1\\_1 & GC00000970\\_r1\\_r1\\_2 & GC00002981\\_1 & GC00000137\\_2 & GC00000736\\_2 & GC00000102\\_r1\\_1 & GC00007269 & GC00007261 & GC00007260 & GC00007263 & GC00007262 & GC00007265 & GC00007267 & GC00007266 & GC00000677\\_7 & GC00000677\\_6 & GC00000677\\_5 & GC00000677\\_4 & GC00000677\\_3 & GC00000677\\_2 & GC00000677\\_1 & GC00000677\\_9 & GC00000677\\_8 & GC00000634\\_r1\\_r1\\_r1\\_1 & GC00000068\\_2 & GC00000839\\_2 & GC00001438\\_1 & GC00001306\\_1 & GC00001125\\_1 & GC00000601\\_1 & GC00006385 & GC00006384 & GC00006381 & GC00006380 & GC00006383 & GC00000042\\_3 & GC00000164\\_5 & GC00000164\\_1 & GC00000164\\_2 & GC00000372\\_1 & GC00006373 & GC00001319\\_1 & GC00000204\\_r1\\_r1\\_r1\\_1 & GC00007243 & GC00007242 & GC00007241 & GC00007240 & GC00007247 & GC00007246 & GC00007245 & GC00007244 & GC00007249 & GC00007248 & GC00002945\\_1 & GC00000012\\_1 & GC00000914\\_1 & GC00006309 & GC00001498\\_1 & GC00000338\\_1 & GC00001268\\_1 & GC00001642\\_1 & GC00003951\\_1 & GC00000191\\_r1\\_r1\\_1 & GC00000067\\_3 & GC00001003\\_1 & GC00001877\\_3 & GC00001149\\_r1\\_1 & GC00000009\\_15 & GC00006439 & GC00007225 & GC00007224 & GC00007226 & GC00007221 & GC00007220 & GC00007223 & GC00000651\\_4 & GC00007229 & GC00007228 & GC00000814\\_1 & GC00006396 & GC00000597\\_4 & GC00006395 & GC00006392 & GC00006393 & GC00006391 & GC00007264 & GC00000076\\_r1\\_r1\\_r1\\_r1\\_2 & GC00000155\\_1 & GC00006341 & GC00006340 & GC00006343 & GC00006342 & GC00006345 & GC00006344 & GC00006347 & GC00006346 & GC00006349 & GC00006348 & GC00000091\\_2 & GC00000091\\_4 & GC00001248\\_2 & GC00000757\\_1 & GC00000395\\_1 & GC00001201\\_1 & GC00000439\\_2 & GC00000151\\_2 & GC00000084\\_r1\\_2 & GC00007209 & GC00007208 & GC00007205 & GC00007204 & GC00007203 & GC00007202 & GC00006402 & GC00006400 & GC00006401 & GC00001422\\_2 & GC00006404 & GC00000506\\_1 & GC00000639\\_1 & GC00005329 & GC00004109\\_1 & GC00000670\\_1 & GC00005297 & GC00005294 & GC00005295 & GC00002854\\_1 & GC00000269\\_2 & GC00002026\\_1 & GC00006369 & GC00006368 & GC00006363 & GC00006362 & GC00006361 & GC00006360 & GC00006367 & GC00006366 & GC00006365 & GC00006364 & GC00000580\\_1 & GC00000548\\_1 & GC00000182\\_1 & GC00000389\\_1 & GC00000340\\_3 & GC00000002\\_9 & GC00000083\\_1 & GC00000569\\_1 & GC00000358\\_1 & GC00006424 & GC00006425 & GC00006426 & GC00006420 & GC00006421 & GC00006422 & GC00006423 & GC00006428 & GC00006429 & GC00006333 & GC00006335 & GC00005303 & GC00000234\\_3 & GC00000331\\_2 & GC00007126 & GC00000012\\_6 & GC00000012\\_7 & GC00004027\\_2 & GC00004027\\_1 & GC00006308 & GC00006305 & GC00006304 & GC00006307 & GC00006306 & GC00006301 & GC00006300 & GC00006303 & GC00006302 & GC00000009\\_28 & GC00000111\\_4 & GC00000111\\_2 & GC00006408 & GC00000151\\_3 & GC00004109\\_2 & GC00000488\\_1 & GC00001167\\_1 & GC00006449 & GC00006446 & GC00006445 & GC00002805\\_2 & GC00000093\\_12 & GC00000093\\_10 & GC00000724\\_r1\\_1 & GC00006387 & GC00006386 & GC00006382 & GC00007255 & GC00007256 & GC00000284\\_1 & GC00006389 & GC00000284\\_2 & GC00001036\\_1 & GC00000412\\_r1\\_1 & GC00006388 & GC00006447 & GC00006444 & GC00006442 & GC00006443 & GC00006441 & GC00003619\\_2 & GC00000042\\_7 & GC00005361 & GC00000205\\_1 & GC00000205\\_2 & GC00007188 & GC00007189 & GC00007184 & GC00007185 & GC00007186 & GC00007187 & GC00007180 & GC00007181 & GC00007182 & GC00007183 & GC00006327 & GC00006326 & GC00006325 & GC00006324 & GC00006323 & GC00006322 & GC00006321 & GC00006320 & GC00006329 & GC00006328 & GC00000090\\_2 & GC00000324\\_1 & GC00000123\\_6 & GC00000724\\_1 & GC00003294\\_r1\\_1 & GC00003294\\_r1\\_2 & GC00000197\\_3 & GC00001177\\_1 & GC00000518\\_1 & GC00001422\\_r1\\_1 & GC00001333\\_1 & GC00000097\\_2 & GC00000218\\_2 & GC00000912\\_1 & GC00000006\\_13 & GC00006460 & GC00006461 & GC00006462 & GC00006463 & GC00000624\\_1 & GC00001818\\_7 & GC00001149\\_1 & GC00000863\\_r1\\_2 & GC00000919\\_3 & GC00001073\\_2 & GC00001073\\_1 & GC00002591\\_1 & GC00005286 & GC00005348 & GC00005340 & GC00005343 & GC00001343\\_1 & GC00000072\\_1 & GC00001112\\_1 & GC00001112\\_3 & GC00001112\\_4 & GC00000560\\_1 & GC00000698\\_r1\\_3 & GC00000859\\_4 & GC00000018\\_r1\\_1 & GC00000385\\_1 & GC00000385\\_2 & GC00000987\\_4 & GC00001447\\_1 & GC00000668\\_1 & GC00000718\\_2 & GC00000086\\_1 & GC00000086\\_2 & GC00000365\\_1 & GC00000260\\_1 & GC00000020\\_2 & GC00000002\\_11 & GC00000002\\_12 & GC00001011\\_1 & GC00001512\\_2 & GC00002329\\_1 & GC00001479\\_2 & GC00001479\\_3 & GC00001479\\_4 & GC00001479\\_5 & GC00001479\\_6 & GC00000040\\_5 & GC00000169\\_2 & GC00006355 & GC00003283\\_r1\\_1 & GC00003283\\_r1\\_2 & GC00003094\\_1 & GC00001402\\_1 & GC00006450 & GC00007227 & GC00003294\\_1 & GC00000448\\_1 & GC00000235\\_1 & GC00001400\\_2 & GC00005384 & GC00000013\\_7 & GC00000494\\_2 & GC00000134\\_1 & GC00007128 & GC00007129 & GC00006298 & GC00000110\\_1 & GC00000110\\_2 & GC00000561\\_2 & GC00003611\\_1 & GC00005240 & GC00000026\\_3 & GC00000026\\_4 & GC00001379\\_1 & GC00001536\\_2 & GC00000003\\_1 & GC00000414\\_1 & GC00000677\\_r1\\_3 & GC00000287\\_2 & GC00000512\\_1 & GC00000553\\_1 & GC00001179\\_3 & GC00000371\\_1 & GC00002112\\_2 & GC00001636\\_2 & GC00000091\\_1 & GC00007104 & GC00007100 & GC00007101 & GC00007102 & GC00007108 & GC00007109 & GC00000390\\_1 & GC00005263 & GC00005262 & GC00005261 & GC00005267 & GC00007193 & GC00007192 & GC00007191 & GC00007190 & GC00007197 & GC00007196 & GC00007195 & GC00007194 & GC00000138\\_3 & GC00000696\\_2 & GC00001646\\_1 & GC00002859\\_2 & GC00000039\\_2 & GC00002265\\_2 & GC00002265\\_3 & GC00000661\\_2 & GC00002980\\_3 & GC00007168 & GC00007169 & GC00007166 & GC00007167 & GC00007164 & GC00007165 & GC00007162 & GC00007163 & GC00007160 & GC00007161 & GC00001474\\_2 & GC00000777\\_5 & GC00000383\\_2 & GC00000006\\_r1\\_3 & GC00007234 & GC00000970\\_3 & GC00000970\\_2 & GC00000970\\_1 & GC00007235 & GC00000970\\_7 & GC00000970\\_6 & GC00000970\\_4 & GC00007232 & GC00000970\\_9 & GC00000970\\_8 & GC00000978\\_3 & GC00000978\\_2 & GC00000532\\_1 & GC00000532\\_2 & GC00001751\\_1 & GC00001751\\_3 & GC00001284\\_2 & GC00000252\\_2 & GC00000052\\_r1\\_3 & GC00000132\\_r1\\_1 & GC00000642\\_1 & GC00000311\\_4 & GC00000204\\_r1\\_r1\\_1 & GC00001112\\_r1\\_1 & GC00007140 & GC00007141 & GC00007142 & GC00007143 & GC00007144 & GC00007145 & GC00007146 & GC00007147 & GC00007148 & GC00007149 & GC00001059\\_2 & GC00000014\\_8 & GC00000014\\_9 & GC00000656\\_r1\\_2 & GC00000057\\_3 & GC00000059\\_r1\\_1 & GC00000408\\_1 & GC00000077\\_r1\\_2 & GC00000244\\_2 & GC00000028\\_1 & GC00005272 & GC00000962\\_1 & GC00000300\\_1 & GC00001044\\_2 & GC00002979\\_1 & GC00000021\\_2 & GC00003283\\_1 & GC00001751\\_2 & GC00000036\\_2 & GC00000090\\_r1\\_1 & GC00001112\\_2 & GC00000566\\_1 & GC00001095\\_1 & GC00002319\\_2 & GC00000009\\_23 & GC00000706\\_1 & GC00001877\\_1 & GC00001070\\_1 & GC00001344\\_2 & GC00000702\\_1 & GC00000191\\_r1\\_2 & GC00001070\\_r1\\_r1\\_2 & GC00000311\\_2 & GC00000311\\_1 & GC00000353\\_1 & GC00001661\\_1 & GC00000039\\_3 & GC00000977\\_r1\\_1 & GC00000310\\_1 & GC00007270 & GC00007271 & GC00004557\\_2 & GC00000817\\_2 & GC00000814\\_2 & GC00000423\\_1 & GC00000677\\_13 & GC00000677\\_12 & GC00000677\\_11 & GC00000677\\_17 & GC00000677\\_16 & GC00000677\\_14 & GC00000677\\_19 & GC00000651\\_3 & GC00007222 & GC00001148\\_3 & GC00001148\\_2 & GC00000492\\_r1\\_1 & GC00006397 & GC00006394 & GC00006390 & GC00006398 & GC00006399 & GC00000656\\_r1\\_r1\\_1 & GC00001752\\_6 & GC00000188\\_5 & GC00002853\\_1 & GC00002853\\_2 & GC00000883\\_2 & GC00000180\\_1 & GC00007155 & GC00000006\\_3 & GC00000009\\_9 & GC00000009\\_3 & GC00000009\\_1 & GC00000009\\_6 & GC00000730\\_1 & GC00000046\\_2 & GC00006352 & GC00006353 & GC00003065\\_1 & GC00006350 & GC00007258 & GC00007259 & GC00007254 & GC00007257 & GC00007250 & GC00007251 & GC00007252 & GC00003951\\_2 & GC00007159 & GC00000597\\_3 & GC00007158 & GC00000160\\_2 & GC00000160\\_3 & GC00000956\\_3 & GC00000433\\_1 & GC00000433\\_2 & GC00000006\\_12 & GC00000006\\_14 & GC00000006\\_16 & GC00000123\\_8 & GC00000123\\_2 & GC00000123\\_1 & GC00002178\\_1 & GC00000973\\_1 & GC00002505\\_1 & GC00002505\\_2 & GC00000945\\_r1\\_2 & GC00001317\\_1 & GC00001277\\_2 & GC00003036\\_1 & GC00001546\\_1 & GC00000767\\_3 & GC00000760\\_2 & GC00000760\\_1 & GC00000967\\_5 & GC00001155\\_1 & GC00000054\\_3 & GC00007236 & GC00007237 & GC00007230 & GC00007238 & GC00007239 & GC00002083\\_1 & GC00001032\\_2 & GC00000563\\_1 & GC00001065\\_r1\\_2 & GC00002477\\_1 & GC00000753\\_2 & GC00001164\\_1 & GC00000061\\_1 & GC00005400 & GC00005409 & GC00005408 & GC00000327\\_3 & GC00000028\\_3 & GC00001267\\_2 & GC00000826\\_r1\\_1 & GC00006351 & GC00006356 & GC00006357 & GC00006358 & GC00001324\\_1 & GC00000093\\_6 & GC00000700\\_1 & GC00007218 & GC00007219 & GC00007105 & GC00007212 & GC00007216 & GC00007217 & GC00000396\\_2 & GC00000356\\_1 & GC00002117\\_1 & GC00000783\\_1 & GC00000482\\_7 & GC00005252 & GC00000466\\_2 & GC00000171\\_1 & GC00000945\\_1 & GC00006374 & GC00006375 & GC00006376 & GC00006377 & GC00006370 & GC00006371 & GC00006372 & GC00006378 & GC00006379 & GC00000665\\_1 & GC00001751\\_r1\\_1 & GC00000214\\_1 & GC00001629\\_2 & GC00000068\\_3 & GC00000079\\_2 & GC00000079\\_1 & GC00000079\\_4 & GC00005407 & GC00000265\\_2 & GC00000222\\_1 & GC00000886\\_3 & GC00000886\\_2 & GC00007233 & GC00000005\\_1 & GC00007210 & GC00007211 & GC00007231 & GC00007215 & GC00006411 & GC00006410 & GC00006413 & GC00006412 & GC00006414 & GC00006417 & GC00006416 & GC00006419 & GC00006418 & GC00000112\\_2 & GC00000437\\_2 & GC00000045\\_1 & GC00000045\\_5 & GC00000045\\_9 & GC00002200\\_1 & GC00005331 & GC00007156 & GC00007154 & GC00001372\\_1 & GC00000976\\_2 & GC00006318 & GC00006319 & GC00006316 & GC00006317 & GC00006315 & GC00006312 & GC00006313 & GC00006310 & GC00006311 & GC00006314 & GC00002666\\_1 & GC00000238\\_1 & GC00000377\\_1 & GC00000375\\_1 & GC00001321\\_1 & GC00001479\\_1 & GC00006438 & GC00006433 & GC00006432 & GC00006431 & GC00006430 & GC00006437 & GC00006436 & GC00006435 & GC00006434 & GC00000449\\_1 & GC00006296 & GC00001479\\_r1\\_1 & GC00000927\\_1 & GC00002780\\_r1\\_2 & GC00000650\\_2 & GC00006330 & GC00006331 & GC00006332 & GC00006334 & GC00006336 & GC00006337 & GC00006338 & GC00006339 & GC00001098\\_2 & GC00000376\\_1 & GC00001888\\_r1\\_1 & GC00000069\\_1 & GC00006354 & GC00002082\\_1 & GC00007213 & GC00000466\\_1 & GC00000493\\_r1\\_1 & GC00006299 & GC00006359 & GC00004560\\_1 & GC00001135\\_1 & GC00006459 & GC00006458 & GC00006455 & GC00006454 & GC00006457 & GC00006456 & GC00006451 & GC00006453 & GC00006452 & GC00000052\\_1 & GC00005375 & GC00005377 & GC00005376 & GC00001585\\_1 & GC00005379 & GC00007253 & GC00000109\\_2 & GC00000455\\_2 & GC00001442\\_1 & GC00002112\\_1 & GC00007199 & GC00007198 & GC00000469\\_1 & GC00000132\\_6 & GC00000461\\_1 & GC00000009\\_r1\\_7 & GC00000009\\_r1\\_3 & GC00000572\\_1 & GC00000256\\_5 & GC00007123 & GC00000580\\_2 & GC00001297\\_1 & GC00000709\\_1 & GC00000219\\_r1\\_1 & GC00000740\\_1 & GC00000970\\_r1\\_2 & GC00000970\\_r1\\_4 & GC00007206 & GC00007201 & GC00007200 & GC00006406 & GC00001145\\_2 & GC00000749\\_1 & GC00000359\\_1 & GC00001245\\_1 & GC00006427 & GC00002480\\_r1\\_1 & GC00000861\\_5 & GC00000861\\_2 & GC00005359 & GC00005357 & GC00001397\\_2 & GC00000062\\_1 & GC00000503\\_1 & GC00000909\\_1 & GC00000001\\_41 & GC00000932\\_1 & GC00000675\\_2 & GC00000688\\_1 & GC00001361\\_1 & GC00001284\\_r1\\_1 & GC00000304\\_1 & GC00001443\\_1 & GC00000406\\_1 & GC00000438\\_1 & GC00005323 & GC00001197\\_3 & GC00001481\\_1 & GC00000016\\_2 & GC00000162\\_3 & GC00002032\\_1 & GC00006403 & GC00006407 & GC00006405 & GC00006409 & GC00000644\\_1 & GC00002544\\_1 & GC00004030 & GC00003539 & GC00004567 & GC00004566 & GC00004565 & GC00004564 & GC00003637 & GC00004558 & GC00000677\\_15 & GC00000677\\_18 & GC00004556 & GC00002853\\_r1\\_1 & GC00004000 & GC00003094\\_r1\\_1 & GC00002945\\_r1\\_1 & GC00001642\\_2 & GC00003085 & GC00003292 & GC00000677\\_r1\\_1 & GC00002225\\_r1\\_1 & clade\\\\\n",
       " <chr> & <dbl> & <dbl> & <dbl> & <dbl> & <dbl> & <dbl> & <dbl> & <dbl> & <dbl> & <dbl> & <dbl> & <dbl> & <dbl> & <dbl> & <dbl> & <dbl> & <dbl> & <dbl> & <dbl> & <dbl> & <dbl> & <dbl> & <dbl> & <dbl> & <dbl> & <dbl> & <dbl> & <dbl> & <dbl> & <dbl> & <dbl> & <dbl> & <dbl> & <dbl> & <dbl> & <dbl> & <dbl> & <dbl> & <dbl> & <dbl> & <dbl> & <dbl> & <dbl> & <dbl> & <dbl> & <dbl> & <dbl> & <dbl> & <dbl> & <dbl> & <dbl> & <dbl> & <dbl> & <dbl> & <dbl> & <dbl> & <dbl> & <dbl> & <dbl> & <dbl> & <dbl> & <dbl> & <dbl> & <dbl> & <dbl> & <dbl> & <dbl> & <dbl> & <dbl> & <dbl> & <dbl> & <dbl> & <dbl> & <dbl> & <dbl> & <dbl> & <dbl> & <dbl> & <dbl> & <dbl> & <dbl> & <dbl> & <dbl> & <dbl> & <dbl> & <dbl> & <dbl> & <dbl> & <dbl> & <dbl> & <dbl> & <dbl> & <dbl> & <dbl> & <dbl> & <dbl> & <dbl> & <dbl> & <dbl> & <dbl> & <dbl> & <dbl> & <dbl> & <dbl> & <dbl> & <dbl> & <dbl> & <dbl> & <dbl> & <dbl> & <dbl> & <dbl> & <dbl> & <dbl> & <dbl> & <dbl> & <dbl> & <dbl> & <dbl> & <dbl> & <dbl> & <dbl> & <dbl> & <dbl> & <dbl> & <dbl> & <dbl> & <dbl> & <dbl> & <dbl> & <dbl> & <dbl> & <dbl> & <dbl> & <dbl> & <dbl> & <dbl> & <dbl> & <dbl> & <dbl> & <dbl> & <dbl> & <dbl> & <dbl> & <dbl> & <dbl> & <dbl> & <dbl> & <dbl> & <dbl> & <dbl> & <dbl> & <dbl> & <dbl> & <dbl> & <dbl> & <dbl> & <dbl> & <dbl> & <dbl> & <dbl> & <dbl> & <dbl> & <dbl> & <dbl> & <dbl> & <dbl> & <dbl> & <dbl> & <dbl> & <dbl> & <dbl> & <dbl> & <dbl> & <dbl> & <dbl> & <dbl> & <dbl> & <dbl> & <dbl> & <dbl> & <dbl> & <dbl> & <dbl> & <dbl> & <dbl> & <dbl> & <dbl> & <dbl> & <dbl> & <dbl> & <dbl> & <dbl> & <dbl> & <dbl> & <dbl> & <dbl> & <dbl> & <dbl> & <dbl> & <dbl> & <dbl> & <dbl> & <dbl> & <dbl> & <dbl> & <dbl> & <dbl> & <dbl> & <dbl> & <dbl> & <dbl> & <dbl> & <dbl> & <dbl> & <dbl> & <dbl> & <dbl> & <dbl> & <dbl> & <dbl> & <dbl> & <dbl> & <dbl> & <dbl> & <dbl> & <dbl> & <dbl> & <dbl> & <dbl> & <dbl> & <dbl> & <dbl> & <dbl> & <dbl> & <dbl> & <dbl> & <dbl> & <dbl> & <dbl> & <dbl> & <dbl> & <dbl> & <dbl> & <dbl> & <dbl> & <dbl> & <dbl> & <dbl> & <dbl> & <dbl> & <dbl> & <dbl> & <dbl> & <dbl> & <dbl> & <dbl> & <dbl> & <dbl> & <dbl> & <dbl> & <dbl> & <dbl> & <dbl> & <dbl> & <dbl> & <dbl> & <dbl> & <dbl> & <dbl> & <dbl> & <dbl> & <dbl> & <dbl> & <dbl> & <dbl> & <dbl> & <dbl> & <dbl> & <dbl> & <dbl> & <dbl> & <dbl> & <dbl> & <dbl> & <dbl> & <dbl> & <dbl> & <dbl> & <dbl> & <dbl> & <dbl> & <dbl> & <dbl> & <dbl> & <dbl> & <dbl> & <dbl> & <dbl> & <dbl> & <dbl> & <dbl> & <dbl> & <dbl> & <dbl> & <dbl> & <dbl> & <dbl> & <dbl> & <dbl> & <dbl> & <dbl> & <dbl> & <dbl> & <dbl> & <dbl> & <dbl> & <dbl> & <dbl> & <dbl> & <dbl> & <dbl> & <dbl> & <dbl> & <dbl> & <dbl> & <dbl> & <dbl> & <dbl> & <dbl> & <dbl> & <dbl> & <dbl> & <dbl> & <dbl> & <dbl> & <dbl> & <dbl> & <dbl> & <dbl> & <dbl> & <dbl> & <dbl> & <dbl> & <dbl> & <dbl> & <dbl> & <dbl> & <dbl> & <dbl> & <dbl> & <dbl> & <dbl> & <dbl> & <dbl> & <dbl> & <dbl> & <dbl> & <dbl> & <dbl> & <dbl> & <dbl> & <dbl> & <dbl> & <dbl> & <dbl> & <dbl> & <dbl> & <dbl> & <dbl> & <dbl> & <dbl> & <dbl> & <dbl> & <dbl> & <dbl> & <dbl> & <dbl> & <dbl> & <dbl> & <dbl> & <dbl> & <dbl> & <dbl> & <dbl> & <dbl> & <dbl> & <dbl> & <dbl> & <dbl> & <dbl> & <dbl> & <dbl> & <dbl> & <dbl> & <dbl> & <dbl> & <dbl> & <dbl> & <dbl> & <dbl> & <dbl> & <dbl> & <dbl> & <dbl> & <dbl> & <dbl> & <dbl> & <dbl> & <dbl> & <dbl> & <dbl> & <dbl> & <dbl> & <dbl> & <dbl> & <dbl> & <dbl> & <dbl> & <dbl> & <dbl> & <dbl> & <dbl> & <dbl> & <dbl> & <dbl> & <dbl> & <dbl> & <dbl> & <dbl> & <dbl> & <dbl> & <dbl> & <dbl> & <dbl> & <dbl> & <dbl> & <dbl> & <dbl> & <dbl> & <dbl> & <dbl> & <dbl> & <dbl> & <dbl> & <dbl> & <dbl> & <dbl> & <dbl> & <dbl> & <dbl> & <dbl> & <dbl> & <dbl> & <dbl> & <dbl> & <dbl> & <dbl> & <dbl> & <dbl> & <dbl> & <dbl> & <dbl> & <dbl> & <dbl> & <dbl> & <dbl> & <dbl> & <dbl> & <dbl> & <dbl> & <dbl> & <dbl> & <dbl> & <dbl> & <dbl> & <dbl> & <dbl> & <dbl> & <dbl> & <dbl> & <dbl> & <dbl> & <dbl> & <dbl> & <dbl> & <dbl> & <dbl> & <dbl> & <dbl> & <dbl> & <dbl> & <dbl> & <dbl> & <dbl> & <dbl> & <dbl> & <dbl> & <dbl> & <dbl> & <dbl> & <dbl> & <dbl> & <dbl> & <dbl> & <dbl> & <dbl> & <dbl> & <dbl> & <dbl> & <dbl> & <dbl> & <dbl> & <dbl> & <dbl> & <dbl> & <dbl> & <dbl> & <dbl> & <dbl> & <dbl> & <dbl> & <dbl> & <dbl> & <dbl> & <dbl> & <dbl> & <dbl> & <dbl> & <dbl> & <dbl> & <dbl> & <dbl> & <dbl> & <dbl> & <dbl> & <dbl> & <dbl> & <dbl> & <dbl> & <dbl> & <dbl> & <dbl> & <dbl> & <dbl> & <dbl> & <dbl> & <dbl> & <dbl> & <dbl> & <dbl> & <dbl> & <dbl> & <dbl> & <dbl> & <dbl> & <dbl> & <dbl> & <dbl> & <dbl> & <dbl> & <dbl> & <dbl> & <dbl> & <dbl> & <dbl> & <dbl> & <dbl> & <dbl> & <dbl> & <dbl> & <dbl> & <dbl> & <dbl> & <dbl> & <dbl> & <dbl> & <dbl> & <dbl> & <dbl> & <dbl> & <dbl> & <dbl> & <dbl> & <dbl> & <dbl> & <dbl> & <dbl> & <dbl> & <dbl> & <dbl> & <dbl> & <dbl> & <dbl> & <dbl> & <dbl> & <dbl> & <dbl> & <dbl> & <dbl> & <dbl> & <dbl> & <dbl> & <dbl> & <dbl> & <dbl> & <dbl> & <dbl> & <dbl> & <dbl> & <dbl> & <dbl> & <dbl> & <dbl> & <dbl> & <dbl> & <dbl> & <dbl> & <dbl> & <dbl> & <dbl> & <dbl> & <dbl> & <dbl> & <dbl> & <dbl> & <dbl> & <dbl> & <dbl> & <dbl> & <dbl> & <dbl> & <dbl> & <dbl> & <dbl> & <dbl> & <dbl> & <dbl> & <dbl> & <dbl> & <dbl> & <dbl> & <dbl> & <dbl> & <dbl> & <dbl> & <dbl> & <dbl> & <dbl> & <dbl> & <dbl> & <dbl> & <dbl> & <dbl> & <dbl> & <dbl> & <dbl> & <dbl> & <dbl> & <dbl> & <dbl> & <dbl> & <dbl> & <dbl> & <dbl> & <dbl> & <dbl> & <dbl> & <dbl> & <dbl> & <dbl> & <dbl> & <dbl> & <dbl> & <dbl> & <dbl> & <dbl> & <dbl> & <dbl> & <dbl> & <dbl> & <dbl> & <dbl> & <dbl> & <dbl> & <dbl> & <dbl> & <dbl> & <dbl> & <dbl> & <dbl> & <dbl> & <dbl> & <dbl> & <dbl> & <dbl> & <dbl> & <dbl> & <dbl> & <dbl> & <dbl> & <dbl> & <dbl> & <dbl> & <dbl> & <dbl> & <dbl> & <dbl> & <dbl> & <dbl> & <dbl> & <dbl> & <dbl> & <dbl> & <dbl> & <dbl> & <dbl> & <dbl> & <dbl> & <dbl> & <dbl> & <dbl> & <dbl> & <dbl> & <dbl> & <dbl> & <dbl> & <dbl> & <dbl> & <dbl> & <dbl> & <dbl> & <dbl> & <dbl> & <dbl> & <dbl> & <dbl> & <dbl> & <dbl> & <dbl> & <dbl> & <dbl> & <dbl> & <dbl> & <dbl> & <dbl> & <dbl> & <dbl> & <dbl> & <dbl> & <dbl> & <dbl> & <dbl> & <dbl> & <dbl> & <dbl> & <dbl> & <dbl> & <dbl> & <dbl> & <dbl> & <dbl> & <dbl> & <dbl> & <dbl> & <dbl> & <dbl> & <dbl> & <dbl> & <dbl> & <dbl> & <dbl> & <dbl> & <dbl> & <dbl> & <dbl> & <dbl> & <dbl> & <dbl> & <dbl> & <dbl> & <dbl> & <dbl> & <dbl> & <dbl> & <dbl> & <dbl> & <dbl> & <dbl> & <dbl> & <dbl> & <dbl> & <dbl> & <dbl> & <dbl> & <dbl> & <dbl> & <dbl> & <dbl> & <dbl> & <dbl> & <dbl> & <dbl> & <dbl> & <dbl> & <dbl> & <dbl> & <dbl> & <dbl> & <dbl> & <dbl> & <dbl> & <dbl> & <dbl> & <dbl> & <dbl> & <dbl> & <dbl> & <dbl> & <dbl> & <dbl> & <dbl> & <dbl> & <dbl> & <dbl> & <dbl> & <dbl> & <dbl> & <dbl> & <dbl> & <dbl> & <dbl> & <dbl> & <dbl> & <dbl> & <dbl> & <dbl> & <dbl> & <dbl> & <dbl> & <dbl> & <dbl> & <dbl> & <dbl> & <dbl> & <dbl> & <dbl> & <dbl> & <dbl> & <dbl> & <dbl> & <dbl> & <dbl> & <dbl> & <dbl> & <dbl> & <dbl> & <dbl> & <dbl> & <dbl> & <dbl> & <dbl> & <dbl> & <dbl> & <dbl> & <dbl> & <dbl> & <dbl> & <dbl> & <dbl> & <dbl> & <dbl> & <dbl> & <dbl> & <dbl> & <dbl> & <dbl> & <dbl> & <dbl> & <dbl> & <dbl> & <dbl> & <dbl> & <dbl> & <dbl> & <dbl> & <dbl> & <dbl> & <dbl> & <dbl> & <dbl> & <dbl> & <dbl> & <dbl> & <dbl> & <dbl> & <dbl> & <dbl> & <dbl> & <dbl> & <dbl> & <dbl> & <dbl> & <dbl> & <dbl> & <dbl> & <dbl> & <dbl> & <dbl> & <dbl> & <dbl> & <dbl> & <dbl> & <dbl> & <dbl> & <dbl> & <dbl> & <dbl> & <dbl> & <dbl> & <dbl> & <dbl> & <dbl> & <dbl> & <dbl> & <dbl> & <dbl> & <dbl> & <dbl> & <dbl> & <dbl> & <dbl> & <dbl> & <dbl> & <dbl> & <dbl> & <dbl> & <dbl> & <dbl> & <dbl> & <dbl> & <dbl> & <dbl> & <dbl> & <dbl> & <dbl> & <dbl> & <dbl> & <dbl> & <dbl> & <dbl> & <dbl> & <dbl> & <dbl> & <dbl> & <dbl> & <dbl> & <dbl> & <dbl> & <dbl> & <dbl> & <dbl> & <dbl> & <dbl> & <dbl> & <dbl> & <dbl> & <dbl> & <dbl> & <dbl> & <dbl> & <dbl> & <dbl> & <dbl> & <dbl> & <dbl> & <dbl> & <dbl> & <dbl> & <dbl> & <dbl> & <dbl> & <dbl> & <dbl> & <dbl> & <dbl> & <dbl> & <dbl> & <dbl> & <dbl> & <dbl> & <dbl> & <dbl> & <dbl> & <dbl> & <dbl> & <dbl> & <dbl> & <dbl> & <dbl> & <dbl> & <dbl> & <dbl> & <dbl> & <dbl> & <dbl> & <dbl> & <dbl> & <dbl> & <dbl> & <dbl> & <dbl> & <dbl> & <dbl> & <dbl> & <dbl> & <dbl> & <dbl> & <dbl> & <dbl> & <dbl> & <dbl> & <dbl> & <dbl> & <dbl> & <dbl> & <dbl> & <dbl> & <dbl> & <dbl> & <dbl> & <dbl> & <dbl> & <dbl> & <dbl> & <dbl> & <dbl> & <dbl> & <dbl> & <dbl> & <dbl> & <dbl> & <dbl> & <dbl> & <dbl> & <dbl> & <dbl> & <dbl> & <dbl> & <dbl> & <dbl> & <dbl> & <dbl> & <dbl> & <dbl> & <dbl> & <dbl> & <dbl> & <dbl> & <dbl> & <dbl> & <dbl> & <dbl> & <dbl> & <dbl> & <dbl> & <dbl> & <dbl> & <dbl> & <dbl> & <dbl> & <dbl> & <dbl> & <dbl> & <dbl> & <dbl> & <dbl> & <dbl> & <dbl> & <dbl> & <dbl> & <dbl> & <dbl> & <dbl> & <dbl> & <dbl> & <dbl> & <dbl> & <dbl> & <dbl> & <dbl> & <dbl> & <dbl> & <dbl> & <dbl> & <dbl> & <dbl> & <dbl> & <dbl> & <dbl> & <dbl> & <dbl> & <dbl> & <dbl> & <dbl> & <dbl> & <dbl> & <dbl> & <dbl> & <dbl> & <dbl> & <dbl> & <dbl> & <dbl> & <dbl> & <dbl> & <dbl> & <dbl> & <dbl> & <dbl> & <dbl> & <dbl> & <dbl> & <dbl> & <dbl> & <dbl> & <dbl> & <dbl> & <dbl> & <dbl> & <dbl> & <dbl> & <dbl> & <dbl> & <dbl> & <dbl> & <dbl> & <dbl> & <dbl> & <dbl> & <dbl> & <dbl> & <dbl> & <dbl> & <dbl> & <dbl> & <dbl> & <dbl> & <dbl> & <dbl> & <dbl> & <dbl> & <dbl> & <dbl> & <dbl> & <dbl> & <dbl> & <dbl> & <dbl> & <dbl> & <dbl> & <dbl> & <dbl> & <dbl> & <dbl> & <dbl> & <dbl> & <dbl> & <dbl> & <dbl> & <dbl> & <dbl> & <dbl> & <dbl> & <dbl> & <dbl> & <dbl> & <dbl> & <dbl> & <dbl> & <dbl> & <dbl> & <dbl> & <dbl> & <dbl> & <dbl> & <dbl> & <dbl> & <dbl> & <dbl> & <dbl> & <dbl> & <dbl> & <dbl> & <dbl> & <dbl> & <dbl> & <dbl> & <dbl> & <dbl> & <dbl> & <dbl> & <dbl> & <dbl> & <dbl> & <dbl> & <dbl> & <dbl> & <dbl> & <dbl> & <dbl> & <dbl> & <dbl> & <dbl> & <dbl> & <dbl> & <dbl> & <dbl> & <dbl> & <dbl> & <dbl> & <dbl> & <dbl> & <dbl> & <dbl> & <dbl> & <dbl> & <dbl> & <dbl> & <dbl> & <dbl> & <dbl> & <dbl> & <dbl> & <dbl> & <dbl> & <dbl> & <dbl> & <dbl> & <dbl> & <dbl> & <dbl> & <dbl> & <dbl> & <dbl> & <dbl> & <dbl> & <dbl> & <dbl> & <dbl> & <dbl> & <dbl> & <dbl> & <dbl> & <dbl> & <dbl> & <dbl> & <dbl> & <dbl> & <dbl> & <dbl> & <dbl> & <dbl> & <dbl> & <dbl> & <dbl> & <dbl> & <dbl> & <dbl> & <dbl> & <dbl> & <dbl> & <dbl> & <dbl> & <dbl> & <dbl> & <dbl> & <dbl> & <dbl> & <dbl> & <dbl> & <dbl> & <dbl> & <dbl> & <dbl> & <dbl> & <dbl> & <dbl> & <dbl> & <dbl> & <dbl> & <dbl> & <dbl> & <dbl> & <dbl> & <dbl> & <dbl> & <dbl> & <dbl> & <dbl> & <dbl> & <dbl> & <dbl> & <dbl> & <dbl> & <dbl> & <dbl> & <dbl> & <dbl> & <dbl> & <dbl> & <dbl> & <dbl> & <dbl> & <dbl> & <dbl> & <dbl> & <dbl> & <dbl> & <dbl> & <dbl> & <dbl> & <dbl> & <dbl> & <dbl> & <dbl> & <dbl> & <dbl> & <dbl> & <dbl> & <dbl> & <dbl> & <dbl> & <dbl> & <dbl> & <dbl> & <dbl> & <dbl> & <dbl> & <dbl> & <dbl> & <dbl> & <dbl> & <dbl> & <dbl> & <dbl> & <dbl> & <dbl> & <dbl> & <dbl> & <dbl> & <dbl> & <dbl> & <dbl> & <dbl> & <dbl> & <dbl> & <dbl> & <dbl> & <dbl> & <dbl> & <dbl> & <dbl> & <dbl> & <dbl> & <dbl> & <dbl> & <dbl> & <dbl> & <dbl> & <dbl> & <dbl> & <dbl> & <dbl> & <dbl> & <dbl> & <dbl> & <dbl> & <dbl> & <dbl> & <dbl> & <dbl> & <dbl> & <dbl> & <dbl> & <dbl> & <dbl> & <dbl> & <dbl> & <dbl> & <dbl> & <dbl> & <dbl> & <dbl> & <dbl> & <dbl> & <dbl> & <dbl> & <dbl> & <dbl> & <dbl> & <dbl> & <dbl> & <dbl> & <dbl> & <dbl> & <dbl> & <dbl> & <dbl> & <dbl> & <dbl> & <dbl> & <dbl> & <dbl> & <dbl> & <dbl> & <dbl> & <dbl> & <dbl> & <dbl> & <dbl> & <dbl> & <dbl> & <dbl> & <dbl> & <dbl> & <dbl> & <dbl> & <dbl> & <dbl> & <dbl> & <dbl> & <dbl> & <dbl> & <dbl> & <dbl> & <dbl> & <dbl> & <dbl> & <dbl> & <dbl> & <dbl> & <dbl> & <dbl> & <dbl> & <dbl> & <dbl> & <dbl> & <dbl> & <dbl> & <dbl> & <dbl> & <dbl> & <dbl> & <dbl> & <dbl> & <dbl> & <dbl> & <dbl> & <dbl> & <dbl> & <dbl> & <dbl> & <dbl> & <dbl> & <dbl> & <dbl> & <dbl> & <dbl> & <dbl> & <dbl> & <dbl> & <dbl> & <dbl> & <dbl> & <dbl> & <dbl> & <dbl> & <dbl> & <dbl> & <dbl> & <dbl> & <dbl> & <dbl> & <dbl> & <dbl> & <dbl> & <dbl> & <dbl> & <dbl> & <dbl> & <dbl> & <dbl> & <dbl> & <dbl> & <dbl> & <dbl> & <dbl> & <dbl> & <dbl> & <dbl> & <dbl> & <dbl> & <dbl> & <dbl> & <dbl> & <dbl> & <dbl> & <dbl> & <dbl> & <dbl> & <dbl> & <dbl> & <dbl> & <dbl> & <dbl> & <dbl> & <dbl> & <dbl> & <dbl> & <dbl> & <dbl> & <dbl> & <dbl> & <dbl> & <dbl> & <dbl> & <dbl> & <dbl> & <dbl> & <dbl> & <dbl> & <dbl> & <dbl> & <dbl> & <dbl> & <dbl> & <dbl> & <dbl> & <dbl> & <dbl> & <dbl> & <dbl> & <dbl> & <dbl> & <dbl> & <dbl> & <dbl> & <dbl> & <dbl> & <dbl> & <dbl> & <dbl> & <dbl> & <dbl> & <dbl> & <dbl> & <dbl> & <dbl> & <dbl> & <dbl> & <dbl> & <dbl> & <dbl> & <dbl> & <dbl> & <dbl> & <dbl> & <dbl> & <dbl> & <dbl> & <dbl> & <dbl> & <dbl> & <dbl> & <dbl> & <dbl> & <dbl> & <dbl> & <dbl> & <dbl> & <dbl> & <dbl> & <dbl> & <dbl> & <dbl> & <dbl> & <dbl> & <dbl> & <dbl> & <dbl> & <dbl> & <dbl> & <dbl> & <dbl> & <dbl> & <dbl> & <dbl> & <dbl> & <dbl> & <dbl> & <dbl> & <dbl> & <dbl> & <dbl> & <dbl> & <dbl> & <dbl> & <dbl> & <dbl> & <dbl> & <dbl> & <dbl> & <dbl> & <dbl> & <dbl> & <dbl> & <dbl> & <dbl> & <dbl> & <dbl> & <dbl> & <dbl> & <dbl> & <dbl> & <dbl> & <dbl> & <dbl> & <dbl> & <dbl> & <dbl> & <dbl> & <dbl> & <dbl> & <dbl> & <dbl> & <dbl> & <dbl> & <dbl> & <dbl> & <dbl> & <dbl> & <dbl> & <dbl> & <dbl> & <dbl> & <dbl> & <dbl> & <dbl> & <dbl> & <dbl> & <dbl> & <dbl> & <dbl> & <dbl> & <dbl> & <dbl> & <dbl> & <dbl> & <dbl> & <dbl> & <dbl> & <dbl> & <dbl> & <dbl> & <dbl> & <dbl> & <dbl> & <dbl> & <dbl> & <dbl> & <dbl> & <dbl> & <dbl> & <dbl> & <dbl> & <dbl> & <dbl> & <dbl> & <dbl> & <dbl> & <dbl> & <dbl> & <dbl> & <dbl> & <dbl> & <dbl> & <dbl> & <dbl> & <dbl> & <dbl> & <dbl> & <dbl> & <dbl> & <dbl> & <dbl> & <dbl> & <dbl> & <dbl> & <dbl> & <dbl> & <dbl> & <dbl> & <dbl> & <dbl> & <dbl> & <dbl> & <dbl> & <dbl> & <dbl> & <dbl> & <dbl> & <dbl> & <dbl> & <dbl> & <dbl> & <dbl> & <dbl> & <dbl> & <dbl> & <dbl> & <dbl> & <dbl> & <dbl> & <dbl> & <dbl> & <dbl> & <dbl> & <dbl> & <dbl> & <dbl> & <dbl> & <dbl> & <dbl> & <dbl> & <dbl> & <dbl> & <dbl> & <dbl> & <dbl> & <dbl> & <dbl> & <dbl> & <dbl> & <dbl> & <dbl> & <dbl> & <dbl> & <dbl> & <dbl> & <dbl> & <dbl> & <dbl> & <dbl> & <dbl> & <dbl> & <dbl> & <dbl> & <dbl> & <dbl> & <dbl> & <dbl> & <dbl> & <dbl> & <dbl> & <dbl> & <dbl> & <dbl> & <dbl> & <dbl> & <dbl> & <dbl> & <dbl> & <dbl> & <dbl> & <dbl> & <dbl> & <dbl> & <dbl> & <dbl> & <dbl> & <dbl> & <dbl> & <dbl> & <dbl> & <dbl> & <dbl> & <dbl> & <dbl> & <dbl> & <dbl> & <dbl> & <dbl> & <dbl> & <dbl> & <dbl> & <dbl> & <dbl> & <dbl> & <dbl> & <dbl> & <dbl> & <dbl> & <dbl> & <dbl> & <dbl> & <dbl> & <dbl> & <dbl> & <dbl> & <dbl> & <dbl> & <dbl> & <dbl> & <dbl> & <dbl> & <dbl> & <dbl> & <dbl> & <dbl> & <dbl> & <dbl> & <dbl> & <dbl> & <dbl> & <dbl> & <dbl> & <dbl> & <dbl> & <dbl> & <dbl> & <dbl> & <dbl> & <dbl> & <dbl> & <dbl> & <dbl> & <dbl> & <dbl> & <dbl> & <dbl> & <dbl> & <dbl> & <dbl> & <dbl> & <dbl> & <dbl> & <dbl> & <dbl> & <dbl> & <dbl> & <dbl> & <dbl> & <dbl> & <dbl> & <dbl> & <dbl> & <dbl> & <dbl> & <dbl> & <dbl> & <dbl> & <dbl> & <dbl> & <dbl> & <dbl> & <dbl> & <dbl> & <dbl> & <dbl> & <dbl> & <dbl> & <dbl> & <dbl> & <dbl> & <dbl> & <dbl> & <dbl> & <dbl> & <dbl> & <dbl> & <dbl> & <dbl> & <dbl> & <dbl> & <dbl> & <dbl> & <dbl> & <dbl> & <dbl> & <dbl> & <dbl> & <dbl> & <dbl> & <dbl> & <dbl> & <dbl> & <dbl> & <dbl> & <dbl> & <dbl> & <dbl> & <dbl> & <dbl> & <dbl> & <dbl> & <dbl> & <dbl> & <dbl> & <dbl> & <dbl> & <dbl> & <dbl> & <dbl> & <dbl> & <dbl> & <dbl> & <dbl> & <dbl> & <dbl> & <dbl> & <dbl> & <dbl> & <dbl> & <dbl> & <dbl> & <dbl> & <dbl> & <dbl> & <dbl> & <dbl> & <dbl> & <dbl> & <dbl> & <dbl> & <dbl> & <dbl> & <dbl> & <dbl> & <dbl> & <dbl> & <dbl> & <dbl> & <dbl> & <dbl> & <dbl> & <dbl> & <dbl> & <dbl> & <dbl> & <dbl> & <dbl> & <dbl> & <dbl> & <dbl> & <dbl> & <dbl> & <dbl> & <dbl> & <dbl> & <dbl> & <dbl> & <dbl> & <dbl> & <dbl> & <dbl> & <dbl> & <dbl> & <dbl> & <dbl> & <dbl> & <dbl> & <dbl> & <dbl> & <dbl> & <dbl> & <dbl> & <dbl> & <dbl> & <dbl> & <dbl> & <dbl> & <dbl> & <dbl> & <dbl> & <dbl> & <dbl> & <dbl> & <dbl> & <dbl> & <dbl> & <dbl> & <dbl> & <dbl> & <dbl> & <dbl> & <dbl> & <dbl> & <dbl> & <dbl> & <dbl> & <dbl> & <dbl> & <dbl> & <dbl> & <dbl> & <dbl> & <dbl> & <dbl> & <dbl> & <dbl> & <dbl> & <dbl> & <dbl> & <dbl> & <dbl> & <dbl> & <dbl> & <dbl> & <dbl> & <dbl> & <dbl> & <dbl> & <dbl> & <dbl> & <dbl> & <dbl> & <dbl> & <dbl> & <dbl> & <dbl> & <dbl> & <dbl> & <dbl> & <dbl> & <dbl> & <dbl> & <dbl> & <dbl> & <dbl> & <dbl> & <dbl> & <dbl> & <dbl> & <dbl> & <dbl> & <dbl> & <dbl> & <dbl> & <dbl> & <dbl> & <dbl> & <dbl> & <dbl> & <dbl> & <dbl> & <dbl> & <dbl> & <dbl> & <dbl> & <dbl> & <dbl> & <dbl> & <dbl> & <dbl> & <dbl> & <dbl> & <dbl> & <dbl> & <dbl> & <dbl> & <dbl> & <dbl> & <dbl> & <dbl> & <dbl> & <dbl> & <dbl> & <dbl> & <dbl> & <dbl> & <dbl> & <dbl> & <dbl> & <dbl> & <dbl> & <dbl> & <dbl> & <dbl> & <dbl> & <dbl> & <dbl> & <dbl> & <dbl> & <dbl> & <dbl> & <dbl> & <dbl> & <dbl> & <dbl> & <dbl> & <dbl> & <dbl> & <dbl> & <dbl> & <dbl> & <dbl> & <dbl> & <dbl> & <dbl> & <dbl> & <dbl> & <dbl> & <dbl> & <dbl> & <dbl> & <dbl> & <dbl> & <dbl> & <dbl> & <dbl> & <dbl> & <dbl> & <dbl> & <dbl> & <dbl> & <dbl> & <dbl> & <dbl> & <dbl> & <dbl> & <dbl> & <dbl> & <dbl> & <dbl> & <dbl> & <dbl> & <dbl> & <dbl> & <dbl> & <dbl> & <dbl> & <dbl> & <dbl> & <dbl> & <dbl> & <dbl> & <dbl> & <dbl> & <dbl> & <dbl> & <dbl> & <dbl> & <dbl> & <dbl> & <dbl> & <dbl> & <dbl> & <dbl> & <dbl> & <dbl> & <dbl> & <dbl> & <dbl> & <dbl> & <dbl> & <dbl> & <dbl> & <dbl> & <dbl> & <dbl> & <dbl> & <dbl> & <dbl> & <dbl> & <dbl> & <dbl> & <dbl> & <dbl> & <dbl> & <dbl> & <dbl> & <dbl> & <dbl> & <dbl> & <dbl> & <dbl> & <dbl> & <dbl> & <dbl> & <dbl> & <dbl> & <dbl> & <dbl> & <dbl> & <dbl> & <dbl> & <dbl> & <dbl> & <dbl> & <dbl> & <dbl> & <dbl> & <dbl> & <dbl> & <dbl> & <dbl> & <dbl> & <dbl> & <dbl> & <dbl> & <dbl> & <dbl> & <dbl> & <dbl> & <dbl> & <dbl> & <dbl> & <dbl> & <dbl> & <dbl> & <dbl> & <dbl> & <dbl> & <dbl> & <dbl> & <dbl> & <dbl> & <dbl> & <dbl> & <dbl> & <dbl> & <dbl> & <dbl> & <dbl> & <dbl> & <dbl> & <dbl> & <dbl> & <dbl> & <dbl> & <dbl> & <dbl> & <dbl> & <dbl> & <dbl> & <dbl> & <dbl> & <dbl> & <dbl> & <dbl> & <dbl> & <dbl> & <dbl> & <dbl> & <dbl> & <dbl> & <dbl> & <dbl> & <dbl> & <dbl> & <dbl> & <dbl> & <dbl> & <dbl> & <dbl> & <dbl> & <dbl> & <dbl> & <dbl> & <dbl> & <dbl> & <dbl> & <dbl> & <dbl> & <dbl> & <dbl> & <dbl> & <dbl> & <dbl> & <dbl> & <dbl> & <dbl> & <dbl> & <dbl> & <dbl> & <dbl> & <dbl> & <dbl> & <dbl> & <dbl> & <dbl> & <dbl> & <dbl> & <dbl> & <dbl> & <dbl> & <dbl> & <dbl> & <dbl> & <dbl> & <dbl> & <dbl> & <dbl> & <dbl> & <dbl> & <dbl> & <dbl> & <dbl> & <dbl> & <dbl> & <dbl> & <dbl> & <dbl> & <dbl> & <dbl> & <dbl> & <dbl> & <dbl> & <dbl> & <dbl> & <dbl> & <dbl> & <dbl> & <dbl> & <dbl> & <dbl> & <dbl> & <dbl> & <dbl> & <dbl> & <dbl> & <dbl> & <dbl> & <dbl> & <dbl> & <dbl> & <dbl> & <dbl> & <dbl> & <dbl> & <dbl> & <dbl> & <dbl> & <dbl> & <dbl> & <dbl> & <dbl> & <dbl> & <dbl> & <dbl> & <dbl> & <dbl> & <dbl> & <dbl> & <dbl> & <dbl> & <dbl> & <dbl> & <dbl> & <dbl> & <dbl> & <dbl> & <dbl> & <dbl> & <dbl> & <dbl> & <dbl> & <dbl> & <dbl> & <dbl> & <dbl> & <dbl> & <dbl> & <dbl> & <dbl> & <dbl> & <dbl> & <dbl> & <dbl> & <dbl> & <dbl> & <dbl> & <dbl> & <dbl> & <dbl> & <dbl> & <dbl> & <dbl> & <dbl> & <dbl> & <dbl> & <dbl> & <dbl> & <dbl> & <dbl> & <dbl> & <dbl> & <dbl> & <dbl> & <dbl> & <dbl> & <dbl> & <dbl> & <dbl> & <dbl> & <dbl> & <dbl> & <dbl> & <dbl> & <dbl> & <dbl> & <dbl> & <dbl> & <dbl> & <dbl> & <dbl> & <dbl> & <dbl> & <dbl> & <dbl> & <dbl> & <dbl> & <dbl> & <dbl> & <dbl> & <dbl> & <dbl> & <dbl> & <dbl> & <dbl> & <dbl> & <dbl> & <dbl> & <dbl> & <dbl> & <dbl> & <dbl> & <dbl> & <dbl> & <dbl> & <dbl> & <dbl> & <dbl> & <dbl> & <dbl> & <dbl> & <dbl> & <dbl> & <dbl> & <dbl> & <dbl> & <dbl> & <dbl> & <dbl> & <dbl> & <dbl> & <dbl> & <dbl> & <dbl> & <dbl> & <dbl> & <dbl> & <dbl> & <dbl> & <dbl> & <dbl> & <dbl> & <dbl> & <dbl> & <dbl> & <dbl> & <dbl> & <dbl> & <dbl> & <dbl> & <dbl> & <dbl> & <dbl> & <dbl> & <dbl> & <dbl> & <dbl> & <dbl> & <dbl> & <dbl> & <dbl> & <dbl> & <dbl> & <dbl> & <dbl> & <dbl> & <dbl> & <dbl> & <dbl> & <dbl> & <dbl> & <dbl> & <dbl> & <dbl> & <dbl> & <dbl> & <dbl> & <dbl> & <dbl> & <dbl> & <dbl> & <dbl> & <dbl> & <dbl> & <dbl> & <dbl> & <dbl> & <dbl> & <dbl> & <dbl> & <dbl> & <dbl> & <dbl> & <dbl> & <dbl> & <dbl> & <dbl> & <dbl> & <dbl> & <dbl> & <dbl> & <dbl> & <dbl> & <dbl> & <dbl> & <dbl> & <dbl> & <dbl> & <dbl> & <dbl> & <dbl> & <dbl> & <dbl> & <dbl> & <dbl> & <dbl> & <dbl> & <dbl> & <dbl> & <dbl> & <dbl> & <dbl> & <dbl> & <dbl> & <dbl> & <dbl> & <dbl> & <dbl> & <dbl> & <dbl> & <dbl> & <dbl> & <dbl> & <dbl> & <dbl> & <dbl> & <dbl> & <dbl> & <dbl> & <dbl> & <dbl> & <dbl> & <dbl> & <dbl> & <dbl> & <dbl> & <dbl> & <dbl> & <dbl> & <dbl> & <dbl> & <dbl> & <dbl> & <dbl> & <dbl> & <dbl> & <dbl> & <dbl> & <dbl> & <dbl> & <dbl> & <dbl> & <dbl> & <dbl> & <dbl> & <dbl> & <dbl> & <dbl> & <dbl> & <dbl> & <dbl> & <dbl> & <dbl> & <dbl> & <dbl> & <dbl> & <dbl> & <dbl> & <dbl> & <dbl> & <dbl> & <dbl> & <dbl> & <dbl> & <dbl> & <dbl> & <dbl> & <dbl> & <dbl> & <dbl> & <dbl> & <dbl> & <dbl> & <dbl> & <dbl> & <dbl> & <dbl> & <dbl> & <dbl> & <dbl> & <dbl> & <dbl> & <dbl> & <dbl> & <dbl> & <dbl> & <dbl> & <dbl> & <dbl> & <dbl> & <dbl> & <dbl> & <dbl> & <dbl> & <dbl> & <dbl> & <dbl> & <dbl> & <dbl> & <dbl> & <dbl> & <dbl> & <dbl> & <dbl> & <dbl> & <dbl> & <dbl> & <dbl> & <dbl> & <dbl> & <dbl> & <dbl> & <dbl> & <dbl> & <dbl> & <dbl> & <dbl> & <dbl> & <dbl> & <dbl> & <dbl> & <dbl> & <dbl> & <dbl> & <dbl> & <dbl> & <dbl> & <dbl> & <dbl> & <dbl> & <dbl> & <dbl> & <dbl> & <dbl> & <dbl> & <dbl> & <dbl> & <dbl> & <dbl> & <dbl> & <dbl> & <dbl> & <dbl> & <dbl> & <dbl> & <dbl> & <dbl> & <dbl> & <dbl> & <dbl> & <dbl> & <dbl> & <dbl> & <dbl> & <dbl> & <dbl> & <dbl> & <dbl> & <dbl> & <dbl> & <dbl> & <dbl> & <dbl> & <dbl> & <dbl> & <dbl> & <dbl> & <dbl> & <dbl> & <dbl> & <dbl> & <dbl> & <dbl> & <dbl> & <dbl> & <dbl> & <dbl> & <dbl> & <dbl> & <dbl> & <dbl> & <dbl> & <dbl> & <dbl> & <dbl> & <dbl> & <dbl> & <dbl> & <dbl> & <dbl> & <dbl> & <dbl> & <dbl> & <dbl> & <dbl> & <dbl> & <dbl> & <dbl> & <dbl> & <dbl> & <dbl> & <dbl> & <dbl> & <dbl> & <dbl> & <dbl> & <dbl> & <dbl> & <dbl> & <dbl> & <dbl> & <dbl> & <dbl> & <dbl> & <dbl> & <dbl> & <dbl> & <dbl> & <dbl> & <dbl> & <dbl> & <dbl> & <dbl> & <dbl> & <dbl> & <dbl> & <dbl> & <dbl> & <dbl> & <dbl> & <dbl> & <dbl> & <dbl> & <dbl> & <dbl> & <dbl> & <dbl> & <dbl> & <dbl> & <dbl> & <dbl> & <dbl> & <dbl> & <dbl> & <dbl> & <dbl> & <dbl> & <dbl> & <dbl> & <dbl> & <dbl> & <dbl> & <dbl> & <dbl> & <dbl> & <dbl> & <dbl> & <dbl> & <dbl> & <dbl> & <dbl> & <dbl> & <dbl> & <dbl> & <dbl> & <dbl> & <dbl> & <dbl> & <dbl> & <dbl> & <dbl> & <dbl> & <dbl> & <dbl> & <dbl> & <dbl> & <dbl> & <dbl> & <dbl> & <dbl> & <dbl> & <dbl> & <dbl> & <dbl> & <dbl> & <dbl> & <dbl> & <dbl> & <dbl> & <dbl> & <dbl> & <dbl> & <dbl> & <dbl> & <dbl> & <dbl> & <dbl> & <dbl> & <dbl> & <dbl> & <dbl> & <dbl> & <dbl> & <dbl> & <dbl> & <dbl> & <dbl> & <dbl> & <dbl> & <dbl> & <dbl> & <dbl> & <dbl> & <dbl> & <dbl> & <dbl> & <dbl> & <dbl> & <dbl> & <dbl> & <dbl> & <dbl> & <dbl> & <dbl> & <dbl> & <dbl> & <dbl> & <dbl> & <dbl> & <dbl> & <dbl> & <dbl> & <dbl> & <dbl> & <dbl> & <dbl> & <dbl> & <dbl> & <dbl> & <dbl> & <dbl> & <dbl> & <dbl> & <dbl> & <dbl> & <dbl> & <dbl> & <dbl> & <dbl> & <dbl> & <dbl> & <dbl> & <dbl> & <dbl> & <dbl> & <dbl> & <dbl> & <dbl> & <dbl> & <dbl> & <dbl> & <dbl> & <dbl> & <dbl> & <dbl> & <dbl> & <dbl> & <dbl> & <dbl> & <dbl> & <dbl> & <dbl> & <dbl> & <dbl> & <dbl> & <dbl> & <dbl> & <dbl> & <dbl> & <dbl> & <dbl> & <dbl> & <dbl> & <dbl> & <dbl> & <dbl> & <dbl> & <dbl> & <dbl> & <dbl> & <dbl> & <dbl> & <dbl> & <dbl> & <dbl> & <dbl> & <dbl> & <dbl> & <dbl> & <dbl> & <dbl> & <dbl> & <dbl> & <dbl> & <dbl> & <dbl> & <dbl> & <dbl> & <dbl> & <dbl> & <dbl> & <dbl> & <dbl> & <dbl> & <dbl> & <dbl> & <dbl> & <dbl> & <dbl> & <dbl> & <dbl> & <dbl> & <dbl> & <dbl> & <dbl> & <dbl> & <dbl> & <dbl> & <dbl> & <dbl> & <dbl> & <dbl> & <dbl> & <dbl> & <dbl> & <dbl> & <dbl> & <dbl> & <dbl> & <dbl> & <dbl> & <dbl> & <dbl> & <dbl> & <dbl> & <dbl> & <dbl> & <dbl> & <dbl> & <dbl> & <dbl> & <dbl> & <dbl> & <dbl> & <dbl> & <dbl> & <dbl> & <dbl> & <dbl> & <dbl> & <dbl> & <dbl> & <dbl> & <dbl> & <dbl> & <dbl> & <dbl> & <dbl> & <dbl> & <dbl> & <dbl> & <dbl> & <dbl> & <dbl> & <dbl> & <dbl> & <dbl> & <dbl> & <dbl> & <dbl> & <dbl> & <dbl> & <dbl> & <dbl> & <dbl> & <dbl> & <dbl> & <dbl> & <dbl> & <dbl> & <dbl> & <dbl> & <dbl> & <dbl> & <dbl> & <dbl> & <dbl> & <dbl> & <dbl> & <dbl> & <dbl> & <dbl> & <dbl> & <dbl> & <dbl> & <dbl> & <dbl> & <dbl> & <dbl> & <dbl> & <dbl> & <dbl> & <dbl> & <dbl> & <dbl> & <dbl> & <dbl> & <dbl> & <dbl> & <dbl> & <dbl> & <dbl> & <dbl> & <dbl> & <dbl> & <dbl> & <dbl> & <dbl> & <dbl> & <dbl> & <dbl> & <dbl> & <dbl> & <dbl> & <dbl> & <dbl> & <dbl> & <dbl> & <dbl> & <dbl> & <dbl> & <dbl> & <dbl> & <dbl> & <dbl> & <dbl> & <dbl> & <dbl> & <dbl> & <dbl> & <dbl> & <dbl> & <dbl> & <dbl> & <dbl> & <dbl> & <dbl> & <dbl> & <dbl> & <dbl> & <dbl> & <dbl> & <dbl> & <dbl> & <dbl> & <dbl> & <dbl> & <dbl> & <dbl> & <dbl> & <dbl> & <dbl> & <dbl> & <dbl> & <dbl> & <dbl> & <dbl> & <dbl> & <dbl> & <dbl> & <dbl> & <dbl> & <dbl> & <dbl> & <dbl> & <dbl> & <dbl> & <dbl> & <dbl> & <dbl> & <dbl> & <dbl> & <dbl> & <dbl> & <dbl> & <dbl> & <dbl> & <dbl> & <dbl> & <dbl> & <dbl> & <dbl> & <dbl> & <dbl> & <dbl> & <dbl> & <dbl> & <dbl> & <dbl> & <dbl> & <dbl> & <dbl> & <dbl> & <dbl> & <dbl> & <dbl> & <dbl> & <dbl> & <dbl> & <dbl> & <dbl> & <dbl> & <dbl> & <dbl> & <dbl> & <dbl> & <dbl> & <dbl> & <dbl> & <dbl> & <dbl> & <dbl> & <dbl> & <dbl> & <dbl> & <dbl> & <dbl> & <dbl> & <dbl> & <dbl> & <dbl> & <dbl> & <dbl> & <dbl> & <dbl> & <dbl> & <dbl> & <dbl> & <dbl> & <dbl> & <dbl> & <dbl> & <dbl> & <dbl> & <dbl> & <dbl> & <dbl> & <dbl> & <dbl> & <dbl> & <dbl> & <dbl> & <dbl> & <dbl> & <dbl> & <dbl> & <dbl> & <dbl> & <dbl> & <dbl> & <dbl> & <dbl> & <dbl> & <dbl> & <dbl> & <dbl> & <dbl> & <dbl> & <dbl> & <dbl> & <dbl> & <dbl> & <dbl> & <dbl> & <dbl> & <dbl> & <dbl> & <dbl> & <dbl> & <dbl> & <dbl> & <dbl> & <dbl> & <dbl> & <dbl> & <dbl> & <dbl> & <dbl> & <dbl> & <dbl> & <dbl> & <dbl> & <dbl> & <dbl> & <dbl> & <dbl> & <dbl> & <dbl> & <dbl> & <dbl> & <dbl> & <dbl> & <dbl> & <dbl> & <dbl> & <dbl> & <dbl> & <dbl> & <dbl> & <dbl> & <dbl> & <dbl> & <dbl> & <dbl> & <dbl> & <dbl> & <dbl> & <dbl> & <dbl> & <dbl> & <dbl> & <dbl> & <dbl> & <dbl> & <dbl> & <dbl> & <dbl> & <dbl> & <dbl> & <dbl> & <dbl> & <dbl> & <dbl> & <dbl> & <dbl> & <dbl> & <dbl> & <dbl> & <dbl> & <dbl> & <dbl> & <dbl> & <dbl> & <dbl> & <dbl> & <dbl> & <dbl> & <dbl> & <dbl> & <dbl> & <dbl> & <dbl> & <dbl> & <dbl> & <dbl> & <dbl> & <dbl> & <dbl> & <dbl> & <dbl> & <dbl> & <dbl> & <dbl> & <dbl> & <dbl> & <dbl> & <dbl> & <dbl> & <dbl> & <dbl> & <dbl> & <dbl> & <dbl> & <dbl> & <dbl> & <dbl> & <dbl> & <dbl> & <dbl> & <dbl> & <dbl> & <dbl> & <dbl> & <dbl> & <dbl> & <dbl> & <dbl> & <dbl> & <dbl> & <dbl> & <dbl> & <dbl> & <dbl> & <dbl> & <dbl> & <dbl> & <dbl> & <dbl> & <dbl> & <dbl> & <dbl> & <dbl> & <dbl> & <dbl> & <dbl> & <dbl> & <dbl> & <dbl> & <dbl> & <dbl> & <dbl> & <dbl> & <dbl> & <dbl> & <dbl> & <dbl> & <dbl> & <dbl> & <dbl> & <dbl> & <dbl> & <dbl> & <dbl> & <dbl> & <dbl> & <dbl> & <dbl> & <dbl> & <dbl> & <dbl> & <dbl> & <dbl> & <dbl> & <dbl> & <dbl> & <dbl> & <dbl> & <dbl> & <dbl> & <dbl> & <dbl> & <dbl> & <dbl> & <dbl> & <dbl> & <dbl> & <dbl> & <dbl> & <dbl> & <dbl> & <dbl> & <dbl> & <dbl> & <dbl> & <dbl> & <dbl> & <dbl> & <dbl> & <dbl> & <dbl> & <dbl> & <dbl> & <dbl> & <dbl> & <dbl> & <dbl> & <dbl> & <dbl> & <dbl> & <dbl> & <dbl> & <dbl> & <dbl> & <dbl> & <dbl> & <dbl> & <dbl> & <dbl> & <dbl> & <dbl> & <dbl> & <dbl> & <dbl> & <dbl> & <dbl> & <dbl> & <dbl> & <dbl> & <dbl> & <dbl> & <dbl> & <dbl> & <dbl> & <dbl> & <dbl> & <dbl> & <dbl> & <dbl> & <dbl> & <dbl> & <dbl> & <dbl> & <dbl> & <dbl> & <dbl> & <dbl> & <dbl> & <dbl> & <dbl> & <dbl> & <dbl> & <dbl> & <dbl> & <dbl> & <dbl> & <dbl> & <dbl> & <dbl> & <dbl> & <dbl> & <dbl> & <dbl> & <dbl> & <dbl> & <dbl> & <dbl> & <dbl> & <dbl> & <dbl> & <dbl> & <dbl> & <dbl> & <dbl> & <dbl> & <dbl> & <dbl> & <dbl> & <dbl> & <dbl> & <dbl> & <dbl> & <dbl> & <dbl> & <dbl> & <dbl> & <dbl> & <dbl> & <dbl> & <dbl> & <dbl> & <dbl> & <dbl> & <dbl> & <dbl> & <dbl> & <dbl> & <dbl> & <dbl> & <dbl> & <dbl> & <dbl> & <dbl> & <dbl> & <dbl> & <dbl> & <dbl> & <dbl> & <dbl> & <dbl> & <dbl> & <dbl> & <dbl> & <dbl> & <dbl> & <dbl> & <dbl> & <dbl> & <dbl> & <dbl> & <dbl> & <dbl> & <dbl> & <dbl> & <dbl> & <dbl> & <dbl> & <dbl> & <dbl> & <dbl> & <dbl> & <dbl> & <dbl> & <dbl> & <dbl> & <dbl> & <dbl> & <dbl> & <dbl> & <dbl> & <dbl> & <dbl> & <dbl> & <dbl> & <dbl> & <dbl> & <dbl> & <dbl> & <dbl> & <dbl> & <dbl> & <dbl> & <dbl> & <dbl> & <dbl> & <dbl> & <dbl> & <dbl> & <dbl> & <dbl> & <dbl> & <dbl> & <dbl> & <dbl> & <dbl> & <dbl> & <dbl> & <dbl> & <dbl> & <dbl> & <dbl> & <dbl> & <dbl> & <dbl> & <dbl> & <dbl> & <dbl> & <dbl> & <dbl> & <dbl> & <dbl> & <dbl> & <dbl> & <dbl> & <dbl> & <dbl> & <dbl> & <dbl> & <dbl> & <dbl> & <dbl> & <dbl> & <dbl> & <dbl> & <dbl> & <dbl> & <dbl> & <dbl> & <dbl> & <dbl> & <dbl> & <dbl> & <dbl> & <dbl> & <dbl> & <dbl> & <dbl> & <dbl> & <dbl> & <dbl> & <dbl> & <dbl> & <dbl> & <dbl> & <dbl> & <dbl> & <dbl> & <dbl> & <dbl> & <dbl> & <dbl> & <dbl> & <dbl> & <dbl> & <dbl> & <dbl> & <dbl> & <dbl> & <dbl> & <dbl> & <dbl> & <dbl> & <dbl> & <dbl> & <dbl> & <dbl> & <dbl> & <dbl> & <dbl> & <dbl> & <dbl> & <dbl> & <dbl> & <dbl> & <dbl> & <dbl> & <dbl> & <dbl> & <dbl> & <dbl> & <dbl> & <dbl> & <dbl> & <dbl> & <dbl> & <dbl> & <dbl> & <dbl> & <dbl> & <dbl> & <dbl> & <dbl> & <dbl> & <dbl> & <dbl> & <dbl> & <dbl> & <dbl> & <dbl> & <dbl> & <dbl> & <dbl> & <dbl> & <dbl> & <dbl> & <dbl> & <dbl> & <dbl> & <dbl> & <dbl> & <dbl> & <dbl> & <dbl> & <dbl> & <dbl> & <dbl> & <dbl> & <dbl> & <dbl> & <dbl> & <dbl> & <dbl> & <dbl> & <dbl> & <dbl> & <dbl> & <dbl> & <dbl> & <dbl> & <dbl> & <dbl> & <dbl> & <dbl> & <dbl> & <dbl> & <dbl> & <dbl> & <dbl> & <dbl> & <dbl> & <dbl> & <dbl> & <dbl> & <dbl> & <dbl> & <dbl> & <dbl> & <dbl> & <dbl> & <dbl> & <dbl> & <dbl> & <dbl> & <dbl> & <dbl> & <dbl> & <dbl> & <dbl> & <dbl> & <dbl> & <dbl> & <dbl> & <dbl> & <dbl> & <dbl> & <dbl> & <dbl> & <dbl> & <dbl> & <dbl> & <dbl> & <dbl> & <dbl> & <dbl> & <dbl> & <dbl> & <dbl> & <dbl> & <dbl> & <dbl> & <dbl> & <dbl> & <dbl> & <dbl> & <dbl> & <dbl> & <dbl> & <dbl> & <dbl> & <dbl> & <dbl> & <dbl> & <dbl> & <dbl> & <dbl> & <dbl> & <dbl> & <dbl> & <dbl> & <dbl> & <dbl> & <dbl> & <dbl> & <dbl> & <dbl> & <dbl> & <dbl> & <dbl> & <dbl> & <dbl> & <dbl> & <dbl> & <dbl> & <dbl> & <dbl> & <dbl> & <dbl> & <dbl> & <dbl> & <dbl> & <dbl> & <dbl> & <dbl> & <dbl> & <dbl> & <dbl> & <dbl> & <dbl> & <dbl> & <dbl> & <dbl> & <dbl> & <dbl> & <dbl> & <dbl> & <dbl> & <dbl> & <dbl> & <dbl> & <dbl> & <dbl> & <dbl> & <dbl> & <dbl> & <dbl> & <dbl> & <dbl> & <dbl> & <dbl> & <dbl> & <dbl> & <dbl> & <dbl> & <dbl> & <dbl> & <dbl> & <dbl> & <dbl> & <dbl> & <dbl> & <dbl> & <dbl> & <dbl> & <dbl> & <dbl> & <dbl> & <dbl> & <dbl> & <dbl> & <dbl> & <dbl> & <dbl> & <dbl> & <dbl> & <dbl> & <dbl> & <dbl> & <dbl> & <dbl> & <dbl> & <dbl> & <dbl> & <dbl> & <dbl> & <dbl> & <dbl> & <dbl> & <dbl> & <dbl> & <dbl> & <dbl> & <dbl> & <dbl> & <dbl> & <dbl> & <dbl> & <dbl> & <dbl> & <dbl> & <dbl> & <dbl> & <dbl> & <dbl> & <dbl> & <dbl> & <dbl> & <dbl> & <dbl> & <dbl> & <dbl> & <dbl> & <dbl> & <dbl> & <dbl> & <dbl> & <dbl> & <dbl> & <dbl> & <dbl> & <dbl> & <dbl> & <dbl> & <dbl> & <dbl> & <dbl> & <dbl> & <dbl> & <dbl> & <dbl> & <dbl> & <dbl> & <dbl> & <dbl> & <dbl> & <dbl> & <dbl> & <dbl> & <dbl> & <dbl> & <dbl> & <dbl> & <dbl> & <dbl> & <dbl> & <dbl> & <dbl> & <dbl> & <dbl> & <dbl> & <dbl> & <dbl> & <dbl> & <dbl> & <dbl> & <dbl> & <dbl> & <dbl> & <dbl> & <dbl> & <dbl> & <dbl> & <dbl> & <dbl> & <dbl> & <dbl> & <dbl> & <dbl> & <dbl> & <dbl> & <dbl> & <dbl> & <dbl> & <dbl> & <dbl> & <dbl> & <dbl> & <dbl> & <dbl> & <dbl> & <dbl> & <dbl> & <dbl> & <dbl> & <dbl> & <dbl> & <dbl> & <dbl> & <dbl> & <dbl> & <dbl> & <dbl> & <dbl> & <dbl> & <dbl> & <dbl> & <dbl> & <dbl> & <dbl> & <dbl> & <dbl> & <dbl> & <dbl> & <dbl> & <dbl> & <dbl> & <dbl> & <dbl> & <dbl> & <dbl> & <dbl> & <dbl> & <dbl> & <dbl> & <dbl> & <dbl> & <dbl> & <dbl> & <dbl> & <dbl> & <dbl> & <dbl> & <dbl> & <dbl> & <dbl> & <dbl> & <dbl> & <dbl> & <dbl> & <dbl> & <dbl> & <dbl> & <dbl> & <dbl> & <dbl> & <dbl> & <dbl> & <dbl> & <dbl> & <dbl> & <dbl> & <dbl> & <dbl> & <dbl> & <dbl> & <dbl> & <dbl> & <dbl> & <dbl> & <dbl> & <dbl> & <dbl> & <dbl> & <dbl> & <dbl> & <dbl> & <dbl> & <dbl> & <dbl> & <dbl> & <dbl> & <dbl> & <dbl> & <dbl> & <dbl> & <dbl> & <dbl> & <dbl> & <dbl> & <dbl> & <dbl> & <dbl> & <dbl> & <dbl> & <dbl> & <dbl> & <dbl> & <dbl> & <dbl> & <dbl> & <dbl> & <dbl> & <dbl> & <dbl> & <dbl> & <dbl> & <dbl> & <dbl> & <dbl> & <dbl> & <dbl> & <dbl> & <dbl> & <dbl> & <dbl> & <dbl> & <dbl> & <dbl> & <dbl> & <dbl> & <dbl> & <dbl> & <dbl> & <dbl> & <dbl> & <dbl> & <dbl> & <dbl> & <dbl> & <dbl> & <dbl> & <dbl> & <dbl> & <dbl> & <dbl> & <dbl> & <dbl> & <dbl> & <dbl> & <dbl> & <dbl> & <dbl> & <dbl> & <dbl> & <dbl> & <dbl> & <dbl> & <dbl> & <dbl> & <dbl> & <dbl> & <dbl> & <dbl> & <dbl> & <dbl> & <dbl> & <dbl> & <dbl> & <dbl> & <dbl> & <dbl> & <dbl> & <dbl> & <dbl> & <dbl> & <dbl> & <dbl> & <dbl> & <dbl> & <dbl> & <dbl> & <dbl> & <dbl> & <dbl> & <dbl> & <dbl> & <dbl> & <dbl> & <dbl> & <dbl> & <dbl> & <dbl> & <dbl> & <dbl> & <dbl> & <dbl> & <dbl> & <dbl> & <dbl> & <dbl> & <dbl> & <dbl> & <dbl> & <dbl> & <dbl> & <dbl> & <dbl> & <dbl> & <dbl> & <dbl> & <dbl> & <dbl> & <dbl> & <dbl> & <dbl> & <dbl> & <dbl> & <dbl> & <dbl> & <dbl> & <dbl> & <dbl> & <dbl> & <dbl> & <dbl> & <dbl> & <dbl> & <dbl> & <dbl> & <dbl> & <dbl> & <dbl> & <dbl> & <dbl> & <dbl> & <dbl> & <dbl> & <dbl> & <dbl> & <dbl> & <dbl> & <dbl> & <dbl> & <dbl> & <dbl> & <dbl> & <dbl> & <dbl> & <dbl> & <dbl> & <dbl> & <dbl> & <dbl> & <dbl> & <dbl> & <dbl> & <dbl> & <dbl> & <dbl> & <dbl> & <dbl> & <dbl> & <dbl> & <dbl> & <dbl> & <dbl> & <dbl> & <dbl> & <dbl> & <dbl> & <dbl> & <dbl> & <dbl> & <dbl> & <dbl> & <dbl> & <dbl> & <dbl> & <dbl> & <dbl> & <dbl> & <dbl> & <dbl> & <dbl> & <dbl> & <dbl> & <dbl> & <dbl> & <dbl> & <dbl> & <dbl> & <dbl> & <dbl> & <dbl> & <dbl> & <dbl> & <dbl> & <dbl> & <dbl> & <dbl> & <dbl> & <dbl> & <dbl> & <dbl> & <dbl> & <dbl> & <dbl> & <dbl> & <dbl> & <dbl> & <dbl> & <dbl> & <dbl> & <dbl> & <dbl> & <dbl> & <dbl> & <dbl> & <dbl> & <dbl> & <dbl> & <dbl> & <dbl> & <dbl> & <dbl> & <dbl> & <dbl> & <dbl> & <dbl> & <dbl> & <dbl> & <dbl> & <dbl> & <dbl> & <dbl> & <dbl> & <dbl> & <dbl> & <dbl> & <dbl> & <dbl> & <dbl> & <dbl> & <dbl> & <dbl> & <dbl> & <dbl> & <dbl> & <dbl> & <dbl> & <dbl> & <dbl> & <dbl> & <dbl> & <dbl> & <dbl> & <dbl> & <dbl> & <dbl> & <dbl> & <dbl> & <dbl> & <dbl> & <dbl> & <dbl> & <dbl> & <dbl> & <dbl> & <dbl> & <dbl> & <dbl> & <dbl> & <dbl> & <dbl> & <dbl> & <dbl> & <dbl> & <dbl> & <dbl> & <dbl> & <dbl> & <dbl> & <dbl> & <dbl> & <dbl> & <dbl> & <dbl> & <dbl> & <dbl> & <dbl> & <dbl> & <dbl> & <dbl> & <dbl> & <dbl> & <dbl> & <dbl> & <dbl> & <dbl> & <dbl> & <dbl> & <dbl> & <dbl> & <dbl> & <dbl> & <dbl> & <dbl> & <dbl> & <dbl> & <dbl> & <dbl> & <dbl> & <dbl> & <dbl> & <dbl> & <dbl> & <dbl> & <dbl> & <dbl> & <dbl> & <dbl> & <dbl> & <dbl> & <dbl> & <dbl> & <dbl> & <dbl> & <dbl> & <dbl> & <dbl> & <dbl> & <dbl> & <dbl> & <dbl> & <dbl> & <dbl> & <dbl> & <dbl> & <dbl> & <dbl> & <dbl> & <dbl> & <dbl> & <dbl> & <dbl> & <dbl> & <dbl> & <dbl> & <dbl> & <dbl> & <dbl> & <dbl> & <dbl> & <dbl> & <dbl> & <dbl> & <dbl> & <dbl> & <dbl> & <dbl> & <dbl> & <dbl> & <dbl> & <dbl> & <dbl> & <dbl> & <dbl> & <dbl> & <dbl> & <dbl> & <dbl> & <dbl> & <dbl> & <dbl> & <dbl> & <dbl> & <dbl> & <dbl> & <dbl> & <dbl> & <dbl> & <dbl> & <dbl> & <dbl> & <dbl> & <dbl> & <dbl> & <dbl> & <dbl> & <dbl> & <dbl> & <dbl> & <dbl> & <dbl> & <dbl> & <dbl> & <dbl> & <dbl> & <dbl> & <dbl> & <dbl> & <dbl> & <dbl> & <dbl> & <dbl> & <dbl> & <dbl> & <dbl> & <dbl> & <dbl> & <dbl> & <dbl> & <dbl> & <dbl> & <dbl> & <dbl> & <dbl> & <dbl> & <dbl> & <dbl> & <dbl> & <dbl> & <dbl> & <dbl> & <dbl> & <dbl> & <dbl> & <dbl> & <dbl> & <dbl> & <dbl> & <dbl> & <dbl> & <dbl> & <dbl> & <dbl> & <dbl> & <dbl> & <dbl> & <dbl> & <dbl> & <dbl> & <dbl> & <dbl> & <dbl> & <dbl> & <dbl> & <dbl> & <dbl> & <dbl> & <dbl> & <dbl> & <dbl> & <dbl> & <dbl> & <dbl> & <dbl> & <dbl> & <dbl> & <dbl> & <dbl> & <dbl> & <dbl> & <dbl> & <dbl> & <dbl> & <dbl> & <dbl> & <dbl> & <dbl> & <dbl> & <dbl> & <dbl> & <dbl> & <dbl> & <dbl> & <dbl> & <dbl> & <dbl> & <dbl> & <dbl> & <dbl> & <dbl> & <dbl> & <dbl> & <dbl> & <dbl> & <dbl> & <dbl> & <dbl> & <dbl> & <dbl> & <dbl> & <dbl> & <dbl> & <dbl> & <dbl> & <dbl> & <dbl> & <dbl> & <dbl> & <dbl> & <dbl> & <dbl> & <dbl> & <dbl> & <dbl> & <dbl> & <dbl> & <dbl> & <dbl> & <dbl> & <dbl> & <dbl> & <dbl> & <dbl> & <dbl> & <dbl> & <dbl> & <dbl> & <dbl> & <dbl> & <dbl> & <dbl> & <dbl> & <dbl> & <dbl> & <dbl> & <dbl> & <dbl> & <dbl> & <dbl> & <dbl> & <dbl> & <dbl> & <dbl> & <dbl> & <dbl> & <dbl> & <dbl> & <dbl> & <dbl> & <dbl> & <dbl> & <dbl> & <dbl> & <dbl> & <dbl> & <dbl> & <dbl> & <dbl> & <dbl> & <dbl> & <dbl> & <dbl> & <dbl> & <dbl> & <dbl> & <dbl> & <dbl> & <dbl> & <dbl> & <dbl> & <dbl> & <dbl> & <dbl> & <dbl> & <dbl> & <dbl> & <dbl> & <dbl> & <dbl> & <dbl> & <dbl> & <dbl> & <dbl> & <dbl> & <dbl> & <dbl> & <dbl> & <dbl> & <dbl> & <dbl> & <dbl> & <dbl> & <dbl> & <dbl> & <dbl> & <dbl> & <dbl> & <dbl> & <dbl> & <dbl> & <dbl> & <dbl> & <dbl> & <dbl> & <dbl> & <dbl> & <dbl> & <dbl> & <dbl> & <dbl> & <dbl> & <dbl> & <dbl> & <dbl> & <dbl> & <dbl> & <dbl> & <dbl> & <dbl> & <dbl> & <dbl> & <dbl> & <dbl> & <dbl> & <dbl> & <dbl> & <dbl> & <dbl> & <dbl> & <dbl> & <dbl> & <dbl> & <dbl> & <dbl> & <dbl> & <dbl> & <dbl> & <dbl> & <dbl> & <dbl> & <dbl> & <dbl> & <dbl> & <dbl> & <dbl> & <dbl> & <dbl> & <dbl> & <dbl> & <dbl> & <dbl> & <dbl> & <dbl> & <dbl> & <dbl> & <dbl> & <dbl> & <dbl> & <dbl> & <dbl> & <dbl> & <dbl> & <dbl> & <dbl> & <dbl> & <dbl> & <dbl> & <dbl> & <dbl> & <dbl> & <dbl> & <dbl> & <dbl> & <dbl> & <dbl> & <dbl> & <dbl> & <dbl> & <dbl> & <dbl> & <dbl> & <dbl> & <dbl> & <dbl> & <dbl> & <dbl> & <dbl> & <dbl> & <dbl> & <dbl> & <dbl> & <dbl> & <dbl> & <dbl> & <dbl> & <dbl> & <dbl> & <dbl> & <dbl> & <dbl> & <dbl> & <dbl> & <dbl> & <dbl> & <dbl> & <dbl> & <dbl> & <dbl> & <dbl> & <dbl> & <dbl> & <dbl> & <dbl> & <dbl> & <dbl> & <dbl> & <dbl> & <dbl> & <dbl> & <dbl> & <dbl> & <dbl> & <dbl> & <dbl> & <dbl> & <dbl> & <dbl> & <dbl> & <dbl> & <dbl> & <dbl> & <dbl> & <dbl> & <dbl> & <dbl> & <dbl> & <dbl> & <dbl> & <dbl> & <dbl> & <dbl> & <dbl> & <dbl> & <dbl> & <dbl> & <dbl> & <dbl> & <dbl> & <dbl> & <dbl> & <dbl> & <dbl> & <dbl> & <dbl> & <dbl> & <dbl> & <dbl> & <dbl> & <dbl> & <dbl> & <dbl> & <dbl> & <dbl> & <dbl> & <dbl> & <dbl> & <dbl> & <dbl> & <dbl> & <dbl> & <dbl> & <dbl> & <dbl> & <dbl> & <dbl> & <dbl> & <dbl> & <dbl> & <dbl> & <dbl> & <dbl> & <dbl> & <dbl> & <dbl> & <dbl> & <dbl> & <dbl> & <dbl> & <dbl> & <dbl> & <dbl> & <dbl> & <dbl> & <dbl> & <dbl> & <dbl> & <dbl> & <dbl> & <dbl> & <dbl> & <dbl> & <dbl> & <dbl> & <dbl> & <dbl> & <dbl> & <dbl> & <dbl> & <dbl> & <dbl> & <dbl> & <dbl> & <dbl> & <dbl> & <dbl> & <dbl> & <dbl> & <dbl> & <dbl> & <dbl> & <dbl> & <dbl> & <dbl> & <dbl> & <dbl> & <dbl> & <dbl> & <dbl> & <dbl> & <dbl> & <dbl> & <dbl> & <dbl> & <dbl> & <dbl> & <dbl> & <dbl> & <dbl> & <dbl> & <dbl> & <dbl> & <dbl> & <dbl> & <dbl> & <dbl> & <dbl> & <dbl> & <dbl> & <dbl> & <dbl> & <dbl> & <dbl> & <dbl> & <dbl> & <dbl> & <dbl> & <dbl> & <dbl> & <dbl> & <dbl> & <dbl> & <dbl> & <dbl> & <dbl> & <dbl> & <dbl> & <dbl> & <dbl> & <dbl> & <dbl> & <dbl> & <dbl> & <dbl> & <dbl> & <dbl> & <dbl> & <dbl> & <dbl> & <dbl> & <dbl> & <dbl> & <dbl> & <dbl> & <dbl> & <dbl> & <dbl> & <dbl> & <dbl> & <dbl> & <dbl> & <dbl> & <dbl> & <dbl> & <dbl> & <dbl> & <dbl> & <dbl> & <dbl> & <dbl> & <dbl> & <dbl> & <dbl> & <dbl> & <dbl> & <dbl> & <dbl> & <dbl> & <dbl> & <dbl> & <dbl> & <dbl> & <dbl> & <dbl> & <dbl> & <dbl> & <dbl> & <dbl> & <dbl> & <dbl> & <dbl> & <dbl> & <dbl> & <dbl> & <dbl> & <dbl> & <dbl> & <dbl> & <dbl> & <dbl> & <dbl> & <dbl> & <dbl> & <dbl> & <dbl> & <dbl> & <dbl> & <dbl> & <dbl> & <dbl> & <dbl> & <dbl> & <dbl> & <dbl> & <dbl> & <dbl> & <dbl> & <dbl> & <dbl> & <dbl> & <dbl> & <dbl> & <dbl> & <dbl> & <dbl> & <dbl> & <dbl> & <dbl> & <dbl> & <dbl> & <dbl> & <dbl> & <dbl> & <dbl> & <dbl> & <dbl> & <dbl> & <dbl> & <dbl> & <dbl> & <dbl> & <dbl> & <dbl> & <dbl> & <dbl> & <dbl> & <dbl> & <dbl> & <dbl> & <dbl> & <dbl> & <dbl> & <dbl> & <dbl> & <dbl> & <dbl> & <dbl> & <dbl> & <dbl> & <dbl> & <dbl> & <dbl> & <dbl> & <dbl> & <dbl> & <dbl> & <dbl> & <dbl> & <dbl> & <dbl> & <dbl> & <dbl> & <dbl> & <dbl> & <dbl> & <dbl> & <dbl> & <dbl> & <dbl> & <dbl> & <dbl> & <dbl> & <dbl> & <dbl> & <dbl> & <dbl> & <dbl> & <dbl> & <dbl> & <dbl> & <dbl> & <dbl> & <dbl> & <dbl> & <dbl> & <dbl> & <dbl> & <dbl> & <dbl> & <dbl> & <dbl> & <dbl> & <dbl> & <dbl> & <dbl> & <dbl> & <dbl> & <dbl> & <dbl> & <dbl> & <dbl> & <dbl> & <dbl> & <dbl> & <dbl> & <dbl> & <dbl> & <dbl> & <dbl> & <dbl> & <dbl> & <dbl> & <dbl> & <dbl> & <dbl> & <dbl> & <dbl> & <dbl> & <dbl> & <dbl> & <dbl> & <dbl> & <dbl> & <dbl> & <dbl> & <dbl> & <dbl> & <dbl> & <dbl> & <dbl> & <dbl> & <dbl> & <dbl> & <dbl> & <dbl> & <dbl> & <dbl> & <dbl> & <dbl> & <dbl> & <dbl> & <dbl> & <dbl> & <dbl> & <dbl> & <dbl> & <dbl> & <dbl> & <dbl> & <dbl> & <dbl> & <dbl> & <dbl> & <dbl> & <dbl> & <dbl> & <dbl> & <dbl> & <dbl> & <dbl> & <dbl> & <dbl> & <dbl> & <dbl> & <dbl> & <dbl> & <dbl> & <dbl> & <dbl> & <dbl> & <dbl> & <dbl> & <dbl> & <dbl> & <dbl> & <dbl> & <dbl> & <dbl> & <dbl> & <dbl> & <dbl> & <dbl> & <dbl> & <dbl> & <dbl> & <dbl> & <dbl> & <dbl> & <dbl> & <dbl> & <dbl> & <dbl> & <dbl> & <dbl> & <dbl> & <dbl> & <dbl> & <dbl> & <dbl> & <dbl> & <dbl> & <dbl> & <dbl> & <dbl> & <dbl> & <dbl> & <dbl> & <dbl> & <dbl> & <dbl> & <dbl> & <dbl> & <dbl> & <dbl> & <dbl> & <dbl> & <dbl> & <dbl> & <dbl> & <dbl> & <dbl> & <dbl> & <dbl> & <dbl> & <dbl> & <dbl> & <dbl> & <dbl> & <dbl> & <dbl> & <dbl> & <dbl> & <dbl> & <dbl> & <dbl> & <dbl> & <dbl> & <dbl> & <dbl> & <dbl> & <dbl> & <dbl> & <dbl> & <dbl> & <dbl> & <dbl> & <dbl> & <dbl> & <dbl> & <dbl> & <dbl> & <dbl> & <dbl> & <dbl> & <dbl> & <dbl> & <dbl> & <dbl> & <dbl> & <dbl> & <dbl> & <dbl> & <dbl> & <dbl> & <dbl> & <dbl> & <dbl> & <dbl> & <dbl> & <dbl> & <dbl> & <dbl> & <dbl> & <dbl> & <dbl> & <dbl> & <dbl> & <dbl> & <dbl> & <dbl> & <dbl> & <dbl> & <dbl> & <dbl> & <dbl> & <dbl> & <dbl> & <dbl> & <dbl> & <dbl> & <dbl> & <dbl> & <dbl> & <dbl> & <dbl> & <dbl> & <dbl> & <dbl> & <dbl> & <dbl> & <dbl> & <dbl> & <dbl> & <dbl> & <dbl> & <dbl> & <dbl> & <dbl> & <dbl> & <dbl> & <dbl> & <dbl> & <dbl> & <dbl> & <dbl> & <dbl> & <dbl> & <dbl> & <dbl> & <dbl> & <dbl> & <dbl> & <dbl> & <dbl> & <dbl> & <dbl> & <dbl> & <dbl> & <dbl> & <dbl> & <dbl> & <dbl> & <dbl> & <dbl> & <dbl> & <dbl> & <dbl> & <dbl> & <dbl> & <dbl> & <dbl> & <dbl> & <dbl> & <dbl> & <dbl> & <dbl> & <dbl> & <dbl> & <dbl> & <dbl> & <dbl> & <dbl> & <dbl> & <dbl> & <dbl> & <dbl> & <dbl> & <dbl> & <dbl> & <dbl> & <dbl> & <dbl> & <dbl> & <dbl> & <dbl> & <dbl> & <dbl> & <dbl> & <dbl> & <dbl> & <dbl> & <dbl> & <dbl> & <dbl> & <dbl> & <dbl> & <dbl> & <dbl> & <dbl> & <dbl> & <dbl> & <dbl> & <dbl> & <dbl> & <dbl> & <dbl> & <dbl> & <dbl> & <dbl> & <dbl> & <dbl> & <dbl> & <dbl> & <dbl> & <dbl> & <dbl> & <dbl> & <dbl> & <dbl> & <dbl> & <dbl> & <dbl> & <dbl> & <dbl> & <dbl> & <dbl> & <dbl> & <dbl> & <dbl> & <dbl> & <dbl> & <dbl> & <dbl> & <dbl> & <dbl> & <dbl> & <dbl> & <dbl> & <dbl> & <dbl> & <dbl> & <dbl> & <dbl> & <dbl> & <dbl> & <dbl> & <dbl> & <dbl> & <dbl> & <dbl> & <dbl> & <dbl> & <dbl> & <dbl> & <dbl> & <dbl> & <dbl> & <dbl> & <dbl> & <dbl> & <dbl> & <dbl> & <dbl> & <dbl> & <dbl> & <dbl> & <dbl> & <dbl> & <dbl> & <dbl> & <dbl> & <dbl> & <dbl> & <dbl> & <dbl> & <dbl> & <dbl> & <dbl> & <dbl> & <dbl> & <dbl> & <dbl> & <dbl> & <dbl> & <dbl> & <dbl> & <dbl> & <dbl> & <dbl> & <dbl> & <dbl> & <dbl> & <dbl> & <dbl> & <dbl> & <dbl> & <dbl> & <dbl> & <dbl> & <dbl> & <dbl> & <dbl> & <dbl> & <dbl> & <dbl> & <dbl> & <dbl> & <dbl> & <dbl> & <dbl> & <dbl> & <dbl> & <dbl> & <dbl> & <dbl> & <dbl> & <dbl> & <dbl> & <dbl> & <dbl> & <dbl> & <dbl> & <dbl> & <dbl> & <dbl> & <dbl> & <dbl> & <dbl> & <dbl> & <dbl> & <dbl> & <dbl> & <dbl> & <dbl> & <dbl> & <dbl> & <dbl> & <dbl> & <dbl> & <dbl> & <dbl> & <dbl> & <dbl> & <dbl> & <dbl> & <dbl> & <dbl> & <dbl> & <dbl> & <dbl> & <dbl> & <dbl> & <dbl> & <dbl> & <dbl> & <dbl> & <dbl> & <dbl> & <dbl> & <dbl> & <dbl> & <dbl> & <dbl> & <dbl> & <dbl> & <dbl> & <dbl> & <dbl> & <dbl> & <dbl> & <dbl> & <dbl> & <dbl> & <dbl> & <dbl> & <dbl> & <dbl> & <dbl> & <dbl> & <dbl> & <dbl> & <dbl> & <dbl> & <dbl> & <dbl> & <dbl> & <dbl> & <dbl> & <dbl> & <dbl> & <dbl> & <dbl> & <dbl> & <dbl> & <dbl> & <dbl> & <dbl> & <dbl> & <dbl> & <dbl> & <dbl> & <dbl> & <dbl> & <dbl> & <dbl> & <dbl> & <dbl> & <dbl> & <dbl> & <dbl> & <dbl> & <dbl> & <dbl> & <dbl> & <dbl> & <dbl> & <dbl> & <dbl> & <dbl> & <dbl> & <dbl> & <dbl> & <dbl> & <dbl> & <dbl> & <dbl> & <dbl> & <dbl> & <dbl> & <dbl> & <dbl> & <dbl> & <dbl> & <dbl> & <dbl> & <dbl> & <dbl> & <dbl> & <dbl> & <dbl> & <dbl> & <dbl> & <dbl> & <dbl> & <dbl> & <dbl> & <dbl> & <dbl> & <dbl> & <dbl> & <dbl> & <dbl> & <dbl> & <dbl> & <dbl> & <dbl> & <dbl> & <dbl> & <dbl> & <dbl> & <dbl> & <dbl> & <dbl> & <dbl> & <dbl> & <dbl> & <dbl> & <dbl> & <dbl> & <dbl> & <dbl> & <chr>\\\\\n",
       "\\hline\n",
       "\t GCA\\_000300255 & 3 & 3 & 2 & 2 & 3 & 2 & 4 & 25 & 1 & 1 & 1 & 2 & 1 & 1 & 2 & 3 & 3 & 3 & 3 & 1 & 1 & 1 & 1 & 1 & 1 & 1 & 2 & 1 & 4 & 1 & 2 & 7 & 6 & 3 & 5 &  8 & 10 & 1 & 1 & 1 & 1 & 1 & 1 & 1 & 1 & 1 & 1 & 1 & 1 & 1 & 1 & 1 & 1 & 2 & 1 & 1 & 2 & 1 & 2 & 2 & 3 & 3 & 1 & 1 & 1 & 1 & 1 & 1 & 1 & 1 & 1 & 1 & 1 & 1 & 1 & 1 & 1 & 1 & 1 & 1 & 1 & 1 & 1 & 1 & 1 & 1 & 1 & 1 & 1 & 1 & 1 & 1 & 1 & 1 & 1 & 1 & 1 & 1 & 1 & 1 & 1 & 1 & 1 & 1 & 1 & 1 & 1 & 1 & 1 & 1 & 2 & 1 & 1 & 1 & 1 & 1 & 1 & 1 & 1 & 1 & 1 & 1 & 1 & 1 & 1 & 1 & 1 & 1 & 1 & 1 & 1 & 1 & 1 & 1 & 1 & 1 & 1 & 1 & 1 & 1 & 1 & 1 & 1 & 1 & 2 & 2 & 1 & 2 & 1 & 1 & 1 & 1 & 1 & 1 & 1 & 1 & 1 & 1 & 1 & 1 & 1 & 1 & 1 & 1 & 1 & 1 & 1 & 1 & 1 & 1 & 1 & 1 & 1 & 1 & 1 & 1 & 1 & 1 & 1 & 1 & 1 & 1 & 1 & 1 & 1 & 1 & 1 & 1 & 1 & 1 & 1 & 1 & 1 & 1 & 1 & 1 & 1 & 1 & 1 & 1 & 1 & 1 & 1 & 0 & 1 & 1 & 1 & 1 & 1 & 1 & 1 & 1 & 1 & 1 & 1 & 1 & 1 & 1 & 1 & 1 & 1 & 1 & 1 & 1 & 1 & 1 & 1 & 1 & 1 & 1 & 1 & 1 & 1 & 1 & 1 & 1 & 3 & 1 & 1 & 1 & 1 & 1 & 1 & 1 & 1 & 1 & 1 & 1 & 1 & 1 & 1 & 1 & 1 & 1 & 1 & 1 & 1 & 1 & 1 & 1 & 1 & 1 & 1 & 1 & 1 & 1 & 1 & 1 & 1 & 1 & 1 & 1 & 1 & 1 & 1 & 1 & 1 & 1 & 1 & 1 & 1 & 1 & 1 & 1 & 1 & 1 & 1 & 1 & 1 & 1 & 1 & 1 & 1 & 1 & 1 & 1 & 1 & 1 & 1 & 1 & 1 & 1 & 1 & 3 & 1 & 2 & 1 & 2 & 2 & 3 & 1 & 1 & 3 & 2 & 1 & 1 & 1 & 1 & 1 & 1 & 1 & 1 & 1 & 1 & 1 & 1 & 1 & 1 & 1 & 1 & 1 & 1 & 1 & 1 & 1 & 1 & 1 & 1 & 1 & 1 & 1 & 1 & 1 & 1 & 1 & 1 & 1 & 1 & 1 & 1 & 1 & 1 & 1 & 1 & 1 & 1 & 1 & 1 & 1 & 1 & 1 & 1 & 2 & 1 & 1 & 1 & 1 & 1 & 1 & 1 & 1 & 1 & 1 & 1 & 1 & 1 & 1 & 1 & 1 & 1 & 1 & 1 & 1 & 1 & 1 & 1 & 1 & 1 & 1 & 1 & 1 & 1 & 1 & 1 & 1 & 1 & 0 & 1 & 1 & 1 & 1 & 1 & 1 & 1 & 1 & 1 & 1 & 1 & 1 & 1 & 1 & 1 & 1 & 1 & 3 & 2 & 3 & 1 & 2 & 2 & 5 & 1 & 1 & 1 & 0 & 1 & 1 & 1 & 1 & 1 & 1 & 1 & 1 & 1 & 1 & 1 & 1 & 1 & 1 & 1 & 1 & 1 & 1 & 1 & 1 & 1 & 1 & 1 & 1 & 1 & 1 & 1 & 1 & 1 & 1 & 1 & 1 & 1 & 1 & 1 & 1 & 1 & 2 & 2 & 1 & 1 & 3 & 1 & 1 & 1 & 1 & 1 & 1 & 1 & 1 & 1 & 0 & 1 & 1 & 1 & 1 & 1 & 1 & 1 & 1 & 1 & 1 & 1 & 1 & 1 & 1 & 1 & 1 & 0 & 1 & 1 & 1 & 1 & 1 & 1 & 1 & 1 & 1 & 1 & 1 & 1 & 1 & 1 & 1 & 1 & 1 & 1 & 1 & 1 & 1 & 1 & 1 & 1 & 0 & 1 & 1 & 1 & 1 & 1 & 1 & 1 & 1 & 1 & 1 & 1 & 1 & 1 & 1 & 1 & 1 & 1 & 1 & 1 & 1 & 1 & 1 & 1 & 1 & 1 & 0 & 1 & 1 & 1 & 1 & 1 & 1 & 0 & 1 & 1 & 0 & 0 & 1 & 1 & 1 & 1 & 1 & 1 & 0 & 1 & 1 & 1 & 1 & 1 & 1 & 1 & 1 & 1 & 0 & 1 & 1 & 1 & 1 & 0 & 0 & 1 & 1 & 1 & 1 & 1 & 0 & 1 & 1 & 1 & 1 & 1 & 5 & 0 & 1 & 0 & 1 & 1 & 1 & 1 & 1 & 2 & 4 & 0 & 0 & 1 & 0 & 0 & 1 & 0 & 1 & 0 & 3 & 7 & 1 & 1 & 1 & 0 & 1 & 4 & 3 & 1 & 1 & 1 & 1 & 1 & 1 & 1 & 1 & 1 & 0 & 0 & 1 & 1 & 0 & 1 & 1 & 0 & 0 & 1 & 1 & 1 & 1 & 1 & 1 & 0 & 1 & 1 & 0 & 1 & 1 & 1 & 1 & 1 & 0 & 1 & 1 & 0 & 1 & 1 & 1 & 1 & 0 & 1 & 1 & 1 & 0 & 1 & 1 & 1 & 0 & 0 & 1 & 1 & 1 & 1 & 1 & 1 & 1 & 1 & 2 & 1 & 0 & 1 & 2 & 1 & 0 & 1 & 0 & 1 & 1 & 1 & 1 & 1 & 1 & 1 & 0 & 1 & 1 & 1 & 1 & 1 & 1 & 1 & 1 & 1 & 2 & 1 & 1 & 0 & 2 &  0 & 1 & 1 & 1 & 0 & 1 & 1 & 0 & 1 & 1 & 1 & 1 & 1 & 1 & 1 & 1 & 1 & 1 & 1 & 2 & 1 & 2 & 1 & 1 & 1 & 1 & 1 & 1 & 0 & 0 & 1 & 1 & 1 & 1 & 0 & 1 & 0 & 0 & 0 & 2 & 1 & 1 & 1 & 0 & 2 & 2 & 1 & 1 & 1 & 1 & 1 & 1 & 1 & 1 & 1 & 1 & 1 & 2 & 1 & 1 & 1 & 0 & 0 & 1 & 1 & 0 & 1 & 1 & 3 & 1 & 1 & 0 & 1 & 0 & 2 & 1 & 0 & 2 & 1 & 1 & 1 & 0 & 0 & 1 & 1 & 0 & 1 & 1 & 1 & 1 & 0 & 0 & 0 & 1 & 0 & 1 & 1 & 0 & 1 & 3 & 0 & 1 & 1 & 1 & 0 & 1 & 1 & 1 & 1 & 2 & 2 & 2 & 1 & 1 & 0 & 1 & 1 & 0 & 0 & 0 & 1 & 0 & 1 & 0 & 0 & 0 & 1 & 0 & 0 & 0 & 0 & 1 & 1 & 0 & 0 & 1 & 2 & 1 & 0 & 2 & 1 & 2 & 0 & 0 & 1 & 1 & 1 & 1 & 1 & 1 & 0 & 0 & 0 & 0 & 1 & 1 & 1 & 0 & 2 & 1 & 0 & 1 & 1 & 0 & 1 & 1 & 0 & 1 & 0 & 1 & 1 & 1 & 0 & 1 & 1 & 1 & 1 & 0 & 0 & 0 & 0 & 1 & 1 & 1 & 0 & 0 & 0 & 0 & 0 & 1 & 0 & 0 & 0 & 0 & 1 & 0 & 1 & 0 & 2 & 0 & 1 & 1 & 0 & 1 & 1 & 0 & 0 & 0 & 0 & 1 & 1 & 0 & 0 & 1 & 1 & 1 & 0 & 0 & 1 & 1 & 1 & 0 & 0 & 1 & 1 & 1 & 0 & 0 & 0 & 2 & 1 & 0 & 3 & 0 & 0 & 1 & 0 & 0 & 0 & 0 & 0 & 1 & 0 & 0 & 0 & 0 & 2 & 3 & 0 & 0 & 1 & 0 & 0 & 0 & 0 & 0 & 1 & 12 & 0 & 1 & 0 & 1 & 0 & 0 & 5 & 4 & 0 & 0 & 0 & 0 & 1 & 1 & 0 & 0 & 1 & 0 & 0 & 1 & 1 & 0 & 1 & 1 & 0 & 0 & 0 & 0 & 0 & 0 & 0 & 9 & 0 & 0 & 0 & 0 & 0 & 0 & 1 & 0 & 0 & 0 & 0 & 0 & 1 & 1 & 0 & 0 & 0 & 0 & 0 & 0 & 0 & 0 & 0 & 0 & 0 & 0 & 0 & 0 & 1 & 0 & 0 & 0 & 0 & 0 & 0 & 0 & 0 & 0 & 0 & 0 & 0 & 0 & 1 & 0 & 0 & 0 & 0 & 0 & 0 & 0 & 0 & 0 & 0 & 0 & 0 & 0 & 0 & 0 & 0 & 0 & 0 & 0 & 0 & 0 & 0 & 2 & 0 & 1 & 0 & 0 & 0 & 0 & 0 & 0 & 0 & 0 & 0 & 0 & 1 & 0 & 1 & 0 & 0 & 0 & 0 & 0 & 0 & 0 & 0 & 0 & 0 & 0 & 0 & 1 & 0 & 0 & 0 & 0 & 0 & 0 & 0 & 0 & 0 & 0 & 0 & 0 & 0 & 0 & 0 & 0 & 0 & 0 & 0 & 0 & 0 & 1 & 0 & 0 & 0 & 0 & 0 & 0 & 0 & 0 & 0 & 0 & 0 & 0 & 0 & 0 & 0 & 0 & 0 & 0 & 0 & 0 & 0 & 0 & 1 & 1 & 0 & 0 & 0 & 0 & 0 & 1 & 0 & 0 & 0 & 0 & 0 & 0 & 0 & 0 & 0 & 0 & 0 & 0 & 0 & 1 & 0 & 0 & 0 & 0 & 0 & 0 & 0 & 1 & 1 & 0 & 0 & 0 & 0 & 0 & 0 & 0 & 0 & 0 & 0 & 0 & 0 & 0 & 0 & 0 & 0 & 0 & 0 & 0 & 0 & 0 & 0 & 0 & 0 & 0 & 0 & 0 & 0 & 0 & 0 & 1 & 0 & 0 & 0 & 0 & 0 & 1 & 0 & 0 & 0 & 0 & 0 & 0 & 0 & 1 & 0 & 0 & 0 & 0 & 0 & 0 & 0 & 0 & 0 & 0 & 0 & 0 & 0 & 0 & 0 & 0 & 0 & 0 & 1 & 0 & 1 & 0 & 0 & 0 & 0 & 0 & 0 & 0 & 0 & 0 & 0 & 0 & 0 & 0 & 0 & 0 & 0 & 0 & 0 & 0 & 2 & 0 & 0 & 0 & 0 & 0 & 0 & 0 & 0 & 0 & 0 & 0 & 1 & 0 & 0 & 0 & 0 & 0 & 0 & 0 & 0 & 0 & 0 & 0 & 0 & 0 & 0 & 0 & 0 & 0 & 0 & 0 & 0 & 0 & 0 & 0 & 0 & 0 & 0 & 0 & 0 & 0 & 1 & 0 & 1 & 0 & 0 & 0 & 0 & 0 & 1 & 0 & 0 & 0 & 0 & 0 & 1 & 0 & 0 & 0 & 0 & 0 & 0 & 0 & 0 & 0 & 0 & 0 & 0 & 0 & 0 & 0 & 0 & 0 & 0 & 0 & 0 & 0 & 0 & 0 & 0 & 0 & 0 & 0 & 0 & 0 & 0 & 0 & 0 & 0 & 0 & 1 & 0 & 0 & 0 & 0 & 0 & 0 & 0 & 0 & 0 & 1 & 0 & 0 & 0 & 1 & 0 & 0 & 0 & 0 & 0 & 2 & 0 & 0 & 0 & 0 & 0 & 0 & 1 & 0 & 0 & 0 & 0 & 1 & 0 & 0 & 0 & 0 & 0 & 0 & 0 & 0 & 1 & 0 & 0 & 0 & 0 & 0 & 0 & 0 & 0 & 0 & 0 & 0 & 0 & 0 & 0 & 0 & 0 & 0 & 0 & 0 & 0 & 0 & 0 & 0 & 0 & 0 & 0 & 0 & 0 & 0 & 0 & 0 & 0 & 0 & 0 & 0 & 0 & 0 & 0 & 0 & 0 & 0 & 0 & 0 & 0 & 0 & 0 & 0 & 0 & 1 & 1 & 0 & 0 & 0 & 0 & 0 & 0 & 0 & 0 & 0 & 0 & 0 & 0 & 0 & 0 & 0 & 0 & 0 & 0 & 0 & 0 & 0 & 0 & 0 & 0 & 0 & 0 & 0 & 0 & 0 & 2 & 0 & 0 & 0 & 0 & 0 & 0 & 2 & 0 & 0 & 0 & 1 & 0 & 1 & 0 & 0 & 0 & 0 & 0 & 0 & 0 & 0 & 0 & 0 & 0 & 0 & 0 & 0 & 0 & 0 & 0 & 0 & 0 & 0 & 0 & 0 & 0 & 0 & 0 & 0 & 0 & 0 & 0 & 0 & 0 & 0 & 0 & 0 & 0 & 0 & 0 & 0 & 0 & 0 & 0 & 0 & 0 & 0 & 0 & 0 & 0 & 0 & 0 & 0 & 0 & 0 & 0 & 0 & 0 & 0 & 0 & 0 & 0 & 0 & 0 & 0 & 1 & 0 & 0 & 0 & 0 & 0 & 0 & 0 & 0 & 0 & 1 & 0 & 0 & 0 & 0 & 0 & 0 & 0 & 0 & 0 & 0 & 0 & 0 & 0 & 0 & 0 & 0 & 0 & 0 & 0 & 0 & 0 & 0 & 0 & 0 & 0 & 0 & 0 & 0 & 0 & 0 & 0 & 0 & 0 & 0 & 0 & 0 & 0 & 0 & 0 & 0 & 0 & 0 & 0 & 0 & 0 & 0 & 0 & 0 & 0 & 0 & 0 & 0 & 0 & 0 & 0 & 0 & 0 & 0 & 0 & 0 & 0 & 0 & 1 & 0 & 0 & 0 & 0 & 0 & 1 & 0 & 0 & 0 & 0 & 0 & 0 & 0 & 0 & 0 & 0 & 0 & 0 & 0 & 0 & 0 & 0 & 0 & 0 & 1 & 0 & 0 & 0 & 0 & 0 & 0 & 2 & 0 & 0 & 3 & 3 & 0 & 0 & 0 & 0 & 0 & 0 & 0 & 0 & 0 & 0 & 0 & 0 & 1 & 0 & 0 & 1 & 0 & 0 & 0 & 0 & 0 & 0 & 0 & 0 & 0 & 0 & 0 & 0 & 0 & 0 & 0 & 0 & 0 & 0 & 1 & 0 & 0 & 0 & 0 & 0 & 0 & 0 & 0 & 0 & 0 & 0 & 0 & 0 & 0 & 0 & 0 & 0 & 0 & 0 & 0 & 0 & 1 & 0 & 0 & 0 & 0 & 0 & 0 & 0 & 0 & 0 & 0 & 0 & 0 & 0 & 0 & 0 & 0 & 0 & 0 & 0 & 0 & 0 & 0 & 0 & 0 & 0 & 0 & 0 & 0 & 0 & 0 & 0 & 0 & 0 & 0 & 0 & 0 & 0 & 0 & 0 & 0 & 0 & 0 & 0 & 0 & 0 & 0 & 0 & 0 & 0 & 0 & 0 & 1 & 0 & 0 & 0 & 0 & 0 & 0 & 0 & 0 & 0 & 0 & 0 & 0 & 0 & 0 & 0 & 0 & 0 & 0 & 0 & 0 & 0 & 0 & 0 & 0 & 0 & 0 & 0 & 1 & 0 & 0 & 0 & 0 & 0 & 0 & 0 & 0 & 0 & 0 & 0 & 0 & 0 & 0 & 0 & 0 & 0 & 0 & 0 & 0 & 0 & 0 & 0 & 0 & 1 & 0 & 0 & 0 & 0 & 0 & 0 & 0 & 1 & 1 & 1 & 0 & 0 & 0 & 0 & 0 & 0 & 0 & 0 & 0 & 0 & 0 & 0 & 0 & 0 & 0 & 0 & 0 & 0 & 0 & 0 & 0 & 0 & 0 & 0 & 0 & 0 & 0 & 0 & 0 & 0 & 0 & 0 & 0 & 0 & 1 & 5 & 0 & 1 & 1 & 0 & 0 & 0 & 0 & 0 & 0 & 0 & 0 & 0 & 0 & 0 & 0 & 0 & 1 & 0 & 1 & 0 & 0 & 0 & 0 & 0 & 0 & 1 & 0 & 0 & 0 & 0 & 0 & 0 & 0 & 0 & 0 & 0 & 0 & 0 & 0 & 0 & 0 & 0 & 0 & 0 & 0 & 0 & 1 & 0 & 0 & 0 & 0 & 0 & 0 & 0 & 0 & 1 & 0 & 0 & 0 & 0 & 0 & 0 & 0 & 0 & 1 & 0 & 0 & 0 & 1 & 0 & 0 & 2 & 0 & 0 & 0 & 0 & 0 & 0 & 0 & 0 & 0 & 0 & 0 & 0 & 0 & 1 & 0 & 0 & 0 & 0 & 0 & 0 & 0 & 0 & 0 & 0 & 0 & 0 & 0 & 0 & 0 & 0 & 0 & 0 & 0 & 0 & 0 & 0 & 0 & 0 & 0 & 0 & 0 & 0 & 0 & 0 & 0 & 0 & 0 & 0 & 0 & 0 & 0 & 0 & 0 & 0 & 0 & 0 & 0 & 0 & 0 & 0 & 0 & 0 & 0 & 0 & 0 & 0 & 0 & 0 & 0 & 0 & 0 & 0 & 0 & 0 & 1 & 0 & 0 & 0 & 0 & 1 & 0 & 0 & 1 & 0 & 0 & 0 & 0 & 1 & 0 & 0 & 0 & 0 & 0 & 0 & 0 & 0 & 0 & 0 & 0 & 0 & 0 & 0 & 0 & 0 & 0 & 0 & 0 & 0 & 0 & 0 & 0 & 0 & 0 & 0 & 1 & 0 & 0 & 0 & 0 & 0 & 0 & 0 & 0 & 0 & 0 & 0 & 0 & 0 & 0 & 0 & 0 & 0 & 0 & 0 & 1 & 0 & 0 & 0 & 0 & 0 & 1 & 0 & 0 & 0 & 1 & 0 & 0 & 0 & 0 & 0 & 0 & 0 & 0 & 0 & 0 & 0 & 0 & 0 & 0 & 1 & 0 & 0 & 1 & 1 & 1 & 1 & 0 & 0 & 0 & 0 & 0 & 0 & 0 & 0 & 0 & 0 & 0 & 0 & 0 & 0 & 0 & 0 & 0 & 0 & 1 & 0 & 0 & 0 & 1 & 1 & 0 & 0 & 0 & 0 & 0 & 0 & 0 & 1 & 0 & 0 & 0 & 1 & 0 & 0 & 0 & 0 & 0 & 0 & 0 & 0 & 0 & 0 & 0 & 0 & 0 & 0 & 0 & 0 & 1 & 0 & 0 & 1 & 1 & 0 & 0 & 0 & 1 & 0 & 1 & 0 & 0 & 0 & 0 & 2 & 0 & 0 & 0 & 0 & 0 & 0 & 0 & 0 & 0 & 3 & 0 & 1 & 0 & 1 & 0 & 0 & 0 & 0 & 0 & 0 & 0 & 0 & 1 & 1 & 1 & 1 & 0 & 0 & 0 & 1 & 1 & 0 & 0 & 0 & 0 & 0 & 0 & 0 & 0 & 0 & 0 & 0 & 0 & 0 & 0 & 0 & 0 & 0 & 0 & 0 & 1 & 0 & 0 & 0 & 0 & 0 & 0 & 0 & 0 & 0 & 0 & 0 & 0 & 1 & 0 & 0 & 1 & 0 & 0 & 0 & 0 & 1 & 0 & 1 & 1 & 0 & 0 & 0 & 0 & 0 & 0 & 0 & 0 & 0 & 0 & 0 & 0 & 0 & 0 & 0 & 0 & 0 & 0 & 0 & 0 & 0 & 0 & 0 & 0 & 0 & 0 & 0 & 0 & 0 & 2 & 0 & 0 & 0 & 0 & 1 & 0 & 0 & 0 & 0 & 3 & 0 & 0 & 1 & 1 & 0 & 0 & 0 & 0 & 1 & 0 & 0 & 0 & 1 & 1 & 1 & 1 & 1 & 0 & 0 & 0 & 0 & 0 & 0 & 0 & 0 & 0 & 1 & 0 & 0 & 0 & 0 & 0 & 0 & 0 & 0 & 1 & 0 & 0 & 0 & 0 & 0 & 0 & 0 & 0 & 0 & 0 & 0 & 0 & 0 & 0 & 0 & 0 & 0 & 0 & 0 & 0 & 0 & 0 & 0 & 0 & 0 & 0 & 0 & 0 & 0 & 0 & 0 & 0 & 0 & 0 & 0 & 0 & 0 & 0 & 0 & 0 & 0 & 0 & 1 & 1 & 0 & 1 & 1 & 1 & 1 & 1 & 1 & 0 & 0 & 0 & 0 & 0 & 0 & 0 & 0 & 0 & 0 & 0 & 0 & 0 & 0 & 0 & 0 & 0 & 1 & 0 & 0 & 0 & 0 & 0 & 0 & 0 & 0 & 0 & 0 & 0 & 0 & 0 & 0 & 0 & 0 & 0 & 0 & 0 & 0 & 0 & 0 & 0 & 0 & 0 & 0 & 0 & 0 & 0 & 0 & 0 & 0 & 0 & 0 & 0 & 0 & 1 & 0 & 0 & 1 & 0 & 0 & 0 & 0 & 1 & 0 & 0 & 0 & 0 & 1 & 0 & 1 & 2 & 0 & 0 & 0 & 1 & 0 & 0 & 0 & 1 & 0 & 0 & 0 & 0 & 0 & 1 & 0 & 2 & 1 & 2 & 3 & 0 & 0 & 0 & 0 & 0 & 0 & 0 & 0 & 0 & 0 & 0 & 0 & 0 & 0 & 0 & 0 & 0 & 0 & 0 & 0 & 1 & 1 & 0 & 1 & 0 & 0 & 0 & 0 & 0 & 0 & 0 & 0 & 0 & 1 & 1 & 0 & 0 & 0 & 0 & 0 & 0 & 0 & 0 & 0 & 1 & 0 & 1 & 1 & 1 & 1 & 1 & 0 & 0 & 0 & 0 & 0 & 0 & 0 & 0 & 0 & 0 & 0 & 0 & 1 & 0 & 0 & 0 & 0 & 0 & 0 & 1 & 1 & 1 & 1 & 0 & 0 & 0 & 0 & 0 & 0 & 0 & 0 & 0 & 0 & 0 & 0 & 0 & 0 & 0 & 0 & 0 & 0 & 0 & 0 & 0 & 0 & 0 & 0 & 0 & 0 & 0 & 0 & 0 & 0 & 0 & 0 & 0 & 0 & 0 & 0 & 0 & 0 & 0 & 0 & 0 & 0 & 0 & 0 & 0 & 0 & 0 & 0 & 0 & 0 & 0 & 0 & 0 & 0 & 0 & 0 & 0 & 0 & 0 & 0 & 0 & 0 & 0 & 1 & 1 & 0 & 0 & 0 & 0 & 0 & 0 & 0 & 0 & 0 & 0 & 0 & 0 & 0 & 0 & 0 & 0 & 0 & 0 & 0 & 0 & 0 & 0 & 1 & 1 & 1 & 1 & 1 & 0 & 0 & 0 & 1 & 0 & 1 & 0 & 0 & 0 & 0 & 1 & 0 & 0 & 0 & 0 & 0 & 0 & 0 & 0 & 0 & 0 & 0 & 0 & 0 & 0 & 0 & 0 & 1 & 0 & 0 & 0 & 0 & 0 & 0 & 0 & 0 & 1 & 0 & 0 & 0 & 0 & 0 & 0 & 0 & 0 & 0 & 0 & 0 & 0 & 0 & 0 & 0 & 1 & 2 & 0 & 0 & 1 & 0 & 1 & 0 & 0 & 0 & 0 & 0 & 0 & 0 & 0 & 0 & 0 & 0 & 0 & 1 & 0 & 1 & 0 & 0 & 0 & 0 & 0 & 0 & 0 & 0 & 0 & 0 & 0 & 0 & 0 & 0 & 0 & 0 & 0 & 0 & 0 & 0 & 0 & 0 & 0 & 0 & 0 & 1 & 0 & 0 & 0 & 0 & 0 & 1 & 0 & 0 & 0 & 0 & 0 & 0 & 0 & 0 & 0 & 0 & 0 & 0 & 0 & 0 & 0 & 1 & 0 & 1 & 1 & 1 & 0 & 1 & 0 & 0 & 0 & 0 & 0 & 0 & 0 & 0 & 0 & 0 & 0 & 0 & 0 & 0 & 0 & 0 & 0 & 0 & 0 & 0 & 0 & 0 & 0 & 0 & 0 & 0 & 0 & 0 & 0 & 0 & 0 & 0 & 0 & 0 & 0 & 0 & 0 & 0 & 0 & 0 & 0 & 0 & 0 & 0 & 0 & 0 & 0 & 0 & 0 & 0 & 0 & 0 & 0 & 0 & 0 & 0 & 0 & 0 & 0 & 0 & 0 & 0 & 0 & 0 & 0 & 0 & 0 & 0 & 0 & 0 & 0 & 0 & 0 & 0 & 0 & 0 & 1 & 0 & 0 & 0 & 0 & 0 & 0 & 0 & 0 & 0 & 0 & 0 & 0 & 0 & 0 & 0 & 0 & 0 & 0 & 0 & 1 & 0 & 0 & 0 & 0 & 0 & 0 & 0 & 0 & 0 & 0 & 0 & 0 & 1 & 1 & 1 & 0 & 0 & 0 & 0 & 0 & 0 & 0 & 0 & 0 & 0 & 0 & 0 & 0 & 0 & 0 & 0 & 0 & 0 & 0 & 0 & 0 & 0 & 0 & 0 & 0 & 0 & 0 & 0 & 0 & 0 & 1 & 1 & 1 & 1 & 1 & 0 & 1 & 0 & 0 & 0 & 0 & 0 & 0 & 0 & 0 & 0 & 0 & 0 & 0 & 0 & 0 & 0 & 0 & 0 & 0 & 0 & 0 & 0 & 0 & 0 & 0 & 0 & 0 & 0 & 0 & 0 & 0 & 0 & 0 & 0 & 0 & 0 & 0 & 0 & 0 & 0 & 0 & 0 & 0 & 0 & 0 & 0 & 0 & 0 & 0 & 0 & 0 & 0 & 0 & 0 & 0 & 0 & 0 & 0 & 0 & 0 & 0 & 0 & 0 & 0 & 0 & 0 & 0 & 0 & 0 & 0 & 2 & 0 & 0 & 0 & 1 & 0 & 0 & 0 & 0 & 0 & 0 & 0 & 0 & 0 & 0 & 0 & 0 & 0 & 0 & 0 & 0 & 0 & 0 & 0 & 0 & 0 & 0 & 0 & 0 & 0 & 0 & 0 & 0 & 1 & 0 & 0 & 0 & 0 & 0 & 0 & 0 & 0 & 0 & 0 & 0 & 0 & 0 & 0 & 0 & 0 & 0 & 0 & 0 & 0 & 0 & 0 & 1 & 0 & 0 & 0 & 0 & 0 & 0 & 0 & 0 & 0 & 0 & 1 & 1 & 0 & 0 & 0 & 0 & 0 & 0 & 0 & 0 & 0 & 0 & 0 & 0 & 1 & 0 & 1 & 1 & 0 & 0 & 0 & 0 & 0 & 0 & 0 & 0 & 1 & 0 & 0 & 0 & 0 & 1 & 0 & 0 & 0 & 1 & 1 & 0 & 0 & 0 & 0 & 0 & 0 & 0 & 0 & 0 & 0 & 0 & 0 & 0 & 0 & 0 & 0 & 0 & 0 & 0 & 0 & 0 & 0 & 0 & 0 & 0 & 0 & 0 & 0 & 0 & 0 & 0 & 0 & 0 & 0 & 0 & 0 & 0 & 1 & 1 & 1 & 0 & 0 & 0 & 0 & 0 & 0 & 0 & 0 & 0 & 0 & 0 & 0 & 0 & 0 & 0 & 0 & 0 & 0 & 0 & 0 & 0 & 1 & 1 & 1 & 1 & 1 & 1 & 0 & 0 & 0 & 0 & 0 & 0 & 0 & 0 & 0 & 0 & 0 & 0 & 0 & 0 & 0 & 0 & 1 & 1 & 1 & 0 & 0 & 0 & 0 & 0 & 0 & 0 & 0 & 0 & 0 & 0 & 0 & 0 & 0 & 0 & 0 & 0 & 0 & 0 & 0 & 0 & 0 & 0 & 0 & 1 & 0 & 0 & 0 & 0 & 0 & 0 & 0 & 1 & 0 & 1 & 0 & 0 & 0 & 0 & 0 & 0 & 0 & 0 & 0 & 0 & 0 & 0 & 0 & 0 & 1 & 0 & 0 & 0 & 1 & 0 & 1 & 1 & 0 & 0 & 0 & 0 & 0 & 0 & 0 & 0 & 1 & 0 & 0 & 0 & 0 & 0 & 0 & 0 & 0 & 0 & 0 & 0 & 0 & 0 & 0 & 0 & 0 & 0 & 0 & 0 & 0 & 0 & 1 & 0 & 0 & 0 & 0 & 0 & 0 & 0 & 1 & 0 & 0 & 0 & 0 & 0 & 0 & 0 & 0 & 0 & 0 & 0 & 0 & 0 & 0 & 0 & 0 & 0 & 0 & 0 & 0 & 0 & 0 & 0 & 0 & 0 & 0 & 0 & 0 & 0 & 0 & 0 & 1 & 1 & 1 & 1 & 0 & 1 & 0 & 0 & 0 & 0 & 0 & 0 & 0 & 0 & 0 & 0 & 0 & 1 & 1 & 0 & 0 & 0 & 2 & 0 & 0 & 0 & 0 & 0 & 0 & 0 & 0 & 0 & 0 & 0 & 0 & 0 & 0 & 1 & 1 & 0 & 0 & 0 & 0 & 0 & 0 & 0 & 1 & 0 & 0 & 0 & 0 & 0 & 0 & 0 & 0 & 0 & 0 & 0 & 0 & 0 & 0 & 0 & 0 & 0 & 0 & 0 & 0 & 0 & 0 & 0 & 0 & 0 & 0 & 0 & 0 & 0 & 0 & 1 & 1 & 0 & 1 & 1 & 0 & 1 & 1 & 1 & 0 & 0 & 0 & 0 & 0 & 0 & 0 & 0 & 0 & 0 & 0 & 0 & 0 & 0 & 0 & 0 & 0 & 0 & 0 & 0 & 0 & 0 & 0 & 0 & 0 & 0 & 0 & 1 & 0 & 0 & 0 & 0 & 0 & 0 & 0 & 0 & 0 & 0 & 0 & 0 & 0 & 0 & 0 & 0 & 0 & 0 & 0 & 0 & 0 & 0 & 0 & 0 & 0 & 0 & 0 & 0 & 0 & 0 & 0 & 0 & 0 & 0 & 0 & 0 & 0 & 0 & 0 & 0 & 0 & 0 & 0 & 0 & 0 & 0 & 0 & 0 & 0 & 0 & 0 & 0 & 0 & 0 & 0 & 1 & 0 & 0 & 0 & 0 & 0 & 0 & 0 & 0 & 0 & 0 & 0 & 0 & 0 & 0 & 0 & 0 & 0 & 0 & 0 & 0 & 0 & 0 & 0 & 0 & 0 & 0 & 0 & 0 & 0 & 0 & 0 & 0 & 0 & 0 & 0 & 0 & 0 & 0 & 0 & 0 & 0 & 0 & 0 & 0 & 0 & 0 & 0 & 0 & 0 & 0 & 0 & 0 & 0 & 0 & 0 & 0 & 0 & 0 & 0 & 0 & 0 & 0 & 0 & 0 & 0 & 0 & 0 & 1 & 0 & 0 & 0 & 0 & 0 & 0 & 0 & 0 & 0 & 0 & 0 & 0 & 0 & 0 & 0 & 0 & 0 & 0 & 0 & 0 & 0 & 0 & 0 & 0 & 0 & 0 & 0 & 0 & 0 & 0 & 0 & 0 & 0 & 0 & 0 & 0 & 0 & 0 & 0 & 0 & 0 & 0 & 0 & 0 & 0 & 0 & 0 & 0 & 1 & 1 & 1 & 1 & 1 & 1 & 1 & 1 & 1 & 1 & 0 & 0 & 0 & 0 & 0 & 0 & 0 & 0 & 0 & 0 & 0 & 0 & 0 & 0 & 0 & 0 & 0 & 0 & 0 & 0 & 0 & 0 & 0 & 0 & 0 & 0 & 0 & 0 & 0 & 0 & 0 & 0 & 0 & 0 & 0 & 0 & 0 & 0 & 0 & 0 & 0 & 0 & 0 & 0 & 0 & 0 & 0 & 0 & 0 & 0 & 0 & 0 & 0 & 0 & 0 & 0 & 0 & 0 & 0 & 0 & 0 & 0 & 0 & 0 & 0 & 0 & 0 & 0 & 0 & 0 & 0 & 0 & 0 & 0 & 0 & 0 & 0 & 0 & 0 & 0 & 0 & 0 & 0 & 0 & 0 & 0 & 0 & 0 & 0 & 0 & 0 & 0 & 0 & 0 & 0 & 0 & 0 & 0 & 0 & 0 & 0 & 1 & 0 & 0 & 0 & 0 & 0 & 0 & 0 & 0 & 0 & 0 & 0 & 0 & 0 & 0 & 0 & 0 & 0 & 0 & 0 & 0 & 0 & 0 & 0 & 0 & 0 & 0 & 0 & 0 & 0 & 0 & 0 & 0 & 0 & 0 & 0 & 0 & 0 & 0 & 0 & 0 & 0 & 0 & 0 & 0 & 0 & 0 & 0 & 0 & 0 & 0 & 0 & 0 & 0 & 0 & 0 & 0 & 0 & 0 & 0 & 0 & 0 & 0 & 0 & 0 & 0 & 0 & 0 & 0 & 0 & 0 & 0 & 0 & 0 & 0 & 0 & 0 & 0 & 0 & 0 & 0 & 0 & 0 & 0 & 0 & 0 & 0 & 0 & 0 & 0 & 0 & 0 & 0 & 0 & 0 & 0 & 0 & 0 & 0 & 0 & 0 & 0 & 0 & 0 & 0 & 0 & 0 & 0 & 0 & 0 & 0 & 0 & 0 & 0 & 0 & 0 & 0 & 0 & 0 & 0 & 0 & 0 & 0 & 0 & 0 & 0 & 0 & 0 & 0 & 0 & 0 & 0 & 0 & 0 & 0 & 0 & 0 & 0 & 0 & 0 & 0 & 0 & 0 & 0 & 0 & 0 & 0 & 0 & 0 & 0 & 0 & 0 & 0 & 0 & 0 & 0 & 0 & 0 & 0 & 0 & 0 & 0 & 0 & 0 & 0 & 0 & 0 & 0 & 0 & 0 & 0 & 0 & 0 & 0 & 1 & 0 & 0 & 0 & 0 & 0 & 0 & 0 & 0 & 0 & 0 & 0 & 0 & 1 & 0 & 0 & 0 & 0 & 0 & 0 & 0 & 0 & 0 & 0 & 0 & 0 & 0 & 0 & 0 & 0 & 0 & 0 & 0 & 0 & 0 & 0 & 0 & 0 & 0 & 0 & 0 & 0 & 0 & 0 & 0 & 0 & 0 & 0 & 0 & 0 & 0 & 0 & 0 & 0 & 0 & 0 & 0 & 0 & 0 & 0 & 0 & 0 & 0 & 0 & 0 & 0 & 0 & 1 & 0 & 0 & 0 & 0 & 0 & 0 & 0 & 0 & 0 & 0 & 0 & 0 & 0 & 0 & 0 & 0 & 0 & 0 & 0 & 0 & 1 & 0 & 0 & 0 & 0 & 0 & 0 & 0 & 0 & 0 & 0 & 0 & 0 & 0 & 0 & 0 & 1 & 0 & 0 & 0 & 0 & 0 & 0 & 0 & 0 & 0 & 0 & 0 & 0 & 0 & 0 & 0 & 0 & 0 & 0 & 0 & 0 & 0 & 0 & 0 & 0 & 1 & 1 & 1 & 1 & 1 & 1 & 1 & 0 & 0 & 0 & 0 & 0 & 0 & 0 & 0 & 0 & 0 & 0 & 0 & 0 & 0 & 0 & 0 & 0 & 0 & 0 & 0 & 0 & 0 & 0 & 0 & 0 & 0 & 0 & 0 & 0 & 0 & 0 & 0 & 0 & 0 & 0 & 0 & 0 & 0 & 0 & 0 & 0 & 0 & 0 & 0 & 0 & 0 & 0 & 0 & 0 & 0 & 0 & 0 & 0 & 0 & 0 & 0 & 0 & 0 & 0 & 0 & 0 & 0 & 0 & 0 & 0 & 0 & 0 & 0 & 0 & 0 & 0 & 0 & 0 & 0 & 0 & 0 & 0 & 0 & 0 & 0 & 0 & 0 & 0 & 0 & 0 & 0 & 0 & 0 & 0 & 0 & 0 & 0 & 1 & 0 & 0 & 0 & 0 & 0 & 0 & 0 & 0 & 0 & 0 & 0 & 0 & 0 & 0 & 0 & 0 & 0 & 0 & 0 & 0 & 0 & 0 & 0 & 0 & 0 & 0 & 0 & 0 & 0 & 0 & 0 & 0 & 0 & 0 & 0 & 0 & 0 & 0 & 0 & 0 & 0 & 1 & 1 & 1 & 0 & 0 & 0 & 0 & 1 & 0 & 0 & 0 & 0 & 0 & 0 & 0 & 0 & 0 & 0 & 0 & 0 & 0 & 0 & 0 & 0 & 0 & 0 & 0 & 0 & 0 & 0 & 0 & 0 & 0 & 0 & 0 & 1 & 0 & 0 & 0 & 0 & 1 & 0 & 0 & 0 & 0 & 0 & 0 & 0 & 0 & 0 & 0 & 0 & 0 & 0 & 0 & 0 & 0 & 0 & 0 & 0 & 0 & 0 & 0 & 1 & 0 & 0 & 0 & 0 & 0 & 0 & 0 & 0 & 0 & 0 & 0 & 0 & 0 & 0 & 0 & 0 & 0 & 0 & 0 & 0 & 0 & 0 & 0 & 0 & 0 & 0 & 0 & 0 & 0 & 0 & 0 & 0 & 0 & 0 & 0 & 0 & 0 & 0 & 0 & 1 & 0 & 0 & 0 & 0 & 0 & 0 & 0 & 0 & 0 & 0 & 0 & 0 & 0 & 0 & 0 & 0 & 0 & 0 & 0 & 0 & 0 & 0 & 0 & 0 & 0 & 0 & 0 & 0 & 0 & 0 & 0 & 0 & 0 & 0 & 0 & 0 & 0 & 0 & 0 & 0 & 0 & 0 & 0 & 0 & 0 & 0 & 0 & 0 & 0 & 0 & 0 & 0 & 0 & 0 & 0 & 0 & 0 & 0 & 0 & 0 & 0 & 0 & 0 & 0 & 0 & 0 & 0 & 1 & 0 & 0 & 0 & 0 & 0 & 0 & 0 & 0 & 0 & 0 & 0 & 0 & 0 & 0 & 0 & 0 & 0 & 0 & 0 & 0 & 0 & 0 & 0 & 0 & 0 & 0 & 0 & 0 & 1 & 0 & 0 & 0 & 0 & 0 & 0 & 0 & 0 & 0 & 0 & 0 & 0 & 0 & 0 & 0 & 0 & 0 & 0 & 0 & 0 & 0 & 0 & 0 & 0 & 0 & 0 & 0 & 0 & 0 & 0 & 0 & 0 & 0 & 0 & 0 & 0 & 0 & 0 & 0 & 0 & 0 & 0 & 0 & 0 & 0 & 0 & 0 & 0 & 0 & 0 & 0 & 0 & 0 & 0 & 0 & 0 & 0 & 0 & 0 & 0 & 0 & 0 & 0 & 0 & 0 & 0 & 0 & 0 & 0 & 0 & 0 & 0 & 0 & 0 & 0 & 0 & 0 & 0 & 0 & 0 & 0 & 0 & 0 & 0 & 0 & 0 & 0 & 0 & 0 & 0 & 0 & 0 & 0 & 0 & 0 & 0 & 0 & 0 & 0 & 0 & 0 & 0 & 0 & 0 & 0 & 0 & 0 & 0 & 0 & 0 & 0 & 0 & 0 & 0 & 0 & 0 & 0 & 0 & 0 & 0 & 1 & 1 & 0 & 1 & 0 & 1 & 0 & 0 & 0 & 0 & 0 & 0 & 0 & 0 & 0 & 0 & 0 & 0 & 0 & 0 & 0 & 0 & 0 & 0 & 0 & 0 & 0 & 0 & 0 & 0 & 0 & 0 & 0 & 0 & 0 & 0 & 0 & 0 & 0 & 0 & 0 & 0 & 0 & 0 & 0 & 0 & 1 & 0 & 0 & 0 & 0 & 0 & 0 & 0 & 0 & 0 & 0 & 0 & 0 & 0 & 0 & 0 & 0 & 0 & 0 & 0 & 0 & 0 & 0 & 0 & 0 & 0 & 0 & 0 & 0 & 0 & 0 & 0 & 0 & 0 & 0 & 0 & 0 & 0 & 0 & 0 & 0 & 0 & 0 & 0 & 0 & 0 & 0 & 0 & 0 & 0 & 0 & 0 & 0 & 0 & 0 & 0 & 0 & 0 & 0 & 0 & 0 & 0 & 0 & 0 & 0 & 0 & 0 & 0 & 0 & 0 & 0 & 0 & 1 & 0 & 0 & 0 & 0 & 0 & 0 & 0 & 0 & 0 & 0 & 0 & 0 & 0 & 0 & 0 & 0 & 0 & 0 & 0 & 0 & 0 & 0 & 0 & 1 & 0 & 0 & 1 & 0 & 0 & 0 & 0 & 0 & 0 & 0 & 0 & 0 & 0 & 0 & 0 & 0 & 0 & 0 & 0 & 0 & 0 & 0 & 0 & 1 & 0 & 0 & 0 & 0 & 0 & 0 & 0 & 0 & 0 & 0 & 0 & 0 & 0 & 0 & 0 & 0 & 0 & 1 & 0 & 0 & 0 & 0 & 0 & 0 & 0 & 0 & 0 & 0 & 0 & 0 & 0 & 0 & 0 & 2 & 0 & 0 & 0 & 1 & 1 & 1 & 0 & 0 & 0 & 0 & 0 & 0 & 0 & 0 & 0 & 0 & 0 & 0 & 0 & 0 & 0 & 0 & 0 & 1 & 0 & 0 & 0 & 0 & 0 & 0 & 2 & 0 & 0 & 0 & 0 & 0 & 0 & 0 & 0 & 0 & 0 & 0 & 0 & 0 & 0 & 0 & 0 & 0 & 0 & 0 & 0 & 0 & 0 & 0 & 0 & 0 & 0 & 0 & 0 & 0 & 0 & 0 & 0 & 0 & 0 & 0 & 0 & 0 & 0 & 0 & 0 & 0 & 0 & 0 & 0 & 0 & 0 & 0 & 0 & 0 & 0 & 0 & 0 & 0 & 0 & 0 & 0 & 0 & 0 & 0 & 0 & 0 & 0 & 0 & 0 & 0 & 0 & 0 & 0 & 0 & 0 & 0 & 0 & 0 & 0 & 0 & 0 & 0 & 0 & 0 & 0 & 0 & 0 & 0 & 0 & 0 & 0 & 0 & 0 & 0 & 0 & 0 & 0 & 0 & 0 & 0 & 0 & 0 & 0 & 0 & 0 & 0 & 0 & 0 & 0 & 0 & 0 & 0 & 0 & 0 & 0 & 0 & 0 & 0 & 0 & 0 & 0 & 0 & 0 & 0 & 0 & 0 & 0 & 0 & 0 & 0 & 0 & 0 & 0 & 0 & 0 & 0 & 0 & 0 & 0 & 0 & 0 & 0 & 0 & 0 & 0 & 0 & 0 & 0 & 0 & 0 & 0 & 0 & 0 & 0 & 0 & 0 & 0 & 0 & 0 & 0 & 0 & 0 & 0 & 0 & 0 & 0 & 0 & 0 & 0 & 0 & 0 & 0 & 0 & 0 & 0 & 0 & 0 & 0 & 0 & 0 & 0 & 0 & 0 & 0 & 0 & 0 & 0 & 0 & 0 & 0 & 0 & 0 & 0 & 0 & 0 & 0 & 0 & 0 & 0 & 0 & 0 & 0 & 0 & 0 & 0 & 0 & 0 & 0 & 0 & 0 & 0 & 0 & 0 & 0 & 0 & 0 & 0 & 0 & 0 & 0 & 0 & 0 & 0 & 0 & 0 & 0 & 0 & 0 & 0 & 0 & 0 & 0 & 0 & 0 & 0 & 0 & 0 & 0 & 0 & 0 & 0 & 0 & 0 & 0 & 0 & 0 & 0 & 0 & 0 & 0 & 0 & 0 & 0 & 0 & 0 & 0 & 0 & 0 & 0 & 0 & 0 & 0 & 0 & 0 & 0 & 0 & 0 & 0 & 0 & 0 & 0 & 0 & 0 & 0 & 0 & 0 & 0 & 0 & 0 & 0 & 0 & 0 & 0 & 0 & 0 & 0 & 0 & 0 & 0 & 0 & 0 & 0 & 0 & 0 & 0 & 0 & 0 & 0 & 0 & 0 & 0 & 0 & 0 & 0 & 0 & 0 & 0 & 0 & 0 & 0 & 0 & 0 & 0 & 0 & 0 & 0 & 0 & 0 & 0 & 0 & 0 & 0 & 0 & 0 & 0 & 0 & 0 & 0 & 0 & 0 & 0 & 0 & 0 & 0 & 0 & 0 & 0 & 0 & 0 & 0 & 0 & 0 & 0 & 0 & 0 & 0 & 0 & 0 & 0 & 0 & 0 & 0 & 0 & 0 & 0 & 0 & 0 & 0 & 0 & 0 & 0 & 0 & 0 & 0 & 0 & 0 & 0 & 0 & 0 & 0 & 0 & 0 & 0 & 0 & 0 & 0 & 0 & 0 & 0 & 0 & 0 & 0 & 0 & 0 & 0 & 0 & 0 & 0 & 0 & 0 & 0 & 0 & 0 & 0 & 0 & 0 & 0 & 0 & 0 & 0 & 0 & 0 & 0 & 0 & 0 & 0 & 0 & 0 & 0 & 0 & 0 & 0 & 0 & 0 & 0 & 0 & 0 & 0 & 0 & 0 & 0 & 0 & 0 & 0 & 0 & 0 & 0 & 0 & 0 & 0 & 0 & 0 & 0 & 0 & 0 & 0 & 0 & 0 & 0 & 0 & 0 & 0 & 0 & 0 & 0 & 0 & 0 & 0 & 0 & 0 & 0 & 0 & 0 & 0 & 0 & 0 & 0 & 0 & 0 & 0 & 0 & 0 & 0 & 0 & 0 & 0 & 0 & 0 & 0 & 0 & 0 & 0 & 0 & 0 & 0 & 0 & 0 & 0 & 0 & 0 & 0 & 0 & 0 & 0 & 0 & 0 & 0 & 0 & 0 & 0 & 0 & 0 & 0 & 0 & 0 & 0 & 0 & 0 & 0 & 0 & 0 & 0 & 0 & 0 & 0 & 0 & 0 & 0 & 0 & 0 & 0 & 0 & 0 & 0 & 0 & 0 & 0 & 0 & 0 & 0 & 0 & 0 & 0 & 0 & 0 & 0 & 0 & 0 & 0 & 0 & 0 & 0 & 0 & 0 & 0 & 0 & 0 & 0 & 0 & 0 & 0 & 0 & 0 & 0 & 0 & 0 & 0 & 0 & 0 & 0 & 0 & 0 & 0 & 0 & 0 & 0 & 0 & 0 & 0 & 0 & 0 & 0 & 0 & 0 & 0 & 0 & 0 & 0 & 0 & 0 & 0 & 0 & 0 & 0 & 0 & 0 & 0 & 0 & 0 & 0 & 0 & 0 & 0 & 0 & 0 & 0 & 0 & 0 & 0 & 0 & 0 & 0 & 0 & 0 & 0 & 0 & 0 & 0 & 0 & 0 & 0 & 0 & 0 & 0 & 0 & 0 & 0 & 0 & 0 & 0 & 0 & 0 & 0 & 0 & 0 & 0 & 0 & 0 & 0 & 0 & 0 & 0 & 0 & 0 & 0 & 0 & 0 & 0 & 0 & 0 & 0 & 0 & 0 & 0 & 0 & 0 & 0 & 0 & 0 & 0 & 0 & 0 & 0 & 0 & 0 & 0 & 0 & 0 & 0 & 0 & 0 & 0 & 0 & 0 & 0 & 0 & 0 & 0 & 0 & 0 & 0 & 0 & 0 & 0 & 0 & 0 & 0 & 0 & 0 & 0 & 0 & 0 & 0 & 0 & 0 & 0 & 0 & 0 & 0 & 0 & 0 & 0 & 0 & 0 & 0 & 0 & 0 & 0 & 0 & 0 & 0 & 0 & 0 & 0 & 0 & 0 & 0 & 0 & 0 & 0 & 0 & 0 & 0 & 0 & 0 & 0 & 0 & 0 & 0 & 0 & 0 & 0 & 0 & 0 & 0 & 0 & 0 & 0 & 0 & 0 & 0 & 0 & 0 & 0 & 0 & 0 & 0 & 0 & 0 & 0 & 0 & 0 & 0 & 0 & 0 & 0 & 0 & 0 & 0 & 0 & 0 & 0 & 0 & 0 & 0 & 0 & 0 & 0 & 0 & 0 & 0 & 0 & 0 & 0 & 0 & 0 & 0 & 0 & 0 & 0 & 0 & 0 & 0 & 0 & 0 & 0 & 0 & 0 & 0 & 0 & 0 & 0 & 0 & 0 & 0 & 0 & 0 & 0 & 0 & 0 & 0 & 0 & 0 & 0 & 0 & 0 & 0 & 0 & 0 & 0 & 0 & 0 & 0 & 0 & 0 & 0 & 0 & 0 & 0 & 0 & 0 & 0 & 0 & 0 & 0 & 0 & 0 & 0 & 0 & 0 & 0 & 0 & 0 & 0 & 0 & 0 & 0 & 0 & 0 & 0 & 0 & 0 & 0 & 0 & 0 & 0 & 0 & 0 & 0 & 0 & 0 & 0 & 0 & 0 & 0 & 0 & 0 & 0 & 0 & 0 & 0 & 0 & 0 & 0 & 0 & 0 & 0 & 0 & 0 & 0 & 0 & 0 & 0 & 0 & 0 & 0 & 0 & 0 & 0 & 0 & 0 & 0 & 0 & 0 & 0 & 0 & 0 & 0 & 0 & 0 & 0 & 0 & 0 & 0 & 0 & 0 & 0 & 0 & 0 & 0 & 0 & 0 & 0 & 0 & 0 & 0 & 0 & 0 & 0 & 0 & 0 & 0 & 0 & 0 & 0 & 0 & 0 & 0 & 0 & 0 & 0 & 0 & 0 & 0 & 0 & 0 & 0 & 0 & 0 & 0 & 0 & 0 & 0 & 0 & 0 & 0 & 0 & 0 & 0 & 0 & 0 & 0 & 0 & 0 & 0 & 0 & 0 & 0 & 0 & 0 & 0 & 0 & 0 & 0 & 0 & 0 & 0 & 0 & 0 & 0 & 0 & 0 & 0 & 0 & 0 & 0 & 0 & 0 & 0 & 0 & 0 & 0 & 0 & 0 & 0 & 0 & 0 & 0 & 0 & 0 & 0 & 0 & HA\\\\\n",
       "\t GCA\\_000308215 & 2 & 3 & 3 & 3 & 3 & 6 & 4 & 60 & 1 & 2 & 1 & 1 & 3 & 3 & 1 & 2 & 1 & 2 & 6 & 1 & 1 & 1 & 1 & 1 & 1 & 2 & 3 & 3 & 3 & 3 & 4 & 7 & 4 & 7 & 9 & 15 & 12 & 1 & 1 & 1 & 1 & 1 & 1 & 1 & 1 & 1 & 1 & 1 & 1 & 1 & 1 & 1 & 1 & 2 & 2 & 3 & 1 & 3 & 3 & 3 & 5 & 4 & 1 & 1 & 1 & 1 & 1 & 1 & 1 & 1 & 1 & 1 & 1 & 1 & 1 & 1 & 1 & 1 & 1 & 1 & 1 & 1 & 1 & 1 & 1 & 1 & 1 & 1 & 1 & 1 & 1 & 1 & 1 & 1 & 1 & 1 & 1 & 1 & 1 & 1 & 1 & 1 & 1 & 1 & 1 & 1 & 1 & 1 & 1 & 1 & 1 & 1 & 1 & 1 & 1 & 1 & 1 & 1 & 1 & 1 & 1 & 1 & 1 & 1 & 1 & 1 & 1 & 1 & 1 & 1 & 1 & 1 & 1 & 1 & 1 & 1 & 1 & 1 & 1 & 1 & 1 & 1 & 1 & 1 & 1 & 3 & 8 & 8 & 1 & 1 & 1 & 1 & 1 & 1 & 1 & 1 & 1 & 1 & 1 & 1 & 1 & 1 & 1 & 1 & 1 & 1 & 1 & 1 & 1 & 1 & 1 & 1 & 1 & 1 & 1 & 1 & 1 & 1 & 1 & 1 & 1 & 1 & 1 & 1 & 1 & 1 & 1 & 1 & 1 & 1 & 1 & 2 & 1 & 1 & 1 & 1 & 1 & 1 & 1 & 1 & 1 & 1 & 1 & 1 & 1 & 1 & 1 & 1 & 1 & 1 & 1 & 1 & 0 & 1 & 1 & 1 & 1 & 1 & 1 & 1 & 1 & 1 & 1 & 2 & 1 & 1 & 1 & 1 & 1 & 1 & 2 & 2 & 2 & 2 & 1 & 2 & 4 & 1 & 1 & 1 & 1 & 1 & 1 & 1 & 1 & 1 & 1 & 1 & 1 & 1 & 1 & 1 & 1 & 1 & 1 & 1 & 1 & 1 & 1 & 1 & 1 & 1 & 1 & 1 & 1 & 1 & 1 & 1 & 1 & 1 & 1 & 1 & 1 & 1 & 1 & 1 & 1 & 1 & 1 & 1 & 1 & 1 & 1 & 1 & 1 & 1 & 1 & 1 & 1 & 1 & 1 & 1 & 1 & 1 & 1 & 1 & 1 & 1 & 1 & 1 & 1 & 2 & 0 & 1 & 3 & 1 & 1 & 3 & 2 & 2 & 2 & 3 & 3 & 1 & 1 & 1 & 1 & 1 & 1 & 1 & 1 & 1 & 1 & 1 & 1 & 1 & 1 & 1 & 1 & 1 & 1 & 1 & 1 & 2 & 1 & 1 & 1 & 1 & 1 & 1 & 1 & 1 & 1 & 1 & 1 & 1 & 1 & 1 & 1 & 1 & 1 & 1 & 1 & 1 & 1 & 3 & 1 & 1 & 1 & 2 & 1 & 4 & 1 & 1 & 1 & 3 & 1 & 1 & 1 & 1 & 1 & 1 & 1 & 1 & 1 & 1 & 1 & 1 & 1 & 1 & 1 & 1 & 1 & 1 & 1 & 1 & 1 & 1 & 1 & 1 & 1 & 1 & 1 & 1 & 1 & 1 & 1 & 1 & 1 & 1 & 1 & 1 & 1 & 1 & 1 & 1 & 1 & 1 & 1 & 1 & 2 & 2 & 3 & 2 & 1 & 1 & 6 & 4 & 1 & 2 & 2 & 6 & 1 & 1 & 1 & 1 & 1 & 1 & 1 & 1 & 1 & 1 & 1 & 1 & 1 & 1 & 1 & 1 & 1 & 1 & 1 & 1 & 1 & 1 & 1 & 1 & 1 & 1 & 1 & 1 & 1 & 1 & 1 & 1 & 1 & 1 & 1 & 1 & 0 & 1 & 1 & 1 & 1 & 2 & 1 & 2 & 2 & 1 & 1 & 1 & 1 & 1 & 1 & 1 & 1 & 1 & 0 & 1 & 1 & 1 & 1 & 2 & 1 & 1 & 1 & 1 & 1 & 1 & 1 & 0 & 3 & 1 & 1 & 2 & 2 & 1 & 1 & 1 & 1 & 1 & 1 & 1 & 1 & 1 & 1 & 1 & 1 & 1 & 1 & 1 & 1 & 1 & 1 & 1 & 2 & 1 & 2 & 2 & 1 & 1 & 1 & 1 & 1 & 1 & 1 & 1 & 1 & 1 & 1 & 1 & 1 & 1 & 1 & 1 & 1 & 1 & 3 & 3 & 1 & 1 & 1 & 1 & 1 & 1 & 1 & 1 & 1 & 1 & 1 & 1 & 2 & 3 & 1 & 1 & 1 & 1 & 1 & 1 & 0 & 1 & 1 & 1 & 3 & 1 & 0 & 0 & 1 & 1 & 1 & 1 & 0 & 2 & 1 & 1 & 1 & 1 & 1 & 1 & 0 & 1 & 1 & 1 & 1 & 1 & 1 & 1 & 1 & 2 & 0 & 4 & 6 & 1 & 1 & 1 & 1 & 1 & 1 & 3 & 1 & 2 & 2 & 1 & 1 & 1 & 1 & 1 & 1 & 1 & 1 & 1 & 4 & 4 & 1 & 1 & 1 & 1 & 0 & 1 & 0 & 0 & 1 & 1 & 1 & 1 & 1 & 1 & 1 & 1 & 1 & 1 & 1 & 1 & 1 & 1 & 1 & 1 & 1 & 0 & 1 & 0 & 1 & 1 & 1 & 1 & 1 & 1 & 1 & 1 & 1 & 0 & 1 & 0 & 1 & 0 & 0 & 1 & 1 & 1 & 1 & 1 & 2 & 0 & 2 & 1 & 1 & 0 & 0 & 1 & 1 & 1 & 0 & 1 & 0 & 0 & 0 & 0 & 0 & 1 & 1 & 1 & 1 & 0 & 4 & 0 & 1 & 1 & 1 & 0 & 0 & 0 & 0 & 1 & 0 & 1 & 1 & 0 & 2 & 0 & 0 & 0 & 0 & 1 & 1 & 0 & 0 & 1 & 1 & 2 & 4 & 12 & 0 & 0 & 0 & 1 & 2 & 0 & 2 & 3 & 2 & 0 & 0 & 3 & 2 & 0 & 0 & 0 & 0 & 1 & 0 & 1 & 2 & 0 & 0 & 0 & 0 & 0 & 1 & 2 & 0 & 2 & 1 & 5 & 2 & 2 & 0 & 1 & 1 & 0 & 0 & 1 & 0 & 0 & 0 & 1 & 0 & 0 & 0 & 3 & 1 & 0 & 0 & 1 & 0 & 0 & 1 & 0 & 0 & 0 & 2 & 1 & 0 & 0 & 1 & 1 & 1 & 1 & 1 & 0 & 0 & 0 & 0 & 0 & 0 & 1 & 1 & 1 & 4 & 1 & 1 & 0 & 1 & 0 & 0 & 1 & 0 & 1 & 0 & 0 & 1 & 0 & 0 & 1 & 0 & 1 & 0 & 0 & 0 & 1 & 2 & 0 & 0 & 0 & 0 & 1 & 1 & 0 & 1 & 0 & 1 & 1 & 3 & 0 & 0 & 0 & 1 & 0 & 1 & 1 & 1 & 1 & 2 & 0 & 1 & 0 & 2 & 0 & 1 & 1 & 2 & 1 & 0 & 0 & 1 & 1 & 0 & 0 & 0 & 2 & 1 & 1 & 2 & 6 & 1 & 0 & 0 & 0 & 0 & 0 & 0 & 1 & 0 & 1 & 1 & 0 & 0 & 0 & 1 & 1 & 1 & 2 & 0 & 0 & 0 & 1 & 0 & 0 & 0 & 0 & 0 & 1 & 0 & 1 & 0 & 0 & 0 & 0 & 1 & 0 & 0 & 1 & 1 & 1 & 4 & 0 & 0 & 0 & 0 & 1 & 0 & 0 & 0 & 1 & 1 & 2 & 2 & 0 & 2 & 0 & 0 & 4 & 1 & 0 & 0 & 0 & 0 & 1 & 1 & 0 & 0 & 0 & 0 & 0 & 1 & 0 & 0 & 0 & 0 & 0 & 0 & 1 & 4 & 1 & 0 & 0 & 0 & 1 & 1 & 0 & 1 & 2 & 0 & 1 & 0 & 0 & 0 & 1 & 0 & 0 & 0 & 0 & 1 & 2 & 0 & 0 & 0 & 2 & 1 & 1 & 2 & 0 & 0 & 1 & 0 & 0 & 0 & 2 &  0 & 0 & 0 & 2 & 0 & 0 & 2 & 1 & 0 & 0 & 0 & 0 & 0 & 0 & 0 & 0 & 0 & 1 & 0 & 0 & 1 & 2 & 1 & 1 & 0 & 0 & 0 & 1 & 1 & 0 & 2 & 2 & 0 & 0 & 1 & 1 & 0 & 1 & 1 & 0 & 1 & 1 & 1 & 1 & 1 & 0 & 0 & 1 & 1 & 1 & 1 & 2 & 1 & 0 & 3 & 1 & 2 & 3 & 3 & 4 & 0 & 1 & 1 & 1 & 1 & 1 & 1 & 1 & 1 & 1 & 1 & 1 & 0 & 0 & 1 & 1 & 1 & 1 & 1 & 1 & 1 & 1 & 1 & 1 & 1 & 1 & 1 & 1 & 1 & 0 & 1 & 1 & 1 & 0 & 2 & 2 & 1 & 0 & 0 & 1 & 0 & 1 & 1 & 1 & 0 & 0 & 1 & 1 & 0 & 1 & 1 & 0 & 0 & 0 & 1 & 1 & 1 & 1 & 1 & 1 & 1 & 1 & 1 & 1 & 1 & 1 & 1 & 0 & 1 & 0 & 1 & 0 & 1 & 2 & 2 & 1 & 1 & 1 & 1 & 1 & 0 & 1 & 0 & 3 & 1 & 1 & 2 & 2 & 2 & 1 & 2 & 2 & 3 & 1 & 9 & 5 & 0 & 1 & 0 & 1 & 0 & 0 & 1 & 1 & 1 & 1 & 1 & 1 & 0 & 1 & 1 & 0 & 0 & 1 & 0 & 1 & 1 & 1 & 0 & 1 & 1 & 1 & 1 & 1 & 1 & 1 & 1 & 1 & 0 & 1 & 1 & 1 & 1 & 1 & 1 & 1 & 1 & 1 & 1 & 0 & 0 & 0 & 2 & 1 & 0 & 1 & 1 & 1 & 2 & 2 & 2 & 1 & 0 & 1 & 1 & 1 & 1 & 1 & 1 & 0 & 0 & 0 & 0 & 0 & 1 & 1 & 1 & 0 & 1 & 0 & 0 & 1 & 0 & 0 & 1 & 1 & 0 & 0 & 1 & 1 & 1 & 1 & 1 & 0 & 0 & 1 & 0 & 1 & 1 & 1 & 0 & 0 & 0 & 0 & 0 & 0 & 1 & 1 & 1 & 1 & 1 & 1 & 1 & 1 & 0 & 1 & 2 & 0 & 1 & 1 & 1 & 1 & 1 & 0 & 1 & 1 & 1 & 1 & 0 & 1 & 0 & 1 & 2 & 0 & 1 & 2 & 0 & 0 & 1 & 1 & 0 & 2 & 3 & 4 & 1 & 3 & 0 & 4 & 0 & 0 & 0 & 1 & 1 & 1 & 1 & 0 & 1 & 0 & 0 & 0 & 0 & 0 & 0 & 1 & 0 & 1 & 1 & 1 & 1 & 1 & 1 & 1 & 1 & 1 & 1 & 0 & 0 & 0 & 1 & 0 & 1 & 0 & 0 & 1 & 0 & 1 & 1 & 0 & 1 & 0 & 0 & 1 & 0 & 0 & 1 & 1 & 0 & 0 & 0 & 1 & 1 & 0 & 1 & 1 & 1 & 1 & 1 & 0 & 1 & 1 & 1 & 0 & 1 & 1 & 0 & 1 & 1 & 1 & 0 & 0 & 0 & 1 & 1 & 0 & 2 & 1 & 0 & 0 & 0 & 1 & 1 & 1 & 0 & 1 & 0 & 1 & 1 & 1 & 0 & 0 & 0 & 1 & 0 & 0 & 0 & 0 & 1 & 3 & 0 & 0 & 0 & 1 & 1 & 1 & 1 & 0 & 0 & 0 & 1 & 1 & 0 & 1 & 0 & 1 & 1 & 1 & 1 & 0 & 1 & 0 & 0 & 0 & 0 & 0 & 1 & 1 & 1 & 1 & 1 & 0 & 1 & 1 & 0 & 1 & 1 & 0 & 1 & 1 & 1 & 1 & 1 & 0 & 1 & 1 & 1 & 1 & 1 & 1 & 1 & 0 & 0 & 1 & 1 & 1 & 0 & 1 & 1 & 1 & 1 & 1 & 1 & 0 & 1 & 1 & 1 & 0 & 0 & 1 & 0 & 0 & 1 & 1 & 2 & 1 & 0 & 0 & 1 & 1 & 1 & 1 & 2 & 0 & 2 & 1 & 1 & 0 & 1 & 0 & 1 & 1 & 2 & 0 & 1 & 0 & 0 & 2 & 0 & 1 & 0 & 0 & 0 & 0 & 1 & 2 & 3 & 1 & 0 & 0 & 4 & 5 & 0 & 1 & 0 & 0 & 1 & 0 & 1 & 1 & 1 & 0 & 0 & 0 & 1 & 0 & 0 & 0 & 0 & 0 & 0 & 0 & 0 & 0 & 0 & 0 & 0 & 0 & 0 & 0 & 0 & 0 & 1 & 0 & 0 & 0 & 0 & 0 & 0 & 1 & 0 & 0 & 1 & 0 & 0 & 0 & 0 & 1 & 1 & 0 & 1 & 0 & 1 & 1 & 1 & 0 & 1 & 1 & 1 & 1 & 0 & 0 & 0 & 1 & 0 & 1 & 1 & 0 & 1 & 0 & 1 & 0 & 1 & 0 & 1 & 0 & 0 & 0 & 0 & 0 & 1 & 1 & 1 & 0 & 0 & 0 & 0 & 0 & 1 & 0 & 0 & 0 & 0 & 0 & 1 & 0 & 0 & 0 & 0 & 0 & 0 & 0 & 0 & 0 & 1 & 0 & 0 & 0 & 0 & 0 & 1 & 0 & 0 & 0 & 1 & 0 & 0 & 0 & 0 & 0 & 0 & 1 & 1 & 0 & 0 & 1 & 0 & 1 & 1 & 1 & 1 & 1 & 1 & 1 & 1 & 0 & 0 & 0 & 1 & 2 & 0 & 2 & 1 & 0 & 0 & 0 & 0 & 0 & 2 & 0 & 1 & 1 & 0 & 0 & 0 & 1 & 1 & 0 & 0 & 0 & 0 & 1 & 1 & 1 & 0 & 0 & 2 & 1 & 0 & 0 & 2 & 3 & 0 & 2 & 4 & 0 & 0 & 1 & 1 & 1 & 0 & 0 & 0 & 0 & 0 & 1 & 0 & 0 & 0 & 0 & 0 & 0 & 1 & 1 & 0 & 1 & 1 & 1 & 1 & 1 & 1 & 1 & 0 & 1 & 1 & 1 & 1 & 0 & 0 & 0 & 0 & 0 & 0 & 0 & 0 & 0 & 1 & 0 & 0 & 1 & 0 & 0 & 0 & 0 & 0 & 1 & 1 & 0 & 0 & 0 & 0 & 0 & 0 & 0 & 1 & 1 & 1 & 1 & 0 & 0 & 1 & 1 & 1 & 1 & 1 & 1 & 0 & 0 & 1 & 0 & 1 & 0 & 0 & 0 & 0 & 0 & 0 & 0 & 0 & 0 & 0 & 0 & 0 & 0 & 1 & 0 & 1 & 0 & 0 & 0 & 0 & 1 & 1 & 0 & 1 & 0 & 0 & 1 & 0 & 0 & 0 & 1 & 0 & 2 & 1 & 0 & 0 & 1 & 0 & 0 & 0 & 0 & 0 & 0 & 0 & 0 & 8 & 0 & 0 & 0 & 0 & 0 & 0 & 0 & 1 & 1 & 1 & 0 & 1 & 1 & 1 & 1 & 0 & 0 & 0 & 1 & 0 & 0 & 0 & 0 & 0 & 0 & 0 & 0 & 0 & 0 & 0 & 0 & 0 & 1 & 0 & 0 & 1 & 1 & 0 & 0 & 0 & 0 & 1 & 0 & 0 & 1 & 1 & 0 & 1 & 1 & 0 & 0 & 0 & 1 & 1 & 1 & 1 & 1 & 0 & 0 & 0 & 0 & 0 & 0 & 0 & 0 & 0 & 0 & 0 & 0 & 1 & 0 & 0 & 1 & 0 & 0 & 0 & 0 & 0 & 1 & 0 & 1 & 1 & 1 & 2 & 1 & 1 & 0 & 0 & 0 & 1 & 0 & 0 & 0 & 0 & 0 & 0 & 0 & 1 & 0 & 0 & 0 & 0 & 0 & 0 & 0 & 0 & 0 & 1 & 0 & 0 & 1 & 0 & 0 & 0 & 0 & 0 & 0 & 1 & 0 & 1 & 0 & 1 & 1 & 1 & 0 & 0 & 0 & 0 & 0 & 0 & 0 & 0 & 0 & 0 & 0 & 0 & 0 & 0 & 0 & 0 & 0 & 1 & 0 & 0 & 0 & 1 & 0 & 0 & 0 & 0 & 1 & 0 & 0 & 0 & 0 & 0 & 0 & 1 & 1 & 0 & 0 & 1 & 0 & 1 & 0 & 0 & 3 & 0 & 0 & 0 & 0 & 0 & 0 & 0 & 0 & 0 & 1 & 1 & 1 & 0 & 1 & 0 & 0 & 0 & 0 & 0 & 0 & 0 & 0 & 0 & 0 & 0 & 0 & 0 & 0 & 0 & 0 & 0 & 0 & 1 & 1 & 0 & 0 & 0 & 1 & 0 & 0 & 0 & 0 & 0 & 1 & 1 & 1 & 0 & 1 & 1 & 0 & 0 & 0 & 0 & 0 & 0 & 0 & 0 & 0 & 0 & 0 & 0 & 0 & 0 & 0 & 1 & 0 & 0 & 0 & 0 & 1 & 0 & 0 & 0 & 1 & 0 & 0 & 0 & 0 & 1 & 0 & 0 & 0 & 0 & 0 & 0 & 0 & 0 & 0 & 0 & 0 & 0 & 0 & 0 & 0 & 0 & 0 & 0 & 0 & 0 & 0 & 0 & 1 & 0 & 0 & 0 & 0 & 0 & 0 & 0 & 1 & 1 & 1 & 1 & 0 & 0 & 0 & 0 & 0 & 0 & 0 & 0 & 0 & 0 & 0 & 0 & 0 & 1 & 0 & 1 & 0 & 0 & 0 & 0 & 0 & 1 & 1 & 0 & 0 & 0 & 0 & 0 & 0 & 0 & 0 & 0 & 0 & 1 & 0 & 0 & 0 & 0 & 0 & 0 & 0 & 0 & 0 & 0 & 0 & 0 & 0 & 0 & 0 & 0 & 0 & 0 & 0 & 1 & 0 & 1 & 1 & 0 & 0 & 0 & 0 & 0 & 0 & 0 & 0 & 0 & 0 & 0 & 0 & 1 & 0 & 0 & 0 & 0 & 0 & 0 & 1 & 0 & 0 & 0 & 0 & 0 & 1 & 0 & 0 & 0 & 0 & 0 & 0 & 0 & 0 & 0 & 0 & 0 & 0 & 0 & 0 & 0 & 0 & 0 & 0 & 0 & 0 & 0 & 0 & 0 & 0 & 1 & 1 & 0 & 0 & 0 & 1 & 0 & 0 & 0 & 0 & 0 & 0 & 0 & 2 & 1 & 0 & 0 & 0 & 0 & 0 & 0 & 0 & 0 & 0 & 0 & 0 & 0 & 0 & 1 & 0 & 0 & 0 & 0 & 0 & 1 & 0 & 0 & 0 & 0 & 0 & 0 & 0 & 0 & 0 & 0 & 0 & 0 & 0 & 0 & 0 & 0 & 0 & 0 & 0 & 1 & 1 & 0 & 0 & 0 & 0 & 0 & 0 & 0 & 0 & 0 & 0 & 0 & 0 & 0 & 0 & 0 & 0 & 0 & 0 & 0 & 0 & 0 & 0 & 0 & 0 & 0 & 0 & 0 & 0 & 0 & 0 & 0 & 0 & 0 & 0 & 0 & 0 & 0 & 1 & 0 & 0 & 0 & 0 & 0 & 1 & 0 & 0 & 1 & 0 & 0 & 0 & 0 & 0 & 0 & 0 & 0 & 0 & 0 & 0 & 0 & 0 & 3 & 0 & 0 & 0 & 0 & 0 & 0 & 0 & 0 & 0 & 1 & 0 & 0 & 0 & 0 & 0 & 0 & 0 & 0 & 0 & 0 & 0 & 0 & 0 & 1 & 1 & 1 & 1 & 1 & 0 & 0 & 0 & 0 & 0 & 0 & 0 & 0 & 0 & 0 & 0 & 0 & 0 & 0 & 0 & 0 & 0 & 0 & 0 & 0 & 0 & 0 & 0 & 0 & 0 & 0 & 0 & 0 & 0 & 0 & 0 & 0 & 0 & 0 & 0 & 0 & 0 & 0 & 0 & 0 & 1 & 1 & 0 & 0 & 0 & 0 & 0 & 0 & 0 & 0 & 0 & 0 & 0 & 0 & 0 & 0 & 0 & 0 & 0 & 0 & 0 & 0 & 0 & 0 & 0 & 0 & 0 & 0 & 0 & 0 & 0 & 0 & 0 & 0 & 0 & 0 & 0 & 0 & 0 & 0 & 0 & 0 & 0 & 0 & 0 & 0 & 0 & 0 & 0 & 0 & 0 & 0 & 0 & 0 & 0 & 0 & 1 & 0 & 0 & 0 & 0 & 0 & 1 & 0 & 0 & 0 & 0 & 0 & 0 & 0 & 0 & 0 & 0 & 0 & 0 & 0 & 0 & 1 & 0 & 2 & 1 & 0 & 0 & 0 & 0 & 0 & 0 & 1 & 0 & 0 & 0 & 0 & 0 & 0 & 0 & 1 & 0 & 0 & 0 & 0 & 0 & 0 & 0 & 0 & 0 & 0 & 0 & 0 & 0 & 0 & 0 & 0 & 0 & 0 & 0 & 0 & 0 & 0 & 0 & 0 & 0 & 0 & 0 & 0 & 0 & 0 & 0 & 0 & 0 & 0 & 0 & 0 & 0 & 0 & 0 & 0 & 0 & 0 & 0 & 0 & 0 & 0 & 0 & 0 & 0 & 0 & 0 & 0 & 0 & 0 & 0 & 0 & 0 & 0 & 0 & 0 & 0 & 0 & 0 & 0 & 0 & 0 & 0 & 0 & 0 & 0 & 0 & 1 & 1 & 1 & 0 & 0 & 1 & 1 & 0 & 0 & 0 & 0 & 0 & 0 & 0 & 0 & 0 & 0 & 0 & 0 & 0 & 0 & 0 & 0 & 0 & 0 & 0 & 0 & 0 & 0 & 0 & 0 & 0 & 0 & 0 & 0 & 0 & 0 & 0 & 0 & 0 & 0 & 0 & 0 & 0 & 0 & 0 & 0 & 0 & 0 & 0 & 0 & 0 & 0 & 0 & 0 & 0 & 0 & 0 & 0 & 0 & 0 & 0 & 0 & 1 & 0 & 0 & 0 & 0 & 0 & 0 & 0 & 0 & 0 & 0 & 0 & 0 & 0 & 0 & 0 & 0 & 0 & 1 & 0 & 0 & 0 & 0 & 0 & 0 & 0 & 0 & 0 & 0 & 0 & 0 & 0 & 0 & 0 & 0 & 0 & 0 & 0 & 0 & 0 & 0 & 1 & 1 & 0 & 0 & 0 & 0 & 0 & 0 & 0 & 1 & 1 & 0 & 0 & 0 & 0 & 0 & 0 & 0 & 0 & 0 & 0 & 0 & 0 & 0 & 0 & 0 & 0 & 0 & 1 & 1 & 2 & 0 & 0 & 0 & 0 & 0 & 0 & 0 & 0 & 1 & 1 & 0 & 0 & 0 & 0 & 0 & 0 & 0 & 2 & 0 & 0 & 0 & 0 & 0 & 0 & 0 & 0 & 0 & 3 & 2 & 0 & 1 & 0 & 0 & 0 & 0 & 0 & 0 & 0 & 0 & 0 & 0 & 0 & 0 & 0 & 0 & 0 & 0 & 0 & 0 & 0 & 0 & 0 & 0 & 0 & 0 & 0 & 0 & 0 & 0 & 0 & 0 & 0 & 0 & 0 & 1 & 0 & 0 & 0 & 0 & 0 & 0 & 0 & 0 & 0 & 0 & 0 & 0 & 0 & 0 & 0 & 0 & 0 & 0 & 0 & 0 & 0 & 0 & 0 & 0 & 0 & 0 & 0 & 0 & 0 & 0 & 0 & 1 & 1 & 0 & 0 & 0 & 0 & 0 & 0 & 0 & 0 & 0 & 0 & 0 & 0 & 0 & 0 & 0 & 0 & 0 & 0 & 0 & 0 & 0 & 0 & 0 & 0 & 1 & 0 & 0 & 0 & 0 & 0 & 1 & 1 & 0 & 1 & 1 & 1 & 0 & 0 & 0 & 0 & 0 & 0 & 0 & 0 & 0 & 0 & 0 & 0 & 0 & 0 & 0 & 1 & 0 & 0 & 0 & 0 & 0 & 0 & 0 & 0 & 0 & 0 & 0 & 0 & 0 & 0 & 1 & 1 & 0 & 0 & 0 & 0 & 0 & 0 & 0 & 0 & 0 & 0 & 0 & 0 & 0 & 1 & 0 & 0 & 0 & 0 & 0 & 0 & 0 & 0 & 1 & 1 & 0 & 0 & 0 & 0 & 0 & 0 & 0 & 0 & 0 & 0 & 1 & 1 & 0 & 0 & 0 & 0 & 0 & 0 & 0 & 0 & 0 & 0 & 0 & 0 & 0 & 0 & 0 & 0 & 1 & 0 & 0 & 0 & 0 & 0 & 0 & 0 & 0 & 0 & 1 & 0 & 0 & 0 & 0 & 0 & 0 & 0 & 0 & 0 & 1 & 1 & 1 & 0 & 0 & 0 & 0 & 0 & 0 & 0 & 0 & 0 & 0 & 0 & 0 & 0 & 0 & 0 & 0 & 0 & 0 & 0 & 0 & 0 & 0 & 0 & 0 & 0 & 0 & 0 & 0 & 0 & 0 & 1 & 1 & 0 & 0 & 0 & 0 & 0 & 0 & 0 & 0 & 0 & 0 & 0 & 0 & 0 & 0 & 0 & 0 & 0 & 0 & 0 & 0 & 0 & 0 & 0 & 1 & 1 & 0 & 0 & 0 & 0 & 0 & 0 & 0 & 0 & 0 & 0 & 0 & 0 & 0 & 0 & 0 & 0 & 0 & 0 & 0 & 0 & 0 & 0 & 0 & 1 & 0 & 0 & 0 & 0 & 0 & 1 & 0 & 0 & 0 & 0 & 0 & 0 & 0 & 0 & 0 & 0 & 0 & 0 & 0 & 0 & 0 & 0 & 1 & 0 & 0 & 0 & 0 & 0 & 0 & 0 & 0 & 0 & 0 & 0 & 0 & 0 & 0 & 0 & 0 & 0 & 0 & 0 & 0 & 0 & 0 & 0 & 0 & 0 & 0 & 1 & 1 & 1 & 0 & 1 & 0 & 0 & 0 & 0 & 0 & 0 & 0 & 0 & 0 & 0 & 0 & 0 & 0 & 0 & 0 & 0 & 0 & 0 & 0 & 0 & 0 & 0 & 0 & 0 & 0 & 0 & 0 & 0 & 0 & 0 & 0 & 0 & 0 & 0 & 0 & 0 & 0 & 0 & 0 & 0 & 0 & 0 & 1 & 0 & 0 & 0 & 0 & 0 & 0 & 0 & 0 & 0 & 0 & 0 & 0 & 0 & 0 & 0 & 0 & 0 & 0 & 0 & 0 & 0 & 0 & 0 & 0 & 0 & 0 & 0 & 0 & 0 & 0 & 0 & 0 & 0 & 0 & 0 & 0 & 0 & 0 & 0 & 0 & 0 & 0 & 0 & 0 & 0 & 0 & 0 & 0 & 0 & 0 & 0 & 0 & 0 & 0 & 0 & 0 & 0 & 0 & 0 & 0 & 0 & 0 & 0 & 0 & 0 & 0 & 0 & 0 & 0 & 0 & 0 & 0 & 0 & 0 & 0 & 0 & 1 & 0 & 0 & 0 & 0 & 0 & 0 & 0 & 0 & 0 & 0 & 0 & 0 & 0 & 1 & 1 & 0 & 0 & 0 & 0 & 0 & 0 & 0 & 0 & 0 & 0 & 0 & 0 & 0 & 0 & 1 & 0 & 0 & 0 & 0 & 0 & 0 & 0 & 0 & 0 & 0 & 0 & 0 & 0 & 0 & 0 & 0 & 0 & 0 & 0 & 0 & 0 & 0 & 0 & 0 & 0 & 0 & 0 & 0 & 0 & 0 & 0 & 0 & 0 & 0 & 0 & 0 & 0 & 0 & 0 & 0 & 0 & 0 & 1 & 0 & 0 & 0 & 0 & 0 & 0 & 0 & 0 & 0 & 0 & 0 & 0 & 0 & 0 & 0 & 0 & 0 & 0 & 0 & 0 & 0 & 0 & 0 & 0 & 0 & 0 & 0 & 0 & 0 & 0 & 0 & 0 & 0 & 0 & 0 & 0 & 0 & 0 & 0 & 0 & 0 & 0 & 0 & 0 & 0 & 0 & 0 & 0 & 0 & 0 & 0 & 0 & 0 & 0 & 0 & 0 & 0 & 0 & 0 & 0 & 0 & 0 & 0 & 0 & 0 & 0 & 0 & 0 & 0 & 0 & 0 & 0 & 0 & 0 & 0 & 0 & 0 & 1 & 0 & 0 & 0 & 0 & 0 & 1 & 0 & 0 & 0 & 0 & 0 & 0 & 0 & 0 & 0 & 0 & 0 & 0 & 0 & 1 & 0 & 1 & 0 & 0 & 0 & 0 & 0 & 0 & 0 & 0 & 0 & 0 & 0 & 0 & 0 & 0 & 0 & 0 & 0 & 0 & 0 & 0 & 0 & 0 & 0 & 0 & 0 & 0 & 0 & 0 & 0 & 0 & 0 & 0 & 0 & 0 & 0 & 0 & 0 & 0 & 0 & 0 & 0 & 0 & 0 & 0 & 0 & 0 & 0 & 0 & 0 & 0 & 0 & 0 & 0 & 0 & 0 & 0 & 0 & 0 & 0 & 0 & 0 & 0 & 0 & 0 & 0 & 0 & 0 & 0 & 0 & 0 & 0 & 0 & 0 & 0 & 0 & 0 & 0 & 0 & 0 & 0 & 0 & 0 & 0 & 0 & 0 & 0 & 0 & 0 & 0 & 0 & 0 & 0 & 0 & 0 & 0 & 0 & 0 & 0 & 0 & 0 & 0 & 0 & 0 & 0 & 0 & 0 & 0 & 0 & 0 & 0 & 0 & 0 & 0 & 0 & 0 & 0 & 0 & 0 & 0 & 0 & 0 & 0 & 0 & 0 & 0 & 0 & 0 & 0 & 0 & 0 & 0 & 0 & 0 & 0 & 0 & 0 & 0 & 0 & 0 & 0 & 0 & 0 & 0 & 0 & 0 & 0 & 0 & 0 & 0 & 0 & 0 & 0 & 0 & 0 & 0 & 0 & 0 & 0 & 0 & 0 & 0 & 0 & 0 & 0 & 0 & 0 & 0 & 0 & 0 & 0 & 0 & 0 & 0 & 0 & 0 & 0 & 0 & 0 & 0 & 0 & 0 & 0 & 0 & 0 & 0 & 0 & 0 & 0 & 0 & 0 & 0 & 0 & 0 & 0 & 0 & 0 & 0 & 0 & 0 & 0 & 0 & 0 & 0 & 0 & 0 & 0 & 0 & 0 & 0 & 0 & 0 & 0 & 0 & 0 & 0 & 0 & 0 & 0 & 0 & 0 & 0 & 0 & 0 & 0 & 0 & 0 & 0 & 0 & 0 & 0 & 0 & 0 & 0 & 0 & 0 & 0 & 0 & 0 & 0 & 0 & 0 & 0 & 0 & 0 & 0 & 0 & 0 & 0 & 0 & 0 & 0 & 0 & 0 & 0 & 0 & 0 & 0 & 0 & 0 & 0 & 0 & 0 & 0 & 0 & 0 & 0 & 0 & 0 & 0 & 0 & 0 & 0 & 0 & 0 & 0 & 0 & 0 & 0 & 0 & 0 & 0 & 0 & 0 & 0 & 0 & 0 & 0 & 0 & 0 & 0 & 0 & 0 & 0 & 0 & 0 & 0 & 0 & 0 & 0 & 0 & 0 & 0 & 0 & 0 & 0 & 0 & 0 & 0 & 0 & 0 & 0 & 0 & 0 & 0 & 0 & 0 & 0 & 0 & 0 & 0 & 0 & 0 & 0 & 0 & 0 & 0 & 0 & 0 & 0 & 0 & 0 & 0 & 0 & 0 & 0 & 0 & 0 & 0 & 0 & 0 & 0 & 0 & 0 & 0 & 0 & 0 & 0 & 0 & 0 & 0 & 0 & 0 & 0 & 0 & 0 & 0 & 0 & 0 & 0 & 0 & 0 & 0 & 0 & 0 & 0 & 0 & 0 & 0 & 0 & 0 & 0 & 0 & 0 & 0 & 0 & 0 & 0 & 0 & 0 & 0 & 0 & 0 & 0 & 0 & 0 & 0 & 0 & 0 & 0 & 0 & 0 & 0 & 0 & 0 & 0 & 0 & 0 & 0 & 0 & 0 & 0 & 0 & 0 & 0 & 0 & 0 & 0 & 0 & 0 & 0 & 0 & 0 & 0 & 0 & 0 & 0 & 0 & 0 & 0 & 0 & 0 & 0 & 0 & 0 & 0 & 0 & 0 & 0 & 0 & 0 & 0 & 0 & 0 & 0 & 0 & 0 & 0 & 0 & 0 & 0 & 0 & 0 & 0 & 0 & 0 & 0 & 0 & 0 & 0 & 0 & 0 & 0 & 0 & 0 & 0 & 0 & 0 & 0 & 0 & 0 & 0 & 0 & 0 & 0 & 0 & 0 & 0 & 0 & 0 & 0 & 0 & 0 & 0 & 0 & 0 & 0 & 0 & 0 & 0 & 0 & 0 & 0 & 0 & 0 & 0 & 0 & 0 & 0 & 0 & 0 & 0 & 0 & 0 & 0 & 0 & 0 & 0 & 0 & 0 & 0 & 0 & 0 & 0 & 0 & 0 & 0 & 0 & 0 & 0 & 0 & 0 & 0 & 0 & 0 & 0 & 0 & 0 & 0 & 0 & 0 & 0 & 0 & 0 & 0 & 0 & 0 & 0 & 0 & 0 & 0 & 0 & 0 & 0 & 0 & 0 & 0 & 0 & 0 & 0 & 0 & 0 & 0 & 0 & 0 & 0 & 0 & 0 & 0 & 0 & 0 & 0 & 0 & 0 & 0 & 0 & 0 & 0 & 0 & 0 & 0 & 0 & 0 & 0 & 0 & 0 & 0 & 0 & 0 & 0 & 0 & 0 & 0 & 0 & 0 & 0 & 0 & 0 & 0 & 0 & 0 & 0 & 0 & 0 & 0 & 0 & 0 & 0 & 0 & 0 & 0 & 0 & 0 & 0 & 0 & 0 & 0 & 0 & 0 & 0 & 0 & 0 & 0 & 0 & 0 & 0 & 0 & 0 & 0 & 0 & 0 & 0 & 0 & 0 & 0 & 0 & 0 & 0 & 0 & 0 & 0 & 0 & 0 & 0 & 0 & 0 & 0 & 0 & 0 & 0 & 0 & 0 & 0 & 0 & 0 & 0 & 0 & 0 & 0 & 0 & 0 & 0 & 0 & 0 & 0 & 0 & 0 & 0 & 0 & 0 & 0 & 0 & 0 & 0 & 0 & 0 & 0 & 0 & 0 & 0 & 0 & 0 & 0 & 0 & 0 & 0 & 0 & 0 & 0 & 0 & 0 & 0 & 0 & 0 & 0 & 0 & 0 & 0 & 0 & 0 & 0 & 0 & 0 & 0 & 0 & 0 & 0 & 0 & 0 & 0 & 0 & 0 & 0 & 0 & 0 & 0 & 0 & 0 & 0 & 0 & 0 & 0 & 0 & 0 & 0 & 0 & 0 & 0 & 0 & 0 & 0 & 0 & 0 & 0 & 0 & 0 & 0 & 0 & 0 & 0 & 0 & 0 & 0 & 0 & 0 & 0 & 0 & 0 & 0 & 0 & 0 & 0 & 0 & 0 & 0 & 0 & 0 & 0 & 0 & 0 & 0 & 0 & 0 & 0 & 0 & 0 & 0 & 0 & 0 & 0 & 0 & 0 & 0 & 0 & 0 & 0 & 0 & 0 & 0 & 0 & 0 & 0 & 0 & 0 & 0 & 0 & 0 & 0 & 0 & 0 & 0 & 0 & 0 & 0 & 0 & 0 & 0 & 0 & 0 & 0 & 0 & 0 & 0 & 0 & 0 & 0 & 0 & 0 & 0 & 0 & 0 & 0 & 0 & 0 & 0 & 0 & 0 & 0 & 0 & 0 & 0 & 0 & 0 & 0 & 0 & 0 & 0 & 0 & 0 & 0 & 0 & 0 & 0 & 0 & 0 & 0 & 0 & 0 & 0 & 0 & 0 & 0 & 0 & 0 & 0 & 0 & 0 & 0 & 0 & 0 & 0 & 0 & 0 & 0 & 0 & 0 & 0 & 0 & 0 & 0 & 0 & 0 & 0 & 0 & 0 & 0 & 0 & 0 & 0 & 0 & 0 & 0 & 0 & 0 & 0 & 0 & 0 & 0 & 0 & 0 & 0 & 0 & 0 & 0 & 0 & 0 & 0 & 0 & 0 & 0 & 0 & 0 & 0 & 0 & 0 & 0 & 0 & 0 & 0 & 0 & 0 & 0 & 0 & 0 & 0 & 0 & 0 & 0 & 0 & 0 & 0 & 0 & 0 & 0 & 0 & 0 & 0 & 0 & 0 & 0 & 0 & 0 & 0 & 0 & 0 & 0 & 0 & 0 & 0 & 0 & 0 & 0 & 0 & 0 & 0 & 0 & 0 & 0 & 0 & 0 & 0 & 0 & 0 & 0 & 0 & 0 & 0 & 0 & 0 & 0 & 0 & 0 & 0 & 0 & 0 & 0 & 0 & 0 & 0 & 0 & 0 & 0 & 0 & 0 & 0 & 0 & 0 & 0 & 0 & 0 & 0 & 0 & 0 & 0 & 0 & 0 & 0 & 0 & 0 & 0 & 0 & 0 & 0 & 0 & 0 & 0 & 0 & 0 & 0 & 0 & 0 & 0 & 0 & 0 & 0 & 0 & 0 & 0 & 0 & 0 & 0 & 0 & 0 & 0 & 0 & 0 & 0 & 0 & 0 & 0 & 0 & 0 & 0 & 0 & 0 & 0 & 0 & 0 & 0 & 0 & 0 & 0 & 0 & 0 & 0 & 0 & 0 & 0 & 0 & 0 & 0 & 0 & 0 & 0 & 0 & 0 & 0 & 0 & 0 & 0 & 0 & 0 & 0 & 0 & 0 & 0 & 0 & 0 & 0 & 0 & 0 & 0 & 0 & 0 & 0 & 0 & 0 & 0 & 0 & 0 & 0 & 0 & 0 & 0 & 0 & 0 & 0 & 0 & 0 & 0 & 0 & 0 & 0 & 0 & 0 & 0 & 0 & 0 & 0 & 0 & 0 & 0 & 0 & 0 & 0 & 0 & 0 & 0 & 0 & 0 & 0 & 0 & 0 & 0 & 0 & 0 & 0 & 0 & 0 & 0 & 0 & 0 & 0 & 0 & 0 & 0 & 0 & 0 & 0 & 0 & 0 & 0 & 0 & 0 & 0 & 0 & 0 & 0 & 0 & 0 & 0 & 0 & 0 & 0 & 0 & 0 & 0 & 0 & 0 & 0 & 0 & 0 & 0 & 0 & 0 & 0 & 0 & 0 & 0 & 0 & 0 & 0 & 0 & 0 & 0 & 0 & 0 & 0 & 0 & 0 & 0 & 0 & 0 & 0 & 0 & 0 & 0 & 0 & 0 & 0 & 0 & 0 & 0 & 0 & 0 & 0 & 0 & 0 & 0 & 0 & 0 & 0 & 0 & 0 & 0 & 0 & 0 & 0 & 0 & 0 & 0 & 0 & 0 & 0 & 0 & 0 & 0 & 0 & 0 & 0 & 0 & 0 & 0 & 0 & 0 & 0 & 0 & 0 & 0 & 0 & 0 & 0 & 0 & 0 & 0 & 0 & 0 & 0 & 0 & 0 & 0 & 0 & 0 & 0 & 0 & 0 & 0 & 0 & 0 & 0 & 0 & 0 & 0 & 0 & 0 & 0 & 0 & 0 & 0 & 0 & 0 & 0 & 0 & 0 & 0 & 0 & 0 & 0 & 0 & 0 & 0 & 0 & 0 & 0 & 0 & 0 & 0 & 0 & 0 & 0 & 0 & 0 & 0 & 0 & 0 & 0 & 0 & 0 & 0 & 0 & 0 & 0 & 0 & 0 & 0 & 0 & 0 & 0 & 0 & 0 & 0 & 0 & 0 & 0 & 0 & 0 & 0 & 0 & 0 & 0 & 0 & 0 & 0 & 0 & 0 & 0 & 0 & 0 & 0 & 0 & 0 & 0 & 0 & 0 & 0 & 0 & 0 & 0 & 0 & 0 & 0 & 0 & 0 & 0 & 0 & 0 & 0 & 0 & 0 & 0 & 0 & 0 & 0 & 0 & 0 & 0 & 0 & 0 & 0 & 0 & 0 & 0 & 0 & 0 & 0 & 0 & 0 & 0 & 0 & 0 & 0 & 0 & 0 & 0 & 0 & 0 & 0 & 0 & 0 & 0 & 0 & 0 & 0 & 0 & 0 & 0 & 0 & 0 & 0 & 0 & 0 & 0 & 0 & 0 & 0 & 0 & 0 & 0 & 0 & 0 & 0 & 0 & 0 & 0 & 0 & 0 & 0 & 0 & 0 & 0 & 0 & 0 & 0 & 0 & 0 & 0 & 0 & 0 & 0 & 0 & 0 & 0 & 0 & 0 & 0 & 0 & 0 & 0 & 0 & 0 & 0 & 0 & 0 & 0 & 0 & 0 & 0 & 0 & 0 & 0 & 0 & 0 & 0 & 0 & 0 & 0 & 0 & 0 & 0 & 0 & 0 & 0 & 0 & 0 & 0 & 0 & 0 & 0 & 0 & 0 & 0 & 0 & 0 & 0 & 0 & 0 & 0 & 0 & 0 & 0 & 0 & 0 & 0 & 0 & 0 & 0 & 0 & 0 & 0 & 0 & 0 & 0 & 0 & 0 & 0 & 0 & 0 & 0 & 0 & 0 & 0 & 0 & 0 & 0 & 0 & 0 & 0 & 0 & 0 & 0 & 0 & 0 & 0 & 0 & 0 & 0 & 0 & 0 & 0 & 0 & 0 & 0 & 0 & 0 & 0 & 0 & 0 & 0 & 0 & 0 & 0 & 0 & 0 & 0 & 0 & 0 & 0 & 0 & 0 & 0 & 0 & 0 & 0 & 0 & 0 & 0 & 0 & 0 & 0 & 0 & 0 & 0 & 0 & 0 & 0 & 0 & 0 & 0 & 0 & 0 & 0 & 0 & 0 & 0 & 0 & 0 & 0 & 0 & 0 & 0 & 0 & 0 & 0 & 0 & 0 & 0 & 0 & 0 & 0 & 0 & 0 & 0 & 0 & 0 & 0 & 0 & 0 & 0 & 0 & 0 & 0 & 0 & 0 & 0 & 0 & 0 & 0 & 0 & 0 & 0 & 0 & 0 & 0 & 0 & 0 & 0 & 0 & 0 & 0 & 0 & 0 & 0 & 0 & 0 & 0 & 0 & 0 & 0 & 0 & 0 & 0 & 0 & 0 & 0 & 0 & 0 & 0 & 0 & 0 & 0 & 0 & 0 & 0 & 0 & 0 & 0 & 0 & 0 & 0 & 0 & 0 & 0 & 0 & 0 & 0 & 0 & 0 & 0 & 0 & 0 & 0 & 0 & 0 & 0 & 0 & 0 & 0 & 0 & 0 & 0 & 0 & 0 & 0 & 0 & 0 & 0 & 0 & 0 & 0 & 0 & 0 & 0 & 0 & 0 & 0 & 0 & 0 & 0 & 0 & 0 & 0 & 0 & 0 & 0 & 0 & 0 & 0 & 0 & 0 & 0 & 0 & 0 & 0 & 0 & 0 & 0 & 0 & 0 & 0 & 0 & 0 & 0 & 0 & 0 & 0 & 0 & 0 & 0 & 0 & 0 & 0 & 0 & 0 & 0 & 0 & 0 & 0 & 0 & 0 & 0 & 0 & 0 & 0 & 0 & 0 & 0 & 0 & 0 & 0 & 0 & 0 & 0 & 0 & 0 & 0 & 0 & 0 & 0 & 0 & 0 & 0 & 0 & 0 & 0 & 0 & 0 & 0 & 0 & 0 & 0 & 0 & 0 & 0 & 0 & 0 & 0 & 0 & 0 & 0 & 0 & 0 & 0 & 0 & 0 & 0 & 0 & 0 & 0 & 0 & 0 & 0 & 0 & 0 & 0 & 0 & 0 & 0 & 0 & 0 & 0 & 0 & 0 & 0 & 0 & 0 & 0 & 0 & 0 & 0 & 0 & 0 & 0 & 0 & 0 & 0 & 0 & 0 & 0 & 0 & 0 & 0 & 0 & 0 & 0 & 0 & 0 & 0 & 0 & 0 & 0 & 0 & 0 & 0 & 0 & 0 & 0 & 0 & 0 & 0 & 0 & 0 & 0 & 0 & 0 & 0 & 0 & 0 & 0 & 0 & 0 & 0 & 0 & 0 & 0 & 0 & 0 & 0 & 0 & 0 & 0 & 0 & 0 & 0 & 0 & 0 & 0 & 0 & 0 & 0 & 0 & 0 & 0 & 0 & 0 & 0 & 0 & 0 & 0 & 0 & 0 & 0 & 0 & 0 & 0 & 0 & 0 & 0 & 0 & 0 & 0 & 0 & 0 & 0 & 0 & 0 & 0 & 0 & 0 & 0 & 0 & 0 & 0 & 0 & 0 & 0 & 0 & 0 & 0 & 0 & 0 & 0 & 0 & 0 & 0 & 0 & 0 & 0 & 0 & 0 & 0 & 0 & 0 & 0 & 0 & 0 & 0 & 0 & 0 & 0 & 0 & 0 & 0 & 0 & 0 & 0 & 0 & 0 & 0 & 0 & 0 & 0 & 0 & 0 & 0 & 0 & 0 & 0 & 0 & 0 & 0 & 0 & 0 & 0 & 0 & 0 & 0 & 0 & 0 & 0 & 0 & 0 & 0 & 0 & 0 & 0 & 0 & 0 & 0 & 0 & 0 & 0 & 0 & 0 & 0 & 0 & 0 & 0 & 0 & 0 & 0 & 0 & 0 & 0 & 0 & 0 & 0 & 0 & 0 & 0 & 0 & 0 & 0 & 0 & 0 & 0 & 0 & 0 & 0 & 0 & 0 & 0 & 0 & 0 & 0 & 0 & 0 & 0 & 0 & 0 & 0 & 0 & 0 & 0 & 0 & 0 & 0 & 0 & 0 & 0 & 0 & 0 & 0 & 0 & 0 & 0 & 0 & 0 & 0 & 0 & 0 & 0 & 0 & 0 & 0 & 0 & 0 & 0 & 0 & 0 & 0 & 0 & 0 & 0 & 0 & 0 & 0 & 0 & 0 & 0 & 0 & 0 & 0 & 0 & 0 & 0 & 0 & 0 & 0 & 0 & 0 & 0 & 0 & 0 & 0 & 0 & 0 & 0 & 0 & 0 & 0 & 0 & 0 & 0 & 0 & 0 & 0 & 0 & 0 & 0 & 0 & 0 & 0 & 0 & 0 & 0 & 0 & 0 & 0 & 0 & 0 & 0 & 0 & 0 & 0 & 0 & 0 & 0 & 0 & 0 & 0 & 0 & 0 & 0 & 0 & 0 & 0 & 0 & 0 & 0 & 0 & 0 & 0 & 0 & 0 & 0 & 0 & 0 & 0 & 0 & 0 & 0 & 0 & 0 & 0 & 0 & 0 & 0 & 0 & 0 & 0 & 0 & 0 & 0 & 0 & 0 & 0 & 0 & 0 & 0 & 0 & 0 & 0 & 0 & 0 & 0 & 0 & 0 & 0 & 0 & 0 & 0 & 0 & 0 & 0 & 0 & 0 & 0 & 0 & 0 & 0 & 0 & 0 & 0 & 0 & 0 & 0 & 0 & 0 & 0 & 0 & 0 & 0 & 0 & 0 & 0 & 0 & 0 & 0 & 0 & 0 & 0 & 0 & 0 & 0 & 0 & 0 & 0 & 0 & 0 & 0 & 0 & 0 & 0 & 0 & 0 & 0 & 0 & 0 & 0 & 0 & 0 & 0 & 0 & 0 & 0 & 0 & 0 & 0 & 0 & 0 & 0 & 0 & 0 & 0 & 0 & 0 & 0 & 0 & 0 & 0 & 0 & 0 & 0 & 0 & 0 & 0 & 0 & 0 & 0 & 0 & 0 & 0 & 0 & 0 & 0 & 0 & 0 & 0 & 0 & 0 & 0 & 0 & 0 & 0 & 0 & 0 & 0 & 0 & 0 & 0 & 0 & 0 & 0 & 0 & 0 & 0 & 0 & 0 & 0 & 0 & 0 & 0 & 0 & 0 & 0 & 0 & 0 & 0 & 0 & 0 & 0 & 0 & 0 & 0 & 0 & 0 & 0 & 0 & 0 & 0 & 0 & 0 & 0 & 0 & 0 & 0 & 0 & 0 & 0 & 0 & 0 & 0 & 0 & 0 & 0 & 0 & 0 & 0 & 0 & 0 & 0 & 0 & 0 & 0 & 0 & 0 & 0 & 0 & 0 & 0 & 0 & 0 & 0 & 0 & 0 & 0 & 0 & 0 & 0 & 0 & 0 & 0 & 0 & 0 & 0 & 0 & 0 & 0 & 0 & 0 & 0 & 0 & 0 & 0 & 0 & 0 & 0 & 0 & 0 & 0 & 0 & 0 & 0 & 0 & 0 & 0 & 0 & 0 & 0 & 0 & 0 & 0 & 0 & 0 & 0 & 0 & 0 & 0 & 0 & 0 & 0 & 0 & 0 & 0 & 0 & 0 & 0 & 0 & 0 & 0 & 0 & 0 & 0 & 0 & 0 & 0 & 0 & 0 & 0 & 0 & 0 & 0 & 0 & 0 & 0 & 0 & 0 & 0 & 0 & 0 & 0 & 0 & 0 & 0 & 0 & 0 & 0 & 0 & 0 & 0 & 0 & 0 & 0 & 0 & 0 & 0 & 0 & 0 & 0 & 0 & 0 & 0 & 0 & 0 & FL\\\\\n",
       "\t GCA\\_000404225 & 1 & 2 & 2 & 2 & 3 & 3 & 1 & 32 & 1 & 1 & 0 & 0 & 1 & 2 & 0 & 1 & 1 & 0 & 0 & 1 & 0 & 1 & 0 & 1 & 0 & 1 & 1 & 1 & 2 & 3 & 2 & 2 & 3 & 3 & 3 &  9 & 16 & 1 & 1 & 0 & 1 & 1 & 1 & 1 & 1 & 0 & 1 & 1 & 1 & 1 & 1 & 1 & 0 & 1 & 1 & 1 & 1 & 1 & 2 & 0 & 3 & 0 & 0 & 1 & 0 & 1 & 0 & 0 & 0 & 0 & 0 & 1 & 1 & 1 & 0 & 1 & 0 & 0 & 1 & 0 & 0 & 1 & 1 & 1 & 1 & 0 & 1 & 0 & 1 & 1 & 1 & 1 & 1 & 0 & 1 & 0 & 0 & 0 & 0 & 1 & 1 & 1 & 1 & 1 & 0 & 0 & 1 & 1 & 1 & 0 & 0 & 0 & 1 & 0 & 0 & 1 & 0 & 1 & 0 & 1 & 0 & 0 & 0 & 0 & 0 & 0 & 0 & 1 & 1 & 1 & 1 & 0 & 0 & 1 & 0 & 0 & 1 & 1 & 0 & 1 & 0 & 0 & 0 & 0 & 2 & 0 & 2 & 0 & 1 & 1 & 0 & 1 & 1 & 1 & 0 & 0 & 0 & 1 & 0 & 0 & 1 & 0 & 1 & 1 & 0 & 0 & 1 & 1 & 0 & 0 & 0 & 1 & 1 & 1 & 1 & 1 & 1 & 0 & 0 & 0 & 0 & 1 & 1 & 1 & 1 & 1 & 1 & 0 & 1 & 1 & 1 & 0 & 0 & 0 & 0 & 1 & 1 & 1 & 0 & 0 & 0 & 0 & 0 & 1 & 0 & 1 & 0 & 0 & 0 & 0 & 0 & 0 & 0 & 0 & 1 & 0 & 1 & 1 & 1 & 0 & 1 & 0 & 1 & 1 & 1 & 1 & 0 & 0 & 0 & 2 & 1 & 0 & 0 & 2 & 0 & 1 & 0 & 1 & 0 & 0 & 1 & 1 & 1 & 1 & 1 & 1 & 0 & 1 & 1 & 0 & 1 & 1 & 1 & 1 & 0 & 1 & 1 & 0 & 0 & 0 & 0 & 0 & 1 & 0 & 0 & 0 & 1 & 0 & 1 & 1 & 1 & 1 & 1 & 1 & 1 & 1 & 0 & 1 & 0 & 1 & 0 & 0 & 1 & 1 & 0 & 0 & 1 & 0 & 1 & 0 & 0 & 1 & 1 & 1 & 0 & 1 & 0 & 1 & 1 & 0 & 1 & 0 & 0 & 0 & 1 & 1 & 1 & 0 & 1 & 0 & 0 & 0 & 0 & 0 & 0 & 1 & 0 & 0 & 0 & 1 & 0 & 1 & 0 & 0 & 1 & 0 & 0 & 1 & 0 & 1 & 0 & 1 & 0 & 0 & 0 & 0 & 1 & 0 & 0 & 0 & 1 & 1 & 0 & 0 & 0 & 0 & 0 & 1 & 1 & 0 & 0 & 1 & 0 & 1 & 0 & 0 & 1 & 0 & 0 & 0 & 1 & 0 & 1 & 0 & 0 & 1 & 1 & 0 & 1 & 1 & 0 & 1 & 0 & 1 & 0 & 1 & 1 & 0 & 0 & 0 & 0 & 0 & 0 & 1 & 1 & 0 & 1 & 0 & 0 & 1 & 1 & 0 & 1 & 0 & 1 & 0 & 0 & 0 & 0 & 1 & 0 & 0 & 0 & 0 & 0 & 0 & 1 & 0 & 0 & 0 & 0 & 0 & 1 & 0 & 1 & 0 & 0 & 0 & 1 & 0 & 1 & 3 & 0 & 0 & 0 & 0 & 0 & 0 & 1 & 0 & 0 & 0 & 0 & 0 & 0 & 1 & 1 & 1 & 1 & 1 & 1 & 0 & 0 & 0 & 0 & 0 & 1 & 0 & 0 & 1 & 1 & 0 & 1 & 1 & 0 & 0 & 0 & 0 & 0 & 1 & 1 & 0 & 0 & 0 & 0 & 1 & 2 & 0 & 0 & 0 & 1 & 0 & 1 & 0 & 1 & 1 & 0 & 1 & 1 & 1 & 0 & 0 & 0 & 0 & 0 & 0 & 0 & 0 & 1 & 0 & 0 & 0 & 1 & 1 & 1 & 1 & 0 & 0 & 1 & 0 & 0 & 0 & 1 & 1 & 1 & 0 & 0 & 0 & 1 & 1 & 1 & 0 & 1 & 0 & 0 & 0 & 0 & 0 & 0 & 1 & 1 & 0 & 0 & 0 & 0 & 0 & 0 & 0 & 0 & 0 & 1 & 0 & 0 & 1 & 1 & 0 & 2 & 3 & 1 & 1 & 1 & 1 & 1 & 0 & 0 & 0 & 1 & 0 & 0 & 0 & 1 & 1 & 0 & 1 & 0 & 0 & 0 & 1 & 1 & 1 & 0 & 1 & 3 & 0 & 0 & 0 & 0 & 0 & 0 & 0 & 0 & 0 & 1 & 1 & 0 & 0 & 1 & 1 & 0 & 0 & 0 & 0 & 0 & 0 & 1 & 0 & 0 & 0 & 0 & 1 & 0 & 0 & 0 & 0 & 0 & 0 & 0 & 0 & 1 & 1 & 1 & 0 & 0 & 1 & 0 & 0 & 0 & 1 & 0 & 1 & 1 & 3 & 1 & 1 & 0 & 0 & 0 & 1 & 0 & 0 & 0 & 0 & 0 & 0 & 0 & 0 & 0 & 1 & 0 & 0 & 0 & 0 & 0 & 0 & 0 & 0 & 1 & 0 & 0 & 0 & 0 & 1 & 2 & 1 & 1 & 0 & 0 & 0 & 0 & 0 & 1 & 0 & 0 & 0 & 0 & 0 & 1 & 0 & 0 & 1 & 0 & 0 & 1 & 0 & 0 & 0 & 0 & 0 & 1 & 1 & 0 & 1 & 0 & 0 & 1 & 0 & 0 & 0 & 0 & 2 & 0 & 0 & 2 & 0 & 1 & 0 & 1 & 0 & 0 & 0 & 0 & 0 & 0 & 0 & 0 & 0 & 0 & 0 & 0 & 1 & 0 & 0 & 0 & 0 & 1 & 0 & 1 & 0 & 2 &  0 & 0 & 0 & 0 & 0 & 0 & 0 & 0 & 0 & 0 & 1 & 0 & 1 & 0 & 0 & 0 & 0 & 0 & 0 & 0 & 1 & 0 & 0 & 0 & 0 & 0 & 0 & 1 & 0 & 0 & 0 & 0 & 0 & 0 & 0 & 0 & 1 & 1 & 0 & 0 & 0 & 1 & 0 & 0 & 0 & 0 & 0 & 0 & 0 & 0 & 0 & 0 & 1 & 0 & 0 & 1 & 0 & 0 & 0 & 0 & 0 & 0 & 0 & 0 & 0 & 0 & 0 & 0 & 0 & 0 & 0 & 0 & 0 & 0 & 1 & 0 & 0 & 3 & 0 & 0 & 0 & 1 & 0 & 0 & 0 & 0 & 2 & 0 & 0 & 1 & 0 & 0 & 0 & 1 & 0 & 0 & 0 & 0 & 1 & 4 & 0 & 0 & 0 & 0 & 0 & 0 & 0 & 0 & 0 & 0 & 0 & 2 & 0 & 0 & 0 & 0 & 0 & 1 & 1 & 1 & 1 & 0 & 0 & 1 & 0 & 0 & 1 & 0 & 2 & 2 & 1 & 0 & 1 & 1 & 1 & 0 & 0 & 0 & 0 & 0 & 0 & 1 & 2 & 0 & 0 & 0 & 0 & 0 & 0 & 0 & 0 & 0 & 0 & 0 & 0 & 0 & 0 & 0 & 1 & 0 & 0 & 0 & 0 & 0 & 0 & 0 & 0 & 1 & 0 & 0 & 0 & 0 & 0 & 0 & 0 & 0 & 0 & 0 & 0 & 0 & 0 & 1 & 1 & 0 & 0 & 0 & 0 & 1 & 0 & 0 & 0 & 0 & 0 & 0 & 1 & 0 & 0 & 0 & 2 & 0 & 1 & 0 & 0 & 0 & 0 & 0 & 0 & 0 & 0 & 0 & 1 & 0 & 0 & 0 & 0 & 0 & 0 & 0 & 0 & 0 & 0 & 0 & 1 & 0 & 0 & 0 & 0 & 0 & 0 & 0 & 0 & 0 & 1 & 0 & 0 & 0 & 0 & 0 & 0 & 0 & 0 & 0 & 1 & 0 & 0 & 0 & 2 & 0 & 0 & 0 & 0 & 0 & 0 & 0 & 0 & 0 & 0 &  2 & 1 & 0 & 1 & 0 & 2 & 0 & 0 & 3 & 0 & 0 & 0 & 0 & 0 & 0 & 1 & 0 & 0 & 0 & 0 & 0 & 0 & 0 & 0 & 0 & 1 & 0 & 1 & 1 & 0 & 2 & 1 & 0 & 0 & 0 & 1 & 0 & 0 & 0 & 0 & 0 & 0 & 0 & 0 & 0 & 0 & 0 & 0 & 0 & 0 & 0 & 0 & 0 & 0 & 0 & 0 & 1 & 0 & 0 & 0 & 0 & 0 & 0 & 0 & 1 & 1 & 1 & 0 & 0 & 0 & 0 & 1 & 0 & 0 & 0 & 1 & 0 & 1 & 0 & 0 & 1 & 0 & 0 & 0 & 0 & 0 & 0 & 0 & 0 & 0 & 1 & 0 & 1 & 0 & 1 & 0 & 0 & 0 & 0 & 0 & 0 & 0 & 1 & 0 & 0 & 0 & 0 & 1 & 0 & 0 & 0 & 0 & 0 & 0 & 0 & 0 & 0 & 1 & 0 & 0 & 0 & 1 & 1 & 0 & 0 & 0 & 1 & 0 & 0 & 0 & 0 & 0 & 0 & 0 & 0 & 0 & 0 & 0 & 0 & 0 & 0 & 0 & 0 & 0 & 0 & 0 & 0 & 0 & 0 & 0 & 0 & 0 & 0 & 0 & 0 & 0 & 0 & 0 & 0 & 0 & 0 & 0 & 0 & 0 & 0 & 0 & 0 & 0 & 0 & 0 & 0 & 1 & 1 & 0 & 0 & 0 & 0 & 1 & 0 & 0 & 1 & 0 & 0 & 1 & 0 & 0 & 0 & 0 & 0 & 0 & 1 & 0 & 0 & 2 & 0 & 0 & 1 & 0 & 0 & 0 & 0 & 0 & 0 & 0 & 0 & 0 & 0 & 0 & 0 & 1 & 0 & 0 & 0 & 0 & 0 & 0 & 0 & 0 & 1 & 0 & 0 & 0 & 0 & 0 & 0 & 0 & 0 & 0 & 0 & 0 & 0 & 1 & 0 & 0 & 0 & 0 & 0 & 0 & 1 & 0 & 0 & 0 & 0 & 0 & 0 & 0 & 0 & 0 & 0 & 0 & 0 & 0 & 0 & 0 & 0 & 0 & 0 & 0 & 0 & 0 & 0 & 0 & 0 & 1 & 0 & 0 & 1 & 0 & 0 & 0 & 1 & 0 & 0 & 0 & 0 & 0 & 0 & 0 & 0 & 0 & 0 & 0 & 0 & 0 & 0 & 0 & 0 & 0 & 0 & 0 & 0 & 0 & 0 & 2 & 0 & 0 & 0 & 0 & 0 & 0 & 0 & 0 & 1 & 1 & 1 & 0 & 0 & 0 & 0 & 0 & 0 & 0 & 0 & 0 & 0 & 0 & 0 & 0 & 1 & 0 & 0 & 0 & 0 & 0 & 0 & 0 & 0 & 0 & 0 & 0 & 1 & 0 & 0 & 0 & 0 & 0 & 0 & 0 & 1 & 0 & 0 & 0 & 0 & 0 & 1 & 0 & 0 & 0 & 0 & 0 & 0 & 0 & 1 & 0 & 0 & 1 & 0 & 1 & 1 & 0 & 1 & 0 & 1 & 1 & 0 & 1 & 0 & 0 & 0 & 0 & 0 & 0 & 0 & 0 & 0 & 0 & 0 & 0 & 0 & 0 & 1 & 1 & 0 & 0 & 0 & 0 & 0 & 0 & 0 & 0 & 0 & 1 & 1 & 0 & 0 & 0 & 1 & 1 & 0 & 0 & 0 & 0 & 0 & 0 & 0 & 1 & 0 & 0 & 0 & 0 & 1 & 0 & 0 & 0 & 0 & 0 & 1 & 0 & 0 & 0 & 0 & 0 & 0 & 0 & 0 & 0 & 0 & 0 & 0 & 0 & 0 & 0 & 0 & 0 & 0 & 0 & 0 & 0 & 0 & 0 & 0 & 0 & 0 & 0 & 0 & 0 & 0 & 0 & 0 & 0 & 0 & 1 & 0 & 0 & 0 & 0 & 1 & 0 & 0 & 0 & 0 & 0 & 0 & 0 & 1 & 0 & 0 & 0 & 0 & 0 & 0 & 0 & 0 & 0 & 0 & 0 & 1 & 0 & 0 & 0 & 0 & 1 & 0 & 0 & 0 & 0 & 0 & 0 & 0 & 0 & 0 & 0 & 0 & 0 & 0 & 0 & 0 & 0 & 0 & 0 & 0 & 0 & 0 & 0 & 0 & 0 & 0 & 0 & 0 & 0 & 1 & 0 & 0 & 0 & 0 & 0 & 1 & 0 & 0 & 0 & 0 & 0 & 1 & 0 & 0 & 0 & 0 & 0 & 0 & 0 & 0 & 0 & 0 & 0 & 0 & 0 & 0 & 0 & 0 & 0 & 0 & 0 & 0 & 0 & 0 & 0 & 0 & 0 & 0 & 0 & 0 & 0 & 0 & 0 & 0 & 0 & 0 & 0 & 0 & 0 & 0 & 0 & 0 & 1 & 1 & 0 & 0 & 0 & 0 & 0 & 0 & 0 & 0 & 0 & 0 & 0 & 0 & 0 & 0 & 0 & 1 & 0 & 0 & 0 & 0 & 0 & 0 & 0 & 0 & 0 & 0 & 0 & 0 & 0 & 0 & 0 & 0 & 0 & 0 & 0 & 0 & 0 & 0 & 0 & 0 & 0 & 0 & 0 & 0 & 0 & 0 & 0 & 0 & 0 & 0 & 0 & 0 & 0 & 0 & 0 & 0 & 0 & 1 & 0 & 0 & 0 & 0 & 0 & 0 & 0 & 0 & 0 & 0 & 0 & 0 & 0 & 0 & 1 & 1 & 0 & 1 & 0 & 1 & 0 & 0 & 0 & 0 & 0 & 0 & 0 & 0 & 0 & 0 & 0 & 0 & 0 & 0 & 0 & 1 & 0 & 0 & 0 & 0 & 0 & 0 & 0 & 0 & 0 & 0 & 0 & 0 & 0 & 0 & 0 & 0 & 0 & 0 & 0 & 0 & 0 & 4 & 0 & 0 & 0 & 0 & 0 & 0 & 0 & 0 & 0 & 0 & 0 & 0 & 0 & 0 & 0 & 0 & 0 & 0 & 0 & 0 & 0 & 1 & 1 & 0 & 0 & 0 & 0 & 0 & 0 & 0 & 0 & 0 & 0 & 0 & 0 & 0 & 0 & 0 & 0 & 0 & 0 & 0 & 0 & 0 & 0 & 0 & 0 & 0 & 0 & 0 & 0 & 0 & 0 & 1 & 0 & 0 & 0 & 0 & 0 & 0 & 0 & 0 & 0 & 0 & 0 & 0 & 1 & 1 & 0 & 0 & 0 & 0 & 0 & 0 & 0 & 0 & 0 & 0 & 0 & 0 & 0 & 0 & 0 & 0 & 0 & 0 & 0 & 0 & 0 & 0 & 0 & 0 & 0 & 0 & 0 & 0 & 0 & 0 & 0 & 0 & 0 & 0 & 0 & 0 & 0 & 0 & 0 & 0 & 0 & 0 & 0 & 0 & 0 & 0 & 0 & 0 & 0 & 0 & 0 & 0 & 0 & 0 & 0 & 0 & 0 & 0 & 0 & 0 & 0 & 0 & 0 & 1 & 0 & 0 & 0 & 0 & 0 & 0 & 0 & 0 & 0 & 0 & 0 & 0 & 0 & 0 & 0 & 0 & 0 & 0 & 0 & 0 & 0 & 0 & 0 & 0 & 0 & 0 & 0 & 0 & 0 & 0 & 0 & 0 & 0 & 0 & 0 & 0 & 0 & 0 & 0 & 0 & 0 & 0 & 0 & 0 & 0 & 0 & 0 & 0 & 0 & 0 & 0 & 0 & 0 & 0 & 0 & 0 & 0 & 0 & 0 & 0 & 0 & 0 & 0 & 0 & 0 & 0 & 0 & 0 & 0 & 0 & 0 & 0 & 0 & 0 & 0 & 0 & 0 & 0 & 0 & 0 & 0 & 1 & 0 & 0 & 0 & 0 & 0 & 0 & 0 & 0 & 0 & 0 & 0 & 0 & 0 & 0 & 0 & 0 & 0 & 0 & 0 & 0 & 0 & 0 & 0 & 0 & 0 & 0 & 0 & 0 & 0 & 0 & 0 & 0 & 0 & 0 & 0 & 0 & 0 & 0 & 0 & 0 & 0 & 0 & 0 & 0 & 0 & 0 & 0 & 0 & 0 & 0 & 0 & 0 & 0 & 0 & 0 & 0 & 0 & 0 & 0 & 0 & 0 & 0 & 0 & 0 & 0 & 0 & 0 & 0 & 0 & 0 & 0 & 0 & 1 & 1 & 0 & 0 & 0 & 0 & 0 & 0 & 0 & 0 & 0 & 0 & 0 & 0 & 0 & 0 & 0 & 0 & 1 & 0 & 0 & 0 & 0 & 0 & 0 & 0 & 1 & 0 & 0 & 0 & 0 & 0 & 0 & 0 & 0 & 1 & 0 & 0 & 0 & 0 & 0 & 0 & 0 & 0 & 0 & 0 & 0 & 0 & 0 & 0 & 1 & 0 & 0 & 0 & 0 & 0 & 0 & 0 & 0 & 0 & 0 & 0 & 0 & 0 & 0 & 0 & 0 & 0 & 0 & 0 & 1 & 0 & 0 & 0 & 0 & 0 & 0 & 0 & 0 & 0 & 1 & 0 & 0 & 0 & 0 & 7 & 0 & 0 & 0 & 0 & 0 & 0 & 0 & 0 & 0 & 0 & 0 & 0 & 0 & 0 & 0 & 0 & 0 & 0 & 0 & 0 & 0 & 0 & 0 & 0 & 0 & 1 & 1 & 0 & 1 & 0 & 0 & 0 & 0 & 0 & 0 & 0 & 0 & 0 & 0 & 0 & 0 & 0 & 0 & 0 & 0 & 0 & 0 & 0 & 0 & 0 & 0 & 0 & 0 & 0 & 0 & 0 & 0 & 1 & 0 & 0 & 0 & 0 & 0 & 0 & 0 & 0 & 0 & 0 & 0 & 0 & 1 & 0 & 0 & 0 & 0 & 0 & 0 & 0 & 0 & 0 & 0 & 0 & 0 & 0 & 0 & 0 & 1 & 1 & 0 & 0 & 0 & 0 & 0 & 0 & 0 & 0 & 0 & 0 & 0 & 0 & 0 & 0 & 0 & 0 & 0 & 0 & 0 & 0 & 0 & 0 & 0 & 0 & 0 & 0 & 0 & 0 & 0 & 0 & 0 & 0 & 0 & 0 & 0 & 0 & 0 & 0 & 0 & 0 & 0 & 0 & 0 & 0 & 0 & 0 & 1 & 0 & 0 & 0 & 0 & 0 & 0 & 0 & 0 & 0 & 0 & 0 & 0 & 0 & 0 & 0 & 0 & 0 & 0 & 0 & 0 & 0 & 0 & 0 & 0 & 1 & 0 & 0 & 0 & 0 & 0 & 0 & 0 & 0 & 0 & 0 & 0 & 0 & 0 & 0 & 0 & 0 & 0 & 0 & 0 & 0 & 0 & 0 & 0 & 0 & 0 & 0 & 0 & 0 & 0 & 0 & 0 & 0 & 0 & 0 & 0 & 0 & 0 & 0 & 0 & 0 & 0 & 0 & 0 & 0 & 0 & 0 & 0 & 0 & 0 & 0 & 0 & 0 & 0 & 0 & 0 & 0 & 0 & 0 & 0 & 0 & 0 & 0 & 0 & 0 & 0 & 0 & 0 & 0 & 0 & 0 & 0 & 1 & 0 & 0 & 0 & 0 & 0 & 0 & 0 & 0 & 0 & 0 & 0 & 0 & 0 & 0 & 0 & 0 & 0 & 0 & 0 & 0 & 0 & 0 & 2 & 0 & 0 & 0 & 0 & 0 & 0 & 0 & 0 & 0 & 0 & 0 & 0 & 0 & 0 & 0 & 0 & 0 & 0 & 0 & 0 & 0 & 0 & 0 & 0 & 0 & 0 & 1 & 0 & 0 & 0 & 0 & 0 & 0 & 0 & 0 & 0 & 0 & 0 & 0 & 0 & 0 & 0 & 0 & 0 & 0 & 0 & 0 & 0 & 0 & 0 & 0 & 0 & 0 & 0 & 0 & 0 & 0 & 0 & 0 & 0 & 0 & 0 & 0 & 0 & 0 & 0 & 0 & 0 & 0 & 0 & 0 & 0 & 0 & 0 & 0 & 0 & 0 & 0 & 0 & 0 & 0 & 0 & 0 & 0 & 0 & 0 & 0 & 0 & 0 & 0 & 0 & 0 & 0 & 0 & 0 & 0 & 0 & 1 & 0 & 0 & 0 & 0 & 0 & 0 & 0 & 0 & 0 & 0 & 0 & 0 & 0 & 0 & 0 & 0 & 0 & 0 & 0 & 0 & 0 & 0 & 0 & 0 & 0 & 0 & 0 & 0 & 0 & 0 & 0 & 0 & 0 & 0 & 0 & 0 & 0 & 0 & 0 & 0 & 0 & 0 & 0 & 0 & 0 & 0 & 0 & 0 & 0 & 0 & 0 & 0 & 0 & 0 & 0 & 0 & 0 & 0 & 0 & 0 & 0 & 0 & 0 & 0 & 0 & 0 & 0 & 0 & 0 & 0 & 0 & 0 & 0 & 0 & 0 & 0 & 0 & 0 & 0 & 0 & 0 & 0 & 0 & 0 & 0 & 0 & 0 & 0 & 0 & 0 & 0 & 0 & 0 & 0 & 0 & 0 & 0 & 0 & 0 & 0 & 0 & 0 & 0 & 0 & 0 & 0 & 0 & 0 & 0 & 0 & 0 & 0 & 0 & 0 & 0 & 0 & 0 & 0 & 0 & 0 & 0 & 0 & 0 & 0 & 0 & 0 & 0 & 0 & 0 & 0 & 0 & 0 & 0 & 0 & 0 & 0 & 0 & 0 & 0 & 0 & 0 & 0 & 0 & 0 & 0 & 0 & 0 & 0 & 0 & 0 & 0 & 0 & 0 & 0 & 0 & 0 & 0 & 0 & 0 & 0 & 0 & 0 & 0 & 0 & 0 & 0 & 0 & 0 & 0 & 0 & 0 & 0 & 0 & 0 & 0 & 0 & 0 & 0 & 0 & 0 & 0 & 0 & 0 & 0 & 0 & 0 & 0 & 0 & 0 & 0 & 0 & 0 & 0 & 0 & 0 & 0 & 0 & 0 & 0 & 0 & 0 & 0 & 0 & 0 & 0 & 0 & 0 & 0 & 0 & 0 & 0 & 0 & 0 & 0 & 0 & 0 & 0 & 0 & 0 & 0 & 0 & 0 & 0 & 0 & 0 & 0 & 0 & 0 & 0 & 0 & 0 & 0 & 0 & 0 & 0 & 0 & 0 & 0 & 0 & 0 & 0 & 1 & 0 & 0 & 0 & 0 & 0 & 0 & 0 & 0 & 0 & 0 & 0 & 0 & 0 & 0 & 0 & 0 & 0 & 0 & 0 & 0 & 0 & 0 & 0 & 0 & 0 & 0 & 0 & 0 & 0 & 0 & 1 & 0 & 0 & 0 & 0 & 0 & 0 & 0 & 2 & 0 & 0 & 0 & 0 & 0 & 0 & 0 & 0 & 0 & 1 & 0 & 0 & 0 & 0 & 0 & 0 & 0 & 0 & 0 & 0 & 0 & 0 & 1 & 0 & 0 & 0 & 2 & 0 & 0 & 0 & 0 & 0 & 0 & 0 & 0 & 0 & 0 & 0 & 0 & 0 & 0 & 0 & 0 & 0 & 0 & 0 & 0 & 0 & 0 & 0 & 0 & 0 & 0 & 0 & 0 & 0 & 0 & 0 & 0 & 0 & 0 & 0 & 0 & 0 & 0 & 0 & 0 & 0 & 0 & 0 & 0 & 0 & 0 & 0 & 0 & 0 & 0 & 0 & 0 & 0 & 0 & 0 & 0 & 0 & 0 & 0 & 0 & 0 & 0 & 0 & 0 & 0 & 0 & 0 & 0 & 0 & 0 & 0 & 0 & 0 & 0 & 0 & 0 & 0 & 0 & 0 & 0 & 0 & 0 & 0 & 0 & 0 & 0 & 0 & 0 & 0 & 0 & 0 & 0 & 0 & 0 & 0 & 0 & 1 & 0 & 0 & 0 & 0 & 0 & 0 & 0 & 0 & 0 & 0 & 0 & 0 & 0 & 0 & 0 & 0 & 0 & 0 & 0 & 0 & 0 & 0 & 0 & 0 & 0 & 0 & 0 & 0 & 1 & 0 & 0 & 1 & 0 & 0 & 0 & 0 & 0 & 0 & 0 & 0 & 0 & 0 & 0 & 0 & 0 & 0 & 0 & 0 & 0 & 0 & 0 & 0 & 0 & 0 & 0 & 0 & 1 & 0 & 0 & 0 & 0 & 0 & 0 & 0 & 0 & 0 & 0 & 0 & 0 & 0 & 0 & 0 & 0 & 0 & 1 & 0 & 0 & 0 & 0 & 0 & 0 & 0 & 0 & 0 & 0 & 0 & 0 & 0 & 0 & 0 & 0 & 0 & 0 & 0 & 0 & 0 & 0 & 0 & 0 & 0 & 0 & 0 & 0 & 0 & 0 & 0 & 0 & 1 & 0 & 0 & 0 & 0 & 0 & 0 & 0 & 0 & 0 & 0 & 0 & 0 & 0 & 0 & 0 & 0 & 0 & 0 & 0 & 0 & 0 & 0 & 0 & 0 & 0 & 0 & 0 & 0 & 0 & 0 & 0 & 0 & 0 & 0 & 0 & 0 & 0 & 0 & 0 & 0 & 0 & 0 & 0 & 0 & 0 & 0 & 0 & 0 & 0 & 0 & 0 & 0 & 0 & 0 & 0 & 0 & 0 & 0 & 0 & 0 & 0 & 0 & 0 & 0 & 0 & 0 & 0 & 0 & 0 & 0 & 0 & 0 & 0 & 0 & 0 & 0 & 0 & 0 & 0 & 0 & 0 & 0 & 0 & 1 & 0 & 0 & 0 & 0 & 0 & 0 & 0 & 0 & 0 & 0 & 0 & 0 & 0 & 0 & 0 & 0 & 0 & 0 & 0 & 0 & 0 & 0 & 0 & 0 & 0 & 0 & 0 & 0 & 0 & 0 & 0 & 0 & 1 & 0 & 0 & 0 & 0 & 0 & 0 & 0 & 0 & 0 & 0 & 0 & 0 & 0 & 0 & 0 & 0 & 0 & 0 & 0 & 1 & 0 & 0 & 0 & 0 & 0 & 0 & 0 & 0 & 0 & 0 & 0 & 0 & 0 & 0 & 0 & 0 & 0 & 0 & 0 & 0 & 0 & 0 & 0 & 0 & 0 & 0 & 0 & 0 & 0 & 0 & 0 & 0 & 0 & 0 & 0 & 0 & 0 & 0 & 0 & 0 & 0 & 0 & 0 & 0 & 0 & 0 & 0 & 0 & 0 & 0 & 0 & 0 & 0 & 0 & 0 & 0 & 0 & 0 & 0 & 0 & 0 & 0 & 0 & 0 & 0 & 0 & 0 & 0 & 0 & 0 & 0 & 0 & 0 & 0 & 0 & 0 & 0 & 0 & 0 & 0 & 0 & 0 & 0 & 0 & 0 & 0 & 0 & 0 & 0 & 0 & 0 & 0 & 0 & 0 & 0 & 0 & 0 & 0 & 0 & 0 & 0 & 0 & 0 & 0 & 0 & 0 & 0 & 0 & 0 & 0 & 0 & 0 & 0 & 0 & 0 & 0 & 0 & 0 & 0 & 0 & 0 & 0 & 0 & 0 & 0 & 0 & 0 & 0 & 0 & 0 & 0 & 0 & 0 & 0 & 0 & 0 & 0 & 0 & 0 & 0 & 0 & 0 & 0 & 0 & 0 & 0 & 0 & 0 & 0 & 0 & 0 & 0 & 0 & 0 & 0 & 0 & 0 & 0 & 0 & 0 & 0 & 0 & 0 & 0 & 0 & 0 & 0 & 0 & 0 & 0 & 0 & 0 & 0 & 0 & 0 & 0 & 0 & 0 & 0 & 0 & 0 & 0 & 0 & 0 & 0 & 0 & 0 & 0 & 0 & 0 & 0 & 0 & 0 & 0 & 0 & 0 & 0 & 0 & 0 & 0 & 0 & 0 & 0 & 1 & 0 & 0 & 0 & 0 & 0 & 0 & 0 & 0 & 0 & 0 & 0 & 0 & 0 & 0 & 0 & 0 & 0 & 0 & 0 & 0 & 0 & 0 & 0 & 0 & 0 & 0 & 0 & 0 & 0 & 0 & 0 & 0 & 0 & 0 & 0 & 0 & 0 & 0 & 0 & 0 & 0 & 0 & 0 & 0 & 0 & 0 & 0 & 0 & 0 & 0 & 0 & 0 & 0 & 0 & 0 & 0 & 0 & 0 & 0 & 0 & 0 & 0 & 0 & 0 & 0 & 0 & 0 & 0 & 0 & 0 & 0 & 0 & 0 & 0 & 0 & 0 & 0 & 0 & 0 & 0 & 0 & 0 & 0 & 0 & 0 & 0 & 0 & 0 & 0 & 0 & 0 & 0 & 0 & 0 & 0 & 0 & 0 & 0 & 0 & 0 & 0 & 0 & 0 & 0 & 0 & 0 & 2 & 0 & 0 & 0 & 1 & 0 & 0 & 0 & 0 & 0 & 0 & 0 & 0 & 0 & 0 & 0 & 0 & 0 & 0 & 0 & 0 & 0 & 0 & 0 & 0 & 0 & 0 & 0 & 0 & 0 & 0 & 0 & 0 & 0 & 0 & 0 & 0 & 0 & 0 & 0 & 0 & 0 & 0 & 0 & 0 & 0 & 0 & 0 & 0 & 0 & 0 & 0 & 0 & 0 & 0 & 0 & 0 & 0 & 0 & 0 & 0 & 0 & 0 & 0 & 0 & 0 & 0 & 0 & 0 & 0 & 0 & 0 & 0 & 0 & 0 & 0 & 0 & 0 & 0 & 0 & 0 & 0 & 0 & 0 & 0 & 0 & 0 & 0 & 0 & 0 & 0 & 0 & 0 & 0 & 0 & 0 & 0 & 0 & 0 & 0 & 0 & 0 & 0 & 0 & 0 & 0 & 0 & 0 & 0 & 0 & 0 & 0 & 0 & 0 & 0 & 0 & 0 & 0 & 0 & 0 & 0 & 0 & 0 & 0 & 0 & 0 & 0 & 0 & 0 & 0 & 0 & 0 & 0 & 0 & 0 & 0 & 0 & 0 & 0 & 0 & 0 & 0 & 0 & 0 & 0 & 0 & 0 & 0 & 0 & 0 & 0 & 0 & 0 & 0 & 0 & 0 & 0 & 0 & 0 & 0 & 0 & 0 & 0 & 0 & 0 & 0 & 0 & 0 & 0 & 0 & 0 & 0 & 0 & 0 & 0 & 0 & 0 & 0 & 0 & 0 & 0 & 0 & 0 & 0 & 0 & 0 & 0 & 0 & 0 & 0 & 0 & 0 & 0 & 0 & 0 & 0 & 0 & 0 & 0 & 0 & 0 & 0 & 0 & 0 & 0 & 0 & 0 & 0 & 0 & 0 & 0 & 0 & 0 & 0 & 0 & 0 & 0 & 0 & 0 & 0 & 0 & 0 & 0 & 0 & 0 & 0 & 0 & 0 & 0 & 0 & 0 & 0 & 0 & 0 & 0 & 0 & 0 & 0 & 0 & 0 & 0 & 0 & 0 & 0 & 0 & 0 & 0 & 0 & 0 & 0 & 0 & 0 & 0 & 0 & 0 & 0 & 0 & 0 & 0 & 0 & 0 & 0 & 0 & 0 & 0 & 0 & 0 & 0 & 0 & 0 & 0 & 0 & 0 & 0 & 0 & 0 & 0 & 0 & 0 & 0 & 0 & 0 & 0 & 0 & 0 & 0 & 0 & 0 & 0 & 0 & 0 & 0 & 0 & 0 & 0 & 0 & 0 & 0 & 0 & 0 & 0 & 0 & 0 & 0 & 0 & 0 & 0 & 0 & 0 & 0 & 0 & 0 & 0 & 0 & 0 & 0 & 0 & 0 & 0 & 0 & 0 & 0 & 0 & 0 & 0 & 0 & 0 & 0 & 0 & 0 & 0 & 0 & 0 & 0 & 0 & 0 & 0 & 0 & 0 & 0 & 0 & 0 & 0 & 0 & 0 & 0 & 0 & 0 & 0 & 0 & 0 & 0 & 0 & 0 & 0 & 0 & 0 & 0 & 0 & 0 & 0 & 0 & 0 & 0 & 0 & 0 & 0 & 0 & 0 & 0 & 0 & 0 & 0 & 0 & 0 & 0 & 0 & 0 & 0 & 0 & 0 & 0 & 0 & 0 & 0 & 0 & 0 & 0 & 0 & 0 & 0 & 0 & 0 & 0 & 0 & 0 & 0 & 0 & 0 & 0 & 0 & 0 & 0 & 0 & 0 & 0 & 0 & 0 & 0 & 0 & 0 & 0 & 0 & 0 & 0 & 0 & 0 & 0 & 0 & 0 & 0 & 0 & 0 & 0 & 0 & 0 & 0 & 0 & 0 & 0 & 0 & 0 & 0 & 0 & 0 & 0 & 0 & 0 & 0 & 0 & 0 & 0 & 0 & 0 & 0 & 0 & 0 & 0 & 0 & 0 & 0 & 0 & 0 & 0 & 0 & 0 & 0 & 0 & 0 & 0 & 0 & 0 & 0 & 0 & 0 & 0 & 0 & 0 & 0 & 0 & 0 & 0 & 0 & 0 & 0 & 0 & 0 & 0 & 0 & 0 & 0 & 0 & 0 & 0 & 0 & 0 & 0 & 0 & 0 & 0 & 0 & 0 & 0 & 0 & 0 & 0 & 0 & 0 & 0 & 0 & 0 & 0 & 0 & 0 & 0 & 0 & 0 & 0 & 0 & 0 & 0 & 0 & 0 & 0 & 0 & 0 & 0 & 0 & 0 & 0 & 0 & 0 & 0 & 0 & 0 & 0 & 0 & 0 & 0 & 0 & 0 & 0 & 0 & 0 & 0 & 0 & 0 & 0 & 0 & 0 & 0 & 0 & 0 & 0 & 0 & 0 & 0 & 0 & 0 & 0 & 0 & 0 & 0 & 0 & 0 & 0 & 0 & 0 & 0 & 0 & 0 & 0 & 0 & 0 & 0 & 0 & 0 & 0 & 0 & 0 & 0 & 0 & 0 & 0 & 0 & 0 & 0 & 0 & 0 & 0 & 0 & 0 & 0 & 0 & 0 & 0 & 0 & 0 & 0 & 0 & 0 & 0 & 0 & 0 & 0 & 0 & 0 & 0 & 0 & 0 & 0 & 0 & 0 & 0 & 0 & 0 & 0 & 0 & 0 & 0 & 0 & 0 & 0 & 0 & 0 & 0 & 0 & 0 & 0 & 0 & 0 & 0 & 0 & 0 & 0 & 0 & 0 & 0 & 0 & 0 & 0 & 0 & 0 & 0 & 0 & 0 & 0 & 0 & 0 & 0 & 0 & 0 & 0 & 0 & 0 & 0 & 0 & 0 & 0 & 0 & 0 & 0 & 0 & 0 & 0 & 0 & 0 & 0 & 0 & 0 & 0 & 0 & 0 & 0 & 0 & 0 & 0 & 0 & 0 & 0 & 0 & 0 & 0 & 0 & 0 & 0 & 0 & 0 & 0 & 0 & 0 & 0 & 0 & 0 & 0 & 0 & 0 & 0 & 0 & 0 & 0 & 0 & 0 & 0 & 0 & 0 & 0 & 0 & 0 & 0 & 0 & 0 & 0 & 0 & 0 & 0 & 0 & 0 & 0 & 0 & 0 & 0 & 0 & 0 & 0 & 0 & 0 & 0 & 0 & 0 & 0 & 0 & 0 & 0 & 0 & 0 & 0 & 0 & 0 & 0 & 0 & 0 & 0 & 0 & 0 & 0 & 0 & 0 & 0 & 0 & 0 & 0 & 0 & 0 & 0 & 0 & 0 & 0 & 0 & 0 & 0 & 0 & 0 & 0 & 0 & 0 & 0 & 0 & 0 & 0 & 0 & 0 & 0 & 0 & 0 & 0 & 0 & 0 & 0 & 0 & 0 & 0 & 0 & 0 & 0 & 0 & 0 & 0 & 0 & 0 & 0 & 0 & 0 & 0 & 0 & 0 & 0 & 0 & 0 & 0 & 0 & 0 & 0 & 0 & 0 & 0 & 0 & 0 & 0 & 0 & 0 & 0 & 0 & 0 & 0 & 0 & 0 & 0 & 0 & 0 & 0 & 0 & 0 & 0 & 0 & 0 & 0 & 0 & 0 & 0 & 0 & 0 & 0 & 0 & 0 & 0 & 0 & 0 & 0 & 0 & 0 & 0 & 0 & 0 & 0 & 0 & 0 & 0 & 0 & 0 & 0 & 0 & 0 & 0 & 0 & 0 & 0 & 0 & 0 & 0 & 0 & 0 & 0 & 0 & 0 & 0 & 0 & 0 & 0 & 0 & 0 & 0 & 0 & 0 & 0 & 0 & 0 & 0 & 0 & 0 & 0 & 0 & 0 & 0 & 0 & 0 & 0 & 0 & 0 & 0 & 0 & 0 & 0 & 0 & 0 & 0 & 0 & 0 & 0 & 0 & 0 & 0 & 0 & 0 & 0 & 0 & 0 & 0 & 0 & 0 & 0 & 0 & 0 & 0 & 0 & 0 & 0 & 0 & 0 & 0 & 0 & 0 & 0 & 0 & 0 & 0 & 0 & 0 & 0 & 0 & 0 & 0 & 0 & 0 & 0 & 0 & 0 & 0 & 0 & 0 & 0 & 0 & 0 & 0 & 0 & 0 & 0 & 0 & 0 & 0 & 0 & 0 & 0 & 0 & 0 & 0 & 0 & 0 & 0 & 0 & 0 & 0 & 0 & 0 & 0 & 0 & 0 & 0 & 0 & 0 & 0 & 0 & 0 & 0 & 0 & 0 & 0 & 0 & 0 & 0 & 0 & 0 & 0 & 0 & 0 & 0 & 0 & 0 & 0 & 0 & 0 & 0 & 0 & 0 & 0 & 0 & 0 & 0 & 0 & 0 & 0 & 0 & 0 & 0 & 0 & 0 & 0 & 0 & 0 & 0 & 0 & 0 & 0 & 0 & 0 & 0 & 0 & 0 & 0 & 0 & 0 & 0 & 0 & 0 & 0 & 0 & 0 & 0 & 0 & 0 & 0 & 0 & 0 & 0 & 0 & 0 & 0 & 0 & 0 & 0 & 0 & 0 & 0 & 0 & 0 & 0 & 0 & 0 & 0 & 0 & 0 & 0 & 0 & 0 & 0 & 0 & 0 & 0 & 0 & 0 & 0 & 0 & 0 & 0 & 0 & 0 & 0 & 0 & 0 & 0 & 0 & 0 & 0 & 0 & 0 & 0 & 0 & 0 & 0 & 0 & 0 & 0 & 0 & 0 & 0 & 0 & 0 & 0 & 0 & 0 & 0 & 0 & 0 & 0 & 0 & 0 & 0 & 0 & 0 & 0 & 0 & 0 & 0 & 0 & 0 & 0 & 0 & 0 & 0 & 0 & 0 & 0 & 0 & 0 & 0 & 0 & 0 & 0 & 0 & 0 & 0 & 0 & 0 & 0 & 0 & 0 & 0 & 0 & 0 & 0 & 0 & 0 & 0 & 0 & 0 & 0 & 0 & 0 & 0 & 0 & 0 & 0 & 0 & 0 & 0 & 0 & 0 & 0 & 0 & 0 & 0 & 0 & 0 & 0 & 0 & 0 & 0 & 0 & 0 & 0 & 0 & 0 & 0 & 0 & 0 & 0 & 0 & 0 & 0 & 0 & 0 & 0 & 0 & 0 & 0 & 0 & 0 & 0 & 0 & 0 & 0 & 0 & 0 & 0 & 0 & 0 & 0 & 0 & 0 & 0 & 0 & 0 & 0 & 0 & 0 & 0 & 0 & 0 & 0 & 0 & 0 & 0 & 0 & 0 & 0 & 0 & 0 & 0 & 0 & 0 & 0 & 0 & 0 & 0 & 0 & 0 & 0 & 0 & 0 & 0 & 0 & 0 & 0 & 0 & 0 & 0 & 0 & 0 & 0 & 0 & 0 & 0 & 0 & 0 & 0 & 0 & 0 & 0 & 0 & 0 & 0 & 0 & 0 & 0 & 0 & 0 & 0 & 0 & 0 & 0 & 0 & 0 & 0 & 0 & 0 & 0 & 0 & 0 & 0 & 0 & 0 & 0 & 0 & 0 & 0 & 0 & 0 & 0 & 0 & 0 & 0 & 0 & 0 & 0 & 0 & 0 & 0 & 0 & 0 & 0 & 0 & 0 & 0 & 0 & 0 & 0 & 0 & 0 & 0 & 0 & 0 & 0 & 0 & 0 & 0 & 0 & 0 & 0 & 0 & 0 & 0 & 0 & 0 & 0 & 0 & 0 & 0 & 0 & 0 & 0 & 0 & 0 & 0 & 0 & 0 & 0 & 0 & 0 & 0 & 0 & 0 & 0 & 0 & 0 & 0 & 0 & 0 & 0 & 0 & 0 & 0 & 0 & 0 & 0 & 0 & 0 & 0 & 0 & 0 & 0 & 0 & 0 & 0 & 0 & 0 & 0 & 0 & 0 & 0 & 0 & 0 & 0 & 0 & 0 & 0 & 0 & 0 & 0 & 0 & 0 & 0 & 0 & 0 & 0 & 0 & 0 & 0 & 0 & 0 & 0 & 0 & 0 & 0 & 0 & 0 & 0 & 0 & 0 & 0 & 0 & 0 & 0 & 0 & 0 & 0 & 0 & 0 & 0 & 0 & 0 & 0 & 0 & 0 & 1 & 0 & 0 & 1 & 0 & 0 & 0 & 0 & 1 & 0 & 1 & 0 & 1 & 0 & 0 & 0 & 0 & 0 & 0 & 0 & 0 & 0 & 0 & 1 & 0 & 1 & 1 & 1 & 0 & 0 & 0 & 0 & 1 & 0 & 0 & 0 & 0 & 0 & 1 & 1 & 0 & 1 & 0 & 0 & 0 & 0 & 0 & 0 & 0 & 0 & 0 & 0 & 0 & 0 & 0 & 0 & 0 & 1 & 0 & 1 & 1 & 0 & 0 & 0 & 0 & 0 & 1 & 0 & 0 & 0 & 0 & 0 & 0 & 0 & 0 & 0 & 0 & 0 & 0 & 0 & 1 & 0 & 1 & 0 & 0 & 0 & 0 & 0 & 0 & 0 & 0 & 1 & 1 & 0 & 0 & 1 & 0 & 1 & 1 & 0 & 0 & 0 & 0 & 0 & 0 & 1 & 0 & 0 & 0 & 0 & 1 & 0 & 0 & 0 & 0 & 0 & 0 & 0 & 0 & 1 & 0 & 0 & 1 & 1 & 1 & 0 & 1 & 0 & 0 & 0 & 0 & 0 & 1 & 0 & 1 & 0 & 0 & 0 & 0 & 0 & 0 & 0 & 0 & 0 & 0 & 0 & 0 & 0 & 0 & 0 & 1 & 1 & 0 & 0 & 0 & 0 & 0 & 0 & 0 & 0 & 0 & 0 & 0 & 0 & 0 & 0 & 0 & 0 & 0 & 0 & 0 & 0 & 0 & 0 & 0 & 0 & 0 & 0 & 1 & 0 & 0 & 0 & 0 & 1 & 0 & 0 & 0 & 0 & 0 & 0 & 1 & 0 & 0 & 0 & 1 & 0 & 0 & 0 & 0 & 0 & 0 & 0 & 0 & 0 & 0 & 0 & 0 & 0 & 0 & 1 & 0 & 0 & 1 & 0 & 0 & 0 & 0 & 0 & 0 & 0 & 0 & 1 & 0 & 0 & 0 & 0 & 0 & 0 & 0 & 0 & 1 & 0 & 0 & 0 & 0 & 0 & 0 & 0 & 0 & 0 & 0 & 0 & 1 & 0 & 0 & 0 & 0 & 0 & 0 & 0 & 0 & 0 & 0 & 0 & 1 & 0 & 1 & 0 & 0 & 0 & 1 & 1 & 0 & 0 & 0 & 0 & 0 & 0 & 0 & 0 & 0 & 0 & 0 & 0 & 0 & 1 & 0 & 1 & 1 & 1 & 1 & 0 & 0 & 1 & 0 & 0 & 0 & 0 & 0 & 0 & 0 & 0 & 0 & 0 & 1 & 0 & 1 & 1 & 1 & 1 & 1 & 1 & 0 & 0 & 0 & 0 & 0 & 0 & 0 & 0 & 0 & 0 & 0 & 0 & 1 & 0 & 0 & 0 & 0 & 1 & 0 & 0 & 0 & 0 & 0 & 0 & 0 & 0 & 0 & 0 & 0 & 0 & 1 & 1 & 0 & 1 & 0 & 1 & 1 & 0 & 0 & 0 & 0 & 0 & 0 & 1 & 0 & 0 & 0 & 0 & 0 & 0 & 0 & 1 & 0 & 0 & 0 & 0 & 0 & 0 & 0 & 0 & 0 & 1 & 1 & 0 & 1 & 0 & 0 & 0 & 0 & 0 & 0 & 0 & 0 & 0 & 0 & 0 & 0 & 0 & 0 & 0 & 0 & 0 & 0 & 0 & 0 & 1 & 1 & 0 & 0 & 0 & 0 & 1 & 0 & 0 & 0 & 0 & 1 & 1 & 1 & 0 & 0 & 0 & 0 & 0 & 1 & 0 & 0 & 0 & 1 & 0 & 0 & 0 & 1 & 1 & 1 & 1 & 1 & 0 & 0 & 0 & 0 & 1 & 1 & 0 & 1 & 0 & 0 & 0 & 1 & 1 & 0 & 1 & 0 & 0 & 0 & 1 & 1 & 1 & 1 & 0 & 0 & 0 & 0 & 0 & 0 & 0 & 0 & 1 & 0 & 0 & 0 & 1 & 1 & 0 & 0 & 0 & 1 & 0 & 0 & 1 & 1 & 0 & 0 & 0 & 0 & 0 & 0 & 0 & 0 & 1 & 1 & 1 & 0 & 0 & 0 & 0 & 1 & 0 & 1 & 0 & 1 & 1 & 1 & 0 & 0 & 1 & 0 & 0 & 0 & 0 & 0 & 0 & 0 & 1 & 1 & 1 & 1 & 0 & 0 & 0 & 0 & 0 & 0 & 0 & 0 & 1 & 1 & 0 & 0 & 0 & 0 & 0 & 0 & 0 & 0 & 0 & 0 & 0 & 0 & 0 & 0 & 0 & 0 & 0 & 0 & 0 & 0 & 0 & 0 & 0 & 0 & 0 & 0 & 0 & 0 & 0 & 0 & 0 & 0 & 0 & 0 & 1 & 0 & 0 & 0 & 0 & 0 & 1 & 1 & 0 & 0 & 0 & 0 & 0 & 0 & 0 & 0 & 0 & 0 & 0 & 0 & 0 & 0 & 0 & 0 & 0 & 0 & 1 & 0 & 0 & 1 & 0 & 0 & 1 & 0 & 1 & 0 & 0 & 0 & 0 & 0 & 1 & 1 & 0 & 1 & 1 & 0 & 0 & 1 & 0 & 1 & 0 & 1 & 0 & 1 & 0 & 0 & 0 & 0 & 1 & 0 & 1 & 0 & 0 & 0 & 0 & 1 & 0 & 0 & 0 & 0 & 0 & 0 & 0 & 0 & 0 & 0 & 0 & 0 & 1 & 0 & 0 & 0 & 0 & 0 & 0 & 0 & 1 & 0 & 0 & 0 & 1 & 0 & 0 & 0 & 0 & 0 & 0 & 0 & 0 & 0 & 0 & 0 & 0 & 0 & 0 & 0 & 0 & 0 & 0 & 0 & 0 & 0 & 1 & 0 & 0 & 1 & 0 & 0 & 1 & 1 & 0 & 0 & 0 & 1 & 0 & 0 & 0 & 0 & 0 & 0 & 1 & 0 & 1 & 0 & 0 & 0 & 0 & 1 & 1 & 1 & 0 & 0 & 0 & 0 & 0 & 0 & 0 & 1 & 1 & 0 & 1 & 0 & 1 & 1 & 1 & 1 & 1 & 0 & 1 & 0 & 0 & 0 & 0 & 0 & 0 & 0 & 1 & 0 & 0 & 0 & 0 & 0 & 0 & 0 & 0 & 1 & 0 & 0 & 1 & 1 & 1 & 0 & 0 & 0 & 0 & 0 & 0 & 0 & 0 & 0 & 0 & 0 & 0 & 0 & 0 & 1 & 1 & 0 & 1 & 1 & 1 & 0 & 0 & 1 & 0 & 1 & 0 & 0 & 0 & 0 & 0 & 0 & 0 & 0 & 0 & 0 & 0 & 0 & 0 & 1 & 0 & 0 & 0 & 0 & 0 & 1 & 0 & 0 & 0 & 1 & 0 & 0 & 0 & 0 & 0 & 0 & 0 & 0 & 0 & 0 & 0 & 1 & 0 & 0 & 1 & 0 & 0 & 0 & 0 & 0 & 0 & 0 & 0 & 0 & 0 & 0 & 0 & 0 & 1 & 0 & 0 & 0 & 0 & 0 & 0 & 0 & 0 & 0 & 0 & 1 & 1 & 0 & 1 & 0 & 0 & 0 & 0 & 0 & 0 & 0 & 0 & 0 & 0 & 0 & 0 & 0 & 0 & 0 & 0 & 0 & 0 & 0 & 1 & 1 & 1 & 0 & 1 & 0 & 1 & 1 & 0 & 1 & 0 & 0 & 1 & 1 & 0 & 1 & 0 & 1 & 1 & 0 & 0 & 0 & 0 & 0 & 0 & 0 & 0 & 0 & 0 & 0 & 0 & 0 & 1 & 0 & 0 & 0 & 1 & 0 & 0 & 1 & 1 & 1 & 0 & 1 & 1 & 1 & 0 & 0 & 1 & 1 & 0 & 1 & 1 & 0 & 1 & 1 & 0 & 1 & 1 & 1 & 0 & 0 & 0 & 0 & 0 & 0 & 0 & 0 & 0 & 0 & 0 & 0 & 0 & 2 & 0 & 0 & 0 & 0 & 0 & 0 & 2 & 0 & 0 & 3 & 0 & 0 & 0 & FL\\\\\n",
       "\\end{tabular}\n"
      ],
      "text/markdown": [
       "\n",
       "A data.frame: 3 × 5639\n",
       "\n",
       "| Assembly &lt;chr&gt; | GC00000071_r1_1 &lt;dbl&gt; | GC00000018_r1_r1_1_p2 &lt;dbl&gt; | GC00000038_r1_1 &lt;dbl&gt; | GC00000024_r1_1 &lt;dbl&gt; | GC00000017_r1_1 &lt;dbl&gt; | GC00000014_r1_r1_r1_1 &lt;dbl&gt; | GC00000012_r1_r1_r1_1 &lt;dbl&gt; | GC00000001_50 &lt;dbl&gt; | GC00000228 &lt;dbl&gt; | ⋯ ⋯ | GC00002853_r1_1 &lt;dbl&gt; | GC00004000 &lt;dbl&gt; | GC00003094_r1_1 &lt;dbl&gt; | GC00002945_r1_1 &lt;dbl&gt; | GC00001642_2 &lt;dbl&gt; | GC00003085 &lt;dbl&gt; | GC00003292 &lt;dbl&gt; | GC00000677_r1_1 &lt;dbl&gt; | GC00002225_r1_1 &lt;dbl&gt; | clade &lt;chr&gt; |\n",
       "|---|---|---|---|---|---|---|---|---|---|---|---|---|---|---|---|---|---|---|---|---|\n",
       "| GCA_000300255 | 3 | 3 | 2 | 2 | 3 | 2 | 4 | 25 | 1 | ⋯ | 0 | 0 | 0 | 0 | 0 | 0 | 0 | 0 | 0 | HA |\n",
       "| GCA_000308215 | 2 | 3 | 3 | 3 | 3 | 6 | 4 | 60 | 1 | ⋯ | 0 | 0 | 0 | 0 | 0 | 0 | 0 | 0 | 0 | FL |\n",
       "| GCA_000404225 | 1 | 2 | 2 | 2 | 3 | 3 | 1 | 32 | 1 | ⋯ | 0 | 0 | 2 | 0 | 0 | 3 | 0 | 0 | 0 | FL |\n",
       "\n"
      ],
      "text/plain": [
       "  Assembly      GC00000071_r1_1 GC00000018_r1_r1_1_p2 GC00000038_r1_1\n",
       "1 GCA_000300255 3               3                     2              \n",
       "2 GCA_000308215 2               3                     3              \n",
       "3 GCA_000404225 1               2                     2              \n",
       "  GC00000024_r1_1 GC00000017_r1_1 GC00000014_r1_r1_r1_1 GC00000012_r1_r1_r1_1\n",
       "1 2               3               2                     4                    \n",
       "2 3               3               6                     4                    \n",
       "3 2               3               3                     1                    \n",
       "  GC00000001_50 GC00000228 ⋯ GC00002853_r1_1 GC00004000 GC00003094_r1_1\n",
       "1 25            1          ⋯ 0               0          0              \n",
       "2 60            1          ⋯ 0               0          0              \n",
       "3 32            1          ⋯ 0               0          2              \n",
       "  GC00002945_r1_1 GC00001642_2 GC00003085 GC00003292 GC00000677_r1_1\n",
       "1 0               0            0          0          0              \n",
       "2 0               0            0          0          0              \n",
       "3 0               0            3          0          0              \n",
       "  GC00002225_r1_1 clade\n",
       "1 0               HA   \n",
       "2 0               FL   \n",
       "3 0               FL   "
      ]
     },
     "metadata": {},
     "output_type": "display_data"
    }
   ],
   "source": [
    "filt_clusters = Annot_clusters %>% \n",
    "    filter(MSA %in% retain_clust) %>%\n",
    "    select(MSA, starts_with(\"GCA\"), \"V11_RL001\") %>%\n",
    "    column_to_rownames(\"MSA\") %>%\n",
    "    t %>%\n",
    "    as.data.frame %>%\n",
    "    rownames_to_column(\"Assembly\") %>%\n",
    "    left_join(., df_Clade, by = \"Assembly\")\n",
    "\n",
    "filt_clusters %>% dfhead"
   ]
  },
  {
   "cell_type": "markdown",
   "metadata": {},
   "source": [
    "## Execute phylogenetic ANOVA by clade"
   ]
  },
  {
   "cell_type": "code",
   "execution_count": 28,
   "metadata": {
    "ExecuteTime": {
     "end_time": "2020-06-29T15:41:00.448152Z",
     "start_time": "2020-06-29T15:36:26.562Z"
    }
   },
   "outputs": [],
   "source": [
    "# Empty result list\n",
    "aov_clust_list = list()\n",
    "summary_list = list()\n",
    "\n",
    "# Create named vector of clades\n",
    "group = factor(filt_clusters$clade)\n",
    "names(group) = filt_clusters$Assembly\n",
    "cluster_IDs = filt_clusters %>% select(starts_with(\"GC\")) %>% colnames()\n",
    "\n",
    "for(ID in cluster_IDs){\n",
    "    ID %>% print\n",
    "    # Create named vector of variable\n",
    "    variable = filt_clusters[, ID]\n",
    "    names(variable) = filt_clusters$Assembly\n",
    "    # Run phylogenetic anova\n",
    "    aov_result = aov.phylo(variable ~ group, phylogenomic_tree, nsim = 1000)\n",
    "    aov_clust_list[[ID]] = aov_result  \n",
    "}\n",
    "\n",
    "\n",
    "plan(multicore, workers=20)\n",
    "clusters_phylaov = future_map_dfr(aov_clust_list, function(x) attributes(x)$summary[1,]) %>% \n",
    "       rename(\"p_phyl\" = \"Pr(>F) given phy\", \"p_val\" = \"Pr(>F)\") %>% \n",
    "       mutate(p_adjust = p.adjust(p_val, method = \"fdr\"),\n",
    "              p_phyl_adjust = p.adjust(p_phyl, method = \"fdr\"),\n",
    "              MSA = cluster_IDs)  \n",
    "                          \n",
    "clusters_phylaov %>% dfhead"
   ]
  },
  {
   "cell_type": "code",
   "execution_count": 213,
   "metadata": {
    "ExecuteTime": {
     "end_time": "2020-07-16T12:14:42.981101Z",
     "start_time": "2020-07-16T12:14:42.864Z"
    }
   },
   "outputs": [
    {
     "data": {
      "text/html": [
       "<table>\n",
       "<caption>A tibble: 554 × 3</caption>\n",
       "<thead>\n",
       "\t<tr><th scope=col>cluster</th><th scope=col>p_val</th><th scope=col>p_adj</th></tr>\n",
       "\t<tr><th scope=col>&lt;chr&gt;</th><th scope=col>&lt;dbl&gt;</th><th scope=col>&lt;dbl&gt;</th></tr>\n",
       "</thead>\n",
       "<tbody>\n",
       "\t<tr><td>GC00000014_r1_r1_r1_1   </td><td>0.004</td><td>0.04488270</td></tr>\n",
       "\t<tr><td>GC00000374              </td><td>0.001</td><td>0.01248673</td></tr>\n",
       "\t<tr><td>GC00000022_r1_r1_1      </td><td>0.001</td><td>0.01248673</td></tr>\n",
       "\t<tr><td>GC00000031_r1_r1_r1_r1_1</td><td>0.007</td><td>0.07329870</td></tr>\n",
       "\t<tr><td>GC00000835              </td><td>0.001</td><td>0.01248673</td></tr>\n",
       "\t<tr><td>GC00000103_r1_1         </td><td>0.001</td><td>0.01248673</td></tr>\n",
       "\t<tr><td>GC00000865              </td><td>0.001</td><td>0.01248673</td></tr>\n",
       "\t<tr><td>GC00000867              </td><td>0.001</td><td>0.01248673</td></tr>\n",
       "\t<tr><td>GC00000866              </td><td>0.001</td><td>0.01248673</td></tr>\n",
       "\t<tr><td>GC00000879              </td><td>0.001</td><td>0.01248673</td></tr>\n",
       "\t<tr><td>GC00000571_r1_3         </td><td>0.005</td><td>0.05447876</td></tr>\n",
       "\t<tr><td>GC00000855_r1_1         </td><td>0.001</td><td>0.01248673</td></tr>\n",
       "\t<tr><td>GC00000741_2            </td><td>0.001</td><td>0.01248673</td></tr>\n",
       "\t<tr><td>GC00000893              </td><td>0.001</td><td>0.01248673</td></tr>\n",
       "\t<tr><td>GC00000868              </td><td>0.004</td><td>0.04488270</td></tr>\n",
       "\t<tr><td>GC00000097_r1_1_p1      </td><td>0.003</td><td>0.03476797</td></tr>\n",
       "\t<tr><td>GC00000873_3            </td><td>0.006</td><td>0.06413636</td></tr>\n",
       "\t<tr><td>GC00000907              </td><td>0.002</td><td>0.02361506</td></tr>\n",
       "\t<tr><td>GC00000906              </td><td>0.004</td><td>0.04488270</td></tr>\n",
       "\t<tr><td>GC00000905              </td><td>0.004</td><td>0.04488270</td></tr>\n",
       "\t<tr><td>GC00000834_r1_1         </td><td>0.008</td><td>0.08300000</td></tr>\n",
       "\t<tr><td>GC00000006_r1_r1_1      </td><td>0.007</td><td>0.07329870</td></tr>\n",
       "\t<tr><td>GC00000189              </td><td>0.002</td><td>0.02361506</td></tr>\n",
       "\t<tr><td>GC00001153_2            </td><td>0.001</td><td>0.01248673</td></tr>\n",
       "\t<tr><td>GC00001134              </td><td>0.009</td><td>0.09168953</td></tr>\n",
       "\t<tr><td>GC00000971_r1_1         </td><td>0.001</td><td>0.01248673</td></tr>\n",
       "\t<tr><td>GC00001229              </td><td>0.001</td><td>0.01248673</td></tr>\n",
       "\t<tr><td>GC00001228              </td><td>0.001</td><td>0.01248673</td></tr>\n",
       "\t<tr><td>GC00001155_r1_1_p2      </td><td>0.001</td><td>0.01248673</td></tr>\n",
       "\t<tr><td>GC00001236              </td><td>0.001</td><td>0.01248673</td></tr>\n",
       "\t<tr><td>⋮</td><td>⋮</td><td>⋮</td></tr>\n",
       "\t<tr><td>GC00002854_r1_1      </td><td>0.001</td><td>0.01248673</td></tr>\n",
       "\t<tr><td>GC00003289           </td><td>0.001</td><td>0.01248673</td></tr>\n",
       "\t<tr><td>GC00003288           </td><td>0.001</td><td>0.01248673</td></tr>\n",
       "\t<tr><td>GC00003285           </td><td>0.001</td><td>0.01248673</td></tr>\n",
       "\t<tr><td>GC00003284           </td><td>0.002</td><td>0.02361506</td></tr>\n",
       "\t<tr><td>GC00003103           </td><td>0.001</td><td>0.01248673</td></tr>\n",
       "\t<tr><td>GC00003041           </td><td>0.001</td><td>0.01248673</td></tr>\n",
       "\t<tr><td>GC00003040           </td><td>0.001</td><td>0.01248673</td></tr>\n",
       "\t<tr><td>GC00003295           </td><td>0.001</td><td>0.01248673</td></tr>\n",
       "\t<tr><td>GC00003296           </td><td>0.001</td><td>0.01248673</td></tr>\n",
       "\t<tr><td>GC00003290           </td><td>0.001</td><td>0.01248673</td></tr>\n",
       "\t<tr><td>GC00003298           </td><td>0.002</td><td>0.02361506</td></tr>\n",
       "\t<tr><td>GC00003299           </td><td>0.001</td><td>0.01248673</td></tr>\n",
       "\t<tr><td>GC00002505_r1_1      </td><td>0.001</td><td>0.01248673</td></tr>\n",
       "\t<tr><td>GC00002850           </td><td>0.001</td><td>0.01248673</td></tr>\n",
       "\t<tr><td>GC00002082_r1_1_p2_p2</td><td>0.001</td><td>0.01248673</td></tr>\n",
       "\t<tr><td>GC00002852           </td><td>0.001</td><td>0.01248673</td></tr>\n",
       "\t<tr><td>GC00002849           </td><td>0.001</td><td>0.01248673</td></tr>\n",
       "\t<tr><td>GC00002844           </td><td>0.001</td><td>0.01248673</td></tr>\n",
       "\t<tr><td>GC00002677           </td><td>0.001</td><td>0.01248673</td></tr>\n",
       "\t<tr><td>GC00002860           </td><td>0.003</td><td>0.03476797</td></tr>\n",
       "\t<tr><td>GC00002589           </td><td>0.001</td><td>0.01248673</td></tr>\n",
       "\t<tr><td>GC00002593           </td><td>0.001</td><td>0.01248673</td></tr>\n",
       "\t<tr><td>GC00002083_r1_r1_1   </td><td>0.001</td><td>0.01248673</td></tr>\n",
       "\t<tr><td>GC00002200_r1_1      </td><td>0.001</td><td>0.01248673</td></tr>\n",
       "\t<tr><td>GC00002339           </td><td>0.001</td><td>0.01248673</td></tr>\n",
       "\t<tr><td>GC00001877_r1_1      </td><td>0.004</td><td>0.04488270</td></tr>\n",
       "\t<tr><td>GC00001751_r1_r1_1   </td><td>0.001</td><td>0.01248673</td></tr>\n",
       "\t<tr><td>GC00001642_r1_1      </td><td>0.001</td><td>0.01248673</td></tr>\n",
       "\t<tr><td>GC00000677_r1_r1_1   </td><td>0.001</td><td>0.01248673</td></tr>\n",
       "</tbody>\n",
       "</table>\n"
      ],
      "text/latex": [
       "A tibble: 554 × 3\n",
       "\\begin{tabular}{r|lll}\n",
       " cluster & p\\_val & p\\_adj\\\\\n",
       " <chr> & <dbl> & <dbl>\\\\\n",
       "\\hline\n",
       "\t GC00000014\\_r1\\_r1\\_r1\\_1    & 0.004 & 0.04488270\\\\\n",
       "\t GC00000374               & 0.001 & 0.01248673\\\\\n",
       "\t GC00000022\\_r1\\_r1\\_1       & 0.001 & 0.01248673\\\\\n",
       "\t GC00000031\\_r1\\_r1\\_r1\\_r1\\_1 & 0.007 & 0.07329870\\\\\n",
       "\t GC00000835               & 0.001 & 0.01248673\\\\\n",
       "\t GC00000103\\_r1\\_1          & 0.001 & 0.01248673\\\\\n",
       "\t GC00000865               & 0.001 & 0.01248673\\\\\n",
       "\t GC00000867               & 0.001 & 0.01248673\\\\\n",
       "\t GC00000866               & 0.001 & 0.01248673\\\\\n",
       "\t GC00000879               & 0.001 & 0.01248673\\\\\n",
       "\t GC00000571\\_r1\\_3          & 0.005 & 0.05447876\\\\\n",
       "\t GC00000855\\_r1\\_1          & 0.001 & 0.01248673\\\\\n",
       "\t GC00000741\\_2             & 0.001 & 0.01248673\\\\\n",
       "\t GC00000893               & 0.001 & 0.01248673\\\\\n",
       "\t GC00000868               & 0.004 & 0.04488270\\\\\n",
       "\t GC00000097\\_r1\\_1\\_p1       & 0.003 & 0.03476797\\\\\n",
       "\t GC00000873\\_3             & 0.006 & 0.06413636\\\\\n",
       "\t GC00000907               & 0.002 & 0.02361506\\\\\n",
       "\t GC00000906               & 0.004 & 0.04488270\\\\\n",
       "\t GC00000905               & 0.004 & 0.04488270\\\\\n",
       "\t GC00000834\\_r1\\_1          & 0.008 & 0.08300000\\\\\n",
       "\t GC00000006\\_r1\\_r1\\_1       & 0.007 & 0.07329870\\\\\n",
       "\t GC00000189               & 0.002 & 0.02361506\\\\\n",
       "\t GC00001153\\_2             & 0.001 & 0.01248673\\\\\n",
       "\t GC00001134               & 0.009 & 0.09168953\\\\\n",
       "\t GC00000971\\_r1\\_1          & 0.001 & 0.01248673\\\\\n",
       "\t GC00001229               & 0.001 & 0.01248673\\\\\n",
       "\t GC00001228               & 0.001 & 0.01248673\\\\\n",
       "\t GC00001155\\_r1\\_1\\_p2       & 0.001 & 0.01248673\\\\\n",
       "\t GC00001236               & 0.001 & 0.01248673\\\\\n",
       "\t ⋮ & ⋮ & ⋮\\\\\n",
       "\t GC00002854\\_r1\\_1       & 0.001 & 0.01248673\\\\\n",
       "\t GC00003289            & 0.001 & 0.01248673\\\\\n",
       "\t GC00003288            & 0.001 & 0.01248673\\\\\n",
       "\t GC00003285            & 0.001 & 0.01248673\\\\\n",
       "\t GC00003284            & 0.002 & 0.02361506\\\\\n",
       "\t GC00003103            & 0.001 & 0.01248673\\\\\n",
       "\t GC00003041            & 0.001 & 0.01248673\\\\\n",
       "\t GC00003040            & 0.001 & 0.01248673\\\\\n",
       "\t GC00003295            & 0.001 & 0.01248673\\\\\n",
       "\t GC00003296            & 0.001 & 0.01248673\\\\\n",
       "\t GC00003290            & 0.001 & 0.01248673\\\\\n",
       "\t GC00003298            & 0.002 & 0.02361506\\\\\n",
       "\t GC00003299            & 0.001 & 0.01248673\\\\\n",
       "\t GC00002505\\_r1\\_1       & 0.001 & 0.01248673\\\\\n",
       "\t GC00002850            & 0.001 & 0.01248673\\\\\n",
       "\t GC00002082\\_r1\\_1\\_p2\\_p2 & 0.001 & 0.01248673\\\\\n",
       "\t GC00002852            & 0.001 & 0.01248673\\\\\n",
       "\t GC00002849            & 0.001 & 0.01248673\\\\\n",
       "\t GC00002844            & 0.001 & 0.01248673\\\\\n",
       "\t GC00002677            & 0.001 & 0.01248673\\\\\n",
       "\t GC00002860            & 0.003 & 0.03476797\\\\\n",
       "\t GC00002589            & 0.001 & 0.01248673\\\\\n",
       "\t GC00002593            & 0.001 & 0.01248673\\\\\n",
       "\t GC00002083\\_r1\\_r1\\_1    & 0.001 & 0.01248673\\\\\n",
       "\t GC00002200\\_r1\\_1       & 0.001 & 0.01248673\\\\\n",
       "\t GC00002339            & 0.001 & 0.01248673\\\\\n",
       "\t GC00001877\\_r1\\_1       & 0.004 & 0.04488270\\\\\n",
       "\t GC00001751\\_r1\\_r1\\_1    & 0.001 & 0.01248673\\\\\n",
       "\t GC00001642\\_r1\\_1       & 0.001 & 0.01248673\\\\\n",
       "\t GC00000677\\_r1\\_r1\\_1    & 0.001 & 0.01248673\\\\\n",
       "\\end{tabular}\n"
      ],
      "text/markdown": [
       "\n",
       "A tibble: 554 × 3\n",
       "\n",
       "| cluster &lt;chr&gt; | p_val &lt;dbl&gt; | p_adj &lt;dbl&gt; |\n",
       "|---|---|---|\n",
       "| GC00000014_r1_r1_r1_1    | 0.004 | 0.04488270 |\n",
       "| GC00000374               | 0.001 | 0.01248673 |\n",
       "| GC00000022_r1_r1_1       | 0.001 | 0.01248673 |\n",
       "| GC00000031_r1_r1_r1_r1_1 | 0.007 | 0.07329870 |\n",
       "| GC00000835               | 0.001 | 0.01248673 |\n",
       "| GC00000103_r1_1          | 0.001 | 0.01248673 |\n",
       "| GC00000865               | 0.001 | 0.01248673 |\n",
       "| GC00000867               | 0.001 | 0.01248673 |\n",
       "| GC00000866               | 0.001 | 0.01248673 |\n",
       "| GC00000879               | 0.001 | 0.01248673 |\n",
       "| GC00000571_r1_3          | 0.005 | 0.05447876 |\n",
       "| GC00000855_r1_1          | 0.001 | 0.01248673 |\n",
       "| GC00000741_2             | 0.001 | 0.01248673 |\n",
       "| GC00000893               | 0.001 | 0.01248673 |\n",
       "| GC00000868               | 0.004 | 0.04488270 |\n",
       "| GC00000097_r1_1_p1       | 0.003 | 0.03476797 |\n",
       "| GC00000873_3             | 0.006 | 0.06413636 |\n",
       "| GC00000907               | 0.002 | 0.02361506 |\n",
       "| GC00000906               | 0.004 | 0.04488270 |\n",
       "| GC00000905               | 0.004 | 0.04488270 |\n",
       "| GC00000834_r1_1          | 0.008 | 0.08300000 |\n",
       "| GC00000006_r1_r1_1       | 0.007 | 0.07329870 |\n",
       "| GC00000189               | 0.002 | 0.02361506 |\n",
       "| GC00001153_2             | 0.001 | 0.01248673 |\n",
       "| GC00001134               | 0.009 | 0.09168953 |\n",
       "| GC00000971_r1_1          | 0.001 | 0.01248673 |\n",
       "| GC00001229               | 0.001 | 0.01248673 |\n",
       "| GC00001228               | 0.001 | 0.01248673 |\n",
       "| GC00001155_r1_1_p2       | 0.001 | 0.01248673 |\n",
       "| GC00001236               | 0.001 | 0.01248673 |\n",
       "| ⋮ | ⋮ | ⋮ |\n",
       "| GC00002854_r1_1       | 0.001 | 0.01248673 |\n",
       "| GC00003289            | 0.001 | 0.01248673 |\n",
       "| GC00003288            | 0.001 | 0.01248673 |\n",
       "| GC00003285            | 0.001 | 0.01248673 |\n",
       "| GC00003284            | 0.002 | 0.02361506 |\n",
       "| GC00003103            | 0.001 | 0.01248673 |\n",
       "| GC00003041            | 0.001 | 0.01248673 |\n",
       "| GC00003040            | 0.001 | 0.01248673 |\n",
       "| GC00003295            | 0.001 | 0.01248673 |\n",
       "| GC00003296            | 0.001 | 0.01248673 |\n",
       "| GC00003290            | 0.001 | 0.01248673 |\n",
       "| GC00003298            | 0.002 | 0.02361506 |\n",
       "| GC00003299            | 0.001 | 0.01248673 |\n",
       "| GC00002505_r1_1       | 0.001 | 0.01248673 |\n",
       "| GC00002850            | 0.001 | 0.01248673 |\n",
       "| GC00002082_r1_1_p2_p2 | 0.001 | 0.01248673 |\n",
       "| GC00002852            | 0.001 | 0.01248673 |\n",
       "| GC00002849            | 0.001 | 0.01248673 |\n",
       "| GC00002844            | 0.001 | 0.01248673 |\n",
       "| GC00002677            | 0.001 | 0.01248673 |\n",
       "| GC00002860            | 0.003 | 0.03476797 |\n",
       "| GC00002589            | 0.001 | 0.01248673 |\n",
       "| GC00002593            | 0.001 | 0.01248673 |\n",
       "| GC00002083_r1_r1_1    | 0.001 | 0.01248673 |\n",
       "| GC00002200_r1_1       | 0.001 | 0.01248673 |\n",
       "| GC00002339            | 0.001 | 0.01248673 |\n",
       "| GC00001877_r1_1       | 0.004 | 0.04488270 |\n",
       "| GC00001751_r1_r1_1    | 0.001 | 0.01248673 |\n",
       "| GC00001642_r1_1       | 0.001 | 0.01248673 |\n",
       "| GC00000677_r1_r1_1    | 0.001 | 0.01248673 |\n",
       "\n"
      ],
      "text/plain": [
       "    cluster                  p_val p_adj     \n",
       "1   GC00000014_r1_r1_r1_1    0.004 0.04488270\n",
       "2   GC00000374               0.001 0.01248673\n",
       "3   GC00000022_r1_r1_1       0.001 0.01248673\n",
       "4   GC00000031_r1_r1_r1_r1_1 0.007 0.07329870\n",
       "5   GC00000835               0.001 0.01248673\n",
       "6   GC00000103_r1_1          0.001 0.01248673\n",
       "7   GC00000865               0.001 0.01248673\n",
       "8   GC00000867               0.001 0.01248673\n",
       "9   GC00000866               0.001 0.01248673\n",
       "10  GC00000879               0.001 0.01248673\n",
       "11  GC00000571_r1_3          0.005 0.05447876\n",
       "12  GC00000855_r1_1          0.001 0.01248673\n",
       "13  GC00000741_2             0.001 0.01248673\n",
       "14  GC00000893               0.001 0.01248673\n",
       "15  GC00000868               0.004 0.04488270\n",
       "16  GC00000097_r1_1_p1       0.003 0.03476797\n",
       "17  GC00000873_3             0.006 0.06413636\n",
       "18  GC00000907               0.002 0.02361506\n",
       "19  GC00000906               0.004 0.04488270\n",
       "20  GC00000905               0.004 0.04488270\n",
       "21  GC00000834_r1_1          0.008 0.08300000\n",
       "22  GC00000006_r1_r1_1       0.007 0.07329870\n",
       "23  GC00000189               0.002 0.02361506\n",
       "24  GC00001153_2             0.001 0.01248673\n",
       "25  GC00001134               0.009 0.09168953\n",
       "26  GC00000971_r1_1          0.001 0.01248673\n",
       "27  GC00001229               0.001 0.01248673\n",
       "28  GC00001228               0.001 0.01248673\n",
       "29  GC00001155_r1_1_p2       0.001 0.01248673\n",
       "30  GC00001236               0.001 0.01248673\n",
       "⋮   ⋮                        ⋮     ⋮         \n",
       "525 GC00002854_r1_1          0.001 0.01248673\n",
       "526 GC00003289               0.001 0.01248673\n",
       "527 GC00003288               0.001 0.01248673\n",
       "528 GC00003285               0.001 0.01248673\n",
       "529 GC00003284               0.002 0.02361506\n",
       "530 GC00003103               0.001 0.01248673\n",
       "531 GC00003041               0.001 0.01248673\n",
       "532 GC00003040               0.001 0.01248673\n",
       "533 GC00003295               0.001 0.01248673\n",
       "534 GC00003296               0.001 0.01248673\n",
       "535 GC00003290               0.001 0.01248673\n",
       "536 GC00003298               0.002 0.02361506\n",
       "537 GC00003299               0.001 0.01248673\n",
       "538 GC00002505_r1_1          0.001 0.01248673\n",
       "539 GC00002850               0.001 0.01248673\n",
       "540 GC00002082_r1_1_p2_p2    0.001 0.01248673\n",
       "541 GC00002852               0.001 0.01248673\n",
       "542 GC00002849               0.001 0.01248673\n",
       "543 GC00002844               0.001 0.01248673\n",
       "544 GC00002677               0.001 0.01248673\n",
       "545 GC00002860               0.003 0.03476797\n",
       "546 GC00002589               0.001 0.01248673\n",
       "547 GC00002593               0.001 0.01248673\n",
       "548 GC00002083_r1_r1_1       0.001 0.01248673\n",
       "549 GC00002200_r1_1          0.001 0.01248673\n",
       "550 GC00002339               0.001 0.01248673\n",
       "551 GC00001877_r1_1          0.004 0.04488270\n",
       "552 GC00001751_r1_r1_1       0.001 0.01248673\n",
       "553 GC00001642_r1_1          0.001 0.01248673\n",
       "554 GC00000677_r1_r1_1       0.001 0.01248673"
      ]
     },
     "metadata": {},
     "output_type": "display_data"
    }
   ],
   "source": [
    "clusters_phylaov %>% filter(p_adj < 0.1) %>% dfhead"
   ]
  },
  {
   "cell_type": "code",
   "execution_count": 363,
   "metadata": {
    "ExecuteTime": {
     "end_time": "2020-07-16T19:10:29.752812Z",
     "start_time": "2020-07-16T19:10:29.446Z"
    }
   },
   "outputs": [
    {
     "ename": "ERROR",
     "evalue": "`by` can't contain join column `MSA` which is missing from LHS",
     "output_type": "error",
     "traceback": [
      "`by` can't contain join column `MSA` which is missing from LHSTraceback:\n",
      "1. left_join(clusters_phylaov, Annot_clusters, by = \"MSA\") %>% filter(p_phyl_adjust < \n .     0.1)",
      "2. eval(lhs, parent, parent)",
      "3. eval(lhs, parent, parent)",
      "4. left_join(clusters_phylaov, Annot_clusters, by = \"MSA\")",
      "5. left_join.tbl_df(clusters_phylaov, Annot_clusters, by = \"MSA\")",
      "6. common_by(by, x, y)",
      "7. common_by.character(by, x, y)",
      "8. common_by.list(by, x, y)",
      "9. bad_args(\"by\", \"can't contain join column {missing} which is missing from LHS\", \n .     missing = fmt_obj(setdiff(by$x, x_vars)))",
      "10. glubort(fmt_args(args), ..., .envir = .envir)",
      "11. .abort(text)"
     ]
    }
   ],
   "source": [
    "significant_clusters = left_join(clusters_phylaov, Annot_clusters, by = \"MSA\") %>% \n",
    "    filter(p_phyl_adjust < 0.1) "
   ]
  },
  {
   "cell_type": "markdown",
   "metadata": {},
   "source": [
    "## Export clusters to run `RANGER-DTL`"
   ]
  },
  {
   "cell_type": "code",
   "execution_count": null,
   "metadata": {
    "ExecuteTime": {
     "start_time": "2020-02-19T15:56:44.876Z"
    },
    "deletable": false,
    "editable": false,
    "run_control": {
     "frozen": true
    }
   },
   "outputs": [],
   "source": [
    "significant_clusters_list = significant_clusters %>% \n",
    "    pull(MSA)\n",
    "\n",
    "# Write to file\n",
    "retained_cluster_file = \"/ebio/abt3_projects/vadinCA11/data/V11/cluster_annot/retained_clusters.txt\"\n",
    "write_lines(significant_clusters_list, retained_cluster_file)"
   ]
  },
  {
   "cell_type": "markdown",
   "metadata": {},
   "source": [
    "## Summary of significant clusters per clade"
   ]
  },
  {
   "cell_type": "code",
   "execution_count": 362,
   "metadata": {
    "ExecuteTime": {
     "end_time": "2020-07-16T19:10:23.499864Z",
     "start_time": "2020-07-16T19:10:23.451Z"
    }
   },
   "outputs": [
    {
     "ename": "ERROR",
     "evalue": "Error in eval(lhs, parent, parent): object 'significant_clusters' not found\n",
     "output_type": "error",
     "traceback": [
      "Error in eval(lhs, parent, parent): object 'significant_clusters' not found\nTraceback:\n",
      "1. significant_clusters %>% select(MSA, V11_RL001, starts_with(\"GCA\")) %>% \n .     column_to_rownames(\"MSA\") %>% t() %>% as.data.frame() %>% \n .     rownames_to_column(\"Assembly\") %>% left_join(., df_Clade, \n .     by = \"Assembly\")",
      "2. eval(lhs, parent, parent)",
      "3. eval(lhs, parent, parent)"
     ]
    }
   ],
   "source": [
    "# Create table with gene cluster abundance\n",
    "sig_clust_t = significant_clusters %>% \n",
    "    select(MSA, V11_RL001, starts_with(\"GCA\")) %>% \n",
    "    column_to_rownames(\"MSA\") %>% \n",
    "    t() %>%\n",
    "    as.data.frame() %>%\n",
    "    rownames_to_column(\"Assembly\") %>%\n",
    "    left_join(., df_Clade, by = \"Assembly\")\n",
    "\n",
    "# Summarize on each clade\n",
    "sig_clust_summary = sig_clust_t %>%\n",
    "    select(-Assembly) %>% \n",
    "    group_by(clade) %>% \n",
    "    summarise_all(function(x) round(mean(x), 3))\n",
    "                  \n",
    "sig_clust_summary"
   ]
  },
  {
   "cell_type": "code",
   "execution_count": null,
   "metadata": {
    "ExecuteTime": {
     "end_time": "2020-06-29T15:41:00.456820Z",
     "start_time": "2020-06-29T15:36:26.578Z"
    }
   },
   "outputs": [],
   "source": [
    "# Add annotation of significant clusters\n",
    "Annot_sig = sig_clust_summary %>%\n",
    "    column_to_rownames(\"clade\") %>% \n",
    "    t() %>%\n",
    "    as.data.frame() %>%\n",
    "    rownames_to_column(\"MSA\") %>%\n",
    "    left_join(., Annot_clusters, by = \"MSA\") %>%\n",
    "    select(-V11_RL001, -starts_with(\"GCA\"))\n",
    "\n",
    "Annot_sig %>% tail"
   ]
  },
  {
   "cell_type": "code",
   "execution_count": null,
   "metadata": {
    "ExecuteTime": {
     "end_time": "2020-06-29T15:41:00.458995Z",
     "start_time": "2020-06-29T15:36:26.580Z"
    }
   },
   "outputs": [],
   "source": [
    "Enrich_HA = Annot_sig %>%\n",
    "    filter(HA > FL) %>% \n",
    "    arrange(-HA)\n",
    "\n",
    "Depleted_HA = Annot_sig %>%\n",
    "    filter((HA == 0) | (HA <= FL) | (HA <= EX)) %>% \n",
    "    arrange(-HA)"
   ]
  },
  {
   "cell_type": "code",
   "execution_count": null,
   "metadata": {
    "ExecuteTime": {
     "end_time": "2020-06-29T15:41:00.461116Z",
     "start_time": "2020-06-29T15:36:26.583Z"
    }
   },
   "outputs": [],
   "source": [
    "Enrich_HA"
   ]
  },
  {
   "cell_type": "code",
   "execution_count": null,
   "metadata": {
    "ExecuteTime": {
     "end_time": "2020-06-29T15:41:00.463269Z",
     "start_time": "2020-06-29T15:36:26.586Z"
    }
   },
   "outputs": [],
   "source": [
    "Depleted_HA"
   ]
  },
  {
   "cell_type": "markdown",
   "metadata": {},
   "source": [
    "# Phylogenetic ANOVA COG categories\n"
   ]
  },
  {
   "cell_type": "code",
   "execution_count": null,
   "metadata": {
    "ExecuteTime": {
     "end_time": "2020-06-29T15:41:00.465422Z",
     "start_time": "2020-06-29T15:36:26.589Z"
    }
   },
   "outputs": [],
   "source": [
    "# Empty result list\n",
    "aov_cog_list = list()\n",
    "summary_list = list()\n",
    "\n",
    "# Create named vector of clades\n",
    "group = factor(cores_COG_relabund$clade)\n",
    "names(group) = cores_COG_relabund$Genome\n",
    "COG_IDs = cores_COG_relabund %>% \n",
    "    select(-Genome, -clade) %>% \n",
    "    colnames()"
   ]
  },
  {
   "cell_type": "code",
   "execution_count": null,
   "metadata": {
    "ExecuteTime": {
     "end_time": "2020-06-29T15:41:00.467525Z",
     "start_time": "2020-06-29T15:36:26.593Z"
    }
   },
   "outputs": [],
   "source": [
    "for(ID in COG_IDs){\n",
    "    ID %>% print\n",
    "    # Create named vector of variable\n",
    "    variable = cores_COG_relabund[, ID]\n",
    "    names(variable) = cores_COG_relabund$Genome\n",
    "    # Run phylogenetic anova\n",
    "    aov_result = aov.phylo(variable ~ group, phylogenomic_tree, nsim = 1000)\n",
    "    aov_cog_list[[ID]] = aov_result  \n",
    "}\n"
   ]
  },
  {
   "cell_type": "code",
   "execution_count": null,
   "metadata": {
    "ExecuteTime": {
     "end_time": "2020-06-29T15:41:00.469677Z",
     "start_time": "2020-06-29T15:36:26.597Z"
    }
   },
   "outputs": [],
   "source": [
    "# Create table with the results and adjust p values\n",
    "COGs_phylaov = map_dfr(aov_cog_list, function(x) attributes(x)$summary[1,]) %>% \n",
    "       rename(\"p_phyl\" = \"Pr(>F) given phy\", \"p_val\" = \"Pr(>F)\") %>% \n",
    "       mutate(p_adjust = p.adjust(p_val, method = \"fdr\"),\n",
    "              p_phyl_adjust = p.adjust(p_phyl, method = \"fdr\"),\n",
    "              COG_1 = COG_IDs)  \n",
    "                          \n",
    "COGs_phylaov %>% dfhead"
   ]
  },
  {
   "cell_type": "code",
   "execution_count": null,
   "metadata": {
    "ExecuteTime": {
     "end_time": "2020-06-29T15:41:00.471859Z",
     "start_time": "2020-06-29T15:36:26.604Z"
    }
   },
   "outputs": [],
   "source": [
    "# Significant COGs\n",
    "Sig_COGs = COGs_phylaov %>%\n",
    "    filter(p_phyl_adjust <= 0.05)\n",
    "\n",
    "Sig_COGs\n",
    "\n",
    "nSig_COGs = COGs_phylaov %>%\n",
    "    filter(p_phyl_adjust > 0.05)\n",
    "\n",
    "nSig_COGs"
   ]
  },
  {
   "cell_type": "code",
   "execution_count": null,
   "metadata": {
    "ExecuteTime": {
     "end_time": "2020-06-29T15:41:00.474060Z",
     "start_time": "2020-06-29T15:36:26.608Z"
    }
   },
   "outputs": [],
   "source": [
    "COG_cores_clade %>%\n",
    "    select(COG_1, Proportion, Clade) %>%\n",
    "    spread(Clade, Proportion) %>%\n",
    "    filter(COG_1 %in% Sig_COGs$COG_1) "
   ]
  },
  {
   "cell_type": "markdown",
   "metadata": {},
   "source": [
    "# Session info"
   ]
  },
  {
   "cell_type": "code",
   "execution_count": null,
   "metadata": {
    "ExecuteTime": {
     "end_time": "2020-06-29T15:41:00.476185Z",
     "start_time": "2020-06-29T15:36:26.612Z"
    }
   },
   "outputs": [],
   "source": [
    "sessionInfo()"
   ]
  },
  {
   "cell_type": "markdown",
   "metadata": {},
   "source": [
    "# Debug"
   ]
  },
  {
   "cell_type": "markdown",
   "metadata": {},
   "source": [
    "## Debug phyloANOVA per enrichment"
   ]
  },
  {
   "cell_type": "code",
   "execution_count": 58,
   "metadata": {
    "ExecuteTime": {
     "end_time": "2020-08-31T10:32:36.902172Z",
     "start_time": "2020-08-31T10:32:36.011Z"
    },
    "scrolled": true
   },
   "outputs": [
    {
     "name": "stdout",
     "output_type": "stream",
     "text": [
      "[1]   72 2937\n"
     ]
    },
    {
     "data": {
      "text/html": [
       "<table>\n",
       "<caption>A data.frame: 3 × 2937</caption>\n",
       "<thead>\n",
       "\t<tr><th scope=col>Assembly</th><th scope=col>GC00000071_r1_1</th><th scope=col>GC00000018_r1_r1_1_p2</th><th scope=col>GC00000038_r1_1</th><th scope=col>GC00000024_r1_1</th><th scope=col>GC00000017_r1_1</th><th scope=col>GC00000014_r1_r1_r1_1</th><th scope=col>GC00000012_r1_r1_r1_1</th><th scope=col>GC00000001_50</th><th scope=col>GC00000228</th><th scope=col>⋯</th><th scope=col>GC00002737</th><th scope=col>GC00002947</th><th scope=col>GC00002946</th><th scope=col>GC00002943</th><th scope=col>GC00002942</th><th scope=col>GC00002941</th><th scope=col>GC00002949</th><th scope=col>GC00002948</th><th scope=col>GC00002169_p2</th><th scope=col>clade</th></tr>\n",
       "\t<tr><th scope=col>&lt;chr&gt;</th><th scope=col>&lt;dbl&gt;</th><th scope=col>&lt;dbl&gt;</th><th scope=col>&lt;dbl&gt;</th><th scope=col>&lt;dbl&gt;</th><th scope=col>&lt;dbl&gt;</th><th scope=col>&lt;dbl&gt;</th><th scope=col>&lt;dbl&gt;</th><th scope=col>&lt;dbl&gt;</th><th scope=col>&lt;dbl&gt;</th><th scope=col>⋯</th><th scope=col>&lt;dbl&gt;</th><th scope=col>&lt;dbl&gt;</th><th scope=col>&lt;dbl&gt;</th><th scope=col>&lt;dbl&gt;</th><th scope=col>&lt;dbl&gt;</th><th scope=col>&lt;dbl&gt;</th><th scope=col>&lt;dbl&gt;</th><th scope=col>&lt;dbl&gt;</th><th scope=col>&lt;dbl&gt;</th><th scope=col>&lt;chr&gt;</th></tr>\n",
       "</thead>\n",
       "<tbody>\n",
       "\t<tr><td>GCA_000300255</td><td>3</td><td>3</td><td>2</td><td>2</td><td>3</td><td>2</td><td>4</td><td>25</td><td>1</td><td>⋯</td><td>0</td><td>0</td><td>0</td><td>0</td><td>0</td><td>0</td><td>0</td><td>0</td><td>0</td><td>HA</td></tr>\n",
       "\t<tr><td>GCA_000308215</td><td>2</td><td>3</td><td>3</td><td>3</td><td>3</td><td>6</td><td>4</td><td>60</td><td>1</td><td>⋯</td><td>0</td><td>0</td><td>0</td><td>0</td><td>0</td><td>0</td><td>0</td><td>0</td><td>0</td><td>FL</td></tr>\n",
       "\t<tr><td>GCA_000404225</td><td>1</td><td>2</td><td>2</td><td>2</td><td>3</td><td>3</td><td>1</td><td>32</td><td>1</td><td>⋯</td><td>0</td><td>0</td><td>0</td><td>0</td><td>0</td><td>0</td><td>0</td><td>0</td><td>0</td><td>FL</td></tr>\n",
       "</tbody>\n",
       "</table>\n"
      ],
      "text/latex": [
       "A data.frame: 3 × 2937\n",
       "\\begin{tabular}{r|lllllllllllllllllllllllllllllllllllllllllllllllllllllllllllllllllllllllllllllllllllllllllllllllllllllllllllllllllllllllllllllllllllllllllllllllllllllllllllllllllllllllllllllllllllllllllllllllllllllllllllllllllllllllllllllllllllllllllllllllllllllllllllllllllllllllllllllllllllllllllllllllllllllllllllllllllllllllllllllllllllllllllllllllllllllllllllllllllllllllllllllllllllllllllllllllllllllllllllllllllllllllllllllllllllllllllllllllllllllllllllllllllllllllllllllllllllllllllllllllllllllllllllllllllllllllllllllllllllllllllllllllllllllllllllllllllllllllllllllllllllllllllllllllllllllllllllllllllllllllllllllllllllllllllllllllllllllllllllllllllllllllllllllllllllllllllllllllllllllllllllllllllllllllllllllllllllllllllllllllllllllllllllllllllllllllllllllllllllllllllllllllllllllllllllllllllllllllllllllllllllllllllllllllllllllllllllllllllllllllllllllllllllllllllllllllllllllllllllllllllllllllllllllllllllllllllllllllllllllllllllllllllllllllllllllllllllllllllllllllllllllllllllllllllllllllllllllllllllllllllllllllllllllllllllllllllllllllllllllllllllllllllllllllllllllllllllllllllllllllllllllllllllllllllllllllllllllllllllllllllllllllllllllllllllllllllllllllllllllllllllllllllllllllllllllllllllllllllllllllllllllllllllllllllllllllllllllllllllllllllllllllllllllllllllllllllllllllllllllllllllllllllllllllllllllllllllllllllllllllllllllllllllllllllllllllllllllllllllllllllllllllllllllllllllllllllllllllllllllllllllllllllllllllllllllllllllllllllllllllllllllllllllllllllllllllllllllllllllllllllllllllllllllllllllllllllllllllllllllllllllllllllllllllllllllllllllllllllllllllllllllllllllllllllllllllllllllllllllllllllllllllllllllllllllllllllllllllllllllllllllllllllllllllllllllllllllllllllllllllllllllllllllllllllllllllllllllllllllllllllllllllllllllllllllllllllllllllllllllllllllllllllllllllllllllllllllllllllllllllllllllllllllllllllllllllllllllllllllllllllllllllllllllllllllllllllllllllllllllllllllllllllllllllllllllllllllllllllllllllllllllllllllllllllllllllllllllllllllllllllllllllllllllllllllllllllllllllllllllllllllllllllllllllllllllllllllllllllllllllllllllllllllllllllllllllllllllllllllllllllllllllllllllllllllllllllllllllllllllllllllllllllllllllllllllllllllllllllllllllllllllllllllllllllllllllllllllllllllllllllllllllllllllllllllllllllllllllllllllllllllllllllllllllllllllllllllllllllllllllllllllllllllllllllllllllllllllllllllllllllllllllllllllllllllllllllllllllllllllllllllllllllllllllllllllllllllllllllllllllllllllllllllllllllllllllllllllllllllllllllllllllllllllllllllllllllllllllllllllllllllllllllllllllllllllllllllllllllllllllllllllllllllllllllllllllllllllllllllllllllllllllllllllllllllllllllllllllllllllllllllllllllllllllllllllllllllllllllllllllllllllllllllllllllllllllllllllllllllllllllllllllllllllllllllllllllllllllllllllllllllllllllllllllllllllllllllllllllllllllllllllllllllllllllllllllllllllllllllllllllllllllllllllllllllllllllllllllllllllllllllllllllllllllllllllllllllllllllllllllllllllllllllllllllllllllllllllllllllllllllllllllllllllllll}\n",
       " Assembly & GC00000071\\_r1\\_1 & GC00000018\\_r1\\_r1\\_1\\_p2 & GC00000038\\_r1\\_1 & GC00000024\\_r1\\_1 & GC00000017\\_r1\\_1 & GC00000014\\_r1\\_r1\\_r1\\_1 & GC00000012\\_r1\\_r1\\_r1\\_1 & GC00000001\\_50 & GC00000228 & GC00000215 & GC00000208\\_r1\\_1 & GC00000183\\_r1\\_1 & GC00000111\\_r1\\_1 & GC00000100\\_3 & GC00000085\\_r1\\_1 & GC00000081\\_r1\\_1 & GC00000043\\_r1\\_1 & GC00000042\\_r1\\_1 & GC00000008\\_10 & GC00000035\\_r1\\_r1\\_1\\_p1 & GC00000217\\_r1\\_1 & GC00000058\\_p2 & GC00000027\\_r1\\_r1\\_r1\\_1\\_p2 & GC00000159 & GC00000033\\_2 & GC00000087\\_r1\\_1 & GC00000088 & GC00000065\\_r1\\_1 & GC00000016\\_r1\\_r1\\_1\\_p2 & GC00000011\\_r1\\_r1\\_1 & GC00000007\\_r1\\_r1\\_1 & GC00000005\\_r1\\_1 & GC00000004\\_r1\\_r1\\_1 & GC00000003\\_6 & GC00000002\\_r1\\_r1\\_r1\\_1 & GC00000239\\_2 & GC00000058\\_p1 & GC00000115\\_r1\\_1\\_p2 & GC00000061\\_r1\\_1\\_p2 & GC00000040\\_r1\\_1\\_p1 & GC00000135\\_r1\\_r1\\_r1\\_1 & GC00000140\\_r1\\_1 & GC00000125\\_r1\\_1 & GC00000124\\_r1\\_1 & GC00000131 & GC00000102\\_r1\\_r1\\_1 & GC00000089\\_2 & GC00000062\\_r1\\_1 & GC00000019\\_r1\\_3 & GC00000015\\_4 & GC00000414\\_r1\\_1 & GC00000479 & GC00000426\\_r1\\_1 & GC00000534 & GC00000470\\_r1\\_1 & GC00000400\\_r1\\_1 & GC00000456\\_r1\\_1 & GC00000441\\_r1\\_1 & GC00000521 & GC00000474\\_r1\\_1 & GC00000516 & GC00000517 & GC00000432\\_r1\\_1 & GC00000070\\_p1 & GC00000406\\_r1\\_1 & GC00000446\\_r1\\_1 & GC00000117\\_p2 & GC00000476\\_r1\\_1 & GC00000365\\_r1\\_1 & GC00000186\\_p2 & GC00000418\\_r1\\_1 & GC00000530 & GC00000531 & GC00000298\\_r1\\_2 & GC00000073\\_p1 & GC00000467\\_2 & GC00000528 & GC00000523 & GC00000520 & GC00000527 & GC00000524 & GC00000178\\_r1\\_1\\_p2 & GC00000525 & GC00000452\\_r1\\_1 & GC00000067\\_r1\\_1\\_p2 & GC00000067\\_r1\\_1\\_p1 & GC00000469\\_r1\\_1 & GC00000181\\_p2 & GC00000537 & GC00000484 & GC00000486 & GC00000487 & GC00000378\\_r1\\_1 & GC00000138\\_r1\\_r1\\_1\\_p2 & GC00000454 & GC00000434 & GC00000431 & GC00000284\\_r1\\_1 & GC00000380\\_r1\\_1 & GC00000372\\_r1\\_1 & GC00000395\\_2 & GC00000276\\_r1\\_1 & GC00000416\\_r1\\_1 & GC00000010\\_7\\_p2\\_p1 & GC00000369\\_r1\\_1 & GC00000465 & GC00000295\\_r1\\_1 & GC00000318\\_r1\\_1 & GC00000402\\_r1\\_1 & GC00000389\\_r1\\_1 & GC00000386\\_r1\\_1 & GC00000294\\_r1\\_1 & GC00000319\\_r1\\_1 & GC00000214\\_r1\\_r1\\_1\\_p2 & GC00000278\\_r1\\_r1\\_1 & GC00000001\\_39 & GC00000398 & GC00000373 & GC00000303\\_r1\\_1 & GC00000252\\_r1\\_r1\\_1 & GC00000290\\_r1\\_1 & GC00000136\\_p2 & GC00000056\\_6\\_p1 & GC00000226\\_r1\\_1 & GC00000337 & GC00000316 & GC00000257\\_r1\\_1 & GC00000231\\_r1\\_1 & GC00000238\\_r1\\_1 & GC00000126\\_r1\\_1 & GC00000161\\_r1\\_1 & GC00000143\\_r1\\_r1\\_r1\\_1 & GC00000034\\_r1\\_r1\\_r1\\_r1\\_1 & GC00000047\\_r1\\_1 & GC00000020\\_r1\\_1 & GC00000009\\_r1\\_r1\\_r1\\_r1\\_1 & GC00000577 & GC00000429\\_r1\\_1 & GC00000346\\_r1\\_1 & GC00000363\\_r1\\_1 & GC00000573 & GC00000576 & GC00000461\\_r1\\_1 & GC00000481\\_r1\\_1 & GC00000464\\_r1\\_1 & GC00000473\\_r1\\_1 & GC00000513\\_r1\\_1 & GC00000504\\_r1\\_1 & GC00000590 & GC00000509\\_r1\\_1 & GC00000555 & GC00000552 & GC00000514\\_r1\\_1 & GC00000381\\_r1\\_1 & GC00000046\\_r1\\_r1\\_1\\_p1 & GC00000591 & GC00000538\\_r1\\_1 & GC00000423\\_3 & GC00000526\\_r1\\_1 & GC00000232\\_p2 & GC00000588 & GC00000583 & GC00000585 & GC00000584 & GC00000586 & GC00000529\\_r1\\_1 & GC00000466\\_r1\\_1 & GC00000503\\_r1\\_1 & GC00000437\\_r1\\_1 & GC00000171\\_r1\\_1\\_p2 & GC00000549 & GC00000547 & GC00000541 & GC00000540 & GC00000542 & GC00000427\\_r1\\_1 & GC00000496 & GC00000490 & GC00000224\\_r1\\_r1\\_r1\\_1\\_p2 & GC00000424\\_r1\\_1 & GC00000347\\_r1\\_1 & GC00000453\\_r1\\_1 & GC00000317\\_r1\\_1 & GC00000383\\_3 & GC00000535 & GC00000533 & GC00000069\\_r1\\_1\\_p1 & GC00000412\\_r1\\_r1\\_1 & GC00000445\\_r1\\_1 & GC00000249\\_r1\\_1 & GC00000360\\_3 & GC00000396\\_3 & GC00000061\\_r1\\_1\\_p1 & GC00000485 & GC00000377\\_3 & GC00000501 & GC00000338\\_r1\\_1 & GC00000438\\_r1\\_1 & GC00000158\\_r1\\_1\\_p2 & GC00000409\\_r1\\_1 & GC00000436 & GC00000331\\_r1\\_1 & GC00000204\\_r1\\_r1\\_r1\\_2 & GC00000370\\_r1\\_1 & GC00000463 & GC00000444 & GC00000443 & GC00000387\\_r1\\_1 & GC00000073\\_p2 & GC00000332\\_r1\\_1 & GC00000417 & GC00000413 & GC00000411 & GC00000388 & GC00000222\\_4 & GC00000026\\_r1\\_r1\\_1\\_p2 & GC00000201\\_r1\\_1 & GC00000029\\_r1\\_r1\\_1\\_p2 & GC00000144\\_8 & GC00000155\\_r1\\_1 & GC00000148 & GC00000120\\_r1\\_1 & GC00000116\\_r1\\_1 & GC00000112\\_r1\\_1 & GC00000023\\_r1\\_r1\\_1 & GC00000512\\_r1\\_1 & GC00000553\\_r1\\_1 & GC00000608 & GC00000609 & GC00000603 & GC00000600 & GC00000606 & GC00000607 & GC00000605 & GC00000494\\_r1\\_1 & GC00000598 & GC00000599 & GC00000455\\_r1\\_1 & GC00000629 & GC00000625 & GC00000626 & GC00000641 & GC00000104\\_r1\\_r1\\_1\\_p2 & GC00000010\\_7\\_p2\\_p2\\_p1 & GC00000311\\_r1\\_r1\\_1 & GC00000505\\_r1\\_1 & GC00000595\\_r1\\_1 & GC00000497\\_r1\\_r1\\_1 & GC00000051\\_8\\_p2 & GC00000493\\_r1\\_r1\\_1 & GC00000021\\_r1\\_r1\\_r1\\_1\\_p1 & GC00000566\\_r1\\_1 & GC00000548\\_r1\\_1 & GC00000433\\_4 & GC00000614 & GC00000616 & GC00000633 & GC00000631 & GC00000630 & GC00000636 & GC00000635 & GC00000638 & GC00000428\\_r1\\_1 & GC00000565 & GC00000480\\_r1\\_1 & GC00000508\\_2 & GC00000442\\_r1\\_1 & GC00000499\\_r1\\_1 & GC00000488\\_r1\\_1 & GC00000439\\_r1\\_1 & GC00000558 & GC00000551 & GC00000511\\_r1\\_1 & GC00000371\\_r1\\_1 & GC00000518\\_r1\\_1 & GC00000327\\_4 & GC00000587 & GC00000500\\_r1\\_1 & GC00000519\\_r1\\_1 & GC00000544 & GC00000543 & GC00000449\\_r1\\_1 & GC00000072\\_r1\\_r1\\_1\\_p2 & GC00000029\\_r1\\_r1\\_1\\_p1 & GC00000401\\_r1\\_1 & GC00000507 & GC00000049\\_r1\\_1\\_p1 & GC00000350\\_r1\\_1 & GC00000297\\_r1\\_1 & GC00000223\\_r1\\_1 & GC00000184\\_2 & GC00000141\\_r1\\_1 & GC00000130\\_4 & GC00000113\\_r1\\_1 & GC00000108\\_r1\\_r1\\_1 & GC00000106\\_5 & GC00000099\\_r1\\_1 & GC00000084\\_r1\\_3 & GC00000064\\_r1\\_r1\\_1 & GC00000037\\_r1\\_r1\\_1 & GC00000044\\_r1\\_r1\\_1 & GC00000036\\_r1\\_1 & GC00000564\\_r1\\_1 & GC00000669 & GC00000617\\_r1\\_1 & GC00000676 & GC00000624\\_r1\\_1 & GC00000649 & GC00000640\\_r1\\_1 & GC00000639\\_r1\\_1 & GC00000561\\_r1\\_1 & GC00000580\\_r1\\_1 & GC00000086\\_r1\\_2 & GC00000472\\_r1\\_1 & GC00000066\\_r1\\_1\\_p2 & GC00000659 & GC00000618\\_r1\\_1 & GC00000451\\_r1\\_r1\\_1 & GC00000483\\_r1\\_1 & GC00000582\\_2 & GC00000592\\_r1\\_1 & GC00000251\\_4 & GC00000557\\_r1\\_1 & GC00000593\\_r1\\_1 & GC00000491\\_2 & GC00000568\\_r1\\_1 & GC00000589\\_r1\\_1 & GC00000578\\_r1\\_1 & GC00000611 & GC00000632 & GC00000546\\_r1\\_1 & GC00000596\\_r1\\_1 & GC00000536\\_r1\\_1 & GC00000489\\_r1\\_1 & GC00000079\\_r1\\_1\\_p2 & GC00000554 & GC00000550 & GC00000502\\_r1\\_1 & GC00000522\\_r1\\_1 & GC00000495\\_2 & GC00000254\\_r1\\_1 & GC00000478 & GC00000397\\_r1\\_1 & GC00000299\\_r1\\_1 & GC00000420 & GC00000356\\_r1\\_1 & GC00000069\\_r1\\_1\\_p2 & GC00000160\\_r1\\_r1\\_1 & GC00000328 & GC00000107\\_r1\\_1\\_p2 & GC00000122\\_r1\\_1 & GC00000180\\_r1\\_1 & GC00000156\\_r1\\_1 & GC00000027\\_r1\\_r1\\_r1\\_1\\_p1 & GC00000133\\_r1\\_1 & GC00000601\\_r1\\_1 & GC00000667\\_r1\\_1 & GC00000644\\_r1\\_1 & GC00000655\\_r1\\_1 & GC00000680 & GC00000091\\_r1\\_1\\_p2 & GC00000672\\_r1\\_1 & GC00000194\\_3 & GC00000692 & GC00000602\\_r1\\_1 & GC00000660\\_r1\\_1 & GC00000068\\_r1\\_1\\_p1 & GC00000075\\_3\\_p1 & GC00000563\\_r1\\_1 & GC00000668\\_r1\\_1 & GC00000658\\_r1\\_1 & GC00000693 & GC00000695 & GC00000674\\_r1\\_1 & GC00000121\\_r1\\_1\\_p2 & GC00000620\\_3 & GC00000670\\_r1\\_1 & GC00000671 & GC00000647 & GC00000666 & GC00000621\\_r1\\_1 & GC00000506\\_r1\\_1 & GC00000559\\_r1\\_1 & GC00000615\\_r1\\_1 & GC00000678 & GC00000562\\_r1\\_1 & GC00000123\\_r1\\_1\\_p2 & GC00000612\\_2 & GC00000579\\_r1\\_1 & GC00000385\\_r1\\_1 & GC00000560\\_r1\\_1 & GC00000390\\_r1\\_1 & GC00000340\\_r1\\_1 & GC00000498\\_r1\\_1 & GC00000046\\_r1\\_r1\\_1\\_p2 & GC00000422\\_r1\\_1 & GC00000242\\_r1\\_r1\\_1 & GC00000287\\_3 & GC00000202\\_r1\\_1 & GC00000196\\_r1\\_1 & GC00000127\\_r1\\_r1\\_r1\\_1 & GC00000173\\_r1\\_1 & GC00000152\\_r1\\_1 & GC00000101\\_r1\\_1 & GC00000080\\_r1\\_r1\\_1 & GC00000090\\_r1\\_r1\\_r1\\_1 & GC00000050\\_6 & GC00000054\\_r1\\_1 & GC00000057\\_r1\\_1 & GC00000022\\_r1\\_r1\\_1 & GC00000650\\_r1\\_1 & GC00000355\\_r1\\_1\\_p2 & GC00000083\\_2 & GC00000686\\_r1\\_1 & GC00000701 & GC00000704 & GC00000708 & GC00000570\\_r1\\_1 & GC00000664\\_r1\\_r1\\_1 & GC00000675\\_r1\\_1 & GC00000569\\_r1\\_r1\\_1 & GC00000689\\_r1\\_1 & GC00000653\\_r1\\_1 & GC00000713 & GC00000714 & GC00000710 & GC00000681 & GC00000687 & GC00000684 & GC00000510\\_r1\\_1 & GC00000086\\_r1\\_1 & GC00000066\\_r1\\_1\\_p1 & GC00000673\\_r1\\_1 & GC00000637\\_3 & GC00000545\\_p2 & GC00000567\\_r1\\_r1\\_1 & GC00000168\\_r1\\_r1\\_1\\_p2 & GC00000645 & GC00000182\\_3 & GC00000440\\_r1\\_r1\\_1 & GC00000642\\_r1\\_1 & GC00000652 & GC00000556\\_r1\\_1 & GC00000051\\_8\\_p1 & GC00000532\\_r1\\_1 & GC00000334\\_r1\\_1 & GC00000149\\_r1\\_1\\_p2 & GC00000092\\_r1\\_1\\_p2\\_p2 & GC00000384\\_r1\\_1 & GC00000220\\_r1\\_1 & GC00000304\\_r1\\_1 & GC00000225\\_r1\\_1 & GC00000197\\_r1\\_1 & GC00000190\\_r1\\_1 & GC00000052\\_r1\\_r1\\_1 & GC00000712\\_r1\\_1 & GC00000711\\_r1\\_1 & GC00000696\\_3 & GC00000646\\_p2 & GC00000079\\_r1\\_1\\_p1 & GC00000725 & GC00000700\\_r1\\_1 & GC00000694\\_r1\\_1 & GC00000726 & GC00000737 & GC00000719 & GC00000717 & GC00000447\\_p2 & GC00000665\\_r1\\_1 & GC00000604\\_r1\\_r1\\_1 & GC00000039\\_r1\\_r1\\_1\\_p2 & GC00000688\\_r1\\_1 & GC00000619\\_r1\\_1 & GC00000661\\_r1\\_1 & GC00000683\\_r1\\_1 & GC00000462\\_r1\\_1 & GC00000021\\_r1\\_r1\\_r1\\_1\\_p2\\_p1 & GC00000041\\_r1\\_1\\_p2\\_p2 & GC00000256\\_r1\\_r1\\_1 & GC00000098\\_4 & GC00000209\\_3 & GC00000253\\_r1\\_1 & GC00000118\\_r1\\_r1\\_r1\\_1\\_p2 & GC00000751 & GC00000732\\_r1\\_1 & GC00000731\\_r1\\_1 & GC00000742 & GC00000103\\_5 & GC00000729\\_r1\\_1 & GC00000697\\_r1\\_r1\\_1 & GC00000691\\_3 & GC00000739 & GC00000699\\_2 & GC00000702\\_r1\\_1 & GC00000703\\_r1\\_1 & GC00000679\\_r1\\_1 & GC00000721 & GC00000722 & GC00000715 & GC00000706\\_r1\\_1 & GC00000705 & GC00000072\\_r1\\_r1\\_1\\_p1 & GC00000657\\_r1\\_1 & GC00000382\\_r1\\_r1\\_1 & GC00000097\\_r1\\_1\\_p2 & GC00000179\\_r1\\_1 & GC00000137\\_r1\\_r1\\_1 & GC00000758 & GC00000759 & GC00000748\\_r1\\_1 & GC00000743\\_r1\\_1 & GC00000718\\_r1\\_1 & GC00000707\\_r1\\_r1\\_1 & GC00000078\\_3\\_p1 & GC00000724\\_r1\\_r1\\_1 & GC00000162\\_r1\\_r1\\_1\\_p2 & GC00000716\\_r1\\_1 & GC00000733\\_r1\\_1 & GC00000110\\_r1\\_r1\\_1\\_p2 & GC00000720\\_r1\\_1 & GC00000169\\_r1\\_r1\\_r1\\_1 & GC00000728 & GC00000727 & GC00000685\\_r1\\_1 & GC00000192\\_r1\\_1 & GC00000150 & GC00000095\\_p1 & GC00000096\\_1 & GC00000738\\_r1\\_1 & GC00000755\\_r1\\_1 & GC00000761 & GC00000746\\_r1\\_1 & GC00000735\\_r1\\_1 & GC00000749\\_r1\\_1 & GC00000095\\_p2 & GC00000723\\_r1\\_1 & GC00000492\\_r1\\_r1\\_1 & GC00000259\\_r1\\_r1\\_1 & GC00000205\\_r1\\_r1\\_1 & GC00000049\\_r1\\_1\\_p2 & GC00000757\\_r1\\_1 & GC00000762\\_r1\\_1 & GC00000752\\_r1\\_1 & GC00000736\\_r1\\_1 & GC00000764\\_r1\\_1 & GC00000770 & GC00000765 & GC00000768 & GC00000575\\_r1\\_r1\\_r1\\_1 & GC00000096\\_2 & GC00000082 & GC00000772\\_2 & GC00000780 & GC00000730\\_5 & GC00000393\\_r1\\_r1\\_r1\\_1 & GC00000779 & GC00000698\\_r1\\_r1\\_1 & GC00000623\\_r1\\_r1\\_1 & GC00000539\\_r1\\_r1\\_1 & GC00000235\\_r1\\_1 & GC00000791 & GC00000153\\_3 & GC00000784\\_r1\\_1 & GC00000756\\_r1\\_1 & GC00000654\\_r1\\_2 & GC00000041\\_r1\\_1\\_p1 & GC00000109\\_r1\\_1\\_p2 & GC00000142\\_r1\\_1\\_p2 & GC00000040\\_r1\\_1\\_p2 & GC00000740\\_r1\\_r1\\_1 & GC00000053\\_r1\\_1\\_p2\\_p2 & GC00000785\\_r1\\_1 & GC00000165\\_r1\\_r1\\_r1\\_1\\_p2 & GC00000769\\_r1\\_r1\\_1 & GC00000778\\_r1\\_1 & GC00000091\\_r1\\_1\\_p1 & GC00000613 & GC00000026\\_r1\\_r1\\_1\\_p1 & GC00000013\\_r1\\_r1\\_r1\\_r1\\_1 & GC00000055\\_r1\\_1\\_p2\\_p2 & GC00000797\\_r1\\_1 & GC00000790\\_r1\\_1 & GC00000798\\_r1\\_1 & GC00000292\\_r1\\_1 & GC00000783\\_r1\\_1 & GC00000775 & GC00000105\\_r1\\_1\\_p2 & GC00000176\\_r1\\_1 & GC00000048\\_r1\\_1 & GC00000039\\_r1\\_1 & GC00000811\\_r1\\_1 & GC00000822 & GC00000824 & GC00000827 & GC00000515\\_r1\\_1 & GC00000823 & GC00000789\\_r1\\_r1\\_r1\\_1 & GC00000809 & GC00000146 & GC00000025\\_r1\\_r1\\_r1\\_1 & GC00000803\\_r1\\_1 & GC00000829 & GC00000774\\_r1\\_r1\\_r1\\_1 & GC00000813\\_r1\\_1 & GC00000745\\_r1\\_r1\\_1 & GC00000399\\_r1\\_1 & GC00000031\\_r1\\_r1\\_r1\\_r1\\_1 & GC00000835 & GC00000781\\_r1\\_r1\\_1 & GC00000838 & GC00000807\\_r1\\_1 & GC00000627\\_r1\\_1\\_p2 & GC00000421\\_r1\\_1 & GC00000690\\_r1\\_r1\\_r1\\_1 & GC00000753\\_r1\\_1 & GC00000848 & GC00000842\\_r1\\_1 & GC00000199\\_r1\\_1\\_p2 & GC00000448\\_r1\\_1 & GC00000796\\_r1\\_r1\\_2 & GC00000174\\_r1\\_r1\\_1\\_p2 & GC00000854 & GC00000828\\_r1\\_1 & GC00000840 & GC00000841 & GC00000030\\_r1\\_r1\\_4 & GC00000830\\_r1\\_1 & GC00000103\\_r1\\_1 & GC00000814\\_r1\\_1 & GC00000109\\_r1\\_1\\_p1 & GC00000806 & GC00000812 & GC00000786 & GC00000648\\_r1\\_1 & GC00000211\\_r1\\_1 & GC00000628\\_r1\\_1 & GC00000175\\_r1\\_1\\_p2 & GC00000865 & GC00000862 & GC00000867 & GC00000094\\_r1\\_1\\_p1 & GC00000866 & GC00000879 & GC00000839\\_r1\\_1 & GC00000877 & GC00000849\\_r1\\_1 & GC00000033\\_1 & GC00000850 & GC00000825\\_r1\\_1 & GC00000571\\_r1\\_3 & GC00000234\\_r1\\_r1\\_1 & GC00000110\\_r1\\_r1\\_1\\_p1 & GC00000810\\_r1\\_1 & GC00000855\\_r1\\_1 & GC00000741\\_2 & GC00000846\\_r1\\_1 & GC00000477\\_r1\\_1\\_p2 & GC00000895 & GC00000893 & GC00000891 & GC00000868 & GC00000097\\_r1\\_1\\_p1 & GC00000878 & GC00000858 & GC00000818\\_r1\\_1 & GC00000808\\_r1\\_r1\\_1 & GC00000213\\_5 & GC00000236\\_r1\\_1 & GC00000074\\_r1\\_r1\\_r1\\_1\\_p2 & GC00000188\\_r1\\_r1\\_1 & GC00000157 & GC00000873\\_3 & GC00000913 & GC00000074\\_r1\\_r1\\_r1\\_1\\_p1 & GC00000897\\_2 & GC00000907 & GC00000906 & GC00000901 & GC00000900 & GC00000651\\_r1\\_r1\\_1 & GC00000905 & GC00000747\\_r1\\_1 & GC00000777\\_r1\\_r1\\_1 & GC00000869\\_r1\\_1 & GC00000864\\_r1\\_1 & GC00000874\\_r1\\_1 & GC00000834\\_r1\\_1 & GC00000892 & GC00000831\\_r1\\_1 & GC00000871\\_r1\\_1 & GC00000821\\_r1\\_r1\\_1 & GC00000837\\_r1\\_1 & GC00000145\\_r1\\_r1\\_1\\_p2 & GC00000820\\_r1\\_1 & GC00000816 & GC00000597\\_r1\\_r1\\_r1\\_1 & GC00000170 & GC00000006\\_r1\\_r1\\_1 & GC00000916 & GC00000908\\_r1\\_1 & GC00000922 & GC00000909\\_r1\\_1 & GC00000872\\_r1\\_1 & GC00000904 & GC00000826\\_r1\\_r1\\_r1\\_1 & GC00000844\\_r1\\_1 & GC00000574\\_r1\\_r1\\_1 & GC00000851 & GC00000744\\_r1\\_r1\\_1 & GC00000572\\_r1\\_1 & GC00000114\\_r1\\_1\\_p2 & GC00000931 & GC00000929 & GC00000910\\_2 & GC00000853\\_r1\\_1 & GC00000241\\_r1\\_r1\\_1 & GC00000889\\_2 & GC00000104\\_r1\\_r1\\_1\\_p1 & GC00000763\\_r1\\_1 & GC00000938 & GC00000939 & GC00000941 & GC00000902\\_r1\\_1 & GC00000128\\_r1\\_1\\_p1 & GC00000923\\_r1\\_1 & GC00000898\\_r1\\_r1\\_1 & GC00000927\\_2 & GC00000917\\_r1\\_1 & GC00000021\\_r1\\_r1\\_r1\\_1\\_p2\\_p2 & GC00000788\\_r1\\_1 & GC00000750 & GC00000195 & GC00000937\\_r1\\_1 & GC00000949 & GC00000951 & GC00000709\\_r1\\_r1\\_1 & GC00000392\\_r1\\_r1\\_1 & GC00000943\\_r1\\_1 & GC00000959 & GC00000940\\_r1\\_1 & GC00000952 & GC00000886\\_r1\\_1 & GC00000154\\_r1\\_r1\\_r1\\_r1\\_1 & GC00000890 & GC00000326\\_r1\\_1 & GC00000045\\_r1\\_r1\\_1 & GC00000177\\_r1\\_1\\_p1 & GC00000968 & GC00000955\\_2 & GC00000177\\_r1\\_1\\_p2 & GC00000960 & GC00000852\\_r1\\_1 & GC00000946 & GC00000792\\_2 & GC00000845\\_r1\\_r1\\_1 & GC00000933\\_r1\\_1 & GC00000903\\_r1\\_1 & GC00000754\\_r1\\_r1\\_1 & GC00000966\\_r1\\_1 & GC00000117\\_p1 & GC00000961\\_r1\\_1 & GC00000914\\_r1\\_1 & GC00000114\\_r1\\_1\\_p1 & GC00000663\\_r1\\_r1\\_r1\\_r1\\_1 & GC00000856\\_r1\\_1\\_p2 & GC00000128\\_r1\\_1\\_p2 & GC00000986 & GC00000988 & GC00000996 & GC00000805\\_r1\\_1\\_p2 & GC00000948\\_r1\\_1 & GC00000804\\_r1\\_2 & GC00000634\\_r1\\_r1\\_r1\\_r1\\_1 & GC00000925\\_r1\\_1 & GC00000581 & GC00000991\\_r1\\_1 & GC00000983\\_r1\\_1 & GC00000984\\_r1\\_1 & GC00000964\\_r1\\_r1\\_1 & GC00001000 & GC00000815\\_r1\\_1 & GC00000092\\_r1\\_1\\_p1 & GC00000998 & GC00000981 & GC00000819\\_r1\\_1 & GC00000954\\_r1\\_1 & GC00000766 & GC00001009\\_r1\\_1 & GC00000997\\_r1\\_1 & GC00000989\\_r1\\_1 & GC00001013 & GC00001007\\_r1\\_1 & GC00000881\\_r1\\_1 & GC00000142\\_r1\\_1\\_p1 & GC00000145\\_r1\\_r1\\_1\\_p1 & GC00000801 & GC00000132\\_r1\\_r1\\_r1\\_r1\\_1 & GC00000134\\_r1\\_1 & GC00001018 & GC00001021 & GC00001010 & GC00000985\\_3 & GC00000977\\_r1\\_r1\\_1 & GC00000993\\_r1\\_1 & GC00001003\\_r1\\_1 & GC00000105\\_r1\\_1\\_p1 & GC00000221\\_r1\\_r1\\_r1\\_r1\\_1 & GC00000887 & GC00000187\\_r1\\_1 & GC00001025 & GC00001029 & GC00000610\\_p2 & GC00000863\\_r1\\_r1\\_1 & GC00001012\\_3 & GC00001023 & GC00001022 & GC00001024 & GC00001019 & GC00000994\\_r1\\_1 & GC00000800\\_r1\\_r1\\_r1\\_1 & GC00000734\\_r1\\_r1\\_1\\_p2 & GC00000928 & GC00000912\\_r1\\_1 & GC00000885\\_r1\\_1 & GC00000882\\_r1\\_1 & GC00000832 & GC00000172\\_r1\\_1 & GC00001042 & GC00001037 & GC00001026\\_2 & GC00001030 & GC00001034 & GC00000782\\_r1\\_r1\\_1 & GC00000198\\_r1\\_r1\\_1 & GC00000847\\_r1\\_1 & GC00000945\\_r1\\_r1\\_1 & GC00000802\\_11 & GC00000219\\_r1\\_r1\\_r1\\_r1\\_r1\\_1 & GC00000077\\_r1\\_r1\\_r1\\_r1\\_1 & GC00000189 & GC00000795\\_4 & GC00001036\\_r1\\_1 & GC00000870\\_r1\\_r1\\_1 & GC00000894\\_r1\\_1 & GC00000876\\_r1\\_r1\\_1 & GC00001053 & GC00001041\\_r1\\_1 & GC00001056 & GC00001035\\_r1\\_1 & GC00001048\\_r1\\_1 & GC00000115\\_r1\\_1\\_p1 & GC00001039 & GC00001027\\_r1\\_1 & GC00000930\\_r1\\_r1\\_1 & GC00001015\\_r1\\_1 & GC00001005\\_r1\\_1 & GC00000817\\_r1\\_r1\\_1 & GC00000911\\_r1\\_1 & GC00001069 & GC00001068 & GC00001064 & GC00000175\\_r1\\_1\\_p1 & GC00001067 & GC00001066 & GC00001061 & GC00001063 & GC00001062 & GC00001051\\_r1\\_1 & GC00000843\\_r1\\_r1\\_1 & GC00000041\\_r1\\_1\\_p2\\_p1 & GC00000880\\_r1\\_r1\\_1 & GC00000962\\_5 & GC00001028\\_r1\\_1 & GC00000935\\_r1\\_1 & GC00001002\\_r1\\_r1\\_1 & GC00000610\\_p1 & GC00001049 & GC00000656\\_r1\\_r1\\_r1\\_1\\_p2 & GC00000119\\_r1\\_1 & GC00000119\\_r1\\_2 & GC00000662\\_r1\\_r1\\_1 & GC00001082 & GC00001086 & GC00001085 & GC00001084 & GC00000924\\_r1\\_1 & GC00000857\\_r1\\_1 & GC00000787\\_r1\\_1\\_p2 & GC00000926\\_r1\\_1 & GC00001074 & GC00001033\\_r1\\_r1\\_1 & GC00001001\\_r1\\_r1\\_r1\\_1 & GC00000107\\_r1\\_1\\_p1 & GC00001040\\_r1\\_1 & GC00000932\\_r1\\_1 & GC00000861\\_7 & GC00000394\\_r1\\_r1\\_1 & GC00000076\\_r1\\_r1\\_r1\\_r1\\_r1\\_r1\\_1 & GC00001054\\_r1\\_1 & GC00000963\\_r1\\_1 & GC00001038\\_4 & GC00001091 & GC00001075\\_r1\\_r1\\_1 & GC00001101 & GC00001072 & GC00001076 & GC00000482\\_r1\\_r1\\_r1\\_1 & GC00001004\\_r1\\_1 & GC00001110 & GC00000972\\_r1\\_1\\_p2 & GC00000836\\_r1\\_r1\\_r1\\_r1\\_1 & GC00001089 & GC00001090 & GC00001093 & GC00001102 & GC00000915\\_r1\\_1 & GC00000799\\_r1\\_1 & GC00000210\\_r1\\_1\\_p2 & GC00000760\\_r1\\_1 & GC00001119 & GC00000920\\_r1\\_1 & GC00000039\\_r1\\_r1\\_1\\_p1 & GC00001113 & GC00001100\\_r1\\_1 & GC00000950\\_r1\\_1 & GC00001120 & GC00001060\\_r1\\_1 & GC00000207\\_r1\\_1\\_p2 & GC00000953 & GC00000833\\_r1\\_1 & GC00000093\\_r1\\_r1\\_r1\\_r1\\_1 & GC00001094\\_r1\\_1 & GC00000957\\_r1\\_1 & GC00000934\\_r1\\_r1\\_1 & GC00001130 & GC00000174\\_r1\\_r1\\_1\\_p1 & GC00001129 & GC00000029\\_3 & GC00000956\\_r1\\_1\\_p2 & GC00000199\\_r1\\_1\\_p1 & GC00001052\\_r1\\_r1\\_1 & GC00000191\\_5 & GC00001111 & GC00001050 & GC00000936\\_r1\\_1 & GC00000888\\_r1\\_1 & GC00000942\\_r1\\_1 & GC00001131 & GC00000787\\_r1\\_1\\_p1 & GC00001141 & GC00001144 & GC00001140 & GC00000999\\_7 & GC00000918\\_r1\\_r1\\_1 & GC00000682\\_r1\\_r1\\_1 & GC00001157 & GC00001152 & GC00000055\\_r1\\_1\\_p2\\_p1 & GC00000975\\_r1\\_r1\\_r1\\_r1\\_1 & GC00000995\\_r1\\_1 & GC00000899\\_r1\\_r1\\_r1\\_1 & GC00000166\\_r1\\_r1\\_1 & GC00000028\\_r1\\_r1\\_1 & GC00000979\\_r1\\_r1\\_1 & GC00000965\\_p2 & GC00001158\\_r1\\_1 & GC00000021\\_r1\\_2 & GC00000990\\_r1\\_r1\\_1 & GC00001151\\_r1\\_1 & GC00001178 & GC00001183 & GC00000138\\_r1\\_r1\\_1\\_p1 & GC00001073\\_r1\\_r1\\_1 & GC00001143\\_r1\\_1 & GC00000210\\_r1\\_1\\_p1 & GC00000976\\_r1\\_1 & GC00000884\\_r1\\_1 & GC00001167\\_r1\\_1 & GC00001193 & GC00000795\\_1 & GC00000026\\_9 & GC00001153\\_2 & GC00001134 & GC00000919\\_r1\\_r1\\_r1\\_r1\\_1 & GC00000203\\_r1\\_r1\\_r1\\_1 & GC00000971\\_r1\\_1 & GC00000032\\_r1\\_r1\\_r1\\_1 & GC00001191\\_r1\\_1 & GC00001229 & GC00001228 & GC00001240 & GC00001155\\_r1\\_1\\_p2 & GC00001236 & GC00001219 & GC00001230 & GC00001232 & GC00000643\\_r1\\_r1\\_1\\_p2 & GC00001186\\_r1\\_1 & GC00000944\\_r1\\_r1\\_r1\\_1\\_p2 & GC00001189\\_r1\\_1 & GC00001150\\_r1\\_1 & GC00001217 & GC00001205\\_r1\\_1 & GC00001200 & GC00001168 & GC00001136\\_r1\\_1 & GC00001117 & GC00000875\\_r1\\_r1\\_r1\\_1 & GC00001014\\_r1\\_1 & GC00000793\\_r1\\_r1\\_r1\\_1 & GC00000921 & GC00000098\\_3 & GC00000776\\_r1\\_1 & GC00000059\\_r1\\_r1\\_1 & GC00001298 & GC00000622\\_r1\\_r1\\_r1\\_1\\_p2 & GC00001195\\_3 & GC00000477\\_r1\\_1\\_p1 & GC00001280 & GC00001288 & GC00001269 & GC00001265 & GC00001264 & GC00001263 & GC00001283 & GC00000153\\_1 & GC00001242\\_r1\\_1 & GC00001182\\_r1\\_1\\_p2 & GC00001273 & GC00001253 & GC00001234\\_r1\\_1 & GC00001259 & GC00001235\\_r1\\_1 & GC00001226\\_2 & GC00001278 & GC00001279 & GC00001255 & GC00001292 & GC00001295 & GC00001270 & GC00001275 & GC00001274 & GC00001208 & GC00001241 & GC00001187\\_2 & GC00001196\\_r1\\_1 & GC00001231 & GC00000023\\_r1\\_1 & GC00001210 & GC00001126\\_r1\\_r1\\_1 & GC00001198 & GC00001154\\_r1\\_r1\\_1 & GC00001114\\_r1\\_1 & GC00001258\\_r1\\_1 & GC00001190\\_r1\\_1 & GC00001304 & GC00001341 & GC00001349 & GC00001238\\_r1\\_r1\\_1 & GC00001328 & GC00001327 & GC00001323 & GC00001017\\_r1\\_r1\\_1 & GC00001199\\_r1\\_1 & GC00001302 & GC00001305 & GC00001256\\_r1\\_1 & GC00001188\\_r1\\_1 & GC00001250\\_r1\\_1 & GC00001225\\_p2 & GC00001213\\_r1\\_1 & GC00001351 & GC00001335 & GC00001334 & GC00001336 & GC00001331 & GC00001330 & GC00000123\\_r1\\_1\\_p1 & GC00001314 & GC00001313 & GC00001310 & GC00000169\\_1 & GC00001106\\_r1\\_1\\_p2 & GC00001245\\_2 & GC00001350 & GC00001355 & GC00001266 & GC00001262 & GC00000978\\_r1\\_1\\_p2 & GC00001148\\_r1\\_1 & GC00001070\\_r1\\_r1\\_r1\\_1 & GC00000158\\_r1\\_1\\_p1 & GC00001011\\_r1\\_1\\_p2 & GC00001177\\_r1\\_1 & GC00001239 & GC00001170\\_r1\\_1 & GC00001116\\_r1\\_r1\\_r1\\_1 & GC00001166\\_r1\\_1 & GC00001135\\_3 & GC00001142\\_r1\\_1 & GC00001125\\_r1\\_1 & GC00001095\\_r1\\_1 & GC00000594\\_r1\\_r1\\_r1\\_1 & GC00001099 & GC00001055 & GC00000992\\_r1\\_1 & GC00000121\\_r1\\_1\\_p1 & GC00000973\\_r1\\_r1\\_1 & GC00000129\\_r1\\_r1\\_r1\\_r1\\_1 & GC00000164\\_r1\\_1 & GC00001407 & GC00001233\\_3 & GC00001297\\_r1\\_2 & GC00001261\\_r1\\_1 & GC00001206\\_r1\\_1 & GC00001291\\_3 & GC00001380 & GC00001381 & GC00001384 & GC00001386 & GC00001097\\_p2 & GC00001362 & GC00001363 & GC00001360 & GC00001367 & GC00001365 & GC00001368 & GC00001308\\_r1\\_1 & GC00001408 & GC00001404 & GC00000771\\_r1\\_r1\\_r1\\_1\\_p2\\_p2 & GC00001303\\_2 & GC00001306\\_r1\\_1 & GC00001398 & GC00001396 & GC00001395 & GC00001373 & GC00001376 & GC00001176\\_r1\\_1\\_p2 & GC00001227\\_r1\\_1 & GC00001282\\_3 & GC00001317\\_r1\\_1 & GC00001220\\_r1\\_r1\\_1 & GC00001343\\_r1\\_1 & GC00000136\\_p1\\_p2 & GC00001081\\_r1\\_1\\_p2 & GC00001104\\_r1\\_1 & GC00001342 & GC00001348 & GC00000165\\_r1\\_r1\\_r1\\_1\\_p1 & GC00001290\\_r1\\_1 & GC00001252\\_r1\\_1 & GC00001337 & GC00001315 & GC00001311 & GC00001318 & GC00001249 & GC00001286 & GC00001065\\_r1\\_r1\\_r1\\_1 & GC00001296 & GC00001237 & GC00001201\\_r1\\_1 & GC00001032\\_r1\\_r1\\_1 & GC00001043 & GC00000207\\_r1\\_1\\_p1 & GC00000958\\_r1\\_1 & GC00001285\\_r1\\_1 & GC00001171\\_r1\\_r1\\_1\\_p2 & GC00001387\\_r1\\_1 & GC00001393\\_r1\\_1 & GC00001172\\_r1\\_1\\_p2\\_p2 & GC00001218\\_p2 & GC00001347\\_r1\\_1 & GC00001468 & GC00001463 & GC00001465 & GC00001464 & GC00001466 & GC00001441 & GC00001449 & GC00001448 & GC00001424 & GC00001421 & GC00001423 & GC00001458 & GC00001370\\_2 & GC00001132\\_r1\\_1 & GC00001379\\_2 & GC00001185\\_r1\\_1 & GC00001319\\_r1\\_1 & GC00001161\\_p2 & GC00001354\\_p2 & GC00001322\\_2 & GC00001169\\_r1\\_1\\_p2 & GC00001333\\_r1\\_1 & GC00001432 & GC00001433 & GC00001209\\_r1\\_1 & GC00001277\\_r1\\_1 & GC00001212\\_r1\\_1 & GC00001248\\_r1\\_1 & GC00000771\\_r1\\_r1\\_r1\\_1\\_p1 & GC00001293\\_r1\\_1 & GC00001107\\_r1\\_r1\\_1\\_p2 & GC00001410\\_r1\\_1 & GC00000019\\_1 & GC00001472 & GC00001470 & GC00001456 & GC00001457 & GC00001450 & GC00001452 & GC00001453 & GC00001436 & GC00001437 & GC00001434 & GC00001435 & GC00001430 & GC00001417 & GC00000092\\_r1\\_1\\_p2\\_p1 & GC00001271\\_r1\\_1 & GC00001309\\_r1\\_1 & GC00000734\\_r1\\_r1\\_1\\_p1 & GC00001307\\_r1\\_1 & GC00001389 & GC00001369 & GC00001294\\_r1\\_1 & GC00001406 & GC00001403 & GC00001401 & GC00000019\\_r1\\_2 & GC00001272\\_r1\\_1 & GC00001405 & GC00000860\\_r1\\_r1\\_1\\_p2 & GC00001391 & GC00001320\\_r1\\_1 & GC00001287\\_r1\\_1 & GC00001411 & GC00001192\\_3 & GC00001133\\_r1\\_r1\\_r1\\_1 & GC00001145\\_r1\\_r1\\_1 & GC00001146 & GC00001080\\_r1\\_1 & GC00001108\\_r1\\_r1\\_1 & GC00001044\\_r1\\_r1\\_r1\\_1 & GC00001047\\_r1\\_r1\\_1 & GC00001083\\_4 & GC00001045\\_r1\\_r1\\_1 & GC00000191\\_r1\\_r1\\_r1\\_1 & GC00000974\\_r1\\_r1\\_1 & GC00000859\\_r1\\_r1\\_1 & GC00000883\\_r1\\_1 & GC00000634\\_r1\\_r1\\_2 & GC00001251\\_4 & GC00000077\\_r1\\_r1\\_r1\\_1 & GC00001490 & GC00001493 & GC00001494 & GC00001499 & GC00001087\\_p2 & GC00001531 & GC00001548 & GC00001543 & GC00001540 & GC00001541 & GC00001547 & GC00001545 & GC00001400\\_r1\\_1 & GC00000037\\_r1\\_1 & GC00001506 & GC00001502 & GC00001503 & GC00001501 & GC00000978\\_r1\\_1\\_p1 & GC00001340\\_3 & GC00001521 & GC00001523 & GC00001525 & GC00001527 & GC00001559 & GC00001558 & GC00001552 & GC00001016\\_3 & GC00001419\\_r1\\_1 & GC00001378\\_r1\\_1 & GC00001413\\_r1\\_1 & GC00000934\\_r1\\_1 & GC00001427\\_r1\\_1 & GC00000643\\_2 & GC00001339\\_r1\\_1\\_p2 & GC00000163\\_1 & GC00001483 & GC00001482 & GC00001480 & GC00001352\\_r1\\_1 & GC00001399\\_p2 & GC00001103\\_3 & GC00001416\\_r1\\_1 & GC00000149\\_1 & GC00001440\\_r1\\_1 & GC00001551 & GC00001550 & GC00001555 & GC00001059\\_r1\\_r1\\_1 & GC00001372\\_r1\\_1 & GC00001515 & GC00001514 & GC00001516 & GC00001511 & GC00001510 & GC00001519 & GC00001535 & GC00001534 & GC00001532 & GC00001530 & GC00001528 & GC00001520 & GC00001526 & GC00001478 & GC00001477 & GC00001414\\_r1\\_1 & GC00001057\\_r1\\_1\\_p2 & GC00001539 & GC00001556 & GC00001557 & GC00000171\\_r1\\_1\\_p1 & GC00001447\\_r1\\_1 & GC00001284\\_r1\\_r1\\_1 & GC00001260\\_r1\\_r1\\_1 & GC00001382\\_r1\\_1 & GC00001469 & GC00001467 & GC00001115\\_r1\\_r1\\_1 & GC00001425 & GC00001426 & GC00001429 & GC00001223\\_r1\\_1 & GC00001324\\_r1\\_1 & GC00001459 & GC00001455 & GC00001431 & GC00001224\\_r1\\_1 & GC00001162\\_r1\\_r1\\_r1\\_1 & GC00001122\\_r1\\_r1\\_1 & GC00000965\\_p1 & GC00001289 & GC00001221 & GC00001079\\_r1\\_r1\\_1 & GC00000013\\_r1\\_3 & GC00001121 & GC00001071\\_r1\\_1 & GC00001006\\_r1\\_r1\\_1 & GC00000980\\_r1\\_1 & GC00001621 & GC00001620 & GC00000162\\_r1\\_1 & GC00000160\\_r1\\_1 & GC00001137\\_r1\\_r1\\_r1\\_1\\_p2 & GC00000035\\_r1\\_r1\\_1\\_p2\\_p1 & GC00000168\\_r1\\_r1\\_1\\_p1 & GC00000022\\_7 & GC00001546\\_r1\\_1 & GC00001267\\_r1\\_1 & GC00001397\\_r1\\_1 & GC00001563 & GC00001332\\_r1\\_1 & GC00001096\\_p2 & GC00000182\\_2 & GC00001175\\_p2 & GC00001589 & GC00001584 & GC00001583 & GC00001568 & GC00001564 & GC00001619 & GC00001615 & GC00001613 & GC00001611 & GC00001513\\_2 & GC00001344\\_r1\\_1 & GC00001392\\_r1\\_1 & GC00001588 & GC00001582 & GC00000656\\_2 & GC00001572 & GC00001571 & GC00001570 & GC00001574 & GC00001246\\_r1\\_r1\\_1 & GC00001418\\_r1\\_r1\\_1 & GC00001444\\_r1\\_1 & GC00000030\\_r1\\_3 & GC00000860\\_r1\\_r1\\_1\\_p1 & GC00001008\\_r1\\_r1\\_1 & GC00001257\\_r1\\_1 & GC00001578 & GC00001164\\_4 & GC00001445\\_r1\\_1 & GC00001394\\_r1\\_1 & GC00001385\\_r1\\_1 & GC00001579 & GC00001057\\_r1\\_1\\_p1 & GC00001016\\_r1\\_r1\\_1 & GC00000203\\_2 & GC00000193\\_r1\\_3 & GC00001599 & GC00001598 & GC00001597 & GC00001596 & GC00001591 & GC00001590 & GC00001592 & GC00001495\\_r1\\_1 & GC00001438\\_r1\\_r1\\_1 & GC00001604 & GC00001606 & GC00001601 & GC00001600 & GC00001602 & GC00001254\\_r1\\_1 & GC00000950\\_1 & GC00001281\\_r1\\_1 & GC00001077\\_r1\\_r1\\_1 & GC00001364\\_r1\\_1 & GC00001497 & GC00001325\\_r1\\_2 & GC00001316\\_r1\\_1 & GC00001338\\_4 & GC00001544 & GC00001549 & GC00001321\\_r1\\_1 & GC00001504 & GC00001500 & GC00001361\\_r1\\_2 & GC00001486 & GC00001485 & GC00001489 & GC00001488 & GC00001326\\_r1\\_r1\\_1 & GC00001554 & GC00001517 & GC00001538 & GC00000118\\_r1\\_r1\\_r1\\_1\\_p1 & GC00001529 & GC00001443\\_r1\\_1 & GC00001553 & GC00001058\\_p2 & GC00001149\\_r1\\_r1\\_1 & GC00001462 & GC00001375\\_r1\\_1 & GC00001471 & GC00001374 & GC00001088\\_r1\\_r1\\_1 & GC00001078\\_r1\\_r1\\_1 & GC00001299 & GC00001020\\_r1\\_1 & GC00001174 & GC00001109\\_r1\\_1 & GC00000969\\_r1\\_r1\\_1 & GC00001098\\_r1\\_1 & GC00000982\\_r1\\_2 & GC00000773\\_r1\\_r1\\_r1\\_1 & GC00000947\\_r1\\_1 & GC00000151\\_r1\\_1 & GC00001627 & GC00001625 & GC00001624 & GC00001628 & GC00000023\\_5 & GC00000894\\_3 & GC00001371\\_r1\\_r1\\_1 & GC00000127\\_r1\\_r1\\_1 & GC00001647 & GC00001697 & GC00001690 & GC00000043\\_2 & GC00001475\\_r1\\_1 & GC00000154\\_r1\\_r1\\_r1\\_1 & GC00001612\\_r1\\_1 & GC00000926\\_2 & GC00000957\\_2 & GC00000515\\_2 & GC00001087\\_p1 & GC00001017\\_3 & GC00001726 & GC00001725 & GC00001718 & GC00001713 & GC00001712 & GC00001711 & GC00001710 & GC00001717 & GC00001714 & GC00000843\\_3 & GC00001657 & GC00000292\\_3 & GC00001696 & GC00001695 & GC00001692 & GC00001691 & GC00001698 & GC00001533\\_r1\\_1 & GC00000037\\_3 & GC00000870\\_1 & GC00001667 & GC00001723 & GC00001180\\_r1\\_1\\_p2 & GC00000594\\_r1\\_2 & GC00001652 & GC00001653 & GC00001654 & GC00001655 & GC00001659 & GC00000044\\_2 & GC00001645 & GC00001674 & GC00001670 & GC00001671 & GC00001672 & GC00001673 & GC00001678 & GC00001679 & GC00001724 & GC00000815\\_1 & GC00000211\\_1 & GC00001390\\_r1\\_1 & GC00000979\\_r1\\_1 & GC00001524\\_r1\\_1 & GC00000048\\_2 & GC00001631 & GC00001632 & GC00001633 & GC00001634 & GC00001637 & GC00001638 & GC00000448\\_5 & GC00001595\\_r1\\_1 & GC00000990\\_r1\\_1 & GC00000030\\_r1\\_r1\\_1 & GC00001567\\_r1\\_1 & GC00000915\\_2 & GC00000019\\_r1\\_1 & GC00001518\\_r1\\_1 & GC00001585\\_r1\\_1 & GC00001668 & GC00000876\\_3 & GC00001460\\_r1\\_r1\\_1 & GC00000153\\_2 & GC00000077\\_r1\\_7 & GC00000594\\_7 & GC00001492\\_r1\\_1 & GC00000880\\_1 & GC00000663\\_3 & GC00001722 & GC00001721 & GC00000421\\_3 & GC00001487\\_r1\\_1 & GC00001704 & GC00001705 & GC00001707 & GC00001700 & GC00001701 & GC00001702 & GC00001703 & GC00001708 & GC00001709 & GC00001498\\_r1\\_r1\\_1 & GC00000054\\_2 & GC00001105\\_r1\\_2 & GC00000574\\_r1\\_1 & GC00000012\\_r1\\_1 & GC00000628\\_1 & GC00001096\\_p1 & GC00000643\\_r1\\_1 & GC00001687 & GC00001686 & GC00001681 & GC00001689 & GC00001688 & GC00001694 & GC00001693 & GC00001699 & GC00001214\\_3 & GC00001641 & GC00001649 & GC00001648 & GC00001630 & GC00001581\\_r1\\_1 & GC00000819\\_1 & GC00000203\\_3 & GC00001669 & GC00001663 & GC00001662 & GC00001660 & GC00001666 & GC00001665 & GC00001664 & GC00001684 & GC00000213\\_4 & GC00000782\\_4 & GC00001346\\_r1\\_1 & GC00001522\\_r1\\_1 & GC00001165\\_r1\\_1 & GC00001216\\_r1\\_r1\\_1 & GC00001569 & GC00001614 & GC00001610 & GC00000040\\_2 & GC00001211\\_r1\\_r1\\_1 & GC00001580 & GC00001573 & GC00001577 & GC00001575 & GC00001276\\_r1\\_1 & GC00001442\\_r1\\_2 & GC00001268\\_r1\\_r1\\_1 & GC00000020\\_4 & GC00001594 & GC00001593 & GC00001609 & GC00001608 & GC00001605 & GC00001607 & GC00001603 & GC00001197\\_r1\\_1 & GC00001439\\_r1\\_1 & GC00001412\\_r1\\_1 & GC00001092\\_r1\\_r1\\_r1\\_1 & GC00001388 & GC00001383 & GC00001353\\_r1\\_1 & GC00001181\\_r1\\_2 & GC00001173\\_r1\\_1 & GC00001139\\_r1\\_1 & GC00000212\\_r1\\_r1\\_r1\\_r1\\_1 & GC00001118 & GC00001031\\_r1\\_1 & GC00000193\\_r1\\_r1\\_r1\\_1 & GC00000767\\_r1\\_r1\\_1 & GC00001646\\_r1\\_1 & GC00001011\\_r1\\_1\\_p1 & GC00001587\\_r1\\_1 & GC00001685\\_2 & GC00001159\\_p2 & GC00000074\\_r1\\_r1\\_1 & GC00001799 & GC00001798 & GC00001643\\_r1\\_1 & GC00000045\\_r1\\_4 & GC00000771\\_r1\\_r1\\_r1\\_1\\_p2\\_p1 & GC00001730 & GC00001737 & GC00000151\\_5 & GC00001124\\_r1\\_1\\_p2 & GC00001474\\_r1\\_1 & GC00000050\\_2 & GC00001778 & GC00001775 & GC00001774 & GC00001771 & GC00001773 & GC00001476\\_r1\\_1 & GC00001757 & GC00001756 & GC00001755 & GC00001753 & GC00001750 & GC00001759 & GC00001758 & GC00001810 & GC00001811 & GC00001812 & GC00000920\\_4 & GC00000046\\_r1\\_1 & GC00001244\\_r1\\_2 & GC00001789 & GC00001787 & GC00000935\\_1 & GC00001676\\_r1\\_1 & GC00001788 & GC00000627\\_r1\\_1\\_p1 & GC00001512\\_r1\\_1 & GC00001784 & GC00001785 & GC00001782 & GC00001783 & GC00000186\\_p1 & GC00001769 & GC00001761 & GC00000651\\_r1\\_1 & GC00001795 & GC00001794 & GC00001792 & GC00001790 & GC00001728 & GC00001729 & GC00001768 & GC00001766 & GC00001762 & GC00001760 & GC00001796 & GC00001138\\_p2 & GC00001743 & GC00001744 & GC00001745 & GC00001746 & GC00001747 & GC00001748 & GC00000076\\_r1\\_r1\\_r1\\_r1\\_r1\\_1 & GC00000013\\_r1\\_5 & GC00001749 & GC00000076\\_r1\\_1 & GC00001496\\_r1\\_1 & GC00001803 & GC00001802 & GC00001801 & GC00001800 & GC00001807 & GC00001806 & GC00001804 & GC00001809 & GC00001808 & GC00000805\\_1 & GC00001791 & GC00000792\\_1 & GC00001797 & GC00001156\\_r1\\_r1\\_1 & GC00000881\\_1 & GC00001491\\_r1\\_1 & GC00001409\\_r1\\_1\\_p2 & GC00000836\\_r1\\_r1\\_r1\\_1 & GC00001716 & GC00000194\\_1 & GC00001656 & GC00001680 & GC00001586\\_r1\\_1 & GC00001639 & GC00000799\\_7 & GC00000847\\_2 & GC00000643\\_r1\\_r1\\_1\\_p1 & GC00000178\\_r1\\_1\\_p1 & GC00000241\\_4 & GC00000064\\_r1\\_1 & GC00000181\\_p1 & GC00001640 & GC00001682 & GC00001222\\_r1\\_r1\\_1 & GC00001366\\_r1\\_r1\\_r1\\_1 & GC00001402\\_r1\\_r1\\_r1\\_1 & GC00001359\\_r1\\_1 & GC00001446\\_1 & GC00001058\\_p1 & GC00001358\\_2 & GC00001473 & GC00001147\\_4 & GC00001204 & GC00001207 & GC00001160 & GC00000794\\_r1\\_r1\\_r1\\_1 & GC00001163\\_r1\\_1\\_p2 & GC00001779\\_2 & GC00000126\\_2 & GC00001715\\_p2 & GC00001855 & GC00000050\\_3 & GC00001565\\_r1\\_2 & GC00000053\\_r1\\_1\\_p2\\_p1 & GC00000051\\_5 & GC00001838 & GC00001839 & GC00001833 & GC00001830 & GC00001831 & GC00001834 & GC00001814 & GC00001815 & GC00001816 & GC00001763\\_2 & GC00001243\\_p2 & GC00001876 & GC00001874 & GC00001872 & GC00001858 & GC00001859 & GC00001853 & GC00001854 & GC00001179\\_r1\\_2 & GC00001851 & GC00001852 & GC00001856 & GC00001857 & GC00000741\\_3 & GC00001843 & GC00000800\\_r1\\_1 & GC00001841 & GC00000009\\_r1\\_8 & GC00000122\\_2 & GC00001846 & GC00001845 & GC00001842 & GC00001560\\_r1\\_r1\\_1 & GC00000972\\_r1\\_1\\_p1 & GC00000185\\_1 & GC00001650\\_2 & GC00001683\\_r1\\_1 & GC00001862 & GC00001138\\_p1 & GC00001828 & GC00001821 & GC00001820 & GC00001822 & GC00001825 & GC00001824 & GC00001827 & GC00001826 & GC00001677\\_r1\\_1 & GC00001865 & GC00001864 & GC00001867 & GC00001866 & GC00001861 & GC00001860 & GC00001863 & GC00001869 & GC00001868 & GC00001848 & GC00001847 & GC00001844 & GC00001840 & GC00000219\\_r1\\_r1\\_r1\\_r1\\_1 & GC00000167\\_3 & GC00001509\\_r1\\_r1\\_r1\\_1 & GC00001536\\_r1\\_1 & GC00001616\\_3 & GC00001786 & GC00001781 & GC00001793 & GC00001765 & GC00001805 & GC00001651 & GC00001675 & GC00001329\\_r1\\_r1\\_1 & GC00001345\\_r1\\_1 & GC00001128\\_r1\\_1 & GC00001046\\_r1\\_r1\\_1 & GC00000987\\_r1\\_r1\\_1 & GC00000139\\_r1\\_1 & GC00000924\\_5 & GC00001215\\_r1\\_1 & GC00000045\\_r1\\_1 & GC00001919 & GC00001918 & GC00001913 & GC00001915 & GC00001914 & GC00001917 & GC00001897 & GC00001932 & GC00001937 & GC00001935 & GC00001934 & GC00001938 & GC00000863\\_2 & GC00001740\\_r1\\_1 & GC00001735\\_r1\\_r1\\_1 & GC00001124\\_r1\\_1\\_p1 & GC00001008\\_r1\\_1 & GC00001097\\_p1 & GC00001301\\_p2 & GC00001020\\_2 & GC00001159\\_p1 & GC00001077\\_r1\\_1 & GC00001894 & GC00000105\\_2 & GC00001461\\_r1\\_r1\\_1\\_p2 & GC00000963\\_3 & GC00001770\\_r1\\_r1\\_1 & GC00001059\\_3 & GC00001908 & GC00001903 & GC00001906 & GC00001904 & GC00001202\\_p1 & GC00001928 & GC00001924 & GC00001926 & GC00001927 & GC00001920 & GC00001921 & GC00001922 & GC00001923 & GC00001764\\_r1\\_r1\\_1 & GC00001720\\_r1\\_1 & GC00000039\\_1 & GC00001946 & GC00001944 & GC00001945 & GC00001943 & GC00001940 & GC00001948 & GC00001078\\_r1\\_1 & GC00000930\\_1 & GC00001733\\_r1\\_1 & GC00001357\\_r1\\_1 & GC00001837\\_r1\\_1 & GC00001776\\_r1\\_1 & GC00001898 & GC00001896 & GC00001780\\_r1\\_1 & GC00001832 & GC00001878 & GC00001623\\_r1\\_r1\\_1 & GC00001850 & GC00000860\\_2 & GC00000857\\_1 & GC00001732 & GC00000147\\_r1\\_1\\_p1 & GC00000093\\_4 & GC00001626\\_r1\\_1 & GC00001719 & GC00001507\\_r1\\_1 & GC00001481\\_r1\\_1 & GC00001247\\_r1\\_1 & GC00001184\\_r1\\_1 & GC00001203\\_r1\\_1 & GC00001194 & GC00001484\\_r1\\_1 & GC00000191\\_6 & GC00000763\\_1 & GC00000136\\_p1\\_p1 & GC00001618\\_r1\\_1 & GC00001953 & GC00001959 & GC00001958 & GC00001976 & GC00001975 & GC00001972 & GC00001971 & GC00001941\\_2 & GC00000034\\_10 & GC00000009\\_18 & GC00001992 & GC00001995 & GC00001997 & GC00001999 & GC00001998 & GC00000008\\_8 & GC00001884\\_r1\\_1 & GC00002008 & GC00002009 & GC00002002 & GC00002006 & GC00002007 & GC00002004 & GC00002005 & GC00001962 & GC00001963 & GC00000009\\_31 & GC00001900\\_r1\\_1 & GC00001629\\_r1\\_2 & GC00001970 & GC00001890\\_r1\\_1 & GC00001929\\_r1\\_1 & GC00001772\\_r1\\_2 & GC00001983 & GC00001989 & GC00001985 & GC00001156\\_r1\\_1 & GC00000123\\_4 & GC00001835\\_r1\\_1 & GC00001969 & GC00001960 & GC00001965 & GC00001966 & GC00001967 & GC00001991 & GC00001990 & GC00001993 & GC00001996 & GC00001986 & GC00001987 & GC00001984 & GC00000969\\_r1\\_1 & GC00001942\\_2 & GC00001767\\_2 & GC00001873\\_p2 & GC00002018 & GC00002015 & GC00002014 & GC00002017 & GC00001451\\_r1\\_1 & GC00001562\\_r1\\_1\\_p2 & GC00001105\\_r1\\_r1\\_1 & GC00001415\\_r1\\_r1\\_3 & GC00001939 & GC00000122\\_3 & GC00001202\\_p2 & GC00001947 & GC00001817\\_2 & GC00001508\\_r1\\_r1\\_1 & GC00001905 & GC00001895 & GC00001875 & GC00001731\\_r1\\_1 & GC00001127\\_r1\\_r1\\_1 & GC00000221\\_r1\\_r1\\_r1\\_1 & GC00000967\\_r1\\_r1\\_r1\\_1 & GC00002055 & GC00002056 & GC00002050 & GC00002053 & GC00002052 & GC00002059 & GC00002058 & GC00001980\\_r1\\_1 & GC00002079 & GC00002078 & GC00002075 & GC00002073 & GC00002072 & GC00002071 & GC00002070 & GC00000622\\_r1\\_r1\\_1 & GC00000025\\_r1\\_r1\\_1 & GC00001888\\_1 & GC00001955\\_r1\\_1 & GC00000856\\_r1\\_1\\_p1 & GC00000053\\_r1\\_1\\_p1\\_p1 & GC00001243\\_p1 & GC00001936\\_r1\\_1 & GC00001301\\_p1 & GC00002029 & GC00002023 & GC00002047 & GC00002044 & GC00002045 & GC00002042 & GC00002040 & GC00001636\\_r1\\_r1\\_1 & GC00002069 & GC00002060 & GC00002061 & GC00002062 & GC00002063 & GC00002064 & GC00002066 & GC00002080 & GC00002081 & GC00002084 & GC00000773\\_r1\\_r1\\_1 & GC00001088\\_1 & GC00001742\\_r1\\_r1\\_1 & GC00001881\\_r1\\_1 & GC00000944\\_r1\\_r1\\_r1\\_1\\_p1 & GC00000234\\_r1\\_1 & GC00001988\\_r1\\_1 & GC00000622\\_r1\\_2 & GC00000198\\_5 & GC00000066\\_3 & GC00002036 & GC00002038 & GC00002000\\_r1\\_1 & GC00000193\\_7 & GC00001977 & GC00001974 & GC00001994 & GC00002001 & GC00001886\\_r1\\_1 & GC00001741\\_r1\\_1 & GC00002011 & GC00002010 & GC00001880 & GC00001879\\_2 & GC00001930 & GC00001949 & GC00001871 & GC00001537\\_r1\\_1 & GC00001561 & GC00002090 & GC00002093 & GC00002092 & GC00002097 & GC00002096 & GC00002099 & GC00001961\\_r1\\_1 & GC00002138 & GC00002139 & GC00002132 & GC00002133 & GC00002131 & GC00002136 & GC00000045\\_r1\\_3 & GC00002118 & GC00002114 & GC00002113 & GC00002151 & GC00002152 & GC00002156 & GC00001925\\_r1\\_1\\_p2 & GC00002027\\_r1\\_1 & GC00002158 & GC00001127\\_r1\\_2 & GC00002022\\_r1\\_1 & GC00002140 & GC00002031\\_r1\\_1 & GC00000172\\_2 & GC00002026\\_2 & GC00001893\\_r1\\_1 & GC00001175\\_p1 & GC00000198\\_r1\\_2 & GC00002048\\_r1\\_1 & GC00002068\\_r1\\_1 & GC00002051\\_r1\\_1 & GC00001738\\_r1\\_1 & GC00001104\\_3 & GC00002089 & GC00002129 & GC00002128 & GC00001727\\_p2 & GC00002101 & GC00002105 & GC00002108 & GC00000074\\_1 & GC00000962\\_4 & GC00002127 & GC00002165 & GC00002164 & GC00002166 & GC00002161 & GC00002160 & GC00002163 & GC00002162 & GC00002148 & GC00002145 & GC00002143 & GC00002142 & GC00001823\\_r1\\_r1\\_1 & GC00000236\\_5 & GC00002154 & GC00000149\\_r1\\_1\\_p1 & GC00001954\\_r1\\_1 & GC00002141 & GC00000135\\_r1\\_r1\\_1 & GC00002003\\_r1\\_1 & GC00002020\\_r1\\_1 & GC00001106\\_r1\\_1\\_p1 & GC00000656\\_r1\\_r1\\_r1\\_1\\_p1 & GC00002077 & GC00002076 & GC00002074 & GC00001428\\_r1\\_r1\\_1 & GC00002028 & GC00002046 & GC00002013\\_r1\\_1 & GC00001952\\_2 & GC00000030\\_r1\\_2 & GC00001706\\_r1\\_r1\\_r1\\_1 & GC00001829\\_r1\\_r1\\_1 & GC00000162\\_r1\\_r1\\_1\\_p1 & GC00000747\\_2 & GC00002037 & GC00001891\\_r1\\_1 & GC00001836\\_r1\\_1 & GC00001887\\_r1\\_1 & GC00001576\\_r1\\_1 & GC00001819\\_r1\\_1 & GC00001658 & GC00001300\\_r1\\_1 & GC00002280 & GC00002281 & GC00002282 & GC00002283 & GC00002284 & GC00001377\\_r1\\_1 & GC00001892\\_r1\\_r1\\_1 & GC00002174 & GC00002175 & GC00002179 & GC00002121\\_r1\\_1 & GC00002202 & GC00002197 & GC00002192 & GC00002193 & GC00002270 & GC00002275 & GC00002277 & GC00000232\\_p1 & GC00002150\\_2 & GC00002252 & GC00002251 & GC00002250 & GC00002258 & GC00002107\\_r1\\_1 & GC00002211 & GC00002235 & GC00002234 & GC00002231 & GC00002218 & GC00002215 & GC00002213 & GC00000187\\_1 & GC00001982\\_r1\\_r1\\_1 & GC00001950\\_r1\\_r1\\_1 & GC00000119\\_2 & GC00002157\\_r1\\_1 & GC00001161\\_p1 & GC00002253 & GC00000154\\_r1\\_r1\\_2 & GC00002262 & GC00002263 & GC00002261 & GC00002266 & GC00002267 & GC00002264 & GC00000057\\_4 & GC00001163\\_r1\\_1\\_p1 & GC00000032\\_r1\\_2 & GC00002159\\_r1\\_1 & GC00002181 & GC00002273 & GC00002276 & GC00002147\\_r1\\_1 & GC00002189 & GC00002188 & GC00002183 & GC00002185 & GC00002088\\_r1\\_1 & GC00002248 & GC00002244 & GC00002246 & GC00002247 & GC00002240 & GC00002241 & GC00002242 & GC00000210\\_3 & GC00002117\\_2 & GC00002245 & GC00002221 & GC00002034\\_r1\\_1 & GC00001377\\_5 & GC00002249 & GC00002257 & GC00002256 & GC00002255 & GC00001081\\_r1\\_1\\_p1 & GC00002269 & GC00000690\\_r1\\_r1\\_1 & GC00002110\\_r1\\_1 & GC00002135 & GC00002155 & GC00001957\\_r1\\_1 & GC00000013\\_15 & GC00001180\\_r1\\_1\\_p1 & GC00002067\\_r1\\_1 & GC00002087 & GC00002126 & GC00002102 & GC00002167 & GC00002033\\_r1\\_1 & GC00000857\\_2 & GC00001899\\_r1\\_r1\\_1 & GC00001882\\_r1\\_r1\\_1 & GC00000129\\_13 & GC00002012 & GC00002016 & GC00001910 & GC00001420\\_r1\\_r1\\_1 & GC00001112\\_r1\\_r1\\_r1\\_1 & GC00002286 & GC00002287 & GC00002288 & GC00001931\\_3 & GC00000107\\_4 & GC00000896\\_r1\\_r1\\_2 & GC00000622\\_r1\\_r1\\_r1\\_1\\_p1 & GC00001132\\_3 & GC00000193\\_4 & GC00000017\\_6 & GC00002302 & GC00002305 & GC00002304 & GC00002307 & GC00002309 & GC00000010\\_4 & GC00002323 & GC00002320 & GC00002326 & GC00002325 & GC00002324 & GC00002371 & GC00002375 & GC00002144\\_r1\\_2 & GC00002194\\_r1\\_1 & GC00002349 & GC00002348 & GC00002345 & GC00002347 & GC00002346 & GC00002341 & GC00002343 & GC00001107\\_1 & GC00000447\\_p1 & GC00002403 & GC00002149\\_r1\\_2 & GC00002367 & GC00002363 & GC00002362 & GC00002361 & GC00002360 & GC00002368 & GC00000132\\_12 & GC00002366 & GC00002365 & GC00000355\\_r1\\_1\\_p1 & GC00001727\\_p1 & GC00001215\\_5 & GC00000077\\_14 & GC00001635\\_r1\\_r1\\_1 & GC00001505\\_r1\\_r1\\_2 & GC00002408 & GC00002406 & GC00002407 & GC00002404 & GC00002405 & GC00002402 & GC00000919\\_r1\\_r1\\_r1\\_1 & GC00002400 & GC00002401 & GC00000120\\_1 & GC00002035\\_4 & GC00002196\\_r1\\_1 & GC00002153\\_r1\\_1 & GC00002399 & GC00002391 & GC00002394 & GC00002395 & GC00000077\\_9 & GC00002065\\_p2 & GC00001968\\_r1\\_1 & GC00002393 & GC00002137\\_r1\\_r1\\_1 & GC00000052\\_4 & GC00002274\\_r1\\_1 & GC00002294 & GC00002291 & GC00002290 & GC00002299 & GC00002296 & GC00002095\\_2 & GC00002313 & GC00002310 & GC00002311 & GC00002314 & GC00002318 & GC00002383 & GC00002134\\_r1\\_1 & GC00002382 & GC00002335 & GC00002336 & GC00002337 & GC00002385 & GC00002359 & GC00002356 & GC00002355 & GC00002350 & GC00002351 & GC00002392 & GC00002390 & GC00002396 & GC00002397 & GC00002190\\_r1\\_1 & GC00002370 & GC00002373 & GC00002374 & GC00002376 & GC00002378 & GC00002379 & GC00001179\\_r1\\_1 & GC00000080\\_9 & GC00002272\\_2 & GC00002232\\_r1\\_1 & GC00002380 & GC00002387 & GC00002120\\_r1\\_1 & GC00002116\\_r1\\_r1\\_1 & GC00000045\\_4 & GC00002418 & GC00002415 & GC00002416 & GC00002411 & GC00002413 & GC00001907\\_p2 & GC00000393\\_r1\\_1 & GC00000734\\_2 & GC00002030\\_r1\\_2 & GC00000944\\_r1\\_r1\\_1 & GC00002389 & GC00002388 & GC00002381 & GC00002384 & GC00002386 & GC00000001\\_43 & GC00002019\\_r1\\_2 & GC00000044\\_3 & GC00000125\\_1 & GC00002285 & GC00002115\\_2 & GC00002176 & GC00002201 & GC00002206 & GC00002191 & GC00002279 & GC00002217 & GC00002230 & GC00002233 & GC00002024\\_r1\\_1 & GC00001661\\_r1\\_1\\_p2 & GC00000259\\_2 & GC00000006\\_r1\\_1 & GC00000139\\_3 & GC00002182 & GC00002054\\_r1\\_1 & GC00002184 & GC00002100\\_r1\\_1 & GC00002041\\_3 & GC00000482\\_r1\\_5\\_p2 & GC00002229 & GC00002091 & GC00000884\\_2 & GC00002130 & GC00002170 & GC00001956\\_r1\\_1 & GC00001978\\_r1\\_1 & GC00002123 & GC00002125 & GC00000139\\_4 & GC00002021 & GC00001964 & GC00001736\\_r1\\_1 & GC00002538 & GC00002539 & GC00002536 & GC00002537 & GC00002534 & GC00002535 & GC00002532 & GC00002533 & GC00002531 & GC00000209\\_1 & GC00002510 & GC00002511 & GC00002514 & GC00002515 & GC00002516 & GC00002517 & GC00002518 & GC00002338\\_r1\\_1 & GC00002582 & GC00002530 & GC00000003\\_2 & GC00001103\\_r1\\_1 & GC00001870\\_5 & GC00000147\\_3 & GC00002483 & GC00000817\\_r1\\_2 & GC00002488 & GC00002622 & GC00002623 & GC00002620 & GC00002621 & GC00002626 & GC00002624 & GC00002425 & GC00002426 & GC00002608 & GC00002604 & GC00002605 & GC00002606 & GC00002607 & GC00002600 & GC00002601 & GC00002603 & GC00000804\\_r1\\_1 & GC00002443 & GC00002441 & GC00002444 & GC00002445 & GC00002448 & GC00002452 & GC00002455 & GC00002334\\_r1\\_1 & GC00000251\\_3 & GC00002464 & GC00002465 & GC00002466 & GC00002460 & GC00002462 & GC00002463 & GC00002468 & GC00002469 & GC00002573 & GC00002570 & GC00001813\\_1 & GC00002551 & GC00000776\\_1 & GC00002364\\_r1\\_1 & GC00002301\\_2 & GC00002595 & GC00002344\\_r1\\_1 & GC00002423 & GC00002424 & GC00002427 & GC00002428 & GC00000206\\_r1\\_r1\\_1\\_p1 & GC00000154\\_r1\\_3 & GC00002588 & GC00002587 & GC00002586 & GC00002585 & GC00002580 & GC00001422\\_r1\\_5 & GC00002377\\_2 & GC00002596 & GC00001912\\_r1\\_r1\\_1 & GC00002563 & GC00002562 & GC00002565 & GC00002564 & GC00002567 & GC00002566 & GC00002569 & GC00002568 & GC00002575 & GC00002119\\_r1\\_r1\\_1 & GC00002549 & GC00002543 & GC00002542 & GC00002541 & GC00002540 & GC00002547 & GC00002546 & GC00002545 & GC00000648\\_1 & GC00002236\\_r1\\_r1\\_1 & GC00002353\\_r1\\_1 & GC00002529 & GC00002528 & GC00002525 & GC00002524 & GC00002527 & GC00002521 & GC00002520 & GC00002523 & GC00001813\\_r1\\_1 & GC00000656\\_r1\\_1 & GC00001661\\_r1\\_1\\_p1 & GC00002584 & GC00002507 & GC00002506 & GC00002504 & GC00002502 & GC00002501 & GC00002500 & GC00002509 & GC00002254\\_r1\\_2 & GC00002590 & GC00002332\\_r1\\_1 & GC00002597 & GC00000077\\_r1\\_5 & GC00002572 & GC00002571 & GC00002577 & GC00002574 & GC00001169\\_r1\\_1\\_p1 & GC00002508 & GC00000622\\_9 & GC00002450 & GC00002453 & GC00002495 & GC00002494 & GC00002497 & GC00002499 & GC00000833\\_2 & GC00002613 & GC00002612 & GC00002611 & GC00002610 & GC00002617 & GC00002615 & GC00002619 & GC00002618 & GC00000999\\_3 & GC00002025\\_r1\\_1 & GC00002561 & GC00002560 & GC00002479 & GC00002470 & GC00002475 & GC00002553 & GC00001907\\_p1 & GC00002435 & GC00002433 & GC00002432 & GC00002431 & GC00002430 & GC00002478 & GC00002476 & GC00002599 & GC00002451 & GC00000145\\_r1\\_1 & GC00002177\\_r1\\_1 & GC00002456 & GC00002578 & GC00002579 & GC00001357\\_2 & GC00002308\\_r1\\_1 & GC00002548 & GC00001916\\_r1\\_1 & GC00002268\\_r1\\_2 & GC00002554 & GC00002550 & GC00002552 & GC00002558 & GC00002559 & GC00002204\\_r1\\_1 & GC00002303 & GC00002328 & GC00002321 & GC00002372 & GC00002342 & GC00002414 & GC00002369 & GC00000956\\_r1\\_1\\_p1 & GC00001849\\_r1\\_r1\\_1 & GC00001566\\_r1\\_r1\\_1 & GC00002198\\_2 & GC00002106\\_r1\\_1 & GC00001092\\_r1\\_1 & GC00002420 & GC00000198\\_r1\\_4 & GC00002398 & GC00002295 & GC00002224\\_r1\\_1 & GC00002316 & GC00002315 & GC00001981\\_r1\\_1 & GC00002354 & GC00002352 & GC00001103\\_2 & GC00001951\\_p2 & GC00002409 & GC00002419 & GC00002057\\_r1\\_r1\\_1 & GC00002049\\_r1\\_r1\\_1 & GC00002203 & GC00002243 & GC00002228 & GC00001542\\_r1\\_r1\\_1 & GC00000174\\_r1\\_1 & GC00002043\\_r1\\_r1\\_1 & GC00002899 & GC00002898 & GC00002891 & GC00002890 & GC00002893 & GC00002892 & GC00002894 & GC00002897 & GC00002896 & GC00002926 & GC00002292\\_r1\\_1 & GC00002806 & GC00002298\\_r1\\_1 & GC00002798 & GC00002799 & GC00002796 & GC00002797 & GC00002794 & GC00002795 & GC00002792 & GC00002793 & GC00002790 & GC00002791 & GC00000995\\_3 & GC00001176\\_r1\\_1\\_p1 & GC00002472\\_r1\\_1 & GC00000156\\_2 & GC00002802 & GC00002801 & GC00002809 & GC00001454\\_7 & GC00000896\\_4 & GC00002522\\_r1\\_1 & GC00002629 & GC00002810 & GC00002813 & GC00002812 & GC00002819 & GC00002438\\_r1\\_1 & GC00002930 & GC00002931 & GC00002935 & GC00002747 & GC00002486\\_2 & GC00002180\\_r1\\_1 & GC00002839 & GC00002838 & GC00002833 & GC00002832 & GC00002831 & GC00002830 & GC00002836 & GC00002835 & GC00002811 & GC00002815 & GC00002814 & GC00002817 & GC00002664 & GC00002662 & GC00002668 & GC00002635 & GC00002858 & GC00002648 & GC00002649 & GC00002641 & GC00002642 & GC00002643 & GC00002645 & GC00002882 & GC00002886 & GC00002887 & GC00002884 & GC00002874 & GC00002873 & GC00002871 & GC00002870 & GC00002879 & GC00002878 & GC00002922 & GC00002925 & GC00002924 & GC00000013\\_12 & GC00001505\\_r1\\_r1\\_1 & GC00002695 & GC00002473\\_r1\\_1 & GC00002933 & GC00002934 & GC00002938 & GC00002939 & GC00002685 & GC00002680 & GC00002682 & GC00002683 & GC00002688 & GC00002689 & GC00002226\\_p2 & GC00001356\\_3 & GC00002749 & GC00002741 & GC00002740 & GC00002746 & GC00002122\\_r1\\_r1\\_2 & GC00002914 & GC00002915 & GC00002916 & GC00002917 & GC00002910 & GC00002911 & GC00002913 & GC00002919 & GC00001973\\_r1\\_r1\\_r1\\_1 & GC00002763 & GC00002762 & GC00002761 & GC00002760 & GC00002765 & GC00002764 & GC00002769 & GC00002768 & GC00002457\\_2 & GC00002770 & GC00002705 & GC00002704 & GC00002707 & GC00002706 & GC00002701 & GC00002702 & GC00002583\\_r1\\_1 & GC00000236\\_7 & GC00002951 & GC00002954 & GC00002956 & GC00002745 & GC00002729 & GC00002728 & GC00002727 & GC00002725 & GC00002724 & GC00002723 & GC00002722 & GC00001901\\_2 & GC00000052\\_6 & GC00000191\\_3 & GC00002442\\_r1\\_1 & GC00002889 & GC00002883 & GC00002885 & GC00002955 & GC00002357\\_r1\\_1 & GC00002665 & GC00002663 & GC00000193\\_r1\\_1 & GC00001951\\_p1 & GC00002789 & GC00002788 & GC00002785 & GC00002787 & GC00002786 & GC00002781 & GC00002783 & GC00002782 & GC00002691 & GC00002690 & GC00002306\\_r1\\_1 & GC00002124\\_p2 & GC00002124\\_p1 & GC00002556\\_r1\\_1 & GC00002711 & GC00000682\\_1 & GC00002227\\_p2 & GC00002803 & GC00002800 & GC00002807 & GC00002808 & GC00002639 & GC00002638 & GC00002631 & GC00002630 & GC00002637 & GC00002636 & GC00002519\\_2 & GC00002824 & GC00002826 & GC00002820 & GC00002821 & GC00002823 & GC00002828 & GC00002829 & GC00002491\\_r1\\_1 & GC00000016\\_r1\\_r1\\_1\\_p1\\_p1 & GC00002109\\_r1\\_1 & GC00002848 & GC00002846 & GC00002847 & GC00002845 & GC00002842 & GC00002843 & GC00002841 & GC00002675 & GC00002674 & GC00002671 & GC00002673 & GC00002679 & GC00000001\\_45 & GC00002863 & GC00002864 & GC00002868 & GC00002869 & GC00002862 & GC00002171\\_r1\\_1 & GC00002656 & GC00002655 & GC00002654 & GC00002653 & GC00002650 & GC00002172\\_r1\\_1 & GC00002169\\_p1 & GC00000045\\_3 & GC00002223\\_2 & GC00002738 & GC00002733 & GC00002758 & GC00002752 & GC00002753 & GC00002750 & GC00002751 & GC00002754 & GC00002755 & GC00002921 & GC00002920 & GC00002929 & GC00002928 & GC00002699 & GC00002698 & GC00000198\\_r1\\_1 & GC00002778 & GC00002779 & GC00002774 & GC00002775 & GC00002776 & GC00002777 & GC00002772 & GC00002773 & GC00002909 & GC00002908 & GC00002903 & GC00002902 & GC00002901 & GC00002900 & GC00002907 & GC00002906 & GC00002904 & GC00002716 & GC00002715 & GC00002712 & GC00002718 & GC00002719 & GC00002696 & GC00002459\\_r1\\_1 & GC00000001\\_46 & GC00002219\\_p2 & GC00001979\\_r1\\_r1\\_1 & GC00002739 & GC00002730 & GC00002732 & GC00002734 & GC00002737 & GC00002947 & GC00002946 & GC00002943 & GC00002942 & GC00002941 & GC00002949 & GC00002948 & GC00002169\\_p2 & clade\\\\\n",
       " <chr> & <dbl> & <dbl> & <dbl> & <dbl> & <dbl> & <dbl> & <dbl> & <dbl> & <dbl> & <dbl> & <dbl> & <dbl> & <dbl> & <dbl> & <dbl> & <dbl> & <dbl> & <dbl> & <dbl> & <dbl> & <dbl> & <dbl> & <dbl> & <dbl> & <dbl> & <dbl> & <dbl> & <dbl> & <dbl> & <dbl> & <dbl> & <dbl> & <dbl> & <dbl> & <dbl> & <dbl> & <dbl> & <dbl> & <dbl> & <dbl> & <dbl> & <dbl> & <dbl> & <dbl> & <dbl> & <dbl> & <dbl> & <dbl> & <dbl> & <dbl> & <dbl> & <dbl> & <dbl> & <dbl> & <dbl> & <dbl> & <dbl> & <dbl> & <dbl> & <dbl> & <dbl> & <dbl> & <dbl> & <dbl> & <dbl> & <dbl> & <dbl> & <dbl> & <dbl> & <dbl> & <dbl> & <dbl> & <dbl> & <dbl> & <dbl> & <dbl> & <dbl> & <dbl> & <dbl> & <dbl> & <dbl> & <dbl> & <dbl> & <dbl> & <dbl> & <dbl> & <dbl> & <dbl> & <dbl> & <dbl> & <dbl> & <dbl> & <dbl> & <dbl> & <dbl> & <dbl> & <dbl> & <dbl> & <dbl> & <dbl> & <dbl> & <dbl> & <dbl> & <dbl> & <dbl> & <dbl> & <dbl> & <dbl> & <dbl> & <dbl> & <dbl> & <dbl> & <dbl> & <dbl> & <dbl> & <dbl> & <dbl> & <dbl> & <dbl> & <dbl> & <dbl> & <dbl> & <dbl> & <dbl> & <dbl> & <dbl> & <dbl> & <dbl> & <dbl> & <dbl> & <dbl> & <dbl> & <dbl> & <dbl> & <dbl> & <dbl> & <dbl> & <dbl> & <dbl> & <dbl> & <dbl> & <dbl> & <dbl> & <dbl> & <dbl> & <dbl> & <dbl> & <dbl> & <dbl> & <dbl> & <dbl> & <dbl> & <dbl> & <dbl> & <dbl> & <dbl> & <dbl> & <dbl> & <dbl> & <dbl> & <dbl> & <dbl> & <dbl> & <dbl> & <dbl> & <dbl> & <dbl> & <dbl> & <dbl> & <dbl> & <dbl> & <dbl> & <dbl> & <dbl> & <dbl> & <dbl> & <dbl> & <dbl> & <dbl> & <dbl> & <dbl> & <dbl> & <dbl> & <dbl> & <dbl> & <dbl> & <dbl> & <dbl> & <dbl> & <dbl> & <dbl> & <dbl> & <dbl> & <dbl> & <dbl> & <dbl> & <dbl> & <dbl> & <dbl> & <dbl> & <dbl> & <dbl> & <dbl> & <dbl> & <dbl> & <dbl> & <dbl> & <dbl> & <dbl> & <dbl> & <dbl> & <dbl> & <dbl> & <dbl> & <dbl> & <dbl> & <dbl> & <dbl> & <dbl> & <dbl> & <dbl> & <dbl> & <dbl> & <dbl> & <dbl> & <dbl> & <dbl> & <dbl> & <dbl> & <dbl> & <dbl> & <dbl> & <dbl> & <dbl> & <dbl> & <dbl> & <dbl> & <dbl> & <dbl> & <dbl> & <dbl> & <dbl> & <dbl> & <dbl> & <dbl> & <dbl> & <dbl> & <dbl> & <dbl> & <dbl> & <dbl> & <dbl> & <dbl> & <dbl> & <dbl> & <dbl> & <dbl> & <dbl> & <dbl> & <dbl> & <dbl> & <dbl> & <dbl> & <dbl> & <dbl> & <dbl> & <dbl> & <dbl> & <dbl> & <dbl> & <dbl> & <dbl> & <dbl> & <dbl> & <dbl> & <dbl> & <dbl> & <dbl> & <dbl> & <dbl> & <dbl> & <dbl> & <dbl> & <dbl> & <dbl> & <dbl> & <dbl> & <dbl> & <dbl> & <dbl> & <dbl> & <dbl> & <dbl> & <dbl> & <dbl> & <dbl> & <dbl> & <dbl> & <dbl> & <dbl> & <dbl> & <dbl> & <dbl> & <dbl> & <dbl> & <dbl> & <dbl> & <dbl> & <dbl> & <dbl> & <dbl> & <dbl> & <dbl> & <dbl> & <dbl> & <dbl> & <dbl> & <dbl> & <dbl> & <dbl> & <dbl> & <dbl> & <dbl> & <dbl> & <dbl> & <dbl> & <dbl> & <dbl> & <dbl> & <dbl> & <dbl> & <dbl> & <dbl> & <dbl> & <dbl> & <dbl> & <dbl> & <dbl> & <dbl> & <dbl> & <dbl> & <dbl> & <dbl> & <dbl> & <dbl> & <dbl> & <dbl> & <dbl> & <dbl> & <dbl> & <dbl> & <dbl> & <dbl> & <dbl> & <dbl> & <dbl> & <dbl> & <dbl> & <dbl> & <dbl> & <dbl> & <dbl> & <dbl> & <dbl> & <dbl> & <dbl> & <dbl> & <dbl> & <dbl> & <dbl> & <dbl> & <dbl> & <dbl> & <dbl> & <dbl> & <dbl> & <dbl> & <dbl> & <dbl> & <dbl> & <dbl> & <dbl> & <dbl> & <dbl> & <dbl> & <dbl> & <dbl> & <dbl> & <dbl> & <dbl> & <dbl> & <dbl> & <dbl> & <dbl> & <dbl> & <dbl> & <dbl> & <dbl> & <dbl> & <dbl> & <dbl> & <dbl> & <dbl> & <dbl> & <dbl> & <dbl> & <dbl> & <dbl> & <dbl> & <dbl> & <dbl> & <dbl> & <dbl> & <dbl> & <dbl> & <dbl> & <dbl> & <dbl> & <dbl> & <dbl> & <dbl> & <dbl> & <dbl> & <dbl> & <dbl> & <dbl> & <dbl> & <dbl> & <dbl> & <dbl> & <dbl> & <dbl> & <dbl> & <dbl> & <dbl> & <dbl> & <dbl> & <dbl> & <dbl> & <dbl> & <dbl> & <dbl> & <dbl> & <dbl> & <dbl> & <dbl> & <dbl> & <dbl> & <dbl> & <dbl> & <dbl> & <dbl> & <dbl> & <dbl> & <dbl> & <dbl> & <dbl> & <dbl> & <dbl> & <dbl> & <dbl> & <dbl> & <dbl> & <dbl> & <dbl> & <dbl> & <dbl> & <dbl> & <dbl> & <dbl> & <dbl> & <dbl> & <dbl> & <dbl> & <dbl> & <dbl> & <dbl> & <dbl> & <dbl> & <dbl> & <dbl> & <dbl> & <dbl> & <dbl> & <dbl> & <dbl> & <dbl> & <dbl> & <dbl> & <dbl> & <dbl> & <dbl> & <dbl> & <dbl> & <dbl> & <dbl> & <dbl> & <dbl> & <dbl> & <dbl> & <dbl> & <dbl> & <dbl> & <dbl> & <dbl> & <dbl> & <dbl> & <dbl> & <dbl> & <dbl> & <dbl> & <dbl> & <dbl> & <dbl> & <dbl> & <dbl> & <dbl> & <dbl> & <dbl> & <dbl> & <dbl> & <dbl> & <dbl> & <dbl> & <dbl> & <dbl> & <dbl> & <dbl> & <dbl> & <dbl> & <dbl> & <dbl> & <dbl> & <dbl> & <dbl> & <dbl> & <dbl> & <dbl> & <dbl> & <dbl> & <dbl> & <dbl> & <dbl> & <dbl> & <dbl> & <dbl> & <dbl> & <dbl> & <dbl> & <dbl> & <dbl> & <dbl> & <dbl> & <dbl> & <dbl> & <dbl> & <dbl> & <dbl> & <dbl> & <dbl> & <dbl> & <dbl> & <dbl> & <dbl> & <dbl> & <dbl> & <dbl> & <dbl> & <dbl> & <dbl> & <dbl> & <dbl> & <dbl> & <dbl> & <dbl> & <dbl> & <dbl> & <dbl> & <dbl> & <dbl> & <dbl> & <dbl> & <dbl> & <dbl> & <dbl> & <dbl> & <dbl> & <dbl> & <dbl> & <dbl> & <dbl> & <dbl> & <dbl> & <dbl> & <dbl> & <dbl> & <dbl> & <dbl> & <dbl> & <dbl> & <dbl> & <dbl> & <dbl> & <dbl> & <dbl> & <dbl> & <dbl> & <dbl> & <dbl> & <dbl> & <dbl> & <dbl> & <dbl> & <dbl> & <dbl> & <dbl> & <dbl> & <dbl> & <dbl> & <dbl> & <dbl> & <dbl> & <dbl> & <dbl> & <dbl> & <dbl> & <dbl> & <dbl> & <dbl> & <dbl> & <dbl> & <dbl> & <dbl> & <dbl> & <dbl> & <dbl> & <dbl> & <dbl> & <dbl> & <dbl> & <dbl> & <dbl> & <dbl> & <dbl> & <dbl> & <dbl> & <dbl> & <dbl> & <dbl> & <dbl> & <dbl> & <dbl> & <dbl> & <dbl> & <dbl> & <dbl> & <dbl> & <dbl> & <dbl> & <dbl> & <dbl> & <dbl> & <dbl> & <dbl> & <dbl> & <dbl> & <dbl> & <dbl> & <dbl> & <dbl> & <dbl> & <dbl> & <dbl> & <dbl> & <dbl> & <dbl> & <dbl> & <dbl> & <dbl> & <dbl> & <dbl> & <dbl> & <dbl> & <dbl> & <dbl> & <dbl> & <dbl> & <dbl> & <dbl> & <dbl> & <dbl> & <dbl> & <dbl> & <dbl> & <dbl> & <dbl> & <dbl> & <dbl> & <dbl> & <dbl> & <dbl> & <dbl> & <dbl> & <dbl> & <dbl> & <dbl> & <dbl> & <dbl> & <dbl> & <dbl> & <dbl> & <dbl> & <dbl> & <dbl> & <dbl> & <dbl> & <dbl> & <dbl> & <dbl> & <dbl> & <dbl> & <dbl> & <dbl> & <dbl> & <dbl> & <dbl> & <dbl> & <dbl> & <dbl> & <dbl> & <dbl> & <dbl> & <dbl> & <dbl> & <dbl> & <dbl> & <dbl> & <dbl> & <dbl> & <dbl> & <dbl> & <dbl> & <dbl> & <dbl> & <dbl> & <dbl> & <dbl> & <dbl> & <dbl> & <dbl> & <dbl> & <dbl> & <dbl> & <dbl> & <dbl> & <dbl> & <dbl> & <dbl> & <dbl> & <dbl> & <dbl> & <dbl> & <dbl> & <dbl> & <dbl> & <dbl> & <dbl> & <dbl> & <dbl> & <dbl> & <dbl> & <dbl> & <dbl> & <dbl> & <dbl> & <dbl> & <dbl> & <dbl> & <dbl> & <dbl> & <dbl> & <dbl> & <dbl> & <dbl> & <dbl> & <dbl> & <dbl> & <dbl> & <dbl> & <dbl> & <dbl> & <dbl> & <dbl> & <dbl> & <dbl> & <dbl> & <dbl> & <dbl> & <dbl> & <dbl> & <dbl> & <dbl> & <dbl> & <dbl> & <dbl> & <dbl> & <dbl> & <dbl> & <dbl> & <dbl> & <dbl> & <dbl> & <dbl> & <dbl> & <dbl> & <dbl> & <dbl> & <dbl> & <dbl> & <dbl> & <dbl> & <dbl> & <dbl> & <dbl> & <dbl> & <dbl> & <dbl> & <dbl> & <dbl> & <dbl> & <dbl> & <dbl> & <dbl> & <dbl> & <dbl> & <dbl> & <dbl> & <dbl> & <dbl> & <dbl> & <dbl> & <dbl> & <dbl> & <dbl> & <dbl> & <dbl> & <dbl> & <dbl> & <dbl> & <dbl> & <dbl> & <dbl> & <dbl> & <dbl> & <dbl> & <dbl> & <dbl> & <dbl> & <dbl> & <dbl> & <dbl> & <dbl> & <dbl> & <dbl> & <dbl> & <dbl> & <dbl> & <dbl> & <dbl> & <dbl> & <dbl> & <dbl> & <dbl> & <dbl> & <dbl> & <dbl> & <dbl> & <dbl> & <dbl> & <dbl> & <dbl> & <dbl> & <dbl> & <dbl> & <dbl> & <dbl> & <dbl> & <dbl> & <dbl> & <dbl> & <dbl> & <dbl> & <dbl> & <dbl> & <dbl> & <dbl> & <dbl> & <dbl> & <dbl> & <dbl> & <dbl> & <dbl> & <dbl> & <dbl> & <dbl> & <dbl> & <dbl> & <dbl> & <dbl> & <dbl> & <dbl> & <dbl> & <dbl> & <dbl> & <dbl> & <dbl> & <dbl> & <dbl> & <dbl> & <dbl> & <dbl> & <dbl> & <dbl> & <dbl> & <dbl> & <dbl> & <dbl> & <dbl> & <dbl> & <dbl> & <dbl> & <dbl> & <dbl> & <dbl> & <dbl> & <dbl> & <dbl> & <dbl> & <dbl> & <dbl> & <dbl> & <dbl> & <dbl> & <dbl> & <dbl> & <dbl> & <dbl> & <dbl> & <dbl> & <dbl> & <dbl> & <dbl> & <dbl> & <dbl> & <dbl> & <dbl> & <dbl> & <dbl> & <dbl> & <dbl> & <dbl> & <dbl> & <dbl> & <dbl> & <dbl> & <dbl> & <dbl> & <dbl> & <dbl> & <dbl> & <dbl> & <dbl> & <dbl> & <dbl> & <dbl> & <dbl> & <dbl> & <dbl> & <dbl> & <dbl> & <dbl> & <dbl> & <dbl> & <dbl> & <dbl> & <dbl> & <dbl> & <dbl> & <dbl> & <dbl> & <dbl> & <dbl> & <dbl> & <dbl> & <dbl> & <dbl> & <dbl> & <dbl> & <dbl> & <dbl> & <dbl> & <dbl> & <dbl> & <dbl> & <dbl> & <dbl> & <dbl> & <dbl> & <dbl> & <dbl> & <dbl> & <dbl> & <dbl> & <dbl> & <dbl> & <dbl> & <dbl> & <dbl> & <dbl> & <dbl> & <dbl> & <dbl> & <dbl> & <dbl> & <dbl> & <dbl> & <dbl> & <dbl> & <dbl> & <dbl> & <dbl> & <dbl> & <dbl> & <dbl> & <dbl> & <dbl> & <dbl> & <dbl> & <dbl> & <dbl> & <dbl> & <dbl> & <dbl> & <dbl> & <dbl> & <dbl> & <dbl> & <dbl> & <dbl> & <dbl> & <dbl> & <dbl> & <dbl> & <dbl> & <dbl> & <dbl> & <dbl> & <dbl> & <dbl> & <dbl> & <dbl> & <dbl> & <dbl> & <dbl> & <dbl> & <dbl> & <dbl> & <dbl> & <dbl> & <dbl> & <dbl> & <dbl> & <dbl> & <dbl> & <dbl> & <dbl> & <dbl> & <dbl> & <dbl> & <dbl> & <dbl> & <dbl> & <dbl> & <dbl> & <dbl> & <dbl> & <dbl> & <dbl> & <dbl> & <dbl> & <dbl> & <dbl> & <dbl> & <dbl> & <dbl> & <dbl> & <dbl> & <dbl> & <dbl> & <dbl> & <dbl> & <dbl> & <dbl> & <dbl> & <dbl> & <dbl> & <dbl> & <dbl> & <dbl> & <dbl> & <dbl> & <dbl> & <dbl> & <dbl> & <dbl> & <dbl> & <dbl> & <dbl> & <dbl> & <dbl> & <dbl> & <dbl> & <dbl> & <dbl> & <dbl> & <dbl> & <dbl> & <dbl> & <dbl> & <dbl> & <dbl> & <dbl> & <dbl> & <dbl> & <dbl> & <dbl> & <dbl> & <dbl> & <dbl> & <dbl> & <dbl> & <dbl> & <dbl> & <dbl> & <dbl> & <dbl> & <dbl> & <dbl> & <dbl> & <dbl> & <dbl> & <dbl> & <dbl> & <dbl> & <dbl> & <dbl> & <dbl> & <dbl> & <dbl> & <dbl> & <dbl> & <dbl> & <dbl> & <dbl> & <dbl> & <dbl> & <dbl> & <dbl> & <dbl> & <dbl> & <dbl> & <dbl> & <dbl> & <dbl> & <dbl> & <dbl> & <dbl> & <dbl> & <dbl> & <dbl> & <dbl> & <dbl> & <dbl> & <dbl> & <dbl> & <dbl> & <dbl> & <dbl> & <dbl> & <dbl> & <dbl> & <dbl> & <dbl> & <dbl> & <dbl> & <dbl> & <dbl> & <dbl> & <dbl> & <dbl> & <dbl> & <dbl> & <dbl> & <dbl> & <dbl> & <dbl> & <dbl> & <dbl> & <dbl> & <dbl> & <dbl> & <dbl> & <dbl> & <dbl> & <dbl> & <dbl> & <dbl> & <dbl> & <dbl> & <dbl> & <dbl> & <dbl> & <dbl> & <dbl> & <dbl> & <dbl> & <dbl> & <dbl> & <dbl> & <dbl> & <dbl> & <dbl> & <dbl> & <dbl> & <dbl> & <dbl> & <dbl> & <dbl> & <dbl> & <dbl> & <dbl> & <dbl> & <dbl> & <dbl> & <dbl> & <dbl> & <dbl> & <dbl> & <dbl> & <dbl> & <dbl> & <dbl> & <dbl> & <dbl> & <dbl> & <dbl> & <dbl> & <dbl> & <dbl> & <dbl> & <dbl> & <dbl> & <dbl> & <dbl> & <dbl> & <dbl> & <dbl> & <dbl> & <dbl> & <dbl> & <dbl> & <dbl> & <dbl> & <dbl> & <dbl> & <dbl> & <dbl> & <dbl> & <dbl> & <dbl> & <dbl> & <dbl> & <dbl> & <dbl> & <dbl> & <dbl> & <dbl> & <dbl> & <dbl> & <dbl> & <dbl> & <dbl> & <dbl> & <dbl> & <dbl> & <dbl> & <dbl> & <dbl> & <dbl> & <dbl> & <dbl> & <dbl> & <dbl> & <dbl> & <dbl> & <dbl> & <dbl> & <dbl> & <dbl> & <dbl> & <dbl> & <dbl> & <dbl> & <dbl> & <dbl> & <dbl> & <dbl> & <dbl> & <dbl> & <dbl> & <dbl> & <dbl> & <dbl> & <dbl> & <dbl> & <dbl> & <dbl> & <dbl> & <dbl> & <dbl> & <dbl> & <dbl> & <dbl> & <dbl> & <dbl> & <dbl> & <dbl> & <dbl> & <dbl> & <dbl> & <dbl> & <dbl> & <dbl> & <dbl> & <dbl> & <dbl> & <dbl> & <dbl> & <dbl> & <dbl> & <dbl> & <dbl> & <dbl> & <dbl> & <dbl> & <dbl> & <dbl> & <dbl> & <dbl> & <dbl> & <dbl> & <dbl> & <dbl> & <dbl> & <dbl> & <dbl> & <dbl> & <dbl> & <dbl> & <dbl> & <dbl> & <dbl> & <dbl> & <dbl> & <dbl> & <dbl> & <dbl> & <dbl> & <dbl> & <dbl> & <dbl> & <dbl> & <dbl> & <dbl> & <dbl> & <dbl> & <dbl> & <dbl> & <dbl> & <dbl> & <dbl> & <dbl> & <dbl> & <dbl> & <dbl> & <dbl> & <dbl> & <dbl> & <dbl> & <dbl> & <dbl> & <dbl> & <dbl> & <dbl> & <dbl> & <dbl> & <dbl> & <dbl> & <dbl> & <dbl> & <dbl> & <dbl> & <dbl> & <dbl> & <dbl> & <dbl> & <dbl> & <dbl> & <dbl> & <dbl> & <dbl> & <dbl> & <dbl> & <dbl> & <dbl> & <dbl> & <dbl> & <dbl> & <dbl> & <dbl> & <dbl> & <dbl> & <dbl> & <dbl> & <dbl> & <dbl> & <dbl> & <dbl> & <dbl> & <dbl> & <dbl> & <dbl> & <dbl> & <dbl> & <dbl> & <dbl> & <dbl> & <dbl> & <dbl> & <dbl> & <dbl> & <dbl> & <dbl> & <dbl> & <dbl> & <dbl> & <dbl> & <dbl> & <dbl> & <dbl> & <dbl> & <dbl> & <dbl> & <dbl> & <dbl> & <dbl> & <dbl> & <dbl> & <dbl> & <dbl> & <dbl> & <dbl> & <dbl> & <dbl> & <dbl> & <dbl> & <dbl> & <dbl> & <dbl> & <dbl> & <dbl> & <dbl> & <dbl> & <dbl> & <dbl> & <dbl> & <dbl> & <dbl> & <dbl> & <dbl> & <dbl> & <dbl> & <dbl> & <dbl> & <dbl> & <dbl> & <dbl> & <dbl> & <dbl> & <dbl> & <dbl> & <dbl> & <dbl> & <dbl> & <dbl> & <dbl> & <dbl> & <dbl> & <dbl> & <dbl> & <dbl> & <dbl> & <dbl> & <dbl> & <dbl> & <dbl> & <dbl> & <dbl> & <dbl> & <dbl> & <dbl> & <dbl> & <dbl> & <dbl> & <dbl> & <dbl> & <dbl> & <dbl> & <dbl> & <dbl> & <dbl> & <dbl> & <dbl> & <dbl> & <dbl> & <dbl> & <dbl> & <dbl> & <dbl> & <dbl> & <dbl> & <dbl> & <dbl> & <dbl> & <dbl> & <dbl> & <dbl> & <dbl> & <dbl> & <dbl> & <dbl> & <dbl> & <dbl> & <dbl> & <dbl> & <dbl> & <dbl> & <dbl> & <dbl> & <dbl> & <dbl> & <dbl> & <dbl> & <dbl> & <dbl> & <dbl> & <dbl> & <dbl> & <dbl> & <dbl> & <dbl> & <dbl> & <dbl> & <dbl> & <dbl> & <dbl> & <dbl> & <dbl> & <dbl> & <dbl> & <dbl> & <dbl> & <dbl> & <dbl> & <dbl> & <dbl> & <dbl> & <dbl> & <dbl> & <dbl> & <dbl> & <dbl> & <dbl> & <dbl> & <dbl> & <dbl> & <dbl> & <dbl> & <dbl> & <dbl> & <dbl> & <dbl> & <dbl> & <dbl> & <dbl> & <dbl> & <dbl> & <dbl> & <dbl> & <dbl> & <dbl> & <dbl> & <dbl> & <dbl> & <dbl> & <dbl> & <dbl> & <dbl> & <dbl> & <dbl> & <dbl> & <dbl> & <dbl> & <dbl> & <dbl> & <dbl> & <dbl> & <dbl> & <dbl> & <dbl> & <dbl> & <dbl> & <dbl> & <dbl> & <dbl> & <dbl> & <dbl> & <dbl> & <dbl> & <dbl> & <dbl> & <dbl> & <dbl> & <dbl> & <dbl> & <dbl> & <dbl> & <dbl> & <dbl> & <dbl> & <dbl> & <dbl> & <dbl> & <dbl> & <dbl> & <dbl> & <dbl> & <dbl> & <dbl> & <dbl> & <dbl> & <dbl> & <dbl> & <dbl> & <dbl> & <dbl> & <dbl> & <dbl> & <dbl> & <dbl> & <dbl> & <dbl> & <dbl> & <dbl> & <dbl> & <dbl> & <dbl> & <dbl> & <dbl> & <dbl> & <dbl> & <dbl> & <dbl> & <dbl> & <dbl> & <dbl> & <dbl> & <dbl> & <dbl> & <dbl> & <dbl> & <dbl> & <dbl> & <dbl> & <dbl> & <dbl> & <dbl> & <dbl> & <dbl> & <dbl> & <dbl> & <dbl> & <dbl> & <dbl> & <dbl> & <dbl> & <dbl> & <dbl> & <dbl> & <dbl> & <dbl> & <dbl> & <dbl> & <dbl> & <dbl> & <dbl> & <dbl> & <dbl> & <dbl> & <dbl> & <dbl> & <dbl> & <dbl> & <dbl> & <dbl> & <dbl> & <dbl> & <dbl> & <dbl> & <dbl> & <dbl> & <dbl> & <dbl> & <dbl> & <dbl> & <dbl> & <dbl> & <dbl> & <dbl> & <dbl> & <dbl> & <dbl> & <dbl> & <dbl> & <dbl> & <dbl> & <dbl> & <dbl> & <dbl> & <dbl> & <dbl> & <dbl> & <dbl> & <dbl> & <dbl> & <dbl> & <dbl> & <dbl> & <dbl> & <dbl> & <dbl> & <dbl> & <dbl> & <dbl> & <dbl> & <dbl> & <dbl> & <dbl> & <dbl> & <dbl> & <dbl> & <dbl> & <dbl> & <dbl> & <dbl> & <dbl> & <dbl> & <dbl> & <dbl> & <dbl> & <dbl> & <dbl> & <dbl> & <dbl> & <dbl> & <dbl> & <dbl> & <dbl> & <dbl> & <dbl> & <dbl> & <dbl> & <dbl> & <dbl> & <dbl> & <dbl> & <dbl> & <dbl> & <dbl> & <dbl> & <dbl> & <dbl> & <dbl> & <dbl> & <dbl> & <dbl> & <dbl> & <dbl> & <dbl> & <dbl> & <dbl> & <dbl> & <dbl> & <dbl> & <dbl> & <dbl> & <dbl> & <dbl> & <dbl> & <dbl> & <dbl> & <dbl> & <dbl> & <dbl> & <dbl> & <dbl> & <dbl> & <dbl> & <dbl> & <dbl> & <dbl> & <dbl> & <dbl> & <dbl> & <dbl> & <dbl> & <dbl> & <dbl> & <dbl> & <dbl> & <dbl> & <dbl> & <dbl> & <dbl> & <dbl> & <dbl> & <dbl> & <dbl> & <dbl> & <dbl> & <dbl> & <dbl> & <dbl> & <dbl> & <dbl> & <dbl> & <dbl> & <dbl> & <dbl> & <dbl> & <dbl> & <dbl> & <dbl> & <dbl> & <dbl> & <dbl> & <dbl> & <dbl> & <dbl> & <dbl> & <dbl> & <dbl> & <dbl> & <dbl> & <dbl> & <dbl> & <dbl> & <dbl> & <dbl> & <dbl> & <dbl> & <dbl> & <dbl> & <dbl> & <dbl> & <dbl> & <dbl> & <dbl> & <dbl> & <dbl> & <dbl> & <dbl> & <dbl> & <dbl> & <dbl> & <dbl> & <dbl> & <dbl> & <dbl> & <dbl> & <dbl> & <dbl> & <dbl> & <dbl> & <dbl> & <dbl> & <dbl> & <dbl> & <dbl> & <dbl> & <dbl> & <dbl> & <dbl> & <dbl> & <dbl> & <dbl> & <dbl> & <dbl> & <dbl> & <dbl> & <dbl> & <dbl> & <dbl> & <dbl> & <dbl> & <dbl> & <dbl> & <dbl> & <dbl> & <dbl> & <dbl> & <dbl> & <dbl> & <dbl> & <dbl> & <dbl> & <dbl> & <dbl> & <dbl> & <dbl> & <dbl> & <dbl> & <dbl> & <dbl> & <dbl> & <dbl> & <dbl> & <dbl> & <dbl> & <dbl> & <dbl> & <dbl> & <dbl> & <dbl> & <dbl> & <dbl> & <dbl> & <dbl> & <dbl> & <dbl> & <dbl> & <dbl> & <dbl> & <dbl> & <dbl> & <dbl> & <dbl> & <dbl> & <dbl> & <dbl> & <dbl> & <dbl> & <dbl> & <dbl> & <dbl> & <dbl> & <dbl> & <dbl> & <dbl> & <dbl> & <dbl> & <dbl> & <dbl> & <dbl> & <dbl> & <dbl> & <dbl> & <dbl> & <dbl> & <dbl> & <dbl> & <dbl> & <dbl> & <dbl> & <dbl> & <dbl> & <dbl> & <dbl> & <dbl> & <dbl> & <dbl> & <dbl> & <dbl> & <dbl> & <dbl> & <dbl> & <dbl> & <dbl> & <dbl> & <dbl> & <dbl> & <dbl> & <dbl> & <dbl> & <dbl> & <dbl> & <dbl> & <dbl> & <dbl> & <dbl> & <dbl> & <dbl> & <dbl> & <dbl> & <dbl> & <dbl> & <dbl> & <dbl> & <dbl> & <dbl> & <dbl> & <dbl> & <dbl> & <dbl> & <dbl> & <dbl> & <dbl> & <dbl> & <dbl> & <dbl> & <dbl> & <dbl> & <dbl> & <dbl> & <dbl> & <dbl> & <dbl> & <dbl> & <dbl> & <dbl> & <dbl> & <dbl> & <dbl> & <dbl> & <dbl> & <dbl> & <dbl> & <dbl> & <dbl> & <dbl> & <dbl> & <dbl> & <dbl> & <dbl> & <dbl> & <dbl> & <dbl> & <dbl> & <dbl> & <dbl> & <dbl> & <dbl> & <dbl> & <dbl> & <dbl> & <dbl> & <dbl> & <dbl> & <dbl> & <dbl> & <dbl> & <dbl> & <dbl> & <dbl> & <dbl> & <dbl> & <dbl> & <dbl> & <dbl> & <dbl> & <dbl> & <dbl> & <dbl> & <dbl> & <dbl> & <dbl> & <dbl> & <dbl> & <dbl> & <dbl> & <dbl> & <dbl> & <dbl> & <dbl> & <dbl> & <dbl> & <dbl> & <dbl> & <dbl> & <dbl> & <dbl> & <dbl> & <dbl> & <dbl> & <dbl> & <dbl> & <dbl> & <dbl> & <dbl> & <dbl> & <dbl> & <dbl> & <dbl> & <dbl> & <dbl> & <dbl> & <dbl> & <dbl> & <dbl> & <dbl> & <dbl> & <dbl> & <dbl> & <dbl> & <dbl> & <dbl> & <dbl> & <dbl> & <dbl> & <dbl> & <dbl> & <dbl> & <dbl> & <dbl> & <dbl> & <dbl> & <dbl> & <dbl> & <dbl> & <dbl> & <dbl> & <dbl> & <dbl> & <dbl> & <dbl> & <dbl> & <dbl> & <dbl> & <dbl> & <dbl> & <dbl> & <dbl> & <dbl> & <dbl> & <dbl> & <dbl> & <dbl> & <dbl> & <dbl> & <dbl> & <dbl> & <dbl> & <dbl> & <dbl> & <dbl> & <dbl> & <dbl> & <dbl> & <dbl> & <dbl> & <dbl> & <dbl> & <dbl> & <dbl> & <dbl> & <dbl> & <dbl> & <dbl> & <dbl> & <dbl> & <dbl> & <dbl> & <dbl> & <dbl> & <dbl> & <dbl> & <dbl> & <dbl> & <dbl> & <dbl> & <dbl> & <dbl> & <dbl> & <dbl> & <dbl> & <dbl> & <dbl> & <dbl> & <dbl> & <dbl> & <dbl> & <dbl> & <dbl> & <dbl> & <dbl> & <dbl> & <dbl> & <dbl> & <dbl> & <dbl> & <dbl> & <dbl> & <dbl> & <dbl> & <dbl> & <dbl> & <dbl> & <dbl> & <dbl> & <dbl> & <dbl> & <dbl> & <dbl> & <dbl> & <dbl> & <dbl> & <dbl> & <dbl> & <dbl> & <dbl> & <dbl> & <dbl> & <dbl> & <dbl> & <dbl> & <dbl> & <dbl> & <dbl> & <dbl> & <dbl> & <dbl> & <dbl> & <dbl> & <dbl> & <dbl> & <dbl> & <dbl> & <dbl> & <dbl> & <dbl> & <dbl> & <dbl> & <dbl> & <dbl> & <dbl> & <dbl> & <dbl> & <dbl> & <dbl> & <dbl> & <dbl> & <dbl> & <dbl> & <dbl> & <dbl> & <dbl> & <dbl> & <dbl> & <dbl> & <dbl> & <dbl> & <dbl> & <dbl> & <dbl> & <dbl> & <dbl> & <dbl> & <dbl> & <dbl> & <dbl> & <dbl> & <dbl> & <dbl> & <dbl> & <dbl> & <dbl> & <dbl> & <dbl> & <dbl> & <dbl> & <dbl> & <dbl> & <dbl> & <dbl> & <dbl> & <dbl> & <dbl> & <dbl> & <dbl> & <dbl> & <dbl> & <dbl> & <dbl> & <dbl> & <dbl> & <dbl> & <dbl> & <dbl> & <dbl> & <dbl> & <dbl> & <dbl> & <dbl> & <dbl> & <dbl> & <dbl> & <dbl> & <dbl> & <dbl> & <dbl> & <dbl> & <dbl> & <dbl> & <dbl> & <dbl> & <dbl> & <dbl> & <dbl> & <dbl> & <dbl> & <dbl> & <dbl> & <dbl> & <dbl> & <dbl> & <dbl> & <dbl> & <dbl> & <dbl> & <dbl> & <dbl> & <dbl> & <dbl> & <dbl> & <dbl> & <dbl> & <dbl> & <dbl> & <dbl> & <dbl> & <dbl> & <dbl> & <dbl> & <dbl> & <dbl> & <dbl> & <dbl> & <dbl> & <dbl> & <dbl> & <dbl> & <dbl> & <dbl> & <dbl> & <dbl> & <dbl> & <dbl> & <dbl> & <dbl> & <dbl> & <dbl> & <dbl> & <dbl> & <dbl> & <dbl> & <dbl> & <dbl> & <dbl> & <dbl> & <dbl> & <dbl> & <dbl> & <dbl> & <dbl> & <dbl> & <dbl> & <dbl> & <dbl> & <dbl> & <dbl> & <dbl> & <dbl> & <dbl> & <dbl> & <dbl> & <dbl> & <dbl> & <dbl> & <dbl> & <dbl> & <dbl> & <dbl> & <dbl> & <dbl> & <dbl> & <dbl> & <dbl> & <dbl> & <dbl> & <dbl> & <dbl> & <dbl> & <dbl> & <dbl> & <dbl> & <dbl> & <dbl> & <dbl> & <dbl> & <dbl> & <dbl> & <dbl> & <dbl> & <dbl> & <dbl> & <dbl> & <dbl> & <dbl> & <dbl> & <dbl> & <dbl> & <dbl> & <dbl> & <dbl> & <dbl> & <dbl> & <dbl> & <dbl> & <dbl> & <dbl> & <dbl> & <dbl> & <dbl> & <dbl> & <dbl> & <dbl> & <dbl> & <dbl> & <dbl> & <dbl> & <dbl> & <dbl> & <dbl> & <dbl> & <dbl> & <dbl> & <dbl> & <dbl> & <dbl> & <dbl> & <dbl> & <dbl> & <dbl> & <dbl> & <dbl> & <dbl> & <dbl> & <dbl> & <dbl> & <dbl> & <dbl> & <dbl> & <dbl> & <dbl> & <dbl> & <dbl> & <dbl> & <dbl> & <dbl> & <dbl> & <dbl> & <dbl> & <dbl> & <dbl> & <dbl> & <dbl> & <dbl> & <dbl> & <dbl> & <dbl> & <dbl> & <dbl> & <dbl> & <dbl> & <dbl> & <dbl> & <dbl> & <dbl> & <dbl> & <dbl> & <dbl> & <dbl> & <dbl> & <dbl> & <dbl> & <dbl> & <dbl> & <dbl> & <dbl> & <dbl> & <dbl> & <dbl> & <dbl> & <dbl> & <dbl> & <dbl> & <dbl> & <dbl> & <dbl> & <dbl> & <dbl> & <dbl> & <dbl> & <dbl> & <dbl> & <dbl> & <dbl> & <dbl> & <dbl> & <dbl> & <dbl> & <dbl> & <dbl> & <dbl> & <dbl> & <dbl> & <dbl> & <dbl> & <dbl> & <dbl> & <dbl> & <dbl> & <dbl> & <dbl> & <dbl> & <dbl> & <dbl> & <dbl> & <dbl> & <dbl> & <dbl> & <dbl> & <dbl> & <dbl> & <dbl> & <dbl> & <dbl> & <dbl> & <dbl> & <dbl> & <dbl> & <dbl> & <dbl> & <dbl> & <dbl> & <dbl> & <dbl> & <dbl> & <dbl> & <dbl> & <dbl> & <dbl> & <dbl> & <dbl> & <dbl> & <dbl> & <dbl> & <dbl> & <dbl> & <dbl> & <dbl> & <dbl> & <dbl> & <dbl> & <dbl> & <dbl> & <dbl> & <dbl> & <dbl> & <dbl> & <dbl> & <dbl> & <dbl> & <dbl> & <dbl> & <dbl> & <dbl> & <dbl> & <dbl> & <dbl> & <dbl> & <dbl> & <dbl> & <dbl> & <dbl> & <dbl> & <dbl> & <dbl> & <dbl> & <dbl> & <dbl> & <dbl> & <dbl> & <dbl> & <dbl> & <dbl> & <dbl> & <dbl> & <dbl> & <dbl> & <dbl> & <dbl> & <dbl> & <dbl> & <dbl> & <dbl> & <dbl> & <dbl> & <dbl> & <dbl> & <dbl> & <dbl> & <dbl> & <dbl> & <dbl> & <dbl> & <dbl> & <dbl> & <dbl> & <dbl> & <dbl> & <dbl> & <dbl> & <dbl> & <dbl> & <dbl> & <dbl> & <dbl> & <dbl> & <dbl> & <dbl> & <dbl> & <dbl> & <dbl> & <dbl> & <dbl> & <dbl> & <dbl> & <dbl> & <dbl> & <dbl> & <dbl> & <dbl> & <dbl> & <dbl> & <dbl> & <dbl> & <dbl> & <dbl> & <dbl> & <dbl> & <dbl> & <dbl> & <dbl> & <dbl> & <dbl> & <dbl> & <dbl> & <dbl> & <dbl> & <dbl> & <dbl> & <dbl> & <dbl> & <dbl> & <dbl> & <dbl> & <dbl> & <dbl> & <dbl> & <dbl> & <dbl> & <dbl> & <dbl> & <dbl> & <dbl> & <dbl> & <dbl> & <dbl> & <dbl> & <dbl> & <dbl> & <dbl> & <dbl> & <dbl> & <dbl> & <dbl> & <dbl> & <dbl> & <dbl> & <dbl> & <dbl> & <dbl> & <dbl> & <dbl> & <dbl> & <dbl> & <dbl> & <dbl> & <dbl> & <dbl> & <dbl> & <dbl> & <dbl> & <dbl> & <dbl> & <dbl> & <dbl> & <dbl> & <dbl> & <dbl> & <dbl> & <dbl> & <dbl> & <dbl> & <dbl> & <dbl> & <dbl> & <dbl> & <dbl> & <dbl> & <dbl> & <dbl> & <dbl> & <dbl> & <dbl> & <dbl> & <dbl> & <dbl> & <dbl> & <dbl> & <dbl> & <dbl> & <dbl> & <dbl> & <dbl> & <dbl> & <dbl> & <dbl> & <dbl> & <dbl> & <dbl> & <dbl> & <dbl> & <dbl> & <dbl> & <dbl> & <dbl> & <dbl> & <dbl> & <dbl> & <dbl> & <dbl> & <dbl> & <dbl> & <dbl> & <dbl> & <dbl> & <dbl> & <dbl> & <dbl> & <dbl> & <dbl> & <dbl> & <dbl> & <dbl> & <dbl> & <dbl> & <dbl> & <dbl> & <dbl> & <dbl> & <dbl> & <dbl> & <dbl> & <dbl> & <dbl> & <dbl> & <dbl> & <dbl> & <dbl> & <dbl> & <dbl> & <dbl> & <dbl> & <dbl> & <dbl> & <dbl> & <dbl> & <dbl> & <dbl> & <dbl> & <dbl> & <dbl> & <dbl> & <dbl> & <dbl> & <dbl> & <dbl> & <dbl> & <dbl> & <dbl> & <dbl> & <dbl> & <dbl> & <dbl> & <dbl> & <dbl> & <dbl> & <dbl> & <dbl> & <dbl> & <dbl> & <dbl> & <dbl> & <dbl> & <dbl> & <dbl> & <dbl> & <dbl> & <dbl> & <dbl> & <dbl> & <dbl> & <dbl> & <dbl> & <dbl> & <dbl> & <dbl> & <dbl> & <dbl> & <dbl> & <dbl> & <dbl> & <dbl> & <dbl> & <dbl> & <dbl> & <dbl> & <dbl> & <dbl> & <dbl> & <dbl> & <dbl> & <dbl> & <dbl> & <dbl> & <dbl> & <dbl> & <dbl> & <dbl> & <dbl> & <dbl> & <dbl> & <dbl> & <dbl> & <dbl> & <dbl> & <dbl> & <dbl> & <dbl> & <dbl> & <dbl> & <dbl> & <dbl> & <dbl> & <dbl> & <dbl> & <dbl> & <dbl> & <dbl> & <dbl> & <dbl> & <dbl> & <dbl> & <dbl> & <dbl> & <dbl> & <dbl> & <dbl> & <dbl> & <dbl> & <dbl> & <dbl> & <dbl> & <dbl> & <dbl> & <dbl> & <dbl> & <dbl> & <dbl> & <dbl> & <dbl> & <dbl> & <dbl> & <dbl> & <dbl> & <dbl> & <dbl> & <dbl> & <dbl> & <dbl> & <dbl> & <dbl> & <dbl> & <chr>\\\\\n",
       "\\hline\n",
       "\t GCA\\_000300255 & 3 & 3 & 2 & 2 & 3 & 2 & 4 & 25 & 1 & 1 & 1 & 2 & 1 & 1 & 2 & 3 & 3 & 3 & 3 & 1 & 1 & 1 & 1 & 1 & 2 & 1 & 4 & 1 & 2 & 7 & 6 & 3 & 5 &  8 & 10 & 1 & 1 & 1 & 1 & 1 & 1 & 2 & 1 & 1 & 2 & 1 & 2 & 2 & 3 & 3 & 1 & 1 & 1 & 1 & 1 & 1 & 1 & 1 & 1 & 1 & 1 & 1 & 1 & 1 & 1 & 1 & 1 & 1 & 1 & 1 & 1 & 1 & 1 & 1 & 1 & 1 & 1 & 1 & 1 & 1 & 1 & 1 & 1 & 1 & 1 & 1 & 1 & 1 & 1 & 1 & 1 & 1 & 1 & 1 & 1 & 1 & 1 & 1 & 2 & 1 & 1 & 1 & 1 & 1 & 1 & 1 & 1 & 1 & 1 & 1 & 1 & 1 & 1 & 1 & 1 & 1 & 1 & 1 & 1 & 1 & 1 & 1 & 1 & 1 & 1 & 1 & 1 & 1 & 1 & 1 & 1 & 1 & 2 & 2 & 1 & 2 & 1 & 1 & 1 & 1 & 1 & 1 & 1 & 1 & 1 & 1 & 1 & 1 & 1 & 1 & 1 & 1 & 1 & 1 & 1 & 1 & 1 & 1 & 1 & 1 & 1 & 1 & 1 & 1 & 1 & 1 & 1 & 1 & 1 & 1 & 1 & 1 & 1 & 1 & 1 & 1 & 1 & 1 & 1 & 1 & 1 & 1 & 1 & 1 & 1 & 1 & 1 & 1 & 1 & 1 & 1 & 0 & 1 & 1 & 1 & 1 & 1 & 1 & 1 & 1 & 1 & 1 & 1 & 1 & 1 & 1 & 1 & 1 & 1 & 1 & 1 & 1 & 1 & 1 & 1 & 1 & 1 & 1 & 1 & 1 & 1 & 1 & 1 & 1 & 3 & 1 & 1 & 1 & 1 & 1 & 1 & 1 & 1 & 1 & 1 & 1 & 1 & 1 & 1 & 1 & 1 & 1 & 1 & 1 & 1 & 1 & 1 & 1 & 1 & 1 & 1 & 1 & 1 & 1 & 1 & 1 & 1 & 1 & 1 & 1 & 1 & 1 & 1 & 1 & 1 & 1 & 1 & 1 & 1 & 1 & 1 & 1 & 1 & 1 & 1 & 1 & 1 & 1 & 1 & 1 & 1 & 1 & 1 & 1 & 1 & 1 & 1 & 1 & 1 & 1 & 1 & 3 & 1 & 2 & 1 & 2 & 2 & 3 & 1 & 1 & 3 & 2 & 1 & 1 & 1 & 1 & 1 & 1 & 1 & 1 & 1 & 1 & 1 & 1 & 1 & 1 & 1 & 1 & 1 & 1 & 1 & 1 & 1 & 1 & 1 & 1 & 1 & 1 & 1 & 1 & 1 & 1 & 1 & 1 & 1 & 1 & 1 & 1 & 1 & 1 & 1 & 1 & 1 & 1 & 1 & 1 & 1 & 1 & 1 & 1 & 2 & 1 & 1 & 1 & 1 & 1 & 1 & 1 & 1 & 1 & 1 & 1 & 1 & 1 & 1 & 1 & 1 & 1 & 1 & 1 & 1 & 1 & 1 & 1 & 1 & 1 & 1 & 1 & 1 & 1 & 1 & 1 & 1 & 1 & 0 & 1 & 1 & 1 & 1 & 1 & 1 & 1 & 1 & 1 & 1 & 1 & 1 & 1 & 1 & 1 & 1 & 1 & 3 & 2 & 3 & 1 & 2 & 2 & 5 & 1 & 1 & 1 & 0 & 1 & 1 & 1 & 1 & 1 & 1 & 1 & 1 & 1 & 1 & 1 & 1 & 1 & 1 & 1 & 1 & 1 & 1 & 1 & 1 & 1 & 1 & 1 & 1 & 1 & 1 & 1 & 1 & 1 & 1 & 1 & 1 & 1 & 1 & 1 & 1 & 1 & 2 & 2 & 1 & 1 & 3 & 1 & 1 & 1 & 1 & 1 & 1 & 1 & 1 & 1 & 0 & 1 & 1 & 1 & 1 & 1 & 1 & 1 & 1 & 1 & 1 & 1 & 1 & 1 & 1 & 1 & 1 & 0 & 1 & 1 & 1 & 1 & 1 & 1 & 1 & 1 & 1 & 1 & 1 & 1 & 1 & 1 & 1 & 1 & 1 & 1 & 1 & 1 & 1 & 1 & 1 & 1 & 0 & 1 & 1 & 1 & 1 & 1 & 1 & 1 & 1 & 1 & 1 & 1 & 1 & 1 & 1 & 1 & 1 & 1 & 1 & 1 & 1 & 1 & 1 & 1 & 1 & 1 & 0 & 1 & 1 & 1 & 1 & 1 & 1 & 0 & 1 & 1 & 0 & 0 & 1 & 1 & 1 & 1 & 1 & 1 & 0 & 1 & 1 & 1 & 1 & 1 & 1 & 1 & 1 & 1 & 0 & 1 & 1 & 1 & 1 & 0 & 0 & 1 & 1 & 1 & 1 & 1 & 0 & 1 & 1 & 1 & 1 & 1 & 5 & 0 & 1 & 0 & 1 & 1 & 1 & 1 & 1 & 2 & 4 & 0 & 0 & 1 & 0 & 0 & 1 & 0 & 1 & 0 & 3 & 7 & 1 & 1 & 1 & 0 & 1 & 4 & 3 & 1 & 1 & 1 & 1 & 1 & 1 & 1 & 1 & 1 & 0 & 0 & 1 & 1 & 0 & 1 & 1 & 0 & 0 & 1 & 1 & 1 & 1 & 1 & 1 & 0 & 1 & 1 & 0 & 1 & 1 & 1 & 1 & 1 & 0 & 1 & 1 & 0 & 1 & 1 & 1 & 1 & 0 & 1 & 1 & 1 & 0 & 1 & 1 & 1 & 0 & 0 & 1 & 1 & 1 & 1 & 1 & 1 & 1 & 1 & 2 & 1 & 0 & 1 & 2 & 1 & 0 & 1 & 0 & 1 & 1 & 1 & 1 & 1 & 1 & 1 & 0 & 1 & 1 & 1 & 1 & 1 & 1 & 1 & 1 & 1 & 2 & 1 & 1 & 0 & 2 &  0 & 1 & 1 & 1 & 0 & 1 & 1 & 0 & 1 & 1 & 1 & 1 & 1 & 1 & 1 & 1 & 1 & 1 & 1 & 2 & 1 & 2 & 1 & 1 & 1 & 1 & 1 & 1 & 0 & 0 & 1 & 1 & 1 & 1 & 0 & 1 & 0 & 0 & 0 & 2 & 1 & 1 & 1 & 0 & 2 & 2 & 1 & 1 & 1 & 1 & 1 & 1 & 1 & 1 & 1 & 1 & 1 & 2 & 1 & 1 & 1 & 0 & 0 & 1 & 1 & 0 & 1 & 1 & 3 & 1 & 1 & 0 & 1 & 0 & 2 & 1 & 0 & 2 & 1 & 1 & 1 & 0 & 0 & 1 & 1 & 0 & 1 & 1 & 1 & 1 & 0 & 0 & 0 & 1 & 0 & 1 & 1 & 0 & 1 & 3 & 0 & 1 & 1 & 1 & 0 & 1 & 1 & 1 & 1 & 2 & 2 & 2 & 1 & 1 & 0 & 1 & 1 & 0 & 0 & 0 & 1 & 0 & 1 & 0 & 0 & 0 & 1 & 0 & 0 & 0 & 0 & 1 & 1 & 0 & 0 & 1 & 2 & 1 & 0 & 2 & 1 & 2 & 0 & 0 & 1 & 1 & 1 & 1 & 1 & 1 & 0 & 0 & 0 & 0 & 1 & 1 & 1 & 0 & 2 & 1 & 0 & 1 & 1 & 0 & 1 & 1 & 0 & 1 & 0 & 1 & 1 & 1 & 0 & 1 & 1 & 1 & 1 & 0 & 0 & 0 & 0 & 1 & 1 & 1 & 0 & 0 & 0 & 0 & 0 & 1 & 0 & 0 & 0 & 0 & 1 & 0 & 1 & 0 & 2 & 0 & 1 & 1 & 0 & 1 & 1 & 0 & 0 & 0 & 0 & 1 & 1 & 0 & 0 & 1 & 1 & 1 & 0 & 0 & 1 & 1 & 1 & 0 & 0 & 1 & 1 & 1 & 0 & 0 & 0 & 2 & 1 & 0 & 3 & 0 & 0 & 1 & 0 & 0 & 0 & 0 & 0 & 1 & 0 & 0 & 0 & 0 & 2 & 3 & 0 & 0 & 1 & 0 & 0 & 0 & 0 & 0 & 1 & 12 & 0 & 1 & 0 & 1 & 0 & 0 & 5 & 4 & 0 & 0 & 0 & 0 & 1 & 1 & 0 & 0 & 1 & 0 & 0 & 1 & 1 & 0 & 1 & 1 & 0 & 0 & 0 & 0 & 0 & 0 & 0 & 9 & 0 & 0 & 0 & 0 & 0 & 0 & 1 & 0 & 0 & 0 & 0 & 0 & 1 & 1 & 0 & 0 & 0 & 0 & 0 & 0 & 0 & 0 & 0 & 0 & 0 & 0 & 0 & 0 & 1 & 0 & 0 & 0 & 0 & 0 & 0 & 0 & 0 & 0 & 0 & 0 & 0 & 0 & 1 & 0 & 0 & 0 & 0 & 0 & 0 & 0 & 0 & 0 & 0 & 0 & 0 & 0 & 0 & 0 & 0 & 0 & 0 & 0 & 0 & 0 & 0 & 2 & 0 & 1 & 0 & 0 & 0 & 0 & 0 & 0 & 0 & 0 & 0 & 0 & 1 & 0 & 1 & 0 & 0 & 0 & 0 & 0 & 0 & 0 & 0 & 0 & 0 & 0 & 0 & 1 & 0 & 0 & 0 & 0 & 0 & 0 & 0 & 0 & 0 & 0 & 0 & 0 & 0 & 0 & 0 & 0 & 0 & 0 & 0 & 0 & 0 & 1 & 0 & 0 & 0 & 0 & 0 & 0 & 0 & 0 & 0 & 0 & 0 & 0 & 0 & 0 & 0 & 0 & 0 & 0 & 0 & 0 & 0 & 0 & 1 & 1 & 0 & 0 & 0 & 0 & 0 & 1 & 0 & 0 & 0 & 0 & 0 & 0 & 0 & 0 & 0 & 0 & 0 & 0 & 0 & 1 & 0 & 0 & 0 & 0 & 0 & 0 & 0 & 1 & 1 & 0 & 0 & 0 & 0 & 0 & 0 & 0 & 0 & 0 & 0 & 0 & 0 & 0 & 0 & 0 & 0 & 0 & 0 & 0 & 0 & 0 & 0 & 0 & 0 & 0 & 0 & 0 & 0 & 0 & 0 & 1 & 0 & 0 & 0 & 0 & 0 & 1 & 0 & 0 & 0 & 0 & 0 & 0 & 0 & 1 & 0 & 0 & 0 & 0 & 0 & 0 & 0 & 0 & 0 & 0 & 0 & 0 & 0 & 0 & 0 & 0 & 0 & 0 & 1 & 0 & 1 & 0 & 0 & 0 & 0 & 0 & 0 & 0 & 0 & 0 & 0 & 0 & 0 & 0 & 0 & 0 & 0 & 0 & 0 & 0 & 2 & 0 & 0 & 0 & 0 & 0 & 0 & 0 & 0 & 0 & 0 & 0 & 1 & 0 & 0 & 0 & 0 & 0 & 0 & 0 & 0 & 0 & 0 & 0 & 0 & 0 & 0 & 0 & 0 & 0 & 0 & 0 & 0 & 0 & 0 & 0 & 0 & 0 & 0 & 0 & 0 & 0 & 1 & 0 & 1 & 0 & 0 & 0 & 0 & 0 & 1 & 0 & 0 & 0 & 0 & 0 & 1 & 0 & 0 & 0 & 0 & 0 & 0 & 0 & 0 & 0 & 0 & 0 & 0 & 0 & 0 & 0 & 0 & 0 & 0 & 0 & 0 & 0 & 0 & 0 & 0 & 0 & 0 & 0 & 0 & 0 & 0 & 0 & 0 & 0 & 0 & 1 & 0 & 0 & 0 & 0 & 0 & 0 & 0 & 0 & 0 & 1 & 0 & 0 & 0 & 1 & 0 & 0 & 0 & 0 & 0 & 2 & 0 & 0 & 0 & 0 & 0 & 0 & 1 & 0 & 0 & 0 & 0 & 1 & 0 & 0 & 0 & 0 & 0 & 0 & 0 & 0 & 1 & 0 & 0 & 0 & 0 & 0 & 0 & 0 & 0 & 0 & 0 & 0 & 0 & 0 & 0 & 0 & 0 & 0 & 0 & 0 & 0 & 0 & 0 & 0 & 0 & 0 & 0 & 0 & 0 & 0 & 0 & 0 & 0 & 0 & 0 & 0 & 0 & 0 & 0 & 0 & 0 & 0 & 0 & 0 & 0 & 0 & 0 & 0 & 0 & 1 & 1 & 0 & 0 & 0 & 0 & 0 & 0 & 0 & 0 & 0 & 0 & 0 & 0 & 0 & 0 & 0 & 0 & 0 & 0 & 0 & 0 & 0 & 0 & 0 & 0 & 0 & 0 & 0 & 0 & 0 & 2 & 0 & 0 & 0 & 0 & 0 & 0 & 2 & 0 & 0 & 0 & 1 & 0 & 1 & 0 & 0 & 0 & 0 & 0 & 0 & 0 & 0 & 0 & 0 & 0 & 0 & 0 & 0 & 0 & 0 & 0 & 0 & 0 & 0 & 0 & 0 & 0 & 0 & 0 & 0 & 0 & 0 & 0 & 0 & 0 & 0 & 0 & 0 & 0 & 0 & 0 & 0 & 0 & 0 & 0 & 0 & 0 & 0 & 0 & 0 & 0 & 0 & 0 & 0 & 0 & 0 & 0 & 0 & 0 & 0 & 0 & 0 & 0 & 0 & 0 & 0 & 1 & 0 & 0 & 0 & 0 & 0 & 0 & 0 & 0 & 0 & 1 & 0 & 0 & 0 & 0 & 0 & 0 & 0 & 0 & 0 & 0 & 0 & 0 & 0 & 0 & 0 & 0 & 0 & 0 & 0 & 0 & 0 & 0 & 0 & 0 & 0 & 0 & 0 & 0 & 0 & 0 & 0 & 0 & 0 & 0 & 0 & 0 & 0 & 0 & 0 & 0 & 0 & 0 & 0 & 0 & 0 & 0 & 0 & 0 & 0 & 0 & 0 & 0 & 0 & 0 & 0 & 0 & 0 & 0 & 0 & 0 & 0 & 0 & 1 & 0 & 0 & 0 & 0 & 0 & 1 & 0 & 0 & 0 & 0 & 0 & 0 & 0 & 0 & 0 & 0 & 0 & 0 & 0 & 0 & 0 & 0 & 0 & 0 & 1 & 0 & 0 & 0 & 0 & 0 & 0 & 2 & 0 & 0 & 3 & 3 & 0 & 0 & 0 & 0 & 0 & 0 & 0 & 0 & 0 & 0 & 0 & 0 & 1 & 0 & 0 & 1 & 0 & 0 & 0 & 0 & 0 & 0 & 0 & 0 & 0 & 0 & 0 & 0 & 0 & 0 & 0 & 0 & 0 & 0 & 1 & 0 & 0 & 0 & 0 & 0 & 0 & 0 & 0 & 0 & 0 & 0 & 0 & 0 & 0 & 0 & 0 & 0 & 0 & 0 & 0 & 0 & 1 & 0 & 0 & 0 & 0 & 0 & 0 & 0 & 0 & 0 & 0 & 0 & 0 & 0 & 0 & 0 & 0 & 0 & 0 & 0 & 0 & 0 & 0 & 0 & 0 & 0 & 0 & 0 & 0 & 0 & 0 & 0 & 0 & 0 & 0 & 0 & 0 & 0 & 0 & 0 & 0 & 0 & 0 & 0 & 0 & 0 & 0 & 0 & 0 & 0 & 0 & 0 & 1 & 0 & 0 & 0 & 0 & 0 & 0 & 0 & 0 & 0 & 0 & 0 & 0 & 0 & 0 & 0 & 0 & 0 & 0 & 0 & 0 & 0 & 0 & 0 & 0 & 0 & 0 & 0 & 1 & 0 & 0 & 0 & 0 & 0 & 0 & 0 & 0 & 0 & 0 & 0 & 0 & 0 & 0 & 0 & 0 & 0 & 0 & 0 & 0 & 0 & 0 & 0 & 0 & 1 & 0 & 0 & 0 & 0 & 0 & 0 & 0 & 1 & 1 & 1 & 0 & 0 & 0 & 0 & 0 & 0 & 0 & 0 & 0 & 0 & 0 & 0 & 0 & 0 & 0 & 0 & 0 & 0 & 0 & 0 & 0 & 0 & 0 & 0 & 0 & 0 & 0 & 0 & 0 & 0 & 0 & 0 & 0 & 0 & 1 & 5 & 0 & 1 & 1 & 0 & 0 & 0 & 0 & 0 & 0 & 0 & 0 & 0 & 0 & 0 & 0 & 0 & 1 & 0 & 1 & 0 & 0 & 0 & 0 & 0 & 0 & 1 & 0 & 0 & 0 & 0 & 0 & 0 & 0 & 0 & 0 & 0 & 0 & 0 & 0 & 0 & 0 & 0 & 0 & 0 & 0 & 0 & 1 & 0 & 0 & 0 & 0 & 0 & 0 & 0 & 0 & 1 & 0 & 0 & 0 & 0 & 0 & 0 & 0 & 0 & 1 & 0 & 0 & 0 & 1 & 0 & 0 & 2 & 0 & 0 & 0 & 0 & 0 & 0 & 0 & 0 & 0 & 0 & 0 & 0 & 0 & 1 & 0 & 0 & 0 & 0 & 0 & 0 & 0 & 0 & 0 & 0 & 0 & 0 & 0 & 0 & 0 & 0 & 0 & 0 & 0 & 0 & 0 & 0 & 0 & 0 & 0 & 0 & 0 & 0 & 0 & 0 & 0 & 0 & 0 & 0 & 0 & 0 & 0 & 0 & 0 & 0 & 0 & 0 & 0 & 0 & 0 & 0 & 0 & 0 & 0 & 0 & 0 & 0 & 0 & 0 & 0 & 0 & 0 & 0 & 0 & 0 & 1 & 0 & 0 & 0 & 0 & 1 & 0 & 0 & 1 & 0 & 0 & 0 & 0 & 1 & 0 & 0 & 0 & 0 & 0 & 0 & 0 & 0 & 0 & 0 & 0 & 0 & 0 & 0 & 0 & 0 & 0 & 0 & 0 & 0 & 0 & 0 & 0 & 0 & 0 & 1 & 0 & 0 & 0 & 0 & 0 & 0 & 0 & 0 & 0 & 0 & 0 & 0 & 0 & 0 & 0 & 0 & 0 & 0 & 0 & 1 & 0 & 0 & 0 & 0 & 0 & 1 & 0 & 0 & 0 & 1 & 0 & 0 & 0 & 0 & 0 & 0 & 0 & 0 & 0 & 0 & 0 & 0 & 0 & 0 & 1 & 0 & 0 & 1 & 1 & 1 & 1 & 0 & 0 & 0 & 0 & 0 & 0 & 0 & 0 & 0 & 0 & 0 & 0 & 0 & 0 & 0 & 0 & 0 & 0 & 1 & 0 & 0 & 0 & 1 & 1 & 0 & 0 & 0 & 0 & 0 & 0 & 0 & 1 & 0 & 0 & 0 & 1 & 0 & 0 & 0 & 0 & 0 & 0 & 0 & 0 & 0 & 0 & 0 & 0 & 0 & 0 & 0 & 0 & 1 & 0 & 0 & 1 & 1 & 0 & 0 & 0 & 1 & 0 & 1 & 0 & 0 & 0 & 0 & 2 & 0 & 0 & 0 & 0 & 0 & 0 & 0 & 0 & 0 & 3 & 0 & 1 & 0 & 1 & 0 & 0 & 0 & 0 & 0 & 0 & 0 & 0 & 1 & 1 & 1 & 1 & 0 & 0 & 0 & 1 & 1 & 0 & 0 & 0 & 0 & 0 & 0 & 0 & 0 & 0 & 0 & 0 & 0 & 0 & 0 & 0 & 0 & 0 & 0 & 0 & 1 & 0 & 0 & 0 & 0 & 0 & 0 & 0 & 0 & 0 & 0 & 0 & 0 & 1 & 0 & 0 & 1 & 0 & 0 & 0 & 0 & 1 & 0 & 1 & 1 & 0 & 0 & 0 & 0 & 0 & 0 & 0 & 0 & 0 & 0 & 0 & 0 & 0 & 0 & 0 & 0 & 0 & 0 & 0 & 0 & 0 & 0 & 0 & 0 & 0 & 0 & 0 & 0 & 0 & 2 & 0 & 0 & 0 & 0 & 1 & 0 & 0 & 0 & 0 & 3 & 0 & 1 & 1 & 0 & 0 & 0 & 0 & 1 & 0 & 0 & 0 & 1 & 1 & 1 & 1 & 1 & 0 & 0 & 0 & 0 & 0 & 0 & 0 & 0 & 0 & 1 & 0 & 0 & 0 & 0 & 0 & 0 & 0 & 0 & 1 & 0 & 0 & 0 & 0 & 0 & 0 & 0 & 0 & 0 & 0 & 0 & 0 & 0 & 0 & 0 & 0 & 0 & 0 & 0 & 0 & 0 & 0 & 0 & 0 & 0 & 0 & 0 & 0 & 0 & 0 & 0 & 0 & 0 & 0 & 0 & 0 & 0 & 0 & 0 & 0 & 0 & 0 & 1 & 1 & 0 & 1 & 1 & 1 & 1 & 1 & 1 & 0 & 0 & 0 & 0 & 0 & 0 & 0 & 0 & 0 & 0 & 0 & 0 & 0 & 0 & 0 & 0 & 0 & 1 & 0 & 0 & 0 & 0 & 0 & 0 & 0 & 0 & 0 & 0 & 0 & 0 & 0 & 0 & 0 & 0 & 0 & 0 & 0 & 0 & 0 & 0 & 0 & 0 & 0 & 0 & 0 & 0 & 0 & 0 & 0 & 0 & 0 & 0 & 0 & 0 & 1 & 0 & 0 & 1 & 0 & 0 & 0 & 0 & 1 & 0 & 0 & 0 & 0 & 1 & 0 & 1 & 2 & 0 & 0 & 0 & 1 & 0 & 0 & 0 & 1 & 0 & 0 & 0 & 0 & 1 & 2 & 2 & 0 & 0 & 0 & 0 & 0 & 0 & 0 & 0 & 0 & 0 & 0 & 0 & 0 & 0 & 0 & 0 & 0 & 0 & 0 & 0 & 1 & 1 & 0 & 1 & 0 & 0 & 0 & 0 & 0 & 0 & 0 & 0 & 0 & 1 & 1 & 0 & 0 & 0 & 0 & 0 & 0 & 0 & 0 & 0 & 1 & 0 & 1 & 1 & 1 & 1 & 1 & 0 & 0 & 0 & 0 & 0 & 0 & 0 & 0 & 0 & 0 & 0 & 0 & 1 & 0 & 0 & 0 & 0 & 0 & 0 & 1 & 1 & 1 & 1 & 0 & 0 & 0 & 0 & 0 & 0 & 0 & 0 & 0 & 0 & 0 & 0 & 0 & 0 & 0 & 0 & 0 & 0 & 0 & 0 & 0 & 0 & 0 & 0 & 0 & 0 & 0 & 0 & 0 & 0 & 0 & 0 & 0 & 0 & 0 & 0 & 0 & 0 & 0 & 0 & 0 & 0 & 0 & 0 & 0 & 0 & 0 & 0 & 0 & 0 & 0 & 0 & 0 & 0 & 0 & 0 & 0 & 0 & 0 & 0 & 0 & 0 & 0 & 1 & 1 & 0 & 0 & 0 & 0 & 0 & 0 & 0 & 0 & 0 & 0 & 0 & 0 & 0 & 0 & 0 & 0 & 0 & 0 & 0 & 0 & 0 & 0 & 1 & 1 & 1 & 1 & 1 & 0 & 0 & 0 & 1 & 0 & 1 & 0 & 0 & 0 & 0 & 1 & 0 & 0 & 0 & 0 & 0 & 0 & 0 & 0 & 0 & 0 & 0 & 0 & 0 & 0 & 0 & 0 & 1 & 0 & 0 & 0 & 0 & 0 & 0 & 0 & 0 & 1 & 0 & 0 & 0 & 0 & 0 & 0 & 0 & 0 & 0 & 0 & 0 & 0 & 0 & 0 & 0 & 0 & 0 & 0 & 0 & 0 & 0 & 0 & 0 & 0 & 0 & 0 & 0 & 0 & 1 & 0 & 1 & 0 & 0 & 0 & 0 & 0 & 0 & 0 & 0 & 0 & 0 & 0 & 0 & 0 & 0 & 0 & 0 & 0 & 0 & 0 & 0 & 0 & 0 & 0 & 0 & 0 & 1 & 0 & 0 & 0 & 0 & 0 & 1 & 0 & 0 & 0 & 0 & 0 & 0 & 0 & 0 & 0 & 0 & 0 & 0 & 0 & 0 & 0 & 1 & 0 & 1 & 1 & 1 & 0 & 1 & 0 & 0 & 0 & 0 & 0 & 0 & 0 & 0 & 0 & 0 & 0 & 0 & 0 & 0 & 0 & 0 & 0 & 0 & 0 & 0 & 0 & 0 & 0 & 0 & 0 & 0 & 0 & 0 & 0 & 0 & 0 & 0 & 0 & 0 & 0 & 0 & 0 & 0 & 0 & 0 & 0 & 0 & 0 & 0 & 0 & 0 & 0 & 0 & 0 & 0 & 0 & 0 & 0 & 0 & 0 & 0 & 0 & 0 & 0 & 0 & 0 & 0 & 0 & 0 & 0 & 0 & 0 & 0 & 0 & 0 & 0 & 0 & 0 & 0 & 0 & 0 & 1 & 0 & 0 & 0 & 0 & 0 & 0 & 0 & 0 & 0 & 0 & 0 & 0 & 0 & 0 & 0 & 0 & 0 & 0 & 0 & 1 & 0 & 0 & 0 & 0 & 0 & 0 & 0 & 0 & 0 & 0 & 0 & 0 & 1 & 1 & 1 & 0 & 0 & 0 & 0 & 0 & 0 & 0 & 0 & 0 & 0 & 0 & 0 & 0 & 0 & 0 & 0 & 0 & 0 & 0 & 0 & 0 & 0 & 0 & 0 & 0 & 0 & 0 & 0 & 0 & 0 & 1 & 1 & 1 & 1 & 1 & 0 & 1 & 0 & 0 & 0 & 0 & 0 & 0 & 0 & 0 & 0 & 0 & 0 & 0 & 0 & 0 & 0 & 0 & 0 & 0 & 0 & 0 & 0 & 0 & 0 & 0 & 0 & 0 & 0 & 0 & 0 & 0 & 0 & 0 & 0 & 0 & 0 & 0 & 0 & 0 & 0 & 0 & 0 & 0 & 0 & 0 & 0 & 0 & 0 & 0 & 0 & 0 & 0 & 0 & 0 & 0 & 0 & 0 & 0 & 0 & 0 & HA\\\\\n",
       "\t GCA\\_000308215 & 2 & 3 & 3 & 3 & 3 & 6 & 4 & 60 & 1 & 2 & 1 & 1 & 3 & 3 & 1 & 2 & 1 & 2 & 6 & 1 & 1 & 1 & 1 & 2 & 3 & 3 & 3 & 3 & 4 & 7 & 4 & 7 & 9 & 15 & 12 & 1 & 1 & 1 & 1 & 1 & 1 & 2 & 2 & 3 & 1 & 3 & 3 & 3 & 5 & 4 & 1 & 1 & 1 & 1 & 1 & 1 & 1 & 1 & 1 & 1 & 1 & 1 & 1 & 1 & 1 & 1 & 1 & 1 & 1 & 1 & 1 & 1 & 1 & 1 & 1 & 1 & 1 & 1 & 1 & 1 & 1 & 1 & 1 & 1 & 1 & 1 & 1 & 1 & 1 & 1 & 1 & 1 & 1 & 1 & 1 & 1 & 1 & 1 & 1 & 1 & 1 & 1 & 1 & 1 & 1 & 1 & 1 & 1 & 1 & 1 & 1 & 1 & 1 & 1 & 1 & 1 & 1 & 1 & 1 & 1 & 1 & 1 & 1 & 1 & 1 & 1 & 1 & 1 & 1 & 1 & 1 & 1 & 1 & 3 & 8 & 8 & 1 & 1 & 1 & 1 & 1 & 1 & 1 & 1 & 1 & 1 & 1 & 1 & 1 & 1 & 1 & 1 & 1 & 1 & 1 & 1 & 1 & 1 & 1 & 1 & 1 & 1 & 1 & 1 & 1 & 1 & 1 & 1 & 1 & 1 & 1 & 1 & 1 & 1 & 1 & 1 & 1 & 1 & 1 & 2 & 1 & 1 & 1 & 1 & 1 & 1 & 1 & 1 & 1 & 1 & 1 & 1 & 1 & 1 & 1 & 1 & 1 & 1 & 1 & 1 & 0 & 1 & 1 & 1 & 1 & 1 & 1 & 1 & 1 & 1 & 1 & 2 & 1 & 1 & 1 & 1 & 1 & 1 & 2 & 2 & 2 & 2 & 1 & 2 & 4 & 1 & 1 & 1 & 1 & 1 & 1 & 1 & 1 & 1 & 1 & 1 & 1 & 1 & 1 & 1 & 1 & 1 & 1 & 1 & 1 & 1 & 1 & 1 & 1 & 1 & 1 & 1 & 1 & 1 & 1 & 1 & 1 & 1 & 1 & 1 & 1 & 1 & 1 & 1 & 1 & 1 & 1 & 1 & 1 & 1 & 1 & 1 & 1 & 1 & 1 & 1 & 1 & 1 & 1 & 1 & 1 & 1 & 1 & 1 & 1 & 1 & 1 & 1 & 1 & 2 & 0 & 1 & 3 & 1 & 1 & 3 & 2 & 2 & 2 & 3 & 3 & 1 & 1 & 1 & 1 & 1 & 1 & 1 & 1 & 1 & 1 & 1 & 1 & 1 & 1 & 1 & 1 & 1 & 1 & 1 & 1 & 2 & 1 & 1 & 1 & 1 & 1 & 1 & 1 & 1 & 1 & 1 & 1 & 1 & 1 & 1 & 1 & 1 & 1 & 1 & 1 & 1 & 1 & 3 & 1 & 1 & 1 & 2 & 1 & 4 & 1 & 1 & 1 & 3 & 1 & 1 & 1 & 1 & 1 & 1 & 1 & 1 & 1 & 1 & 1 & 1 & 1 & 1 & 1 & 1 & 1 & 1 & 1 & 1 & 1 & 1 & 1 & 1 & 1 & 1 & 1 & 1 & 1 & 1 & 1 & 1 & 1 & 1 & 1 & 1 & 1 & 1 & 1 & 1 & 1 & 1 & 1 & 1 & 2 & 2 & 3 & 2 & 1 & 1 & 6 & 4 & 1 & 2 & 2 & 6 & 1 & 1 & 1 & 1 & 1 & 1 & 1 & 1 & 1 & 1 & 1 & 1 & 1 & 1 & 1 & 1 & 1 & 1 & 1 & 1 & 1 & 1 & 1 & 1 & 1 & 1 & 1 & 1 & 1 & 1 & 1 & 1 & 1 & 1 & 1 & 1 & 0 & 1 & 1 & 1 & 1 & 2 & 1 & 2 & 2 & 1 & 1 & 1 & 1 & 1 & 1 & 1 & 1 & 1 & 0 & 1 & 1 & 1 & 1 & 2 & 1 & 1 & 1 & 1 & 1 & 1 & 1 & 0 & 3 & 1 & 1 & 2 & 2 & 1 & 1 & 1 & 1 & 1 & 1 & 1 & 1 & 1 & 1 & 1 & 1 & 1 & 1 & 1 & 1 & 1 & 1 & 1 & 2 & 1 & 2 & 2 & 1 & 1 & 1 & 1 & 1 & 1 & 1 & 1 & 1 & 1 & 1 & 1 & 1 & 1 & 1 & 1 & 1 & 1 & 3 & 3 & 1 & 1 & 1 & 1 & 1 & 1 & 1 & 1 & 1 & 1 & 1 & 1 & 2 & 3 & 1 & 1 & 1 & 1 & 1 & 1 & 0 & 1 & 1 & 1 & 3 & 1 & 0 & 0 & 1 & 1 & 1 & 1 & 0 & 2 & 1 & 1 & 1 & 1 & 1 & 1 & 0 & 1 & 1 & 1 & 1 & 1 & 1 & 1 & 1 & 2 & 0 & 4 & 6 & 1 & 1 & 1 & 1 & 1 & 1 & 3 & 1 & 2 & 2 & 1 & 1 & 1 & 1 & 1 & 1 & 1 & 1 & 1 & 4 & 4 & 1 & 1 & 1 & 1 & 0 & 1 & 0 & 0 & 1 & 1 & 1 & 1 & 1 & 1 & 1 & 1 & 1 & 1 & 1 & 1 & 1 & 1 & 1 & 1 & 1 & 0 & 1 & 0 & 1 & 1 & 1 & 1 & 1 & 1 & 1 & 1 & 1 & 0 & 1 & 0 & 1 & 0 & 0 & 1 & 1 & 1 & 1 & 1 & 2 & 0 & 2 & 1 & 1 & 0 & 0 & 1 & 1 & 1 & 0 & 1 & 0 & 0 & 0 & 0 & 0 & 1 & 1 & 1 & 1 & 0 & 4 & 0 & 1 & 1 & 1 & 0 & 0 & 0 & 0 & 1 & 0 & 1 & 1 & 0 & 2 & 0 & 0 & 0 & 0 & 1 & 1 & 0 & 0 & 1 & 1 & 2 & 4 & 12 & 0 & 0 & 0 & 1 & 2 & 0 & 2 & 3 & 2 & 0 & 0 & 3 & 2 & 0 & 0 & 0 & 0 & 1 & 0 & 1 & 2 & 0 & 0 & 0 & 0 & 0 & 1 & 2 & 0 & 2 & 1 & 5 & 2 & 2 & 0 & 1 & 1 & 0 & 0 & 1 & 0 & 0 & 0 & 1 & 0 & 0 & 0 & 3 & 1 & 0 & 0 & 1 & 0 & 0 & 1 & 0 & 0 & 0 & 2 & 1 & 0 & 0 & 1 & 1 & 1 & 1 & 1 & 0 & 0 & 0 & 0 & 0 & 0 & 1 & 1 & 1 & 4 & 1 & 1 & 0 & 1 & 0 & 0 & 1 & 0 & 1 & 0 & 0 & 1 & 0 & 0 & 1 & 0 & 1 & 0 & 0 & 0 & 1 & 2 & 0 & 0 & 0 & 0 & 1 & 1 & 0 & 1 & 0 & 1 & 1 & 3 & 0 & 0 & 0 & 1 & 0 & 1 & 1 & 1 & 1 & 2 & 0 & 1 & 0 & 2 & 0 & 1 & 1 & 2 & 1 & 0 & 0 & 1 & 1 & 0 & 0 & 0 & 2 & 1 & 1 & 2 & 6 & 1 & 0 & 0 & 0 & 0 & 0 & 0 & 1 & 0 & 1 & 1 & 0 & 0 & 0 & 1 & 1 & 1 & 2 & 0 & 0 & 0 & 1 & 0 & 0 & 0 & 0 & 0 & 1 & 0 & 1 & 0 & 0 & 0 & 0 & 1 & 0 & 0 & 1 & 1 & 1 & 4 & 0 & 0 & 0 & 0 & 1 & 0 & 0 & 0 & 1 & 1 & 2 & 2 & 0 & 2 & 0 & 0 & 4 & 1 & 0 & 0 & 0 & 0 & 1 & 1 & 0 & 0 & 0 & 0 & 0 & 1 & 0 & 0 & 0 & 0 & 0 & 0 & 1 & 4 & 1 & 0 & 0 & 0 & 1 & 1 & 0 & 1 & 2 & 0 & 1 & 0 & 0 & 0 & 1 & 0 & 0 & 0 & 0 & 1 & 2 & 0 & 0 & 0 & 2 & 1 & 1 & 2 & 0 & 0 & 1 & 0 & 0 & 0 & 2 &  0 & 0 & 0 & 2 & 0 & 0 & 2 & 1 & 0 & 0 & 0 & 0 & 0 & 0 & 0 & 0 & 0 & 1 & 0 & 0 & 1 & 2 & 1 & 1 & 0 & 0 & 0 & 1 & 1 & 0 & 2 & 2 & 0 & 0 & 1 & 1 & 0 & 1 & 1 & 0 & 1 & 1 & 1 & 1 & 1 & 0 & 0 & 1 & 1 & 1 & 1 & 2 & 1 & 0 & 3 & 1 & 2 & 3 & 3 & 4 & 0 & 1 & 1 & 1 & 1 & 1 & 1 & 1 & 1 & 1 & 1 & 1 & 0 & 0 & 1 & 1 & 1 & 1 & 1 & 1 & 1 & 1 & 1 & 1 & 1 & 1 & 1 & 1 & 1 & 0 & 1 & 1 & 1 & 0 & 2 & 2 & 1 & 0 & 0 & 1 & 0 & 1 & 1 & 1 & 0 & 0 & 1 & 1 & 0 & 1 & 1 & 0 & 0 & 0 & 1 & 1 & 1 & 1 & 1 & 1 & 1 & 1 & 1 & 1 & 1 & 1 & 1 & 0 & 1 & 0 & 1 & 0 & 1 & 2 & 2 & 1 & 1 & 1 & 1 & 1 & 0 & 1 & 0 & 3 & 1 & 1 & 2 & 2 & 2 & 1 & 2 & 2 & 3 & 1 & 9 & 5 & 0 & 1 & 0 & 1 & 0 & 0 & 1 & 1 & 1 & 1 & 1 & 1 & 0 & 1 & 1 & 0 & 0 & 1 & 0 & 1 & 1 & 1 & 0 & 1 & 1 & 1 & 1 & 1 & 1 & 1 & 1 & 1 & 0 & 1 & 1 & 1 & 1 & 1 & 1 & 1 & 1 & 1 & 1 & 0 & 0 & 0 & 2 & 1 & 0 & 1 & 1 & 1 & 2 & 2 & 2 & 1 & 0 & 1 & 1 & 1 & 1 & 1 & 1 & 0 & 0 & 0 & 0 & 0 & 1 & 1 & 1 & 0 & 1 & 0 & 0 & 1 & 0 & 0 & 1 & 1 & 0 & 0 & 1 & 1 & 1 & 1 & 1 & 0 & 0 & 1 & 0 & 1 & 1 & 1 & 0 & 0 & 0 & 0 & 0 & 0 & 1 & 1 & 1 & 1 & 1 & 1 & 1 & 1 & 0 & 1 & 2 & 0 & 1 & 1 & 1 & 1 & 1 & 0 & 1 & 1 & 1 & 1 & 0 & 1 & 0 & 1 & 2 & 0 & 1 & 2 & 0 & 0 & 1 & 1 & 0 & 2 & 3 & 4 & 1 & 3 & 0 & 4 & 0 & 0 & 0 & 1 & 1 & 1 & 1 & 0 & 1 & 0 & 0 & 0 & 0 & 0 & 0 & 1 & 0 & 1 & 1 & 1 & 1 & 1 & 1 & 1 & 1 & 1 & 1 & 0 & 0 & 0 & 1 & 0 & 1 & 0 & 0 & 1 & 0 & 1 & 1 & 0 & 1 & 0 & 0 & 1 & 0 & 0 & 1 & 1 & 0 & 0 & 0 & 1 & 1 & 0 & 1 & 1 & 1 & 1 & 1 & 0 & 1 & 1 & 1 & 0 & 1 & 1 & 0 & 1 & 1 & 1 & 0 & 0 & 0 & 1 & 1 & 0 & 2 & 1 & 0 & 0 & 0 & 1 & 1 & 1 & 0 & 1 & 0 & 1 & 1 & 1 & 0 & 0 & 0 & 1 & 0 & 0 & 0 & 0 & 1 & 3 & 0 & 0 & 0 & 1 & 1 & 1 & 1 & 0 & 0 & 0 & 1 & 1 & 0 & 1 & 0 & 1 & 1 & 1 & 1 & 0 & 1 & 0 & 0 & 0 & 0 & 0 & 1 & 1 & 1 & 1 & 1 & 0 & 1 & 1 & 0 & 1 & 1 & 0 & 1 & 1 & 1 & 1 & 1 & 0 & 1 & 1 & 1 & 1 & 1 & 1 & 1 & 0 & 0 & 1 & 1 & 1 & 0 & 1 & 1 & 1 & 1 & 1 & 1 & 0 & 1 & 1 & 1 & 0 & 0 & 1 & 0 & 0 & 1 & 1 & 2 & 1 & 0 & 0 & 1 & 1 & 1 & 1 & 2 & 0 & 2 & 1 & 1 & 0 & 1 & 0 & 1 & 1 & 2 & 0 & 1 & 0 & 0 & 2 & 0 & 1 & 0 & 0 & 0 & 0 & 1 & 2 & 3 & 1 & 0 & 0 & 4 & 5 & 0 & 1 & 0 & 0 & 1 & 0 & 1 & 1 & 1 & 0 & 0 & 0 & 1 & 0 & 0 & 0 & 0 & 0 & 0 & 0 & 0 & 0 & 0 & 0 & 0 & 0 & 0 & 0 & 0 & 0 & 1 & 0 & 0 & 0 & 0 & 0 & 0 & 1 & 0 & 0 & 1 & 0 & 0 & 0 & 0 & 1 & 1 & 0 & 1 & 0 & 1 & 1 & 1 & 0 & 1 & 1 & 1 & 1 & 0 & 0 & 0 & 1 & 0 & 1 & 1 & 0 & 1 & 0 & 1 & 0 & 1 & 0 & 1 & 0 & 0 & 0 & 0 & 0 & 1 & 1 & 1 & 0 & 0 & 0 & 0 & 0 & 1 & 0 & 0 & 0 & 0 & 0 & 1 & 0 & 0 & 0 & 0 & 0 & 0 & 0 & 0 & 0 & 1 & 0 & 0 & 0 & 0 & 0 & 1 & 0 & 0 & 0 & 1 & 0 & 0 & 0 & 0 & 0 & 0 & 1 & 1 & 0 & 0 & 1 & 0 & 1 & 1 & 1 & 1 & 1 & 1 & 1 & 1 & 0 & 0 & 0 & 1 & 2 & 0 & 2 & 1 & 0 & 0 & 0 & 0 & 0 & 2 & 0 & 1 & 1 & 0 & 0 & 0 & 1 & 1 & 0 & 0 & 0 & 0 & 1 & 1 & 1 & 0 & 0 & 2 & 1 & 0 & 0 & 2 & 3 & 0 & 2 & 4 & 0 & 0 & 1 & 1 & 1 & 0 & 0 & 0 & 0 & 0 & 1 & 0 & 0 & 0 & 0 & 0 & 0 & 1 & 1 & 0 & 1 & 1 & 1 & 1 & 1 & 1 & 1 & 0 & 1 & 1 & 1 & 1 & 0 & 0 & 0 & 0 & 0 & 0 & 0 & 0 & 0 & 1 & 0 & 0 & 1 & 0 & 0 & 0 & 0 & 0 & 1 & 1 & 0 & 0 & 0 & 0 & 0 & 0 & 0 & 1 & 1 & 1 & 1 & 0 & 0 & 1 & 1 & 1 & 1 & 1 & 1 & 0 & 0 & 1 & 0 & 1 & 0 & 0 & 0 & 0 & 0 & 0 & 0 & 0 & 0 & 0 & 0 & 0 & 0 & 1 & 0 & 1 & 0 & 0 & 0 & 0 & 1 & 1 & 0 & 1 & 0 & 0 & 1 & 0 & 0 & 0 & 1 & 0 & 2 & 1 & 0 & 0 & 1 & 0 & 0 & 0 & 0 & 0 & 0 & 0 & 0 & 8 & 0 & 0 & 0 & 0 & 0 & 0 & 0 & 1 & 1 & 1 & 0 & 1 & 1 & 1 & 1 & 0 & 0 & 0 & 1 & 0 & 0 & 0 & 0 & 0 & 0 & 0 & 0 & 0 & 0 & 0 & 0 & 0 & 1 & 0 & 0 & 1 & 1 & 0 & 0 & 0 & 0 & 1 & 0 & 0 & 1 & 1 & 0 & 1 & 1 & 0 & 0 & 0 & 1 & 1 & 1 & 1 & 1 & 0 & 0 & 0 & 0 & 0 & 0 & 0 & 0 & 0 & 0 & 0 & 0 & 1 & 0 & 0 & 1 & 0 & 0 & 0 & 0 & 0 & 1 & 0 & 1 & 1 & 1 & 2 & 1 & 1 & 0 & 0 & 0 & 1 & 0 & 0 & 0 & 0 & 0 & 0 & 0 & 1 & 0 & 0 & 0 & 0 & 0 & 0 & 0 & 0 & 0 & 1 & 0 & 0 & 1 & 0 & 0 & 0 & 0 & 0 & 0 & 1 & 0 & 1 & 0 & 1 & 1 & 1 & 0 & 0 & 0 & 0 & 0 & 0 & 0 & 0 & 0 & 0 & 0 & 0 & 0 & 0 & 0 & 0 & 0 & 1 & 0 & 0 & 0 & 1 & 0 & 0 & 0 & 0 & 1 & 0 & 0 & 0 & 0 & 0 & 0 & 1 & 1 & 0 & 0 & 1 & 0 & 1 & 0 & 0 & 3 & 0 & 0 & 0 & 0 & 0 & 0 & 0 & 0 & 0 & 1 & 1 & 1 & 0 & 1 & 0 & 0 & 0 & 0 & 0 & 0 & 0 & 0 & 0 & 0 & 0 & 0 & 0 & 0 & 0 & 0 & 0 & 0 & 1 & 1 & 0 & 0 & 0 & 1 & 0 & 0 & 0 & 0 & 0 & 1 & 1 & 1 & 0 & 1 & 1 & 0 & 0 & 0 & 0 & 0 & 0 & 0 & 0 & 0 & 0 & 0 & 0 & 0 & 0 & 0 & 1 & 0 & 0 & 0 & 0 & 1 & 0 & 0 & 0 & 1 & 0 & 0 & 0 & 0 & 1 & 0 & 0 & 0 & 0 & 0 & 0 & 0 & 0 & 0 & 0 & 0 & 0 & 0 & 0 & 0 & 0 & 0 & 0 & 0 & 0 & 0 & 1 & 0 & 0 & 0 & 0 & 0 & 0 & 0 & 1 & 1 & 1 & 1 & 0 & 0 & 0 & 0 & 0 & 0 & 0 & 0 & 0 & 0 & 0 & 0 & 0 & 1 & 0 & 1 & 0 & 0 & 0 & 0 & 0 & 1 & 1 & 0 & 0 & 0 & 0 & 0 & 0 & 0 & 0 & 0 & 0 & 1 & 0 & 0 & 0 & 0 & 0 & 0 & 0 & 0 & 0 & 0 & 0 & 0 & 0 & 0 & 0 & 0 & 0 & 0 & 0 & 1 & 0 & 1 & 1 & 0 & 0 & 0 & 0 & 0 & 0 & 0 & 0 & 0 & 0 & 0 & 0 & 1 & 0 & 0 & 0 & 0 & 0 & 0 & 1 & 0 & 0 & 0 & 0 & 0 & 1 & 0 & 0 & 0 & 0 & 0 & 0 & 0 & 0 & 0 & 0 & 0 & 0 & 0 & 0 & 0 & 0 & 0 & 0 & 0 & 0 & 0 & 0 & 0 & 0 & 1 & 1 & 0 & 0 & 0 & 1 & 0 & 0 & 0 & 0 & 0 & 0 & 0 & 2 & 1 & 0 & 0 & 0 & 0 & 0 & 0 & 0 & 0 & 0 & 0 & 0 & 0 & 0 & 1 & 0 & 0 & 0 & 0 & 0 & 1 & 0 & 0 & 0 & 0 & 0 & 0 & 0 & 0 & 0 & 0 & 0 & 0 & 0 & 0 & 0 & 0 & 0 & 0 & 0 & 1 & 1 & 0 & 0 & 0 & 0 & 0 & 0 & 0 & 0 & 0 & 0 & 0 & 0 & 0 & 0 & 0 & 0 & 0 & 0 & 0 & 0 & 0 & 0 & 0 & 0 & 0 & 0 & 0 & 0 & 0 & 0 & 0 & 0 & 0 & 0 & 0 & 0 & 0 & 1 & 0 & 0 & 0 & 0 & 0 & 1 & 0 & 0 & 1 & 0 & 0 & 0 & 0 & 0 & 0 & 0 & 0 & 0 & 0 & 0 & 0 & 0 & 3 & 0 & 0 & 0 & 0 & 0 & 0 & 0 & 0 & 1 & 0 & 0 & 0 & 0 & 0 & 0 & 0 & 0 & 0 & 0 & 0 & 0 & 0 & 1 & 1 & 1 & 1 & 1 & 0 & 0 & 0 & 0 & 0 & 0 & 0 & 0 & 0 & 0 & 0 & 0 & 0 & 0 & 0 & 0 & 0 & 0 & 0 & 0 & 0 & 0 & 0 & 0 & 0 & 0 & 0 & 0 & 0 & 0 & 0 & 0 & 0 & 0 & 0 & 0 & 0 & 0 & 0 & 0 & 1 & 1 & 0 & 0 & 0 & 0 & 0 & 0 & 0 & 0 & 0 & 0 & 0 & 0 & 0 & 0 & 0 & 0 & 0 & 0 & 0 & 0 & 0 & 0 & 0 & 0 & 0 & 0 & 0 & 0 & 0 & 0 & 0 & 0 & 0 & 0 & 0 & 0 & 0 & 0 & 0 & 0 & 0 & 0 & 0 & 0 & 0 & 0 & 0 & 0 & 0 & 0 & 0 & 0 & 0 & 0 & 1 & 0 & 0 & 0 & 0 & 0 & 1 & 0 & 0 & 0 & 0 & 0 & 0 & 0 & 0 & 0 & 0 & 0 & 0 & 0 & 0 & 1 & 0 & 2 & 1 & 0 & 0 & 0 & 0 & 0 & 0 & 1 & 0 & 0 & 0 & 0 & 0 & 0 & 0 & 1 & 0 & 0 & 0 & 0 & 0 & 0 & 0 & 0 & 0 & 0 & 0 & 0 & 0 & 0 & 0 & 0 & 0 & 0 & 0 & 0 & 0 & 0 & 0 & 0 & 0 & 0 & 0 & 0 & 0 & 0 & 0 & 0 & 0 & 0 & 0 & 0 & 0 & 0 & 0 & 0 & 0 & 0 & 0 & 0 & 0 & 0 & 0 & 0 & 0 & 0 & 0 & 0 & 0 & 0 & 0 & 0 & 0 & 0 & 0 & 0 & 0 & 0 & 0 & 0 & 0 & 0 & 0 & 1 & 1 & 1 & 0 & 0 & 1 & 1 & 0 & 0 & 0 & 0 & 0 & 0 & 0 & 0 & 0 & 0 & 0 & 0 & 0 & 0 & 0 & 0 & 0 & 0 & 0 & 0 & 0 & 0 & 0 & 0 & 0 & 0 & 0 & 0 & 0 & 0 & 0 & 0 & 0 & 0 & 0 & 0 & 0 & 0 & 0 & 0 & 0 & 0 & 0 & 0 & 0 & 0 & 0 & 0 & 0 & 0 & 0 & 0 & 0 & 0 & 0 & 0 & 1 & 0 & 0 & 0 & 0 & 0 & 0 & 0 & 0 & 0 & 0 & 0 & 0 & 0 & 0 & 0 & 0 & 0 & 1 & 0 & 0 & 0 & 0 & 0 & 0 & 0 & 0 & 0 & 0 & 0 & 0 & 0 & 0 & 0 & 0 & 0 & 0 & 0 & 0 & 0 & 0 & 1 & 1 & 0 & 0 & 0 & 0 & 0 & 0 & 0 & 1 & 1 & 0 & 0 & 0 & 0 & 0 & 0 & 0 & 0 & 0 & 0 & 0 & 0 & 0 & 0 & 0 & 0 & 0 & 1 & 1 & 2 & 0 & 0 & 0 & 0 & 0 & 0 & 0 & 0 & 1 & 1 & 0 & 0 & 0 & 0 & 0 & 0 & 0 & 2 & 0 & 0 & 0 & 0 & 0 & 0 & 0 & 0 & 0 & 3 & 0 & 0 & 0 & 0 & 0 & 0 & 0 & 0 & 0 & 0 & 0 & 0 & 0 & 0 & 0 & 0 & 0 & 0 & 0 & 0 & 0 & 0 & 0 & 0 & 0 & 0 & 0 & 0 & 0 & 0 & 1 & 0 & 0 & 0 & 0 & 0 & 0 & 0 & 0 & 0 & 0 & 0 & 0 & 0 & 0 & 0 & 0 & 0 & 0 & 0 & 0 & 0 & 0 & 0 & 0 & 0 & 0 & 0 & 0 & 0 & 0 & 0 & 1 & 1 & 0 & 0 & 0 & 0 & 0 & 0 & 0 & 0 & 0 & 0 & 0 & 0 & 0 & 0 & 0 & 0 & 0 & 0 & 0 & 0 & 0 & 0 & 0 & 0 & 1 & 0 & 0 & 0 & 0 & 0 & 1 & 1 & 0 & 1 & 1 & 1 & 0 & 0 & 0 & 0 & 0 & 0 & 0 & 0 & 0 & 0 & 0 & 0 & 0 & 0 & 0 & 1 & 0 & 0 & 0 & 0 & 0 & 0 & 0 & 0 & 0 & 0 & 0 & 0 & 0 & 0 & 1 & 1 & 0 & 0 & 0 & 0 & 0 & 0 & 0 & 0 & 0 & 0 & 0 & 0 & 0 & 1 & 0 & 0 & 0 & 0 & 0 & 0 & 0 & 0 & 1 & 1 & 0 & 0 & 0 & 0 & 0 & 0 & 0 & 0 & 0 & 0 & 1 & 1 & 0 & 0 & 0 & 0 & 0 & 0 & 0 & 0 & 0 & 0 & 0 & 0 & 0 & 0 & 0 & 0 & 1 & 0 & 0 & 0 & 0 & 0 & 0 & 0 & 0 & 0 & 1 & 0 & 0 & 0 & 0 & 0 & 0 & 0 & 0 & 0 & 1 & 1 & 1 & 0 & 0 & 0 & 0 & 0 & 0 & 0 & 0 & 0 & 0 & 0 & 0 & 0 & 0 & 0 & 0 & 0 & 0 & 0 & 0 & 0 & 0 & 0 & 0 & 0 & 0 & 0 & 0 & 0 & 0 & 1 & 1 & 0 & 0 & 0 & 0 & 0 & 0 & 0 & 0 & 0 & 0 & 0 & 0 & 0 & 0 & 0 & 0 & 0 & 0 & 0 & 0 & 0 & 0 & 0 & 1 & 1 & 0 & 0 & 0 & 0 & 0 & 0 & 0 & 0 & 0 & 0 & 0 & 0 & 0 & 0 & 0 & 0 & FL\\\\\n",
       "\t GCA\\_000404225 & 1 & 2 & 2 & 2 & 3 & 3 & 1 & 32 & 1 & 1 & 0 & 0 & 1 & 2 & 0 & 1 & 1 & 0 & 0 & 1 & 0 & 1 & 0 & 1 & 1 & 1 & 2 & 3 & 2 & 2 & 3 & 3 & 3 &  9 & 16 & 1 & 1 & 1 & 1 & 1 & 0 & 1 & 1 & 1 & 1 & 1 & 2 & 0 & 3 & 0 & 0 & 1 & 0 & 1 & 0 & 0 & 0 & 0 & 0 & 1 & 1 & 1 & 0 & 1 & 0 & 0 & 1 & 0 & 0 & 1 & 1 & 1 & 1 & 0 & 1 & 0 & 1 & 1 & 1 & 1 & 1 & 0 & 1 & 0 & 0 & 0 & 0 & 1 & 1 & 1 & 1 & 1 & 0 & 0 & 1 & 1 & 1 & 0 & 0 & 0 & 1 & 0 & 0 & 1 & 0 & 1 & 0 & 1 & 0 & 0 & 0 & 0 & 0 & 0 & 0 & 1 & 1 & 1 & 1 & 0 & 0 & 1 & 0 & 0 & 1 & 1 & 0 & 1 & 0 & 0 & 0 & 0 & 2 & 0 & 2 & 0 & 1 & 1 & 0 & 1 & 1 & 1 & 0 & 0 & 0 & 1 & 0 & 0 & 1 & 0 & 1 & 1 & 0 & 0 & 1 & 1 & 0 & 0 & 0 & 1 & 1 & 1 & 1 & 1 & 1 & 0 & 0 & 0 & 0 & 1 & 1 & 1 & 1 & 1 & 1 & 0 & 1 & 1 & 1 & 0 & 0 & 0 & 0 & 1 & 1 & 1 & 0 & 0 & 0 & 0 & 0 & 1 & 0 & 1 & 0 & 0 & 0 & 0 & 0 & 0 & 0 & 0 & 1 & 0 & 1 & 1 & 1 & 0 & 1 & 0 & 1 & 1 & 1 & 1 & 0 & 0 & 0 & 2 & 1 & 0 & 0 & 2 & 0 & 1 & 0 & 1 & 0 & 0 & 1 & 1 & 1 & 1 & 1 & 1 & 0 & 1 & 1 & 0 & 1 & 1 & 1 & 1 & 0 & 1 & 1 & 0 & 0 & 0 & 0 & 0 & 1 & 0 & 0 & 0 & 1 & 0 & 1 & 1 & 1 & 1 & 1 & 1 & 1 & 1 & 0 & 1 & 0 & 1 & 0 & 0 & 1 & 1 & 0 & 0 & 1 & 0 & 1 & 0 & 0 & 1 & 1 & 1 & 0 & 1 & 0 & 1 & 1 & 0 & 1 & 0 & 0 & 0 & 1 & 1 & 1 & 0 & 1 & 0 & 0 & 0 & 0 & 0 & 0 & 1 & 0 & 0 & 0 & 1 & 0 & 1 & 0 & 0 & 1 & 0 & 0 & 1 & 0 & 1 & 0 & 1 & 0 & 0 & 0 & 0 & 1 & 0 & 0 & 0 & 1 & 1 & 0 & 0 & 0 & 0 & 0 & 1 & 1 & 0 & 0 & 1 & 0 & 1 & 0 & 0 & 1 & 0 & 0 & 0 & 1 & 0 & 1 & 0 & 0 & 1 & 1 & 0 & 1 & 1 & 0 & 1 & 0 & 1 & 0 & 1 & 1 & 0 & 0 & 0 & 0 & 0 & 0 & 1 & 1 & 0 & 1 & 0 & 0 & 1 & 1 & 0 & 1 & 0 & 1 & 0 & 0 & 0 & 0 & 1 & 0 & 0 & 0 & 0 & 0 & 0 & 1 & 0 & 0 & 0 & 0 & 0 & 1 & 0 & 1 & 0 & 0 & 0 & 1 & 0 & 1 & 3 & 0 & 0 & 0 & 0 & 0 & 0 & 1 & 0 & 0 & 0 & 0 & 0 & 0 & 1 & 1 & 1 & 1 & 1 & 1 & 0 & 0 & 0 & 0 & 0 & 1 & 0 & 0 & 1 & 1 & 0 & 1 & 1 & 0 & 0 & 0 & 0 & 0 & 1 & 1 & 0 & 0 & 0 & 0 & 1 & 2 & 0 & 0 & 0 & 1 & 0 & 1 & 0 & 1 & 1 & 0 & 1 & 1 & 1 & 0 & 0 & 0 & 0 & 0 & 0 & 0 & 0 & 1 & 0 & 0 & 0 & 1 & 1 & 1 & 1 & 0 & 0 & 1 & 0 & 0 & 0 & 1 & 1 & 1 & 0 & 0 & 0 & 1 & 1 & 1 & 0 & 1 & 0 & 0 & 0 & 0 & 0 & 0 & 1 & 1 & 0 & 0 & 0 & 0 & 0 & 0 & 0 & 0 & 0 & 1 & 0 & 0 & 1 & 1 & 0 & 2 & 3 & 1 & 1 & 1 & 1 & 1 & 0 & 0 & 0 & 1 & 0 & 0 & 0 & 1 & 1 & 0 & 1 & 0 & 0 & 0 & 1 & 1 & 1 & 0 & 1 & 3 & 0 & 0 & 0 & 0 & 0 & 0 & 0 & 0 & 0 & 1 & 1 & 0 & 0 & 1 & 1 & 0 & 0 & 0 & 0 & 0 & 0 & 1 & 0 & 0 & 0 & 0 & 1 & 0 & 0 & 0 & 0 & 0 & 0 & 0 & 0 & 1 & 1 & 1 & 0 & 0 & 1 & 0 & 0 & 0 & 1 & 0 & 1 & 1 & 3 & 1 & 1 & 0 & 0 & 0 & 1 & 0 & 0 & 0 & 0 & 0 & 0 & 0 & 0 & 0 & 1 & 0 & 0 & 0 & 0 & 0 & 0 & 0 & 0 & 1 & 0 & 0 & 0 & 0 & 1 & 2 & 1 & 1 & 0 & 0 & 0 & 0 & 0 & 1 & 0 & 0 & 0 & 0 & 0 & 1 & 0 & 0 & 1 & 0 & 0 & 1 & 0 & 0 & 0 & 0 & 0 & 1 & 1 & 0 & 1 & 0 & 0 & 1 & 0 & 0 & 0 & 0 & 2 & 0 & 0 & 2 & 0 & 1 & 0 & 1 & 0 & 0 & 0 & 0 & 0 & 0 & 0 & 0 & 0 & 0 & 0 & 0 & 1 & 0 & 0 & 0 & 0 & 1 & 0 & 1 & 0 & 2 &  0 & 0 & 0 & 0 & 0 & 0 & 0 & 0 & 0 & 0 & 1 & 0 & 1 & 0 & 0 & 0 & 0 & 0 & 0 & 0 & 1 & 0 & 0 & 0 & 0 & 0 & 0 & 1 & 0 & 0 & 0 & 0 & 0 & 0 & 0 & 0 & 1 & 1 & 0 & 0 & 0 & 1 & 0 & 0 & 0 & 0 & 0 & 0 & 0 & 0 & 0 & 0 & 1 & 0 & 0 & 1 & 0 & 0 & 0 & 0 & 0 & 0 & 0 & 0 & 0 & 0 & 0 & 0 & 0 & 0 & 0 & 0 & 0 & 0 & 1 & 0 & 0 & 3 & 0 & 0 & 0 & 1 & 0 & 0 & 0 & 0 & 2 & 0 & 0 & 1 & 0 & 0 & 0 & 1 & 0 & 0 & 0 & 0 & 1 & 4 & 0 & 0 & 0 & 0 & 0 & 0 & 0 & 0 & 0 & 0 & 0 & 2 & 0 & 0 & 0 & 0 & 0 & 1 & 1 & 1 & 1 & 0 & 0 & 1 & 0 & 0 & 1 & 0 & 2 & 2 & 1 & 0 & 1 & 1 & 1 & 0 & 0 & 0 & 0 & 0 & 0 & 1 & 2 & 0 & 0 & 0 & 0 & 0 & 0 & 0 & 0 & 0 & 0 & 0 & 0 & 0 & 0 & 0 & 1 & 0 & 0 & 0 & 0 & 0 & 0 & 0 & 0 & 1 & 0 & 0 & 0 & 0 & 0 & 0 & 0 & 0 & 0 & 0 & 0 & 0 & 0 & 1 & 1 & 0 & 0 & 0 & 0 & 1 & 0 & 0 & 0 & 0 & 0 & 0 & 1 & 0 & 0 & 0 & 2 & 0 & 1 & 0 & 0 & 0 & 0 & 0 & 0 & 0 & 0 & 0 & 1 & 0 & 0 & 0 & 0 & 0 & 0 & 0 & 0 & 0 & 0 & 0 & 1 & 0 & 0 & 0 & 0 & 0 & 0 & 0 & 0 & 0 & 1 & 0 & 0 & 0 & 0 & 0 & 0 & 0 & 0 & 0 & 1 & 0 & 0 & 0 & 2 & 0 & 0 & 0 & 0 & 0 & 0 & 0 & 0 & 0 & 0 &  2 & 1 & 0 & 1 & 0 & 2 & 0 & 0 & 3 & 0 & 0 & 0 & 0 & 0 & 0 & 1 & 0 & 0 & 0 & 0 & 0 & 0 & 0 & 0 & 0 & 1 & 0 & 1 & 1 & 0 & 2 & 1 & 0 & 0 & 0 & 1 & 0 & 0 & 0 & 0 & 0 & 0 & 0 & 0 & 0 & 0 & 0 & 0 & 0 & 0 & 0 & 0 & 0 & 0 & 0 & 0 & 1 & 0 & 0 & 0 & 0 & 0 & 0 & 0 & 1 & 1 & 1 & 0 & 0 & 0 & 0 & 1 & 0 & 0 & 0 & 1 & 0 & 1 & 0 & 0 & 1 & 0 & 0 & 0 & 0 & 0 & 0 & 0 & 0 & 0 & 1 & 0 & 1 & 0 & 1 & 0 & 0 & 0 & 0 & 0 & 0 & 0 & 1 & 0 & 0 & 0 & 0 & 1 & 0 & 0 & 0 & 0 & 0 & 0 & 0 & 0 & 0 & 1 & 0 & 0 & 0 & 1 & 1 & 0 & 0 & 0 & 1 & 0 & 0 & 0 & 0 & 0 & 0 & 0 & 0 & 0 & 0 & 0 & 0 & 0 & 0 & 0 & 0 & 0 & 0 & 0 & 0 & 0 & 0 & 0 & 0 & 0 & 0 & 0 & 0 & 0 & 0 & 0 & 0 & 0 & 0 & 0 & 0 & 0 & 0 & 0 & 0 & 0 & 0 & 0 & 0 & 1 & 1 & 0 & 0 & 0 & 0 & 1 & 0 & 0 & 1 & 0 & 0 & 1 & 0 & 0 & 0 & 0 & 0 & 0 & 1 & 0 & 0 & 2 & 0 & 0 & 1 & 0 & 0 & 0 & 0 & 0 & 0 & 0 & 0 & 0 & 0 & 0 & 0 & 1 & 0 & 0 & 0 & 0 & 0 & 0 & 0 & 0 & 1 & 0 & 0 & 0 & 0 & 0 & 0 & 0 & 0 & 0 & 0 & 0 & 0 & 1 & 0 & 0 & 0 & 0 & 0 & 0 & 1 & 0 & 0 & 0 & 0 & 0 & 0 & 0 & 0 & 0 & 0 & 0 & 0 & 0 & 0 & 0 & 0 & 0 & 0 & 0 & 0 & 0 & 0 & 0 & 0 & 1 & 0 & 0 & 1 & 0 & 0 & 0 & 1 & 0 & 0 & 0 & 0 & 0 & 0 & 0 & 0 & 0 & 0 & 0 & 0 & 0 & 0 & 0 & 0 & 0 & 0 & 0 & 0 & 0 & 0 & 2 & 0 & 0 & 0 & 0 & 0 & 0 & 0 & 0 & 1 & 1 & 1 & 0 & 0 & 0 & 0 & 0 & 0 & 0 & 0 & 0 & 0 & 0 & 0 & 0 & 1 & 0 & 0 & 0 & 0 & 0 & 0 & 0 & 0 & 0 & 0 & 0 & 1 & 0 & 0 & 0 & 0 & 0 & 0 & 0 & 1 & 0 & 0 & 0 & 0 & 0 & 1 & 0 & 0 & 0 & 0 & 0 & 0 & 0 & 1 & 0 & 0 & 1 & 0 & 1 & 1 & 0 & 1 & 0 & 1 & 1 & 0 & 1 & 0 & 0 & 0 & 0 & 0 & 0 & 0 & 0 & 0 & 0 & 0 & 0 & 0 & 0 & 1 & 1 & 0 & 0 & 0 & 0 & 0 & 0 & 0 & 0 & 0 & 1 & 1 & 0 & 0 & 0 & 1 & 1 & 0 & 0 & 0 & 0 & 0 & 0 & 0 & 1 & 0 & 0 & 0 & 0 & 1 & 0 & 0 & 0 & 0 & 0 & 1 & 0 & 0 & 0 & 0 & 0 & 0 & 0 & 0 & 0 & 0 & 0 & 0 & 0 & 0 & 0 & 0 & 0 & 0 & 0 & 0 & 0 & 0 & 0 & 0 & 0 & 0 & 0 & 0 & 0 & 0 & 0 & 0 & 0 & 0 & 1 & 0 & 0 & 0 & 0 & 1 & 0 & 0 & 0 & 0 & 0 & 0 & 0 & 1 & 0 & 0 & 0 & 0 & 0 & 0 & 0 & 0 & 0 & 0 & 0 & 1 & 0 & 0 & 0 & 0 & 1 & 0 & 0 & 0 & 0 & 0 & 0 & 0 & 0 & 0 & 0 & 0 & 0 & 0 & 0 & 0 & 0 & 0 & 0 & 0 & 0 & 0 & 0 & 0 & 0 & 0 & 0 & 0 & 0 & 1 & 0 & 0 & 0 & 0 & 0 & 1 & 0 & 0 & 0 & 0 & 0 & 1 & 0 & 0 & 0 & 0 & 0 & 0 & 0 & 0 & 0 & 0 & 0 & 0 & 0 & 0 & 0 & 0 & 0 & 0 & 0 & 0 & 0 & 0 & 0 & 0 & 0 & 0 & 0 & 0 & 0 & 0 & 0 & 0 & 0 & 0 & 0 & 0 & 0 & 0 & 0 & 0 & 1 & 1 & 0 & 0 & 0 & 0 & 0 & 0 & 0 & 0 & 0 & 0 & 0 & 0 & 0 & 0 & 0 & 1 & 0 & 0 & 0 & 0 & 0 & 0 & 0 & 0 & 0 & 0 & 0 & 0 & 0 & 0 & 0 & 0 & 0 & 0 & 0 & 0 & 0 & 0 & 0 & 0 & 0 & 0 & 0 & 0 & 0 & 0 & 0 & 0 & 0 & 0 & 0 & 0 & 0 & 0 & 0 & 0 & 0 & 1 & 0 & 0 & 0 & 0 & 0 & 0 & 0 & 0 & 0 & 0 & 0 & 0 & 0 & 0 & 1 & 1 & 0 & 1 & 0 & 1 & 0 & 0 & 0 & 0 & 0 & 0 & 0 & 0 & 0 & 0 & 0 & 0 & 0 & 0 & 0 & 1 & 0 & 0 & 0 & 0 & 0 & 0 & 0 & 0 & 0 & 0 & 0 & 0 & 0 & 0 & 0 & 0 & 0 & 0 & 0 & 0 & 0 & 4 & 0 & 0 & 0 & 0 & 0 & 0 & 0 & 0 & 0 & 0 & 0 & 0 & 0 & 0 & 0 & 0 & 0 & 0 & 0 & 0 & 0 & 1 & 1 & 0 & 0 & 0 & 0 & 0 & 0 & 0 & 0 & 0 & 0 & 0 & 0 & 0 & 0 & 0 & 0 & 0 & 0 & 0 & 0 & 0 & 0 & 0 & 0 & 0 & 0 & 0 & 0 & 0 & 0 & 1 & 0 & 0 & 0 & 0 & 0 & 0 & 0 & 0 & 0 & 0 & 0 & 0 & 1 & 1 & 0 & 0 & 0 & 0 & 0 & 0 & 0 & 0 & 0 & 0 & 0 & 0 & 0 & 0 & 0 & 0 & 0 & 0 & 0 & 0 & 0 & 0 & 0 & 0 & 0 & 0 & 0 & 0 & 0 & 0 & 0 & 0 & 0 & 0 & 0 & 0 & 0 & 0 & 0 & 0 & 0 & 0 & 0 & 0 & 0 & 0 & 0 & 0 & 0 & 0 & 0 & 0 & 0 & 0 & 0 & 0 & 0 & 0 & 0 & 0 & 0 & 0 & 0 & 1 & 0 & 0 & 0 & 0 & 0 & 0 & 0 & 0 & 0 & 0 & 0 & 0 & 0 & 0 & 0 & 0 & 0 & 0 & 0 & 0 & 0 & 0 & 0 & 0 & 0 & 0 & 0 & 0 & 0 & 0 & 0 & 0 & 0 & 0 & 0 & 0 & 0 & 0 & 0 & 0 & 0 & 0 & 0 & 0 & 0 & 0 & 0 & 0 & 0 & 0 & 0 & 0 & 0 & 0 & 0 & 0 & 0 & 0 & 0 & 0 & 0 & 0 & 0 & 0 & 0 & 0 & 0 & 0 & 0 & 0 & 0 & 0 & 0 & 0 & 0 & 0 & 0 & 0 & 0 & 0 & 0 & 1 & 0 & 0 & 0 & 0 & 0 & 0 & 0 & 0 & 0 & 0 & 0 & 0 & 0 & 0 & 0 & 0 & 0 & 0 & 0 & 0 & 0 & 0 & 0 & 0 & 0 & 0 & 0 & 0 & 0 & 0 & 0 & 0 & 0 & 0 & 0 & 0 & 0 & 0 & 0 & 0 & 0 & 0 & 0 & 0 & 0 & 0 & 0 & 0 & 0 & 0 & 0 & 0 & 0 & 0 & 0 & 0 & 0 & 0 & 0 & 0 & 0 & 0 & 0 & 0 & 0 & 0 & 0 & 0 & 0 & 0 & 0 & 0 & 1 & 1 & 0 & 0 & 0 & 0 & 0 & 0 & 0 & 0 & 0 & 0 & 0 & 0 & 0 & 0 & 0 & 0 & 1 & 0 & 0 & 0 & 0 & 0 & 0 & 0 & 1 & 0 & 0 & 0 & 0 & 0 & 0 & 0 & 0 & 1 & 0 & 0 & 0 & 0 & 0 & 0 & 0 & 0 & 0 & 0 & 0 & 0 & 0 & 0 & 1 & 0 & 0 & 0 & 0 & 0 & 0 & 0 & 0 & 0 & 0 & 0 & 0 & 0 & 0 & 0 & 0 & 0 & 0 & 0 & 1 & 0 & 0 & 0 & 0 & 0 & 0 & 0 & 0 & 0 & 1 & 0 & 0 & 0 & 0 & 7 & 0 & 0 & 0 & 0 & 0 & 0 & 0 & 0 & 0 & 0 & 0 & 0 & 0 & 0 & 0 & 0 & 0 & 0 & 0 & 0 & 0 & 0 & 0 & 0 & 1 & 1 & 0 & 1 & 0 & 0 & 0 & 0 & 0 & 0 & 0 & 0 & 0 & 0 & 0 & 0 & 0 & 0 & 0 & 0 & 0 & 0 & 0 & 0 & 0 & 0 & 0 & 0 & 0 & 0 & 0 & 0 & 1 & 0 & 0 & 0 & 0 & 0 & 0 & 0 & 0 & 0 & 0 & 0 & 0 & 1 & 0 & 0 & 0 & 0 & 0 & 0 & 0 & 0 & 0 & 0 & 0 & 0 & 0 & 0 & 0 & 1 & 1 & 0 & 0 & 0 & 0 & 0 & 0 & 0 & 0 & 0 & 0 & 0 & 0 & 0 & 0 & 0 & 0 & 0 & 0 & 0 & 0 & 0 & 0 & 0 & 0 & 0 & 0 & 0 & 0 & 0 & 0 & 0 & 0 & 0 & 0 & 0 & 0 & 0 & 0 & 0 & 0 & 0 & 0 & 0 & 0 & 0 & 0 & 1 & 0 & 0 & 0 & 0 & 0 & 0 & 0 & 0 & 0 & 0 & 0 & 0 & 0 & 0 & 0 & 0 & 0 & 0 & 0 & 0 & 0 & 0 & 0 & 0 & 1 & 0 & 0 & 0 & 0 & 0 & 0 & 0 & 0 & 0 & 0 & 0 & 0 & 0 & 0 & 0 & 0 & 0 & 0 & 0 & 0 & 0 & 0 & 0 & 0 & 0 & 0 & 0 & 0 & 0 & 0 & 0 & 0 & 0 & 0 & 0 & 0 & 0 & 0 & 0 & 0 & 0 & 0 & 0 & 0 & 0 & 0 & 0 & 0 & 0 & 0 & 0 & 0 & 0 & 0 & 0 & 0 & 0 & 0 & 0 & 0 & 0 & 0 & 0 & 0 & 0 & 0 & 0 & 0 & 0 & 0 & 0 & 1 & 0 & 0 & 0 & 0 & 0 & 0 & 0 & 0 & 0 & 0 & 0 & 0 & 0 & 0 & 0 & 0 & 0 & 0 & 0 & 0 & 0 & 0 & 2 & 0 & 0 & 0 & 0 & 0 & 0 & 0 & 0 & 0 & 0 & 0 & 0 & 0 & 0 & 0 & 0 & 0 & 0 & 0 & 0 & 0 & 0 & 0 & 0 & 0 & 1 & 0 & 0 & 0 & 0 & 0 & 0 & 0 & 0 & 0 & 0 & 0 & 0 & 0 & 0 & 0 & 0 & 0 & 0 & 0 & 0 & 0 & 0 & 0 & 0 & 0 & 0 & 0 & 0 & 0 & 0 & 0 & 0 & 0 & 0 & 0 & 0 & 0 & 0 & 0 & 0 & 0 & 0 & 0 & 0 & 0 & 0 & 0 & 0 & 0 & 0 & 0 & 0 & 0 & 0 & 0 & 0 & 0 & 0 & 0 & 0 & 0 & 0 & 0 & 0 & 0 & 0 & 0 & 0 & 0 & 0 & 1 & 0 & 0 & 0 & 0 & 0 & 0 & 0 & 0 & 0 & 0 & 0 & 0 & 0 & 0 & 0 & 0 & 0 & 0 & 0 & 0 & 0 & 0 & 0 & 0 & 0 & 0 & 0 & 0 & 0 & 0 & 0 & 0 & 0 & 0 & 0 & 0 & 0 & 0 & 0 & 0 & 0 & 0 & 0 & 0 & 0 & 0 & 0 & 0 & 0 & 0 & 0 & 0 & 0 & 0 & 0 & 0 & 0 & 0 & 0 & 0 & 0 & 0 & 0 & 0 & 0 & 0 & 0 & 0 & 0 & 0 & 0 & 0 & 0 & 0 & 0 & 0 & 0 & 0 & 0 & 0 & 0 & 0 & 0 & 0 & 0 & 0 & 0 & 0 & 0 & 0 & 0 & 0 & 0 & 0 & 0 & 0 & 0 & 0 & 0 & 0 & 0 & 0 & 0 & 0 & 0 & 0 & 0 & 0 & 0 & 0 & 0 & 0 & 0 & 0 & 0 & 0 & 0 & 0 & 0 & 0 & 0 & 0 & 0 & 0 & 0 & 0 & 0 & 0 & 0 & 0 & 0 & 0 & 0 & 0 & 0 & 0 & 0 & 0 & 0 & 0 & 0 & 0 & 0 & 0 & 0 & 0 & 0 & 0 & 0 & 0 & 0 & 0 & 0 & 0 & 0 & 0 & 0 & 0 & 0 & 0 & 0 & 0 & 0 & 0 & 0 & 0 & 0 & 0 & 0 & 0 & 0 & 0 & 0 & 0 & 0 & 0 & 0 & 0 & 0 & 0 & 0 & 0 & 0 & 0 & 0 & 0 & 0 & 0 & 0 & 0 & 0 & 0 & 0 & 0 & 0 & 0 & 0 & 0 & 0 & 0 & 0 & 0 & 0 & 0 & 0 & 0 & 0 & 0 & 0 & 0 & 0 & 0 & 0 & 0 & 0 & 0 & 0 & 0 & 0 & 0 & 0 & 0 & 0 & 0 & 0 & 0 & 0 & 0 & 0 & 0 & 0 & 0 & 0 & 0 & 0 & 0 & 0 & 1 & 0 & 0 & 0 & 0 & 0 & 0 & 0 & 0 & 0 & 0 & 0 & 0 & 0 & 0 & 0 & 0 & 0 & 0 & 0 & 0 & 0 & 0 & 0 & 0 & 0 & 0 & 0 & 0 & 0 & 0 & 1 & 0 & 0 & 0 & 0 & 0 & 0 & 0 & 2 & 0 & 0 & 0 & 0 & 0 & 0 & 0 & 0 & 0 & 1 & 0 & 0 & 0 & 0 & 0 & 0 & 0 & 0 & 0 & 0 & 0 & 0 & 0 & 0 & 0 & 0 & 0 & 0 & 0 & 0 & 0 & 0 & 0 & 0 & 0 & 0 & 0 & 0 & 0 & 0 & 0 & 0 & 0 & 0 & 0 & 0 & 0 & 0 & 0 & 0 & 0 & 0 & 0 & 0 & 0 & 0 & 0 & 0 & 0 & 0 & 0 & 0 & 0 & 0 & 0 & 0 & 0 & 0 & 0 & 0 & 0 & 0 & 0 & 0 & 0 & 0 & 0 & 0 & 0 & 0 & 0 & 0 & 0 & 0 & 0 & 0 & 0 & 0 & 0 & 0 & 0 & 0 & 0 & 0 & 0 & 0 & 0 & 0 & 0 & 0 & 0 & 0 & 0 & 0 & 0 & 0 & 0 & 0 & 0 & 0 & 0 & 0 & 0 & 0 & 0 & 0 & 0 & 1 & 0 & 0 & 0 & 0 & 0 & 0 & 0 & 0 & 0 & 0 & 0 & 0 & 0 & 0 & 0 & 0 & 0 & 0 & 0 & 0 & 0 & 0 & 0 & 0 & 0 & 0 & 0 & 0 & 1 & 0 & 0 & 1 & 0 & 0 & 0 & 0 & 0 & 0 & 0 & 0 & 0 & 0 & 0 & 0 & 0 & 0 & 0 & 0 & 0 & 0 & 0 & 0 & 0 & 0 & 0 & 0 & 1 & 0 & 0 & 0 & 0 & 0 & 0 & 0 & 0 & 0 & 0 & 0 & 0 & 0 & 0 & 0 & 0 & 0 & 1 & 0 & 0 & 0 & 0 & 0 & 0 & 0 & 0 & 0 & 0 & 0 & 0 & 0 & 0 & 0 & 0 & 0 & 0 & 0 & 0 & 0 & 0 & 0 & 0 & 0 & 0 & 0 & 0 & 0 & 0 & 0 & 0 & 1 & 0 & 0 & 0 & 0 & 0 & 0 & 0 & 0 & 0 & 0 & 0 & 0 & 0 & 0 & 0 & 0 & 0 & 0 & 0 & 0 & 0 & 0 & 0 & 0 & 0 & 0 & 0 & 0 & 0 & 0 & 0 & 0 & 0 & 0 & 0 & 0 & 0 & 0 & 0 & 0 & 0 & 0 & 0 & 0 & 0 & 0 & 0 & 0 & 0 & 0 & 0 & 0 & 0 & 0 & 0 & 0 & 0 & 0 & 0 & 0 & 0 & 0 & 0 & 0 & 0 & 0 & 0 & 0 & 0 & 0 & 0 & 0 & 0 & 0 & FL\\\\\n",
       "\\end{tabular}\n"
      ],
      "text/markdown": [
       "\n",
       "A data.frame: 3 × 2937\n",
       "\n",
       "| Assembly &lt;chr&gt; | GC00000071_r1_1 &lt;dbl&gt; | GC00000018_r1_r1_1_p2 &lt;dbl&gt; | GC00000038_r1_1 &lt;dbl&gt; | GC00000024_r1_1 &lt;dbl&gt; | GC00000017_r1_1 &lt;dbl&gt; | GC00000014_r1_r1_r1_1 &lt;dbl&gt; | GC00000012_r1_r1_r1_1 &lt;dbl&gt; | GC00000001_50 &lt;dbl&gt; | GC00000228 &lt;dbl&gt; | ⋯ ⋯ | GC00002737 &lt;dbl&gt; | GC00002947 &lt;dbl&gt; | GC00002946 &lt;dbl&gt; | GC00002943 &lt;dbl&gt; | GC00002942 &lt;dbl&gt; | GC00002941 &lt;dbl&gt; | GC00002949 &lt;dbl&gt; | GC00002948 &lt;dbl&gt; | GC00002169_p2 &lt;dbl&gt; | clade &lt;chr&gt; |\n",
       "|---|---|---|---|---|---|---|---|---|---|---|---|---|---|---|---|---|---|---|---|---|\n",
       "| GCA_000300255 | 3 | 3 | 2 | 2 | 3 | 2 | 4 | 25 | 1 | ⋯ | 0 | 0 | 0 | 0 | 0 | 0 | 0 | 0 | 0 | HA |\n",
       "| GCA_000308215 | 2 | 3 | 3 | 3 | 3 | 6 | 4 | 60 | 1 | ⋯ | 0 | 0 | 0 | 0 | 0 | 0 | 0 | 0 | 0 | FL |\n",
       "| GCA_000404225 | 1 | 2 | 2 | 2 | 3 | 3 | 1 | 32 | 1 | ⋯ | 0 | 0 | 0 | 0 | 0 | 0 | 0 | 0 | 0 | FL |\n",
       "\n"
      ],
      "text/plain": [
       "  Assembly      GC00000071_r1_1 GC00000018_r1_r1_1_p2 GC00000038_r1_1\n",
       "1 GCA_000300255 3               3                     2              \n",
       "2 GCA_000308215 2               3                     3              \n",
       "3 GCA_000404225 1               2                     2              \n",
       "  GC00000024_r1_1 GC00000017_r1_1 GC00000014_r1_r1_r1_1 GC00000012_r1_r1_r1_1\n",
       "1 2               3               2                     4                    \n",
       "2 3               3               6                     4                    \n",
       "3 2               3               3                     1                    \n",
       "  GC00000001_50 GC00000228 ⋯ GC00002737 GC00002947 GC00002946 GC00002943\n",
       "1 25            1          ⋯ 0          0          0          0         \n",
       "2 60            1          ⋯ 0          0          0          0         \n",
       "3 32            1          ⋯ 0          0          0          0         \n",
       "  GC00002942 GC00002941 GC00002949 GC00002948 GC00002169_p2 clade\n",
       "1 0          0          0          0          0             HA   \n",
       "2 0          0          0          0          0             FL   \n",
       "3 0          0          0          0          0             FL   "
      ]
     },
     "metadata": {},
     "output_type": "display_data"
    }
   ],
   "source": [
    "filt_clusters_strict = filt_clusters_nzv %>% \n",
    "    select(MSA, starts_with(\"GCA\"), \"V11_RL001\") %>%\n",
    "    column_to_rownames(\"MSA\") %>%\n",
    "    t %>%\n",
    "    as.data.frame %>%\n",
    "    rownames_to_column(\"Assembly\") %>%\n",
    "    left_join(., df_Clade, by = \"Assembly\")\n",
    "\n",
    "filt_clusters_strict %>% dfhead"
   ]
  },
  {
   "cell_type": "code",
   "execution_count": 59,
   "metadata": {
    "ExecuteTime": {
     "end_time": "2020-08-31T10:32:36.957299Z",
     "start_time": "2020-08-31T10:32:36.015Z"
    },
    "scrolled": true
   },
   "outputs": [
    {
     "name": "stderr",
     "output_type": "stream",
     "text": [
      "Parsed with column specification:\n",
      "cols(\n",
      "  Accession = \u001b[31mcol_character()\u001b[39m,\n",
      "  log2FoldChange = \u001b[32mcol_double()\u001b[39m,\n",
      "  padj = \u001b[32mcol_double()\u001b[39m,\n",
      "  significant = \u001b[33mcol_logical()\u001b[39m,\n",
      "  Clade = \u001b[31mcol_character()\u001b[39m,\n",
      "  Taxonomy = \u001b[31mcol_character()\u001b[39m,\n",
      "  simple_enrich = \u001b[31mcol_character()\u001b[39m\n",
      ")\n"
     ]
    },
    {
     "name": "stdout",
     "output_type": "stream",
     "text": [
      "[1] 72  7\n"
     ]
    },
    {
     "data": {
      "text/html": [
       "<table>\n",
       "<caption>A tibble: 3 × 7</caption>\n",
       "<thead>\n",
       "\t<tr><th scope=col>Accession</th><th scope=col>log2FoldChange</th><th scope=col>padj</th><th scope=col>significant</th><th scope=col>Clade</th><th scope=col>Taxonomy</th><th scope=col>simple_enrich</th></tr>\n",
       "\t<tr><th scope=col>&lt;chr&gt;</th><th scope=col>&lt;dbl&gt;</th><th scope=col>&lt;dbl&gt;</th><th scope=col>&lt;lgl&gt;</th><th scope=col>&lt;chr&gt;</th><th scope=col>&lt;chr&gt;</th><th scope=col>&lt;chr&gt;</th></tr>\n",
       "</thead>\n",
       "<tbody>\n",
       "\t<tr><td>V11_RL001    </td><td>-5.424539</td><td>1.013018e-91</td><td>TRUE</td><td>HA</td><td>Candidatus_Methanomethylophilus_alvus_RL001 </td><td>Gut</td></tr>\n",
       "\t<tr><td>GCA_000300255</td><td>-5.424539</td><td>1.013018e-91</td><td>TRUE</td><td>HA</td><td>Candidatus_Methanomethylophilus_alvus_Mx1201</td><td>Gut</td></tr>\n",
       "\t<tr><td>GCA_002504405</td><td>-4.569450</td><td>6.238994e-96</td><td>TRUE</td><td>HA</td><td>Methanomassiliicoccaceae_archaeon_UBA71     </td><td>Gut</td></tr>\n",
       "</tbody>\n",
       "</table>\n"
      ],
      "text/latex": [
       "A tibble: 3 × 7\n",
       "\\begin{tabular}{r|lllllll}\n",
       " Accession & log2FoldChange & padj & significant & Clade & Taxonomy & simple\\_enrich\\\\\n",
       " <chr> & <dbl> & <dbl> & <lgl> & <chr> & <chr> & <chr>\\\\\n",
       "\\hline\n",
       "\t V11\\_RL001     & -5.424539 & 1.013018e-91 & TRUE & HA & Candidatus\\_Methanomethylophilus\\_alvus\\_RL001  & Gut\\\\\n",
       "\t GCA\\_000300255 & -5.424539 & 1.013018e-91 & TRUE & HA & Candidatus\\_Methanomethylophilus\\_alvus\\_Mx1201 & Gut\\\\\n",
       "\t GCA\\_002504405 & -4.569450 & 6.238994e-96 & TRUE & HA & Methanomassiliicoccaceae\\_archaeon\\_UBA71      & Gut\\\\\n",
       "\\end{tabular}\n"
      ],
      "text/markdown": [
       "\n",
       "A tibble: 3 × 7\n",
       "\n",
       "| Accession &lt;chr&gt; | log2FoldChange &lt;dbl&gt; | padj &lt;dbl&gt; | significant &lt;lgl&gt; | Clade &lt;chr&gt; | Taxonomy &lt;chr&gt; | simple_enrich &lt;chr&gt; |\n",
       "|---|---|---|---|---|---|---|\n",
       "| V11_RL001     | -5.424539 | 1.013018e-91 | TRUE | HA | Candidatus_Methanomethylophilus_alvus_RL001  | Gut |\n",
       "| GCA_000300255 | -5.424539 | 1.013018e-91 | TRUE | HA | Candidatus_Methanomethylophilus_alvus_Mx1201 | Gut |\n",
       "| GCA_002504405 | -4.569450 | 6.238994e-96 | TRUE | HA | Methanomassiliicoccaceae_archaeon_UBA71      | Gut |\n",
       "\n"
      ],
      "text/plain": [
       "  Accession     log2FoldChange padj         significant Clade\n",
       "1 V11_RL001     -5.424539      1.013018e-91 TRUE        HA   \n",
       "2 GCA_000300255 -5.424539      1.013018e-91 TRUE        HA   \n",
       "3 GCA_002504405 -4.569450      6.238994e-96 TRUE        HA   \n",
       "  Taxonomy                                     simple_enrich\n",
       "1 Candidatus_Methanomethylophilus_alvus_RL001  Gut          \n",
       "2 Candidatus_Methanomethylophilus_alvus_Mx1201 Gut          \n",
       "3 Methanomassiliicoccaceae_archaeon_UBA71      Gut          "
      ]
     },
     "metadata": {},
     "output_type": "display_data"
    }
   ],
   "source": [
    "# Load table with enrichmet information for each taxon\n",
    "Enrichment_df = read_tsv(\"/ebio/abt3_projects/vadinCA11/data/V11/Mmassilii_distribution/Enrichment/Simple_Enrich.tsv\")\n",
    "\n",
    "Enrichment_df %>% dfhead"
   ]
  },
  {
   "cell_type": "code",
   "execution_count": 63,
   "metadata": {
    "ExecuteTime": {
     "end_time": "2020-08-31T10:34:39.166840Z",
     "start_time": "2020-08-31T10:34:39.004Z"
    }
   },
   "outputs": [
    {
     "data": {
      "text/plain": [
       "\n",
       "Phylogenetic tree with 70 tips and 69 internal nodes.\n",
       "\n",
       "Tip labels:\n",
       "\tGCA_900313075, GCA_002503545, GCA_000300255, V11_RL001, GCA_000800805, GCA_002506905, ...\n",
       "\n",
       "Rooted; includes branch lengths."
      ]
     },
     "metadata": {},
     "output_type": "display_data"
    }
   ],
   "source": [
    "# Create cluster table with enrichment information\n",
    "\n",
    "# Remove non-significant taxa on either direction from table and tree\n",
    "\n",
    "# df\n",
    "Enrichment_clust_df = Enrichment_df %>%\n",
    "    select(Assembly = Accession, \"simple_enrich\") %>%\n",
    "    left_join(filt_clusters_strict, Enrichment_df, by = c(\"Assembly\")) %>%\n",
    "    filter(simple_enrich != \"Non-significant\") %>%\n",
    "    as.data.frame()\n",
    "\n",
    "\n",
    "# Tree\n",
    "non_sig_enrich = Enrichment_df %>%\n",
    "     filter(simple_enrich == \"Non-significant\") %>%\n",
    "    pull(Accession)\n",
    "\n",
    "sig_phylogenomic_tree = drop.tip(phy = phylogenomic_tree, tip = non_sig_enrich)\n",
    "sig_phylogenomic_tree"
   ]
  },
  {
   "cell_type": "code",
   "execution_count": null,
   "metadata": {
    "ExecuteTime": {
     "start_time": "2020-08-31T10:34:39.008Z"
    }
   },
   "outputs": [],
   "source": [
    "# Empty result list\n",
    "aov_clust_enrich = list()\n",
    "summary_enrich = list()\n",
    "\n",
    "# Create named vector of clades\n",
    "group_enrich = factor(Enrichment_clust_df$simple_enrich)\n",
    "names(group_enrich) = Enrichment_clust_df$Assembly\n",
    "cluster_IDs = Enrichment_clust_df %>% select(starts_with(\"GC\")) %>% colnames()\n",
    "\n",
    "# #sig_phylogenomic_tree = drop.tip(phy = phylogenomic_tree, tip = non_sig_enrich)\n",
    "\n",
    "\n",
    "# Run phylogenetic AOV on each gene cluster\n",
    "for(ID in cluster_IDs){\n",
    "    \n",
    "    # Create named vector of variable\n",
    "    variable = Enrichment_clust_df[, ID]\n",
    "    names(variable) = Enrichment_clust_df$Assembly\n",
    "    \n",
    "    # Run phylogenetic anova\n",
    "    aov_result = phylANOVA(sig_phylogenomic_tree, group_enrich, variable, nsim = 1000)\n",
    "    aov_clust_enrich[[ID]] = aov_result  \n",
    "}\n"
   ]
  },
  {
   "cell_type": "code",
   "execution_count": null,
   "metadata": {
    "ExecuteTime": {
     "start_time": "2020-08-31T10:34:39.012Z"
    }
   },
   "outputs": [],
   "source": [
    "# Extract P values and adjust using FDR\n",
    "plan(multicore, workers = 5)\n",
    "clusters_phylaov_enrich = future_map_dfr(aov_clust_enrich, function(x) x$Pf) %>%\n",
    "    gather(cluster, p_val) %>%\n",
    "    mutate(p_adj = p.adjust(p_val, method = \"fdr\"))\n",
    "\n",
    "# Extract significant clusters\n",
    "clusters_significant_enrich = clusters_phylaov_enrich %>%\n",
    "    filter(p_adj < 0.1) %>%\n",
    "    pull(cluster)"
   ]
  },
  {
   "cell_type": "code",
   "execution_count": null,
   "metadata": {
    "ExecuteTime": {
     "start_time": "2020-08-31T10:34:39.015Z"
    }
   },
   "outputs": [],
   "source": [
    "# Function to create single table of pairwise P values\n",
    "extract_posthoc = function(Pt, clst){\n",
    "    Pt_df = as.data.frame(Pt)\n",
    "    Pt_df %>% rownames_to_column(\"Clade\") %>%\n",
    "        mutate(., Clust = clst)\n",
    "}\n",
    "\n",
    "# Obtain single table of pairwise P values on significant clusters by phylAOV\n",
    "Pairwise_pvals_enrich = aov_clust_enrich[clusters_significant_enrich] %>%\n",
    "    purrr::map2_df(., names(.), function(Pt_table, clst) extract_posthoc(Pt_table$Pt, clst))"
   ]
  },
  {
   "cell_type": "code",
   "execution_count": null,
   "metadata": {
    "ExecuteTime": {
     "start_time": "2020-08-31T10:34:39.018Z"
    }
   },
   "outputs": [],
   "source": [
    "Pairwise_pvals_enrich %>% head"
   ]
  },
  {
   "cell_type": "code",
   "execution_count": null,
   "metadata": {
    "ExecuteTime": {
     "start_time": "2020-08-31T10:34:39.021Z"
    }
   },
   "outputs": [],
   "source": [
    "Enrichment_significant = Pairwise_pvals_enrich %>%\n",
    "    filter(Clust %in% clusters_significant_strict, Clade == \"Gut\") %>%\n",
    "    left_join(., Annot_clusters, by = c(\"Clust\" = \"MSA\")) \n",
    "\n",
    "summary_Enrich_clusts = Enrichment_significant %>%\n",
    "    select(Clust, \n",
    "           Count, \n",
    "           Gene_Name, \n",
    "           Annotation, \n",
    "           NOG, \n",
    "           COG_1, \n",
    "           eggNOG_annot, \n",
    "           Interpro_accession, \n",
    "           Interpro_annot) "
   ]
  },
  {
   "cell_type": "code",
   "execution_count": null,
   "metadata": {
    "ExecuteTime": {
     "start_time": "2020-08-31T10:34:39.026Z"
    }
   },
   "outputs": [],
   "source": [
    "# Create table with gene cluster abundance\n",
    "Enrich_sig_clust_t = Enrichment_significant %>% \n",
    "    select(Clust, V11_RL001, starts_with(\"GCA\")) %>% \n",
    "    column_to_rownames(\"Clust\") %>% \n",
    "    t() %>%\n",
    "    as.data.frame() %>%\n",
    "    rownames_to_column(\"Assembly\") %>%\n",
    "    left_join(., Enrichment_df, by = c(\"Assembly\" = \"Accession\")) %>%\n",
    "    select(-log2FoldChange, -significant, -Clade, -Taxonomy, -padj) %>%\n",
    "    filter(simple_enrich != \"Non-significant\")\n",
    "\n",
    "# Summarize on each clade\n",
    "Enrich_sig_clust_summary = Enrich_sig_clust_t %>%\n",
    "    select(-Assembly) %>% \n",
    "    group_by(simple_enrich) %>% \n",
    "    summarise_all(function(x) round(mean(x), 3)) %>%\n",
    "    gather(Cluster, mean, -simple_enrich) %>%\n",
    "    spread(simple_enrich, mean)\n",
    "                  \n",
    "Enrich_sig_clust_summary %>% dfhead"
   ]
  },
  {
   "cell_type": "code",
   "execution_count": null,
   "metadata": {
    "ExecuteTime": {
     "start_time": "2020-08-31T10:34:39.029Z"
    }
   },
   "outputs": [],
   "source": [
    "Enriched_Gut = Enrich_sig_clust_summary %>%\n",
    "    filter(Gut > Environmental) %>%\n",
    "    pull(Cluster)\n",
    "\n",
    "summary_Enrich_clusts %>%\n",
    "    filter(Clust %in% Enriched_Gut)"
   ]
  },
  {
   "cell_type": "markdown",
   "metadata": {},
   "source": [
    "## Debug phyloANOVA per clade"
   ]
  },
  {
   "cell_type": "code",
   "execution_count": null,
   "metadata": {
    "ExecuteTime": {
     "start_time": "2020-08-31T10:34:39.033Z"
    }
   },
   "outputs": [],
   "source": [
    "filt_clusters_strict = filt_clusters_nzv %>% \n",
    "    select(MSA, starts_with(\"GCA\"), \"V11_RL001\") %>%\n",
    "    column_to_rownames(\"MSA\") %>%\n",
    "    t %>%\n",
    "    as.data.frame %>%\n",
    "    rownames_to_column(\"Assembly\") %>%\n",
    "    left_join(., df_Clade, by = \"Assembly\")\n",
    "\n",
    "filt_clusters_strict %>% dfhead"
   ]
  },
  {
   "cell_type": "code",
   "execution_count": null,
   "metadata": {
    "ExecuteTime": {
     "start_time": "2020-08-31T10:34:39.037Z"
    }
   },
   "outputs": [],
   "source": [
    "# Empty result list\n",
    "aov_clust_list = list()\n",
    "summary_list = list()\n",
    "\n",
    "# Create named vector of clades\n",
    "group = factor(filt_clusters_strict$clade)\n",
    "names(group) = filt_clusters_strict$Assembly\n",
    "cluster_IDs = filt_clusters_strict %>% select(starts_with(\"GC\")) %>% colnames()"
   ]
  },
  {
   "cell_type": "code",
   "execution_count": null,
   "metadata": {
    "ExecuteTime": {
     "start_time": "2020-08-31T10:34:39.040Z"
    },
    "scrolled": false
   },
   "outputs": [],
   "source": [
    "# Empty result list\n",
    "aov_clust_strict = list()\n",
    "summary_list = list()\n",
    "\n",
    "# Create named vector of clades\n",
    "group = factor(filt_clusters_strict$clade)\n",
    "names(group) = filt_clusters_strict$Assembly\n",
    "cluster_IDs = filt_clusters_strict %>% \n",
    "    select(starts_with(\"GC\")) %>%\n",
    "    colnames()\n",
    "\n",
    "# Run phylogenetic AOV on each gene cluster\n",
    "for(ID in cluster_IDs){\n",
    "    # Create named vector of variable\n",
    "    variable = filt_clusters_strict[, ID]\n",
    "    names(variable) = filt_clusters_strict$Assembly\n",
    "\n",
    "    # Run phylogenetic anova\n",
    "    aov_result = phytools::phylANOVA(phylogenomic_tree, group, variable, nsim = 1000)\n",
    "    aov_clust_strict[[ID]] = aov_result  \n",
    "}\n"
   ]
  },
  {
   "cell_type": "code",
   "execution_count": null,
   "metadata": {
    "ExecuteTime": {
     "start_time": "2020-08-31T10:34:39.044Z"
    }
   },
   "outputs": [],
   "source": [
    "# Extract P values and adjust using FDR\n",
    "plan(multicore, workers = 5)\n",
    "clusters_phylaov_strict = future_map_dfr(aov_clust_strict, function(x) x$Pf) %>%\n",
    "    gather(cluster, p_val) %>%\n",
    "    mutate(p_adj = p.adjust(p_val, method = \"fdr\"))\n",
    "                                         \n",
    "# Extract significant clusters\n",
    "clusters_significant_strict = clusters_phylaov_strict %>%\n",
    "    filter(p_adj <= 0.1) %>%\n",
    "    pull(cluster)"
   ]
  },
  {
   "cell_type": "code",
   "execution_count": null,
   "metadata": {
    "ExecuteTime": {
     "start_time": "2020-08-31T10:34:39.047Z"
    }
   },
   "outputs": [],
   "source": [
    "# Function to create single table of pairwise P values\n",
    "extract_posthoc = function(Pt, clst){\n",
    "    Pt_df = as.data.frame(Pt)\n",
    "    Pt_df %>% rownames_to_column(\"Clade\") %>%\n",
    "        mutate(., Clust = clst)\n",
    "}\n",
    "\n",
    "# Obtain single table of pairwise P values on significant clusters by phylAOV\n",
    "Pairwise_pvals = aov_clust_strict[clusters_significant_strict] %>%\n",
    "    purrr::map2_df(., names(.), function(Pt_table, clst) extract_posthoc(Pt_table$Pt, clst))"
   ]
  },
  {
   "cell_type": "code",
   "execution_count": null,
   "metadata": {
    "ExecuteTime": {
     "start_time": "2020-08-31T10:34:39.051Z"
    }
   },
   "outputs": [],
   "source": [
    "HA_FL_significant = Pairwise_pvals %>%\n",
    "    filter(Clust %in% clusters_significant_strict, HA <= 0.05, Clade == \"FL\") %>%\n",
    "    left_join(., Annot_clusters, by = c(\"Clust\" = \"MSA\")) \n",
    "\n",
    "summary_HA_clusts = HA_FL_significant %>%\n",
    "    select(Clust, \n",
    "           Count, \n",
    "           Gene_Name, \n",
    "           Annotation, \n",
    "           NOG, \n",
    "           COG_1, \n",
    "           eggNOG_annot, \n",
    "           Interpro_accession, \n",
    "           Interpro_annot) "
   ]
  },
  {
   "cell_type": "code",
   "execution_count": null,
   "metadata": {
    "ExecuteTime": {
     "start_time": "2020-08-31T10:34:39.054Z"
    }
   },
   "outputs": [],
   "source": [
    "# Create table with gene cluster abundance\n",
    "tst_sig_clust_t = HA_FL_significant %>% \n",
    "    select(Clust, V11_RL001, starts_with(\"GCA\")) %>% \n",
    "    column_to_rownames(\"Clust\") %>% \n",
    "    t() %>%\n",
    "    as.data.frame() %>%\n",
    "    rownames_to_column(\"Assembly\") %>%\n",
    "    left_join(., df_Clade, by = \"Assembly\")\n",
    "\n",
    "# Summarize on each clade\n",
    "tst_sig_clust_summary = tst_sig_clust_t %>%\n",
    "    select(-Assembly) %>% \n",
    "    group_by(clade) %>% \n",
    "    summarise_all(function(x) round(mean(x), 3)) %>%\n",
    "    gather(Cluster, mean, -clade) %>%\n",
    "    spread(clade, mean)\n",
    "                  \n",
    "tst_sig_clust_summary %>% dfhead"
   ]
  },
  {
   "cell_type": "code",
   "execution_count": null,
   "metadata": {
    "ExecuteTime": {
     "start_time": "2020-08-31T10:34:39.058Z"
    }
   },
   "outputs": [],
   "source": [
    "Enriched_HA = tst_sig_clust_summary %>%\n",
    "    filter(HA > FL) %>%\n",
    "    pull(Cluster)\n",
    "\n",
    "summary_HA_clusts %>%\n",
    "    filter(Clust %in% Enriched_HA)"
   ]
  },
  {
   "cell_type": "code",
   "execution_count": null,
   "metadata": {
    "ExecuteTime": {
     "start_time": "2020-08-31T10:34:39.061Z"
    }
   },
   "outputs": [],
   "source": [
    "Enriched_FL = tst_sig_clust_summary %>%\n",
    "    filter(FL > HA) %>%\n",
    "    pull(Cluster)\n",
    "\n",
    "summary_HA_clusts %>%\n",
    "    filter(Clust %in% Enriched_FL)"
   ]
  },
  {
   "cell_type": "markdown",
   "metadata": {},
   "source": [
    "## Debug phyloANOVA without outliers"
   ]
  },
  {
   "cell_type": "code",
   "execution_count": null,
   "metadata": {
    "ExecuteTime": {
     "start_time": "2020-08-31T10:34:39.065Z"
    },
    "scrolled": true
   },
   "outputs": [],
   "source": [
    "filt_clusters_strict = filt_clusters_nzv %>% \n",
    "    select(MSA, starts_with(\"GCA\"), \"V11_RL001\") %>%\n",
    "    column_to_rownames(\"MSA\") %>%\n",
    "    t %>%\n",
    "    as.data.frame %>%\n",
    "    rownames_to_column(\"Assembly\") %>%\n",
    "    left_join(., df_Clade, by = \"Assembly\")\n",
    "\n",
    "filt_clusters_strict %>% dfhead"
   ]
  },
  {
   "cell_type": "code",
   "execution_count": null,
   "metadata": {
    "ExecuteTime": {
     "start_time": "2020-08-31T10:34:39.069Z"
    },
    "scrolled": true
   },
   "outputs": [],
   "source": [
    "# Load table with enrichmet information for each taxon\n",
    "Enrichment_df = read_tsv(\"/ebio/abt3_projects/vadinCA11/data/V11/Mmassilii_distribution/Enrichment/Simple_Enrich.tsv\")\n",
    "\n",
    "Enrichment_df %>% dfhead"
   ]
  },
  {
   "cell_type": "code",
   "execution_count": null,
   "metadata": {
    "ExecuteTime": {
     "start_time": "2020-08-31T10:34:39.072Z"
    },
    "scrolled": true
   },
   "outputs": [],
   "source": [
    "# Remove outlier taxa from table and tree\n",
    "# Identify outliers per their enrichment\n",
    "outlier_df = Enrichment_df %>%\n",
    "    filter((Clade == \"FL\" & simple_enrich == \"Gut\") |\n",
    "           (Clade == \"HA\" & simple_enrich == \"Environmental\") | \n",
    "           significant == F) %>%\n",
    "    pull(Accession)\n",
    "\n",
    "# df\n",
    "noOutlier_clust_df = filt_clusters_strict %>%\n",
    "    filter(!(Assembly %in% outlier_df))\n",
    "noOutlier_clust_df %>% dfhead\n",
    "\n",
    "# Tree\n",
    "outlier_taxa = outlier_df \n",
    "\n",
    "\n",
    "noOutlier_phylogenomic_tree = drop.tip(phy = phylogenomic_tree, tip = outlier_taxa)\n",
    "noOutlier_phylogenomic_tree"
   ]
  },
  {
   "cell_type": "code",
   "execution_count": null,
   "metadata": {
    "ExecuteTime": {
     "start_time": "2020-08-31T10:34:39.075Z"
    }
   },
   "outputs": [],
   "source": [
    "# Empty result list\n",
    "aov_clust_NoOutlier = list()\n",
    "summary_clade = list()\n",
    "\n",
    "# Create named vector of clades\n",
    "group_clade = factor(noOutlier_clust_df$clade)\n",
    "names(group_clade) = noOutlier_clust_df$Assembly\n",
    "cluster_IDs = noOutlier_clust_df %>% select(starts_with(\"GC\")) %>% colnames()\n",
    "\n",
    "# Run phylogenetic AOV on each gene cluster\n",
    "for(ID in cluster_IDs){\n",
    "    \n",
    "    # Create named vector of variable\n",
    "    variable = noOutlier_clust_df[, ID]\n",
    "    names(variable) = noOutlier_clust_df$Assembly\n",
    "    \n",
    "    # Run phylogenetic anova\n",
    "    aov_result = phylANOVA(tree = noOutlier_phylogenomic_tree, x = group_clade, y = variable, nsim = 1000)\n",
    "    aov_clust_NoOutlier[[ID]] = aov_result  \n",
    "}\n"
   ]
  },
  {
   "cell_type": "code",
   "execution_count": null,
   "metadata": {
    "ExecuteTime": {
     "start_time": "2020-08-31T10:34:39.080Z"
    }
   },
   "outputs": [],
   "source": [
    "aov_clust_NoOutlier"
   ]
  },
  {
   "cell_type": "code",
   "execution_count": null,
   "metadata": {
    "ExecuteTime": {
     "start_time": "2020-08-31T10:34:39.083Z"
    }
   },
   "outputs": [],
   "source": [
    "# Extract P values and adjust using FDR\n",
    "plan(multicore, workers = 5)\n",
    "clusters_phylaov_noOutlier = future_map_dfr(aov_clust_NoOutlier, function(x) x$Pf) %>%\n",
    "    gather(cluster, p_val) %>%\n",
    "    mutate(p_adj = p.adjust(p_val, method = \"fdr\"))\n",
    "\n",
    "# Extract significant clusters\n",
    "clusters_significant_noOutlier = clusters_phylaov_noOutlier %>%\n",
    "    filter(p_adj < 0.1) %>%\n",
    "    pull(cluster)"
   ]
  },
  {
   "cell_type": "code",
   "execution_count": null,
   "metadata": {
    "ExecuteTime": {
     "start_time": "2020-08-31T10:34:39.087Z"
    }
   },
   "outputs": [],
   "source": [
    "# Function to create single table of pairwise P values\n",
    "extract_posthoc = function(Pt, clst){\n",
    "    Pt_df = as.data.frame(Pt)\n",
    "    Pt_df %>% rownames_to_column(\"Clade\") %>%\n",
    "        mutate(., Clust = clst)\n",
    "}\n",
    "\n",
    "# Obtain single table of pairwise P values on significant clusters by phylAOV\n",
    "Pairwise_pvals_NoOutlier = aov_clust_NoOutlier[clusters_significant_noOutlier] %>%\n",
    "    purrr::map2_df(., names(.), function(Pt_table, clst) extract_posthoc(Pt_table$Pt, clst))"
   ]
  },
  {
   "cell_type": "code",
   "execution_count": null,
   "metadata": {
    "ExecuteTime": {
     "start_time": "2020-08-31T10:34:39.090Z"
    }
   },
   "outputs": [],
   "source": [
    "Pairwise_pvals_NoOutlier"
   ]
  },
  {
   "cell_type": "code",
   "execution_count": null,
   "metadata": {
    "ExecuteTime": {
     "start_time": "2020-08-31T10:34:39.094Z"
    }
   },
   "outputs": [],
   "source": [
    "send_email(\"PhyloAOV_NoOutlier\")"
   ]
  },
  {
   "cell_type": "code",
   "execution_count": null,
   "metadata": {},
   "outputs": [],
   "source": []
  },
  {
   "cell_type": "code",
   "execution_count": null,
   "metadata": {
    "ExecuteTime": {
     "start_time": "2020-08-31T10:34:39.099Z"
    }
   },
   "outputs": [],
   "source": [
    "NoOutlier_significant = Pairwise_pvals_NoOutlier %>%\n",
    "    filter(Clust %in% clusters_significant_strict, HA <= 0.05, Clade == \"FL\") %>%\n",
    "    left_join(., Annot_clusters, by = c(\"Clust\" = \"MSA\")) \n",
    "\n",
    "summary_NoOutlier_clusts = NoOutlier_significant %>%\n",
    "    select(Clust, \n",
    "           Count, \n",
    "           Gene_Name, \n",
    "           Annotation, \n",
    "           NOG, \n",
    "           COG_1, \n",
    "           eggNOG_annot, \n",
    "           Interpro_accession, \n",
    "           Interpro_annot) "
   ]
  },
  {
   "cell_type": "code",
   "execution_count": null,
   "metadata": {
    "ExecuteTime": {
     "start_time": "2020-08-31T10:34:39.102Z"
    }
   },
   "outputs": [],
   "source": [
    "# Create table with gene cluster abundance\n",
    "NoOutlier_sig_clust_t = NoOutlier_significant %>% \n",
    "    select(Clust, V11_RL001, starts_with(\"GCA\")) %>% \n",
    "    column_to_rownames(\"Clust\") %>% \n",
    "    t() %>%\n",
    "    as.data.frame() %>%\n",
    "    rownames_to_column(\"Assembly\") %>%\n",
    "    left_join(., df_Clade, by = \"Assembly\")\n",
    "\n",
    "# Summarize on each clade\n",
    "NoOutlier_sig_clust_summary = NoOutlier_sig_clust_t %>%\n",
    "    select(-Assembly) %>% \n",
    "    group_by(clade) %>% \n",
    "    summarise_all(function(x) round(mean(x), 3)) %>%\n",
    "    gather(Cluster, mean, -clade) %>%\n",
    "    spread(clade, mean)\n",
    "                  \n",
    "NoOutlier_sig_clust_summary %>% dfhead"
   ]
  },
  {
   "cell_type": "code",
   "execution_count": null,
   "metadata": {
    "ExecuteTime": {
     "start_time": "2020-08-31T10:34:39.105Z"
    }
   },
   "outputs": [],
   "source": [
    "Enriched_HA_NoOutlier = NoOutlier_sig_clust_summary %>%\n",
    "    filter(HA > FL) %>%\n",
    "    pull(Cluster)\n",
    "\n",
    "summary_NoOutlier_clusts %>%\n",
    "    filter(Clust %in% Enriched_HA_NoOutlier)"
   ]
  },
  {
   "cell_type": "markdown",
   "metadata": {},
   "source": [
    "## Combine phyloAOV runs"
   ]
  },
  {
   "cell_type": "code",
   "execution_count": null,
   "metadata": {
    "ExecuteTime": {
     "start_time": "2020-08-31T10:34:39.109Z"
    }
   },
   "outputs": [],
   "source": [
    "HA_NoOutlier_Significant = summary_NoOutlier_clusts %>%\n",
    "    filter(Clust %in% Enriched_HA_NoOutlier) %>%\n",
    "    mutate(Sig_NoOutlier = T)\n",
    "\n",
    "HA_Significant = summary_HA_clusts %>%\n",
    "    filter(Clust %in% Enriched_HA) %>%\n",
    "    mutate(Sig_HA = T)\n",
    "\n",
    "Gut_Significant = summary_Enrich_clusts %>%\n",
    "    filter(Clust %in% Enriched_Gut)%>%\n",
    "    mutate(Sig_Gut = T)"
   ]
  },
  {
   "cell_type": "code",
   "execution_count": null,
   "metadata": {
    "ExecuteTime": {
     "start_time": "2020-08-31T10:34:39.113Z"
    }
   },
   "outputs": [],
   "source": [
    "All_significants = full_join(HA_Significant, HA_NoOutlier_Significant) %>%\n",
    "    full_join(., Gut_Significant) %>%\n",
    "    mutate_at(c(\"Sig_NoOutlier\", \"Sig_HA\", \"Sig_Gut\"), function(x) if_else(is.na(x), FALSE, TRUE)) %>%\n",
    "    arrange(-Sig_HA, -Sig_NoOutlier, -Sig_Gut)"
   ]
  },
  {
   "cell_type": "code",
   "execution_count": null,
   "metadata": {
    "ExecuteTime": {
     "start_time": "2020-08-31T10:34:39.117Z"
    }
   },
   "outputs": [],
   "source": [
    "All_significants"
   ]
  },
  {
   "cell_type": "code",
   "execution_count": null,
   "metadata": {
    "ExecuteTime": {
     "start_time": "2020-08-31T10:34:39.121Z"
    }
   },
   "outputs": [],
   "source": [
    "Enrichment_df %>%\n",
    "    filter((Clade == \"FL\" & simple_enrich == \"Gut\") |\n",
    "           (Clade == \"HA\" & simple_enrich == \"Environmental\") | \n",
    "           significant == F)"
   ]
  },
  {
   "cell_type": "markdown",
   "metadata": {},
   "source": [
    "## Assessment of Outliers"
   ]
  },
  {
   "cell_type": "code",
   "execution_count": null,
   "metadata": {
    "ExecuteTime": {
     "start_time": "2020-08-31T10:34:39.125Z"
    }
   },
   "outputs": [],
   "source": [
    "PCA_clusters = Annot_clusters %>% \n",
    "    select(MSA, starts_with(\"GCA\"), \"V11_RL001\") %>%\n",
    "    column_to_rownames(\"MSA\") %>%\n",
    "    t %>%\n",
    "    as.data.frame %>%\n",
    "    rownames_to_column(\"Assembly\") %>%\n",
    "    left_join(., df_Clade, by = \"Assembly\")\n",
    "\n",
    "PCA_clusters[1:10, 1:10]"
   ]
  },
  {
   "cell_type": "code",
   "execution_count": null,
   "metadata": {
    "ExecuteTime": {
     "start_time": "2020-08-31T10:34:39.128Z"
    }
   },
   "outputs": [],
   "source": [
    "# Determine outlier taxa and create a column with information\n",
    "outliers_taxa = Enrichment_df %>%\n",
    "    filter((Clade == \"FL\" & simple_enrich == \"Gut\") |\n",
    "           (Clade == \"HA\" & simple_enrich == \"Environmental\") | \n",
    "           significant == F) %>%\n",
    "    mutate(Outlier = str_c(Clade, simple_enrich, sep = \"-\")) %>%\n",
    "    select(Assembly = Accession, Outlier)\n",
    "\n",
    "outliers_taxa\n",
    "\n",
    "# Add outlier information to gene cluster table\n",
    "outliers_clusters = PCA_clusters %>% \n",
    "    left_join(., outliers_taxa) %>%\n",
    "    mutate(Outlier = if_else(is.na(Outlier), \"No\", Outlier))\n",
    "\n",
    "outliers_clusters[1:10, 1:10]"
   ]
  },
  {
   "cell_type": "code",
   "execution_count": null,
   "metadata": {
    "ExecuteTime": {
     "start_time": "2020-08-31T10:34:39.132Z"
    }
   },
   "outputs": [],
   "source": [
    "# Run PCA using micropan package\n",
    "Outliers_PCA = outliers_clusters %>%\n",
    "    select(-clade, -Outlier) %>%\n",
    "    column_to_rownames(\"Assembly\") %>%\n",
    "    as.matrix() %>%\n",
    "    panPca(.)"
   ]
  },
  {
   "cell_type": "code",
   "execution_count": null,
   "metadata": {
    "ExecuteTime": {
     "start_time": "2020-08-31T10:34:39.135Z"
    }
   },
   "outputs": [],
   "source": [
    "# Obtain PCA table for ploting, and add genome information\n",
    "Outliers_scores = outliers_clusters %>%\n",
    "    select(Assembly, clade, Outlier) %>%\n",
    "    left_join(Outliers_PCA$Scores.tbl, by = c(\"Assembly\" = \"GID.tag\"))\n",
    "\n",
    "# Variance explained by each axis of PCA\n",
    "Outliers_variance = Outliers_PCA$Evar.tbl %>% \n",
    "    mutate(Explained.variance = round(Explained.variance*100, 2))\n",
    "\n",
    "Outliers_variance %>% dfhead"
   ]
  },
  {
   "cell_type": "code",
   "execution_count": null,
   "metadata": {
    "ExecuteTime": {
     "start_time": "2020-08-31T10:34:39.139Z"
    }
   },
   "outputs": [],
   "source": [
    "# Plot PCA\n",
    "options(repr.plot.width = 6, repr.plot.height = 4)\n",
    "clades_pallete = c(\"#7f7db9\", \"#15a783\",  \"#e16f0b\")\n",
    "\n",
    "Pan_PCA_plt = Outliers_scores %>%\n",
    "    ggplot(aes(PC1, PC2, color = clade, pch = Outlier)) +\n",
    "    geom_point() + \n",
    "    theme_light() +\n",
    "    scale_color_manual(values = clades_pallete) +\n",
    "    labs(x =  \"PC1 (22.40%)\", y = \"PC2 (8.52%)\")\n",
    "\n",
    "plot(Pan_PCA_plt)"
   ]
  },
  {
   "cell_type": "code",
   "execution_count": null,
   "metadata": {
    "ExecuteTime": {
     "start_time": "2020-08-31T10:34:39.142Z"
    }
   },
   "outputs": [],
   "source": [
    "plot_file = file.path(plots_dir, \"Pan_PCA.png\")\n",
    "save_plot(filename = plot_file, plot = Pan_PCA_plt,\n",
    "          base_height = 4, base_width = 6, dpi = 300)"
   ]
  },
  {
   "cell_type": "code",
   "execution_count": null,
   "metadata": {
    "ExecuteTime": {
     "start_time": "2020-08-31T10:34:39.146Z"
    }
   },
   "outputs": [],
   "source": [
    "ident_outliers = Outliers_scores %>% \n",
    "    filter(Outlier != \"No\") %>%\n",
    "    select(Assembly, clade, Outlier, PC1, PC2) %>%\n",
    "    arrange(PC1)\n",
    "\n",
    "ident_outliers = Enrichment_df %>% \n",
    "    select(Assembly = Accession, Taxonomy) %>%\n",
    "    left_join(ident_outliers, .)\n",
    "\n",
    "ident_outliers"
   ]
  },
  {
   "cell_type": "code",
   "execution_count": null,
   "metadata": {},
   "outputs": [],
   "source": []
  }
 ],
 "metadata": {
  "kernelspec": {
   "display_name": "R [conda env:UpSetR_2]",
   "language": "R",
   "name": "conda-env-UpSetR_2-r"
  },
  "language_info": {
   "codemirror_mode": "r",
   "file_extension": ".r",
   "mimetype": "text/x-r-source",
   "name": "R",
   "pygments_lexer": "r",
   "version": "3.5.1"
  },
  "notify_time": "0",
  "toc": {
   "base_numbering": 1,
   "nav_menu": {},
   "number_sections": true,
   "sideBar": true,
   "skip_h1_title": false,
   "title_cell": "Table of Contents",
   "title_sidebar": "Contents",
   "toc_cell": false,
   "toc_position": {
    "height": "819.091px",
    "left": "35px",
    "top": "182.284px",
    "width": "274.422px"
   },
   "toc_section_display": true,
   "toc_window_display": true
  }
 },
 "nbformat": 4,
 "nbformat_minor": 2
}
