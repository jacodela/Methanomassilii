{
 "cells": [
  {
   "cell_type": "markdown",
   "metadata": {},
   "source": [
    " # Goal\n",
    " \n",
    " Jacobo de la Cuesta-Zuluaga\n",
    " \n",
    " * summarize results of the assembly pipeline\n",
    " \n",
    " > `90% completion + < 10% redundancy ~= Golden`"
   ]
  },
  {
   "cell_type": "markdown",
   "metadata": {},
   "source": [
    "# Var"
   ]
  },
  {
   "cell_type": "markdown",
   "metadata": {},
   "source": [
    "Note that the file path was changed. It is now `/ebio/abt3_projects/vadinCA11/data/metagenome/HiSeqRuns83-91/incorrect_sample_sheet/LLMGA/`"
   ]
  },
  {
   "cell_type": "code",
   "execution_count": 43,
   "metadata": {
    "ExecuteTime": {
     "end_time": "2018-04-07T12:33:11.710849Z",
     "start_time": "2018-04-07T12:33:11.699Z"
    }
   },
   "outputs": [],
   "source": [
    "work_dir = '/ebio/abt3_projects/vadinCA11/data/metagenome/LLMGA/HiSeqRun83-91/summary/'\n",
    "\n",
    "results_dir = '/ebio/abt3_projects/vadinCA11/data/metagenome/LLMGA/'\n",
    "das_tool_dir = '/ebio/abt3_projects/vadinCA11/data/metagenome/LLMGA/HiSeqRun83-91/bin_refine/DAS_Tool/'\n",
    "sourmash_dir = '/ebio/abt3_projects/vadinCA11/data/metagenome/LLMGA/HiSeqRun83-91/sourmash/'\n",
    "checkm_dir = '/ebio/abt3_projects/vadinCA11/data/metagenome/LLMGA/HiSeqRun83-91/checkm/'\n",
    "contig_db_file = '/ebio/abt3_projects/vadinCA11/data/metagenome/LLMGA/HiSeqRun83-91/anvio/coassemble.db'\n",
    "\n",
    "conda_env = 'anvio'"
   ]
  },
  {
   "cell_type": "markdown",
   "metadata": {},
   "source": [
    "# Init"
   ]
  },
  {
   "cell_type": "code",
   "execution_count": 2,
   "metadata": {
    "ExecuteTime": {
     "end_time": "2018-04-07T11:55:14.059258Z",
     "start_time": "2018-04-07T11:55:13.985Z"
    }
   },
   "outputs": [],
   "source": [
    "library(dplyr)\n",
    "library(tidyr)\n",
    "library(ggplot2)\n",
    "source('/ebio/abt3_projects/vadinCA11/code/init.R')"
   ]
  },
  {
   "cell_type": "code",
   "execution_count": 39,
   "metadata": {
    "ExecuteTime": {
     "end_time": "2018-04-07T12:30:33.829519Z",
     "start_time": "2018-04-07T12:30:33.824Z"
    }
   },
   "outputs": [
    {
     "name": "stdout",
     "output_type": "stream",
     "text": [
      "Directory already exists: /ebio/abt3_projects/vadinCA11/data/metagenome/LLMGA/HiSeqRun83-91/summary/ \n"
     ]
    }
   ],
   "source": [
    "make_dir(work_dir)\n",
    "setwd(work_dir)"
   ]
  },
  {
   "cell_type": "markdown",
   "metadata": {},
   "source": [
    "# DAS tool"
   ]
  },
  {
   "cell_type": "code",
   "execution_count": 10,
   "metadata": {
    "ExecuteTime": {
     "end_time": "2018-04-07T11:59:58.707270Z",
     "start_time": "2018-04-07T11:59:58.669Z"
    }
   },
   "outputs": [
    {
     "name": "stdout",
     "output_type": "stream",
     "text": [
      "[1] 317  13\n"
     ]
    },
    {
     "data": {
      "text/html": [
       "<table>\n",
       "<thead><tr><th scope=col>bin</th><th scope=col>uniqueBacSCGs</th><th scope=col>redundantBacSCGs</th><th scope=col>uniqueArcSCGs</th><th scope=col>redundantArcSCGs</th><th scope=col>bacRatio</th><th scope=col>arcRatio</th><th scope=col>size</th><th scope=col>contigs</th><th scope=col>N50</th><th scope=col>binScore</th><th scope=col>SCG_completeness</th><th scope=col>SCG_redundancy</th></tr></thead>\n",
       "<tbody>\n",
       "\t<tr><td>metabat2_low_PE.500</td><td>51                 </td><td>0                  </td><td>14                 </td><td>0                  </td><td>1                  </td><td>0.3684211          </td><td>2917940            </td><td>13                 </td><td>343543             </td><td>1                  </td><td>100                </td><td>0                  </td></tr>\n",
       "\t<tr><td>metabat2_low_PE.468</td><td>51                 </td><td>0                  </td><td>14                 </td><td>0                  </td><td>1                  </td><td>0.3684211          </td><td>2396688            </td><td>59                 </td><td> 67424             </td><td>1                  </td><td>100                </td><td>0                  </td></tr>\n",
       "\t<tr><td>metabat2_low_PE.144</td><td>51                 </td><td>0                  </td><td>15                 </td><td>0                  </td><td>1                  </td><td>0.3947368          </td><td>1950149            </td><td>51                 </td><td> 58624             </td><td>1                  </td><td>100                </td><td>0                  </td></tr>\n",
       "</tbody>\n",
       "</table>\n"
      ],
      "text/latex": [
       "\\begin{tabular}{r|lllllllllllll}\n",
       " bin & uniqueBacSCGs & redundantBacSCGs & uniqueArcSCGs & redundantArcSCGs & bacRatio & arcRatio & size & contigs & N50 & binScore & SCG\\_completeness & SCG\\_redundancy\\\\\n",
       "\\hline\n",
       "\t metabat2\\_low\\_PE.500 & 51                      & 0                       & 14                      & 0                       & 1                       & 0.3684211               & 2917940                 & 13                      & 343543                  & 1                       & 100                     & 0                      \\\\\n",
       "\t metabat2\\_low\\_PE.468 & 51                      & 0                       & 14                      & 0                       & 1                       & 0.3684211               & 2396688                 & 59                      &  67424                  & 1                       & 100                     & 0                      \\\\\n",
       "\t metabat2\\_low\\_PE.144 & 51                      & 0                       & 15                      & 0                       & 1                       & 0.3947368               & 1950149                 & 51                      &  58624                  & 1                       & 100                     & 0                      \\\\\n",
       "\\end{tabular}\n"
      ],
      "text/markdown": [
       "\n",
       "bin | uniqueBacSCGs | redundantBacSCGs | uniqueArcSCGs | redundantArcSCGs | bacRatio | arcRatio | size | contigs | N50 | binScore | SCG_completeness | SCG_redundancy | \n",
       "|---|---|---|\n",
       "| metabat2_low_PE.500 | 51                  | 0                   | 14                  | 0                   | 1                   | 0.3684211           | 2917940             | 13                  | 343543              | 1                   | 100                 | 0                   | \n",
       "| metabat2_low_PE.468 | 51                  | 0                   | 14                  | 0                   | 1                   | 0.3684211           | 2396688             | 59                  |  67424              | 1                   | 100                 | 0                   | \n",
       "| metabat2_low_PE.144 | 51                  | 0                   | 15                  | 0                   | 1                   | 0.3947368           | 1950149             | 51                  |  58624              | 1                   | 100                 | 0                   | \n",
       "\n",
       "\n"
      ],
      "text/plain": [
       "  bin                 uniqueBacSCGs redundantBacSCGs uniqueArcSCGs\n",
       "1 metabat2_low_PE.500 51            0                14           \n",
       "2 metabat2_low_PE.468 51            0                14           \n",
       "3 metabat2_low_PE.144 51            0                15           \n",
       "  redundantArcSCGs bacRatio arcRatio  size    contigs N50    binScore\n",
       "1 0                1        0.3684211 2917940 13      343543 1       \n",
       "2 0                1        0.3684211 2396688 59       67424 1       \n",
       "3 0                1        0.3947368 1950149 51       58624 1       \n",
       "  SCG_completeness SCG_redundancy\n",
       "1 100              0             \n",
       "2 100              0             \n",
       "3 100              0             "
      ]
     },
     "metadata": {},
     "output_type": "display_data"
    }
   ],
   "source": [
    "f = file.path(das_tool_dir, 'bins_DASTool_summary.txt')\n",
    "dts = read.delim(f, sep='\\t')\n",
    "dts %>% status"
   ]
  },
  {
   "cell_type": "code",
   "execution_count": 11,
   "metadata": {
    "ExecuteTime": {
     "end_time": "2018-04-07T12:00:02.215797Z",
     "start_time": "2018-04-07T12:00:01.067Z"
    }
   },
   "outputs": [
    {
     "data": {
      "image/png": "[encoded data removed]",
      "text/plain": [
       "plot without title"
      ]
     },
     "metadata": {},
     "output_type": "display_data"
    }
   ],
   "source": [
    "p = ggplot(dts, aes(binScore)) +\n",
    "    geom_histogram(bins=40) +\n",
    "    theme_bw()\n",
    "\n",
    "options(repr.plot.height=2, repr.plot.width=3)\n",
    "plot(p)"
   ]
  },
  {
   "cell_type": "code",
   "execution_count": 12,
   "metadata": {
    "ExecuteTime": {
     "end_time": "2018-04-07T12:00:12.802527Z",
     "start_time": "2018-04-07T12:00:12.299Z"
    }
   },
   "outputs": [
    {
     "data": {
      "image/png": "[encoded data removed]",
      "text/plain": [
       "plot without title"
      ]
     },
     "metadata": {},
     "output_type": "display_data"
    }
   ],
   "source": [
    "p = ggplot(dts, aes(SCG_completeness)) +\n",
    "    geom_histogram(bins=40) +\n",
    "    theme_bw()\n",
    "\n",
    "options(repr.plot.height=2, repr.plot.width=3)\n",
    "plot(p)"
   ]
  },
  {
   "cell_type": "code",
   "execution_count": 13,
   "metadata": {
    "ExecuteTime": {
     "end_time": "2018-04-07T12:00:22.844430Z",
     "start_time": "2018-04-07T12:00:22.219Z"
    }
   },
   "outputs": [
    {
     "data": {
      "image/png": "[encoded data removed]",
      "text/plain": [
       "plot without title"
      ]
     },
     "metadata": {},
     "output_type": "display_data"
    }
   ],
   "source": [
    "p = ggplot(dts, aes(binScore, SCG_completeness)) +\n",
    "    geom_point(alpha=0.5) +\n",
    "    theme_bw()\n",
    "\n",
    "options(repr.plot.height=3, repr.plot.width=4)\n",
    "plot(p)"
   ]
  },
  {
   "cell_type": "code",
   "execution_count": 14,
   "metadata": {
    "ExecuteTime": {
     "end_time": "2018-04-07T12:00:40.721309Z",
     "start_time": "2018-04-07T12:00:40.226Z"
    }
   },
   "outputs": [
    {
     "data": {
      "image/png": "[encoded data removed]",
      "text/plain": [
       "plot without title"
      ]
     },
     "metadata": {},
     "output_type": "display_data"
    }
   ],
   "source": [
    "p = ggplot(dts, aes(SCG_completeness, SCG_redundancy)) +\n",
    "    geom_point(alpha=0.5) +\n",
    "    theme_bw()\n",
    "\n",
    "options(repr.plot.height=3, repr.plot.width=4)\n",
    "plot(p)"
   ]
  },
  {
   "cell_type": "code",
   "execution_count": 16,
   "metadata": {
    "ExecuteTime": {
     "end_time": "2018-04-07T12:01:05.101063Z",
     "start_time": "2018-04-07T12:01:05.077Z"
    }
   },
   "outputs": [
    {
     "name": "stdout",
     "output_type": "stream",
     "text": [
      "[1] 115  13\n"
     ]
    },
    {
     "data": {
      "text/html": [
       "<table>\n",
       "<thead><tr><th scope=col>bin</th><th scope=col>uniqueBacSCGs</th><th scope=col>redundantBacSCGs</th><th scope=col>uniqueArcSCGs</th><th scope=col>redundantArcSCGs</th><th scope=col>bacRatio</th><th scope=col>arcRatio</th><th scope=col>size</th><th scope=col>contigs</th><th scope=col>N50</th><th scope=col>binScore</th><th scope=col>SCG_completeness</th><th scope=col>SCG_redundancy</th></tr></thead>\n",
       "<tbody>\n",
       "\t<tr><td>metabat2_low_PE.500</td><td>51                 </td><td>0                  </td><td>14                 </td><td>0                  </td><td>1                  </td><td>0.3684211          </td><td>2917940            </td><td>13                 </td><td>343543             </td><td>1                  </td><td>100                </td><td>0                  </td></tr>\n",
       "\t<tr><td>metabat2_low_PE.468</td><td>51                 </td><td>0                  </td><td>14                 </td><td>0                  </td><td>1                  </td><td>0.3684211          </td><td>2396688            </td><td>59                 </td><td> 67424             </td><td>1                  </td><td>100                </td><td>0                  </td></tr>\n",
       "\t<tr><td>metabat2_low_PE.144</td><td>51                 </td><td>0                  </td><td>15                 </td><td>0                  </td><td>1                  </td><td>0.3947368          </td><td>1950149            </td><td>51                 </td><td> 58624             </td><td>1                  </td><td>100                </td><td>0                  </td></tr>\n",
       "</tbody>\n",
       "</table>\n"
      ],
      "text/latex": [
       "\\begin{tabular}{r|lllllllllllll}\n",
       " bin & uniqueBacSCGs & redundantBacSCGs & uniqueArcSCGs & redundantArcSCGs & bacRatio & arcRatio & size & contigs & N50 & binScore & SCG\\_completeness & SCG\\_redundancy\\\\\n",
       "\\hline\n",
       "\t metabat2\\_low\\_PE.500 & 51                      & 0                       & 14                      & 0                       & 1                       & 0.3684211               & 2917940                 & 13                      & 343543                  & 1                       & 100                     & 0                      \\\\\n",
       "\t metabat2\\_low\\_PE.468 & 51                      & 0                       & 14                      & 0                       & 1                       & 0.3684211               & 2396688                 & 59                      &  67424                  & 1                       & 100                     & 0                      \\\\\n",
       "\t metabat2\\_low\\_PE.144 & 51                      & 0                       & 15                      & 0                       & 1                       & 0.3947368               & 1950149                 & 51                      &  58624                  & 1                       & 100                     & 0                      \\\\\n",
       "\\end{tabular}\n"
      ],
      "text/markdown": [
       "\n",
       "bin | uniqueBacSCGs | redundantBacSCGs | uniqueArcSCGs | redundantArcSCGs | bacRatio | arcRatio | size | contigs | N50 | binScore | SCG_completeness | SCG_redundancy | \n",
       "|---|---|---|\n",
       "| metabat2_low_PE.500 | 51                  | 0                   | 14                  | 0                   | 1                   | 0.3684211           | 2917940             | 13                  | 343543              | 1                   | 100                 | 0                   | \n",
       "| metabat2_low_PE.468 | 51                  | 0                   | 14                  | 0                   | 1                   | 0.3684211           | 2396688             | 59                  |  67424              | 1                   | 100                 | 0                   | \n",
       "| metabat2_low_PE.144 | 51                  | 0                   | 15                  | 0                   | 1                   | 0.3947368           | 1950149             | 51                  |  58624              | 1                   | 100                 | 0                   | \n",
       "\n",
       "\n"
      ],
      "text/plain": [
       "  bin                 uniqueBacSCGs redundantBacSCGs uniqueArcSCGs\n",
       "1 metabat2_low_PE.500 51            0                14           \n",
       "2 metabat2_low_PE.468 51            0                14           \n",
       "3 metabat2_low_PE.144 51            0                15           \n",
       "  redundantArcSCGs bacRatio arcRatio  size    contigs N50    binScore\n",
       "1 0                1        0.3684211 2917940 13      343543 1       \n",
       "2 0                1        0.3684211 2396688 59       67424 1       \n",
       "3 0                1        0.3947368 1950149 51       58624 1       \n",
       "  SCG_completeness SCG_redundancy\n",
       "1 100              0             \n",
       "2 100              0             \n",
       "3 100              0             "
      ]
     },
     "metadata": {},
     "output_type": "display_data"
    }
   ],
   "source": [
    "# high quality bins\n",
    "dts_gold = das_sum %>% \n",
    "    filter(SCG_completeness >= 90, SCG_redundancy < 10) \n",
    "\n",
    "dts_gold %>% status"
   ]
  },
  {
   "cell_type": "code",
   "execution_count": 23,
   "metadata": {
    "ExecuteTime": {
     "end_time": "2018-04-07T12:04:23.047980Z",
     "start_time": "2018-04-07T12:04:23.041Z"
    }
   },
   "outputs": [
    {
     "name": "stdout",
     "output_type": "stream",
     "text": [
      "[1] 575   3\n"
     ]
    },
    {
     "data": {
      "text/html": [
       "<table>\n",
       "<thead><tr><th scope=col>bin</th><th scope=col>category</th><th scope=col>value</th></tr></thead>\n",
       "<tbody>\n",
       "\t<tr><td>metabat2_low_PE.500</td><td>contigs            </td><td>13                 </td></tr>\n",
       "\t<tr><td>metabat2_low_PE.468</td><td>contigs            </td><td>59                 </td></tr>\n",
       "\t<tr><td>metabat2_low_PE.144</td><td>contigs            </td><td>51                 </td></tr>\n",
       "</tbody>\n",
       "</table>\n"
      ],
      "text/latex": [
       "\\begin{tabular}{r|lll}\n",
       " bin & category & value\\\\\n",
       "\\hline\n",
       "\t metabat2\\_low\\_PE.500 & contigs                 & 13                     \\\\\n",
       "\t metabat2\\_low\\_PE.468 & contigs                 & 59                     \\\\\n",
       "\t metabat2\\_low\\_PE.144 & contigs                 & 51                     \\\\\n",
       "\\end{tabular}\n"
      ],
      "text/markdown": [
       "\n",
       "bin | category | value | \n",
       "|---|---|---|\n",
       "| metabat2_low_PE.500 | contigs             | 13                  | \n",
       "| metabat2_low_PE.468 | contigs             | 59                  | \n",
       "| metabat2_low_PE.144 | contigs             | 51                  | \n",
       "\n",
       "\n"
      ],
      "text/plain": [
       "  bin                 category value\n",
       "1 metabat2_low_PE.500 contigs  13   \n",
       "2 metabat2_low_PE.468 contigs  59   \n",
       "3 metabat2_low_PE.144 contigs  51   "
      ]
     },
     "metadata": {},
     "output_type": "display_data"
    }
   ],
   "source": [
    "dts_gold_s = dts_gold %>%\n",
    "    dplyr::select(bin, contigs, N50, binScore, SCG_completeness, SCG_redundancy) %>%\n",
    "    gather(category, value, -bin)\n",
    "\n",
    "dts_gold_s %>% status"
   ]
  },
  {
   "cell_type": "code",
   "execution_count": 26,
   "metadata": {
    "ExecuteTime": {
     "end_time": "2018-04-07T12:05:51.726419Z",
     "start_time": "2018-04-07T12:05:50.093Z"
    }
   },
   "outputs": [
    {
     "name": "stderr",
     "output_type": "stream",
     "text": [
      "`stat_bin()` using `bins = 30`. Pick better value with `binwidth`.\n"
     ]
    },
    {
     "data": {
      "image/png": "[encoded data removed]",
      "text/plain": [
       "plot without title"
      ]
     },
     "metadata": {},
     "output_type": "display_data"
    }
   ],
   "source": [
    "p = ggplot(dts_gold_s, aes(value)) +\n",
    "    geom_histogram() +\n",
    "    facet_wrap(~ category, scales='free_x') +\n",
    "    theme_bw()\n",
    "\n",
    "options(repr.plot.height=3.5, repr.plot.width=6)\n",
    "plot(p)"
   ]
  },
  {
   "cell_type": "markdown",
   "metadata": {},
   "source": [
    "# Sourmash"
   ]
  },
  {
   "cell_type": "code",
   "execution_count": 28,
   "metadata": {
    "ExecuteTime": {
     "end_time": "2018-04-07T12:07:41.178716Z",
     "start_time": "2018-04-07T12:07:41.137Z"
    }
   },
   "outputs": [
    {
     "name": "stdout",
     "output_type": "stream",
     "text": [
      "[1] 317   9\n"
     ]
    },
    {
     "data": {
      "text/html": [
       "<table>\n",
       "<thead><tr><th scope=col>ID</th><th scope=col>status</th><th scope=col>superkingdom</th><th scope=col>phylum</th><th scope=col>class</th><th scope=col>order</th><th scope=col>family</th><th scope=col>genus</th><th scope=col>species</th></tr></thead>\n",
       "<tbody>\n",
       "\t<tr><td>/ebio/abt3_projects/vadinCA11/data/metagenome/LLMGA/HiSeqRun83-91/bin_refine/DAS_Tool//bins_DASTool_bins/maxbin2_high_prob.004.contigs.fa</td><td>nomatch                                                                                                                                  </td><td>                                                                                                                                         </td><td>                                                                                                                                         </td><td>                                                                                                                                         </td><td>                                                                                                                                         </td><td>                                                                                                                                         </td><td>                                                                                                                                         </td><td>                                                                                                                                         </td></tr>\n",
       "\t<tr><td>/ebio/abt3_projects/vadinCA11/data/metagenome/LLMGA/HiSeqRun83-91/bin_refine/DAS_Tool//bins_DASTool_bins/maxbin2_high_prob.010.contigs.fa</td><td>nomatch                                                                                                                                  </td><td>                                                                                                                                         </td><td>                                                                                                                                         </td><td>                                                                                                                                         </td><td>                                                                                                                                         </td><td>                                                                                                                                         </td><td>                                                                                                                                         </td><td>                                                                                                                                         </td></tr>\n",
       "\t<tr><td>/ebio/abt3_projects/vadinCA11/data/metagenome/LLMGA/HiSeqRun83-91/bin_refine/DAS_Tool//bins_DASTool_bins/maxbin2_high_prob.020.contigs.fa</td><td>nomatch                                                                                                                                  </td><td>                                                                                                                                         </td><td>                                                                                                                                         </td><td>                                                                                                                                         </td><td>                                                                                                                                         </td><td>                                                                                                                                         </td><td>                                                                                                                                         </td><td>                                                                                                                                         </td></tr>\n",
       "</tbody>\n",
       "</table>\n"
      ],
      "text/latex": [
       "\\begin{tabular}{r|lllllllll}\n",
       " ID & status & superkingdom & phylum & class & order & family & genus & species\\\\\n",
       "\\hline\n",
       "\t /ebio/abt3\\_projects/vadinCA11/data/metagenome/LLMGA/HiSeqRun83-91/bin\\_refine/DAS\\_Tool//bins\\_DASTool\\_bins/maxbin2\\_high\\_prob.004.contigs.fa & nomatch                                                                                                                                                 &                                                                                                                                                         &                                                                                                                                                         &                                                                                                                                                         &                                                                                                                                                         &                                                                                                                                                         &                                                                                                                                                         &                                                                                                                                                        \\\\\n",
       "\t /ebio/abt3\\_projects/vadinCA11/data/metagenome/LLMGA/HiSeqRun83-91/bin\\_refine/DAS\\_Tool//bins\\_DASTool\\_bins/maxbin2\\_high\\_prob.010.contigs.fa & nomatch                                                                                                                                                 &                                                                                                                                                         &                                                                                                                                                         &                                                                                                                                                         &                                                                                                                                                         &                                                                                                                                                         &                                                                                                                                                         &                                                                                                                                                        \\\\\n",
       "\t /ebio/abt3\\_projects/vadinCA11/data/metagenome/LLMGA/HiSeqRun83-91/bin\\_refine/DAS\\_Tool//bins\\_DASTool\\_bins/maxbin2\\_high\\_prob.020.contigs.fa & nomatch                                                                                                                                                 &                                                                                                                                                         &                                                                                                                                                         &                                                                                                                                                         &                                                                                                                                                         &                                                                                                                                                         &                                                                                                                                                         &                                                                                                                                                        \\\\\n",
       "\\end{tabular}\n"
      ],
      "text/markdown": [
       "\n",
       "ID | status | superkingdom | phylum | class | order | family | genus | species | \n",
       "|---|---|---|\n",
       "| /ebio/abt3_projects/vadinCA11/data/metagenome/LLMGA/HiSeqRun83-91/bin_refine/DAS_Tool//bins_DASTool_bins/maxbin2_high_prob.004.contigs.fa | nomatch                                                                                                                                   |                                                                                                                                           |                                                                                                                                           |                                                                                                                                           |                                                                                                                                           |                                                                                                                                           |                                                                                                                                           |                                                                                                                                           | \n",
       "| /ebio/abt3_projects/vadinCA11/data/metagenome/LLMGA/HiSeqRun83-91/bin_refine/DAS_Tool//bins_DASTool_bins/maxbin2_high_prob.010.contigs.fa | nomatch                                                                                                                                   |                                                                                                                                           |                                                                                                                                           |                                                                                                                                           |                                                                                                                                           |                                                                                                                                           |                                                                                                                                           |                                                                                                                                           | \n",
       "| /ebio/abt3_projects/vadinCA11/data/metagenome/LLMGA/HiSeqRun83-91/bin_refine/DAS_Tool//bins_DASTool_bins/maxbin2_high_prob.020.contigs.fa | nomatch                                                                                                                                   |                                                                                                                                           |                                                                                                                                           |                                                                                                                                           |                                                                                                                                           |                                                                                                                                           |                                                                                                                                           |                                                                                                                                           | \n",
       "\n",
       "\n"
      ],
      "text/plain": [
       "  ID                                                                                                                                       \n",
       "1 /ebio/abt3_projects/vadinCA11/data/metagenome/LLMGA/HiSeqRun83-91/bin_refine/DAS_Tool//bins_DASTool_bins/maxbin2_high_prob.004.contigs.fa\n",
       "2 /ebio/abt3_projects/vadinCA11/data/metagenome/LLMGA/HiSeqRun83-91/bin_refine/DAS_Tool//bins_DASTool_bins/maxbin2_high_prob.010.contigs.fa\n",
       "3 /ebio/abt3_projects/vadinCA11/data/metagenome/LLMGA/HiSeqRun83-91/bin_refine/DAS_Tool//bins_DASTool_bins/maxbin2_high_prob.020.contigs.fa\n",
       "  status  superkingdom phylum class order family genus species\n",
       "1 nomatch                                                     \n",
       "2 nomatch                                                     \n",
       "3 nomatch                                                     "
      ]
     },
     "metadata": {},
     "output_type": "display_data"
    }
   ],
   "source": [
    "f = file.path(sourmash_dir, 'DASTool_scaffolds2bin_sm-lca-clsfy.txt')\n",
    "sm = read.delim(f, sep='\\t')\n",
    "sm %>% status"
   ]
  },
  {
   "cell_type": "code",
   "execution_count": 30,
   "metadata": {
    "ExecuteTime": {
     "end_time": "2018-04-07T12:08:02.285204Z",
     "start_time": "2018-04-07T12:08:02.274Z"
    }
   },
   "outputs": [
    {
     "data": {
      "text/html": [
       "<table>\n",
       "<thead><tr><th scope=col>ID</th><th scope=col>status</th><th scope=col>superkingdom</th><th scope=col>phylum</th><th scope=col>class</th><th scope=col>order</th><th scope=col>family</th><th scope=col>genus</th><th scope=col>species</th></tr></thead>\n",
       "<tbody>\n",
       "\t<tr><td>/ebio/abt3_projects/vadinCA11/data/metagenome/LLMGA/HiSeqRun83-91/bin_refine/DAS_Tool//bins_DASTool_bins/maxbin2_low_prob.159.contigs.fa</td><td>found                                                                                                                                   </td><td>Archaea                                                                                                                                 </td><td>Euryarchaeota                                                                                                                           </td><td>Methanobacteria                                                                                                                         </td><td>Methanobacteriales                                                                                                                      </td><td>Methanobacteriaceae                                                                                                                     </td><td>Methanobrevibacter                                                                                                                      </td><td>Methanobrevibacter smithii                                                                                                              </td></tr>\n",
       "\t<tr><td>/ebio/abt3_projects/vadinCA11/data/metagenome/LLMGA/HiSeqRun83-91/bin_refine/DAS_Tool//bins_DASTool_bins/metabat2_low_PE.478.contigs.fa </td><td>disagree                                                                                                                                </td><td>Archaea                                                                                                                                 </td><td>Euryarchaeota                                                                                                                           </td><td>                                                                                                                                        </td><td>                                                                                                                                        </td><td>                                                                                                                                        </td><td>                                                                                                                                        </td><td>                                                                                                                                        </td></tr>\n",
       "</tbody>\n",
       "</table>\n"
      ],
      "text/latex": [
       "\\begin{tabular}{r|lllllllll}\n",
       " ID & status & superkingdom & phylum & class & order & family & genus & species\\\\\n",
       "\\hline\n",
       "\t /ebio/abt3\\_projects/vadinCA11/data/metagenome/LLMGA/HiSeqRun83-91/bin\\_refine/DAS\\_Tool//bins\\_DASTool\\_bins/maxbin2\\_low\\_prob.159.contigs.fa & found                                                                                                                                                  & Archaea                                                                                                                                                & Euryarchaeota                                                                                                                                          & Methanobacteria                                                                                                                                        & Methanobacteriales                                                                                                                                     & Methanobacteriaceae                                                                                                                                    & Methanobrevibacter                                                                                                                                     & Methanobrevibacter smithii                                                                                                                            \\\\\n",
       "\t /ebio/abt3\\_projects/vadinCA11/data/metagenome/LLMGA/HiSeqRun83-91/bin\\_refine/DAS\\_Tool//bins\\_DASTool\\_bins/metabat2\\_low\\_PE.478.contigs.fa  & disagree                                                                                                                                               & Archaea                                                                                                                                                & Euryarchaeota                                                                                                                                          &                                                                                                                                                        &                                                                                                                                                        &                                                                                                                                                        &                                                                                                                                                        &                                                                                                                                                       \\\\\n",
       "\\end{tabular}\n"
      ],
      "text/markdown": [
       "\n",
       "ID | status | superkingdom | phylum | class | order | family | genus | species | \n",
       "|---|---|\n",
       "| /ebio/abt3_projects/vadinCA11/data/metagenome/LLMGA/HiSeqRun83-91/bin_refine/DAS_Tool//bins_DASTool_bins/maxbin2_low_prob.159.contigs.fa | found                                                                                                                                    | Archaea                                                                                                                                  | Euryarchaeota                                                                                                                            | Methanobacteria                                                                                                                          | Methanobacteriales                                                                                                                       | Methanobacteriaceae                                                                                                                      | Methanobrevibacter                                                                                                                       | Methanobrevibacter smithii                                                                                                               | \n",
       "| /ebio/abt3_projects/vadinCA11/data/metagenome/LLMGA/HiSeqRun83-91/bin_refine/DAS_Tool//bins_DASTool_bins/metabat2_low_PE.478.contigs.fa  | disagree                                                                                                                                 | Archaea                                                                                                                                  | Euryarchaeota                                                                                                                            |                                                                                                                                          |                                                                                                                                          |                                                                                                                                          |                                                                                                                                          |                                                                                                                                          | \n",
       "\n",
       "\n"
      ],
      "text/plain": [
       "  ID                                                                                                                                      \n",
       "1 /ebio/abt3_projects/vadinCA11/data/metagenome/LLMGA/HiSeqRun83-91/bin_refine/DAS_Tool//bins_DASTool_bins/maxbin2_low_prob.159.contigs.fa\n",
       "2 /ebio/abt3_projects/vadinCA11/data/metagenome/LLMGA/HiSeqRun83-91/bin_refine/DAS_Tool//bins_DASTool_bins/metabat2_low_PE.478.contigs.fa \n",
       "  status   superkingdom phylum        class           order             \n",
       "1 found    Archaea      Euryarchaeota Methanobacteria Methanobacteriales\n",
       "2 disagree Archaea      Euryarchaeota                                   \n",
       "  family              genus              species                   \n",
       "1 Methanobacteriaceae Methanobrevibacter Methanobrevibacter smithii\n",
       "2                                                                  "
      ]
     },
     "metadata": {},
     "output_type": "display_data"
    }
   ],
   "source": [
    "sm %>%\n",
    "    filter(superkingdom == 'Archaea')"
   ]
  },
  {
   "cell_type": "markdown",
   "metadata": {},
   "source": [
    "# CheckM"
   ]
  },
  {
   "cell_type": "code",
   "execution_count": null,
   "metadata": {},
   "outputs": [],
   "source": []
  },
  {
   "cell_type": "markdown",
   "metadata": {},
   "source": [
    "# 16S check"
   ]
  },
  {
   "cell_type": "code",
   "execution_count": 47,
   "metadata": {
    "ExecuteTime": {
     "end_time": "2018-04-07T12:37:16.826992Z",
     "start_time": "2018-04-07T12:35:34.660Z"
    }
   },
   "outputs": [
    {
     "data": {
      "text/html": [
       "<ol class=list-inline>\n",
       "\t<li>'* Ribosomal_RNAs [type: Ribosomal_RNAs]: Archaeal_16S_rRNA, Archaeal_23S_rRNA,'</li>\n",
       "\t<li>'Archaeal_5S_rRNA, Bacterial_16S_rRNA, Bacterial_23S_rRNA, Bacterial_5S_rRNA,'</li>\n",
       "\t<li>'Eukaryotic_28S_rRNA, Eukaryotic_5S_rRNA, Eukaryotic_5_8S_rRNA,'</li>\n",
       "\t<li>'Mitochondrial_12S_rRNA, Mitochondrial_16S_rRNA, Archaeal_5_8S_rRNA'</li>\n",
       "\t<li>''</li>\n",
       "\t<li>''</li>\n",
       "</ol>\n"
      ],
      "text/latex": [
       "\\begin{enumerate*}\n",
       "\\item '* Ribosomal\\_RNAs {[}type: Ribosomal\\_RNAs{]}: Archaeal\\_16S\\_rRNA, Archaeal\\_23S\\_rRNA,'\n",
       "\\item 'Archaeal\\_5S\\_rRNA, Bacterial\\_16S\\_rRNA, Bacterial\\_23S\\_rRNA, Bacterial\\_5S\\_rRNA,'\n",
       "\\item 'Eukaryotic\\_28S\\_rRNA, Eukaryotic\\_5S\\_rRNA, Eukaryotic\\_5\\_8S\\_rRNA,'\n",
       "\\item 'Mitochondrial\\_12S\\_rRNA, Mitochondrial\\_16S\\_rRNA, Archaeal\\_5\\_8S\\_rRNA'\n",
       "\\item ''\n",
       "\\item ''\n",
       "\\end{enumerate*}\n"
      ],
      "text/markdown": [
       "1. '* Ribosomal_RNAs [type: Ribosomal_RNAs]: Archaeal_16S_rRNA, Archaeal_23S_rRNA,'\n",
       "2. 'Archaeal_5S_rRNA, Bacterial_16S_rRNA, Bacterial_23S_rRNA, Bacterial_5S_rRNA,'\n",
       "3. 'Eukaryotic_28S_rRNA, Eukaryotic_5S_rRNA, Eukaryotic_5_8S_rRNA,'\n",
       "4. 'Mitochondrial_12S_rRNA, Mitochondrial_16S_rRNA, Archaeal_5_8S_rRNA'\n",
       "5. ''\n",
       "6. ''\n",
       "\n",
       "\n"
      ],
      "text/plain": [
       "[1] \"* Ribosomal_RNAs [type: Ribosomal_RNAs]: Archaeal_16S_rRNA, Archaeal_23S_rRNA,\"\n",
       "[2] \"Archaeal_5S_rRNA, Bacterial_16S_rRNA, Bacterial_23S_rRNA, Bacterial_5S_rRNA,\"  \n",
       "[3] \"Eukaryotic_28S_rRNA, Eukaryotic_5S_rRNA, Eukaryotic_5_8S_rRNA,\"                \n",
       "[4] \"Mitochondrial_12S_rRNA, Mitochondrial_16S_rRNA, Archaeal_5_8S_rRNA\"            \n",
       "[5] \"\"                                                                              \n",
       "[6] \"\"                                                                              "
      ]
     },
     "metadata": {},
     "output_type": "display_data"
    }
   ],
   "source": [
    "# listing available genes\n",
    "cmd = c(\n",
    "    'anvi-get-sequences-for-hmm-hits',\n",
    "    '-c', contig_db_file, \n",
    "    '--hmm-source Ribosomal_RNAs',\n",
    "    '--list-available-gene-names'\n",
    ")\n",
    "cmd = paste(cmd, collapse=' ')\n",
    "bash_job(cmd, conda_env, stderr=TRUE)"
   ]
  },
  {
   "cell_type": "code",
   "execution_count": 60,
   "metadata": {
    "ExecuteTime": {
     "end_time": "2018-04-07T13:04:29.509306Z",
     "start_time": "2018-04-07T13:04:29.499Z"
    }
   },
   "outputs": [
    {
     "data": {
      "text/html": [
       "'anvi-get-sequences-for-hmm-hits -c /ebio/abt3_projects/vadinCA11/data/metagenome/LLMGA/HiSeqRun83-91/anvio/coassemble.db --hmm-source Ribosomal_RNAs --gene Archaeal_16S_rRNA,Archaeal_23S_rRNA,Archaeal_5S_rRNA,Archaeal_5_8S_rRNA -o /ebio/abt3_projects/vadinCA11/data/metagenome/LLMGA/HiSeqRun83-91/summary//archaeal_16SrRNA.fna'"
      ],
      "text/latex": [
       "'anvi-get-sequences-for-hmm-hits -c /ebio/abt3\\_projects/vadinCA11/data/metagenome/LLMGA/HiSeqRun83-91/anvio/coassemble.db --hmm-source Ribosomal\\_RNAs --gene Archaeal\\_16S\\_rRNA,Archaeal\\_23S\\_rRNA,Archaeal\\_5S\\_rRNA,Archaeal\\_5\\_8S\\_rRNA -o /ebio/abt3\\_projects/vadinCA11/data/metagenome/LLMGA/HiSeqRun83-91/summary//archaeal\\_16SrRNA.fna'"
      ],
      "text/markdown": [
       "'anvi-get-sequences-for-hmm-hits -c /ebio/abt3_projects/vadinCA11/data/metagenome/LLMGA/HiSeqRun83-91/anvio/coassemble.db --hmm-source Ribosomal_RNAs --gene Archaeal_16S_rRNA,Archaeal_23S_rRNA,Archaeal_5S_rRNA,Archaeal_5_8S_rRNA -o /ebio/abt3_projects/vadinCA11/data/metagenome/LLMGA/HiSeqRun83-91/summary//archaeal_16SrRNA.fna'"
      ],
      "text/plain": [
       "[1] \"anvi-get-sequences-for-hmm-hits -c /ebio/abt3_projects/vadinCA11/data/metagenome/LLMGA/HiSeqRun83-91/anvio/coassemble.db --hmm-source Ribosomal_RNAs --gene Archaeal_16S_rRNA,Archaeal_23S_rRNA,Archaeal_5S_rRNA,Archaeal_5_8S_rRNA -o /ebio/abt3_projects/vadinCA11/data/metagenome/LLMGA/HiSeqRun83-91/summary//archaeal_16SrRNA.fna\""
      ]
     },
     "metadata": {},
     "output_type": "display_data"
    }
   ],
   "source": [
    "# writing out genes\n",
    "archaeal_rRNA_file = file.path(work_dir, 'archaeal_rRNA.fna')\n",
    "cmd = c(\n",
    "    'anvi-get-sequences-for-hmm-hits',\n",
    "    '-c', contig_db_file, \n",
    "    '--hmm-source Ribosomal_RNAs',\n",
    "    '--gene Archaeal_16S_rRNA,Archaeal_23S_rRNA,Archaeal_5S_rRNA,Archaeal_5_8S_rRNA',\n",
    "    '-o', archaeal_16S_file\n",
    ")\n",
    "cmd = paste(cmd, collapse=' ')\n",
    "cmd\n",
    "#bash_job(cmd, conda_env)"
   ]
  },
  {
   "cell_type": "code",
   "execution_count": 59,
   "metadata": {
    "ExecuteTime": {
     "end_time": "2018-04-07T12:58:50.007569Z",
     "start_time": "2018-04-07T12:57:05.255Z"
    }
   },
   "outputs": [
    {
     "name": "stderr",
     "output_type": "stream",
     "text": [
      "Warning message:\n",
      "“running command ''bash' -c \"source activate anvio; grep \">\" /ebio/abt3_projects/vadinCA11/data/metagenome/LLMGA/HiSeqRun83-91/summary//archaeal_rRNA.fna\" 2>/dev/null' had status 2”"
     ]
    }
   ],
   "source": [
    "# how many sequences?\n",
    "cmd = c('grep', '\">\"', archaeal_rRNA_file)\n",
    "cmd = paste(cmd, collapse=' ')\n",
    "bash_job(cmd, conda_env) %>% paste(collapse='\\n') %>% cat"
   ]
  },
  {
   "cell_type": "code",
   "execution_count": null,
   "metadata": {},
   "outputs": [],
   "source": []
  }
 ],
 "metadata": {
  "kernelspec": {
   "display_name": "R [conda env:py3_physeq]",
   "language": "R",
   "name": "conda-env-py3_physeq-r"
  },
  "language_info": {
   "codemirror_mode": "r",
   "file_extension": ".r",
   "mimetype": "text/x-r-source",
   "name": "R",
   "pygments_lexer": "r",
   "version": "3.4.1"
  },
  "toc": {
   "base_numbering": 1,
   "nav_menu": {},
   "number_sections": true,
   "sideBar": true,
   "skip_h1_title": false,
   "title_cell": "Table of Contents",
   "title_sidebar": "Contents",
   "toc_cell": false,
   "toc_position": {},
   "toc_section_display": "block",
   "toc_window_display": false
  }
 },
 "nbformat": 4,
 "nbformat_minor": 2
}
